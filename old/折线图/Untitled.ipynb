{
 "cells": [
  {
   "cell_type": "code",
   "execution_count": 1,
   "id": "9363fea6-ff11-4538-9f6e-61369d5f9429",
   "metadata": {},
   "outputs": [],
   "source": [
    "import os\n",
    "import pandas as pd\n",
    "import matplotlib.pyplot as plt\n",
    "import networkx as nx\n",
    "import datetime\n",
    "from sklearn.metrics.pairwise import cosine_similarity\n",
    "import matplotlib.pyplot as plt\n",
    "import re\n",
    "import numpy as np\n",
    "from sympy.abc import x\n",
    "from networkx.algorithms.community import greedy_modularity_communities, modularity\n",
    "from tqdm import tqdm\n",
    "from collections import deque\n",
    "import csv \n",
    "from community import best_partition\n",
    "import random\n",
    "import datetime\n",
    "from collections import defaultdict\n",
    "\n",
    "# 常量配置\n",
    "CTWALKS_PARAMS = {\n",
    "    'num_walks': 10,        # 每个时间窗口的随机游走次数\n",
    "    'walk_length': 5,        # 每次游走的步长\n",
    "    'sampling_rate': 0.3,    # 节点采样率\n",
    "    'max_attempts': 3       # 无效节点重试次数\n",
    "}"
   ]
  },
  {
   "cell_type": "code",
   "execution_count": 2,
   "id": "956d60d3-fdec-4d2a-b0ef-63d59a8d719a",
   "metadata": {},
   "outputs": [],
   "source": [
    "G = nx.DiGraph()\n",
    "table = pd.read_csv(\"final_without_quotes.txt\", encoding='utf-8')\n",
    "table = table.iloc[:, 1:]  # 移除第一列（索引列）"
   ]
  },
  {
   "cell_type": "code",
   "execution_count": 3,
   "id": "5d68b4d2-3e9b-4e8d-b491-1cc1a5d1800a",
   "metadata": {},
   "outputs": [],
   "source": [
    "to_drop = []  # 用于存储需要删除的行索引\n",
    "for i in range(len(table)):\n",
    "    try:\n",
    "        table.loc[i, 'raw_value.created_at'] = pd.to_datetime(table.loc[i, 'raw_value.created_at'])\n",
    "    except:\n",
    "        to_drop.append(i)\n",
    "    if isinstance(table.loc[i, 'raw_value.created_at'], datetime.datetime):\n",
    "        pass\n",
    "    else:\n",
    "        to_drop.append(i)\n",
    "\n",
    "    if table.loc[i, 'raw_value.created_at'].tzinfo is not None:\n",
    "        to_drop.append(i)"
   ]
  },
  {
   "cell_type": "code",
   "execution_count": 4,
   "id": "249e1e27-b563-46f4-bcbe-0871690a7075",
   "metadata": {},
   "outputs": [
    {
     "name": "stderr",
     "output_type": "stream",
     "text": [
      "/home/root_gdut/miniconda3/envs/network/lib/python3.9/site-packages/pandas/core/indexes/base.py:7631: FutureWarning: Dtype inference on a pandas object (Series, Index, ExtensionArray) is deprecated. The Index constructor will keep the original dtype in the future. Call `infer_objects` on the result to get the old behavior.\n",
      "  return Index(index_like, name=name, copy=copy)\n"
     ]
    }
   ],
   "source": [
    "table.drop(to_drop, inplace=True)\n",
    "\n",
    "table['raw_value.created_at'].sort_values(ascending=True)\n",
    "table.to_csv(\"final_without_quotes.txt\", encoding='utf-8')\n",
    "table.index = table['raw_value.created_at']\n"
   ]
  },
  {
   "cell_type": "code",
   "execution_count": 5,
   "id": "29d3d533-52d3-499c-8b63-e77179066ea0",
   "metadata": {},
   "outputs": [
    {
     "name": "stderr",
     "output_type": "stream",
     "text": [
      "删除过期节点: 0节点 [00:00, ?节点/s]\n"
     ]
    },
    {
     "ename": "NameError",
     "evalue": "name 'is_valid_id' is not defined",
     "output_type": "error",
     "traceback": [
      "\u001b[0;31m---------------------------------------------------------------------------\u001b[0m",
      "\u001b[0;31mNameError\u001b[0m                                 Traceback (most recent call last)",
      "Cell \u001b[0;32mIn[5], line 39\u001b[0m\n\u001b[1;32m     36\u001b[0m diff \u001b[38;5;241m=\u001b[39m (this_data_datetime \u001b[38;5;241m-\u001b[39m makelist[make_i][\u001b[38;5;124m'\u001b[39m\u001b[38;5;124mcreated_at\u001b[39m\u001b[38;5;124m'\u001b[39m])\u001b[38;5;241m.\u001b[39mdays\n\u001b[1;32m     37\u001b[0m \u001b[38;5;28;01mif\u001b[39;00m diff \u001b[38;5;241m<\u001b[39m date_diff:  \u001b[38;5;66;03m# 如果时间差在范围内\u001b[39;00m\n\u001b[1;32m     38\u001b[0m     \u001b[38;5;66;03m# 回复关系\u001b[39;00m\n\u001b[0;32m---> 39\u001b[0m     \u001b[38;5;28;01mif\u001b[39;00m \u001b[43mis_valid_id\u001b[49m(row[\u001b[38;5;124m'\u001b[39m\u001b[38;5;124mraw_value.in_reply_to_status_id_str\u001b[39m\u001b[38;5;124m'\u001b[39m]):\n\u001b[1;32m     40\u001b[0m         edge_timestamps\u001b[38;5;241m.\u001b[39mappend((makelist[make_i][\u001b[38;5;124m'\u001b[39m\u001b[38;5;124mid\u001b[39m\u001b[38;5;124m'\u001b[39m], row[\u001b[38;5;124m'\u001b[39m\u001b[38;5;124mraw_value.in_reply_to_status_id_str\u001b[39m\u001b[38;5;124m'\u001b[39m], this_data_datetime))\n\u001b[1;32m     41\u001b[0m         G\u001b[38;5;241m.\u001b[39madd_edge(makelist[make_i][\u001b[38;5;124m'\u001b[39m\u001b[38;5;124mid\u001b[39m\u001b[38;5;124m'\u001b[39m], row[\u001b[38;5;124m'\u001b[39m\u001b[38;5;124mraw_value.in_reply_to_status_id_str\u001b[39m\u001b[38;5;124m'\u001b[39m], weight\u001b[38;5;241m=\u001b[39m\u001b[38;5;241m1\u001b[39m, timestamp\u001b[38;5;241m=\u001b[39mthis_data_datetime)\n",
      "\u001b[0;31mNameError\u001b[0m: name 'is_valid_id' is not defined"
     ]
    }
   ],
   "source": [
    "# 定义数据存储结构\n",
    "users = {i: {} for i in set(table['raw_value.user_id_str'].values.tolist())}\n",
    "makelist = {}\n",
    "date_diff = 30  # 时间差阈值（30天）\n",
    "output_dir = \"degree\"\n",
    "edge_timestamps = deque()  # 双端队列缓存边的时间戳和对应的边\n",
    "edge_lifetime = 30  # 边的生命周期 (天)\n",
    "\n",
    "# 用于批量存储index.csv中的数据\n",
    "index_buffer = []  # 用于存储一段时间内的写入数据\n",
    "\n",
    "with open('network_metrics.csv', 'w', newline='', encoding='utf-8') as csvfile:\n",
    "    fieldnames = ['date', 'nodes', 'edges', 'modularity', \n",
    "                 'assortativity', 'intra_ratio', 'inter_ratio']\n",
    "    writer = csv.DictWriter(csvfile, fieldnames=fieldnames)\n",
    "    writer.writeheader()\n",
    "\n",
    "    for w, w_t in table.resample('D'):  # 按天分组\n",
    "        if len(w_t) > 0:  # 如果本天有数据\n",
    "            for index, row in w_t.iterrows():\n",
    "                tweet_id = row['raw_value.id_str']  # 获取推文ID\n",
    "                # 判断推文是否存在交互关系\n",
    "                if row['raw_value.in_reply_to_status_id_str'] or row['raw_value.quoted_status_id_str']:\n",
    "                    this_data_datetime = row['raw_value.created_at']\n",
    "                    \n",
    "                    # 检查用户ID是否为空\n",
    "                    user_id = row['raw_value.user_id_str']\n",
    "                    if pd.isna(user_id) or user_id == \"\":\n",
    "                        continue  # 跳过没有有效用户ID的记录\n",
    "\n",
    "                    # 添加节点到图中\n",
    "                    G.add_node(tweet_id)  # 添加节点到图中\n",
    "\n",
    "                    # 遍历缓存中的推文，寻找交互关系\n",
    "                    for make_i in makelist.keys():\n",
    "                        diff = (this_data_datetime - makelist[make_i]['created_at']).days\n",
    "                        if diff < date_diff:  # 如果时间差在范围内\n",
    "                            # 回复关系\n",
    "                            if is_valid_id(row['raw_value.in_reply_to_status_id_str']):\n",
    "                                edge_timestamps.append((makelist[make_i]['id'], row['raw_value.in_reply_to_status_id_str'], this_data_datetime))\n",
    "                                G.add_edge(makelist[make_i]['id'], row['raw_value.in_reply_to_status_id_str'], weight=1, timestamp=this_data_datetime)\n",
    "\n",
    "                            if is_valid_id(row['raw_value.quoted_status_id_str']):\n",
    "                                edge_timestamps.append((makelist[make_i]['id'], row['raw_value.quoted_status_id_str'], this_data_datetime))\n",
    "                                G.add_edge(makelist[make_i]['id'], row['raw_value.quoted_status_id_str'], weight=1, timestamp=this_data_datetime)\n",
    "\n",
    "            if row['raw_value.user_id_str'] not in makelist:\n",
    "                makelist[row['raw_value.user_id_str']] = {\n",
    "                    'userid': row['raw_value.user_id_str'],\n",
    "                    'id': tweet_id,\n",
    "                    'text': row['raw_value.full_text'],\n",
    "                    'reply': row['raw_value.in_reply_to_status_id_str'],\n",
    "                    'quoted': row['raw_value.quoted_status_id_str'],\n",
    "                    'cleantext': row['raw_value.full_text'],\n",
    "                    'created_at': row['raw_value.created_at']\n",
    "                }\n",
    "\n",
    "            # 删除超过30天的边和节点\n",
    "            to_remove_edges = []\n",
    "            to_remove_nodes = set()  # 用于存储需要删除的节点\n",
    "\n",
    "            # 从双端队列中删除过期的边\n",
    "            while edge_timestamps and (w - edge_timestamps[0][2]).days > edge_lifetime:\n",
    "                edge_start, edge_end, timestamp = edge_timestamps.popleft()\n",
    "                if G.has_edge(edge_start, edge_end):\n",
    "                    G.remove_edge(edge_start, edge_end)\n",
    "                    to_remove_nodes.add(edge_start)\n",
    "                    to_remove_nodes.add(edge_end)\n",
    "                    print(f\"已删除边：{(edge_start, edge_end)}  (时间差超过 {date_diff} 天)\")\n",
    "\n",
    "            # 删除节点\n",
    "            for node in tqdm(to_remove_nodes, desc=\"删除过期节点\", unit=\"节点\"):\n",
    "                if G.has_node(node):\n",
    "                    G.remove_node(node)\n",
    "                    print(f\"已删除节点：{node}  (时间差超过 {date_diff} 天)\")\n",
    "\n",
    "# 计算网络指标\n",
    "            metrics = {\n",
    "                'nodes': G.number_of_nodes(),\n",
    "                'edges': G.number_of_edges()\n",
    "            }\n",
    "            \n",
    "            if metrics['edges'] > 0:\n",
    "                try:\n",
    "                    # 计算模块度\n",
    "                    undirected_G = G.to_undirected()\n",
    "                    partition = best_partition(undirected_G)\n",
    "                    community_dict = defaultdict(set)\n",
    "                    for node, comm_id in partition.items():\n",
    "                        community_dict[comm_id].add(node)\n",
    "                    communities = list(community_dict.values())\n",
    "                    metrics['modularity'] = modularity(undirected_G, communities)\n",
    "                    \n",
    "                    # 计算同配性\n",
    "                    metrics['assortativity'] = nx.degree_assortativity_coefficient(G)\n",
    "                    \n",
    "                    # 计算CTWalks指标\n",
    "                    intra, inter = compute_ctwalks_metrics(G)\n",
    "                    metrics['intra_ratio'] = intra\n",
    "                    metrics['inter_ratio'] = inter\n",
    "                except Exception as e:\n",
    "                    print(f\"指标计算错误: {str(e)}\")\n",
    "                    metrics.update({'modularity': 0, 'assortativity': 0,\n",
    "                                'intra_ratio': 0, 'inter_ratio': 0})\n",
    "            else:\n",
    "                metrics.update({'modularity': 0, 'assortativity': 0,\n",
    "                            'intra_ratio': 0, 'inter_ratio': 0})\n",
    "            # 将指标写入CSV文件\n",
    "            writer.writerow(metrics)\n",
    "\n",
    "# 最终清理\n",
    "G_clean = validate_gexf_attributes(G)\n",
    "nx.write_gexf(G, \"final_network.gexf\")\n",
    "print(\"处理完成。结果保存在network_metrics.csv和network_viz/目录\")"
   ]
  },
  {
   "cell_type": "code",
   "execution_count": null,
   "id": "3c6f2c80-7f9f-41d4-971e-515d5a0d94cb",
   "metadata": {},
   "outputs": [],
   "source": [
    "# 隐式\n",
    "import pandas as pd\n",
    "import os\n",
    "import json\n",
    "import networkx as nx\n",
    "import datetime\n",
    "import torch\n",
    "from networkx.algorithms.community import greedy_modularity_communities, modularity\n",
    "import sympy\n",
    "from collections import deque\n",
    "import numpy as np\n",
    "from tqdm import tqdm\n",
    "import scipy.integrate as integrate\n",
    "import csv \n",
    "def load_vectors(file_path):\n",
    "    vector_dict = {}\n",
    "    with open(file_path, 'r') as file:\n",
    "        for line in file:\n",
    "            parts = line.strip().split(',', 1)  # 按逗号分割，第一部分是推文ID，第二部分是向量\n",
    "            tweet_id = parts[0]  # 获取推文ID\n",
    "            try:\n",
    "                # 将向量部分按空格拆分并转换为浮动数值\n",
    "                vector = np.array([float(x) for x in parts[1].split()])  # 向量部分按空格拆分\n",
    "                vector_dict[tweet_id] = vector\n",
    "            except ValueError as e:\n",
    "                print(f\"无法将以下值转换为浮动数值: {parts[1]}. 错误信息: {e}\")\n",
    "    return vector_dict\n",
    "\n",
    "# 调用方法\n",
    "vector_dict = load_vectors(\"/home/root_gdut/KDD2025/old/embeddin/output_vectors.txt\")\n",
    "print(f\"已加载的推文ID数量: {len(vector_dict)}\")\n",
    "print(f\"部分推文ID: {list(vector_dict.keys())[:10]}\")  # 打印前10个ID"
   ]
  },
  {
   "cell_type": "code",
   "execution_count": 7,
   "id": "7860bfd2-e668-4b2b-a13f-383b1d826538",
   "metadata": {},
   "outputs": [
    {
     "name": "stdout",
     "output_type": "stream",
     "text": [
      "已加载的推文ID数量: 13250\n",
      "部分推文ID: ['1371366321309556736', '1373893479160549376', '1377151142170222592', '1382037657291735040', '1384423637067911168', '1384656967998656512', '1386254705878310912', '1387712331891757056', '1388692619727884288', '1390579956292411392']\n",
      "2025-02-04 04:10:06.267576\n",
      "emotion: -0.3555069863796234 volumn: 0\n"
     ]
    },
    {
     "name": "stderr",
     "output_type": "stream",
     "text": [
      "删除过期节点: 0节点 [00:00, ?节点/s]\n"
     ]
    },
    {
     "name": "stdout",
     "output_type": "stream",
     "text": [
      "emotion: 0.3658796548843384 volumn: 0\n"
     ]
    },
    {
     "name": "stderr",
     "output_type": "stream",
     "text": [
      "删除过期节点: 0节点 [00:00, ?节点/s]\n"
     ]
    },
    {
     "name": "stdout",
     "output_type": "stream",
     "text": [
      "emotion: -0.6165007948875427 volumn: 0\n"
     ]
    },
    {
     "name": "stderr",
     "output_type": "stream",
     "text": [
      "删除过期节点: 0节点 [00:00, ?节点/s]\n"
     ]
    },
    {
     "name": "stdout",
     "output_type": "stream",
     "text": [
      "emotion: 0.3914336860179901 volumn: 0\n"
     ]
    },
    {
     "name": "stderr",
     "output_type": "stream",
     "text": [
      "删除过期节点: 0节点 [00:00, ?节点/s]\n"
     ]
    },
    {
     "name": "stdout",
     "output_type": "stream",
     "text": [
      "emotion: -0.3708657622337341 volumn: 0\n",
      "emotion: 0.6381566226482391 volumn: 0\n"
     ]
    },
    {
     "name": "stderr",
     "output_type": "stream",
     "text": [
      "删除过期节点: 100%|███████████████████████████████████████████████████████████████████████████████████████████████████████████████████████████████████████████████| 1/1 [00:00<00:00, 5983.32节点/s]\n"
     ]
    },
    {
     "name": "stdout",
     "output_type": "stream",
     "text": [
      "已删除节点及其所有边：1371366321309556736  (时间差超过 30 天)\n",
      "emotion: -0.3966473639011383 volumn: 0\n"
     ]
    },
    {
     "name": "stderr",
     "output_type": "stream",
     "text": [
      "删除过期节点: 100%|███████████████████████████████████████████████████████████████████████████████████████████████████████████████████████████████████████████████| 1/1 [00:00<00:00, 7108.99节点/s]\n"
     ]
    },
    {
     "name": "stdout",
     "output_type": "stream",
     "text": [
      "已删除节点及其所有边：1373893479160549376  (时间差超过 30 天)\n",
      "emotion: -0.628227174282074 volumn: 0\n"
     ]
    },
    {
     "name": "stderr",
     "output_type": "stream",
     "text": [
      "删除过期节点: 0节点 [00:00, ?节点/s]\n"
     ]
    },
    {
     "name": "stdout",
     "output_type": "stream",
     "text": [
      "emotion: -0.6524345278739929 volumn: 0\n"
     ]
    },
    {
     "name": "stderr",
     "output_type": "stream",
     "text": [
      "删除过期节点: 100%|███████████████████████████████████████████████████████████████████████████████████████████████████████████████████████████████████████████████| 1/1 [00:00<00:00, 8439.24节点/s]\n"
     ]
    },
    {
     "name": "stdout",
     "output_type": "stream",
     "text": [
      "已删除节点及其所有边：1377151142170222592  (时间差超过 30 天)\n",
      "emotion: 0.3835741579532623 volumn: 0\n",
      "emotion: -0.3985794484615326 volumn: 0\n",
      "emotion: -0.3708158433437347 volumn: 0\n"
     ]
    },
    {
     "name": "stderr",
     "output_type": "stream",
     "text": [
      "删除过期节点: 0节点 [00:00, ?节点/s]\n"
     ]
    },
    {
     "name": "stdout",
     "output_type": "stream",
     "text": [
      "emotion: -0.3606576919555664 volumn: 0\n"
     ]
    },
    {
     "name": "stderr",
     "output_type": "stream",
     "text": [
      "删除过期节点: 100%|██████████████████████████████████████████████████████████████████████████████████████████████████████████████████████████████████████████████| 1/1 [00:00<00:00, 10034.22节点/s]\n"
     ]
    },
    {
     "name": "stdout",
     "output_type": "stream",
     "text": [
      "已删除节点及其所有边：1382037657291735040  (时间差超过 30 天)\n",
      "emotion: 0.3421911597251892 volumn: 0\n"
     ]
    },
    {
     "name": "stderr",
     "output_type": "stream",
     "text": [
      "删除过期节点: 0节点 [00:00, ?节点/s]\n"
     ]
    },
    {
     "name": "stdout",
     "output_type": "stream",
     "text": [
      "emotion: -0.6361742317676544 volumn: 0\n"
     ]
    },
    {
     "name": "stderr",
     "output_type": "stream",
     "text": [
      "删除过期节点: 0节点 [00:00, ?节点/s]\n"
     ]
    },
    {
     "name": "stdout",
     "output_type": "stream",
     "text": [
      "emotion: 0.415587455034256 volumn: 0\n"
     ]
    },
    {
     "name": "stderr",
     "output_type": "stream",
     "text": [
      "删除过期节点: 100%|██████████████████████████████████████████████████████████████████████████████████████████████████████████████████████████████████████████████| 2/2 [00:00<00:00, 19925.43节点/s]\n"
     ]
    },
    {
     "name": "stdout",
     "output_type": "stream",
     "text": [
      "已删除节点及其所有边：1384423637067911168  (时间差超过 30 天)\n",
      "已删除节点及其所有边：1384656967998656512  (时间差超过 30 天)\n",
      "emotion: -0.6645388305187225 volumn: 0\n"
     ]
    },
    {
     "name": "stderr",
     "output_type": "stream",
     "text": [
      "删除过期节点: 100%|███████████████████████████████████████████████████████████████████████████████████████████████████████████████████████████████████████████████| 1/1 [00:00<00:00, 9118.05节点/s]\n"
     ]
    },
    {
     "name": "stdout",
     "output_type": "stream",
     "text": [
      "已删除节点及其所有边：1386254705878310912  (时间差超过 30 天)\n",
      "emotion: 0.3824024796485901 volumn: 0\n"
     ]
    },
    {
     "name": "stderr",
     "output_type": "stream",
     "text": [
      "删除过期节点: 100%|██████████████████████████████████████████████████████████████████████████████████████████████████████████████████████████████████████████████| 2/2 [00:00<00:00, 15505.74节点/s]\n"
     ]
    },
    {
     "name": "stdout",
     "output_type": "stream",
     "text": [
      "已删除节点及其所有边：1387712331891757056  (时间差超过 30 天)\n",
      "已删除节点及其所有边：1388692619727884288  (时间差超过 30 天)\n",
      "emotion: -0.3852679133415222 volumn: 0\n"
     ]
    },
    {
     "name": "stderr",
     "output_type": "stream",
     "text": [
      "删除过期节点: 100%|██████████████████████████████████████████████████████████████████████████████████████████████████████████████████████████████████████████████| 3/3 [00:00<00:00, 22509.68节点/s]\n"
     ]
    },
    {
     "name": "stdout",
     "output_type": "stream",
     "text": [
      "已删除节点及其所有边：1390579956292411392  (时间差超过 30 天)\n",
      "已删除节点及其所有边：1390596292015951872  (时间差超过 30 天)\n",
      "已删除节点及其所有边：1390638082874040320  (时间差超过 30 天)\n",
      "emotion: 0.3529048562049866 volumn: 0\n"
     ]
    },
    {
     "name": "stderr",
     "output_type": "stream",
     "text": [
      "删除过期节点: 0节点 [00:00, ?节点/s]\n"
     ]
    },
    {
     "name": "stdout",
     "output_type": "stream",
     "text": [
      "emotion: 0.4130957722663879 volumn: 0\n"
     ]
    },
    {
     "name": "stderr",
     "output_type": "stream",
     "text": [
      "删除过期节点: 0节点 [00:00, ?节点/s]\n"
     ]
    },
    {
     "name": "stdout",
     "output_type": "stream",
     "text": [
      "emotion: -0.3703547120094299 volumn: 0\n",
      "emotion: -0.3436854779720306 volumn: 0\n"
     ]
    },
    {
     "name": "stderr",
     "output_type": "stream",
     "text": [
      "删除过期节点: 0节点 [00:00, ?节点/s]\n"
     ]
    },
    {
     "name": "stdout",
     "output_type": "stream",
     "text": [
      "emotion: 0.64741051197052 volumn: 0\n",
      "emotion: -0.3564436733722687 volumn: 0\n",
      "emotion: -0.3850529491901397 volumn: 0\n"
     ]
    },
    {
     "name": "stderr",
     "output_type": "stream",
     "text": [
      "删除过期节点: 0节点 [00:00, ?节点/s]\n"
     ]
    },
    {
     "name": "stdout",
     "output_type": "stream",
     "text": [
      "emotion: 0.3397930860519409 volumn: 0\n"
     ]
    },
    {
     "name": "stderr",
     "output_type": "stream",
     "text": [
      "删除过期节点: 100%|██████████████████████████████████████████████████████████████████████████████████████████████████████████████████████████████████████████████| 1/1 [00:00<00:00, 11915.64节点/s]\n"
     ]
    },
    {
     "name": "stdout",
     "output_type": "stream",
     "text": [
      "已删除节点及其所有边：1393609127851483136  (时间差超过 30 天)\n",
      "emotion: -0.3429157435894012 volumn: 0\n"
     ]
    },
    {
     "name": "stderr",
     "output_type": "stream",
     "text": [
      "删除过期节点: 0节点 [00:00, ?节点/s]\n"
     ]
    },
    {
     "name": "stdout",
     "output_type": "stream",
     "text": [
      "emotion: 0.372592031955719 volumn: 0\n"
     ]
    },
    {
     "name": "stderr",
     "output_type": "stream",
     "text": [
      "删除过期节点: 0节点 [00:00, ?节点/s]\n"
     ]
    },
    {
     "name": "stdout",
     "output_type": "stream",
     "text": [
      "emotion: 0.3470121026039123 volumn: 0\n",
      "emotion: -0.3592090010643005 volumn: 0\n",
      "emotion: -0.3739258348941803 volumn: 0\n",
      "emotion: -0.402559757232666 volumn: 0\n",
      "emotion: -0.3536927402019501 volumn: 0\n",
      "emotion: -0.4243009388446808 volumn: 0\n",
      "emotion: -0.3672443926334381 volumn: 0\n",
      "emotion: 0.3785542249679565 volumn: 0\n",
      "emotion: -0.6305619478225708 volumn: 0\n",
      "emotion: -0.3529573678970337 volumn: 0\n",
      "emotion: -0.4133960604667663 volumn: 0\n",
      "emotion: -0.4784101843833923 volumn: 0\n"
     ]
    },
    {
     "name": "stderr",
     "output_type": "stream",
     "text": [
      "删除过期节点: 100%|██████████████████████████████████████████████████████████████████████████████████████████████████████████████████████████████████████████████| 2/2 [00:00<00:00, 27147.60节点/s]\n"
     ]
    },
    {
     "name": "stdout",
     "output_type": "stream",
     "text": [
      "已删除节点及其所有边：1395331043998175232  (时间差超过 30 天)\n",
      "已删除节点及其所有边：1395648583647563776  (时间差超过 30 天)\n",
      "emotion: -0.6259638369083405 volumn: 0\n",
      "emotion: 0.3899286687374115 volumn: 0\n"
     ]
    },
    {
     "name": "stderr",
     "output_type": "stream",
     "text": [
      "删除过期节点: 0节点 [00:00, ?节点/s]\n"
     ]
    },
    {
     "name": "stdout",
     "output_type": "stream",
     "text": [
      "emotion: 0.6452790796756744 volumn: 0\n",
      "emotion: 0.3741830885410309 volumn: 0\n",
      "emotion: -0.3877680599689483 volumn: 0\n"
     ]
    },
    {
     "name": "stderr",
     "output_type": "stream",
     "text": [
      "删除过期节点: 0节点 [00:00, ?节点/s]\n"
     ]
    },
    {
     "name": "stdout",
     "output_type": "stream",
     "text": [
      "emotion: -0.6338955760002136 volumn: 0\n"
     ]
    },
    {
     "name": "stderr",
     "output_type": "stream",
     "text": [
      "删除过期节点: 100%|██████████████████████████████████████████████████████████████████████████████████████████████████████████████████████████████████████████████| 1/1 [00:00<00:00, 16194.22节点/s]"
     ]
    },
    {
     "name": "stdout",
     "output_type": "stream",
     "text": [
      "已删除节点及其所有边：1396672334870818816  (时间差超过 30 天)\n"
     ]
    },
    {
     "name": "stderr",
     "output_type": "stream",
     "text": [
      "\n"
     ]
    },
    {
     "name": "stdout",
     "output_type": "stream",
     "text": [
      "emotion: -0.6312814652919769 volumn: 0\n"
     ]
    },
    {
     "name": "stderr",
     "output_type": "stream",
     "text": [
      "删除过期节点: 100%|██████████████████████████████████████████████████████████████████████████████████████████████████████████████████████████████████████████████| 1/1 [00:00<00:00, 14926.35节点/s]\n"
     ]
    },
    {
     "name": "stdout",
     "output_type": "stream",
     "text": [
      "已删除节点及其所有边：1397818887761240064  (时间差超过 30 天)\n",
      "emotion: 0.6454445719718933 volumn: 0\n"
     ]
    },
    {
     "name": "stderr",
     "output_type": "stream",
     "text": [
      "删除过期节点: 0节点 [00:00, ?节点/s]\n"
     ]
    },
    {
     "name": "stdout",
     "output_type": "stream",
     "text": [
      "emotion: -0.6453981697559357 volumn: 0\n",
      "emotion: 0.6321450471878052 volumn: 0\n",
      "emotion: -0.3980684578418731 volumn: 0\n",
      "emotion: 0.6272379457950592 volumn: 0\n"
     ]
    },
    {
     "name": "stderr",
     "output_type": "stream",
     "text": [
      "删除过期节点: 0节点 [00:00, ?节点/s]\n"
     ]
    },
    {
     "name": "stdout",
     "output_type": "stream",
     "text": [
      "emotion: -0.3673356175422668 volumn: 0\n"
     ]
    },
    {
     "name": "stderr",
     "output_type": "stream",
     "text": [
      "删除过期节点: 0节点 [00:00, ?节点/s]\n"
     ]
    },
    {
     "name": "stdout",
     "output_type": "stream",
     "text": [
      "emotion: -0.6310142874717712 volumn: 0\n"
     ]
    },
    {
     "name": "stderr",
     "output_type": "stream",
     "text": [
      "删除过期节点: 0节点 [00:00, ?节点/s]\n"
     ]
    },
    {
     "name": "stdout",
     "output_type": "stream",
     "text": [
      "emotion: -0.3648363053798675 volumn: 0\n"
     ]
    },
    {
     "name": "stderr",
     "output_type": "stream",
     "text": [
      "删除过期节点: 0节点 [00:00, ?节点/s]\n"
     ]
    },
    {
     "name": "stdout",
     "output_type": "stream",
     "text": [
      "emotion: -0.3905583322048187 volumn: 0\n",
      "emotion: -0.5923453569412231 volumn: 0\n",
      "emotion: 0.6136045157909393 volumn: 0\n"
     ]
    },
    {
     "name": "stderr",
     "output_type": "stream",
     "text": [
      "删除过期节点: 0节点 [00:00, ?节点/s]\n"
     ]
    },
    {
     "name": "stdout",
     "output_type": "stream",
     "text": [
      "emotion: -0.6151562035083771 volumn: 0\n"
     ]
    },
    {
     "name": "stderr",
     "output_type": "stream",
     "text": [
      "删除过期节点: 100%|██████████████████████████████████████████████████████████████████████████████████████████████████████████████████████████████████████████████| 1/1 [00:00<00:00, 15534.46节点/s]\n"
     ]
    },
    {
     "name": "stdout",
     "output_type": "stream",
     "text": [
      "已删除节点及其所有边：1401749787834265600  (时间差超过 30 天)\n",
      "emotion: 0.354922741651535 volumn: 0\n"
     ]
    },
    {
     "name": "stderr",
     "output_type": "stream",
     "text": [
      "删除过期节点: 100%|██████████████████████████████████████████████████████████████████████████████████████████████████████████████████████████████████████████████| 1/1 [00:00<00:00, 15141.89节点/s]\n"
     ]
    },
    {
     "name": "stdout",
     "output_type": "stream",
     "text": [
      "已删除节点及其所有边：1402536231720960000  (时间差超过 30 天)\n",
      "emotion: -0.3990322053432464 volumn: 0\n",
      "emotion: -0.6501630246639252 volumn: 0\n",
      "emotion: -0.4014091491699219 volumn: 0\n",
      "emotion: 0.626763105392456 volumn: 0\n"
     ]
    },
    {
     "name": "stderr",
     "output_type": "stream",
     "text": [
      "删除过期节点: 100%|██████████████████████████████████████████████████████████████████████████████████████████████████████████████████████████████████████████████| 1/1 [00:00<00:00, 12787.51节点/s]"
     ]
    },
    {
     "name": "stdout",
     "output_type": "stream",
     "text": [
      "已删除节点及其所有边：1403271527974514688  (时间差超过 30 天)\n",
      "emotion: -0.4193141758441925 volumn: 0\n"
     ]
    },
    {
     "name": "stderr",
     "output_type": "stream",
     "text": [
      "\n"
     ]
    },
    {
     "name": "stdout",
     "output_type": "stream",
     "text": [
      "emotion: 0.3578322231769562 volumn: 0\n"
     ]
    },
    {
     "name": "stderr",
     "output_type": "stream",
     "text": [
      "删除过期节点: 100%|██████████████████████████████████████████████████████████████████████████████████████████████████████████████████████████████████████████████| 3/3 [00:00<00:00, 37227.55节点/s]\n"
     ]
    },
    {
     "name": "stdout",
     "output_type": "stream",
     "text": [
      "已删除节点及其所有边：1404182820604448768  (时间差超过 30 天)\n",
      "已删除节点及其所有边：1404243216585613312  (时间差超过 30 天)\n",
      "已删除节点及其所有边：1404413323018375168  (时间差超过 30 天)\n",
      "emotion: -0.3497015535831451 volumn: 0\n"
     ]
    },
    {
     "name": "stderr",
     "output_type": "stream",
     "text": [
      "删除过期节点: 100%|██████████████████████████████████████████████████████████████████████████████████████████████████████████████████████████████████████████████| 3/3 [00:00<00:00, 37117.73节点/s]\n"
     ]
    },
    {
     "name": "stdout",
     "output_type": "stream",
     "text": [
      "已删除节点及其所有边：1404684133109010432  (时间差超过 30 天)\n",
      "已删除节点及其所有边：1404743294379347968  (时间差超过 30 天)\n",
      "已删除节点及其所有边：1404792549399838720  (时间差超过 30 天)\n",
      "emotion: -0.639441579580307 volumn: 0\n"
     ]
    },
    {
     "name": "stderr",
     "output_type": "stream",
     "text": [
      "删除过期节点: 100%|██████████████████████████████████████████████████████████████████████████████████████████████████████████████████████████████████████████████| 1/1 [00:00<00:00, 15307.68节点/s]"
     ]
    },
    {
     "name": "stdout",
     "output_type": "stream",
     "text": [
      "已删除节点及其所有边：1405113803604377600  (时间差超过 30 天)\n"
     ]
    },
    {
     "name": "stderr",
     "output_type": "stream",
     "text": [
      "\n"
     ]
    },
    {
     "name": "stdout",
     "output_type": "stream",
     "text": [
      "emotion: 0.391580194234848 volumn: 0\n",
      "emotion: 0.3658389449119568 volumn: 0\n",
      "emotion: -0.356489360332489 volumn: 0\n",
      "emotion: -0.3536203503608703 volumn: 0\n",
      "emotion: -0.3694972991943359 volumn: 0\n"
     ]
    },
    {
     "name": "stderr",
     "output_type": "stream",
     "text": [
      "删除过期节点: 100%|██████████████████████████████████████████████████████████████████████████████████████████████████████████████████████████████████████████████| 1/1 [00:00<00:00, 15252.01节点/s]\n"
     ]
    },
    {
     "name": "stdout",
     "output_type": "stream",
     "text": [
      "已删除节点及其所有边：1405554807172218880  (时间差超过 30 天)\n",
      "emotion: -0.6440217196941376 volumn: 0\n",
      "emotion: 0.3539034128189087 volumn: 0\n",
      "emotion: 0.3598154187202453 volumn: 0\n",
      "emotion: -0.3990233838558197 volumn: 0\n",
      "emotion: -0.4174287021160126 volumn: 0\n",
      "emotion: -0.3989861905574798 volumn: 0\n"
     ]
    },
    {
     "name": "stderr",
     "output_type": "stream",
     "text": [
      "删除过期节点: 100%|██████████████████████████████████████████████████████████████████████████████████████████████████████████████████████████████████████████████| 1/1 [00:00<00:00, 15947.92节点/s]"
     ]
    },
    {
     "name": "stdout",
     "output_type": "stream",
     "text": [
      "已删除节点及其所有边：1406060925195411712  (时间差超过 30 天)\n"
     ]
    },
    {
     "name": "stderr",
     "output_type": "stream",
     "text": [
      "\n"
     ]
    },
    {
     "name": "stdout",
     "output_type": "stream",
     "text": [
      "emotion: 0.3689823448657989 volumn: 0\n",
      "emotion: 0.3502058982849121 volumn: 0\n",
      "emotion: -0.3724751472473144 volumn: 0\n"
     ]
    },
    {
     "name": "stderr",
     "output_type": "stream",
     "text": [
      "删除过期节点: 0节点 [00:00, ?节点/s]\n"
     ]
    },
    {
     "name": "stdout",
     "output_type": "stream",
     "text": [
      "emotion: -0.3921245038509369 volumn: 0\n",
      "emotion: 0.6484168469905853 volumn: 0\n",
      "emotion: -0.3730448484420776 volumn: 0\n",
      "emotion: -0.3798119723796844 volumn: 0\n",
      "emotion: 0.6521996259689331 volumn: 0\n",
      "emotion: 0.3733892738819122 volumn: 0\n",
      "emotion: -0.3947193622589111 volumn: 0\n",
      "emotion: -0.6489298939704895 volumn: 0\n",
      "emotion: 0.3527778089046478 volumn: 0\n",
      "emotion: 0.6573146879673004 volumn: 0\n",
      "emotion: -0.3405756652355194 volumn: 0\n",
      "emotion: 0.3548319637775421 volumn: 0\n",
      "emotion: -0.6075567305088043 volumn: 0\n"
     ]
    },
    {
     "name": "stderr",
     "output_type": "stream",
     "text": [
      "删除过期节点: 0节点 [00:00, ?节点/s]\n"
     ]
    },
    {
     "name": "stdout",
     "output_type": "stream",
     "text": [
      "emotion: -0.3596267104148865 volumn: 0\n",
      "emotion: -0.6542282104492188 volumn: 0\n",
      "emotion: 0.352944552898407 volumn: 0\n"
     ]
    },
    {
     "name": "stderr",
     "output_type": "stream",
     "text": [
      "/home/root_gdut/miniconda3/envs/network/lib/python3.9/site-packages/networkx/algorithms/assortativity/correlation.py:302: RuntimeWarning: invalid value encountered in scalar divide\n",
      "  return (xy * (M - ab)).sum() / np.sqrt(vara * varb)\n"
     ]
    },
    {
     "name": "stdout",
     "output_type": "stream",
     "text": [
      "emotion: 0.3801044523715973 volumn: 0\n"
     ]
    },
    {
     "name": "stderr",
     "output_type": "stream",
     "text": [
      "删除过期节点: 100%|████████████████████████████████████████████████████████████████████████████████████████████████████████████████████████████████████████████| 12/12 [00:00<00:00, 87533.30节点/s]"
     ]
    },
    {
     "name": "stdout",
     "output_type": "stream",
     "text": [
      "已删除节点及其所有边：1407228147733602304  (时间差超过 30 天)\n",
      "已删除节点及其所有边：1407230633349353472  (时间差超过 30 天)\n",
      "已删除节点及其所有边：1407275685513728000  (时间差超过 30 天)\n",
      "已删除节点及其所有边：1407276393751355392  (时间差超过 30 天)\n",
      "已删除节点及其所有边：1407247043970621440  (时间差超过 30 天)\n",
      "已删除节点及其所有边：1407277075594199040  (时间差超过 30 天)\n",
      "已删除节点及其所有边：1407282735417282560  (时间差超过 30 天)\n",
      "已删除节点及其所有边：1407282879533662208  (时间差超过 30 天)\n",
      "已删除节点及其所有边：1407283903434563584  (时间差超过 30 天)\n",
      "已删除节点及其所有边：1407287500100575232  (时间差超过 30 天)\n",
      "已删除节点及其所有边：1407287898324574208  (时间差超过 30 天)\n",
      "已删除节点及其所有边：1407288100833820672  (时间差超过 30 天)\n"
     ]
    },
    {
     "name": "stderr",
     "output_type": "stream",
     "text": [
      "\n",
      "/home/root_gdut/miniconda3/envs/network/lib/python3.9/site-packages/networkx/algorithms/assortativity/correlation.py:302: RuntimeWarning: invalid value encountered in scalar divide\n",
      "  return (xy * (M - ab)).sum() / np.sqrt(vara * varb)\n"
     ]
    },
    {
     "name": "stdout",
     "output_type": "stream",
     "text": [
      "emotion: 0.3699676394462585 volumn: 0\n",
      "emotion: 0.368931770324707 volumn: 0\n",
      "emotion: -0.3793791234493255 volumn: 0\n"
     ]
    },
    {
     "name": "stderr",
     "output_type": "stream",
     "text": [
      "删除过期节点: 100%|██████████████████████████████████████████████████████████████████████████████████████████████████████████████████████████████████████████████| 2/2 [00:00<00:00, 27060.03节点/s]"
     ]
    },
    {
     "name": "stdout",
     "output_type": "stream",
     "text": [
      "已删除节点及其所有边：1407646047938174976  (时间差超过 30 天)\n",
      "已删除节点及其所有边：1407725745779130368  (时间差超过 30 天)\n"
     ]
    },
    {
     "name": "stderr",
     "output_type": "stream",
     "text": [
      "\n",
      "/home/root_gdut/miniconda3/envs/network/lib/python3.9/site-packages/networkx/algorithms/assortativity/correlation.py:302: RuntimeWarning: invalid value encountered in scalar divide\n",
      "  return (xy * (M - ab)).sum() / np.sqrt(vara * varb)\n"
     ]
    },
    {
     "name": "stdout",
     "output_type": "stream",
     "text": [
      "emotion: 0.3701923787593841 volumn: 0\n",
      "emotion: 0.6347877979278564 volumn: 0\n",
      "emotion: -0.4438150227069855 volumn: 0\n",
      "emotion: -0.3737712502479553 volumn: 0\n",
      "emotion: -0.3522440195083618 volumn: 0\n"
     ]
    },
    {
     "name": "stderr",
     "output_type": "stream",
     "text": [
      "删除过期节点: 100%|██████████████████████████████████████████████████████████████████████████████████████████████████████████████████████████████████████████████| 3/3 [00:00<00:00, 37117.73节点/s]\n"
     ]
    },
    {
     "name": "stdout",
     "output_type": "stream",
     "text": [
      "已删除节点及其所有边：1407995060952633088  (时间差超过 30 天)\n",
      "已删除节点及其所有边：1408019347931643904  (时间差超过 30 天)\n",
      "已删除节点及其所有边：1408060543789715712  (时间差超过 30 天)\n"
     ]
    },
    {
     "name": "stderr",
     "output_type": "stream",
     "text": [
      "/home/root_gdut/miniconda3/envs/network/lib/python3.9/site-packages/networkx/algorithms/assortativity/correlation.py:302: RuntimeWarning: invalid value encountered in scalar divide\n",
      "  return (xy * (M - ab)).sum() / np.sqrt(vara * varb)\n"
     ]
    },
    {
     "name": "stdout",
     "output_type": "stream",
     "text": [
      "emotion: -0.3737712502479553 volumn: 0\n",
      "emotion: -0.6289976537227631 volumn: 0\n",
      "emotion: -0.6201058626174927 volumn: 0\n",
      "emotion: -0.3750945925712585 volumn: 0\n",
      "emotion: 0.3582515120506286 volumn: 0\n",
      "emotion: 0.3753618001937866 volumn: 0\n",
      "emotion: 0.6389199793338776 volumn: 0\n",
      "emotion: -0.4103010296821594 volumn: 0\n"
     ]
    },
    {
     "name": "stderr",
     "output_type": "stream",
     "text": [
      "删除过期节点: 100%|██████████████████████████████████████████████████████████████████████████████████████████████████████████████████████████████████████████████| 1/1 [00:00<00:00, 15420.24节点/s]\n"
     ]
    },
    {
     "name": "stdout",
     "output_type": "stream",
     "text": [
      "已删除节点及其所有边：1408395261605470208  (时间差超过 30 天)\n"
     ]
    },
    {
     "name": "stderr",
     "output_type": "stream",
     "text": [
      "/home/root_gdut/miniconda3/envs/network/lib/python3.9/site-packages/networkx/algorithms/assortativity/correlation.py:302: RuntimeWarning: invalid value encountered in scalar divide\n",
      "  return (xy * (M - ab)).sum() / np.sqrt(vara * varb)\n"
     ]
    },
    {
     "name": "stdout",
     "output_type": "stream",
     "text": [
      "emotion: -0.4060207009315491 volumn: 0\n",
      "emotion: 0.3816307187080383 volumn: 0\n",
      "emotion: 0.3634314835071563 volumn: 0\n",
      "emotion: 0.3773980140686035 volumn: 0\n",
      "emotion: -0.3450385332107544 volumn: 0\n",
      "emotion: -0.4382800459861755 volumn: 0\n",
      "emotion: -0.3815600275993347 volumn: 0\n",
      "emotion: -0.3829110860824585 volumn: 0\n"
     ]
    },
    {
     "name": "stderr",
     "output_type": "stream",
     "text": [
      "删除过期节点: 0节点 [00:00, ?节点/s]\n",
      "/home/root_gdut/miniconda3/envs/network/lib/python3.9/site-packages/networkx/algorithms/assortativity/correlation.py:302: RuntimeWarning: invalid value encountered in scalar divide\n",
      "  return (xy * (M - ab)).sum() / np.sqrt(vara * varb)\n"
     ]
    },
    {
     "name": "stdout",
     "output_type": "stream",
     "text": [
      "emotion: -0.4013428390026092 volumn: 0\n",
      "emotion: 0.3826899230480194 volumn: 0\n",
      "emotion: -0.6067622303962708 volumn: 0\n",
      "emotion: -0.6474710404872894 volumn: 0\n",
      "emotion: 0.6086390018463135 volumn: 0\n",
      "emotion: 0.6177352964878082 volumn: 0\n"
     ]
    },
    {
     "name": "stderr",
     "output_type": "stream",
     "text": [
      "删除过期节点: 0节点 [00:00, ?节点/s]\n",
      "/home/root_gdut/miniconda3/envs/network/lib/python3.9/site-packages/networkx/algorithms/assortativity/correlation.py:302: RuntimeWarning: invalid value encountered in scalar divide\n",
      "  return (xy * (M - ab)).sum() / np.sqrt(vara * varb)\n"
     ]
    },
    {
     "name": "stdout",
     "output_type": "stream",
     "text": [
      "emotion: 0.3792576491832733 volumn: 0\n"
     ]
    },
    {
     "name": "stderr",
     "output_type": "stream",
     "text": [
      "删除过期节点: 100%|██████████████████████████████████████████████████████████████████████████████████████████████████████████████████████████████████████████████| 1/1 [00:00<00:00, 15033.35节点/s]\n"
     ]
    },
    {
     "name": "stdout",
     "output_type": "stream",
     "text": [
      "已删除节点及其所有边：1409375279987015680  (时间差超过 30 天)\n"
     ]
    },
    {
     "name": "stderr",
     "output_type": "stream",
     "text": [
      "/home/root_gdut/miniconda3/envs/network/lib/python3.9/site-packages/networkx/algorithms/assortativity/correlation.py:302: RuntimeWarning: invalid value encountered in scalar divide\n",
      "  return (xy * (M - ab)).sum() / np.sqrt(vara * varb)\n"
     ]
    },
    {
     "name": "stdout",
     "output_type": "stream",
     "text": [
      "emotion: -0.6476057171821594 volumn: 0\n",
      "emotion: 0.3753343820571899 volumn: 0\n",
      "emotion: 0.3663128316402435 volumn: 0\n",
      "emotion: 0.3890646696090698 volumn: 0\n",
      "emotion: -0.3622020483016968 volumn: 0\n",
      "emotion: -0.3588032722473144 volumn: 0\n"
     ]
    },
    {
     "name": "stderr",
     "output_type": "stream",
     "text": [
      "删除过期节点: 100%|██████████████████████████████████████████████████████████████████████████████████████████████████████████████████████████████████████████████| 1/1 [00:00<00:00, 15477.14节点/s]\n"
     ]
    },
    {
     "name": "stdout",
     "output_type": "stream",
     "text": [
      "已删除节点及其所有边：1409754045183574016  (时间差超过 30 天)\n"
     ]
    },
    {
     "name": "stderr",
     "output_type": "stream",
     "text": [
      "/home/root_gdut/miniconda3/envs/network/lib/python3.9/site-packages/networkx/algorithms/assortativity/correlation.py:302: RuntimeWarning: invalid value encountered in scalar divide\n",
      "  return (xy * (M - ab)).sum() / np.sqrt(vara * varb)\n"
     ]
    },
    {
     "name": "stdout",
     "output_type": "stream",
     "text": [
      "emotion: 0.3783864378929138 volumn: 0\n",
      "emotion: 0.6455928385257721 volumn: 0\n",
      "emotion: 0.5872052013874054 volumn: 0\n",
      "emotion: 0.5990046858787537 volumn: 0\n",
      "emotion: -0.3646625876426697 volumn: 0\n"
     ]
    },
    {
     "name": "stderr",
     "output_type": "stream",
     "text": [
      "删除过期节点: 0节点 [00:00, ?节点/s]\n",
      "/home/root_gdut/miniconda3/envs/network/lib/python3.9/site-packages/networkx/algorithms/assortativity/correlation.py:302: RuntimeWarning: invalid value encountered in scalar divide\n",
      "  return (xy * (M - ab)).sum() / np.sqrt(vara * varb)\n"
     ]
    },
    {
     "name": "stdout",
     "output_type": "stream",
     "text": [
      "已批量写入 0 条数据到 index.csv\n",
      "emotion: 0.3822594881057739 volumn: 0\n",
      "emotion: 0.6414183080196381 volumn: 0\n",
      "emotion: -0.3578415215015411 volumn: 0\n",
      "emotion: -0.3614228367805481 volumn: 0\n",
      "emotion: -0.3512510657310486 volumn: 0\n",
      "emotion: -0.3637133538722992 volumn: 0\n",
      "emotion: -0.3789872527122497 volumn: 0\n"
     ]
    },
    {
     "name": "stderr",
     "output_type": "stream",
     "text": [
      "删除过期节点: 100%|██████████████████████████████████████████████████████████████████████████████████████████████████████████████████████████████████████████████| 4/4 [00:00<00:00, 38043.57节点/s]\n"
     ]
    },
    {
     "name": "stdout",
     "output_type": "stream",
     "text": [
      "已删除节点及其所有边：1410805963494510592  (时间差超过 30 天)\n",
      "已删除节点及其所有边：1410844990712995840  (时间差超过 30 天)\n",
      "已删除节点及其所有边：1410863597014732800  (时间差超过 30 天)\n",
      "已删除节点及其所有边：1410977913718124288  (时间差超过 30 天)\n"
     ]
    },
    {
     "name": "stderr",
     "output_type": "stream",
     "text": [
      "/home/root_gdut/miniconda3/envs/network/lib/python3.9/site-packages/networkx/algorithms/assortativity/correlation.py:302: RuntimeWarning: invalid value encountered in scalar divide\n",
      "  return (xy * (M - ab)).sum() / np.sqrt(vara * varb)\n"
     ]
    },
    {
     "name": "stdout",
     "output_type": "stream",
     "text": [
      "emotion: -0.5992773473262787 volumn: 0\n",
      "emotion: 0.3844308257102966 volumn: 0\n",
      "emotion: -0.3413408100605011 volumn: 0\n",
      "emotion: 0.3369843065738678 volumn: 0\n"
     ]
    },
    {
     "name": "stderr",
     "output_type": "stream",
     "text": [
      "删除过期节点: 0节点 [00:00, ?节点/s]\n",
      "/home/root_gdut/miniconda3/envs/network/lib/python3.9/site-packages/networkx/algorithms/assortativity/correlation.py:302: RuntimeWarning: invalid value encountered in scalar divide\n",
      "  return (xy * (M - ab)).sum() / np.sqrt(vara * varb)\n"
     ]
    },
    {
     "name": "stdout",
     "output_type": "stream",
     "text": [
      "emotion: 0.3647442460060119 volumn: 0\n",
      "emotion: 0.3901952505111694 volumn: 0\n",
      "emotion: -0.357922226190567 volumn: 0\n",
      "emotion: 0.37567138671875 volumn: 0\n",
      "emotion: -0.364810436964035 volumn: 0\n",
      "emotion: -0.6226359903812408 volumn: 0\n",
      "emotion: -0.3601416349411011 volumn: 0\n"
     ]
    },
    {
     "name": "stderr",
     "output_type": "stream",
     "text": [
      "删除过期节点: 0节点 [00:00, ?节点/s]\n",
      "/home/root_gdut/miniconda3/envs/network/lib/python3.9/site-packages/networkx/algorithms/assortativity/correlation.py:302: RuntimeWarning: invalid value encountered in scalar divide\n",
      "  return (xy * (M - ab)).sum() / np.sqrt(vara * varb)\n"
     ]
    },
    {
     "name": "stdout",
     "output_type": "stream",
     "text": [
      "emotion: 0.390099823474884 volumn: 0\n",
      "emotion: -0.355690062046051 volumn: 0\n",
      "emotion: -0.4876376986503601 volumn: 0\n",
      "emotion: -0.3899402916431427 volumn: 0\n",
      "emotion: -0.4158849120140075 volumn: 0\n",
      "emotion: 0.3766258955001831 volumn: 0\n",
      "emotion: 0.6322079002857208 volumn: 0\n"
     ]
    },
    {
     "name": "stderr",
     "output_type": "stream",
     "text": [
      "删除过期节点: 100%|██████████████████████████████████████████████████████████████████████████████████████████████████████████████████████████████████████████████| 1/1 [00:00<00:00, 15592.21节点/s]\n"
     ]
    },
    {
     "name": "stdout",
     "output_type": "stream",
     "text": [
      "已删除节点及其所有边：1412083312399581184  (时间差超过 30 天)\n"
     ]
    },
    {
     "name": "stderr",
     "output_type": "stream",
     "text": [
      "/home/root_gdut/miniconda3/envs/network/lib/python3.9/site-packages/networkx/algorithms/assortativity/correlation.py:302: RuntimeWarning: invalid value encountered in scalar divide\n",
      "  return (xy * (M - ab)).sum() / np.sqrt(vara * varb)\n"
     ]
    },
    {
     "name": "stdout",
     "output_type": "stream",
     "text": [
      "emotion: -0.6510810256004333 volumn: 0\n",
      "emotion: 0.3769634068012237 volumn: 0\n",
      "emotion: 0.6383033990859985 volumn: 0\n",
      "emotion: 0.3871768414974212 volumn: 0\n"
     ]
    },
    {
     "name": "stderr",
     "output_type": "stream",
     "text": [
      "删除过期节点: 100%|██████████████████████████████████████████████████████████████████████████████████████████████████████████████████████████████████████████████| 1/1 [00:00<00:00, 15947.92节点/s]\n"
     ]
    },
    {
     "name": "stdout",
     "output_type": "stream",
     "text": [
      "已删除节点及其所有边：1412431915387265024  (时间差超过 30 天)\n"
     ]
    },
    {
     "name": "stderr",
     "output_type": "stream",
     "text": [
      "/home/root_gdut/miniconda3/envs/network/lib/python3.9/site-packages/networkx/algorithms/assortativity/correlation.py:302: RuntimeWarning: invalid value encountered in scalar divide\n",
      "  return (xy * (M - ab)).sum() / np.sqrt(vara * varb)\n"
     ]
    },
    {
     "name": "stdout",
     "output_type": "stream",
     "text": [
      "emotion: 0.6529419720172882 volumn: 0\n",
      "emotion: -0.3552965521812439 volumn: 0\n"
     ]
    },
    {
     "name": "stderr",
     "output_type": "stream",
     "text": [
      "删除过期节点: 100%|██████████████████████████████████████████████████████████████████████████████████████████████████████████████████████████████████████████████| 1/1 [00:00<00:00, 15141.89节点/s]\n"
     ]
    },
    {
     "name": "stdout",
     "output_type": "stream",
     "text": [
      "已删除节点及其所有边：1412845012627431424  (时间差超过 30 天)\n"
     ]
    },
    {
     "name": "stderr",
     "output_type": "stream",
     "text": [
      "/home/root_gdut/miniconda3/envs/network/lib/python3.9/site-packages/networkx/algorithms/assortativity/correlation.py:302: RuntimeWarning: invalid value encountered in scalar divide\n",
      "  return (xy * (M - ab)).sum() / np.sqrt(vara * varb)\n"
     ]
    },
    {
     "name": "stdout",
     "output_type": "stream",
     "text": [
      "emotion: -0.3801559507846832 volumn: 0\n",
      "emotion: 0.3806708753108978 volumn: 0\n",
      "emotion: -0.4077927768230438 volumn: 0\n",
      "emotion: -0.3938230872154236 volumn: 0\n",
      "emotion: 0.6389472782611847 volumn: 0\n",
      "emotion: -0.6283381879329681 volumn: 0\n"
     ]
    },
    {
     "name": "stderr",
     "output_type": "stream",
     "text": [
      "删除过期节点: 100%|██████████████████████████████████████████████████████████████████████████████████████████████████████████████████████████████████████████████| 3/3 [00:00<00:00, 38130.04节点/s]\n"
     ]
    },
    {
     "name": "stdout",
     "output_type": "stream",
     "text": [
      "已删除节点及其所有边：1413234822890274816  (时间差超过 30 天)\n",
      "已删除节点及其所有边：1413235417646776320  (时间差超过 30 天)\n",
      "已删除节点及其所有边：1413236266909511680  (时间差超过 30 天)\n"
     ]
    },
    {
     "name": "stderr",
     "output_type": "stream",
     "text": [
      "/home/root_gdut/miniconda3/envs/network/lib/python3.9/site-packages/networkx/algorithms/assortativity/correlation.py:302: RuntimeWarning: invalid value encountered in scalar divide\n",
      "  return (xy * (M - ab)).sum() / np.sqrt(vara * varb)\n"
     ]
    },
    {
     "name": "stdout",
     "output_type": "stream",
     "text": [
      "emotion: 0.3749578893184662 volumn: 0\n",
      "emotion: 0.3565076887607574 volumn: 0\n"
     ]
    },
    {
     "name": "stderr",
     "output_type": "stream",
     "text": [
      "删除过期节点: 0节点 [00:00, ?节点/s]\n",
      "/home/root_gdut/miniconda3/envs/network/lib/python3.9/site-packages/networkx/algorithms/assortativity/correlation.py:302: RuntimeWarning: invalid value encountered in scalar divide\n",
      "  return (xy * (M - ab)).sum() / np.sqrt(vara * varb)\n"
     ]
    },
    {
     "name": "stdout",
     "output_type": "stream",
     "text": [
      "emotion: -0.406613677740097 volumn: 0\n",
      "emotion: -0.3806817829608917 volumn: 0\n",
      "emotion: 0.3712616562843323 volumn: 0\n",
      "emotion: -0.6190923452377319 volumn: 0\n"
     ]
    },
    {
     "name": "stderr",
     "output_type": "stream",
     "text": [
      "删除过期节点: 100%|██████████████████████████████████████████████████████████████████████████████████████████████████████████████████████████████████████████████| 1/1 [00:00<00:00, 16131.94节点/s]\n"
     ]
    },
    {
     "name": "stdout",
     "output_type": "stream",
     "text": [
      "已删除节点及其所有边：1413883442266349568  (时间差超过 30 天)\n"
     ]
    },
    {
     "name": "stderr",
     "output_type": "stream",
     "text": [
      "/home/root_gdut/miniconda3/envs/network/lib/python3.9/site-packages/networkx/algorithms/assortativity/correlation.py:302: RuntimeWarning: invalid value encountered in scalar divide\n",
      "  return (xy * (M - ab)).sum() / np.sqrt(vara * varb)\n"
     ]
    },
    {
     "name": "stdout",
     "output_type": "stream",
     "text": [
      "emotion: 0.6103287041187286 volumn: 0\n",
      "emotion: -0.399064302444458 volumn: 0\n",
      "emotion: 0.377275288105011 volumn: 0\n",
      "emotion: -0.6223038136959076 volumn: 0\n",
      "emotion: 0.3543304204940796 volumn: 0\n",
      "emotion: -0.6362456679344177 volumn: 0\n",
      "emotion: 0.626954197883606 volumn: 0\n",
      "emotion: -0.3646246790885925 volumn: 0\n",
      "emotion: -0.3641171157360077 volumn: 0\n"
     ]
    },
    {
     "name": "stderr",
     "output_type": "stream",
     "text": [
      "删除过期节点: 0节点 [00:00, ?节点/s]\n",
      "/home/root_gdut/miniconda3/envs/network/lib/python3.9/site-packages/networkx/algorithms/assortativity/correlation.py:302: RuntimeWarning: invalid value encountered in scalar divide\n",
      "  return (xy * (M - ab)).sum() / np.sqrt(vara * varb)\n"
     ]
    },
    {
     "name": "stdout",
     "output_type": "stream",
     "text": [
      "已批量写入 0 条数据到 index.csv\n",
      "emotion: -0.6622729897499084 volumn: 0\n",
      "emotion: -0.3794807195663452 volumn: 0\n",
      "emotion: -0.6172091960906982 volumn: 0\n",
      "emotion: 0.3652384281158447 volumn: 0\n",
      "emotion: -0.3698894679546356 volumn: 0\n",
      "emotion: 0.3769443929195404 volumn: 0\n",
      "emotion: -0.6530474722385406 volumn: 0\n",
      "emotion: -0.3773769736289978 volumn: 0\n",
      "emotion: -0.4014546275138855 volumn: 0\n"
     ]
    },
    {
     "name": "stderr",
     "output_type": "stream",
     "text": [
      "删除过期节点: 100%|██████████████████████████████████████████████████████████████████████████████████████████████████████████████████████████████████████████████| 1/1 [00:00<00:00, 14768.68节点/s]\n"
     ]
    },
    {
     "name": "stdout",
     "output_type": "stream",
     "text": [
      "已删除节点及其所有边：1414494418569158912  (时间差超过 30 天)\n"
     ]
    },
    {
     "name": "stderr",
     "output_type": "stream",
     "text": [
      "/home/root_gdut/miniconda3/envs/network/lib/python3.9/site-packages/networkx/algorithms/assortativity/correlation.py:302: RuntimeWarning: invalid value encountered in scalar divide\n",
      "  return (xy * (M - ab)).sum() / np.sqrt(vara * varb)\n"
     ]
    },
    {
     "name": "stdout",
     "output_type": "stream",
     "text": [
      "emotion: 0.3685433864593506 volumn: 0\n",
      "emotion: -0.4058838188648224 volumn: 0\n"
     ]
    },
    {
     "name": "stderr",
     "output_type": "stream",
     "text": [
      "删除过期节点: 0节点 [00:00, ?节点/s]\n",
      "/home/root_gdut/miniconda3/envs/network/lib/python3.9/site-packages/networkx/algorithms/assortativity/correlation.py:302: RuntimeWarning: invalid value encountered in scalar divide\n",
      "  return (xy * (M - ab)).sum() / np.sqrt(vara * varb)\n"
     ]
    },
    {
     "name": "stdout",
     "output_type": "stream",
     "text": [
      "emotion: -0.6537027657032013 volumn: 0\n",
      "emotion: -0.3692483603954315 volumn: 0\n",
      "emotion: -0.6537027657032013 volumn: 0\n"
     ]
    },
    {
     "name": "stderr",
     "output_type": "stream",
     "text": [
      "删除过期节点: 100%|██████████████████████████████████████████████████████████████████████████████████████████████████████████████████████████████████████████████| 4/4 [00:00<00:00, 46474.28节点/s]\n"
     ]
    },
    {
     "name": "stdout",
     "output_type": "stream",
     "text": [
      "已删除节点及其所有边：1415101525869858816  (时间差超过 30 天)\n",
      "已删除节点及其所有边：1415204461660811264  (时间差超过 30 天)\n",
      "已删除节点及其所有边：1415378849588727808  (时间差超过 30 天)\n",
      "已删除节点及其所有边：1415379568119193600  (时间差超过 30 天)\n"
     ]
    },
    {
     "name": "stderr",
     "output_type": "stream",
     "text": [
      "/home/root_gdut/miniconda3/envs/network/lib/python3.9/site-packages/networkx/algorithms/assortativity/correlation.py:302: RuntimeWarning: invalid value encountered in scalar divide\n",
      "  return (xy * (M - ab)).sum() / np.sqrt(vara * varb)\n"
     ]
    },
    {
     "name": "stdout",
     "output_type": "stream",
     "text": [
      "emotion: -0.3906359672546386 volumn: 0\n",
      "emotion: 0.3820403516292572 volumn: 0\n",
      "emotion: 0.3527974188327789 volumn: 0\n",
      "emotion: 0.3396964967250824 volumn: 0\n"
     ]
    },
    {
     "name": "stderr",
     "output_type": "stream",
     "text": [
      "删除过期节点: 0节点 [00:00, ?节点/s]\n",
      "/home/root_gdut/miniconda3/envs/network/lib/python3.9/site-packages/networkx/algorithms/assortativity/correlation.py:302: RuntimeWarning: invalid value encountered in scalar divide\n",
      "  return (xy * (M - ab)).sum() / np.sqrt(vara * varb)\n"
     ]
    },
    {
     "name": "stdout",
     "output_type": "stream",
     "text": [
      "emotion: -0.6534645557403564 volumn: 0\n",
      "emotion: 0.3930290043354034 volumn: 0\n",
      "emotion: 0.3784010410308838 volumn: 0\n",
      "emotion: 0.3539732992649078 volumn: 0\n",
      "emotion: 0.351753681898117 volumn: 0\n",
      "emotion: -0.360183447599411 volumn: 0\n",
      "emotion: -0.3995744585990906 volumn: 0\n",
      "emotion: -0.3516335487365722 volumn: 0\n",
      "emotion: -0.3587191998958587 volumn: 0\n"
     ]
    },
    {
     "name": "stderr",
     "output_type": "stream",
     "text": [
      "删除过期节点: 100%|██████████████████████████████████████████████████████████████████████████████████████████████████████████████████████████████████████████████| 2/2 [00:00<00:00, 27503.63节点/s]\n"
     ]
    },
    {
     "name": "stdout",
     "output_type": "stream",
     "text": [
      "已删除节点及其所有边：1415940095555760128  (时间差超过 30 天)\n",
      "已删除节点及其所有边：1415979335220187136  (时间差超过 30 天)\n"
     ]
    },
    {
     "name": "stderr",
     "output_type": "stream",
     "text": [
      "/home/root_gdut/miniconda3/envs/network/lib/python3.9/site-packages/networkx/algorithms/assortativity/correlation.py:302: RuntimeWarning: invalid value encountered in scalar divide\n",
      "  return (xy * (M - ab)).sum() / np.sqrt(vara * varb)\n"
     ]
    },
    {
     "name": "stdout",
     "output_type": "stream",
     "text": [
      "emotion: 0.3439705669879913 volumn: 0\n",
      "emotion: 0.3873665928840637 volumn: 0\n",
      "emotion: 0.3840612173080444 volumn: 0\n",
      "emotion: -0.6056747138500214 volumn: 0\n",
      "emotion: 0.4015083014965057 volumn: 0\n",
      "emotion: 0.3590246737003326 volumn: 0\n"
     ]
    },
    {
     "name": "stderr",
     "output_type": "stream",
     "text": [
      "删除过期节点: 100%|██████████████████████████████████████████████████████████████████████████████████████████████████████████████████████████████████████████████| 1/1 [00:00<00:00, 15709.00节点/s]\n"
     ]
    },
    {
     "name": "stdout",
     "output_type": "stream",
     "text": [
      "已删除节点及其所有边：1416399990474350592  (时间差超过 30 天)\n"
     ]
    },
    {
     "name": "stderr",
     "output_type": "stream",
     "text": [
      "/home/root_gdut/miniconda3/envs/network/lib/python3.9/site-packages/networkx/algorithms/assortativity/correlation.py:302: RuntimeWarning: invalid value encountered in scalar divide\n",
      "  return (xy * (M - ab)).sum() / np.sqrt(vara * varb)\n"
     ]
    },
    {
     "name": "stdout",
     "output_type": "stream",
     "text": [
      "emotion: -0.340204656124115 volumn: 0\n",
      "emotion: -0.3725358843803406 volumn: 0\n",
      "emotion: 0.3603841364383697 volumn: 0\n",
      "emotion: 0.3534832298755646 volumn: 0\n",
      "emotion: 0.3409229516983032 volumn: 0\n",
      "emotion: -0.3850670754909515 volumn: 0\n",
      "emotion: 0.3351941704750061 volumn: 0\n",
      "emotion: 0.3823714256286621 volumn: 0\n",
      "emotion: 0.6234429180622101 volumn: 0\n",
      "emotion: 0.6266447007656097 volumn: 0\n",
      "emotion: 0.6054584681987762 volumn: 0\n"
     ]
    },
    {
     "name": "stderr",
     "output_type": "stream",
     "text": [
      "删除过期节点: 100%|██████████████████████████████████████████████████████████████████████████████████████████████████████████████████████████████████████████████| 1/1 [00:00<00:00, 15650.39节点/s]\n"
     ]
    },
    {
     "name": "stdout",
     "output_type": "stream",
     "text": [
      "已删除节点及其所有边：1416695580454174720  (时间差超过 30 天)\n"
     ]
    },
    {
     "name": "stderr",
     "output_type": "stream",
     "text": [
      "/home/root_gdut/miniconda3/envs/network/lib/python3.9/site-packages/networkx/algorithms/assortativity/correlation.py:302: RuntimeWarning: invalid value encountered in scalar divide\n",
      "  return (xy * (M - ab)).sum() / np.sqrt(vara * varb)\n"
     ]
    },
    {
     "name": "stdout",
     "output_type": "stream",
     "text": [
      "emotion: 0.5947450995445251 volumn: 0\n",
      "emotion: 0.6260337233543396 volumn: 0\n",
      "emotion: -0.3537217676639557 volumn: 0\n",
      "emotion: 0.3724967539310455 volumn: 0\n",
      "emotion: 0.3524774610996246 volumn: 0\n",
      "emotion: 0.379594475030899 volumn: 0\n",
      "emotion: -0.4193035960197449 volumn: 0\n",
      "emotion: 0.3803597092628479 volumn: 0\n",
      "emotion: 0.3587757050991058 volumn: 0\n"
     ]
    },
    {
     "name": "stderr",
     "output_type": "stream",
     "text": [
      "删除过期节点: 100%|██████████████████████████████████████████████████████████████████████████████████████████████████████████████████████████████████████████████| 5/5 [00:00<00:00, 50412.31节点/s]\n"
     ]
    },
    {
     "name": "stdout",
     "output_type": "stream",
     "text": [
      "已删除节点及其所有边：1416949928920850432  (时间差超过 30 天)\n",
      "已删除节点及其所有边：1417034485300879360  (时间差超过 30 天)\n",
      "已删除节点及其所有边：1417173588491358208  (时间差超过 30 天)\n",
      "已删除节点及其所有边：1417173867978792960  (时间差超过 30 天)\n",
      "已删除节点及其所有边：1417080051737239552  (时间差超过 30 天)\n"
     ]
    },
    {
     "name": "stderr",
     "output_type": "stream",
     "text": [
      "/home/root_gdut/miniconda3/envs/network/lib/python3.9/site-packages/networkx/algorithms/assortativity/correlation.py:302: RuntimeWarning: invalid value encountered in scalar divide\n",
      "  return (xy * (M - ab)).sum() / np.sqrt(vara * varb)\n"
     ]
    },
    {
     "name": "stdout",
     "output_type": "stream",
     "text": [
      "emotion: -0.6460786163806915 volumn: 0\n",
      "emotion: 0.3754258453845978 volumn: 0\n",
      "emotion: -0.3552993535995483 volumn: 0\n"
     ]
    },
    {
     "name": "stderr",
     "output_type": "stream",
     "text": [
      "删除过期节点: 0节点 [00:00, ?节点/s]\n",
      "/home/root_gdut/miniconda3/envs/network/lib/python3.9/site-packages/networkx/algorithms/assortativity/correlation.py:302: RuntimeWarning: invalid value encountered in scalar divide\n",
      "  return (xy * (M - ab)).sum() / np.sqrt(vara * varb)\n"
     ]
    },
    {
     "name": "stdout",
     "output_type": "stream",
     "text": [
      "emotion: -0.4193035960197449 volumn: 0\n",
      "emotion: -0.3764469623565674 volumn: 0\n",
      "emotion: -0.3550063371658325 volumn: 0\n",
      "emotion: 0.4016158878803253 volumn: 0\n",
      "emotion: -0.3615446984767914 volumn: 0\n",
      "emotion: -0.3633409142494201 volumn: 0\n",
      "emotion: -0.4181069731712341 volumn: 0\n"
     ]
    },
    {
     "name": "stderr",
     "output_type": "stream",
     "text": [
      "删除过期节点: 100%|██████████████████████████████████████████████████████████████████████████████████████████████████████████████████████████████████████████████| 6/6 [00:00<00:00, 56936.25节点/s]\n"
     ]
    },
    {
     "name": "stdout",
     "output_type": "stream",
     "text": [
      "已删除节点及其所有边：1417731353299333120  (时间差超过 30 天)\n",
      "已删除节点及其所有边：1417733646178455552  (时间差超过 30 天)\n",
      "已删除节点及其所有边：1417787898712059904  (时间差超过 30 天)\n",
      "已删除节点及其所有边：1417927789978824704  (时间差超过 30 天)\n",
      "已删除节点及其所有边：1417772350213341184  (时间差超过 30 天)\n",
      "已删除节点及其所有边：1417928887590326272  (时间差超过 30 天)\n"
     ]
    },
    {
     "name": "stderr",
     "output_type": "stream",
     "text": [
      "/home/root_gdut/miniconda3/envs/network/lib/python3.9/site-packages/networkx/algorithms/assortativity/correlation.py:302: RuntimeWarning: invalid value encountered in scalar divide\n",
      "  return (xy * (M - ab)).sum() / np.sqrt(vara * varb)\n"
     ]
    },
    {
     "name": "stdout",
     "output_type": "stream",
     "text": [
      "已批量写入 0 条数据到 index.csv\n",
      "emotion: 0.6611762940883636 volumn: 0\n",
      "emotion: -0.3927072882652282 volumn: 0\n",
      "emotion: -0.4119298458099365 volumn: 0\n",
      "emotion: 0.3802595138549804 volumn: 0\n",
      "emotion: 0.414964884519577 volumn: 0\n",
      "emotion: -0.4103046059608459 volumn: 0\n",
      "emotion: 0.3688234388828277 volumn: 0\n",
      "emotion: 0.3825838565826416 volumn: 0\n",
      "emotion: -0.3870003819465637 volumn: 0\n",
      "emotion: -0.644725501537323 volumn: 0\n"
     ]
    },
    {
     "name": "stderr",
     "output_type": "stream",
     "text": [
      "删除过期节点: 100%|██████████████████████████████████████████████████████████████████████████████████████████████████████████████████████████████████████████████| 3/3 [00:00<00:00, 37008.56节点/s]\n"
     ]
    },
    {
     "name": "stdout",
     "output_type": "stream",
     "text": [
      "已删除节点及其所有边：1418143041018343424  (时间差超过 30 天)\n",
      "已删除节点及其所有边：1418160207478337536  (时间差超过 30 天)\n",
      "已删除节点及其所有边：1418161712566398976  (时间差超过 30 天)\n"
     ]
    },
    {
     "name": "stderr",
     "output_type": "stream",
     "text": [
      "/home/root_gdut/miniconda3/envs/network/lib/python3.9/site-packages/networkx/algorithms/assortativity/correlation.py:302: RuntimeWarning: invalid value encountered in scalar divide\n",
      "  return (xy * (M - ab)).sum() / np.sqrt(vara * varb)\n"
     ]
    },
    {
     "name": "stdout",
     "output_type": "stream",
     "text": [
      "emotion: 0.377189964056015 volumn: 0\n",
      "emotion: -0.4106562733650207 volumn: 0\n",
      "emotion: 0.3849088251590729 volumn: 0\n",
      "emotion: 0.3579261004924774 volumn: 0\n",
      "emotion: 0.4063560664653778 volumn: 0\n",
      "emotion: 0.3980474472045898 volumn: 0\n",
      "emotion: -0.3839258551597595 volumn: 0\n",
      "emotion: -0.3882813155651092 volumn: 0\n",
      "emotion: 0.6087168753147125 volumn: 0\n",
      "emotion: -0.6409334242343903 volumn: 0\n",
      "emotion: -0.637637585401535 volumn: 0\n"
     ]
    },
    {
     "name": "stderr",
     "output_type": "stream",
     "text": [
      "删除过期节点: 100%|████████████████████████████████████████████████████████████████████████████████████████████████████████████████████████████████████████████| 13/13 [00:00<00:00, 83245.73节点/s]"
     ]
    },
    {
     "name": "stdout",
     "output_type": "stream",
     "text": [
      "已删除节点及其所有边：1418361771769929728  (时间差超过 30 天)\n",
      "已删除节点及其所有边：1418419864511860736  (时间差超过 30 天)\n",
      "已删除节点及其所有边：1418457466644295680  (时间差超过 30 天)\n",
      "已删除节点及其所有边：1418460660703408128  (时间差超过 30 天)\n",
      "已删除节点及其所有边：1418468450213711872  (时间差超过 30 天)\n",
      "已删除节点及其所有边：1418490330450628608  (时间差超过 30 天)\n",
      "已删除节点及其所有边：1418493090826907648  (时间差超过 30 天)\n",
      "已删除节点及其所有边：1418497385941004288  (时间差超过 30 天)\n",
      "已删除节点及其所有边：1418518643604918272  (时间差超过 30 天)\n",
      "已删除节点及其所有边：1418519241674960896  (时间差超过 30 天)\n",
      "已删除节点及其所有边：1418519704944234496  (时间差超过 30 天)\n",
      "已删除节点及其所有边：1418542518539522048  (时间差超过 30 天)\n",
      "已删除节点及其所有边：1418520683584409600  (时间差超过 30 天)\n"
     ]
    },
    {
     "name": "stderr",
     "output_type": "stream",
     "text": [
      "\n",
      "/home/root_gdut/miniconda3/envs/network/lib/python3.9/site-packages/networkx/algorithms/assortativity/correlation.py:302: RuntimeWarning: invalid value encountered in scalar divide\n",
      "  return (xy * (M - ab)).sum() / np.sqrt(vara * varb)\n"
     ]
    },
    {
     "name": "stdout",
     "output_type": "stream",
     "text": [
      "emotion: 0.6228753924369812 volumn: 0\n",
      "emotion: 0.359255313873291 volumn: 0\n",
      "emotion: -0.3892741799354553 volumn: 0\n",
      "emotion: 0.626605212688446 volumn: 0\n",
      "emotion: 0.6471267640590668 volumn: 0\n",
      "emotion: 0.3820268809795379 volumn: 0\n",
      "emotion: 0.6557160913944244 volumn: 0\n",
      "emotion: -0.3811538517475128 volumn: 0\n",
      "emotion: 0.6228753924369812 volumn: 0\n"
     ]
    },
    {
     "name": "stderr",
     "output_type": "stream",
     "text": [
      "删除过期节点: 100%|██████████████████████████████████████████████████████████████████████████████████████████████████████████████████████████████████████████████| 4/4 [00:00<00:00, 46474.28节点/s]\n"
     ]
    },
    {
     "name": "stdout",
     "output_type": "stream",
     "text": [
      "已删除节点及其所有边：1418811818181644288  (时间差超过 30 天)\n",
      "已删除节点及其所有边：1418812227751235584  (时间差超过 30 天)\n",
      "已删除节点及其所有边：1418819517128626176  (时间差超过 30 天)\n",
      "已删除节点及其所有边：1418840135500697600  (时间差超过 30 天)\n"
     ]
    },
    {
     "name": "stderr",
     "output_type": "stream",
     "text": [
      "/home/root_gdut/miniconda3/envs/network/lib/python3.9/site-packages/networkx/algorithms/assortativity/correlation.py:302: RuntimeWarning: invalid value encountered in scalar divide\n",
      "  return (xy * (M - ab)).sum() / np.sqrt(vara * varb)\n"
     ]
    },
    {
     "name": "stdout",
     "output_type": "stream",
     "text": [
      "emotion: 0.3837089538574219 volumn: 0\n",
      "emotion: -0.6154377460479736 volumn: 0\n",
      "emotion: 0.612549751996994 volumn: 0\n",
      "emotion: 0.656061977148056 volumn: 0\n"
     ]
    },
    {
     "name": "stderr",
     "output_type": "stream",
     "text": [
      "删除过期节点: 100%|██████████████████████████████████████████████████████████████████████████████████████████████████████████████████████████████████████████████| 3/3 [00:00<00:00, 38362.54节点/s]\n"
     ]
    },
    {
     "name": "stdout",
     "output_type": "stream",
     "text": [
      "已删除节点及其所有边：1419179931624525824  (时间差超过 30 天)\n",
      "已删除节点及其所有边：1419317676711632896  (时间差超过 30 天)\n",
      "已删除节点及其所有边：1419337417925054464  (时间差超过 30 天)\n"
     ]
    },
    {
     "name": "stderr",
     "output_type": "stream",
     "text": [
      "/home/root_gdut/miniconda3/envs/network/lib/python3.9/site-packages/networkx/algorithms/assortativity/correlation.py:302: RuntimeWarning: invalid value encountered in scalar divide\n",
      "  return (xy * (M - ab)).sum() / np.sqrt(vara * varb)\n"
     ]
    },
    {
     "name": "stdout",
     "output_type": "stream",
     "text": [
      "emotion: -0.3972913920879364 volumn: 0\n",
      "emotion: 0.3479897677898407 volumn: 0\n",
      "emotion: -0.3935680985450744 volumn: 0\n",
      "emotion: 0.3747723996639251 volumn: 0\n",
      "emotion: 0.3584005236625671 volumn: 0\n",
      "emotion: 0.3652452528476715 volumn: 0\n",
      "emotion: -0.6534744799137115 volumn: 0\n",
      "emotion: -0.3421373963356018 volumn: 0\n"
     ]
    },
    {
     "name": "stderr",
     "output_type": "stream",
     "text": [
      "删除过期节点: 100%|██████████████████████████████████████████████████████████████████████████████████████████████████████████████████████████████████████████████| 5/5 [00:00<00:00, 53773.13节点/s]\n"
     ]
    },
    {
     "name": "stdout",
     "output_type": "stream",
     "text": [
      "已删除节点及其所有边：1419589321141665792  (时间差超过 30 天)\n",
      "已删除节点及其所有边：1419589838421041152  (时间差超过 30 天)\n",
      "已删除节点及其所有边：1419702339112419328  (时间差超过 30 天)\n",
      "已删除节点及其所有边：1419702493261479936  (时间差超过 30 天)\n",
      "已删除节点及其所有边：1419615931819433984  (时间差超过 30 天)\n"
     ]
    },
    {
     "name": "stderr",
     "output_type": "stream",
     "text": [
      "/home/root_gdut/miniconda3/envs/network/lib/python3.9/site-packages/networkx/algorithms/assortativity/correlation.py:302: RuntimeWarning: invalid value encountered in scalar divide\n",
      "  return (xy * (M - ab)).sum() / np.sqrt(vara * varb)\n"
     ]
    },
    {
     "name": "stdout",
     "output_type": "stream",
     "text": [
      "emotion: -0.3882930278778076 volumn: 0\n",
      "emotion: 0.3900618255138397 volumn: 0\n",
      "emotion: -0.3958913683891296 volumn: 0\n"
     ]
    },
    {
     "name": "stderr",
     "output_type": "stream",
     "text": [
      "删除过期节点: 100%|██████████████████████████████████████████████████████████████████████████████████████████████████████████████████████████████████████████████| 8/8 [00:00<00:00, 65536.00节点/s]\n"
     ]
    },
    {
     "name": "stdout",
     "output_type": "stream",
     "text": [
      "已删除节点及其所有边：1419866191649284096  (时间差超过 30 天)\n",
      "已删除节点及其所有边：1419887806227361792  (时间差超过 30 天)\n",
      "已删除节点及其所有边：1419900652264771584  (时间差超过 30 天)\n",
      "已删除节点及其所有边：1419943908323254272  (时间差超过 30 天)\n",
      "已删除节点及其所有边：1419921954899906560  (时间差超过 30 天)\n",
      "已删除节点及其所有边：1419952478720770048  (时间差超过 30 天)\n",
      "已删除节点及其所有边：1419954981038341888  (时间差超过 30 天)\n",
      "已删除节点及其所有边：1420060839768383488  (时间差超过 30 天)\n"
     ]
    },
    {
     "name": "stderr",
     "output_type": "stream",
     "text": [
      "/home/root_gdut/miniconda3/envs/network/lib/python3.9/site-packages/networkx/algorithms/assortativity/correlation.py:302: RuntimeWarning: invalid value encountered in scalar divide\n",
      "  return (xy * (M - ab)).sum() / np.sqrt(vara * varb)\n"
     ]
    },
    {
     "name": "stdout",
     "output_type": "stream",
     "text": [
      "emotion: 0.4362316131591797 volumn: 0\n",
      "emotion: -0.3497717976570129 volumn: 0\n",
      "emotion: -0.4136640429496765 volumn: 0\n",
      "emotion: -0.3497717976570129 volumn: 0\n"
     ]
    },
    {
     "name": "stderr",
     "output_type": "stream",
     "text": [
      "删除过期节点: 100%|██████████████████████████████████████████████████████████████████████████████████████████████████████████████████████████████████████████████| 8/8 [00:00<00:00, 69905.07节点/s]\n"
     ]
    },
    {
     "name": "stdout",
     "output_type": "stream",
     "text": [
      "已删除节点及其所有边：1420193745350258688  (时间差超过 30 天)\n",
      "已删除节点及其所有边：1420217900275671040  (时间差超过 30 天)\n",
      "已删除节点及其所有边：1420313844564561920  (时间差超过 30 天)\n",
      "已删除节点及其所有边：1420322903825035264  (时间差超过 30 天)\n",
      "已删除节点及其所有边：1420352088962322432  (时间差超过 30 天)\n",
      "已删除节点及其所有边：1420437190295932928  (时间差超过 30 天)\n",
      "已删除节点及其所有边：1420437683801890816  (时间差超过 30 天)\n",
      "已删除节点及其所有边：1420437967466795008  (时间差超过 30 天)\n"
     ]
    },
    {
     "name": "stderr",
     "output_type": "stream",
     "text": [
      "/home/root_gdut/miniconda3/envs/network/lib/python3.9/site-packages/networkx/algorithms/assortativity/correlation.py:302: RuntimeWarning: invalid value encountered in scalar divide\n",
      "  return (xy * (M - ab)).sum() / np.sqrt(vara * varb)\n"
     ]
    },
    {
     "name": "stdout",
     "output_type": "stream",
     "text": [
      "emotion: -0.3881170153617859 volumn: 0\n",
      "emotion: 0.4129351079463959 volumn: 0\n",
      "emotion: -0.3383222222328186 volumn: 0\n",
      "emotion: 0.3783558309078216 volumn: 0\n",
      "emotion: -0.3630007803440094 volumn: 0\n",
      "emotion: 0.3887813985347748 volumn: 0\n",
      "emotion: 0.3529309332370758 volumn: 0\n",
      "emotion: -0.3926406800746918 volumn: 0\n",
      "emotion: -0.3720237910747528 volumn: 0\n",
      "emotion: 0.3457366228103637 volumn: 0\n"
     ]
    },
    {
     "name": "stderr",
     "output_type": "stream",
     "text": [
      "删除过期节点: 100%|██████████████████████████████████████████████████████████████████████████████████████████████████████████████████████████████████████████████| 6/6 [00:00<00:00, 58389.38节点/s]\n"
     ]
    },
    {
     "name": "stdout",
     "output_type": "stream",
     "text": [
      "已删除节点及其所有边：1420663435755499520  (时间差超过 30 天)\n",
      "已删除节点及其所有边：1420705178668445696  (时间差超过 30 天)\n",
      "已删除节点及其所有边：1420779806724132864  (时间差超过 30 天)\n",
      "已删除节点及其所有边：1420780881929715712  (时间差超过 30 天)\n",
      "已删除节点及其所有边：1420780523551592448  (时间差超过 30 天)\n",
      "已删除节点及其所有边：1420791547092741888  (时间差超过 30 天)\n"
     ]
    },
    {
     "name": "stderr",
     "output_type": "stream",
     "text": [
      "/home/root_gdut/miniconda3/envs/network/lib/python3.9/site-packages/networkx/algorithms/assortativity/correlation.py:302: RuntimeWarning: invalid value encountered in scalar divide\n",
      "  return (xy * (M - ab)).sum() / np.sqrt(vara * varb)\n"
     ]
    },
    {
     "name": "stdout",
     "output_type": "stream",
     "text": [
      "emotion: 0.6398162245750427 volumn: 0\n",
      "emotion: 0.3761258423328399 volumn: 0\n",
      "emotion: 0.3882360160350799 volumn: 0\n",
      "emotion: -0.3641062080860138 volumn: 0\n",
      "emotion: 0.3630263209342956 volumn: 0\n",
      "emotion: -0.3737197518348694 volumn: 0\n",
      "emotion: -0.3568044304847717 volumn: 0\n",
      "emotion: -0.633459597826004 volumn: 0\n",
      "emotion: 0.3542697727680206 volumn: 0\n",
      "emotion: -0.3426057994365692 volumn: 0\n",
      "emotion: 0.344036191701889 volumn: 0\n",
      "emotion: -0.6285130977630615 volumn: 0\n",
      "emotion: -0.4413950145244598 volumn: 0\n"
     ]
    },
    {
     "name": "stderr",
     "output_type": "stream",
     "text": [
      "删除过期节点: 100%|██████████████████████████████████████████████████████████████████████████████████████████████████████████████████████████████████████████████| 1/1 [00:00<00:00, 14926.35节点/s]"
     ]
    },
    {
     "name": "stdout",
     "output_type": "stream",
     "text": [
      "已删除节点及其所有边：1421029576252268288  (时间差超过 30 天)\n"
     ]
    },
    {
     "name": "stderr",
     "output_type": "stream",
     "text": [
      "\n",
      "/home/root_gdut/miniconda3/envs/network/lib/python3.9/site-packages/networkx/algorithms/assortativity/correlation.py:302: RuntimeWarning: invalid value encountered in scalar divide\n",
      "  return (xy * (M - ab)).sum() / np.sqrt(vara * varb)\n"
     ]
    },
    {
     "name": "stdout",
     "output_type": "stream",
     "text": [
      "emotion: 0.3946330547332763 volumn: 0\n",
      "emotion: -0.6426222622394562 volumn: 0\n",
      "emotion: 0.371116042137146 volumn: 0\n",
      "emotion: -0.3767417073249817 volumn: 0\n",
      "emotion: 0.3695803582668304 volumn: 0\n",
      "emotion: -0.6233181655406952 volumn: 0\n",
      "emotion: 0.3727404177188873 volumn: 0\n",
      "emotion: 0.3342321217060089 volumn: 0\n",
      "emotion: 0.3708119094371795 volumn: 0\n",
      "emotion: 0.365803986787796 volumn: 0\n",
      "emotion: 0.3494280576705932 volumn: 0\n",
      "emotion: 0.3793884813785553 volumn: 0\n",
      "emotion: 0.3645436763763428 volumn: 0\n",
      "emotion: -0.3797916173934936 volumn: 0\n",
      "emotion: 0.3758914470672607 volumn: 0\n",
      "emotion: -0.3489872813224792 volumn: 0\n",
      "emotion: -0.6434844136238098 volumn: 0\n",
      "emotion: 0.3742864429950714 volumn: 0\n",
      "emotion: -0.6348283290863037 volumn: 0\n"
     ]
    },
    {
     "name": "stderr",
     "output_type": "stream",
     "text": [
      "删除过期节点: 100%|██████████████████████████████████████████████████████████████████████████████████████████████████████████████████████████████████████████████| 6/6 [00:00<00:00, 57065.36节点/s]"
     ]
    },
    {
     "name": "stdout",
     "output_type": "stream",
     "text": [
      "已删除节点及其所有边：1421360269708640512  (时间差超过 30 天)\n",
      "已删除节点及其所有边：1421445301961961472  (时间差超过 30 天)\n",
      "已删除节点及其所有边：1421450837352648704  (时间差超过 30 天)\n",
      "已删除节点及其所有边：1421522496688435200  (时间差超过 30 天)\n",
      "已删除节点及其所有边：1421522672756805632  (时间差超过 30 天)\n",
      "已删除节点及其所有边：1421523146340016128  (时间差超过 30 天)\n"
     ]
    },
    {
     "name": "stderr",
     "output_type": "stream",
     "text": [
      "\n",
      "/home/root_gdut/miniconda3/envs/network/lib/python3.9/site-packages/networkx/algorithms/assortativity/correlation.py:302: RuntimeWarning: invalid value encountered in scalar divide\n",
      "  return (xy * (M - ab)).sum() / np.sqrt(vara * varb)\n"
     ]
    },
    {
     "name": "stdout",
     "output_type": "stream",
     "text": [
      "已批量写入 0 条数据到 index.csv\n",
      "emotion: -0.4152805507183075 volumn: 0\n",
      "emotion: -0.3808808326721191 volumn: 0\n",
      "emotion: -0.4326276183128357 volumn: 0\n",
      "emotion: -0.4537271857261657 volumn: 0\n",
      "emotion: -0.633417010307312 volumn: 0\n"
     ]
    },
    {
     "name": "stderr",
     "output_type": "stream",
     "text": [
      "删除过期节点: 0节点 [00:00, ?节点/s]\n",
      "/home/root_gdut/miniconda3/envs/network/lib/python3.9/site-packages/networkx/algorithms/assortativity/correlation.py:302: RuntimeWarning: invalid value encountered in scalar divide\n",
      "  return (xy * (M - ab)).sum() / np.sqrt(vara * varb)\n"
     ]
    },
    {
     "name": "stdout",
     "output_type": "stream",
     "text": [
      "emotion: -0.4105004966259002 volumn: 0\n",
      "emotion: 0.6317033767700195 volumn: 0\n",
      "emotion: -0.3907437920570373 volumn: 0\n",
      "emotion: 0.3634738326072693 volumn: 0\n",
      "emotion: -0.4086445271968841 volumn: 0\n",
      "emotion: 0.3811722993850708 volumn: 0\n",
      "emotion: -0.614906370639801 volumn: 0\n",
      "emotion: -0.3859773576259613 volumn: 0\n",
      "emotion: -0.3859773576259613 volumn: 0\n"
     ]
    },
    {
     "name": "stderr",
     "output_type": "stream",
     "text": [
      "删除过期节点: 100%|██████████████████████████████████████████████████████████████████████████████████████████████████████████████████████████████████████████████| 5/5 [00:00<00:00, 48884.66节点/s]"
     ]
    },
    {
     "name": "stdout",
     "output_type": "stream",
     "text": [
      "已删除节点及其所有边：1422127548356612096  (时间差超过 30 天)\n",
      "已删除节点及其所有边：1422150235619475712  (时间差超过 30 天)\n",
      "已删除节点及其所有边：1422226361159200768  (时间差超过 30 天)\n",
      "已删除节点及其所有边：1422226614398685184  (时间差超过 30 天)\n",
      "已删除节点及其所有边：1422227312033021952  (时间差超过 30 天)\n"
     ]
    },
    {
     "name": "stderr",
     "output_type": "stream",
     "text": [
      "\n",
      "/home/root_gdut/miniconda3/envs/network/lib/python3.9/site-packages/networkx/algorithms/assortativity/correlation.py:302: RuntimeWarning: invalid value encountered in scalar divide\n",
      "  return (xy * (M - ab)).sum() / np.sqrt(vara * varb)\n"
     ]
    },
    {
     "name": "stdout",
     "output_type": "stream",
     "text": [
      "emotion: -0.4259054064750671 volumn: 0\n",
      "emotion: -0.3606159389019012 volumn: 0\n",
      "emotion: -0.6301144361495972 volumn: 0\n"
     ]
    },
    {
     "name": "stderr",
     "output_type": "stream",
     "text": [
      "删除过期节点: 100%|██████████████████████████████████████████████████████████████████████████████████████████████████████████████████████████████████████████████| 7/7 [00:00<00:00, 64105.08节点/s]\n"
     ]
    },
    {
     "name": "stdout",
     "output_type": "stream",
     "text": [
      "已删除节点及其所有边：1422479114599084032  (时间差超过 30 天)\n",
      "已删除节点及其所有边：1422497553321431040  (时间差超过 30 天)\n",
      "已删除节点及其所有边：1422502072159809536  (时间差超过 30 天)\n",
      "已删除节点及其所有边：1422583658347646976  (时间差超过 30 天)\n",
      "已删除节点及其所有边：1422513602368524288  (时间差超过 30 天)\n",
      "已删除节点及其所有边：1422583868494864384  (时间差超过 30 天)\n",
      "已删除节点及其所有边：1422584149530062848  (时间差超过 30 天)\n"
     ]
    },
    {
     "name": "stderr",
     "output_type": "stream",
     "text": [
      "/home/root_gdut/miniconda3/envs/network/lib/python3.9/site-packages/networkx/algorithms/assortativity/correlation.py:302: RuntimeWarning: invalid value encountered in scalar divide\n",
      "  return (xy * (M - ab)).sum() / np.sqrt(vara * varb)\n"
     ]
    },
    {
     "name": "stdout",
     "output_type": "stream",
     "text": [
      "emotion: 0.6136966645717621 volumn: 0\n",
      "emotion: -0.6417723000049591 volumn: 0\n",
      "emotion: 0.3432117104530334 volumn: 0\n",
      "emotion: -0.3867325484752655 volumn: 0\n"
     ]
    },
    {
     "name": "stderr",
     "output_type": "stream",
     "text": [
      "删除过期节点: 100%|██████████████████████████████████████████████████████████████████████████████████████████████████████████████████████████████████████████████| 4/4 [00:00<00:00, 44979.13节点/s]\n"
     ]
    },
    {
     "name": "stdout",
     "output_type": "stream",
     "text": [
      "已删除节点及其所有边：1422816837859954688  (时间差超过 30 天)\n",
      "已删除节点及其所有边：1422856348090441728  (时间差超过 30 天)\n",
      "已删除节点及其所有边：1422975205987831808  (时间差超过 30 天)\n",
      "已删除节点及其所有边：1422977889536970752  (时间差超过 30 天)\n"
     ]
    },
    {
     "name": "stderr",
     "output_type": "stream",
     "text": [
      "/home/root_gdut/miniconda3/envs/network/lib/python3.9/site-packages/networkx/algorithms/assortativity/correlation.py:302: RuntimeWarning: invalid value encountered in scalar divide\n",
      "  return (xy * (M - ab)).sum() / np.sqrt(vara * varb)\n"
     ]
    },
    {
     "name": "stdout",
     "output_type": "stream",
     "text": [
      "emotion: 0.3837222456932068 volumn: 0\n",
      "emotion: -0.3605465888977051 volumn: 0\n",
      "emotion: -0.382191002368927 volumn: 0\n",
      "emotion: 0.5973044335842133 volumn: 0\n",
      "emotion: 0.3513751327991485 volumn: 0\n",
      "emotion: -0.3585285246372223 volumn: 0\n",
      "emotion: 0.3849008977413177 volumn: 0\n",
      "emotion: -0.3731715679168701 volumn: 0\n",
      "emotion: -0.3846937716007232 volumn: 0\n",
      "emotion: -0.3958331346511841 volumn: 0\n",
      "emotion: -0.3525741994380951 volumn: 0\n"
     ]
    },
    {
     "name": "stderr",
     "output_type": "stream",
     "text": [
      "删除过期节点: 100%|██████████████████████████████████████████████████████████████████████████████████████████████████████████████████████████████████████████████| 7/7 [00:00<00:00, 64527.75节点/s]"
     ]
    },
    {
     "name": "stdout",
     "output_type": "stream",
     "text": [
      "已删除节点及其所有边：1423140013286559488  (时间差超过 30 天)\n",
      "已删除节点及其所有边：1423198601786834944  (时间差超过 30 天)\n",
      "已删除节点及其所有边：1423201874241630208  (时间差超过 30 天)\n",
      "已删除节点及其所有边：1423305255517888512  (时间差超过 30 天)\n",
      "已删除节点及其所有边：1423203636616826880  (时间差超过 30 天)\n",
      "已删除节点及其所有边：1423311326068289536  (时间差超过 30 天)\n",
      "已删除节点及其所有边：1423312223573889024  (时间差超过 30 天)\n"
     ]
    },
    {
     "name": "stderr",
     "output_type": "stream",
     "text": [
      "\n",
      "/home/root_gdut/miniconda3/envs/network/lib/python3.9/site-packages/networkx/algorithms/assortativity/correlation.py:302: RuntimeWarning: invalid value encountered in scalar divide\n",
      "  return (xy * (M - ab)).sum() / np.sqrt(vara * varb)\n"
     ]
    },
    {
     "name": "stdout",
     "output_type": "stream",
     "text": [
      "emotion: -0.4306196272373199 volumn: 0\n",
      "emotion: 0.3592876493930816 volumn: 0\n",
      "emotion: -0.6547508537769318 volumn: 0\n",
      "emotion: 0.3790719509124756 volumn: 0\n",
      "emotion: 0.3877726197242737 volumn: 0\n",
      "emotion: 0.3598550856113434 volumn: 0\n",
      "emotion: 0.3639687001705169 volumn: 0\n",
      "emotion: -0.355995774269104 volumn: 0\n",
      "emotion: 0.3780234456062317 volumn: 0\n",
      "emotion: 0.6432666182518005 volumn: 0\n",
      "emotion: 0.6308685541152954 volumn: 0\n",
      "emotion: -0.3525931239128113 volumn: 0\n",
      "emotion: 0.3645599484443664 volumn: 0\n"
     ]
    },
    {
     "name": "stderr",
     "output_type": "stream",
     "text": [
      "删除过期节点: 100%|██████████████████████████████████████████████████████████████████████████████████████████████████████████████████████████████████████████████| 7/7 [00:00<00:00, 59918.63节点/s]"
     ]
    },
    {
     "name": "stdout",
     "output_type": "stream",
     "text": [
      "已删除节点及其所有边：1423453534415200512  (时间差超过 30 天)\n",
      "已删除节点及其所有边：1423458297709940736  (时间差超过 30 天)\n",
      "已删除节点及其所有边：1423458379234627584  (时间差超过 30 天)\n",
      "已删除节点及其所有边：1423458483408539648  (时间差超过 30 天)\n",
      "已删除节点及其所有边：1423458745225416704  (时间差超过 30 天)\n",
      "已删除节点及其所有边：1423544129393504512  (时间差超过 30 天)\n",
      "已删除节点及其所有边：1423650240222187520  (时间差超过 30 天)\n"
     ]
    },
    {
     "name": "stderr",
     "output_type": "stream",
     "text": [
      "\n",
      "/home/root_gdut/miniconda3/envs/network/lib/python3.9/site-packages/networkx/algorithms/assortativity/correlation.py:302: RuntimeWarning: invalid value encountered in scalar divide\n",
      "  return (xy * (M - ab)).sum() / np.sqrt(vara * varb)\n"
     ]
    },
    {
     "name": "stdout",
     "output_type": "stream",
     "text": [
      "emotion: -0.3559871613979339 volumn: 0\n",
      "emotion: 0.3832675814628601 volumn: 0\n",
      "emotion: 0.3839364945888519 volumn: 0\n",
      "emotion: -0.4084292650222778 volumn: 0\n",
      "emotion: 0.4066728949546814 volumn: 0\n",
      "emotion: -0.3568135797977447 volumn: 0\n",
      "emotion: -0.403335303068161 volumn: 0\n",
      "emotion: -0.4464460015296936 volumn: 0\n",
      "emotion: 0.3730809390544891 volumn: 0\n",
      "emotion: 0.4020733833312988 volumn: 0\n",
      "emotion: -0.6098905801773071 volumn: 0\n",
      "emotion: 0.3568924963474273 volumn: 0\n",
      "emotion: -0.3886301815509796 volumn: 0\n",
      "emotion: 0.3712790310382843 volumn: 0\n",
      "emotion: 0.3427898287773132 volumn: 0\n",
      "emotion: 0.3425782918930053 volumn: 0\n",
      "emotion: 0.3531081080436706 volumn: 0\n",
      "emotion: -0.4003025889396667 volumn: 0\n",
      "emotion: -0.3553564250469208 volumn: 0\n",
      "emotion: -0.3450201451778412 volumn: 0\n",
      "emotion: 0.3913844227790832 volumn: 0\n",
      "emotion: -0.4305464327335357 volumn: 0\n",
      "emotion: -0.3450201451778412 volumn: 0\n"
     ]
    },
    {
     "name": "stderr",
     "output_type": "stream",
     "text": [
      "删除过期节点: 100%|██████████████████████████████████████████████████████████████████████████████████████████████████████████████████████████████████████████████| 4/4 [00:00<00:00, 43577.18节点/s]"
     ]
    },
    {
     "name": "stdout",
     "output_type": "stream",
     "text": [
      "已删除节点及其所有边：1423837329446383616  (时间差超过 30 天)\n",
      "已删除节点及其所有边：1423852411957825536  (时间差超过 30 天)\n",
      "已删除节点及其所有边：1423870533083484160  (时间差超过 30 天)\n",
      "已删除节点及其所有边：1423857535698624512  (时间差超过 30 天)\n"
     ]
    },
    {
     "name": "stderr",
     "output_type": "stream",
     "text": [
      "\n",
      "/home/root_gdut/miniconda3/envs/network/lib/python3.9/site-packages/networkx/algorithms/assortativity/correlation.py:302: RuntimeWarning: invalid value encountered in scalar divide\n",
      "  return (xy * (M - ab)).sum() / np.sqrt(vara * varb)\n"
     ]
    },
    {
     "name": "stdout",
     "output_type": "stream",
     "text": [
      "emotion: 0.6450277268886566 volumn: 0\n",
      "emotion: 0.3414106369018554 volumn: 0\n",
      "emotion: -0.3759271204471588 volumn: 0\n",
      "emotion: -0.6156755685806274 volumn: 0\n",
      "emotion: 0.3878125846385956 volumn: 0\n",
      "emotion: -0.3562309741973877 volumn: 0\n",
      "emotion: 0.5763674676418304 volumn: 0\n",
      "emotion: 0.3947426080703735 volumn: 0\n",
      "emotion: 0.3699733912944793 volumn: 0\n",
      "emotion: 0.3591569662094116 volumn: 0\n",
      "emotion: -0.3799910545349121 volumn: 0\n",
      "emotion: 0.3999207317829132 volumn: 0\n",
      "emotion: -0.3716017305850982 volumn: 0\n",
      "emotion: 0.6360417604446411 volumn: 0\n",
      "emotion: -0.3858333230018616 volumn: 0\n",
      "emotion: -0.3878331780433655 volumn: 0\n",
      "emotion: 0.608242005109787 volumn: 0\n",
      "emotion: 0.3522546291351318 volumn: 0\n",
      "emotion: -0.6272478699684143 volumn: 0\n",
      "emotion: 0.3622385859489441 volumn: 0\n",
      "emotion: -0.3851548433303833 volumn: 0\n",
      "emotion: -0.3802911043167114 volumn: 0\n",
      "emotion: 0.6561415791511536 volumn: 0\n",
      "emotion: 0.6251365840435028 volumn: 0\n",
      "emotion: 0.3513547480106354 volumn: 0\n",
      "emotion: -0.3859919309616089 volumn: 0\n",
      "emotion: 0.6438246369361877 volumn: 0\n",
      "emotion: 0.3492047488689422 volumn: 0\n",
      "emotion: 0.3418967127799988 volumn: 0\n",
      "emotion: -0.3481746017932892 volumn: 0\n",
      "emotion: 0.3477045595645904 volumn: 0\n",
      "emotion: -0.3934125304222107 volumn: 0\n",
      "emotion: 0.361971378326416 volumn: 0\n"
     ]
    },
    {
     "name": "stderr",
     "output_type": "stream",
     "text": [
      "删除过期节点: 100%|██████████████████████████████████████████████████████████████████████████████████████████████████████████████████████████████████████████████| 2/2 [00:00<00:00, 26546.23节点/s]"
     ]
    },
    {
     "name": "stdout",
     "output_type": "stream",
     "text": [
      "已删除节点及其所有边：1424193781084024832  (时间差超过 30 天)\n",
      "已删除节点及其所有边：1424312683277426688  (时间差超过 30 天)\n"
     ]
    },
    {
     "name": "stderr",
     "output_type": "stream",
     "text": [
      "\n",
      "/home/root_gdut/miniconda3/envs/network/lib/python3.9/site-packages/networkx/algorithms/assortativity/correlation.py:302: RuntimeWarning: invalid value encountered in scalar divide\n",
      "  return (xy * (M - ab)).sum() / np.sqrt(vara * varb)\n"
     ]
    },
    {
     "name": "stdout",
     "output_type": "stream",
     "text": [
      "emotion: -0.3707551062107086 volumn: 0\n",
      "emotion: 0.3533144295215606 volumn: 0\n",
      "emotion: 0.3639552593231201 volumn: 0\n",
      "emotion: 0.3651458323001861 volumn: 0\n",
      "emotion: -0.5065566301345825 volumn: 0\n",
      "emotion: 0.3707607090473175 volumn: 0\n",
      "emotion: -0.3914702534675598 volumn: 0\n",
      "emotion: 0.3578121960163116 volumn: 0\n",
      "emotion: 0.3427747189998626 volumn: 0\n",
      "emotion: 0.3872698545455932 volumn: 0\n",
      "emotion: -0.3963274657726288 volumn: 0\n",
      "emotion: -0.6386590898036957 volumn: 0\n",
      "emotion: -0.6366905868053436 volumn: 0\n",
      "emotion: 0.6332712471485138 volumn: 0\n",
      "emotion: 0.3620632290840149 volumn: 0\n",
      "emotion: -0.3570843935012817 volumn: 0\n",
      "emotion: -0.386346697807312 volumn: 0\n",
      "emotion: -0.3459955155849457 volumn: 0\n",
      "emotion: -0.6555190682411194 volumn: 0\n",
      "emotion: -0.3490254580974579 volumn: 0\n",
      "emotion: -0.3410677015781402 volumn: 0\n",
      "emotion: 0.342555820941925 volumn: 0\n"
     ]
    },
    {
     "name": "stderr",
     "output_type": "stream",
     "text": [
      "删除过期节点: 100%|██████████████████████████████████████████████████████████████████████████████████████████████████████████████████████████████████████████████| 6/6 [00:00<00:00, 54353.83节点/s]"
     ]
    },
    {
     "name": "stdout",
     "output_type": "stream",
     "text": [
      "已删除节点及其所有边：1424549268443090944  (时间差超过 30 天)\n",
      "已删除节点及其所有边：1424637082920755200  (时间差超过 30 天)\n",
      "已删除节点及其所有边：1424721258336423936  (时间差超过 30 天)\n",
      "已删除节点及其所有边：1424751342099345408  (时间差超过 30 天)\n",
      "已删除节点及其所有边：1424712911834947584  (时间差超过 30 天)\n",
      "已删除节点及其所有边：1424816751091453952  (时间差超过 30 天)\n"
     ]
    },
    {
     "name": "stderr",
     "output_type": "stream",
     "text": [
      "\n",
      "/home/root_gdut/miniconda3/envs/network/lib/python3.9/site-packages/networkx/algorithms/assortativity/correlation.py:302: RuntimeWarning: invalid value encountered in scalar divide\n",
      "  return (xy * (M - ab)).sum() / np.sqrt(vara * varb)\n"
     ]
    },
    {
     "name": "stdout",
     "output_type": "stream",
     "text": [
      "emotion: -0.3470660448074341 volumn: 0\n",
      "emotion: -0.3879474997520447 volumn: 0\n",
      "emotion: -0.4014773368835449 volumn: 0\n",
      "emotion: -0.3768500685691833 volumn: 0\n",
      "emotion: 0.6356383562088013 volumn: 0\n",
      "emotion: -0.3548537194728851 volumn: 0\n",
      "emotion: 0.6354890167713165 volumn: 0\n"
     ]
    },
    {
     "name": "stderr",
     "output_type": "stream",
     "text": [
      "删除过期节点: 100%|██████████████████████████████████████████████████████████████████████████████████████████████████████████████████████████████████████████████| 2/2 [00:00<00:00, 23301.69节点/s]"
     ]
    },
    {
     "name": "stdout",
     "output_type": "stream",
     "text": [
      "已删除节点及其所有边：1424996701270683648  (时间差超过 30 天)\n",
      "已删除节点及其所有边：1425156618426232832  (时间差超过 30 天)\n"
     ]
    },
    {
     "name": "stderr",
     "output_type": "stream",
     "text": [
      "\n",
      "/home/root_gdut/miniconda3/envs/network/lib/python3.9/site-packages/networkx/algorithms/assortativity/correlation.py:302: RuntimeWarning: invalid value encountered in scalar divide\n",
      "  return (xy * (M - ab)).sum() / np.sqrt(vara * varb)\n"
     ]
    },
    {
     "name": "stdout",
     "output_type": "stream",
     "text": [
      "已批量写入 0 条数据到 index.csv\n",
      "emotion: -0.3768234848976135 volumn: 0\n",
      "emotion: -0.3429349362850189 volumn: 0\n",
      "emotion: 0.4102973043918609 volumn: 0\n",
      "emotion: -0.4068495035171509 volumn: 0\n",
      "emotion: -0.6398088037967682 volumn: 0\n",
      "emotion: -0.3420318365097046 volumn: 0\n",
      "emotion: 0.3537075817584991 volumn: 0\n",
      "emotion: -0.375156968832016 volumn: 0\n",
      "emotion: -0.3728176653385162 volumn: 0\n",
      "emotion: -0.3990297019481659 volumn: 0\n",
      "emotion: -0.6214494407176971 volumn: 0\n"
     ]
    },
    {
     "name": "stderr",
     "output_type": "stream",
     "text": [
      "删除过期节点: 100%|██████████████████████████████████████████████████████████████████████████████████████████████████████████████████████████████████████████████| 4/4 [00:00<00:00, 43018.50节点/s]"
     ]
    },
    {
     "name": "stdout",
     "output_type": "stream",
     "text": [
      "已删除节点及其所有边：1425268777621475328  (时间差超过 30 天)\n",
      "已删除节点及其所有边：1425315600138637312  (时间差超过 30 天)\n",
      "已删除节点及其所有边：1425401620829982720  (时间差超过 30 天)\n",
      "已删除节点及其所有边：1425496608280653824  (时间差超过 30 天)\n"
     ]
    },
    {
     "name": "stderr",
     "output_type": "stream",
     "text": [
      "\n",
      "/home/root_gdut/miniconda3/envs/network/lib/python3.9/site-packages/networkx/algorithms/assortativity/correlation.py:302: RuntimeWarning: invalid value encountered in scalar divide\n",
      "  return (xy * (M - ab)).sum() / np.sqrt(vara * varb)\n"
     ]
    },
    {
     "name": "stdout",
     "output_type": "stream",
     "text": [
      "emotion: 0.393092930316925 volumn: 0\n",
      "emotion: -0.3884782195091247 volumn: 0\n",
      "emotion: -0.6067965924739838 volumn: 0\n",
      "emotion: 0.3804374933242798 volumn: 0\n",
      "emotion: 0.376624047756195 volumn: 0\n",
      "emotion: 0.3886348605155945 volumn: 0\n",
      "emotion: -0.6474975347518921 volumn: 0\n",
      "emotion: -0.6312010586261749 volumn: 0\n",
      "emotion: -0.3741494119167328 volumn: 0\n",
      "emotion: 0.3876902759075165 volumn: 0\n",
      "emotion: -0.3652787208557129 volumn: 0\n",
      "emotion: -0.6067965924739838 volumn: 0\n",
      "emotion: -0.6358979046344757 volumn: 0\n",
      "emotion: 0.3873760104179382 volumn: 0\n",
      "emotion: 0.3847648203372955 volumn: 0\n",
      "emotion: -0.3664836585521698 volumn: 0\n",
      "emotion: -0.6378979086875916 volumn: 0\n",
      "emotion: -0.4214235544204712 volumn: 0\n",
      "emotion: 0.5172505974769592 volumn: 0\n",
      "emotion: -0.6378979086875916 volumn: 0\n"
     ]
    },
    {
     "name": "stderr",
     "output_type": "stream",
     "text": [
      "删除过期节点: 100%|██████████████████████████████████████████████████████████████████████████████████████████████████████████████████████████████████████████████| 9/9 [00:00<00:00, 67408.46节点/s]"
     ]
    },
    {
     "name": "stdout",
     "output_type": "stream",
     "text": [
      "已删除节点及其所有边：1425635098288746496  (时间差超过 30 天)\n",
      "已删除节点及其所有边：1425696229434998784  (时间差超过 30 天)\n",
      "已删除节点及其所有边：1425697313788465152  (时间差超过 30 天)\n",
      "已删除节点及其所有边：1425715318681338112  (时间差超过 30 天)\n",
      "已删除节点及其所有边：1425751941594980352  (时间差超过 30 天)\n",
      "已删除节点及其所有边：1425757571844124672  (时间差超过 30 天)\n",
      "已删除节点及其所有边：1425757595667738624  (时间差超过 30 天)\n",
      "已删除节点及其所有边：1425851307550707712  (时间差超过 30 天)\n",
      "已删除节点及其所有边：1425859371091861504  (时间差超过 30 天)\n"
     ]
    },
    {
     "name": "stderr",
     "output_type": "stream",
     "text": [
      "\n",
      "/home/root_gdut/miniconda3/envs/network/lib/python3.9/site-packages/networkx/algorithms/assortativity/correlation.py:302: RuntimeWarning: invalid value encountered in scalar divide\n",
      "  return (xy * (M - ab)).sum() / np.sqrt(vara * varb)\n"
     ]
    },
    {
     "name": "stdout",
     "output_type": "stream",
     "text": [
      "emotion: 0.3716049790382385 volumn: 0\n",
      "emotion: 0.6468822956085205 volumn: 0\n",
      "emotion: 0.3876975178718567 volumn: 0\n",
      "emotion: 0.3744398653507232 volumn: 0\n",
      "emotion: 0.3733525574207306 volumn: 0\n",
      "emotion: 0.6538610756397247 volumn: 0\n",
      "emotion: -0.6119860112667084 volumn: 0\n",
      "emotion: 0.6524922549724579 volumn: 0\n",
      "emotion: -0.6358979046344757 volumn: 0\n",
      "emotion: 0.6247093081474304 volumn: 0\n",
      "emotion: -0.6304859220981598 volumn: 0\n",
      "emotion: 0.5855308771133423 volumn: 0\n",
      "emotion: 0.3805065453052521 volumn: 0\n",
      "emotion: -0.36704882979393 volumn: 0\n",
      "emotion: 0.3742702603340149 volumn: 0\n"
     ]
    },
    {
     "name": "stderr",
     "output_type": "stream",
     "text": [
      "删除过期节点: 100%|██████████████████████████████████████████████████████████████████████████████████████████████████████████████████████████████████████████████| 9/9 [00:00<00:00, 67168.57节点/s]"
     ]
    },
    {
     "name": "stdout",
     "output_type": "stream",
     "text": [
      "已删除节点及其所有边：1425972664141819904  (时间差超过 30 天)\n",
      "已删除节点及其所有边：1426002642963111936  (时间差超过 30 天)\n",
      "已删除节点及其所有边：1426010667488841728  (时间差超过 30 天)\n",
      "已删除节点及其所有边：1426060785491484672  (时间差超过 30 天)\n",
      "已删除节点及其所有边：1426015415164154112  (时间差超过 30 天)\n",
      "已删除节点及其所有边：1426092926728278016  (时间差超过 30 天)\n",
      "已删除节点及其所有边：1426150066826485760  (时间差超过 30 天)\n",
      "已删除节点及其所有边：1426255245802450944  (时间差超过 30 天)\n",
      "已删除节点及其所有边：1426259661590827008  (时间差超过 30 天)\n"
     ]
    },
    {
     "name": "stderr",
     "output_type": "stream",
     "text": [
      "\n",
      "/home/root_gdut/miniconda3/envs/network/lib/python3.9/site-packages/networkx/algorithms/assortativity/correlation.py:302: RuntimeWarning: invalid value encountered in scalar divide\n",
      "  return (xy * (M - ab)).sum() / np.sqrt(vara * varb)\n"
     ]
    },
    {
     "name": "stdout",
     "output_type": "stream",
     "text": [
      "emotion: 0.3513455986976623 volumn: 0\n",
      "emotion: 0.3568871617317199 volumn: 0\n",
      "emotion: -0.3856726884841919 volumn: 0\n",
      "emotion: 0.6135479807853699 volumn: 0\n",
      "emotion: 0.4180364906787872 volumn: 0\n",
      "emotion: -0.6504980027675629 volumn: 0\n",
      "emotion: -0.3567503690719604 volumn: 0\n",
      "emotion: 0.6514308154582977 volumn: 0\n"
     ]
    },
    {
     "name": "stderr",
     "output_type": "stream",
     "text": [
      "删除过期节点: 100%|██████████████████████████████████████████████████████████████████████████████████████████████████████████████████████████████████████████████| 2/2 [00:00<00:00, 25266.89节点/s]"
     ]
    },
    {
     "name": "stdout",
     "output_type": "stream",
     "text": [
      "已删除节点及其所有边：1426448761870508032  (时间差超过 30 天)\n",
      "已删除节点及其所有边：1426577850996568064  (时间差超过 30 天)\n"
     ]
    },
    {
     "name": "stderr",
     "output_type": "stream",
     "text": [
      "\n",
      "/home/root_gdut/miniconda3/envs/network/lib/python3.9/site-packages/networkx/algorithms/assortativity/correlation.py:302: RuntimeWarning: invalid value encountered in scalar divide\n",
      "  return (xy * (M - ab)).sum() / np.sqrt(vara * varb)\n"
     ]
    },
    {
     "name": "stdout",
     "output_type": "stream",
     "text": [
      "emotion: 0.6376554071903229 volumn: 0\n",
      "emotion: 0.6375117897987366 volumn: 0\n",
      "emotion: -0.3676546216011047 volumn: 0\n",
      "emotion: -0.3653714954853058 volumn: 0\n",
      "emotion: 0.3674294650554657 volumn: 0\n",
      "emotion: 0.3543059229850769 volumn: 0\n",
      "emotion: 0.3830998241901397 volumn: 0\n",
      "emotion: 0.392776757478714 volumn: 0\n",
      "emotion: -0.3778921067714691 volumn: 0\n",
      "emotion: -0.6405051648616791 volumn: 0\n",
      "emotion: 0.3635699152946472 volumn: 0\n",
      "emotion: 0.3945062756538391 volumn: 0\n",
      "emotion: 0.3836629986763 volumn: 0\n",
      "emotion: -0.3604206144809723 volumn: 0\n",
      "emotion: -0.3910522758960724 volumn: 0\n",
      "emotion: -0.367455393075943 volumn: 0\n",
      "emotion: -0.372030109167099 volumn: 0\n",
      "emotion: -0.6172772943973541 volumn: 0\n",
      "emotion: -0.378063440322876 volumn: 0\n"
     ]
    },
    {
     "name": "stderr",
     "output_type": "stream",
     "text": [
      "删除过期节点: 100%|██████████████████████████████████████████████████████████████████████████████████████████████████████████████████████████████████████████████| 3/3 [00:00<00:00, 31775.03节点/s]"
     ]
    },
    {
     "name": "stdout",
     "output_type": "stream",
     "text": [
      "已删除节点及其所有边：1426892625538260992  (时间差超过 30 天)\n",
      "已删除节点及其所有边：1426895628710383616  (时间差超过 30 天)\n",
      "已删除节点及其所有边：1426939038657884160  (时间差超过 30 天)\n"
     ]
    },
    {
     "name": "stderr",
     "output_type": "stream",
     "text": [
      "\n",
      "/home/root_gdut/miniconda3/envs/network/lib/python3.9/site-packages/networkx/algorithms/assortativity/correlation.py:302: RuntimeWarning: invalid value encountered in scalar divide\n",
      "  return (xy * (M - ab)).sum() / np.sqrt(vara * varb)\n"
     ]
    },
    {
     "name": "stdout",
     "output_type": "stream",
     "text": [
      "emotion: -0.6200659573078156 volumn: 0\n",
      "emotion: 0.3832739591598511 volumn: 0\n",
      "emotion: 0.3855898976325989 volumn: 0\n",
      "emotion: 0.3694542944431305 volumn: 0\n",
      "emotion: -0.4195950031280517 volumn: 0\n"
     ]
    },
    {
     "name": "stderr",
     "output_type": "stream",
     "text": [
      "删除过期节点: 100%|██████████████████████████████████████████████████████████████████████████████████████████████████████████████████████████████████████████████| 4/4 [00:00<00:00, 41943.04节点/s]"
     ]
    },
    {
     "name": "stdout",
     "output_type": "stream",
     "text": [
      "已删除节点及其所有边：1427150166268731392  (时间差超过 30 天)\n",
      "已删除节点及其所有边：1427186634525712384  (时间差超过 30 天)\n",
      "已删除节点及其所有边：1427299418768871424  (时间差超过 30 天)\n",
      "已删除节点及其所有边：1427295087575318528  (时间差超过 30 天)\n"
     ]
    },
    {
     "name": "stderr",
     "output_type": "stream",
     "text": [
      "\n",
      "/home/root_gdut/miniconda3/envs/network/lib/python3.9/site-packages/networkx/algorithms/assortativity/correlation.py:302: RuntimeWarning: invalid value encountered in scalar divide\n",
      "  return (xy * (M - ab)).sum() / np.sqrt(vara * varb)\n"
     ]
    },
    {
     "name": "stdout",
     "output_type": "stream",
     "text": [
      "emotion: -0.348951905965805 volumn: 0\n",
      "emotion: 0.5762403905391693 volumn: 0\n",
      "emotion: 0.3462677597999573 volumn: 0\n",
      "emotion: 0.3648508489131927 volumn: 0\n",
      "emotion: 0.5965422987937927 volumn: 0\n",
      "emotion: 0.5965422987937927 volumn: 0\n"
     ]
    },
    {
     "name": "stderr",
     "output_type": "stream",
     "text": [
      "删除过期节点: 100%|██████████████████████████████████████████████████████████████████████████████████████████████████████████████████████████████████████████████| 9/9 [00:00<00:00, 69518.85节点/s]"
     ]
    },
    {
     "name": "stdout",
     "output_type": "stream",
     "text": [
      "已删除节点及其所有边：1427460460115333120  (时间差超过 30 天)\n",
      "已删除节点及其所有边：1427498184113369088  (时间差超过 30 天)\n",
      "已删除节点及其所有边：1427547511208751104  (时间差超过 30 天)\n",
      "已删除节点及其所有边：1427569569149853696  (时间差超过 30 天)\n",
      "已删除节点及其所有边：1427555839943000064  (时间差超过 30 天)\n",
      "已删除节点及其所有边：1427598106259083264  (时间差超过 30 天)\n",
      "已删除节点及其所有边：1427599939979431936  (时间差超过 30 天)\n",
      "已删除节点及其所有边：1427604405797507072  (时间差超过 30 天)\n",
      "已删除节点及其所有边：1427648315177508864  (时间差超过 30 天)\n"
     ]
    },
    {
     "name": "stderr",
     "output_type": "stream",
     "text": [
      "\n",
      "/home/root_gdut/miniconda3/envs/network/lib/python3.9/site-packages/networkx/algorithms/assortativity/correlation.py:302: RuntimeWarning: invalid value encountered in scalar divide\n",
      "  return (xy * (M - ab)).sum() / np.sqrt(vara * varb)\n"
     ]
    },
    {
     "name": "stdout",
     "output_type": "stream",
     "text": [
      "emotion: 0.3406442999839782 volumn: 0\n",
      "emotion: -0.4405654668807983 volumn: 0\n",
      "emotion: -0.3548973202705383 volumn: 0\n",
      "emotion: 0.3524377048015594 volumn: 0\n",
      "emotion: -0.3865386545658111 volumn: 0\n"
     ]
    },
    {
     "name": "stderr",
     "output_type": "stream",
     "text": [
      "删除过期节点: 100%|██████████████████████████████████████████████████████████████████████████████████████████████████████████████████████████████████████████████| 6/6 [00:00<00:00, 55309.50节点/s]"
     ]
    },
    {
     "name": "stdout",
     "output_type": "stream",
     "text": [
      "已删除节点及其所有边：1427816453055520768  (时间差超过 30 天)\n",
      "已删除节点及其所有边：1427822823007994112  (时间差超过 30 天)\n",
      "已删除节点及其所有边：1427935876173246464  (时间差超过 30 天)\n",
      "已删除节点及其所有边：1427944625558495232  (时间差超过 30 天)\n",
      "已删除节点及其所有边：1427933806242185216  (时间差超过 30 天)\n",
      "已删除节点及其所有边：1428037387008020480  (时间差超过 30 天)\n"
     ]
    },
    {
     "name": "stderr",
     "output_type": "stream",
     "text": [
      "\n",
      "/home/root_gdut/miniconda3/envs/network/lib/python3.9/site-packages/networkx/algorithms/assortativity/correlation.py:302: RuntimeWarning: invalid value encountered in scalar divide\n",
      "  return (xy * (M - ab)).sum() / np.sqrt(vara * varb)\n"
     ]
    },
    {
     "name": "stdout",
     "output_type": "stream",
     "text": [
      "emotion: -0.6280696392059326 volumn: 0\n",
      "emotion: -0.3618653416633606 volumn: 0\n",
      "emotion: 0.3750166893005371 volumn: 0\n",
      "emotion: -0.6280696392059326 volumn: 0\n",
      "emotion: 0.6406270861625671 volumn: 0\n",
      "emotion: 0.6436256170272827 volumn: 0\n",
      "emotion: 0.3866490125656128 volumn: 0\n",
      "emotion: 0.6406270861625671 volumn: 0\n",
      "emotion: 0.3421001136302948 volumn: 0\n"
     ]
    },
    {
     "name": "stderr",
     "output_type": "stream",
     "text": [
      "删除过期节点: 100%|████████████████████████████████████████████████████████████████████████████████████████████████████████████████████████████████████████████| 11/11 [00:00<00:00, 77281.98节点/s]"
     ]
    },
    {
     "name": "stdout",
     "output_type": "stream",
     "text": [
      "已删除节点及其所有边：1428169341095145472  (时间差超过 30 天)\n",
      "已删除节点及其所有边：1428173129503940608  (时间差超过 30 天)\n",
      "已删除节点及其所有边：1428176024517234688  (时间差超过 30 天)\n",
      "已删除节点及其所有边：1428192482378936320  (时间差超过 30 天)\n",
      "已删除节点及其所有边：1428174391968473088  (时间差超过 30 天)\n",
      "已删除节点及其所有边：1428239343429246976  (时间差超过 30 天)\n",
      "已删除节点及其所有边：1428257963945328640  (时间差超过 30 天)\n",
      "已删除节点及其所有边：1428291915544399872  (时间差超过 30 天)\n",
      "已删除节点及其所有边：1428332623798185984  (时间差超过 30 天)\n",
      "已删除节点及其所有边：1428375855361839104  (时间差超过 30 天)\n",
      "已删除节点及其所有边：1428380971200561152  (时间差超过 30 天)\n"
     ]
    },
    {
     "name": "stderr",
     "output_type": "stream",
     "text": [
      "\n",
      "/home/root_gdut/miniconda3/envs/network/lib/python3.9/site-packages/networkx/algorithms/assortativity/correlation.py:302: RuntimeWarning: invalid value encountered in scalar divide\n",
      "  return (xy * (M - ab)).sum() / np.sqrt(vara * varb)\n"
     ]
    },
    {
     "name": "stdout",
     "output_type": "stream",
     "text": [
      "emotion: 0.6326133012771606 volumn: 0\n",
      "emotion: -0.3583050966262817 volumn: 0\n",
      "emotion: -0.3433394134044647 volumn: 0\n",
      "emotion: -0.3881693482398987 volumn: 0\n",
      "emotion: -0.4061436653137207 volumn: 0\n",
      "emotion: 0.3731662929058075 volumn: 0\n",
      "emotion: -0.3583050966262817 volumn: 0\n",
      "emotion: 0.3768248558044433 volumn: 0\n",
      "emotion: 0.6273870766162872 volumn: 0\n"
     ]
    },
    {
     "name": "stderr",
     "output_type": "stream",
     "text": [
      "删除过期节点: 100%|██████████████████████████████████████████████████████████████████████████████████████████████████████████████████████████████████████████████| 9/9 [00:00<00:00, 70034.76节点/s]"
     ]
    },
    {
     "name": "stdout",
     "output_type": "stream",
     "text": [
      "已删除节点及其所有边：1428535769879154688  (时间差超过 30 天)\n",
      "已删除节点及其所有边：1428549613217275904  (时间差超过 30 天)\n",
      "已删除节点及其所有边：1428567982364667904  (时间差超过 30 天)\n",
      "已删除节点及其所有边：1428596262182477824  (时间差超过 30 天)\n",
      "已删除节点及其所有边：1428659585443827712  (时间差超过 30 天)\n",
      "已删除节点及其所有边：1428667892065787904  (时间差超过 30 天)\n",
      "已删除节点及其所有边：1428750472274395136  (时间差超过 30 天)\n",
      "已删除节点及其所有边：1428858307683389440  (时间差超过 30 天)\n",
      "已删除节点及其所有边：1428863331939454976  (时间差超过 30 天)\n"
     ]
    },
    {
     "name": "stderr",
     "output_type": "stream",
     "text": [
      "\n",
      "/home/root_gdut/miniconda3/envs/network/lib/python3.9/site-packages/networkx/algorithms/assortativity/correlation.py:302: RuntimeWarning: invalid value encountered in scalar divide\n",
      "  return (xy * (M - ab)).sum() / np.sqrt(vara * varb)\n"
     ]
    },
    {
     "name": "stdout",
     "output_type": "stream",
     "text": [
      "已批量写入 0 条数据到 index.csv\n",
      "emotion: -0.5753384530544281 volumn: 0\n",
      "emotion: 0.3828218281269073 volumn: 0\n",
      "emotion: 0.3816986382007599 volumn: 0\n",
      "emotion: -0.3482216000556946 volumn: 0\n",
      "emotion: 0.3597842454910278 volumn: 0\n",
      "emotion: 0.3637488782405853 volumn: 0\n",
      "emotion: 0.5192795693874359 volumn: 0\n",
      "emotion: 0.3513455986976623 volumn: 0\n",
      "emotion: 0.3698597252368927 volumn: 0\n",
      "emotion: 0.3605539798736572 volumn: 0\n",
      "emotion: 0.3518861830234527 volumn: 0\n",
      "emotion: -0.3508171737194061 volumn: 0\n",
      "emotion: 0.3617929518222809 volumn: 0\n",
      "emotion: -0.3576246798038482 volumn: 0\n",
      "emotion: 0.3521903455257416 volumn: 0\n"
     ]
    },
    {
     "name": "stderr",
     "output_type": "stream",
     "text": [
      "删除过期节点: 100%|██████████████████████████████████████████████████████████████████████████████████████████████████████████████████████████████████████████████| 3/3 [00:00<00:00, 34473.73节点/s]"
     ]
    },
    {
     "name": "stdout",
     "output_type": "stream",
     "text": [
      "已删除节点及其所有边：1428926742010363904  (时间差超过 30 天)\n",
      "已删除节点及其所有边：1428960571714637824  (时间差超过 30 天)\n",
      "已删除节点及其所有边：1429088972601315328  (时间差超过 30 天)\n"
     ]
    },
    {
     "name": "stderr",
     "output_type": "stream",
     "text": [
      "\n",
      "/home/root_gdut/miniconda3/envs/network/lib/python3.9/site-packages/networkx/algorithms/assortativity/correlation.py:302: RuntimeWarning: invalid value encountered in scalar divide\n",
      "  return (xy * (M - ab)).sum() / np.sqrt(vara * varb)\n"
     ]
    },
    {
     "name": "stdout",
     "output_type": "stream",
     "text": [
      "emotion: -0.6519107520580292 volumn: 0\n",
      "emotion: -0.4190445840358734 volumn: 0\n",
      "emotion: 0.3899566531181335 volumn: 0\n",
      "emotion: 0.3854826390743255 volumn: 0\n",
      "emotion: 0.3780383467674255 volumn: 0\n",
      "emotion: 0.3722184300422668 volumn: 0\n",
      "emotion: 0.4131431877613067 volumn: 0\n",
      "emotion: 0.3645147681236267 volumn: 0\n",
      "emotion: 0.6329800188541412 volumn: 0\n",
      "emotion: -0.3713835477828979 volumn: 0\n",
      "emotion: -0.3713955283164978 volumn: 0\n",
      "emotion: -0.370502769947052 volumn: 0\n",
      "emotion: -0.6457782983779907 volumn: 0\n",
      "emotion: -0.6519107520580292 volumn: 0\n",
      "emotion: -0.3625774085521698 volumn: 0\n",
      "emotion: -0.3399517238140106 volumn: 0\n",
      "emotion: 0.4032143950462341 volumn: 0\n"
     ]
    },
    {
     "name": "stderr",
     "output_type": "stream",
     "text": [
      "删除过期节点: 100%|██████████████████████████████████████████████████████████████████████████████████████████████████████████████████████████████████████████████| 7/7 [00:00<00:00, 60287.74节点/s]"
     ]
    },
    {
     "name": "stdout",
     "output_type": "stream",
     "text": [
      "已删除节点及其所有边：1429289134154158080  (时间差超过 30 天)\n",
      "已删除节点及其所有边：1429289353902137088  (时间差超过 30 天)\n",
      "已删除节点及其所有边：1429364220492075008  (时间差超过 30 天)\n",
      "已删除节点及其所有边：1429405262138404864  (时间差超过 30 天)\n",
      "已删除节点及其所有边：1429337997808263168  (时间差超过 30 天)\n",
      "已删除节点及其所有边：1429433843639984128  (时间差超过 30 天)\n",
      "已删除节点及其所有边：1429475498724184064  (时间差超过 30 天)\n"
     ]
    },
    {
     "name": "stderr",
     "output_type": "stream",
     "text": [
      "\n",
      "/home/root_gdut/miniconda3/envs/network/lib/python3.9/site-packages/networkx/algorithms/assortativity/correlation.py:302: RuntimeWarning: invalid value encountered in scalar divide\n",
      "  return (xy * (M - ab)).sum() / np.sqrt(vara * varb)\n"
     ]
    },
    {
     "name": "stdout",
     "output_type": "stream",
     "text": [
      "emotion: -0.3627223968505859 volumn: 0\n",
      "emotion: -0.3627223968505859 volumn: 0\n",
      "emotion: 0.383652776479721 volumn: 0\n",
      "emotion: -0.3785009682178497 volumn: 0\n",
      "emotion: 0.399493008852005 volumn: 0\n",
      "emotion: 0.3956603109836578 volumn: 0\n",
      "emotion: 0.3723113238811493 volumn: 0\n",
      "emotion: -0.3421846032142639 volumn: 0\n",
      "emotion: -0.3908015191555023 volumn: 0\n",
      "emotion: -0.6154791712760925 volumn: 0\n",
      "emotion: -0.442117303609848 volumn: 0\n",
      "emotion: -0.3845928013324737 volumn: 0\n",
      "emotion: -0.6358973681926727 volumn: 0\n"
     ]
    },
    {
     "name": "stderr",
     "output_type": "stream",
     "text": [
      "删除过期节点: 100%|████████████████████████████████████████████████████████████████████████████████████████████████████████████████████████████████████████████| 10/10 [00:00<00:00, 73584.28节点/s]"
     ]
    },
    {
     "name": "stdout",
     "output_type": "stream",
     "text": [
      "已删除节点及其所有边：1429601567016169472  (时间差超过 30 天)\n",
      "已删除节点及其所有边：1429630362070568960  (时间差超过 30 天)\n",
      "已删除节点及其所有边：1429686856736780288  (时间差超过 30 天)\n",
      "已删除节点及其所有边：1429638465935736832  (时间差超过 30 天)\n",
      "已删除节点及其所有边：1429750277230546944  (时间差超过 30 天)\n",
      "已删除节点及其所有边：1429761665554423808  (时间差超过 30 天)\n",
      "已删除节点及其所有边：1429797096161488896  (时间差超过 30 天)\n",
      "已删除节点及其所有边：1429823505445626112  (时间差超过 30 天)\n",
      "已删除节点及其所有边：1429845518385958912  (时间差超过 30 天)\n",
      "已删除节点及其所有边：1429861810023317504  (时间差超过 30 天)\n"
     ]
    },
    {
     "name": "stderr",
     "output_type": "stream",
     "text": [
      "\n",
      "/home/root_gdut/miniconda3/envs/network/lib/python3.9/site-packages/networkx/algorithms/assortativity/correlation.py:302: RuntimeWarning: invalid value encountered in scalar divide\n",
      "  return (xy * (M - ab)).sum() / np.sqrt(vara * varb)\n"
     ]
    },
    {
     "name": "stdout",
     "output_type": "stream",
     "text": [
      "emotion: -0.6356293559074402 volumn: 0\n",
      "emotion: 0.3516510426998138 volumn: 0\n"
     ]
    },
    {
     "name": "stderr",
     "output_type": "stream",
     "text": [
      "删除过期节点: 100%|████████████████████████████████████████████████████████████████████████████████████████████████████████████████████████████████████████████| 11/11 [00:00<00:00, 77023.95节点/s]\n"
     ]
    },
    {
     "name": "stdout",
     "output_type": "stream",
     "text": [
      "已删除节点及其所有边：1430015523190972416  (时间差超过 30 天)\n",
      "已删除节点及其所有边：1430020233494859776  (时间差超过 30 天)\n",
      "已删除节点及其所有边：1430050251096961024  (时间差超过 30 天)\n",
      "已删除节点及其所有边：1430177337014902784  (时间差超过 30 天)\n",
      "已删除节点及其所有边：1430073136477843712  (时间差超过 30 天)\n",
      "已删除节点及其所有边：1430183627506257920  (时间差超过 30 天)\n",
      "已删除节点及其所有边：1430222986364211200  (时间差超过 30 天)\n",
      "已删除节点及其所有边：1430225399536041984  (时间差超过 30 天)\n",
      "已删除节点及其所有边：1430232083478294528  (时间差超过 30 天)\n",
      "已删除节点及其所有边：1430234892365873152  (时间差超过 30 天)\n",
      "已删除节点及其所有边：1430236920693547008  (时间差超过 30 天)\n"
     ]
    },
    {
     "name": "stderr",
     "output_type": "stream",
     "text": [
      "/home/root_gdut/miniconda3/envs/network/lib/python3.9/site-packages/networkx/algorithms/assortativity/correlation.py:302: RuntimeWarning: invalid value encountered in scalar divide\n",
      "  return (xy * (M - ab)).sum() / np.sqrt(vara * varb)\n"
     ]
    },
    {
     "name": "stdout",
     "output_type": "stream",
     "text": [
      "emotion: 0.3878998756408691 volumn: 0\n",
      "emotion: -0.6389254927635193 volumn: 0\n",
      "emotion: -0.3660315871238708 volumn: 0\n",
      "emotion: -0.3528637886047363 volumn: 0\n",
      "emotion: -0.3618196249008178 volumn: 0\n"
     ]
    },
    {
     "name": "stderr",
     "output_type": "stream",
     "text": [
      "删除过期节点: 100%|██████████████████████████████████████████████████████████████████████████████████████████████████████████████████████████████████████████████| 9/9 [00:00<00:00, 68138.51节点/s]"
     ]
    },
    {
     "name": "stdout",
     "output_type": "stream",
     "text": [
      "已删除节点及其所有边：1430391156118933504  (时间差超过 30 天)\n",
      "已删除节点及其所有边：1430411380688105472  (时间差超过 30 天)\n",
      "已删除节点及其所有边：1430425841142435840  (时间差超过 30 天)\n",
      "已删除节点及其所有边：1430431779673067520  (时间差超过 30 天)\n",
      "已删除节点及其所有边：1430459446157791232  (时间差超过 30 天)\n",
      "已删除节点及其所有边：1430475300375306240  (时间差超过 30 天)\n",
      "已删除节点及其所有边：1430555214852067328  (时间差超过 30 天)\n",
      "已删除节点及其所有边：1430556037015343104  (时间差超过 30 天)\n",
      "已删除节点及其所有边：1430556266485755904  (时间差超过 30 天)\n"
     ]
    },
    {
     "name": "stderr",
     "output_type": "stream",
     "text": [
      "\n",
      "/home/root_gdut/miniconda3/envs/network/lib/python3.9/site-packages/networkx/algorithms/assortativity/correlation.py:302: RuntimeWarning: invalid value encountered in scalar divide\n",
      "  return (xy * (M - ab)).sum() / np.sqrt(vara * varb)\n"
     ]
    },
    {
     "name": "stdout",
     "output_type": "stream",
     "text": [
      "emotion: -0.3716068863868713 volumn: 0\n",
      "emotion: 0.3752647042274475 volumn: 0\n",
      "emotion: 0.6605399549007416 volumn: 0\n",
      "emotion: 0.3721756637096405 volumn: 0\n",
      "emotion: 0.5957690477371216 volumn: 0\n",
      "emotion: -0.3728163540363312 volumn: 0\n",
      "emotion: 0.649969071149826 volumn: 0\n",
      "emotion: 0.3736596405506134 volumn: 0\n",
      "emotion: -0.3530795276165008 volumn: 0\n",
      "emotion: 0.6474720537662506 volumn: 0\n",
      "emotion: 0.6302944123744965 volumn: 0\n",
      "emotion: 0.3516046106815338 volumn: 0\n",
      "emotion: -0.3367830216884613 volumn: 0\n"
     ]
    },
    {
     "name": "stderr",
     "output_type": "stream",
     "text": [
      "删除过期节点: 100%|██████████████████████████████████████████████████████████████████████████████████████████████████████████████████████████████████████████████| 4/4 [00:00<00:00, 42366.71节点/s]"
     ]
    },
    {
     "name": "stdout",
     "output_type": "stream",
     "text": [
      "已删除节点及其所有边：1430786099232878592  (时间差超过 30 天)\n",
      "已删除节点及其所有边：1430826608177205248  (时间差超过 30 天)\n",
      "已删除节点及其所有边：1430921707590766592  (时间差超过 30 天)\n",
      "已删除节点及其所有边：1430930597338226688  (时间差超过 30 天)\n"
     ]
    },
    {
     "name": "stderr",
     "output_type": "stream",
     "text": [
      "\n"
     ]
    },
    {
     "name": "stdout",
     "output_type": "stream",
     "text": [
      "emotion: -0.4287097752094269 volumn: 0\n",
      "emotion: 0.4267823696136474 volumn: 0\n",
      "emotion: 0.4346853196620941 volumn: 0\n",
      "emotion: 0.3511928617954254 volumn: 0\n",
      "emotion: -0.3986400365829468 volumn: 0\n",
      "emotion: -0.36032834649086 volumn: 0\n",
      "emotion: -0.3838883936405182 volumn: 0\n",
      "emotion: 0.6359828114509583 volumn: 0\n",
      "emotion: 0.400163859128952 volumn: 0\n",
      "emotion: 0.6455375850200653 volumn: 0\n",
      "emotion: -0.6266947686672211 volumn: 0\n",
      "emotion: 0.3704377114772796 volumn: 0\n"
     ]
    },
    {
     "name": "stderr",
     "output_type": "stream",
     "text": [
      "删除过期节点: 100%|██████████████████████████████████████████████████████████████████████████████████████████████████████████████████████████████████████████████| 8/8 [00:00<00:00, 64776.90节点/s]"
     ]
    },
    {
     "name": "stdout",
     "output_type": "stream",
     "text": [
      "已删除节点及其所有边：1431136598524154112  (时间差超过 30 天)\n",
      "已删除节点及其所有边：1431148235888939008  (时间差超过 30 天)\n",
      "已删除节点及其所有边：1431154225719889920  (时间差超过 30 天)\n",
      "已删除节点及其所有边：1431164846582779904  (时间差超过 30 天)\n",
      "已删除节点及其所有边：1431177788556382208  (时间差超过 30 天)\n",
      "已删除节点及其所有边：1431194038175158272  (时间差超过 30 天)\n",
      "已删除节点及其所有边：1431195595746709504  (时间差超过 30 天)\n",
      "已删除节点及其所有边：1431285850629935104  (时间差超过 30 天)\n"
     ]
    },
    {
     "name": "stderr",
     "output_type": "stream",
     "text": [
      "\n"
     ]
    },
    {
     "name": "stdout",
     "output_type": "stream",
     "text": [
      "emotion: -0.3651939630508423 volumn: 0\n",
      "emotion: 0.4216989278793335 volumn: 0\n",
      "emotion: 0.4175434410572052 volumn: 0\n",
      "emotion: -0.3675108253955841 volumn: 0\n",
      "emotion: 0.3923605382442474 volumn: 0\n",
      "emotion: 0.3857372105121612 volumn: 0\n",
      "emotion: -0.3803007304668426 volumn: 0\n",
      "emotion: -0.6299163401126862 volumn: 0\n",
      "emotion: -0.3808019757270813 volumn: 0\n",
      "emotion: -0.6459252834320068 volumn: 0\n",
      "emotion: -0.3983674347400665 volumn: 0\n",
      "emotion: 0.6288731694221497 volumn: 0\n",
      "emotion: 0.3745206892490387 volumn: 0\n",
      "emotion: 0.6287877261638641 volumn: 0\n",
      "emotion: 0.3522182703018188 volumn: 0\n",
      "emotion: 0.3522182703018188 volumn: 0\n",
      "emotion: 0.5959587693214417 volumn: 0\n",
      "emotion: -0.401591807603836 volumn: 0\n"
     ]
    },
    {
     "name": "stderr",
     "output_type": "stream",
     "text": [
      "删除过期节点: 100%|██████████████████████████████████████████████████████████████████████████████████████████████████████████████████████████████████████████████| 3/3 [00:00<00:00, 30247.38节点/s]"
     ]
    },
    {
     "name": "stdout",
     "output_type": "stream",
     "text": [
      "已删除节点及其所有边：1431571174903873536  (时间差超过 30 天)\n",
      "已删除节点及其所有边：1431633684386488320  (时间差超过 30 天)\n",
      "已删除节点及其所有边：1431666473773113088  (时间差超过 30 天)\n"
     ]
    },
    {
     "name": "stderr",
     "output_type": "stream",
     "text": [
      "\n"
     ]
    },
    {
     "name": "stdout",
     "output_type": "stream",
     "text": [
      "emotion: -0.4613794982433319 volumn: 0\n",
      "emotion: -0.3950574994087219 volumn: 0\n",
      "emotion: 0.3911535143852234 volumn: 0\n",
      "emotion: 0.3860699832439422 volumn: 0\n",
      "emotion: 0.4348843693733215 volumn: 0\n",
      "emotion: -0.6416534185409546 volumn: 0\n",
      "emotion: 0.3686021864414215 volumn: 0\n",
      "emotion: 0.3793282806873321 volumn: 0\n",
      "emotion: 0.3839842677116394 volumn: 0\n",
      "emotion: 0.3934531211853027 volumn: 0\n",
      "emotion: 0.4216251373291015 volumn: 0\n",
      "emotion: -0.6198310852050781 volumn: 0\n",
      "emotion: 0.3852417767047882 volumn: 0\n",
      "emotion: -0.3972083032131195 volumn: 0\n",
      "emotion: 0.3474973440170288 volumn: 0\n",
      "emotion: 0.3673482239246368 volumn: 0\n",
      "emotion: -0.358431875705719 volumn: 0\n",
      "emotion: -0.4151257574558258 volumn: 0\n",
      "emotion: 0.3463210165500641 volumn: 0\n",
      "emotion: 0.3673482239246368 volumn: 0\n",
      "emotion: -0.3464919626712799 volumn: 0\n",
      "emotion: 0.368225634098053 volumn: 0\n"
     ]
    },
    {
     "name": "stderr",
     "output_type": "stream",
     "text": [
      "删除过期节点: 100%|██████████████████████████████████████████████████████████████████████████████████████████████████████████████████████████████████████████████| 4/4 [00:00<00:00, 41943.04节点/s]"
     ]
    },
    {
     "name": "stdout",
     "output_type": "stream",
     "text": [
      "已删除节点及其所有边：1431887103575658496  (时间差超过 30 天)\n",
      "已删除节点及其所有边：1431972735291310080  (时间差超过 30 天)\n",
      "已删除节点及其所有边：1431976996255395840  (时间差超过 30 天)\n",
      "已删除节点及其所有边：1432028823755923712  (时间差超过 30 天)\n"
     ]
    },
    {
     "name": "stderr",
     "output_type": "stream",
     "text": [
      "\n"
     ]
    },
    {
     "name": "stdout",
     "output_type": "stream",
     "text": [
      "emotion: 0.3940714299678802 volumn: 0\n",
      "emotion: -0.6580490469932556 volumn: 0\n",
      "emotion: -0.3655737042427063 volumn: 0\n"
     ]
    },
    {
     "name": "stderr",
     "output_type": "stream",
     "text": [
      "删除过期节点: 100%|████████████████████████████████████████████████████████████████████████████████████████████████████████████████████████████████████████████| 10/10 [00:00<00:00, 71820.27节点/s]"
     ]
    },
    {
     "name": "stdout",
     "output_type": "stream",
     "text": [
      "已删除节点及其所有边：1432178334339715072  (时间差超过 30 天)\n",
      "已删除节点及其所有边：1432186326191939584  (时间差超过 30 天)\n",
      "已删除节点及其所有边：1432186841264910336  (时间差超过 30 天)\n",
      "已删除节点及其所有边：1432244311911849984  (时间差超过 30 天)\n",
      "已删除节点及其所有边：1432210485210927104  (时间差超过 30 天)\n",
      "已删除节点及其所有边：1432266102353104896  (时间差超过 30 天)\n",
      "已删除节点及其所有边：1432266539177107712  (时间差超过 30 天)\n",
      "已删除节点及其所有边：1432282762388676608  (时间差超过 30 天)\n",
      "已删除节点及其所有边：1432384987710509056  (时间差超过 30 天)\n",
      "已删除节点及其所有边：1432484665085005824  (时间差超过 30 天)\n"
     ]
    },
    {
     "name": "stderr",
     "output_type": "stream",
     "text": [
      "\n"
     ]
    },
    {
     "name": "stdout",
     "output_type": "stream",
     "text": [
      "已批量写入 0 条数据到 index.csv\n",
      "emotion: -0.3745395541191101 volumn: 0\n",
      "emotion: 0.4051333367824554 volumn: 0\n",
      "emotion: -0.3714689016342163 volumn: 0\n"
     ]
    },
    {
     "name": "stderr",
     "output_type": "stream",
     "text": [
      "删除过期节点: 100%|████████████████████████████████████████████████████████████████████████████████████████████████████████████████████████████████████████████| 13/13 [00:00<00:00, 78117.41节点/s]"
     ]
    },
    {
     "name": "stdout",
     "output_type": "stream",
     "text": [
      "已删除节点及其所有边：1432541670130831360  (时间差超过 30 天)\n",
      "已删除节点及其所有边：1432553998670835712  (时间差超过 30 天)\n",
      "已删除节点及其所有边：1432588727524659200  (时间差超过 30 天)\n",
      "已删除节点及其所有边：1432632921500762112  (时间差超过 30 天)\n",
      "已删除节点及其所有边：1432612807049089024  (时间差超过 30 天)\n",
      "已删除节点及其所有边：1432654660049932288  (时间差超过 30 天)\n",
      "已删除节点及其所有边：1432655670059446272  (时间差超过 30 天)\n",
      "已删除节点及其所有边：1432666427039760384  (时间差超过 30 天)\n",
      "已删除节点及其所有边：1432705496545439488  (时间差超过 30 天)\n",
      "已删除节点及其所有边：1432733634797182976  (时间差超过 30 天)\n",
      "已删除节点及其所有边：1432765127812648960  (时间差超过 30 天)\n",
      "已删除节点及其所有边：1432846082527137792  (时间差超过 30 天)\n",
      "已删除节点及其所有边：1432761734549356288  (时间差超过 30 天)\n"
     ]
    },
    {
     "name": "stderr",
     "output_type": "stream",
     "text": [
      "\n"
     ]
    },
    {
     "name": "stdout",
     "output_type": "stream",
     "text": [
      "emotion: -0.3641209602355957 volumn: 0\n",
      "emotion: -0.3789291381835937 volumn: 0\n"
     ]
    },
    {
     "name": "stderr",
     "output_type": "stream",
     "text": [
      "删除过期节点: 100%|████████████████████████████████████████████████████████████████████████████████████████████████████████████████████████████████████████████| 19/19 [00:00<00:00, 93206.76节点/s]"
     ]
    },
    {
     "name": "stdout",
     "output_type": "stream",
     "text": [
      "已删除节点及其所有边：1432896504008744960  (时间差超过 30 天)\n",
      "已删除节点及其所有边：1432914374411362304  (时间差超过 30 天)\n",
      "已删除节点及其所有边：1432933327191756800  (时间差超过 30 天)\n",
      "已删除节点及其所有边：1432933753421238272  (时间差超过 30 天)\n",
      "已删除节点及其所有边：1432944974841143296  (时间差超过 30 天)\n",
      "已删除节点及其所有边：1432982821157498880  (时间差超过 30 天)\n",
      "已删除节点及其所有边：1432995407097913088  (时间差超过 30 天)\n",
      "已删除节点及其所有边：1432999678832824320  (时间差超过 30 天)\n",
      "已删除节点及其所有边：1432999682637131520  (时间差超过 30 天)\n",
      "已删除节点及其所有边：1432999686529449984  (时间差超过 30 天)\n",
      "已删除节点及其所有边：1432999690635677696  (时间差超过 30 天)\n",
      "已删除节点及其所有边：1433101152363626496  (时间差超过 30 天)\n",
      "已删除节点及其所有边：1433106049335185408  (时间差超过 30 天)\n",
      "已删除节点及其所有边：1433036425994330112  (时间差超过 30 天)\n",
      "已删除节点及其所有边：1433017553530593280  (时间差超过 30 天)\n",
      "已删除节点及其所有边：1433020476750647296  (时间差超过 30 天)\n",
      "已删除节点及其所有边：1433103913226575872  (时间差超过 30 天)\n",
      "已删除节点及其所有边：1433103583034191872  (时间差超过 30 天)\n",
      "已删除节点及其所有边：1433012521640906752  (时间差超过 30 天)\n"
     ]
    },
    {
     "name": "stderr",
     "output_type": "stream",
     "text": [
      "\n"
     ]
    },
    {
     "name": "stdout",
     "output_type": "stream",
     "text": [
      "emotion: 0.3733488023281097 volumn: 0\n",
      "emotion: -0.475236028432846 volumn: 0\n",
      "emotion: 0.3650022447109222 volumn: 0\n",
      "emotion: -0.6407243311405182 volumn: 0\n",
      "emotion: 0.6250395476818085 volumn: 0\n",
      "emotion: 0.3670887351036072 volumn: 0\n",
      "emotion: -0.4373981356620788 volumn: 0\n",
      "emotion: 0.4093189835548401 volumn: 0\n",
      "emotion: 0.3550325930118561 volumn: 0\n",
      "emotion: 0.4103468656539917 volumn: 0\n",
      "emotion: 0.6205237209796906 volumn: 0\n",
      "emotion: -0.3641209602355957 volumn: 0\n",
      "emotion: -0.3848118782043457 volumn: 0\n",
      "emotion: -0.3462238907814026 volumn: 0\n",
      "emotion: 0.3694058060646057 volumn: 0\n",
      "emotion: -0.3929635882377624 volumn: 0\n"
     ]
    },
    {
     "name": "stderr",
     "output_type": "stream",
     "text": [
      "删除过期节点: 100%|██████████████████████████████████████████████████████████████████████████████████████████████████████████████████████████████████████████████| 5/5 [00:00<00:00, 46294.75节点/s]"
     ]
    },
    {
     "name": "stdout",
     "output_type": "stream",
     "text": [
      "已删除节点及其所有边：1433297285253795840  (时间差超过 30 天)\n",
      "已删除节点及其所有边：1433309823802613760  (时间差超过 30 天)\n",
      "已删除节点及其所有边：1433378985535320064  (时间差超过 30 天)\n",
      "已删除节点及其所有边：1433375558121963520  (时间差超过 30 天)\n",
      "已删除节点及其所有边：1433380643388395520  (时间差超过 30 天)\n"
     ]
    },
    {
     "name": "stderr",
     "output_type": "stream",
     "text": [
      "\n"
     ]
    },
    {
     "name": "stdout",
     "output_type": "stream",
     "text": [
      "emotion: -0.3860425055027008 volumn: 0\n",
      "emotion: -0.6511978507041931 volumn: 0\n",
      "emotion: 0.3673490285873413 volumn: 0\n",
      "emotion: -0.3575828671455383 volumn: 0\n",
      "emotion: 0.638226330280304 volumn: 0\n"
     ]
    },
    {
     "name": "stderr",
     "output_type": "stream",
     "text": [
      "删除过期节点: 100%|██████████████████████████████████████████████████████████████████████████████████████████████████████████████████████████████████████████████| 9/9 [00:00<00:00, 68015.74节点/s]"
     ]
    },
    {
     "name": "stdout",
     "output_type": "stream",
     "text": [
      "已删除节点及其所有边：1433599916773765120  (时间差超过 30 天)\n",
      "已删除节点及其所有边：1433609402150526976  (时间差超过 30 天)\n",
      "已删除节点及其所有边：1433614514570899712  (时间差超过 30 天)\n",
      "已删除节点及其所有边：1433629943129280512  (时间差超过 30 天)\n",
      "已删除节点及其所有边：1433613506662834176  (时间差超过 30 天)\n",
      "已删除节点及其所有边：1433825307698532352  (时间差超过 30 天)\n",
      "已删除节点及其所有边：1433829802599911424  (时间差超过 30 天)\n",
      "已删除节点及其所有边：1433831061453168640  (时间差超过 30 天)\n",
      "已删除节点及其所有边：1433867110376095488  (时间差超过 30 天)\n"
     ]
    },
    {
     "name": "stderr",
     "output_type": "stream",
     "text": [
      "\n"
     ]
    },
    {
     "name": "stdout",
     "output_type": "stream",
     "text": [
      "emotion: 0.3588303327560425 volumn: 0\n",
      "emotion: 0.3599635064601898 volumn: 0\n",
      "emotion: 0.3917229771614074 volumn: 0\n",
      "emotion: 0.3673490285873413 volumn: 0\n",
      "emotion: -0.3548494279384613 volumn: 0\n",
      "emotion: 0.629268616437912 volumn: 0\n",
      "emotion: 0.6341340839862823 volumn: 0\n",
      "emotion: -0.3675020635128021 volumn: 0\n"
     ]
    },
    {
     "name": "stderr",
     "output_type": "stream",
     "text": [
      "删除过期节点: 100%|██████████████████████████████████████████████████████████████████████████████████████████████████████████████████████████████████████████████| 3/3 [00:00<00:00, 34192.70节点/s]"
     ]
    },
    {
     "name": "stdout",
     "output_type": "stream",
     "text": [
      "已删除节点及其所有边：1434204351824683008  (时间差超过 30 天)\n",
      "已删除节点及其所有边：1434208201243860992  (时间差超过 30 天)\n",
      "已删除节点及其所有边：1434211151085178880  (时间差超过 30 天)\n"
     ]
    },
    {
     "name": "stderr",
     "output_type": "stream",
     "text": [
      "\n"
     ]
    },
    {
     "name": "stdout",
     "output_type": "stream",
     "text": [
      "emotion: 0.3925646841526031 volumn: 0\n",
      "emotion: -0.3759125769138336 volumn: 0\n",
      "emotion: -0.3759125769138336 volumn: 0\n",
      "emotion: -0.3736594915390014 volumn: 0\n"
     ]
    },
    {
     "name": "stderr",
     "output_type": "stream",
     "text": [
      "删除过期节点: 100%|██████████████████████████████████████████████████████████████████████████████████████████████████████████████████████████████████████████████| 4/4 [00:00<00:00, 39945.75节点/s]"
     ]
    },
    {
     "name": "stdout",
     "output_type": "stream",
     "text": [
      "已删除节点及其所有边：1434464635403608064  (时间差超过 30 天)\n",
      "已删除节点及其所有边：1434467354809827328  (时间差超过 30 天)\n",
      "已删除节点及其所有边：1434548467188346880  (时间差超过 30 天)\n",
      "已删除节点及其所有边：1434549390174216192  (时间差超过 30 天)\n"
     ]
    },
    {
     "name": "stderr",
     "output_type": "stream",
     "text": [
      "\n"
     ]
    },
    {
     "name": "stdout",
     "output_type": "stream",
     "text": [
      "emotion: -0.4058599770069122 volumn: 0\n",
      "emotion: -0.5743692219257355 volumn: 0\n",
      "emotion: 0.3658227622509002 volumn: 0\n",
      "emotion: 0.3784048855304718 volumn: 0\n",
      "emotion: -0.3939789533615112 volumn: 0\n",
      "emotion: -0.3547715842723846 volumn: 0\n",
      "emotion: 0.3738085329532623 volumn: 0\n",
      "emotion: 0.6420589983463287 volumn: 0\n",
      "emotion: -0.3642809391021728 volumn: 0\n",
      "emotion: 0.4109531044960022 volumn: 0\n",
      "emotion: 0.3512517809867859 volumn: 0\n",
      "emotion: 0.3743235170841217 volumn: 0\n"
     ]
    },
    {
     "name": "stderr",
     "output_type": "stream",
     "text": [
      "删除过期节点: 100%|████████████████████████████████████████████████████████████████████████████████████████████████████████████████████████████████████████████| 11/11 [00:00<00:00, 77672.30节点/s]"
     ]
    },
    {
     "name": "stdout",
     "output_type": "stream",
     "text": [
      "已删除节点及其所有边：1434710772223905536  (时间差超过 30 天)\n",
      "已删除节点及其所有边：1434710778020458496  (时间差超过 30 天)\n",
      "已删除节点及其所有边：1434710774929264640  (时间差超过 30 天)\n",
      "已删除节点及其所有边：1434786576958038016  (时间差超过 30 天)\n",
      "已删除节点及其所有边：1434776310056898560  (时间差超过 30 天)\n",
      "已删除节点及其所有边：1434838884504903680  (时间差超过 30 天)\n",
      "已删除节点及其所有边：1434904261712879616  (时间差超过 30 天)\n",
      "已删除节点及其所有边：1434927800553811968  (时间差超过 30 天)\n",
      "已删除节点及其所有边：1434935201805778944  (时间差超过 30 天)\n",
      "已删除节点及其所有边：1434944220477804288  (时间差超过 30 天)\n",
      "已删除节点及其所有边：1435016465950789632  (时间差超过 30 天)\n"
     ]
    },
    {
     "name": "stderr",
     "output_type": "stream",
     "text": [
      "\n"
     ]
    },
    {
     "name": "stdout",
     "output_type": "stream",
     "text": [
      "emotion: 0.6222490072250366 volumn: 0\n",
      "emotion: -0.3814574182033539 volumn: 0\n",
      "emotion: -0.6569536626338959 volumn: 0\n",
      "emotion: 0.3977322280406952 volumn: 0\n",
      "emotion: -0.6408935785293579 volumn: 0\n",
      "emotion: -0.3697074651718139 volumn: 0\n",
      "emotion: -0.3784803748130798 volumn: 0\n",
      "emotion: 0.3733537197113037 volumn: 0\n",
      "emotion: 0.3540543019771576 volumn: 0\n",
      "emotion: -0.3806321322917938 volumn: 0\n",
      "emotion: -0.3631307482719421 volumn: 0\n",
      "emotion: -0.37110036611557 volumn: 0\n",
      "emotion: -0.351444810628891 volumn: 0\n",
      "emotion: -0.6323449015617371 volumn: 0\n",
      "emotion: 0.3580187261104584 volumn: 0\n"
     ]
    },
    {
     "name": "stderr",
     "output_type": "stream",
     "text": [
      "删除过期节点: 100%|████████████████████████████████████████████████████████████████████████████████████████████████████████████████████████████████████████████| 13/13 [00:00<00:00, 80899.04节点/s]"
     ]
    },
    {
     "name": "stdout",
     "output_type": "stream",
     "text": [
      "已删除节点及其所有边：1435062057171238912  (时间差超过 30 天)\n",
      "已删除节点及其所有边：1435079704000688128  (时间差超过 30 天)\n",
      "已删除节点及其所有边：1435083181057888512  (时间差超过 30 天)\n",
      "已删除节点及其所有边：1435092227102027776  (时间差超过 30 天)\n",
      "已删除节点及其所有边：1435150608500150272  (时间差超过 30 天)\n",
      "已删除节点及其所有边：1435154133317791488  (时间差超过 30 天)\n",
      "已删除节点及其所有边：1435161432962764800  (时间差超过 30 天)\n",
      "已删除节点及其所有边：1435193197609771008  (时间差超过 30 天)\n",
      "已删除节点及其所有边：1435203460685877248  (时间差超过 30 天)\n",
      "已删除节点及其所有边：1435213274497355776  (时间差超过 30 天)\n",
      "已删除节点及其所有边：1435214197088997376  (时间差超过 30 天)\n",
      "已删除节点及其所有边：1435255287057944576  (时间差超过 30 天)\n",
      "已删除节点及其所有边：1435259201735970816  (时间差超过 30 天)\n"
     ]
    },
    {
     "name": "stderr",
     "output_type": "stream",
     "text": [
      "\n"
     ]
    },
    {
     "name": "stdout",
     "output_type": "stream",
     "text": [
      "emotion: 0.3846946954727173 volumn: 0\n",
      "emotion: 0.4058574736118316 volumn: 0\n",
      "emotion: 0.4439300894737243 volumn: 0\n",
      "emotion: 0.3777303993701935 volumn: 0\n",
      "emotion: -0.6290892958641052 volumn: 0\n",
      "emotion: -0.3858696222305298 volumn: 0\n",
      "emotion: 0.3499025106430053 volumn: 0\n",
      "emotion: 0.630792647600174 volumn: 0\n",
      "emotion: 0.6115744411945343 volumn: 0\n",
      "emotion: 0.3572104275226593 volumn: 0\n",
      "emotion: -0.3872571587562561 volumn: 0\n"
     ]
    },
    {
     "name": "stderr",
     "output_type": "stream",
     "text": [
      "删除过期节点: 100%|███████████████████████████████████████████████████████████████████████████████████████████████████████████████████████████████████████████| 23/23 [00:00<00:00, 101546.31节点/s]"
     ]
    },
    {
     "name": "stdout",
     "output_type": "stream",
     "text": [
      "已删除节点及其所有边：1435415070419259392  (时间差超过 30 天)\n",
      "已删除节点及其所有边：1435439264020508672  (时间差超过 30 天)\n",
      "已删除节点及其所有边：1435466569472036864  (时间差超过 30 天)\n",
      "已删除节点及其所有边：1435493075661438720  (时间差超过 30 天)\n",
      "已删除节点及其所有边：1435481558815760384  (时间差超过 30 天)\n",
      "已删除节点及其所有边：1435493078589054976  (时间差超过 30 天)\n",
      "已删除节点及其所有边：1435493081575411712  (时间差超过 30 天)\n",
      "已删除节点及其所有边：1435493084729540608  (时间差超过 30 天)\n",
      "已删除节点及其所有边：1435495887208386560  (时间差超过 30 天)\n",
      "已删除节点及其所有边：1435504266706181888  (时间差超过 30 天)\n",
      "已删除节点及其所有边：1435523458360807424  (时间差超过 30 天)\n",
      "已删除节点及其所有边：1435703749985530112  (时间差超过 30 天)\n",
      "已删除节点及其所有边：1435528601026314240  (时间差超过 30 天)\n",
      "已删除节点及其所有边：1435610111385292800  (时间差超过 30 天)\n",
      "已删除节点及其所有边：1435609988345384960  (时间差超过 30 天)\n",
      "已删除节点及其所有边：1435677871658389504  (时间差超过 30 天)\n",
      "已删除节点及其所有边：1435593275499503616  (时间差超过 30 天)\n",
      "已删除节点及其所有边：1435646593215172608  (时间差超过 30 天)\n",
      "已删除节点及其所有边：1435656561582608384  (时间差超过 30 天)\n",
      "已删除节点及其所有边：1435572318881914880  (时间差超过 30 天)\n",
      "已删除节点及其所有边：1435585223559946240  (时间差超过 30 天)\n",
      "已删除节点及其所有边：1435609918040543232  (时间差超过 30 天)\n",
      "已删除节点及其所有边：1435656287413575680  (时间差超过 30 天)\n"
     ]
    },
    {
     "name": "stderr",
     "output_type": "stream",
     "text": [
      "\n"
     ]
    },
    {
     "name": "stdout",
     "output_type": "stream",
     "text": [
      "emotion: 0.394290953874588 volumn: 0\n",
      "emotion: 0.3823839724063873 volumn: 0\n",
      "emotion: 0.3773885369300842 volumn: 0\n",
      "emotion: -0.3831002712249756 volumn: 0\n",
      "emotion: -0.3993536531925201 volumn: 0\n",
      "emotion: 0.6194249093532562 volumn: 0\n",
      "emotion: 0.4039824306964874 volumn: 0\n",
      "emotion: 0.4215667247772217 volumn: 0\n",
      "emotion: 0.3481757938861847 volumn: 0\n",
      "emotion: 0.3841958940029144 volumn: 0\n",
      "emotion: -0.6349647343158722 volumn: 0\n",
      "emotion: -0.3577549159526825 volumn: 0\n",
      "emotion: 0.3705384433269501 volumn: 0\n",
      "emotion: 0.3459386527538299 volumn: 0\n",
      "emotion: -0.3348266780376434 volumn: 0\n",
      "emotion: 0.3880200982093811 volumn: 0\n",
      "emotion: 0.3661146461963653 volumn: 0\n",
      "emotion: 0.6434079110622406 volumn: 0\n",
      "emotion: 0.3817691802978515 volumn: 0\n"
     ]
    },
    {
     "name": "stderr",
     "output_type": "stream",
     "text": [
      "删除过期节点: 100%|███████████████████████████████████████████████████████████████████████████████████████████████████████████████████████████████████████████| 33/33 [00:00<00:00, 113174.19节点/s]"
     ]
    },
    {
     "name": "stdout",
     "output_type": "stream",
     "text": [
      "已删除节点及其所有边：1435762393360044032  (时间差超过 30 天)\n",
      "已删除节点及其所有边：1435764022515695616  (时间差超过 30 天)\n",
      "已删除节点及其所有边：1435777494230077440  (时间差超过 30 天)\n",
      "已删除节点及其所有边：1435781769593344000  (时间差超过 30 天)\n",
      "已删除节点及其所有边：1435784538744049664  (时间差超过 30 天)\n",
      "已删除节点及其所有边：1435787973220442112  (时间差超过 30 天)\n",
      "已删除节点及其所有边：1435792843038146560  (时间差超过 30 天)\n",
      "已删除节点及其所有边：1435796618696089600  (时间差超过 30 天)\n",
      "已删除节点及其所有边：1435801968841166848  (时间差超过 30 天)\n",
      "已删除节点及其所有边：1435808000892194816  (时间差超过 30 天)\n",
      "已删除节点及其所有边：1435812485647552512  (时间差超过 30 天)\n",
      "已删除节点及其所有边：1435927732953747712  (时间差超过 30 天)\n",
      "已删除节点及其所有边：1435866326904487936  (时间差超过 30 天)\n",
      "已删除节点及其所有边：1436008353222651904  (时间差超过 30 天)\n",
      "已删除节点及其所有边：1435904688621293568  (时间差超过 30 天)\n",
      "已删除节点及其所有边：1435959371268296704  (时间差超过 30 天)\n",
      "已删除节点及其所有边：1435851004436750336  (时间差超过 30 天)\n",
      "已删除节点及其所有边：1435853771540733952  (时间差超过 30 天)\n",
      "已删除节点及其所有边：1435859435423997952  (时间差超过 30 天)\n",
      "已删除节点及其所有边：1435885776005439488  (时间差超过 30 天)\n",
      "已删除节点及其所有边：1435870988172996608  (时间差超过 30 天)\n",
      "已删除节点及其所有边：1435900789977980928  (时间差超过 30 天)\n",
      "已删除节点及其所有边：1435916187968413696  (时间差超过 30 天)\n",
      "已删除节点及其所有边：1435917268811194368  (时间差超过 30 天)\n",
      "已删除节点及其所有边：1435827455030280192  (时间差超过 30 天)\n",
      "已删除节点及其所有边：1435960372155068416  (时间差超过 30 天)\n",
      "已删除节点及其所有边：1435942371502428160  (时间差超过 30 天)\n",
      "已删除节点及其所有边：1435815741715095552  (时间差超过 30 天)\n",
      "已删除节点及其所有边：1435922070861488128  (时间差超过 30 天)\n",
      "已删除节点及其所有边：1435960172107767808  (时间差超过 30 天)\n",
      "已删除节点及其所有边：1435858526119899136  (时间差超过 30 天)\n",
      "已删除节点及其所有边：1435920352497086464  (时间差超过 30 天)\n",
      "已删除节点及其所有边：1435879755824389888  (时间差超过 30 天)\n"
     ]
    },
    {
     "name": "stderr",
     "output_type": "stream",
     "text": [
      "\n"
     ]
    },
    {
     "name": "stdout",
     "output_type": "stream",
     "text": [
      "已批量写入 0 条数据到 index.csv\n",
      "emotion: -0.5788118541240692 volumn: 0\n",
      "emotion: 0.3433164954185486 volumn: 0\n",
      "emotion: 0.6466845273971558 volumn: 0\n",
      "emotion: -0.3655333220958709 volumn: 0\n",
      "emotion: -0.5809169411659241 volumn: 0\n",
      "emotion: -0.3348266780376434 volumn: 0\n",
      "emotion: 0.3817691802978515 volumn: 0\n",
      "emotion: 0.3838040232658386 volumn: 0\n",
      "emotion: -0.4138587713241577 volumn: 0\n",
      "emotion: 0.3583675026893616 volumn: 0\n",
      "emotion: 0.621988445520401 volumn: 0\n",
      "emotion: -0.4588504135608673 volumn: 0\n",
      "emotion: 0.646362841129303 volumn: 0\n",
      "emotion: -0.4521761834621429 volumn: 0\n",
      "emotion: 0.3457059562206268 volumn: 0\n",
      "emotion: -0.3484176695346832 volumn: 0\n",
      "emotion: -0.3759207427501678 volumn: 0\n",
      "emotion: -0.460542619228363 volumn: 0\n"
     ]
    },
    {
     "name": "stderr",
     "output_type": "stream",
     "text": [
      "删除过期节点: 100%|████████████████████████████████████████████████████████████████████████████████████████████████████████████████████████████████████████████| 22/22 [00:00<00:00, 99756.42节点/s]\n"
     ]
    },
    {
     "name": "stdout",
     "output_type": "stream",
     "text": [
      "已删除节点及其所有边：1436161158818447360  (时间差超过 30 天)\n",
      "已删除节点及其所有边：1436168064823930880  (时间差超过 30 天)\n",
      "已删除节点及其所有边：1436168479611047936  (时间差超过 30 天)\n",
      "已删除节点及其所有边：1436175283220934912  (时间差超过 30 天)\n",
      "已删除节点及其所有边：1436171994848907264  (时间差超过 30 天)\n",
      "已删除节点及其所有边：1436179893121867776  (时间差超过 30 天)\n",
      "已删除节点及其所有边：1436182452062458112  (时间差超过 30 天)\n",
      "已删除节点及其所有边：1436226451163041792  (时间差超过 30 天)\n",
      "已删除节点及其所有边：1436226462827356160  (时间差超过 30 天)\n",
      "已删除节点及其所有边：1436245495966416896  (时间差超过 30 天)\n",
      "已删除节点及其所有边：1436252662731878400  (时间差超过 30 天)\n",
      "已删除节点及其所有边：1436312991423738112  (时间差超过 30 天)\n",
      "已删除节点及其所有边：1436472066350387200  (时间差超过 30 天)\n",
      "已删除节点及其所有边：1436274328941776896  (时间差超过 30 天)\n",
      "已删除节点及其所有边：1436275572582273024  (时间差超过 30 天)\n",
      "已删除节点及其所有边：1436297668565819392  (时间差超过 30 天)\n",
      "已删除节点及其所有边：1436311807220588288  (时间差超过 30 天)\n",
      "已删除节点及其所有边：1436472259804336128  (时间差超过 30 天)\n",
      "已删除节点及其所有边：1436315739326197760  (时间差超过 30 天)\n",
      "已删除节点及其所有边：1436261923541045248  (时间差超过 30 天)\n",
      "已删除节点及其所有边：1436472456743727104  (时间差超过 30 天)\n",
      "已删除节点及其所有边：1436471725680697088  (时间差超过 30 天)\n",
      "emotion: -0.6393182277679443 volumn: 0\n",
      "emotion: -0.3759207427501678 volumn: 0\n",
      "emotion: -0.3720480799674988 volumn: 0\n",
      "emotion: 0.3418892621994018 volumn: 0\n",
      "emotion: -0.3662316501140594 volumn: 0\n",
      "emotion: -0.3418355584144592 volumn: 0\n",
      "emotion: -0.3520881235599518 volumn: 0\n",
      "emotion: 0.641724556684494 volumn: 0\n",
      "emotion: -0.6385740339756012 volumn: 0\n",
      "emotion: 0.3806372284889221 volumn: 0\n",
      "emotion: -0.6258334815502167 volumn: 0\n",
      "emotion: -0.6451887488365173 volumn: 0\n",
      "emotion: -0.3914269804954529 volumn: 0\n",
      "emotion: -0.454534649848938 volumn: 0\n",
      "emotion: -0.3509904146194458 volumn: 0\n",
      "emotion: 0.379466712474823 volumn: 0\n",
      "emotion: 0.354769766330719 volumn: 0\n"
     ]
    },
    {
     "name": "stderr",
     "output_type": "stream",
     "text": [
      "删除过期节点: 100%|██████████████████████████████████████████████████████████████████████████████████████████████████████████████████████████████████████████████| 7/7 [00:00<00:00, 54370.61节点/s]"
     ]
    },
    {
     "name": "stdout",
     "output_type": "stream",
     "text": [
      "已删除节点及其所有边：1436495114361311232  (时间差超过 30 天)\n",
      "已删除节点及其所有边：1436525186644254720  (时间差超过 30 天)\n",
      "已删除节点及其所有边：1436530042918432768  (时间差超过 30 天)\n",
      "已删除节点及其所有边：1436655287390384128  (时间差超过 30 天)\n",
      "已删除节点及其所有边：1436610766002589696  (时间差超过 30 天)\n",
      "已删除节点及其所有边：1436710514701127680  (时间差超过 30 天)\n",
      "已删除节点及其所有边：1436806770303901696  (时间差超过 30 天)\n"
     ]
    },
    {
     "name": "stderr",
     "output_type": "stream",
     "text": [
      "\n"
     ]
    },
    {
     "name": "stdout",
     "output_type": "stream",
     "text": [
      "emotion: -0.6290276050567627 volumn: 0\n",
      "emotion: -0.598636120557785 volumn: 0\n",
      "emotion: -0.3433698415756225 volumn: 0\n",
      "emotion: -0.356732040643692 volumn: 0\n",
      "emotion: 0.383902907371521 volumn: 0\n",
      "emotion: 0.4357595443725586 volumn: 0\n",
      "emotion: 0.4152346551418304 volumn: 0\n",
      "emotion: 0.6421827673912048 volumn: 0\n",
      "emotion: 0.540323942899704 volumn: 0\n",
      "emotion: -0.3802479803562164 volumn: 0\n",
      "emotion: -0.3787062168121338 volumn: 0\n",
      "emotion: 0.6455000340938568 volumn: 0\n",
      "emotion: -0.657147616147995 volumn: 0\n",
      "emotion: 0.3605100810527801 volumn: 0\n",
      "emotion: -0.6348340511322021 volumn: 0\n",
      "emotion: 0.6231648027896881 volumn: 0\n",
      "emotion: 0.3807965815067291 volumn: 0\n",
      "emotion: 0.3432981669902801 volumn: 0\n",
      "emotion: -0.3610423803329468 volumn: 0\n",
      "emotion: -0.3989376127719879 volumn: 0\n",
      "emotion: -0.3775184452533722 volumn: 0\n"
     ]
    },
    {
     "name": "stderr",
     "output_type": "stream",
     "text": [
      "删除过期节点: 100%|████████████████████████████████████████████████████████████████████████████████████████████████████████████████████████████████████████████| 11/11 [00:00<00:00, 76513.01节点/s]\n"
     ]
    },
    {
     "name": "stdout",
     "output_type": "stream",
     "text": [
      "已删除节点及其所有边：1436865690741317632  (时间差超过 30 天)\n",
      "已删除节点及其所有边：1436882134464176128  (时间差超过 30 天)\n",
      "已删除节点及其所有边：1436911890089664512  (时间差超过 30 天)\n",
      "已删除节点及其所有边：1436899401243377664  (时间差超过 30 天)\n",
      "已删除节点及其所有边：1436911710703525888  (时间差超过 30 天)\n",
      "已删除节点及其所有边：1436919150056656896  (时间差超过 30 天)\n",
      "已删除节点及其所有边：1437052138052591616  (时间差超过 30 天)\n",
      "已删除节点及其所有边：1437089405630500864  (时间差超过 30 天)\n",
      "已删除节点及其所有边：1437089757092274176  (时间差超过 30 天)\n",
      "已删除节点及其所有边：1437090414306250752  (时间差超过 30 天)\n",
      "已删除节点及其所有边：1437090498729201664  (时间差超过 30 天)\n",
      "emotion: 0.3556492626667022 volumn: 0\n",
      "emotion: -0.482079803943634 volumn: 0\n",
      "emotion: 0.4508329033851623 volumn: 0\n",
      "emotion: 0.6194205582141876 volumn: 0\n",
      "emotion: 0.3676359057426452 volumn: 0\n",
      "emotion: -0.3630603551864624 volumn: 0\n",
      "emotion: 0.4138709902763366 volumn: 0\n",
      "emotion: 0.6565420925617218 volumn: 0\n",
      "emotion: 0.3590254187583923 volumn: 0\n",
      "emotion: -0.3694398105144501 volumn: 0\n",
      "emotion: -0.3403687477111816 volumn: 0\n",
      "emotion: -0.3381939530372619 volumn: 0\n",
      "emotion: 0.3789081573486328 volumn: 0\n",
      "emotion: 0.3529197573661804 volumn: 0\n",
      "emotion: -0.6377204060554504 volumn: 0\n"
     ]
    },
    {
     "name": "stderr",
     "output_type": "stream",
     "text": [
      "删除过期节点: 100%|████████████████████████████████████████████████████████████████████████████████████████████████████████████████████████████████████████████| 20/20 [00:00<00:00, 93937.38节点/s]"
     ]
    },
    {
     "name": "stdout",
     "output_type": "stream",
     "text": [
      "已删除节点及其所有边：1437216875721723904  (时间差超过 30 天)\n",
      "已删除节点及其所有边：1437235845921005568  (时间差超过 30 天)\n",
      "已删除节点及其所有边：1437247174606270464  (时间差超过 30 天)\n",
      "已删除节点及其所有边：1437246420067786752  (时间差超过 30 天)\n",
      "已删除节点及其所有边：1437236604213469184  (时间差超过 30 天)\n",
      "已删除节点及其所有边：1437297002589609984  (时间差超过 30 天)\n",
      "已删除节点及其所有边：1437302594804854784  (时间差超过 30 天)\n",
      "已删除节点及其所有边：1437335151730728960  (时间差超过 30 天)\n",
      "已删除节点及其所有边：1437337811317886976  (时间差超过 30 天)\n",
      "已删除节点及其所有边：1437357145729683712  (时间差超过 30 天)\n",
      "已删除节点及其所有边：1437389086789181440  (时间差超过 30 天)\n",
      "已删除节点及其所有边：1437390899529519104  (时间差超过 30 天)\n",
      "已删除节点及其所有边：1437440447740264448  (时间差超过 30 天)\n",
      "已删除节点及其所有边：1437390909642002432  (时间差超过 30 天)\n",
      "已删除节点及其所有边：1437399466949103616  (时间差超过 30 天)\n",
      "已删除节点及其所有边：1437389821253668864  (时间差超过 30 天)\n",
      "已删除节点及其所有边：1437430233498415104  (时间差超过 30 天)\n",
      "已删除节点及其所有边：1437426540904517632  (时间差超过 30 天)\n",
      "已删除节点及其所有边：1437426601071841280  (时间差超过 30 天)\n",
      "已删除节点及其所有边：1437475667160059904  (时间差超过 30 天)\n"
     ]
    },
    {
     "name": "stderr",
     "output_type": "stream",
     "text": [
      "\n"
     ]
    },
    {
     "name": "stdout",
     "output_type": "stream",
     "text": [
      "emotion: 0.3658749461174011 volumn: 0\n",
      "emotion: -0.3871440887451172 volumn: 0\n",
      "emotion: 0.6450577676296234 volumn: 0\n",
      "emotion: 0.3701218068599701 volumn: 0\n",
      "emotion: 0.3665475249290466 volumn: 0\n",
      "emotion: -0.3575751483440399 volumn: 0\n",
      "emotion: 0.6387537717819214 volumn: 0\n",
      "emotion: 0.6476277709007263 volumn: 0\n",
      "emotion: -0.6431534290313721 volumn: 0\n",
      "emotion: -0.3815988302230835 volumn: 0\n",
      "emotion: -0.3530921041965484 volumn: 0\n",
      "emotion: -0.3414572477340698 volumn: 0\n",
      "emotion: -0.4124591052532196 volumn: 0\n"
     ]
    },
    {
     "name": "stderr",
     "output_type": "stream",
     "text": [
      "删除过期节点: 100%|████████████████████████████████████████████████████████████████████████████████████████████████████████████████████████████████████████████| 15/15 [00:00<00:00, 89114.11节点/s]"
     ]
    },
    {
     "name": "stdout",
     "output_type": "stream",
     "text": [
      "已删除节点及其所有边：1437597192131330048  (时间差超过 30 天)\n",
      "已删除节点及其所有边：1437599689520541696  (时间差超过 30 天)\n",
      "已删除节点及其所有边：1437599743157415936  (时间差超过 30 天)\n",
      "已删除节点及其所有边：1437621637780811776  (时间差超过 30 天)\n",
      "已删除节点及其所有边：1437620647719546880  (时间差超过 30 天)\n",
      "已删除节点及其所有边：1437669209354522624  (时间差超过 30 天)\n",
      "已删除节点及其所有边：1437671747822751488  (时间差超过 30 天)\n",
      "已删除节点及其所有边：1437675257767268352  (时间差超过 30 天)\n",
      "已删除节点及其所有边：1437682935617007616  (时间差超过 30 天)\n",
      "已删除节点及其所有边：1437685325619400704  (时间差超过 30 天)\n",
      "已删除节点及其所有边：1437686859409379328  (时间差超过 30 天)\n",
      "已删除节点及其所有边：1437696194474479616  (时间差超过 30 天)\n",
      "已删除节点及其所有边：1437686869823791104  (时间差超过 30 天)\n",
      "已删除节点及其所有边：1437718492552249088  (时间差超过 30 天)\n",
      "已删除节点及其所有边：1437796546871975936  (时间差超过 30 天)\n"
     ]
    },
    {
     "name": "stderr",
     "output_type": "stream",
     "text": [
      "\n"
     ]
    },
    {
     "name": "stdout",
     "output_type": "stream",
     "text": [
      "emotion: 0.3594125509262085 volumn: 0\n",
      "emotion: 0.3683975040912628 volumn: 0\n"
     ]
    },
    {
     "name": "stderr",
     "output_type": "stream",
     "text": [
      "删除过期节点: 100%|██████████████████████████████████████████████████████████████████████████████████████████████████████████████████████████████████████████████| 8/8 [00:00<00:00, 64776.90节点/s]"
     ]
    },
    {
     "name": "stdout",
     "output_type": "stream",
     "text": [
      "已删除节点及其所有边：1437973099782279168  (时间差超过 30 天)\n",
      "已删除节点及其所有边：1437987317843640320  (时间差超过 30 天)\n",
      "已删除节点及其所有边：1438044089090445312  (时间差超过 30 天)\n",
      "已删除节点及其所有边：1438051479475138560  (时间差超过 30 天)\n",
      "已删除节点及其所有边：1438020539092647936  (时间差超过 30 天)\n",
      "已删除节点及其所有边：1438059968410816512  (时间差超过 30 天)\n",
      "已删除节点及其所有边：1438060165811654912  (时间差超过 30 天)\n",
      "已删除节点及其所有边：1438123241554468864  (时间差超过 30 天)\n"
     ]
    },
    {
     "name": "stderr",
     "output_type": "stream",
     "text": [
      "\n"
     ]
    },
    {
     "name": "stdout",
     "output_type": "stream",
     "text": [
      "emotion: 0.3758006691932678 volumn: 0\n",
      "emotion: 0.4001674950122833 volumn: 0\n",
      "emotion: 0.3864774703979492 volumn: 0\n",
      "emotion: 0.3725075125694275 volumn: 0\n",
      "emotion: -0.4804754257202148 volumn: 0\n",
      "emotion: 0.3852618336677551 volumn: 0\n",
      "emotion: -0.4131071865558624 volumn: 0\n",
      "emotion: -0.650255411863327 volumn: 0\n",
      "emotion: 0.6567316353321075 volumn: 0\n",
      "emotion: -0.3691554069519043 volumn: 0\n",
      "emotion: -0.473841905593872 volumn: 0\n",
      "emotion: 0.378766268491745 volumn: 0\n",
      "emotion: 0.4012991487979889 volumn: 0\n",
      "emotion: -0.4278885722160339 volumn: 0\n",
      "emotion: -0.360154926776886 volumn: 0\n",
      "emotion: 0.4140104651451111 volumn: 0\n",
      "emotion: -0.4016885161399841 volumn: 0\n",
      "emotion: 0.6357473731040955 volumn: 0\n",
      "emotion: -0.3799542486667633 volumn: 0\n",
      "emotion: -0.6432702243328094 volumn: 0\n",
      "emotion: 0.406035453081131 volumn: 0\n",
      "emotion: -0.4464057087898254 volumn: 0\n"
     ]
    },
    {
     "name": "stderr",
     "output_type": "stream",
     "text": [
      "删除过期节点: 100%|████████████████████████████████████████████████████████████████████████████████████████████████████████████████████████████████████████████| 19/19 [00:00<00:00, 93865.46节点/s]"
     ]
    },
    {
     "name": "stdout",
     "output_type": "stream",
     "text": [
      "已删除节点及其所有边：1438314963148447488  (时间差超过 30 天)\n",
      "已删除节点及其所有边：1438332611307311104  (时间差超过 30 天)\n",
      "已删除节点及其所有边：1438349943132106752  (时间差超过 30 天)\n",
      "已删除节点及其所有边：1438375262480060416  (时间差超过 30 天)\n",
      "已删除节点及其所有边：1438381418086899712  (时间差超过 30 天)\n",
      "已删除节点及其所有边：1438392417665929216  (时间差超过 30 天)\n",
      "已删除节点及其所有边：1438396515656085504  (时间差超过 30 天)\n",
      "已删除节点及其所有边：1438404553804763136  (时间差超过 30 天)\n",
      "已删除节点及其所有边：1438419047532699648  (时间差超过 30 天)\n",
      "已删除节点及其所有边：1438446124688293888  (时间差超过 30 天)\n",
      "已删除节点及其所有边：1438498179645853696  (时间差超过 30 天)\n",
      "已删除节点及其所有边：1438600971026845696  (时间差超过 30 天)\n",
      "已删除节点及其所有边：1438617161212170240  (时间差超过 30 天)\n",
      "已删除节点及其所有边：1438501963289665536  (时间差超过 30 天)\n",
      "已删除节点及其所有边：1438547586999197696  (时间差超过 30 天)\n",
      "已删除节点及其所有边：1438596666907631616  (时间差超过 30 天)\n",
      "已删除节点及其所有边：1438515310563246080  (时间差超过 30 天)\n",
      "已删除节点及其所有边：1438512125576577024  (时间差超过 30 天)\n",
      "已删除节点及其所有边：1438597625406795776  (时间差超过 30 天)\n"
     ]
    },
    {
     "name": "stderr",
     "output_type": "stream",
     "text": [
      "\n"
     ]
    },
    {
     "name": "stdout",
     "output_type": "stream",
     "text": [
      "emotion: 0.3614064455032348 volumn: 0\n",
      "emotion: 0.3411007225513458 volumn: 0\n",
      "emotion: 0.4268190264701843 volumn: 0\n",
      "emotion: -0.6436170339584351 volumn: 0\n",
      "emotion: -0.3718253076076507 volumn: 0\n",
      "emotion: 0.6372069418430328 volumn: 0\n",
      "emotion: -0.6318616569042206 volumn: 0\n",
      "emotion: -0.4720446467399597 volumn: 0\n",
      "emotion: -0.340125173330307 volumn: 0\n",
      "emotion: 0.3742124736309051 volumn: 0\n",
      "emotion: 0.3755685687065124 volumn: 0\n",
      "emotion: -0.3774082064628601 volumn: 0\n",
      "emotion: -0.6368393898010254 volumn: 0\n",
      "emotion: -0.3482822179794311 volumn: 0\n",
      "emotion: -0.3796951472759247 volumn: 0\n",
      "emotion: 0.3547254502773285 volumn: 0\n",
      "emotion: 0.3752787113189697 volumn: 0\n",
      "emotion: 0.3712499439716339 volumn: 0\n",
      "emotion: -0.6321424245834351 volumn: 0\n",
      "emotion: -0.6188852787017822 volumn: 0\n",
      "emotion: -0.4030525088310241 volumn: 0\n",
      "emotion: -0.4093987643718719 volumn: 0\n",
      "emotion: -0.4557986557483673 volumn: 0\n",
      "emotion: 0.6594581007957458 volumn: 0\n",
      "emotion: -0.3958692252635956 volumn: 0\n",
      "emotion: 0.6262752115726471 volumn: 0\n",
      "emotion: 0.3679310977458954 volumn: 0\n",
      "emotion: 0.3644071519374847 volumn: 0\n",
      "emotion: -0.3514757752418518 volumn: 0\n"
     ]
    },
    {
     "name": "stderr",
     "output_type": "stream",
     "text": [
      "删除过期节点: 100%|██████████████████████████████████████████████████████████████████████████████████████████████████████████████████████████████████████████████| 5/5 [00:00<00:00, 46707.17节点/s]"
     ]
    },
    {
     "name": "stdout",
     "output_type": "stream",
     "text": [
      "已删除节点及其所有边：1438769910843326464  (时间差超过 30 天)\n",
      "已删除节点及其所有边：1438823313913139200  (时间差超过 30 天)\n",
      "已删除节点及其所有边：1438843946067759104  (时间差超过 30 天)\n",
      "已删除节点及其所有边：1438839189773164288  (时间差超过 30 天)\n",
      "已删除节点及其所有边：1438863008734740480  (时间差超过 30 天)\n"
     ]
    },
    {
     "name": "stderr",
     "output_type": "stream",
     "text": [
      "\n"
     ]
    },
    {
     "name": "stdout",
     "output_type": "stream",
     "text": [
      "emotion: -0.4075001776218414 volumn: 0\n",
      "emotion: 0.3907493650913238 volumn: 0\n",
      "emotion: 0.3727307021617889 volumn: 0\n",
      "emotion: 0.3978136777877807 volumn: 0\n",
      "emotion: 0.3687481582164764 volumn: 0\n",
      "emotion: 0.4290365278720855 volumn: 0\n",
      "emotion: 0.3683395087718963 volumn: 0\n",
      "emotion: 0.3788650333881378 volumn: 0\n",
      "emotion: -0.3388847708702087 volumn: 0\n",
      "emotion: 0.3952094316482544 volumn: 0\n",
      "emotion: -0.6502497792243958 volumn: 0\n",
      "emotion: 0.6440668106079102 volumn: 0\n",
      "emotion: 0.3704234659671783 volumn: 0\n",
      "emotion: 0.3782871961593628 volumn: 0\n",
      "emotion: -0.3581623136997223 volumn: 0\n",
      "emotion: -0.4116585254669189 volumn: 0\n",
      "emotion: -0.6361109912395477 volumn: 0\n",
      "emotion: -0.3613756000995636 volumn: 0\n"
     ]
    },
    {
     "name": "stderr",
     "output_type": "stream",
     "text": [
      "删除过期节点: 100%|██████████████████████████████████████████████████████████████████████████████████████████████████████████████████████████████████████████████| 6/6 [00:00<00:00, 54589.64节点/s]"
     ]
    },
    {
     "name": "stdout",
     "output_type": "stream",
     "text": [
      "已删除节点及其所有边：1439020383676551168  (时间差超过 30 天)\n",
      "已删除节点及其所有边：1439124952964386816  (时间差超过 30 天)\n",
      "已删除节点及其所有边：1439162343968149504  (时间差超过 30 天)\n",
      "已删除节点及其所有边：1439211915855556608  (时间差超过 30 天)\n",
      "已删除节点及其所有边：1439199537080508416  (时间差超过 30 天)\n",
      "已删除节点及其所有边：1439299272491606016  (时间差超过 30 天)\n"
     ]
    },
    {
     "name": "stderr",
     "output_type": "stream",
     "text": [
      "\n"
     ]
    },
    {
     "name": "stdout",
     "output_type": "stream",
     "text": [
      "emotion: -0.5914237201213837 volumn: 0\n",
      "emotion: -0.6382134258747101 volumn: 0\n",
      "emotion: 0.3597681820392608 volumn: 0\n",
      "emotion: 0.3845047354698181 volumn: 0\n",
      "emotion: 0.3536495268344879 volumn: 0\n",
      "emotion: -0.3768278360366821 volumn: 0\n",
      "emotion: -0.3796751499176025 volumn: 0\n",
      "emotion: -0.3606835603713989 volumn: 0\n",
      "emotion: -0.4167651534080505 volumn: 0\n",
      "emotion: -0.3751921951770782 volumn: 0\n",
      "emotion: 0.6176715195178986 volumn: 0\n",
      "emotion: -0.357814073562622 volumn: 0\n",
      "emotion: -0.3563481867313385 volumn: 0\n",
      "emotion: 0.421180248260498 volumn: 0\n",
      "emotion: -0.3657225668430328 volumn: 0\n",
      "emotion: 0.361737847328186 volumn: 0\n",
      "emotion: -0.3536082804203033 volumn: 0\n",
      "emotion: 0.3842438757419586 volumn: 0\n",
      "emotion: -0.3830344676971435 volumn: 0\n",
      "emotion: 0.3481322824954986 volumn: 0\n",
      "emotion: 0.6080171167850494 volumn: 0\n",
      "emotion: -0.3567319810390472 volumn: 0\n",
      "emotion: -0.451896458864212 volumn: 0\n",
      "emotion: -0.4030991494655609 volumn: 0\n",
      "emotion: -0.3901959359645843 volumn: 0\n"
     ]
    },
    {
     "name": "stderr",
     "output_type": "stream",
     "text": [
      "删除过期节点: 100%|██████████████████████████████████████████████████████████████████████████████████████████████████████████████████████████████████████████████| 5/5 [00:00<00:00, 49813.59节点/s]"
     ]
    },
    {
     "name": "stdout",
     "output_type": "stream",
     "text": [
      "已删除节点及其所有边：1439415711886098432  (时间差超过 30 天)\n",
      "已删除节点及其所有边：1439456446744174592  (时间差超过 30 天)\n",
      "已删除节点及其所有边：1439564456632020992  (时间差超过 30 天)\n",
      "已删除节点及其所有边：1439586722883379200  (时间差超过 30 天)\n",
      "已删除节点及其所有边：1439571213542690816  (时间差超过 30 天)\n"
     ]
    },
    {
     "name": "stderr",
     "output_type": "stream",
     "text": [
      "\n"
     ]
    },
    {
     "name": "stdout",
     "output_type": "stream",
     "text": [
      "已批量写入 0 条数据到 index.csv\n",
      "emotion: -0.3458240926265716 volumn: 0\n",
      "emotion: -0.3721055686473846 volumn: 0\n",
      "emotion: -0.3898613750934601 volumn: 0\n",
      "emotion: -0.3901959359645843 volumn: 0\n",
      "emotion: -0.4261142909526825 volumn: 0\n",
      "emotion: -0.3646377325057983 volumn: 0\n",
      "emotion: -0.50900799036026 volumn: 0\n",
      "emotion: -0.3996593356132507 volumn: 0\n",
      "emotion: 0.3724965155124664 volumn: 0\n",
      "emotion: -0.4119990170001983 volumn: 0\n",
      "emotion: -0.4245147705078125 volumn: 0\n",
      "emotion: -0.4008663594722748 volumn: 0\n",
      "emotion: -0.6467444598674774 volumn: 0\n",
      "emotion: -0.4213671386241913 volumn: 0\n",
      "emotion: 0.3545624613761902 volumn: 0\n",
      "emotion: -0.3437018990516662 volumn: 0\n",
      "emotion: -0.3984596729278564 volumn: 0\n",
      "emotion: 0.6326941549777985 volumn: 0\n",
      "emotion: -0.416382223367691 volumn: 0\n",
      "emotion: -0.4331324994564056 volumn: 0\n",
      "emotion: -0.6431534290313721 volumn: 0\n",
      "emotion: -0.3876934647560119 volumn: 0\n",
      "emotion: -0.4519878923892975 volumn: 0\n",
      "emotion: -0.4139716029167175 volumn: 0\n",
      "emotion: -0.3952632248401642 volumn: 0\n",
      "emotion: 0.3623685836791992 volumn: 0\n",
      "emotion: -0.6431534290313721 volumn: 0\n",
      "emotion: 0.4024251997470855 volumn: 0\n",
      "emotion: 0.4188756048679352 volumn: 0\n",
      "emotion: 0.3920129239559173 volumn: 0\n",
      "emotion: 0.429440826177597 volumn: 0\n",
      "emotion: -0.6221615374088287 volumn: 0\n"
     ]
    },
    {
     "name": "stderr",
     "output_type": "stream",
     "text": [
      "删除过期节点: 100%|██████████████████████████████████████████████████████████████████████████████████████████████████████████████████████████████████████████████| 9/9 [00:00<00:00, 66576.25节点/s]"
     ]
    },
    {
     "name": "stdout",
     "output_type": "stream",
     "text": [
      "已删除节点及其所有边：1439773250049830912  (时间差超过 30 天)\n",
      "已删除节点及其所有边：1439781708757446912  (时间差超过 30 天)\n",
      "已删除节点及其所有边：1439783956203900928  (时间差超过 30 天)\n",
      "已删除节点及其所有边：1439784591817072640  (时间差超过 30 天)\n",
      "已删除节点及其所有边：1439811545958174720  (时间差超过 30 天)\n",
      "已删除节点及其所有边：1439885303024599040  (时间差超过 30 天)\n",
      "已删除节点及其所有边：1439937902981566464  (时间差超过 30 天)\n",
      "已删除节点及其所有边：1439939196853137408  (时间差超过 30 天)\n",
      "已删除节点及其所有边：1439982953933770752  (时间差超过 30 天)\n"
     ]
    },
    {
     "name": "stderr",
     "output_type": "stream",
     "text": [
      "\n"
     ]
    },
    {
     "name": "stdout",
     "output_type": "stream",
     "text": [
      "emotion: 0.419087678194046 volumn: 0\n",
      "emotion: -0.3667227923870086 volumn: 0\n",
      "emotion: -0.6018572151660919 volumn: 0\n",
      "emotion: -0.394632488489151 volumn: 0\n",
      "emotion: 0.3815996646881103 volumn: 0\n",
      "emotion: 0.3544028401374817 volumn: 0\n",
      "emotion: -0.3777594566345215 volumn: 0\n",
      "emotion: 0.6522654891014099 volumn: 0\n",
      "emotion: 0.6326941549777985 volumn: 0\n",
      "emotion: -0.4064669013023376 volumn: 0\n"
     ]
    },
    {
     "name": "stderr",
     "output_type": "stream",
     "text": [
      "删除过期节点: 100%|██████████████████████████████████████████████████████████████████████████████████████████████████████████████████████████████████████████████| 9/9 [00:00<00:00, 68015.74节点/s]"
     ]
    },
    {
     "name": "stdout",
     "output_type": "stream",
     "text": [
      "已删除节点及其所有边：1440119851486429184  (时间差超过 30 天)\n",
      "已删除节点及其所有边：1440143879748022272  (时间差超过 30 天)\n",
      "已删除节点及其所有边：1440160132235620352  (时间差超过 30 天)\n",
      "已删除节点及其所有边：1440173762150735872  (时间差超过 30 天)\n",
      "已删除节点及其所有边：1440172409961676800  (时间差超过 30 天)\n",
      "已删除节点及其所有边：1440178455799160832  (时间差超过 30 天)\n",
      "已删除节点及其所有边：1440276167886397440  (时间差超过 30 天)\n",
      "已删除节点及其所有边：1440292489642930176  (时间差超过 30 天)\n",
      "已删除节点及其所有边：1440296808123539712  (时间差超过 30 天)\n"
     ]
    },
    {
     "name": "stderr",
     "output_type": "stream",
     "text": [
      "\n"
     ]
    },
    {
     "name": "stdout",
     "output_type": "stream",
     "text": [
      "emotion: 0.6216638684272766 volumn: 0\n",
      "emotion: 0.6331122815608978 volumn: 0\n",
      "emotion: 0.6391097903251648 volumn: 0\n",
      "emotion: -0.4450814127922058 volumn: 0\n",
      "emotion: -0.3438243865966797 volumn: 0\n",
      "emotion: 0.5953297913074493 volumn: 0\n",
      "emotion: 0.5953297913074493 volumn: 0\n"
     ]
    },
    {
     "name": "stderr",
     "output_type": "stream",
     "text": [
      "删除过期节点: 100%|████████████████████████████████████████████████████████████████████████████████████████████████████████████████████████████████████████████| 15/15 [00:00<00:00, 88363.15节点/s]"
     ]
    },
    {
     "name": "stdout",
     "output_type": "stream",
     "text": [
      "已删除节点及其所有边：1440494911652962304  (时间差超过 30 天)\n",
      "已删除节点及其所有边：1440506399096598528  (时间差超过 30 天)\n",
      "已删除节点及其所有边：1440526782642343936  (时间差超过 30 天)\n",
      "已删除节点及其所有边：1440563098545377280  (时间差超过 30 天)\n",
      "已删除节点及其所有边：1440508667913125888  (时间差超过 30 天)\n",
      "已删除节点及其所有边：1440564776745144320  (时间差超过 30 天)\n",
      "已删除节点及其所有边：1440586143192399872  (时间差超过 30 天)\n",
      "已删除节点及其所有边：1440586158614867968  (时间差超过 30 天)\n",
      "已删除节点及其所有边：1440591713572061184  (时间差超过 30 天)\n",
      "已删除节点及其所有边：1440603552766857216  (时间差超过 30 天)\n",
      "已删除节点及其所有边：1440616175956725760  (时间差超过 30 天)\n",
      "已删除节点及其所有边：1440662684597293056  (时间差超过 30 天)\n",
      "已删除节点及其所有边：1440782213688160512  (时间差超过 30 天)\n",
      "已删除节点及其所有边：1440750970015674368  (时间差超过 30 天)\n",
      "已删除节点及其所有边：1440628960006529024  (时间差超过 30 天)\n"
     ]
    },
    {
     "name": "stderr",
     "output_type": "stream",
     "text": [
      "\n"
     ]
    },
    {
     "name": "stdout",
     "output_type": "stream",
     "text": [
      "emotion: 0.37111297249794 volumn: 0\n",
      "emotion: 0.3824653625488281 volumn: 0\n",
      "emotion: 0.645522266626358 volumn: 0\n",
      "emotion: -0.4398490786552429 volumn: 0\n",
      "emotion: -0.4639366269111633 volumn: 0\n",
      "emotion: -0.4357137084007263 volumn: 0\n",
      "emotion: -0.6182340979576111 volumn: 0\n",
      "emotion: 0.3803266584873199 volumn: 0\n",
      "emotion: -0.3685996234416961 volumn: 0\n",
      "emotion: 0.4408622086048126 volumn: 0\n",
      "emotion: -0.4044996201992035 volumn: 0\n",
      "emotion: -0.395960658788681 volumn: 0\n",
      "emotion: -0.5575540363788605 volumn: 0\n",
      "emotion: -0.4122251868247986 volumn: 0\n",
      "emotion: -0.461048811674118 volumn: 0\n",
      "emotion: -0.395960658788681 volumn: 0\n",
      "emotion: 0.3786402344703674 volumn: 0\n",
      "emotion: 0.4117141366004944 volumn: 0\n",
      "emotion: 0.4095353186130523 volumn: 0\n"
     ]
    },
    {
     "name": "stderr",
     "output_type": "stream",
     "text": [
      "删除过期节点: 100%|████████████████████████████████████████████████████████████████████████████████████████████████████████████████████████████████████████████| 17/17 [00:00<00:00, 90716.50节点/s]"
     ]
    },
    {
     "name": "stdout",
     "output_type": "stream",
     "text": [
      "已删除节点及其所有边：1440829391727071232  (时间差超过 30 天)\n",
      "已删除节点及其所有边：1440845321622331392  (时间差超过 30 天)\n",
      "已删除节点及其所有边：1440876085588209664  (时间差超过 30 天)\n",
      "已删除节点及其所有边：1440890477738397696  (时间差超过 30 天)\n",
      "已删除节点及其所有边：1440887676446646272  (时间差超过 30 天)\n",
      "已删除节点及其所有边：1440891435277037568  (时间差超过 30 天)\n",
      "已删除节点及其所有边：1440893447951507712  (时间差超过 30 天)\n",
      "已删除节点及其所有边：1440919696275091712  (时间差超过 30 天)\n",
      "已删除节点及其所有边：1440959101777940480  (时间差超过 30 天)\n",
      "已删除节点及其所有边：1440962774939717632  (时间差超过 30 天)\n",
      "已删除节点及其所有边：1440965172336762880  (时间差超过 30 天)\n",
      "已删除节点及其所有边：1440978508713431040  (时间差超过 30 天)\n",
      "已删除节点及其所有边：1440983854014099712  (时间差超过 30 天)\n",
      "已删除节点及其所有边：1440991911926435840  (时间差超过 30 天)\n",
      "已删除节点及其所有边：1440983793448460288  (时间差超过 30 天)\n",
      "已删除节点及其所有边：1441147875833131008  (时间差超过 30 天)\n",
      "已删除节点及其所有边：1440988829620527104  (时间差超过 30 天)\n"
     ]
    },
    {
     "name": "stderr",
     "output_type": "stream",
     "text": [
      "\n"
     ]
    },
    {
     "name": "stdout",
     "output_type": "stream",
     "text": [
      "emotion: 0.4095353186130523 volumn: 0\n",
      "emotion: -0.6586773991584778 volumn: 0\n",
      "emotion: -0.6540727615356445 volumn: 0\n",
      "emotion: -0.4113847017288208 volumn: 0\n",
      "emotion: -0.5228318572044373 volumn: 0\n",
      "emotion: 0.344908207654953 volumn: 0\n",
      "emotion: -0.3656197488307953 volumn: 0\n",
      "emotion: -0.3342884182929992 volumn: 0\n",
      "emotion: -0.3567266464233398 volumn: 0\n",
      "emotion: -0.3764740228652954 volumn: 0\n",
      "emotion: -0.3840668797492981 volumn: 0\n",
      "emotion: -0.373843640089035 volumn: 0\n",
      "emotion: 0.4543545842170715 volumn: 0\n",
      "emotion: -0.3775795102119446 volumn: 0\n",
      "emotion: 0.6330808401107788 volumn: 0\n",
      "emotion: -0.3522591888904571 volumn: 0\n",
      "emotion: 0.36055788397789 volumn: 0\n",
      "emotion: -0.3560111820697784 volumn: 0\n",
      "emotion: 0.3818355798721313 volumn: 0\n"
     ]
    },
    {
     "name": "stderr",
     "output_type": "stream",
     "text": [
      "删除过期节点: 100%|████████████████████████████████████████████████████████████████████████████████████████████████████████████████████████████████████████████| 13/13 [00:00<00:00, 76260.07节点/s]"
     ]
    },
    {
     "name": "stdout",
     "output_type": "stream",
     "text": [
      "已删除节点及其所有边：1441216225573359616  (时间差超过 30 天)\n",
      "已删除节点及其所有边：1441227675033497600  (时间差超过 30 天)\n",
      "已删除节点及其所有边：1441241498432024576  (时间差超过 30 天)\n",
      "已删除节点及其所有边：1441250805407879168  (时间差超过 30 天)\n",
      "已删除节点及其所有边：1441230673386225664  (时间差超过 30 天)\n",
      "已删除节点及其所有边：1441251561112489984  (时间差超过 30 天)\n",
      "已删除节点及其所有边：1441258857976655872  (时间差超过 30 天)\n",
      "已删除节点及其所有边：1441278990392639488  (时间差超过 30 天)\n",
      "已删除节点及其所有边：1441293767709847552  (时间差超过 30 天)\n",
      "已删除节点及其所有边：1441296888389591040  (时间差超过 30 天)\n",
      "已删除节点及其所有边：1441321691251019776  (时间差超过 30 天)\n",
      "已删除节点及其所有边：1441452403803529216  (时间差超过 30 天)\n",
      "已删除节点及其所有边：1441452540533612288  (时间差超过 30 天)\n"
     ]
    },
    {
     "name": "stderr",
     "output_type": "stream",
     "text": [
      "\n"
     ]
    },
    {
     "name": "stdout",
     "output_type": "stream",
     "text": [
      "emotion: -0.360566109418869 volumn: 0\n",
      "emotion: 0.3708557188510895 volumn: 0\n",
      "emotion: 0.3490757346153259 volumn: 0\n",
      "emotion: -0.4429740607738495 volumn: 0\n",
      "emotion: -0.3735312521457672 volumn: 0\n",
      "emotion: -0.3735312521457672 volumn: 0\n",
      "emotion: -0.372621476650238 volumn: 0\n",
      "emotion: -0.3961161375045776 volumn: 0\n",
      "emotion: -0.3757963180541992 volumn: 0\n",
      "emotion: -0.4562196731567383 volumn: 0\n",
      "emotion: 0.6005171239376068 volumn: 0\n",
      "emotion: -0.3560677468776703 volumn: 0\n",
      "emotion: 0.3810242712497711 volumn: 0\n",
      "emotion: -0.4258226752281189 volumn: 0\n",
      "emotion: -0.6367323696613312 volumn: 0\n",
      "emotion: 0.3565000295639038 volumn: 0\n",
      "emotion: 0.6351459622383118 volumn: 0\n",
      "emotion: -0.3961161375045776 volumn: 0\n",
      "emotion: -0.3899609744548797 volumn: 0\n",
      "emotion: -0.6394624412059784 volumn: 0\n",
      "emotion: -0.383407860994339 volumn: 0\n",
      "emotion: 0.3513678610324859 volumn: 0\n",
      "emotion: -0.4947509467601776 volumn: 0\n",
      "emotion: -0.6435526013374329 volumn: 0\n",
      "emotion: -0.3847909867763519 volumn: 0\n"
     ]
    },
    {
     "name": "stderr",
     "output_type": "stream",
     "text": [
      "删除过期节点: 100%|██████████████████████████████████████████████████████████████████████████████████████████████████████████████████████████████████████████████| 2/2 [00:00<00:00, 19239.93节点/s]"
     ]
    },
    {
     "name": "stdout",
     "output_type": "stream",
     "text": [
      "已删除节点及其所有边：1441666798617645056  (时间差超过 30 天)\n",
      "已删除节点及其所有边：1441698929658064896  (时间差超过 30 天)\n"
     ]
    },
    {
     "name": "stderr",
     "output_type": "stream",
     "text": [
      "\n"
     ]
    },
    {
     "name": "stdout",
     "output_type": "stream",
     "text": [
      "emotion: -0.3505118787288666 volumn: 0\n",
      "emotion: -0.4173413515090942 volumn: 0\n",
      "emotion: -0.3985296189785003 volumn: 0\n",
      "emotion: -0.3985873460769653 volumn: 0\n",
      "emotion: -0.3954931795597076 volumn: 0\n",
      "emotion: -0.3912552893161773 volumn: 0\n",
      "emotion: -0.3678152561187744 volumn: 0\n",
      "emotion: -0.4690726399421692 volumn: 0\n",
      "emotion: 0.3350458741188049 volumn: 0\n",
      "emotion: -0.4270135760307312 volumn: 0\n",
      "emotion: -0.3953624665737152 volumn: 0\n",
      "emotion: -0.3806477189064026 volumn: 0\n",
      "emotion: -0.3736070394515991 volumn: 0\n",
      "emotion: -0.4037186503410339 volumn: 0\n",
      "emotion: -0.4215367436408996 volumn: 0\n",
      "emotion: -0.4205999672412872 volumn: 0\n",
      "emotion: -0.4234657287597656 volumn: 0\n",
      "emotion: -0.6243878602981567 volumn: 0\n",
      "emotion: -0.4276833534240722 volumn: 0\n",
      "emotion: 0.620781660079956 volumn: 0\n",
      "emotion: -0.4428792595863342 volumn: 0\n",
      "emotion: 0.3793816566467285 volumn: 0\n",
      "emotion: -0.6199854016304016 volumn: 0\n",
      "emotion: -0.3653897643089294 volumn: 0\n",
      "emotion: 0.3633770942687988 volumn: 0\n",
      "emotion: 0.3666579723358154 volumn: 0\n",
      "emotion: 0.6464301943778992 volumn: 0\n",
      "emotion: 0.3943061828613281 volumn: 0\n"
     ]
    },
    {
     "name": "stderr",
     "output_type": "stream",
     "text": [
      "删除过期节点: 100%|██████████████████████████████████████████████████████████████████████████████████████████████████████████████████████████████████████████████| 5/5 [00:00<00:00, 47339.77节点/s]"
     ]
    },
    {
     "name": "stdout",
     "output_type": "stream",
     "text": [
      "已删除节点及其所有边：1441951934663966720  (时间差超过 30 天)\n",
      "已删除节点及其所有边：1441971307256573952  (时间差超过 30 天)\n",
      "已删除节点及其所有边：1442102696492814336  (时间差超过 30 天)\n",
      "已删除节点及其所有边：1442095879331135488  (时间差超过 30 天)\n",
      "已删除节点及其所有边：1442025419390263296  (时间差超过 30 天)\n"
     ]
    },
    {
     "name": "stderr",
     "output_type": "stream",
     "text": [
      "\n"
     ]
    },
    {
     "name": "stdout",
     "output_type": "stream",
     "text": [
      "emotion: -0.3436469137668609 volumn: 0\n",
      "emotion: -0.6191414296627045 volumn: 0\n",
      "emotion: 0.3445610105991363 volumn: 0\n",
      "emotion: -0.3378520011901855 volumn: 0\n",
      "emotion: -0.351144403219223 volumn: 0\n",
      "emotion: 0.3784313797950744 volumn: 0\n",
      "emotion: 0.3711569607257843 volumn: 0\n",
      "emotion: -0.4008883833885193 volumn: 0\n",
      "emotion: -0.3564921915531158 volumn: 0\n",
      "emotion: 0.3785779774188995 volumn: 0\n",
      "emotion: 0.6552781164646149 volumn: 0\n",
      "emotion: -0.651113748550415 volumn: 0\n",
      "emotion: 0.3784784972667694 volumn: 0\n",
      "emotion: -0.3577927947044372 volumn: 0\n",
      "emotion: -0.4428792595863342 volumn: 0\n",
      "emotion: 0.3664042353630066 volumn: 0\n",
      "emotion: -0.6181114315986633 volumn: 0\n",
      "emotion: -0.4554872214794159 volumn: 0\n",
      "emotion: 0.3916058540344238 volumn: 0\n",
      "emotion: 0.3948886394500732 volumn: 0\n",
      "emotion: 0.3596366047859192 volumn: 0\n",
      "emotion: 0.6358558833599091 volumn: 0\n",
      "emotion: -0.3806988596916199 volumn: 0\n",
      "emotion: 0.3833605051040649 volumn: 0\n",
      "emotion: -0.6422879993915558 volumn: 0\n",
      "emotion: -0.636612594127655 volumn: 0\n",
      "emotion: 0.3571760356426239 volumn: 0\n",
      "emotion: -0.4109086394309997 volumn: 0\n",
      "emotion: -0.4180872440338135 volumn: 0\n",
      "emotion: 0.3798009157180786 volumn: 0\n",
      "emotion: -0.3434889018535614 volumn: 0\n",
      "emotion: 0.3399879038333893 volumn: 0\n",
      "emotion: 0.3767238557338714 volumn: 0\n",
      "emotion: -0.6358908712863922 volumn: 0\n",
      "emotion: 0.3986649513244629 volumn: 0\n",
      "emotion: 0.6600549519062042 volumn: 0\n",
      "emotion: 0.387798935174942 volumn: 0\n",
      "emotion: -0.4449879229068756 volumn: 0\n",
      "emotion: -0.4001113772392273 volumn: 0\n",
      "emotion: 0.3548892736434936 volumn: 0\n",
      "emotion: 0.3574488759040832 volumn: 0\n",
      "emotion: 0.3690115511417389 volumn: 0\n",
      "emotion: -0.390481948852539 volumn: 0\n",
      "emotion: -0.6317375600337982 volumn: 0\n",
      "emotion: 0.3802841603755951 volumn: 0\n",
      "emotion: -0.661783903837204 volumn: 0\n",
      "emotion: -0.3472809493541717 volumn: 0\n",
      "emotion: 0.3587604165077209 volumn: 0\n",
      "emotion: -0.6298104524612427 volumn: 0\n",
      "emotion: 0.3652364015579223 volumn: 0\n"
     ]
    },
    {
     "name": "stderr",
     "output_type": "stream",
     "text": [
      "删除过期节点: 100%|████████████████████████████████████████████████████████████████████████████████████████████████████████████████████████████████████████████| 13/13 [00:00<00:00, 81625.68节点/s]"
     ]
    },
    {
     "name": "stdout",
     "output_type": "stream",
     "text": [
      "已删除节点及其所有边：1442293691943505920  (时间差超过 30 天)\n",
      "已删除节点及其所有边：1442322620330938368  (时间差超过 30 天)\n",
      "已删除节点及其所有边：1442342561910337536  (时间差超过 30 天)\n",
      "已删除节点及其所有边：1442347978203693056  (时间差超过 30 天)\n",
      "已删除节点及其所有边：1442339524164608000  (时间差超过 30 天)\n",
      "已删除节点及其所有边：1442353055396028416  (时间差超过 30 天)\n",
      "已删除节点及其所有边：1442361480557391872  (时间差超过 30 天)\n",
      "已删除节点及其所有边：1442396482510880768  (时间差超过 30 天)\n",
      "已删除节点及其所有边：1442423544697163776  (时间差超过 30 天)\n",
      "已删除节点及其所有边：1442464588986044416  (时间差超过 30 天)\n",
      "已删除节点及其所有边：1442465852641579008  (时间差超过 30 天)\n",
      "已删除节点及其所有边：1442516337981489152  (时间差超过 30 天)\n",
      "已删除节点及其所有边：1442562234505469952  (时间差超过 30 天)\n"
     ]
    },
    {
     "name": "stderr",
     "output_type": "stream",
     "text": [
      "\n"
     ]
    },
    {
     "name": "stdout",
     "output_type": "stream",
     "text": [
      "emotion: -0.3710967600345611 volumn: 0\n",
      "emotion: -0.367714911699295 volumn: 0\n",
      "emotion: -0.3710967600345611 volumn: 0\n",
      "emotion: -0.3788179457187652 volumn: 0\n",
      "emotion: 0.6548850238323212 volumn: 0\n",
      "emotion: -0.3760910928249359 volumn: 0\n",
      "emotion: 0.3739043176174164 volumn: 0\n",
      "emotion: 0.380289763212204 volumn: 0\n",
      "emotion: -0.3548032641410827 volumn: 0\n",
      "emotion: -0.3944953978061676 volumn: 0\n",
      "emotion: -0.6442756652832031 volumn: 0\n",
      "emotion: -0.6298104524612427 volumn: 0\n",
      "emotion: 0.3919906616210937 volumn: 0\n",
      "emotion: 0.3748027682304382 volumn: 0\n",
      "emotion: 0.3476950228214264 volumn: 0\n",
      "emotion: -0.3564513623714447 volumn: 0\n",
      "emotion: 0.6522654891014099 volumn: 0\n",
      "emotion: 0.3846652805805206 volumn: 0\n",
      "emotion: 0.3476950228214264 volumn: 0\n",
      "emotion: -0.4525277316570282 volumn: 0\n",
      "emotion: -0.6395947933197021 volumn: 0\n",
      "emotion: 0.6549012362957001 volumn: 0\n",
      "emotion: -0.3784145712852478 volumn: 0\n",
      "emotion: -0.3781809210777282 volumn: 0\n",
      "emotion: -0.345436543226242 volumn: 0\n",
      "emotion: 0.3433606326580047 volumn: 0\n",
      "emotion: -0.3917635977268219 volumn: 0\n",
      "emotion: -0.3709281980991363 volumn: 0\n",
      "emotion: -0.4506793916225433 volumn: 0\n",
      "emotion: -0.3786036074161529 volumn: 0\n",
      "emotion: -0.4161223471164703 volumn: 0\n",
      "emotion: -0.6229336261749268 volumn: 0\n",
      "emotion: -0.4349935054779053 volumn: 0\n",
      "emotion: -0.4004058241844177 volumn: 0\n",
      "emotion: -0.6422477960586548 volumn: 0\n"
     ]
    },
    {
     "name": "stderr",
     "output_type": "stream",
     "text": [
      "删除过期节点: 100%|████████████████████████████████████████████████████████████████████████████████████████████████████████████████████████████████████████████| 12/12 [00:00<00:00, 76375.79节点/s]"
     ]
    },
    {
     "name": "stdout",
     "output_type": "stream",
     "text": [
      "已删除节点及其所有边：1442677069733793792  (时间差超过 30 天)\n",
      "已删除节点及其所有边：1442688288771485696  (时间差超过 30 天)\n",
      "已删除节点及其所有边：1442716021312261888  (时间差超过 30 天)\n",
      "已删除节点及其所有边：1442694370071916288  (时间差超过 30 天)\n",
      "已删除节点及其所有边：1442738204759711488  (时间差超过 30 天)\n",
      "已删除节点及其所有边：1442757043576836096  (时间差超过 30 天)\n",
      "已删除节点及其所有边：1442758828802682880  (时间差超过 30 天)\n",
      "已删除节点及其所有边：1442797487341854720  (时间差超过 30 天)\n",
      "已删除节点及其所有边：1442802498595606528  (时间差超过 30 天)\n",
      "已删除节点及其所有边：1442892369477586944  (时间差超过 30 天)\n",
      "已删除节点及其所有边：1442899340700254208  (时间差超过 30 天)\n",
      "已删除节点及其所有边：1442917291125981184  (时间差超过 30 天)\n"
     ]
    },
    {
     "name": "stderr",
     "output_type": "stream",
     "text": [
      "\n"
     ]
    },
    {
     "name": "stdout",
     "output_type": "stream",
     "text": [
      "emotion: -0.3903586864471435 volumn: 0\n",
      "emotion: -0.4238687753677368 volumn: 0\n",
      "emotion: -0.4322769939899444 volumn: 0\n",
      "emotion: -0.3762109279632568 volumn: 0\n",
      "emotion: -0.3628953099250793 volumn: 0\n",
      "emotion: -0.3508473336696625 volumn: 0\n",
      "emotion: -0.3901959657669067 volumn: 0\n",
      "emotion: -0.4043696820735931 volumn: 0\n",
      "emotion: -0.6232796609401703 volumn: 0\n",
      "emotion: -0.4251710474491119 volumn: 0\n",
      "emotion: -0.3855411112308502 volumn: 0\n",
      "emotion: -0.4165039658546448 volumn: 0\n",
      "emotion: -0.3648023009300232 volumn: 0\n",
      "emotion: -0.360108733177185 volumn: 0\n",
      "emotion: -0.6600224673748016 volumn: 0\n",
      "emotion: -0.3995759189128876 volumn: 0\n",
      "emotion: -0.3645882606506347 volumn: 0\n",
      "emotion: -0.3725440204143524 volumn: 0\n",
      "emotion: -0.4750185012817383 volumn: 0\n",
      "emotion: 0.6464781165122986 volumn: 0\n",
      "emotion: -0.3760713636875152 volumn: 0\n",
      "emotion: -0.6368227005004883 volumn: 0\n",
      "emotion: -0.3609217405319214 volumn: 0\n",
      "emotion: -0.3752684891223907 volumn: 0\n",
      "emotion: -0.6422477960586548 volumn: 0\n",
      "emotion: -0.4190387725830078 volumn: 0\n",
      "emotion: -0.3559388816356659 volumn: 0\n",
      "emotion: -0.3917333483695984 volumn: 0\n",
      "emotion: -0.3818639516830444 volumn: 0\n",
      "emotion: -0.4070792496204376 volumn: 0\n",
      "emotion: 0.3694765865802765 volumn: 0\n",
      "emotion: 0.6119177937507629 volumn: 0\n",
      "emotion: 0.6464781165122986 volumn: 0\n",
      "emotion: -0.3569125831127167 volumn: 0\n",
      "emotion: -0.4200005233287811 volumn: 0\n",
      "emotion: -0.3872860670089721 volumn: 0\n",
      "emotion: 0.3639971017837524 volumn: 0\n",
      "emotion: -0.4376198053359985 volumn: 0\n",
      "emotion: -0.4645526707172394 volumn: 0\n",
      "emotion: -0.3901706039905548 volumn: 0\n",
      "emotion: -0.4231319725513458 volumn: 0\n",
      "emotion: -0.468093067407608 volumn: 0\n",
      "emotion: -0.4308764040470123 volumn: 0\n",
      "emotion: -0.4478617906570434 volumn: 0\n",
      "emotion: 0.3742451071739197 volumn: 0\n",
      "emotion: -0.3466446995735168 volumn: 0\n",
      "emotion: 0.3974971771240234 volumn: 0\n",
      "emotion: -0.4077375829219818 volumn: 0\n",
      "emotion: -0.3794692158699035 volumn: 0\n",
      "emotion: -0.3852287232875824 volumn: 0\n",
      "emotion: 0.3478585183620453 volumn: 0\n",
      "emotion: -0.396547257900238 volumn: 0\n",
      "emotion: -0.4011696875095367 volumn: 0\n",
      "emotion: -0.3477433919906616 volumn: 0\n",
      "emotion: -0.3704695403575897 volumn: 0\n"
     ]
    },
    {
     "name": "stderr",
     "output_type": "stream",
     "text": [
      "删除过期节点: 100%|████████████████████████████████████████████████████████████████████████████████████████████████████████████████████████████████████████████| 18/18 [00:00<00:00, 93206.76节点/s]"
     ]
    },
    {
     "name": "stdout",
     "output_type": "stream",
     "text": [
      "已删除节点及其所有边：1443031303356620800  (时间差超过 30 天)\n",
      "已删除节点及其所有边：1443047647099695104  (时间差超过 30 天)\n",
      "已删除节点及其所有边：1443047671921618944  (时间差超过 30 天)\n",
      "已删除节点及其所有边：1443063753843564288  (时间差超过 30 天)\n",
      "已删除节点及其所有边：1443061749780000768  (时间差超过 30 天)\n",
      "已删除节点及其所有边：1443090197118398464  (时间差超过 30 天)\n",
      "已删除节点及其所有边：1443100569720147968  (时间差超过 30 天)\n",
      "已删除节点及其所有边：1443100573264343040  (时间差超过 30 天)\n",
      "已删除节点及其所有边：1443100571511128064  (时间差超过 30 天)\n",
      "已删除节点及其所有边：1443120120478458112  (时间差超过 30 天)\n",
      "已删除节点及其所有边：1443123436457451520  (时间差超过 30 天)\n",
      "已删除节点及其所有边：1443157456042004480  (时间差超过 30 天)\n",
      "已删除节点及其所有边：1443177552076361728  (时间差超过 30 天)\n",
      "已删除节点及其所有边：1443202487255764992  (时间差超过 30 天)\n",
      "已删除节点及其所有边：1443202965112754176  (时间差超过 30 天)\n",
      "已删除节点及其所有边：1443141087938465792  (时间差超过 30 天)\n",
      "已删除节点及其所有边：1443228874280775680  (时间差超过 30 天)\n",
      "已删除节点及其所有边：1443139826837082112  (时间差超过 30 天)\n"
     ]
    },
    {
     "name": "stderr",
     "output_type": "stream",
     "text": [
      "\n"
     ]
    },
    {
     "name": "stdout",
     "output_type": "stream",
     "text": [
      "已批量写入 0 条数据到 index.csv\n",
      "emotion: -0.6465423703193665 volumn: 0\n",
      "emotion: -0.4552808105945587 volumn: 0\n",
      "emotion: -0.4490802884101867 volumn: 0\n",
      "emotion: -0.4811004102230072 volumn: 0\n",
      "emotion: 0.6405992805957794 volumn: 0\n",
      "emotion: -0.4251957535743713 volumn: 0\n",
      "emotion: 0.3939000070095062 volumn: 0\n",
      "emotion: 0.3763380050659179 volumn: 0\n",
      "emotion: -0.3968099355697632 volumn: 0\n",
      "emotion: -0.3930636942386627 volumn: 0\n",
      "emotion: -0.4073136746883392 volumn: 0\n",
      "emotion: -0.4020977020263672 volumn: 0\n",
      "emotion: -0.403147280216217 volumn: 0\n",
      "emotion: -0.6202506124973297 volumn: 0\n",
      "emotion: -0.4475131928920746 volumn: 0\n",
      "emotion: -0.3486564755439758 volumn: 0\n",
      "emotion: -0.4269610047340393 volumn: 0\n",
      "emotion: -0.3937371671199798 volumn: 0\n",
      "emotion: -0.3630885779857635 volumn: 0\n",
      "emotion: 0.3464885354042053 volumn: 0\n",
      "emotion: -0.4020977020263672 volumn: 0\n",
      "emotion: -0.3789628446102142 volumn: 0\n",
      "emotion: -0.3519361615180969 volumn: 0\n",
      "emotion: 0.6429580450057983 volumn: 0\n",
      "emotion: 0.4322876334190368 volumn: 0\n",
      "emotion: -0.3964356184005737 volumn: 0\n",
      "emotion: 0.3448490798473358 volumn: 0\n",
      "emotion: -0.3658531010150909 volumn: 0\n",
      "emotion: -0.4449879229068756 volumn: 0\n",
      "emotion: -0.4185113906860351 volumn: 0\n",
      "emotion: 0.4368627965450287 volumn: 0\n",
      "emotion: 0.3802373707294464 volumn: 0\n",
      "emotion: 0.3917523920536041 volumn: 0\n",
      "emotion: -0.3658780455589294 volumn: 0\n",
      "emotion: -0.36705482006073 volumn: 0\n",
      "emotion: -0.4468710422515869 volumn: 0\n",
      "emotion: -0.3506746292114258 volumn: 0\n",
      "emotion: 0.3629608154296875 volumn: 0\n",
      "emotion: 0.6403771042823792 volumn: 0\n",
      "emotion: -0.6155730485916138 volumn: 0\n",
      "emotion: 0.3443552255630493 volumn: 0\n",
      "emotion: -0.3988393545150757 volumn: 0\n",
      "emotion: 0.3626778125762939 volumn: 0\n",
      "emotion: -0.3871627151966095 volumn: 0\n",
      "emotion: -0.3886260390281677 volumn: 0\n",
      "emotion: -0.4060525894165039 volumn: 0\n",
      "emotion: -0.3785920441150665 volumn: 0\n",
      "emotion: -0.3778465986251831 volumn: 0\n",
      "emotion: -0.3505787551403045 volumn: 0\n",
      "emotion: 0.3659966289997101 volumn: 0\n",
      "emotion: 0.6442031860351562 volumn: 0\n",
      "emotion: -0.6006822288036346 volumn: 0\n",
      "emotion: -0.6313506960868835 volumn: 0\n"
     ]
    },
    {
     "name": "stderr",
     "output_type": "stream",
     "text": [
      "删除过期节点: 100%|████████████████████████████████████████████████████████████████████████████████████████████████████████████████████████████████████████████| 22/22 [00:00<00:00, 97233.60节点/s]"
     ]
    },
    {
     "name": "stdout",
     "output_type": "stream",
     "text": [
      "已删除节点及其所有边：1443378798636896512  (时间差超过 30 天)\n",
      "已删除节点及其所有边：1443382440421060608  (时间差超过 30 天)\n",
      "已删除节点及其所有边：1443395244511440896  (时间差超过 30 天)\n",
      "已删除节点及其所有边：1443400762042716160  (时间差超过 30 天)\n",
      "已删除节点及其所有边：1443396734412103680  (时间差超过 30 天)\n",
      "已删除节点及其所有边：1443407806422556672  (时间差超过 30 天)\n",
      "已删除节点及其所有边：1443446786803253248  (时间差超过 30 天)\n",
      "已删除节点及其所有边：1443447687597248512  (时间差超过 30 天)\n",
      "已删除节点及其所有边：1443449471493292032  (时间差超过 30 天)\n",
      "已删除节点及其所有边：1443451407856713728  (时间差超过 30 天)\n",
      "已删除节点及其所有边：1443454885463306240  (时间差超过 30 天)\n",
      "已删除节点及其所有边：1443528816438153216  (时间差超过 30 天)\n",
      "已删除节点及其所有边：1443536086957973504  (时间差超过 30 天)\n",
      "已删除节点及其所有边：1443480927053701120  (时间差超过 30 天)\n",
      "已删除节点及其所有边：1443466655040954368  (时间差超过 30 天)\n",
      "已删除节点及其所有边：1443462492374634496  (时间差超过 30 天)\n",
      "已删除节点及其所有边：1443537846749564928  (时间差超过 30 天)\n",
      "已删除节点及其所有边：1443695363232309248  (时间差超过 30 天)\n",
      "已删除节点及其所有边：1443716303357820928  (时间差超过 30 天)\n",
      "已删除节点及其所有边：1443474652756541440  (时间差超过 30 天)\n",
      "已删除节点及其所有边：1443479477040807936  (时间差超过 30 天)\n",
      "已删除节点及其所有边：1443536206516551680  (时间差超过 30 天)\n"
     ]
    },
    {
     "name": "stderr",
     "output_type": "stream",
     "text": [
      "\n"
     ]
    },
    {
     "name": "stdout",
     "output_type": "stream",
     "text": [
      "emotion: -0.360817551612854 volumn: 0\n",
      "emotion: 0.3877782821655273 volumn: 0\n",
      "emotion: -0.6545358002185822 volumn: 0\n",
      "emotion: -0.3962240219116211 volumn: 0\n",
      "emotion: -0.6233229637145996 volumn: 0\n",
      "emotion: 0.3717162013053894 volumn: 0\n",
      "emotion: 0.592261016368866 volumn: 0\n",
      "emotion: 0.6436777114868164 volumn: 0\n",
      "emotion: 0.6161699295043945 volumn: 0\n",
      "emotion: -0.3743068277835846 volumn: 0\n",
      "emotion: 0.354793906211853 volumn: 0\n",
      "emotion: 0.3464083969593048 volumn: 0\n",
      "emotion: -0.3726109266281128 volumn: 0\n",
      "emotion: -0.412024438381195 volumn: 0\n",
      "emotion: -0.6200779676437378 volumn: 0\n",
      "emotion: -0.4243682622909546 volumn: 0\n",
      "emotion: 0.3898157775402069 volumn: 0\n",
      "emotion: 0.6258596479892731 volumn: 0\n",
      "emotion: -0.3734008371829986 volumn: 0\n",
      "emotion: -0.3430730402469635 volumn: 0\n",
      "emotion: 0.3990319371223449 volumn: 0\n",
      "emotion: -0.3814695179462433 volumn: 0\n",
      "emotion: 0.4044635593891144 volumn: 0\n",
      "emotion: 0.6035039722919464 volumn: 0\n",
      "emotion: 0.6401858329772949 volumn: 0\n",
      "emotion: 0.4132245182991028 volumn: 0\n",
      "emotion: 0.6205274164676666 volumn: 0\n",
      "emotion: -0.3605484664440155 volumn: 0\n",
      "emotion: -0.4613084495067596 volumn: 0\n",
      "emotion: -0.3443677425384521 volumn: 0\n",
      "emotion: -0.4263149499893188 volumn: 0\n",
      "emotion: -0.3753887712955475 volumn: 0\n",
      "emotion: -0.4003662467002868 volumn: 0\n",
      "emotion: 0.4364306330680847 volumn: 0\n",
      "emotion: 0.3399397730827331 volumn: 0\n",
      "emotion: 0.6630943119525909 volumn: 0\n",
      "emotion: -0.3822129070758819 volumn: 0\n",
      "emotion: -0.4089772999286651 volumn: 0\n",
      "emotion: -0.3872097730636596 volumn: 0\n",
      "emotion: -0.4377668797969818 volumn: 0\n",
      "emotion: -0.3788298368453979 volumn: 0\n",
      "emotion: -0.3593925535678863 volumn: 0\n",
      "emotion: -0.6499798893928528 volumn: 0\n",
      "emotion: -0.4094125628471374 volumn: 0\n",
      "emotion: -0.3747451305389404 volumn: 0\n",
      "emotion: -0.3858112394809723 volumn: 0\n",
      "emotion: -0.4031353592872619 volumn: 0\n",
      "emotion: 0.3608094751834869 volumn: 0\n",
      "emotion: -0.3446480333805084 volumn: 0\n",
      "emotion: 0.6300025284290314 volumn: 0\n",
      "emotion: -0.3692185878753662 volumn: 0\n",
      "emotion: -0.6395715773105621 volumn: 0\n",
      "emotion: 0.3446319997310638 volumn: 0\n",
      "emotion: 0.3625596761703491 volumn: 0\n",
      "emotion: 0.3680774271488189 volumn: 0\n",
      "emotion: -0.338805228471756 volumn: 0\n",
      "emotion: 0.350135862827301 volumn: 0\n",
      "emotion: -0.3364711105823517 volumn: 0\n",
      "emotion: 0.4005631506443023 volumn: 0\n"
     ]
    },
    {
     "name": "stderr",
     "output_type": "stream",
     "text": [
      "删除过期节点: 100%|██████████████████████████████████████████████████████████████████████████████████████████████████████████████████████████████████████████████| 3/3 [00:00<00:00, 31936.32节点/s]"
     ]
    },
    {
     "name": "stdout",
     "output_type": "stream",
     "text": [
      "已删除节点及其所有边：1443897779978321920  (时间差超过 30 天)\n",
      "已删除节点及其所有边：1443966708339945472  (时间差超过 30 天)\n",
      "已删除节点及其所有边：1443975316259545088  (时间差超过 30 天)\n"
     ]
    },
    {
     "name": "stderr",
     "output_type": "stream",
     "text": [
      "\n"
     ]
    },
    {
     "name": "stdout",
     "output_type": "stream",
     "text": [
      "emotion: -0.4129759669303894 volumn: 0\n",
      "emotion: -0.3542758524417877 volumn: 0\n",
      "emotion: -0.3670479953289032 volumn: 0\n",
      "emotion: 0.4027460813522339 volumn: 0\n",
      "emotion: 0.3447282910346985 volumn: 0\n",
      "emotion: 0.4026660323143005 volumn: 0\n",
      "emotion: -0.640190601348877 volumn: 0\n",
      "emotion: -0.4365301728248596 volumn: 0\n",
      "emotion: 0.61553555727005 volumn: 0\n",
      "emotion: 0.3594165444374084 volumn: 0\n",
      "emotion: -0.5969409644603729 volumn: 0\n",
      "emotion: -0.3756867945194244 volumn: 0\n",
      "emotion: 0.6265794336795807 volumn: 0\n",
      "emotion: 0.3780536651611328 volumn: 0\n",
      "emotion: 0.4217583239078522 volumn: 0\n",
      "emotion: -0.6154269278049469 volumn: 0\n",
      "emotion: -0.350896805524826 volumn: 0\n",
      "emotion: -0.5037408471107483 volumn: 0\n",
      "emotion: -0.3848245739936828 volumn: 0\n",
      "emotion: 0.3746560513973236 volumn: 0\n",
      "emotion: -0.4271982610225677 volumn: 0\n",
      "emotion: 0.4181398451328277 volumn: 0\n",
      "emotion: -0.3948055505752563 volumn: 0\n",
      "emotion: -0.3534369170665741 volumn: 0\n",
      "emotion: 0.3983684182167053 volumn: 0\n",
      "emotion: 0.6223572790622711 volumn: 0\n",
      "emotion: 0.6588408946990967 volumn: 0\n",
      "emotion: -0.3832986354827881 volumn: 0\n",
      "emotion: 0.3766906559467315 volumn: 0\n",
      "emotion: 0.4046562016010284 volumn: 0\n",
      "emotion: 0.4207512140274048 volumn: 0\n",
      "emotion: -0.6403480172157288 volumn: 0\n",
      "emotion: 0.3512514531612396 volumn: 0\n",
      "emotion: 0.3441498577594757 volumn: 0\n",
      "emotion: 0.6206875741481781 volumn: 0\n",
      "emotion: 0.6118201315402985 volumn: 0\n",
      "emotion: -0.3641928732395172 volumn: 0\n",
      "emotion: 0.6119535565376282 volumn: 0\n",
      "emotion: -0.3851873278617859 volumn: 0\n",
      "emotion: 0.3387649357318878 volumn: 0\n",
      "emotion: 0.6335448920726776 volumn: 0\n",
      "emotion: 0.3732114732265472 volumn: 0\n",
      "emotion: 0.3732114732265472 volumn: 0\n",
      "emotion: -0.3458240330219269 volumn: 0\n",
      "emotion: -0.3794660866260528 volumn: 0\n",
      "emotion: -0.4568033516407013 volumn: 0\n",
      "emotion: -0.3980890810489654 volumn: 0\n",
      "emotion: -0.3775707483291626 volumn: 0\n",
      "emotion: -0.4200299382209778 volumn: 0\n",
      "emotion: -0.3580599129199981 volumn: 0\n",
      "emotion: -0.3832733929157257 volumn: 0\n",
      "emotion: -0.4401934444904327 volumn: 0\n",
      "emotion: -0.3893551230430603 volumn: 0\n",
      "emotion: -0.4394081234931946 volumn: 0\n",
      "emotion: 0.4234545826911926 volumn: 0\n",
      "emotion: -0.4235347807407379 volumn: 0\n",
      "emotion: -0.3687076270580292 volumn: 0\n",
      "emotion: -0.3931615948677063 volumn: 0\n",
      "emotion: -0.3994838893413543 volumn: 0\n",
      "emotion: -0.3464319407939911 volumn: 0\n",
      "emotion: -0.409792423248291 volumn: 0\n"
     ]
    },
    {
     "name": "stderr",
     "output_type": "stream",
     "text": [
      "删除过期节点: 100%|██████████████████████████████████████████████████████████████████████████████████████████████████████████████████████████████████████████████| 3/3 [00:00<00:00, 33644.15节点/s]"
     ]
    },
    {
     "name": "stdout",
     "output_type": "stream",
     "text": [
      "已删除节点及其所有边：1444138215959498752  (时间差超过 30 天)\n",
      "已删除节点及其所有边：1444177557876846592  (时间差超过 30 天)\n",
      "已删除节点及其所有边：1444358878314082304  (时间差超过 30 天)\n"
     ]
    },
    {
     "name": "stderr",
     "output_type": "stream",
     "text": [
      "\n"
     ]
    },
    {
     "name": "stdout",
     "output_type": "stream",
     "text": [
      "emotion: -0.6438923478126526 volumn: 0\n",
      "emotion: 0.3528942763805389 volumn: 0\n",
      "emotion: -0.3689376711845398 volumn: 0\n",
      "emotion: 0.3629884421825409 volumn: 0\n",
      "emotion: -0.3852819502353668 volumn: 0\n",
      "emotion: -0.4188371300697326 volumn: 0\n",
      "emotion: -0.3713202476501465 volumn: 0\n",
      "emotion: 0.3946338295936584 volumn: 0\n",
      "emotion: -0.5773340165615082 volumn: 0\n",
      "emotion: -0.4208825826644897 volumn: 0\n",
      "emotion: 0.3839744329452514 volumn: 0\n",
      "emotion: 0.6202958822250366 volumn: 0\n",
      "emotion: -0.5002013444900513 volumn: 0\n",
      "emotion: -0.6196880340576172 volumn: 0\n",
      "emotion: -0.3858466148376465 volumn: 0\n",
      "emotion: -0.4757035076618194 volumn: 0\n",
      "emotion: 0.6513669788837433 volumn: 0\n",
      "emotion: -0.3684701919555664 volumn: 0\n",
      "emotion: -0.364138126373291 volumn: 0\n",
      "emotion: 0.6203578412532806 volumn: 0\n",
      "emotion: -0.4004716575145721 volumn: 0\n",
      "emotion: -0.3410957455635071 volumn: 0\n",
      "emotion: -0.6481921374797821 volumn: 0\n",
      "emotion: -0.4289090633392334 volumn: 0\n",
      "emotion: 0.3674857020378113 volumn: 0\n",
      "emotion: 0.4091817438602447 volumn: 0\n",
      "emotion: 0.414635956287384 volumn: 0\n",
      "emotion: -0.3615441024303436 volumn: 0\n",
      "emotion: 0.6328146457672119 volumn: 0\n",
      "emotion: 0.354122906923294 volumn: 0\n",
      "emotion: 0.4128632247447967 volumn: 0\n",
      "emotion: 0.6328146457672119 volumn: 0\n",
      "emotion: -0.3955084979534149 volumn: 0\n",
      "emotion: -0.3897071182727813 volumn: 0\n",
      "emotion: 0.3967896699905395 volumn: 0\n",
      "emotion: 0.6154112219810486 volumn: 0\n",
      "emotion: -0.6523024439811707 volumn: 0\n",
      "emotion: -0.3413918316364288 volumn: 0\n",
      "emotion: 0.3948145508766174 volumn: 0\n",
      "emotion: 0.6134886145591736 volumn: 0\n",
      "emotion: 0.3696883618831634 volumn: 0\n",
      "emotion: 0.38112473487854 volumn: 0\n",
      "emotion: 0.6300767362117767 volumn: 0\n",
      "emotion: 0.3940858244895935 volumn: 0\n",
      "emotion: -0.4384031593799591 volumn: 0\n",
      "emotion: -0.3910474479198456 volumn: 0\n",
      "emotion: -0.3688441514968872 volumn: 0\n",
      "emotion: -0.3929981291294098 volumn: 0\n",
      "emotion: -0.50323885679245 volumn: 0\n",
      "emotion: 0.422229528427124 volumn: 0\n",
      "emotion: -0.3825062215328216 volumn: 0\n",
      "emotion: -0.3601869940757751 volumn: 0\n",
      "emotion: -0.4219181835651397 volumn: 0\n",
      "emotion: -0.3432348668575287 volumn: 0\n",
      "emotion: -0.3692116439342499 volumn: 0\n",
      "emotion: -0.3491685390472412 volumn: 0\n",
      "emotion: -0.3591365814208984 volumn: 0\n",
      "emotion: 0.4276192188262939 volumn: 0\n",
      "emotion: -0.3676562905311584 volumn: 0\n",
      "emotion: 0.348014622926712 volumn: 0\n",
      "emotion: -0.3743854761123657 volumn: 0\n",
      "emotion: -0.3694140315055847 volumn: 0\n",
      "emotion: -0.3574836850166321 volumn: 0\n",
      "emotion: 0.3463144302368164 volumn: 0\n"
     ]
    },
    {
     "name": "stderr",
     "output_type": "stream",
     "text": [
      "删除过期节点: 100%|██████████████████████████████████████████████████████████████████████████████████████████████████████████████████████████████████████████████| 2/2 [00:00<00:00, 23629.88节点/s]"
     ]
    },
    {
     "name": "stdout",
     "output_type": "stream",
     "text": [
      "已删除节点及其所有边：1444550443091173376  (时间差超过 30 天)\n",
      "已删除节点及其所有边：1444642253603938304  (时间差超过 30 天)\n"
     ]
    },
    {
     "name": "stderr",
     "output_type": "stream",
     "text": [
      "\n"
     ]
    },
    {
     "name": "stdout",
     "output_type": "stream",
     "text": [
      "emotion: -0.6136109530925751 volumn: 0\n",
      "emotion: -0.6185174286365509 volumn: 0\n",
      "emotion: -0.6141270101070404 volumn: 0\n",
      "emotion: -0.4190983772277832 volumn: 0\n",
      "emotion: -0.3559546768665313 volumn: 0\n",
      "emotion: -0.3749156594276428 volumn: 0\n",
      "emotion: -0.3510169684886932 volumn: 0\n",
      "emotion: -0.3695780634880066 volumn: 0\n",
      "emotion: -0.3705287873744964 volumn: 0\n",
      "emotion: -0.3951331973075866 volumn: 0\n",
      "emotion: -0.3733839988708496 volumn: 0\n",
      "emotion: -0.4472032487392425 volumn: 0\n",
      "emotion: -0.4672416448593139 volumn: 0\n",
      "emotion: 0.4189254641532898 volumn: 0\n",
      "emotion: -0.4062435626983642 volumn: 0\n",
      "emotion: 0.371273785829544 volumn: 0\n",
      "emotion: 0.3369986116886139 volumn: 0\n",
      "emotion: -0.4136942028999328 volumn: 0\n",
      "emotion: -0.4126309156417846 volumn: 0\n",
      "emotion: -0.3619417548179626 volumn: 0\n",
      "emotion: -0.3985936045646667 volumn: 0\n",
      "emotion: 0.6587872207164764 volumn: 0\n",
      "emotion: -0.3731343150138855 volumn: 0\n",
      "emotion: -0.3942708075046539 volumn: 0\n",
      "emotion: 0.3610106408596039 volumn: 0\n",
      "emotion: -0.3587360382080078 volumn: 0\n",
      "emotion: 0.6330028772354126 volumn: 0\n",
      "emotion: -0.3953024446964264 volumn: 0\n",
      "emotion: -0.3624109029769897 volumn: 0\n",
      "emotion: -0.3440857827663421 volumn: 0\n",
      "emotion: -0.6398880183696747 volumn: 0\n",
      "emotion: -0.3853222727775574 volumn: 0\n",
      "emotion: 0.3493228554725647 volumn: 0\n",
      "emotion: 0.3670003712177276 volumn: 0\n",
      "emotion: 0.3552208244800567 volumn: 0\n",
      "emotion: 0.3704416155815124 volumn: 0\n",
      "emotion: -0.4083506166934967 volumn: 0\n",
      "emotion: -0.4429611265659332 volumn: 0\n",
      "emotion: 0.602338969707489 volumn: 0\n",
      "emotion: -0.659679114818573 volumn: 0\n",
      "emotion: 0.6212926208972931 volumn: 0\n",
      "emotion: -0.4467383921146393 volumn: 0\n",
      "emotion: 0.3712997734546661 volumn: 0\n",
      "emotion: -0.3888617157936096 volumn: 0\n",
      "emotion: -0.3577335774898529 volumn: 0\n",
      "emotion: -0.4106847047805786 volumn: 0\n",
      "emotion: -0.3897868692874908 volumn: 0\n",
      "emotion: -0.3941430151462555 volumn: 0\n",
      "emotion: -0.4496073722839355 volumn: 0\n",
      "emotion: -0.453476995229721 volumn: 0\n",
      "emotion: -0.4300954341888428 volumn: 0\n",
      "emotion: -0.4945387840270996 volumn: 0\n",
      "emotion: -0.4241225123405456 volumn: 0\n",
      "emotion: -0.3585014641284942 volumn: 0\n",
      "emotion: -0.3518721759319305 volumn: 0\n",
      "emotion: 0.3538171947002411 volumn: 0\n"
     ]
    },
    {
     "name": "stderr",
     "output_type": "stream",
     "text": [
      "删除过期节点: 100%|████████████████████████████████████████████████████████████████████████████████████████████████████████████████████████████████████████████| 16/16 [00:00<00:00, 86480.49节点/s]"
     ]
    },
    {
     "name": "stdout",
     "output_type": "stream",
     "text": [
      "已删除节点及其所有边：1444851445115887616  (时间差超过 30 天)\n",
      "已删除节点及其所有边：1444891658277961728  (时间差超过 30 天)\n",
      "已删除节点及其所有边：1444916138647846912  (时间差超过 30 天)\n",
      "已删除节点及其所有边：1444920004600864768  (时间差超过 30 天)\n",
      "已删除节点及其所有边：1444910147449470976  (时间差超过 30 天)\n",
      "已删除节点及其所有边：1444921688475508736  (时间差超过 30 天)\n",
      "已删除节点及其所有边：1444928394064326912  (时间差超过 30 天)\n",
      "已删除节点及其所有边：1444930105680224512  (时间差超过 30 天)\n",
      "已删除节点及其所有边：1444943550475497472  (时间差超过 30 天)\n",
      "已删除节点及其所有边：1445008822750302208  (时间差超过 30 天)\n",
      "已删除节点及其所有边：1445010578909638912  (时间差超过 30 天)\n",
      "已删除节点及其所有边：1445012719015505920  (时间差超过 30 天)\n",
      "已删除节点及其所有边：1445036502891876352  (时间差超过 30 天)\n",
      "已删除节点及其所有边：1445014130029641728  (时间差超过 30 天)\n",
      "已删除节点及其所有边：1445030967874306048  (时间差超过 30 天)\n",
      "已删除节点及其所有边：1445022135962030080  (时间差超过 30 天)\n"
     ]
    },
    {
     "name": "stderr",
     "output_type": "stream",
     "text": [
      "\n"
     ]
    },
    {
     "name": "stdout",
     "output_type": "stream",
     "text": [
      "emotion: -0.4937073886394501 volumn: 0\n",
      "emotion: -0.3607737421989441 volumn: 0\n",
      "emotion: -0.4271984994411468 volumn: 0\n",
      "emotion: -0.390347421169281 volumn: 0\n",
      "emotion: 0.3773410320281982 volumn: 0\n",
      "emotion: -0.4448938965797424 volumn: 0\n",
      "emotion: -0.4165833592414856 volumn: 0\n",
      "emotion: -0.4909105002880096 volumn: 0\n",
      "emotion: 0.4257853329181671 volumn: 0\n",
      "emotion: 0.3759360015392303 volumn: 0\n",
      "emotion: -0.3597113490104675 volumn: 0\n",
      "emotion: -0.3818705976009369 volumn: 0\n",
      "emotion: -0.6197706460952759 volumn: 0\n",
      "emotion: -0.3979829549789428 volumn: 0\n",
      "emotion: 0.3734865486621856 volumn: 0\n",
      "emotion: -0.4240196347236633 volumn: 0\n",
      "emotion: 0.6654026806354523 volumn: 0\n",
      "emotion: 0.619466096162796 volumn: 0\n",
      "emotion: -0.3721530437469482 volumn: 0\n",
      "emotion: -0.3650187253952026 volumn: 0\n",
      "emotion: 0.3561932146549225 volumn: 0\n",
      "emotion: 0.3501524627208709 volumn: 0\n",
      "emotion: -0.3589735925197601 volumn: 0\n",
      "emotion: -0.4189693629741668 volumn: 0\n",
      "emotion: -0.6489343047142029 volumn: 0\n",
      "emotion: 0.3561932146549225 volumn: 0\n",
      "emotion: 0.3498357832431793 volumn: 0\n"
     ]
    },
    {
     "name": "stderr",
     "output_type": "stream",
     "text": [
      "删除过期节点: 100%|██████████████████████████████████████████████████████████████████████████████████████████████████████████████████████████████████████████████| 5/5 [00:00<00:00, 47771.12节点/s]"
     ]
    },
    {
     "name": "stdout",
     "output_type": "stream",
     "text": [
      "已删除节点及其所有边：1445219840390664192  (时间差超过 30 天)\n",
      "已删除节点及其所有边：1445270580589125632  (时间差超过 30 天)\n",
      "已删除节点及其所有边：1445297289241800704  (时间差超过 30 天)\n",
      "已删除节点及其所有边：1445469144623710208  (时间差超过 30 天)\n",
      "已删除节点及其所有边：1445465517972594688  (时间差超过 30 天)\n"
     ]
    },
    {
     "name": "stderr",
     "output_type": "stream",
     "text": [
      "\n"
     ]
    },
    {
     "name": "stdout",
     "output_type": "stream",
     "text": [
      "emotion: -0.6398880183696747 volumn: 0\n",
      "emotion: -0.3580769300460815 volumn: 0\n",
      "emotion: 0.3524168133735657 volumn: 0\n",
      "emotion: -0.3610478043556213 volumn: 0\n",
      "emotion: -0.4620668292045593 volumn: 0\n",
      "emotion: 0.451171725988388 volumn: 0\n",
      "emotion: -0.3843240737915039 volumn: 0\n",
      "emotion: -0.3410608768463135 volumn: 0\n",
      "emotion: -0.3543662130832672 volumn: 0\n",
      "emotion: -0.3580769300460815 volumn: 0\n",
      "emotion: -0.3722784519195556 volumn: 0\n",
      "emotion: -0.4198935031890869 volumn: 0\n",
      "emotion: 0.6128985583782196 volumn: 0\n",
      "emotion: -0.4171190559864044 volumn: 0\n",
      "emotion: -0.6403981447219849 volumn: 0\n",
      "emotion: -0.3777991235256195 volumn: 0\n",
      "emotion: -0.4239793717861175 volumn: 0\n",
      "emotion: -0.3564264178276062 volumn: 0\n",
      "emotion: -0.3941391110420227 volumn: 0\n",
      "emotion: -0.3634198606014251 volumn: 0\n",
      "emotion: -0.4184191524982452 volumn: 0\n",
      "emotion: -0.4506835043430328 volumn: 0\n",
      "emotion: -0.4300817251205444 volumn: 0\n",
      "emotion: -0.3681980073451996 volumn: 0\n",
      "emotion: -0.3842530250549316 volumn: 0\n",
      "emotion: -0.4510263204574585 volumn: 0\n",
      "emotion: -0.3652897775173187 volumn: 0\n",
      "emotion: -0.4314004778861999 volumn: 0\n",
      "emotion: 0.3610106408596039 volumn: 0\n",
      "emotion: 0.3839990496635437 volumn: 0\n",
      "emotion: -0.3866502046585083 volumn: 0\n",
      "emotion: -0.6569453775882721 volumn: 0\n",
      "emotion: -0.4170994460582733 volumn: 0\n",
      "emotion: -0.3539890348911285 volumn: 0\n",
      "emotion: 0.5983956158161163 volumn: 0\n"
     ]
    },
    {
     "name": "stderr",
     "output_type": "stream",
     "text": [
      "删除过期节点: 100%|██████████████████████████████████████████████████████████████████████████████████████████████████████████████████████████████████████████████| 8/8 [00:00<00:00, 60677.09节点/s]"
     ]
    },
    {
     "name": "stdout",
     "output_type": "stream",
     "text": [
      "已删除节点及其所有边：1445639243125051392  (时间差超过 30 天)\n",
      "已删除节点及其所有边：1445642648820203520  (时间差超过 30 天)\n",
      "已删除节点及其所有边：1445644759385600000  (时间差超过 30 天)\n",
      "已删除节点及其所有边：1445687703157166080  (时间差超过 30 天)\n",
      "已删除节点及其所有边：1445659632639250432  (时间差超过 30 天)\n",
      "已删除节点及其所有边：1445702442855714816  (时间差超过 30 天)\n",
      "已删除节点及其所有边：1445703438038306816  (时间差超过 30 天)\n",
      "已删除节点及其所有边：1445794071247732736  (时间差超过 30 天)\n"
     ]
    },
    {
     "name": "stderr",
     "output_type": "stream",
     "text": [
      "\n"
     ]
    },
    {
     "name": "stdout",
     "output_type": "stream",
     "text": [
      "emotion: -0.4459278285503387 volumn: 0\n",
      "emotion: 0.3996453583240509 volumn: 0\n",
      "emotion: 0.6153046190738678 volumn: 0\n",
      "emotion: -0.4293222427368164 volumn: 0\n",
      "emotion: -0.4538038074970245 volumn: 0\n",
      "emotion: -0.5035771131515503 volumn: 0\n",
      "emotion: -0.4530815482139587 volumn: 0\n",
      "emotion: -0.4711719751358032 volumn: 0\n",
      "emotion: -0.660614550113678 volumn: 0\n",
      "emotion: 0.342707872390747 volumn: 0\n",
      "emotion: 0.3683355450630188 volumn: 0\n",
      "emotion: -0.4237062633037567 volumn: 0\n",
      "emotion: 0.6578097343444824 volumn: 0\n",
      "emotion: -0.3779005408287048 volumn: 0\n",
      "emotion: 0.6128985583782196 volumn: 0\n",
      "emotion: 0.4355978369712829 volumn: 0\n",
      "emotion: -0.350160002708435 volumn: 0\n",
      "emotion: -0.3847257792949676 volumn: 0\n",
      "emotion: 0.6448291540145874 volumn: 0\n",
      "emotion: 0.6260687410831451 volumn: 0\n",
      "emotion: -0.380975067615509 volumn: 0\n",
      "emotion: -0.368769109249115 volumn: 0\n",
      "emotion: -0.4058118462562561 volumn: 0\n",
      "emotion: 0.3912416696548462 volumn: 0\n",
      "emotion: -0.4018612802028656 volumn: 0\n",
      "emotion: 0.3676783442497253 volumn: 0\n",
      "emotion: -0.3679994642734527 volumn: 0\n",
      "emotion: 0.6558028757572174 volumn: 0\n",
      "emotion: -0.430787593126297 volumn: 0\n",
      "emotion: 0.3702772855758667 volumn: 0\n",
      "emotion: -0.3581977188587188 volumn: 0\n",
      "emotion: 0.3546790182590484 volumn: 0\n",
      "emotion: 0.6108385026454926 volumn: 0\n",
      "emotion: -0.3854585886001587 volumn: 0\n",
      "emotion: -0.6136509776115417 volumn: 0\n",
      "emotion: -0.6493872404098511 volumn: 0\n",
      "emotion: -0.3688278794288635 volumn: 0\n",
      "emotion: 0.3453799486160278 volumn: 0\n",
      "emotion: -0.3565245568752289 volumn: 0\n",
      "emotion: 0.6339792311191559 volumn: 0\n",
      "emotion: -0.4041500389575958 volumn: 0\n",
      "emotion: 0.3519299030303955 volumn: 0\n",
      "emotion: -0.4312750101089477 volumn: 0\n"
     ]
    },
    {
     "name": "stderr",
     "output_type": "stream",
     "text": [
      "删除过期节点: 100%|██████████████████████████████████████████████████████████████████████████████████████████████████████████████████████████████████████████████| 4/4 [00:00<00:00, 41120.63节点/s]"
     ]
    },
    {
     "name": "stdout",
     "output_type": "stream",
     "text": [
      "已删除节点及其所有边：1446071988926124032  (时间差超过 30 天)\n",
      "已删除节点及其所有边：1446088045841682432  (时间差超过 30 天)\n",
      "已删除节点及其所有边：1446201171597840384  (时间差超过 30 天)\n",
      "已删除节点及其所有边：1446155684932902912  (时间差超过 30 天)\n"
     ]
    },
    {
     "name": "stderr",
     "output_type": "stream",
     "text": [
      "\n"
     ]
    },
    {
     "name": "stdout",
     "output_type": "stream",
     "text": [
      "emotion: -0.4028694927692413 volumn: 0\n",
      "emotion: 0.3558871150016784 volumn: 0\n",
      "emotion: 0.4218254387378692 volumn: 0\n",
      "emotion: -0.3654686510562897 volumn: 0\n",
      "emotion: -0.3754073083400726 volumn: 0\n",
      "emotion: -0.3702635467052459 volumn: 0\n",
      "emotion: -0.4059145748615265 volumn: 0\n",
      "emotion: 0.4023951590061188 volumn: 0\n",
      "emotion: -0.3878531754016876 volumn: 0\n",
      "emotion: -0.3585769534111023 volumn: 0\n",
      "emotion: -0.3809601366519928 volumn: 0\n",
      "emotion: -0.3944907784461975 volumn: 0\n",
      "emotion: 0.3967924416065216 volumn: 0\n",
      "emotion: 0.3551778495311737 volumn: 0\n",
      "emotion: -0.6093997955322266 volumn: 0\n",
      "emotion: -0.3950445652008056 volumn: 0\n",
      "emotion: 0.3440088927745819 volumn: 0\n",
      "emotion: 0.3750263750553131 volumn: 0\n",
      "emotion: 0.3407570719718933 volumn: 0\n",
      "emotion: 0.3699541687965393 volumn: 0\n",
      "emotion: -0.3634428381919861 volumn: 0\n",
      "emotion: 0.3592654168605804 volumn: 0\n",
      "emotion: 0.3909178674221039 volumn: 0\n",
      "emotion: -0.3680668175220489 volumn: 0\n",
      "emotion: -0.6495482623577118 volumn: 0\n",
      "emotion: 0.6147527694702148 volumn: 0\n",
      "emotion: -0.5958140790462494 volumn: 0\n",
      "emotion: 0.3566627502441406 volumn: 0\n",
      "emotion: -0.410182923078537 volumn: 0\n",
      "emotion: 0.4257458746433258 volumn: 0\n",
      "emotion: 0.3931995034217834 volumn: 0\n",
      "emotion: -0.3814626038074493 volumn: 0\n",
      "emotion: 0.3511935770511627 volumn: 0\n",
      "emotion: -0.6375055909156799 volumn: 0\n",
      "emotion: -0.4238850176334381 volumn: 0\n",
      "emotion: -0.401818186044693 volumn: 0\n",
      "emotion: -0.431702196598053 volumn: 0\n",
      "emotion: 0.357694000005722 volumn: 0\n",
      "emotion: 0.3420907855033874 volumn: 0\n",
      "emotion: -0.4058625400066376 volumn: 0\n",
      "emotion: -0.3972352147102356 volumn: 0\n",
      "emotion: 0.35466068983078 volumn: 0\n",
      "emotion: 0.3897654712200165 volumn: 0\n",
      "emotion: -0.3461891412734985 volumn: 0\n",
      "emotion: -0.3780496120452881 volumn: 0\n"
     ]
    },
    {
     "name": "stderr",
     "output_type": "stream",
     "text": [
      "删除过期节点: 100%|████████████████████████████████████████████████████████████████████████████████████████████████████████████████████████████████████████████| 12/12 [00:00<00:00, 72628.64节点/s]"
     ]
    },
    {
     "name": "stdout",
     "output_type": "stream",
     "text": [
      "已删除节点及其所有边：1446293039312515072  (时间差超过 30 天)\n",
      "已删除节点及其所有边：1446327468386832384  (时间差超过 30 天)\n",
      "已删除节点及其所有边：1446354959109402624  (时间差超过 30 天)\n",
      "已删除节点及其所有边：1446356696977321984  (时间差超过 30 天)\n",
      "已删除节点及其所有边：1446358244469837824  (时间差超过 30 天)\n",
      "已删除节点及其所有边：1446381128647127040  (时间差超过 30 天)\n",
      "已删除节点及其所有边：1446430210430312448  (时间差超过 30 天)\n",
      "已删除节点及其所有边：1446432214586101760  (时间差超过 30 天)\n",
      "已删除节点及其所有边：1446443386756640768  (时间差超过 30 天)\n",
      "已删除节点及其所有边：1446483346943397888  (时间差超过 30 天)\n",
      "已删除节点及其所有边：1446508951533588480  (时间差超过 30 天)\n",
      "已删除节点及其所有边：1446622951332323328  (时间差超过 30 天)\n"
     ]
    },
    {
     "name": "stderr",
     "output_type": "stream",
     "text": [
      "\n"
     ]
    },
    {
     "name": "stdout",
     "output_type": "stream",
     "text": [
      "emotion: -0.4116367995738983 volumn: 0\n",
      "emotion: -0.3759010136127472 volumn: 0\n",
      "emotion: -0.4013696908950805 volumn: 0\n",
      "emotion: -0.6438478827476501 volumn: 0\n",
      "emotion: 0.3420907855033874 volumn: 0\n",
      "emotion: -0.6056762635707855 volumn: 0\n",
      "emotion: 0.3684102892875671 volumn: 0\n",
      "emotion: -0.3575941324234009 volumn: 0\n",
      "emotion: -0.4100075662136078 volumn: 0\n",
      "emotion: 0.3790889680385589 volumn: 0\n",
      "emotion: 0.3714933097362518 volumn: 0\n",
      "emotion: 0.3805213272571563 volumn: 0\n",
      "emotion: -0.3583561778068542 volumn: 0\n",
      "emotion: -0.3407482802867889 volumn: 0\n",
      "emotion: 0.3387115001678467 volumn: 0\n",
      "emotion: 0.6265192329883575 volumn: 0\n",
      "emotion: -0.3654548227787018 volumn: 0\n",
      "emotion: 0.622205376625061 volumn: 0\n",
      "emotion: 0.629393070936203 volumn: 0\n",
      "emotion: -0.3793530166149139 volumn: 0\n",
      "emotion: 0.3392192721366882 volumn: 0\n",
      "emotion: -0.607017993927002 volumn: 0\n",
      "emotion: 0.3495378494262695 volumn: 0\n",
      "emotion: 0.3733741641044616 volumn: 0\n",
      "emotion: 0.4167742133140564 volumn: 0\n",
      "emotion: 0.6503606140613556 volumn: 0\n",
      "emotion: 0.3775541484355926 volumn: 0\n",
      "emotion: -0.6195439994335175 volumn: 0\n",
      "emotion: 0.3533898890018463 volumn: 0\n",
      "emotion: -0.3529630899429321 volumn: 0\n",
      "emotion: -0.3986223638057709 volumn: 0\n",
      "emotion: -0.3818228840827942 volumn: 0\n",
      "emotion: -0.3583773374557495 volumn: 0\n",
      "emotion: 0.417982667684555 volumn: 0\n",
      "emotion: -0.3834116458892822 volumn: 0\n",
      "emotion: 0.3650081753730774 volumn: 0\n",
      "emotion: -0.3418329060077667 volumn: 0\n",
      "emotion: -0.3547702729701996 volumn: 0\n",
      "emotion: 0.4166893362998962 volumn: 0\n",
      "emotion: -0.4559376835823059 volumn: 0\n",
      "emotion: -0.6261644661426544 volumn: 0\n",
      "emotion: -0.4102799594402313 volumn: 0\n",
      "emotion: -0.3592055141925812 volumn: 0\n",
      "emotion: -0.3651033043861389 volumn: 0\n",
      "emotion: -0.3534533679485321 volumn: 0\n",
      "emotion: 0.3716530501842499 volumn: 0\n",
      "emotion: -0.373430073261261 volumn: 0\n",
      "emotion: -0.4101967513561249 volumn: 0\n",
      "emotion: 0.3666667342185974 volumn: 0\n",
      "emotion: -0.6503075659275055 volumn: 0\n",
      "emotion: -0.4281732738018036 volumn: 0\n",
      "emotion: -0.4348803162574768 volumn: 0\n",
      "emotion: -0.4239577651023865 volumn: 0\n",
      "emotion: 0.344602108001709 volumn: 0\n",
      "emotion: -0.3438241481781006 volumn: 0\n",
      "emotion: 0.642410159111023 volumn: 0\n",
      "emotion: 0.3719677329063415 volumn: 0\n",
      "emotion: -0.3781029880046844 volumn: 0\n",
      "emotion: -0.3725467920303345 volumn: 0\n",
      "emotion: -0.4070860147476196 volumn: 0\n",
      "emotion: -0.6478890478610992 volumn: 0\n",
      "emotion: -0.3424967229366302 volumn: 0\n",
      "emotion: -0.4040227234363556 volumn: 0\n",
      "emotion: -0.364809513092041 volumn: 0\n",
      "emotion: -0.3959238231182098 volumn: 0\n",
      "emotion: -0.6382022202014923 volumn: 0\n",
      "emotion: -0.4103369116783142 volumn: 0\n",
      "emotion: -0.357740044593811 volumn: 0\n"
     ]
    },
    {
     "name": "stderr",
     "output_type": "stream",
     "text": [
      "删除过期节点: 100%|████████████████████████████████████████████████████████████████████████████████████████████████████████████████████████████████████████████| 15/15 [00:00<00:00, 84676.39节点/s]"
     ]
    },
    {
     "name": "stdout",
     "output_type": "stream",
     "text": [
      "已删除节点及其所有边：1446629026093731840  (时间差超过 30 天)\n",
      "已删除节点及其所有边：1446655689934450688  (时间差超过 30 天)\n",
      "已删除节点及其所有边：1446674813569937408  (时间差超过 30 天)\n",
      "已删除节点及其所有边：1446727148727767040  (时间差超过 30 天)\n",
      "已删除节点及其所有边：1446694942697562112  (时间差超过 30 天)\n",
      "已删除节点及其所有边：1446727150946508800  (时间差超过 30 天)\n",
      "已删除节点及其所有边：1446727152934666240  (时间差超过 30 天)\n",
      "已删除节点及其所有边：1446769920239354112  (时间差超过 30 天)\n",
      "已删除节点及其所有边：1446776212970426368  (时间差超过 30 天)\n",
      "已删除节点及其所有边：1446806340060413952  (时间差超过 30 天)\n",
      "已删除节点及其所有边：1446883968511397888  (时间差超过 30 天)\n",
      "已删除节点及其所有边：1446885229751308288  (时间差超过 30 天)\n",
      "已删除节点及其所有边：1446886736248836096  (时间差超过 30 天)\n",
      "已删除节点及其所有边：1446905407469883392  (时间差超过 30 天)\n",
      "已删除节点及其所有边：1446891237890478080  (时间差超过 30 天)\n"
     ]
    },
    {
     "name": "stderr",
     "output_type": "stream",
     "text": [
      "\n"
     ]
    },
    {
     "name": "stdout",
     "output_type": "stream",
     "text": [
      "已批量写入 0 条数据到 index.csv\n",
      "emotion: 0.6152694523334503 volumn: 0\n",
      "emotion: 0.3780510127544403 volumn: 0\n",
      "emotion: 0.6336374580860138 volumn: 0\n",
      "emotion: 0.3823794424533844 volumn: 0\n",
      "emotion: -0.3781029880046844 volumn: 0\n",
      "emotion: 0.6445609927177429 volumn: 0\n",
      "emotion: 0.6349027752876282 volumn: 0\n",
      "emotion: -0.3754328191280365 volumn: 0\n",
      "emotion: -0.3764185011386871 volumn: 0\n",
      "emotion: -0.4121466875076294 volumn: 0\n",
      "emotion: 0.3968313932418823 volumn: 0\n",
      "emotion: 0.3697268068790436 volumn: 0\n",
      "emotion: 0.6539493203163147 volumn: 0\n",
      "emotion: 0.395244300365448 volumn: 0\n",
      "emotion: 0.4436562955379486 volumn: 0\n",
      "emotion: -0.4005539715290069 volumn: 0\n",
      "emotion: -0.4029764533042907 volumn: 0\n",
      "emotion: -0.3807123005390167 volumn: 0\n",
      "emotion: -0.3773897886276245 volumn: 0\n",
      "emotion: 0.3656812906265259 volumn: 0\n",
      "emotion: -0.3529156744480133 volumn: 0\n",
      "emotion: -0.3490801751613617 volumn: 0\n",
      "emotion: 0.3718039393424988 volumn: 0\n",
      "emotion: 0.3650109767913818 volumn: 0\n",
      "emotion: -0.6202670335769653 volumn: 0\n",
      "emotion: 0.6341486871242523 volumn: 0\n",
      "emotion: -0.3881215155124664 volumn: 0\n",
      "emotion: -0.6288907825946808 volumn: 0\n",
      "emotion: 0.4381550848484039 volumn: 0\n",
      "emotion: -0.3831046521663666 volumn: 0\n",
      "emotion: 0.3802706897258758 volumn: 0\n",
      "emotion: -0.3888463973999023 volumn: 0\n",
      "emotion: -0.3711992800235748 volumn: 0\n",
      "emotion: -0.4281999468803406 volumn: 0\n",
      "emotion: -0.3554890155792236 volumn: 0\n",
      "emotion: -0.3936992287635803 volumn: 0\n",
      "emotion: -0.363348513841629 volumn: 0\n",
      "emotion: -0.4105041623115539 volumn: 0\n",
      "emotion: -0.4503001868724823 volumn: 0\n",
      "emotion: -0.4527828991413116 volumn: 0\n",
      "emotion: 0.365983784198761 volumn: 0\n",
      "emotion: -0.3721792995929718 volumn: 0\n",
      "emotion: 0.6500653624534607 volumn: 0\n",
      "emotion: -0.423035204410553 volumn: 0\n",
      "emotion: -0.4367551803588867 volumn: 0\n",
      "emotion: -0.410098135471344 volumn: 0\n",
      "emotion: -0.4283748269081116 volumn: 0\n",
      "emotion: -0.3973344564437866 volumn: 0\n",
      "emotion: -0.4049634933471679 volumn: 0\n",
      "emotion: 0.3719261288642883 volumn: 0\n",
      "emotion: -0.3521293401718139 volumn: 0\n",
      "emotion: -0.3718646466732025 volumn: 0\n",
      "emotion: 0.3441474735736847 volumn: 0\n"
     ]
    },
    {
     "name": "stderr",
     "output_type": "stream",
     "text": [
      "删除过期节点: 100%|████████████████████████████████████████████████████████████████████████████████████████████████████████████████████████████████████████████| 11/11 [00:00<00:00, 71753.26节点/s]"
     ]
    },
    {
     "name": "stdout",
     "output_type": "stream",
     "text": [
      "已删除节点及其所有边：1447031142318751488  (时间差超过 30 天)\n",
      "已删除节点及其所有边：1447042984839729152  (时间差超过 30 天)\n",
      "已删除节点及其所有边：1447047379665014784  (时间差超过 30 天)\n",
      "已删除节点及其所有边：1447049531179343872  (时间差超过 30 天)\n",
      "已删除节点及其所有边：1447055552530501632  (时间差超过 30 天)\n",
      "已删除节点及其所有边：1447062909503299584  (时间差超过 30 天)\n",
      "已删除节点及其所有边：1447104376334700288  (时间差超过 30 天)\n",
      "已删除节点及其所有边：1447121776421519360  (时间差超过 30 天)\n",
      "已删除节点及其所有边：1447122871227138048  (时间差超过 30 天)\n",
      "已删除节点及其所有边：1447166785653026816  (时间差超过 30 天)\n",
      "已删除节点及其所有边：1447329313301295104  (时间差超过 30 天)\n"
     ]
    },
    {
     "name": "stderr",
     "output_type": "stream",
     "text": [
      "\n"
     ]
    },
    {
     "name": "stdout",
     "output_type": "stream",
     "text": [
      "emotion: -0.3634841442108154 volumn: 0\n",
      "emotion: -0.6175654828548431 volumn: 0\n",
      "emotion: -0.6388256549835205 volumn: 0\n",
      "emotion: -0.3535838723182678 volumn: 0\n",
      "emotion: 0.3666951954364776 volumn: 0\n",
      "emotion: 0.6318570673465729 volumn: 0\n",
      "emotion: 0.3703106343746185 volumn: 0\n",
      "emotion: 0.3649510443210602 volumn: 0\n",
      "emotion: -0.6548839807510376 volumn: 0\n",
      "emotion: 0.3539988994598388 volumn: 0\n",
      "emotion: 0.4086307883262634 volumn: 0\n",
      "emotion: -0.6049818694591522 volumn: 0\n",
      "emotion: -0.4175843000411987 volumn: 0\n",
      "emotion: -0.376982718706131 volumn: 0\n",
      "emotion: 0.416035383939743 volumn: 0\n",
      "emotion: 0.3722959756851196 volumn: 0\n",
      "emotion: -0.4068081080913543 volumn: 0\n",
      "emotion: 0.6321331858634949 volumn: 0\n",
      "emotion: 0.367956131696701 volumn: 0\n",
      "emotion: 0.6595043838024139 volumn: 0\n",
      "emotion: -0.6561873555183411 volumn: 0\n",
      "emotion: -0.3857522904872894 volumn: 0\n",
      "emotion: 0.4037163555622101 volumn: 0\n",
      "emotion: -0.3953183889389038 volumn: 0\n",
      "emotion: 0.6460661292076111 volumn: 0\n",
      "emotion: 0.6634267568588257 volumn: 0\n",
      "emotion: -0.4293878078460693 volumn: 0\n",
      "emotion: -0.3593097627162933 volumn: 0\n",
      "emotion: 0.3647337555885315 volumn: 0\n",
      "emotion: 0.3495070338249206 volumn: 0\n",
      "emotion: 0.3467177152633667 volumn: 0\n",
      "emotion: 0.3388188779354095 volumn: 0\n",
      "emotion: -0.3642894029617309 volumn: 0\n",
      "emotion: 0.3556114733219147 volumn: 0\n",
      "emotion: -0.3633131086826324 volumn: 0\n",
      "emotion: -0.3936140537261963 volumn: 0\n",
      "emotion: -0.6453208923339844 volumn: 0\n",
      "emotion: 0.3995984494686126 volumn: 0\n",
      "emotion: -0.398355096578598 volumn: 0\n",
      "emotion: 0.3515537679195404 volumn: 0\n",
      "emotion: 0.4125562906265259 volumn: 0\n",
      "emotion: -0.3492638170719147 volumn: 0\n",
      "emotion: 0.3699281811714172 volumn: 0\n",
      "emotion: 0.6534057855606079 volumn: 0\n",
      "emotion: -0.6412861049175262 volumn: 0\n",
      "emotion: -0.3693315982818603 volumn: 0\n",
      "emotion: -0.4007571637630462 volumn: 0\n",
      "emotion: -0.406654417514801 volumn: 0\n",
      "emotion: -0.6500318944454193 volumn: 0\n",
      "emotion: -0.3824004232883453 volumn: 0\n",
      "emotion: -0.3905518352985382 volumn: 0\n",
      "emotion: -0.6264360845088959 volumn: 0\n",
      "emotion: 0.3482445776462555 volumn: 0\n",
      "emotion: 0.346381813287735 volumn: 0\n",
      "emotion: -0.3651248812675476 volumn: 0\n",
      "emotion: 0.354890376329422 volumn: 0\n",
      "emotion: 0.6458718776702881 volumn: 0\n",
      "emotion: -0.398115336894989 volumn: 0\n",
      "emotion: -0.3532531559467315 volumn: 0\n",
      "emotion: -0.3960419595241546 volumn: 0\n",
      "emotion: -0.4271121323108673 volumn: 0\n",
      "emotion: -0.6052946150302887 volumn: 0\n",
      "emotion: -0.4417349696159363 volumn: 0\n",
      "emotion: -0.6052946150302887 volumn: 0\n",
      "emotion: -0.403289645910263 volumn: 0\n"
     ]
    },
    {
     "name": "stderr",
     "output_type": "stream",
     "text": [
      "删除过期节点: 100%|████████████████████████████████████████████████████████████████████████████████████████████████████████████████████████████████████████████| 19/19 [00:00<00:00, 91076.32节点/s]"
     ]
    },
    {
     "name": "stdout",
     "output_type": "stream",
     "text": [
      "已删除节点及其所有边：1447368043324063488  (时间差超过 30 天)\n",
      "已删除节点及其所有边：1447386111387521024  (时间差超过 30 天)\n",
      "已删除节点及其所有边：1447386228752535552  (时间差超过 30 天)\n",
      "已删除节点及其所有边：1447399549971144704  (时间差超过 30 天)\n",
      "已删除节点及其所有边：1447388782819426304  (时间差超过 30 天)\n",
      "已删除节点及其所有边：1447399895015563264  (时间差超过 30 天)\n",
      "已删除节点及其所有边：1447454933486346240  (时间差超过 30 天)\n",
      "已删除节点及其所有边：1447455220317839360  (时间差超过 30 天)\n",
      "已删除节点及其所有边：1447455223992049664  (时间差超过 30 天)\n",
      "已删除节点及其所有边：1447462483707445248  (时间差超过 30 天)\n",
      "已删除节点及其所有边：1447478612018581504  (时间差超过 30 天)\n",
      "已删除节点及其所有边：1447564151782526976  (时间差超过 30 天)\n",
      "已删除节点及其所有边：1447520231992094720  (时间差超过 30 天)\n",
      "已删除节点及其所有边：1447567424254054400  (时间差超过 30 天)\n",
      "已删除节点及其所有边：1447512312835940352  (时间差超过 30 天)\n",
      "已删除节点及其所有边：1447702502535667712  (时间差超过 30 天)\n",
      "已删除节点及其所有边：1447522379111018496  (时间差超过 30 天)\n",
      "已删除节点及其所有边：1447511432363347968  (时间差超过 30 天)\n",
      "已删除节点及其所有边：1447513835099807488  (时间差超过 30 天)\n"
     ]
    },
    {
     "name": "stderr",
     "output_type": "stream",
     "text": [
      "\n"
     ]
    },
    {
     "name": "stdout",
     "output_type": "stream",
     "text": [
      "emotion: -0.3589593470096588 volumn: 0\n",
      "emotion: 0.3575900495052337 volumn: 0\n",
      "emotion: -0.6493108570575714 volumn: 0\n",
      "emotion: -0.4031245112419128 volumn: 0\n",
      "emotion: 0.6330949366092682 volumn: 0\n",
      "emotion: 0.3794417977333069 volumn: 0\n",
      "emotion: 0.5921341776847839 volumn: 0\n",
      "emotion: 0.3879247009754181 volumn: 0\n",
      "emotion: 0.3931927978992462 volumn: 0\n",
      "emotion: -0.6640894412994385 volumn: 0\n",
      "emotion: 0.3623315095901489 volumn: 0\n",
      "emotion: 0.6409549713134766 volumn: 0\n",
      "emotion: -0.3576064705848694 volumn: 0\n",
      "emotion: -0.3755612373352051 volumn: 0\n",
      "emotion: -0.3515955507755279 volumn: 0\n",
      "emotion: -0.6413533091545105 volumn: 0\n",
      "emotion: 0.648303359746933 volumn: 0\n",
      "emotion: -0.3976622819900512 volumn: 0\n",
      "emotion: -0.3850343525409698 volumn: 0\n",
      "emotion: 0.6589412093162537 volumn: 0\n",
      "emotion: -0.6437305510044098 volumn: 0\n",
      "emotion: -0.3459838330745697 volumn: 0\n",
      "emotion: 0.6455217003822327 volumn: 0\n",
      "emotion: 0.3481319546699524 volumn: 0\n",
      "emotion: 0.3805583417415619 volumn: 0\n",
      "emotion: -0.3398900330066681 volumn: 0\n",
      "emotion: 0.3817067146301269 volumn: 0\n",
      "emotion: 0.3594823479652405 volumn: 0\n",
      "emotion: -0.3583699762821197 volumn: 0\n",
      "emotion: 0.6346094012260437 volumn: 0\n",
      "emotion: -0.356955736875534 volumn: 0\n",
      "emotion: -0.4082739353179931 volumn: 0\n",
      "emotion: -0.3788903057575226 volumn: 0\n",
      "emotion: 0.6222184002399445 volumn: 0\n",
      "emotion: -0.5857798755168915 volumn: 0\n",
      "emotion: 0.3452066481113434 volumn: 0\n",
      "emotion: 0.5882199704647064 volumn: 0\n",
      "emotion: -0.416414350271225 volumn: 0\n"
     ]
    },
    {
     "name": "stderr",
     "output_type": "stream",
     "text": [
      "删除过期节点: 100%|████████████████████████████████████████████████████████████████████████████████████████████████████████████████████████████████████████████| 18/18 [00:00<00:00, 88301.14节点/s]"
     ]
    },
    {
     "name": "stdout",
     "output_type": "stream",
     "text": [
      "已删除节点及其所有边：1447740299145531392  (时间差超过 30 天)\n",
      "已删除节点及其所有边：1447741455603208192  (时间差超过 30 天)\n",
      "已删除节点及其所有边：1447746417326440448  (时间差超过 30 天)\n",
      "已删除节点及其所有边：1447742567160991488  (时间差超过 30 天)\n",
      "已删除节点及其所有边：1447743880997314560  (时间差超过 30 天)\n",
      "已删除节点及其所有边：1447748418894503936  (时间差超过 30 天)\n",
      "已删除节点及其所有边：1447749733762670592  (时间差超过 30 天)\n",
      "已删除节点及其所有边：1447811283445850112  (时间差超过 30 天)\n",
      "已删除节点及其所有边：1447811455953215488  (时间差超过 30 天)\n",
      "已删除节点及其所有边：1447813070575788032  (时间差超过 30 天)\n",
      "已删除节点及其所有边：1447814513558966272  (时间差超过 30 天)\n",
      "已删除节点及其所有边：1447836944184999936  (时间差超过 30 天)\n",
      "已删除节点及其所有边：1447854879171481600  (时间差超过 30 天)\n",
      "已删除节点及其所有边：1447901697657901056  (时间差超过 30 天)\n",
      "已删除节点及其所有边：1447828421120335872  (时间差超过 30 天)\n",
      "已删除节点及其所有边：1447874760545902592  (时间差超过 30 天)\n",
      "已删除节点及其所有边：1447825394032201728  (时间差超过 30 天)\n",
      "已删除节点及其所有边：1447892223043854336  (时间差超过 30 天)\n"
     ]
    },
    {
     "name": "stderr",
     "output_type": "stream",
     "text": [
      "\n"
     ]
    },
    {
     "name": "stdout",
     "output_type": "stream",
     "text": [
      "emotion: -0.4916067719459533 volumn: 0\n",
      "emotion: -0.646053820848465 volumn: 0\n",
      "emotion: -0.3438427150249481 volumn: 0\n",
      "emotion: -0.391658216714859 volumn: 0\n",
      "emotion: -0.3583438694477081 volumn: 0\n",
      "emotion: -0.368359237909317 volumn: 0\n",
      "emotion: -0.3998423516750335 volumn: 0\n",
      "emotion: 0.4172576069831848 volumn: 0\n",
      "emotion: -0.3888426721096039 volumn: 0\n",
      "emotion: -0.6473073363304138 volumn: 0\n",
      "emotion: -0.3666466772556305 volumn: 0\n",
      "emotion: 0.6304108500480652 volumn: 0\n",
      "emotion: 0.3676427006721496 volumn: 0\n",
      "emotion: -0.6517556309700012 volumn: 0\n",
      "emotion: -0.3638988435268402 volumn: 0\n",
      "emotion: -0.4200270473957062 volumn: 0\n",
      "emotion: -0.6322921216487885 volumn: 0\n",
      "emotion: -0.3934676349163055 volumn: 0\n",
      "emotion: -0.4397376179695129 volumn: 0\n",
      "emotion: -0.4064581394195556 volumn: 0\n",
      "emotion: -0.4144599437713623 volumn: 0\n",
      "emotion: -0.3691762089729309 volumn: 0\n"
     ]
    },
    {
     "name": "stderr",
     "output_type": "stream",
     "text": [
      "删除过期节点: 100%|████████████████████████████████████████████████████████████████████████████████████████████████████████████████████████████████████████████| 17/17 [00:00<00:00, 84282.70节点/s]"
     ]
    },
    {
     "name": "stdout",
     "output_type": "stream",
     "text": [
      "已删除节点及其所有边：1448099896385490944  (时间差超过 30 天)\n",
      "已删除节点及其所有边：1448115956069318912  (时间差超过 30 天)\n",
      "已删除节点及其所有边：1448120372168101888  (时间差超过 30 天)\n",
      "已删除节点及其所有边：1448122975257960448  (时间差超过 30 天)\n",
      "已删除节点及其所有边：1448122629697773568  (时间差超过 30 天)\n",
      "已删除节点及其所有边：1448141755241615360  (时间差超过 30 天)\n",
      "已删除节点及其所有边：1448155672651124736  (时间差超过 30 天)\n",
      "已删除节点及其所有边：1448170695855419392  (时间差超过 30 天)\n",
      "已删除节点及其所有边：1448171464654528512  (时间差超过 30 天)\n",
      "已删除节点及其所有边：1448180754651828224  (时间差超过 30 天)\n",
      "已删除节点及其所有边：1448196588254420992  (时间差超过 30 天)\n",
      "已删除节点及其所有边：1448293152847065088  (时间差超过 30 天)\n",
      "已删除节点及其所有边：1448434070698872832  (时间差超过 30 天)\n",
      "已删除节点及其所有边：1448215195034263552  (时间差超过 30 天)\n",
      "已删除节点及其所有边：1448216872835432448  (时间差超过 30 天)\n",
      "已删除节点及其所有边：1448431739139805184  (时间差超过 30 天)\n",
      "已删除节点及其所有边：1448313533565788160  (时间差超过 30 天)\n"
     ]
    },
    {
     "name": "stderr",
     "output_type": "stream",
     "text": [
      "\n"
     ]
    },
    {
     "name": "stdout",
     "output_type": "stream",
     "text": [
      "emotion: 0.6421632170677185 volumn: 0\n",
      "emotion: -0.3954215943813324 volumn: 0\n",
      "emotion: 0.654970794916153 volumn: 0\n",
      "emotion: 0.3511067032814026 volumn: 0\n",
      "emotion: -0.354403018951416 volumn: 0\n",
      "emotion: -0.4628103077411651 volumn: 0\n",
      "emotion: -0.4094491302967071 volumn: 0\n",
      "emotion: -0.389596551656723 volumn: 0\n",
      "emotion: -0.3737903833389282 volumn: 0\n",
      "emotion: -0.3720161914825439 volumn: 0\n",
      "emotion: -0.6566584706306458 volumn: 0\n",
      "emotion: -0.4460704326629638 volumn: 0\n",
      "emotion: -0.6613599956035614 volumn: 0\n",
      "emotion: -0.3500742614269256 volumn: 0\n",
      "emotion: -0.4170483350753784 volumn: 0\n",
      "emotion: -0.3657980561256408 volumn: 0\n",
      "emotion: 0.3766747415065765 volumn: 0\n",
      "emotion: 0.3849542140960693 volumn: 0\n",
      "emotion: -0.6518563330173492 volumn: 0\n",
      "emotion: -0.3756070733070373 volumn: 0\n",
      "emotion: -0.3669703304767608 volumn: 0\n",
      "emotion: 0.3499148488044739 volumn: 0\n",
      "emotion: -0.3803509771823883 volumn: 0\n",
      "emotion: -0.3379919528961181 volumn: 0\n",
      "emotion: 0.4156112670898437 volumn: 0\n",
      "emotion: 0.6416437923908234 volumn: 0\n",
      "emotion: 0.4158068001270294 volumn: 0\n",
      "emotion: -0.4372438788414001 volumn: 0\n",
      "emotion: 0.3805583417415619 volumn: 0\n",
      "emotion: -0.5741351246833801 volumn: 0\n",
      "emotion: 0.3463937044143677 volumn: 0\n",
      "emotion: -0.6546280086040497 volumn: 0\n",
      "emotion: 0.3438716232776642 volumn: 0\n",
      "emotion: 0.6393976807594299 volumn: 0\n",
      "emotion: -0.344046413898468 volumn: 0\n",
      "emotion: 0.3484489619731903 volumn: 0\n",
      "emotion: 0.6253441870212555 volumn: 0\n",
      "emotion: 0.6375987231731415 volumn: 0\n",
      "emotion: -0.4728738367557525 volumn: 0\n",
      "emotion: 0.4024301469326019 volumn: 0\n",
      "emotion: 0.3913920223712921 volumn: 0\n",
      "emotion: -0.3595984280109405 volumn: 0\n",
      "emotion: 0.608254611492157 volumn: 0\n",
      "emotion: -0.410992830991745 volumn: 0\n",
      "emotion: -0.3374596536159515 volumn: 0\n",
      "emotion: 0.4252610802650451 volumn: 0\n",
      "emotion: -0.3954818844795227 volumn: 0\n",
      "emotion: -0.4412466585636139 volumn: 0\n",
      "emotion: -0.4187921583652496 volumn: 0\n",
      "emotion: -0.4386055767536163 volumn: 0\n",
      "emotion: 0.5687457621097565 volumn: 0\n",
      "emotion: 0.4232034683227539 volumn: 0\n",
      "emotion: -0.4615542888641357 volumn: 0\n",
      "emotion: 0.3422073125839233 volumn: 0\n",
      "emotion: 0.6184881329536438 volumn: 0\n",
      "emotion: -0.3718926012516022 volumn: 0\n",
      "emotion: -0.3628322780132293 volumn: 0\n",
      "emotion: -0.4295225143432617 volumn: 0\n",
      "emotion: -0.3970132768154144 volumn: 0\n",
      "emotion: -0.4332752227783203 volumn: 0\n",
      "emotion: -0.3809476494789123 volumn: 0\n",
      "emotion: -0.396890252828598 volumn: 0\n",
      "emotion: -0.368168294429779 volumn: 0\n",
      "emotion: -0.3943530917167663 volumn: 0\n"
     ]
    },
    {
     "name": "stderr",
     "output_type": "stream",
     "text": [
      "删除过期节点: 100%|████████████████████████████████████████████████████████████████████████████████████████████████████████████████████████████████████████████| 21/21 [00:00<00:00, 92521.41节点/s]"
     ]
    },
    {
     "name": "stdout",
     "output_type": "stream",
     "text": [
      "已删除节点及其所有边：1448477109542862848  (时间差超过 30 天)\n",
      "已删除节点及其所有边：1448483748492849152  (时间差超过 30 天)\n",
      "已删除节点及其所有边：1448497408300617728  (时间差超过 30 天)\n",
      "已删除节点及其所有边：1448506150178238464  (时间差超过 30 天)\n",
      "已删除节点及其所有边：1448497412008337408  (时间差超过 30 天)\n",
      "已删除节点及其所有边：1448511878871846912  (时间差超过 30 天)\n",
      "已删除节点及其所有边：1448532306612965376  (时间差超过 30 天)\n",
      "已删除节点及其所有边：1448534369547825152  (时间差超过 30 天)\n",
      "已删除节点及其所有边：1448547020818599936  (时间差超过 30 天)\n",
      "已删除节点及其所有边：1448554695488851968  (时间差超过 30 天)\n",
      "已删除节点及其所有边：1448558217689276416  (时间差超过 30 天)\n",
      "已删除节点及其所有边：1448594238552281088  (时间差超过 30 天)\n",
      "已删除节点及其所有边：1448608351680598016  (时间差超过 30 天)\n",
      "已删除节点及其所有边：1448594958454296576  (时间差超过 30 天)\n",
      "已删除节点及其所有边：1448580560838795264  (时间差超过 30 天)\n",
      "已删除节点及其所有边：1448621748811800576  (时间差超过 30 天)\n",
      "已删除节点及其所有边：1448632723057356800  (时间差超过 30 天)\n",
      "已删除节点及其所有边：1448577987671048192  (时间差超过 30 天)\n",
      "已删除节点及其所有边：1448657240769007616  (时间差超过 30 天)\n",
      "已删除节点及其所有边：1448564981025452032  (时间差超过 30 天)\n",
      "已删除节点及其所有边：1448585646986219520  (时间差超过 30 天)\n"
     ]
    },
    {
     "name": "stderr",
     "output_type": "stream",
     "text": [
      "\n"
     ]
    },
    {
     "name": "stdout",
     "output_type": "stream",
     "text": [
      "emotion: -0.3880498707294464 volumn: 0\n",
      "emotion: 0.6481118500232697 volumn: 0\n",
      "emotion: -0.3449453711509704 volumn: 0\n",
      "emotion: -0.6160078644752502 volumn: 0\n",
      "emotion: -0.4725944399833679 volumn: 0\n",
      "emotion: 0.4073852002620697 volumn: 0\n",
      "emotion: -0.4089325964450836 volumn: 0\n",
      "emotion: 0.3585277497768402 volumn: 0\n",
      "emotion: 0.3521911799907684 volumn: 0\n",
      "emotion: -0.6168465614318848 volumn: 0\n",
      "emotion: 0.3527189195156097 volumn: 0\n",
      "emotion: 0.3696179389953613 volumn: 0\n",
      "emotion: 0.4179705083370209 volumn: 0\n",
      "emotion: -0.3882395327091217 volumn: 0\n",
      "emotion: -0.3554137349128723 volumn: 0\n",
      "emotion: -0.3545777201652527 volumn: 0\n",
      "emotion: -0.400711715221405 volumn: 0\n",
      "emotion: 0.3878461420536041 volumn: 0\n",
      "emotion: -0.3449453711509704 volumn: 0\n",
      "emotion: -0.3511001169681549 volumn: 0\n",
      "emotion: -0.348585307598114 volumn: 0\n",
      "emotion: 0.3827884495258331 volumn: 0\n",
      "emotion: 0.3877932429313659 volumn: 0\n",
      "emotion: -0.394146978855133 volumn: 0\n",
      "emotion: -0.4041953086853027 volumn: 0\n",
      "emotion: -0.3850971162319183 volumn: 0\n",
      "emotion: -0.400711715221405 volumn: 0\n",
      "emotion: 0.3611394762992859 volumn: 0\n",
      "emotion: 0.623299777507782 volumn: 0\n",
      "emotion: 0.6350570619106293 volumn: 0\n",
      "emotion: 0.3588230609893799 volumn: 0\n",
      "emotion: -0.3789017796516418 volumn: 0\n",
      "emotion: 0.352561742067337 volumn: 0\n",
      "emotion: -0.4902606010437011 volumn: 0\n",
      "emotion: -0.4252107441425323 volumn: 0\n",
      "emotion: -0.6345918476581573 volumn: 0\n",
      "emotion: -0.3494506478309631 volumn: 0\n",
      "emotion: -0.3640933036804199 volumn: 0\n",
      "emotion: 0.4013079702854156 volumn: 0\n",
      "emotion: -0.3611650764942169 volumn: 0\n",
      "emotion: -0.3494506478309631 volumn: 0\n",
      "emotion: -0.3752413690090179 volumn: 0\n",
      "emotion: -0.3907697200775146 volumn: 0\n",
      "emotion: 0.3611394762992859 volumn: 0\n",
      "emotion: -0.3682964146137237 volumn: 0\n",
      "emotion: 0.3661151528358459 volumn: 0\n",
      "emotion: -0.4713183045387268 volumn: 0\n",
      "emotion: 0.6141525506973267 volumn: 0\n",
      "emotion: -0.356955736875534 volumn: 0\n",
      "emotion: -0.3790973126888275 volumn: 0\n",
      "emotion: 0.4013079702854156 volumn: 0\n",
      "emotion: -0.3985183238983154 volumn: 0\n",
      "emotion: -0.4217613041400909 volumn: 0\n",
      "emotion: -0.3745152354240417 volumn: 0\n",
      "emotion: 0.3565912246704101 volumn: 0\n",
      "emotion: -0.6218319535255432 volumn: 0\n",
      "emotion: -0.6498433351516724 volumn: 0\n",
      "emotion: -0.3491801023483276 volumn: 0\n",
      "emotion: -0.6444080770015717 volumn: 0\n",
      "emotion: -0.4033260643482208 volumn: 0\n",
      "emotion: 0.6325207352638245 volumn: 0\n",
      "emotion: -0.3472742438316345 volumn: 0\n",
      "emotion: 0.3704597949981689 volumn: 0\n",
      "emotion: -0.3485829830169678 volumn: 0\n",
      "emotion: 0.6183581948280334 volumn: 0\n",
      "emotion: -0.3616131544113159 volumn: 0\n",
      "emotion: -0.6173951625823975 volumn: 0\n",
      "emotion: 0.3782210648059845 volumn: 0\n",
      "emotion: 0.6567849516868591 volumn: 0\n",
      "emotion: -0.3378152549266815 volumn: 0\n",
      "emotion: -0.3974331021308899 volumn: 0\n"
     ]
    },
    {
     "name": "stderr",
     "output_type": "stream",
     "text": [
      "删除过期节点: 100%|████████████████████████████████████████████████████████████████████████████████████████████████████████████████████████████████████████████| 15/15 [00:00<00:00, 68311.14节点/s]"
     ]
    },
    {
     "name": "stdout",
     "output_type": "stream",
     "text": [
      "已删除节点及其所有边：1448800811841118208  (时间差超过 30 天)\n",
      "已删除节点及其所有边：1448825217933983488  (时间差超过 30 天)\n",
      "已删除节点及其所有边：1448828755959369728  (时间差超过 30 天)\n",
      "已删除节点及其所有边：1448828785831432192  (时间差超过 30 天)\n",
      "已删除节点及其所有边：1448829935108431872  (时间差超过 30 天)\n",
      "已删除节点及其所有边：1448833981122711552  (时间差超过 30 天)\n",
      "已删除节点及其所有边：1448835773617164288  (时间差超过 30 天)\n",
      "已删除节点及其所有边：1448835775533969408  (时间差超过 30 天)\n",
      "已删除节点及其所有边：1448894626165784576  (时间差超过 30 天)\n",
      "已删除节点及其所有边：1448897305558409216  (时间差超过 30 天)\n",
      "已删除节点及其所有边：1448907911204413440  (时间差超过 30 天)\n",
      "已删除节点及其所有边：1448959406864015360  (时间差超过 30 天)\n",
      "已删除节点及其所有边：1448913233025421312  (时间差超过 30 天)\n",
      "已删除节点及其所有边：1449033065360080896  (时间差超过 30 天)\n",
      "已删除节点及其所有边：1448913055438491648  (时间差超过 30 天)\n"
     ]
    },
    {
     "name": "stderr",
     "output_type": "stream",
     "text": [
      "\n"
     ]
    },
    {
     "name": "stdout",
     "output_type": "stream",
     "text": [
      "emotion: 0.6421471238136292 volumn: 0\n",
      "emotion: 0.3663592040538788 volumn: 0\n",
      "emotion: -0.3812817633152008 volumn: 0\n",
      "emotion: -0.6460548937320709 volumn: 0\n",
      "emotion: -0.4044563770294189 volumn: 0\n",
      "emotion: -0.379402756690979 volumn: 0\n",
      "emotion: -0.3855405747890472 volumn: 0\n",
      "emotion: -0.3536740839481354 volumn: 0\n",
      "emotion: -0.625143826007843 volumn: 0\n",
      "emotion: -0.3981237709522247 volumn: 0\n",
      "emotion: -0.3843128383159637 volumn: 0\n",
      "emotion: 0.3610739111900329 volumn: 0\n",
      "emotion: -0.4365778565406799 volumn: 0\n",
      "emotion: -0.3552168011665344 volumn: 0\n",
      "emotion: -0.4089175760746002 volumn: 0\n",
      "emotion: -0.4339090287685394 volumn: 0\n",
      "emotion: -0.397412359714508 volumn: 0\n",
      "emotion: -0.3654541075229645 volumn: 0\n",
      "emotion: 0.3921417891979217 volumn: 0\n",
      "emotion: -0.4398150444030761 volumn: 0\n",
      "emotion: -0.3723507225513458 volumn: 0\n",
      "emotion: -0.4425557553768158 volumn: 0\n",
      "emotion: -0.6253440678119659 volumn: 0\n",
      "emotion: 0.3984992206096649 volumn: 0\n",
      "emotion: -0.4402948319911957 volumn: 0\n",
      "emotion: -0.382797509431839 volumn: 0\n",
      "emotion: -0.4338848292827606 volumn: 0\n",
      "emotion: -0.5330343842506409 volumn: 0\n",
      "emotion: -0.6414928734302521 volumn: 0\n",
      "emotion: 0.3834708034992218 volumn: 0\n",
      "emotion: 0.354918360710144 volumn: 0\n",
      "emotion: -0.5741441249847412 volumn: 0\n",
      "emotion: -0.367328941822052 volumn: 0\n",
      "emotion: 0.4012190699577331 volumn: 0\n",
      "emotion: 0.4182176887989044 volumn: 0\n",
      "emotion: 0.4169074296951294 volumn: 0\n",
      "emotion: 0.4021369516849518 volumn: 0\n",
      "emotion: -0.6571314334869385 volumn: 0\n",
      "emotion: 0.4051609635353088 volumn: 0\n",
      "emotion: 0.407590389251709 volumn: 0\n",
      "emotion: -0.4191595017910003 volumn: 0\n",
      "emotion: 0.3620230257511139 volumn: 0\n",
      "emotion: 0.4002791941165924 volumn: 0\n",
      "emotion: 0.3902767300605774 volumn: 0\n",
      "emotion: -0.3921747207641601 volumn: 0\n",
      "emotion: 0.3746007978916168 volumn: 0\n",
      "emotion: -0.4048784077167511 volumn: 0\n",
      "emotion: -0.4091103076934814 volumn: 0\n",
      "emotion: 0.3818687200546264 volumn: 0\n",
      "emotion: -0.3774884939193725 volumn: 0\n",
      "emotion: 0.3388173580169678 volumn: 0\n",
      "emotion: 0.3545177578926086 volumn: 0\n",
      "emotion: -0.6413636207580566 volumn: 0\n",
      "emotion: -0.442702054977417 volumn: 0\n",
      "emotion: 0.3903690874576568 volumn: 0\n",
      "emotion: 0.342162162065506 volumn: 0\n",
      "emotion: -0.6119076013565063 volumn: 0\n",
      "emotion: 0.3637735843658447 volumn: 0\n",
      "emotion: -0.3459060788154602 volumn: 0\n",
      "emotion: -0.4552864730358124 volumn: 0\n",
      "emotion: -0.377854436635971 volumn: 0\n",
      "emotion: -0.4163766503334045 volumn: 0\n",
      "emotion: -0.4015643298625946 volumn: 0\n",
      "emotion: 0.3899456858634949 volumn: 0\n",
      "emotion: -0.350870817899704 volumn: 0\n",
      "emotion: -0.4010368883609772 volumn: 0\n",
      "emotion: -0.4045991003513336 volumn: 0\n",
      "emotion: 0.3470044136047363 volumn: 0\n",
      "emotion: 0.3767297267913818 volumn: 0\n",
      "emotion: -0.3669233620166778 volumn: 0\n",
      "emotion: -0.6415391266345978 volumn: 0\n",
      "emotion: 0.6199995875358582 volumn: 0\n",
      "emotion: 0.3553752601146698 volumn: 0\n",
      "emotion: -0.3989598751068115 volumn: 0\n",
      "emotion: -0.3459060788154602 volumn: 0\n",
      "emotion: -0.6606320142745972 volumn: 0\n",
      "emotion: -0.3858731687068939 volumn: 0\n",
      "emotion: 0.3603203594684601 volumn: 0\n",
      "emotion: 0.6436644494533539 volumn: 0\n",
      "emotion: -0.6351177990436554 volumn: 0\n",
      "emotion: -0.3565023243427276 volumn: 0\n"
     ]
    },
    {
     "name": "stderr",
     "output_type": "stream",
     "text": [
      "删除过期节点: 100%|████████████████████████████████████████████████████████████████████████████████████████████████████████████████████████████████████████████| 13/13 [00:00<00:00, 79023.12节点/s]"
     ]
    },
    {
     "name": "stdout",
     "output_type": "stream",
     "text": [
      "已删除节点及其所有边：1449215559984238592  (时间差超过 30 天)\n",
      "已删除节点及其所有边：1449215562752479232  (时间差超过 30 天)\n",
      "已删除节点及其所有边：1449215708819124224  (时间差超过 30 天)\n",
      "已删除节点及其所有边：1449221038563151872  (时间差超过 30 天)\n",
      "已删除节点及其所有边：1449226708586938368  (时间差超过 30 天)\n",
      "已删除节点及其所有边：1449295437400199168  (时间差超过 30 天)\n",
      "已删除节点及其所有边：1449296110355300352  (时间差超过 30 天)\n",
      "已删除节点及其所有边：1449363607511134208  (时间差超过 30 天)\n",
      "已删除节点及其所有边：1449364132919185408  (时间差超过 30 天)\n",
      "已删除节点及其所有边：1449366957522702336  (时间差超过 30 天)\n",
      "已删除节点及其所有边：1449367378433806336  (时间差超过 30 天)\n",
      "已删除节点及其所有边：1449368388829130752  (时间差超过 30 天)\n",
      "已删除节点及其所有边：1449368210558574592  (时间差超过 30 天)\n"
     ]
    },
    {
     "name": "stderr",
     "output_type": "stream",
     "text": [
      "\n"
     ]
    },
    {
     "name": "stdout",
     "output_type": "stream",
     "text": [
      "emotion: -0.6031884551048279 volumn: 0\n",
      "emotion: -0.4239688217639923 volumn: 0\n",
      "emotion: 0.4145213365554809 volumn: 0\n",
      "emotion: 0.6475344002246857 volumn: 0\n",
      "emotion: -0.3637920022010803 volumn: 0\n",
      "emotion: 0.4196134805679321 volumn: 0\n",
      "emotion: -0.3917364478111267 volumn: 0\n",
      "emotion: -0.4051237106323242 volumn: 0\n",
      "emotion: -0.389043778181076 volumn: 0\n",
      "emotion: 0.4196134805679321 volumn: 0\n",
      "emotion: -0.6251806020736694 volumn: 0\n",
      "emotion: -0.3528361618518829 volumn: 0\n",
      "emotion: -0.3776808083057403 volumn: 0\n",
      "emotion: -0.6495417654514313 volumn: 0\n",
      "emotion: -0.3788499534130096 volumn: 0\n",
      "emotion: 0.3540081977844238 volumn: 0\n",
      "emotion: -0.4541484713554382 volumn: 0\n",
      "emotion: 0.3938377201557159 volumn: 0\n",
      "emotion: -0.3516652882099151 volumn: 0\n",
      "emotion: -0.6614716649055481 volumn: 0\n",
      "emotion: -0.373597651720047 volumn: 0\n",
      "emotion: -0.3592696785926819 volumn: 0\n",
      "emotion: -0.6063444316387177 volumn: 0\n",
      "emotion: 0.6491552889347076 volumn: 0\n",
      "emotion: -0.3709305226802826 volumn: 0\n",
      "emotion: 0.6039908528327942 volumn: 0\n",
      "emotion: -0.4082703292369842 volumn: 0\n",
      "emotion: 0.6562149226665497 volumn: 0\n",
      "emotion: -0.4579454362392425 volumn: 0\n",
      "emotion: -0.4270616173744201 volumn: 0\n",
      "emotion: -0.3837980628013611 volumn: 0\n",
      "emotion: 0.6580388844013214 volumn: 0\n",
      "emotion: 0.3816148042678833 volumn: 0\n",
      "emotion: -0.6411225497722626 volumn: 0\n",
      "emotion: -0.3801707625389099 volumn: 0\n",
      "emotion: -0.6501297354698181 volumn: 0\n",
      "emotion: -0.3865435123443603 volumn: 0\n",
      "emotion: -0.357031375169754 volumn: 0\n",
      "emotion: 0.3770932853221893 volumn: 0\n",
      "emotion: 0.3890028893947601 volumn: 0\n",
      "emotion: -0.3617964386940002 volumn: 0\n",
      "emotion: -0.4388154745101928 volumn: 0\n",
      "emotion: -0.3387648165225982 volumn: 0\n",
      "emotion: 0.3402347564697265 volumn: 0\n",
      "emotion: 0.3733743131160736 volumn: 0\n",
      "emotion: 0.6292563676834106 volumn: 0\n",
      "emotion: 0.3684473037719726 volumn: 0\n",
      "emotion: 0.3748841285705566 volumn: 0\n",
      "emotion: -0.403747022151947 volumn: 0\n",
      "emotion: 0.6551045775413513 volumn: 0\n",
      "emotion: -0.6492528319358826 volumn: 0\n",
      "emotion: -0.3989790976047516 volumn: 0\n",
      "emotion: -0.6553363502025604 volumn: 0\n",
      "emotion: 0.3824721872806549 volumn: 0\n",
      "emotion: 0.4065089523792267 volumn: 0\n",
      "emotion: -0.4588091671466827 volumn: 0\n",
      "emotion: -0.3398686051368713 volumn: 0\n",
      "emotion: -0.3433103561401367 volumn: 0\n",
      "emotion: 0.3847388923168182 volumn: 0\n",
      "emotion: -0.4445662796497345 volumn: 0\n",
      "emotion: -0.3421682119369507 volumn: 0\n",
      "emotion: -0.3662341833114624 volumn: 0\n",
      "emotion: 0.3422975242137909 volumn: 0\n",
      "emotion: -0.3706461787223816 volumn: 0\n",
      "emotion: 0.3568421304225921 volumn: 0\n",
      "emotion: -0.3617072105407715 volumn: 0\n",
      "emotion: -0.4202919900417328 volumn: 0\n",
      "emotion: -0.4179534316062927 volumn: 0\n",
      "emotion: -0.5870160758495331 volumn: 0\n",
      "emotion: -0.3789878487586975 volumn: 0\n",
      "emotion: 0.6225054264068604 volumn: 0\n",
      "emotion: -0.3921289443969726 volumn: 0\n",
      "emotion: -0.3564247786998749 volumn: 0\n",
      "emotion: -0.3920557498931885 volumn: 0\n",
      "emotion: -0.3966994881629944 volumn: 0\n",
      "emotion: 0.3417274951934814 volumn: 0\n",
      "emotion: 0.338304191827774 volumn: 0\n",
      "emotion: 0.3625344038009643 volumn: 0\n",
      "emotion: -0.3651814460754394 volumn: 0\n",
      "emotion: 0.3525263667106628 volumn: 0\n",
      "emotion: -0.3982497155666351 volumn: 0\n",
      "emotion: 0.3662662804126739 volumn: 0\n",
      "emotion: 0.364779382944107 volumn: 0\n",
      "emotion: -0.4248197376728058 volumn: 0\n",
      "emotion: -0.633577972650528 volumn: 0\n"
     ]
    },
    {
     "name": "stderr",
     "output_type": "stream",
     "text": [
      "删除过期节点: 100%|██████████████████████████████████████████████████████████████████████████████████████████████████████████████████████████████████████████████| 2/2 [00:00<00:00, 23763.76节点/s]"
     ]
    },
    {
     "name": "stdout",
     "output_type": "stream",
     "text": [
      "已删除节点及其所有边：1449696467048964096  (时间差超过 30 天)\n",
      "已删除节点及其所有边：1449785589813837824  (时间差超过 30 天)\n"
     ]
    },
    {
     "name": "stderr",
     "output_type": "stream",
     "text": [
      "\n"
     ]
    },
    {
     "name": "stdout",
     "output_type": "stream",
     "text": [
      "emotion: -0.3969878852367401 volumn: 0\n",
      "emotion: -0.3651814460754394 volumn: 0\n",
      "emotion: -0.3718272149562835 volumn: 0\n",
      "emotion: -0.6531580090522766 volumn: 0\n",
      "emotion: -0.3660393953323364 volumn: 0\n",
      "emotion: 0.3517696559429168 volumn: 0\n",
      "emotion: -0.4095553159713745 volumn: 0\n",
      "emotion: 0.3409614264965057 volumn: 0\n",
      "emotion: -0.3635308742523193 volumn: 0\n",
      "emotion: -0.387779951095581 volumn: 0\n",
      "emotion: -0.3937714695930481 volumn: 0\n",
      "emotion: 0.6626773178577423 volumn: 0\n",
      "emotion: -0.6327325701713562 volumn: 0\n",
      "emotion: 0.3835846483707428 volumn: 0\n",
      "emotion: -0.4349376559257507 volumn: 0\n",
      "emotion: -0.3596425652503967 volumn: 0\n",
      "emotion: 0.3739187121391296 volumn: 0\n",
      "emotion: -0.4380419850349426 volumn: 0\n",
      "emotion: -0.3858226835727691 volumn: 0\n",
      "emotion: -0.4032923281192779 volumn: 0\n",
      "emotion: 0.3457778394222259 volumn: 0\n",
      "emotion: -0.4958226978778839 volumn: 0\n",
      "emotion: -0.351864218711853 volumn: 0\n",
      "emotion: 0.4251647591590881 volumn: 0\n",
      "emotion: 0.3979459106922149 volumn: 0\n",
      "emotion: 0.3884088397026062 volumn: 0\n",
      "emotion: -0.3628489673137665 volumn: 0\n",
      "emotion: -0.4487439095973968 volumn: 0\n",
      "emotion: 0.3859745860099792 volumn: 0\n",
      "emotion: 0.6514380872249603 volumn: 0\n",
      "emotion: -0.4330001473426819 volumn: 0\n",
      "emotion: -0.6195037066936493 volumn: 0\n",
      "emotion: 0.6462158262729645 volumn: 0\n",
      "emotion: 0.3345715701580047 volumn: 0\n",
      "emotion: -0.3707450628280639 volumn: 0\n",
      "emotion: 0.3681272566318512 volumn: 0\n",
      "emotion: 0.5893056094646454 volumn: 0\n",
      "emotion: 0.6316236555576324 volumn: 0\n",
      "emotion: -0.3489256501197815 volumn: 0\n",
      "emotion: -0.6033405065536499 volumn: 0\n",
      "emotion: 0.641961008310318 volumn: 0\n",
      "emotion: -0.36228808760643 volumn: 0\n",
      "emotion: -0.3703562021255493 volumn: 0\n",
      "emotion: -0.4039317071437835 volumn: 0\n",
      "emotion: 0.3747940063476562 volumn: 0\n",
      "emotion: -0.4103637337684631 volumn: 0\n",
      "emotion: -0.3624002039432525 volumn: 0\n",
      "emotion: 0.3706380724906921 volumn: 0\n",
      "emotion: -0.4584092199802398 volumn: 0\n",
      "emotion: -0.3670847415924072 volumn: 0\n",
      "emotion: -0.3897455036640167 volumn: 0\n",
      "emotion: 0.3549837470054626 volumn: 0\n",
      "emotion: -0.3654018640518188 volumn: 0\n",
      "emotion: 0.3908957242965698 volumn: 0\n",
      "emotion: -0.4070318937301636 volumn: 0\n",
      "emotion: -0.3594727516174316 volumn: 0\n",
      "emotion: -0.6431919038295746 volumn: 0\n",
      "emotion: 0.5320475101470947 volumn: 0\n",
      "emotion: 0.3474553525447845 volumn: 0\n",
      "emotion: 0.3617120683193207 volumn: 0\n",
      "emotion: -0.4124185144901275 volumn: 0\n",
      "emotion: 0.3899053037166595 volumn: 0\n",
      "emotion: 0.3577869236469269 volumn: 0\n",
      "emotion: -0.3499766588211059 volumn: 0\n",
      "emotion: 0.3907429575920105 volumn: 0\n",
      "emotion: -0.3624002039432525 volumn: 0\n",
      "emotion: -0.6342307925224304 volumn: 0\n",
      "emotion: -0.4098243713378906 volumn: 0\n",
      "emotion: -0.3399636745452881 volumn: 0\n",
      "emotion: 0.611522376537323 volumn: 0\n",
      "emotion: -0.3459861874580383 volumn: 0\n",
      "emotion: 0.41287761926651 volumn: 0\n",
      "emotion: 0.3903522193431854 volumn: 0\n",
      "emotion: 0.6197712123394012 volumn: 0\n",
      "emotion: -0.4320257604122162 volumn: 0\n",
      "emotion: -0.3566022515296936 volumn: 0\n",
      "emotion: 0.3549837470054626 volumn: 0\n",
      "emotion: -0.3409086465835571 volumn: 0\n",
      "emotion: 0.3718818128108978 volumn: 0\n",
      "emotion: 0.39094278216362 volumn: 0\n",
      "emotion: -0.341865211725235 volumn: 0\n",
      "emotion: 0.337565541267395 volumn: 0\n",
      "emotion: -0.3801144063472748 volumn: 0\n",
      "emotion: 0.4301074743270874 volumn: 0\n",
      "emotion: 0.3590912818908691 volumn: 0\n",
      "emotion: -0.3835748136043548 volumn: 0\n",
      "emotion: -0.4488838315010071 volumn: 0\n",
      "emotion: 0.3584860861301422 volumn: 0\n",
      "emotion: -0.3821565210819244 volumn: 0\n",
      "emotion: -0.3930000364780426 volumn: 0\n",
      "emotion: -0.3827989399433136 volumn: 0\n",
      "emotion: -0.3911046683788299 volumn: 0\n",
      "emotion: 0.3450058698654175 volumn: 0\n"
     ]
    },
    {
     "name": "stderr",
     "output_type": "stream",
     "text": [
      "删除过期节点: 100%|████████████████████████████████████████████████████████████████████████████████████████████████████████████████████████████████████████████| 22/22 [00:00<00:00, 90112.00节点/s]"
     ]
    },
    {
     "name": "stdout",
     "output_type": "stream",
     "text": [
      "已删除节点及其所有边：1449902037794050048  (时间差超过 30 天)\n",
      "已删除节点及其所有边：1449902838516273152  (时间差超过 30 天)\n",
      "已删除节点及其所有边：1449906308598140928  (时间差超过 30 天)\n",
      "已删除节点及其所有边：1449920180042100736  (时间差超过 30 天)\n",
      "已删除节点及其所有边：1449911135902240768  (时间差超过 30 天)\n",
      "已删除节点及其所有边：1449927221821382912  (时间差超过 30 天)\n",
      "已删除节点及其所有边：1449927298505789440  (时间差超过 30 天)\n",
      "已删除节点及其所有边：1449927546015870976  (时间差超过 30 天)\n",
      "已删除节点及其所有边：1449927543658717184  (时间差超过 30 天)\n",
      "已删除节点及其所有边：1449927548159205376  (时间差超过 30 天)\n",
      "已删除节点及其所有边：1449951958387724288  (时间差超过 30 天)\n",
      "已删除节点及其所有边：1450081075766522112  (时间差超过 30 天)\n",
      "已删除节点及其所有边：1449989842264276992  (时间差超过 30 天)\n",
      "已删除节点及其所有边：1449988953143005184  (时间差超过 30 天)\n",
      "已删除节点及其所有边：1449975744772247552  (时间差超过 30 天)\n",
      "已删除节点及其所有边：1449988664222748672  (时间差超过 30 天)\n",
      "已删除节点及其所有边：1450033464699330560  (时间差超过 30 天)\n",
      "已删除节点及其所有边：1450073970137575424  (时间差超过 30 天)\n",
      "已删除节点及其所有边：1449993959279783936  (时间差超过 30 天)\n",
      "已删除节点及其所有边：1450047125765726208  (时间差超过 30 天)\n",
      "已删除节点及其所有边：1450046559090094080  (时间差超过 30 天)\n",
      "已删除节点及其所有边：1450046881485271040  (时间差超过 30 天)\n"
     ]
    },
    {
     "name": "stderr",
     "output_type": "stream",
     "text": [
      "\n"
     ]
    },
    {
     "name": "stdout",
     "output_type": "stream",
     "text": [
      "emotion: -0.4059746265411377 volumn: 0\n",
      "emotion: -0.3649286329746246 volumn: 0\n",
      "emotion: -0.4734845757484436 volumn: 0\n",
      "emotion: 0.3791347444057464 volumn: 0\n",
      "emotion: -0.3629180192947387 volumn: 0\n",
      "emotion: 0.6156712770462036 volumn: 0\n",
      "emotion: -0.6582376956939697 volumn: 0\n",
      "emotion: 0.3717147707939148 volumn: 0\n",
      "emotion: -0.3864012956619262 volumn: 0\n",
      "emotion: 0.3564676642417907 volumn: 0\n",
      "emotion: -0.3544411361217499 volumn: 0\n",
      "emotion: 0.3501939177513122 volumn: 0\n",
      "emotion: 0.4016973376274109 volumn: 0\n",
      "emotion: 0.6560936272144318 volumn: 0\n",
      "emotion: -0.3867760002613067 volumn: 0\n",
      "emotion: 0.6471951603889465 volumn: 0\n",
      "emotion: 0.3475786745548248 volumn: 0\n",
      "emotion: -0.6593694686889648 volumn: 0\n",
      "emotion: -0.3613531589508056 volumn: 0\n",
      "emotion: 0.3805533647537231 volumn: 0\n",
      "emotion: 0.3684585690498352 volumn: 0\n",
      "emotion: -0.3818556368350982 volumn: 0\n",
      "emotion: 0.3637020587921142 volumn: 0\n",
      "emotion: -0.3491716682910919 volumn: 0\n",
      "emotion: 0.627967119216919 volumn: 0\n",
      "emotion: 0.3689975142478943 volumn: 0\n",
      "emotion: -0.4623021781444549 volumn: 0\n",
      "emotion: -0.3982753753662109 volumn: 0\n",
      "emotion: 0.3606047332286834 volumn: 0\n",
      "emotion: -0.351246029138565 volumn: 0\n",
      "emotion: -0.3728120625019073 volumn: 0\n",
      "emotion: -0.4506745040416717 volumn: 0\n",
      "emotion: -0.3613531589508056 volumn: 0\n",
      "emotion: -0.3719845712184906 volumn: 0\n",
      "emotion: -0.6602019667625427 volumn: 0\n",
      "emotion: -0.3652355074882507 volumn: 0\n"
     ]
    },
    {
     "name": "stderr",
     "output_type": "stream",
     "text": [
      "删除过期节点: 100%|███████████████████████████████████████████████████████████████████████████████████████████████████████████████████████████████████████████| 29/29 [00:00<00:00, 102905.94节点/s]"
     ]
    },
    {
     "name": "stdout",
     "output_type": "stream",
     "text": [
      "已删除节点及其所有边：1450275785676410880  (时间差超过 30 天)\n",
      "已删除节点及其所有边：1450277677798154240  (时间差超过 30 天)\n",
      "已删除节点及其所有边：1450283258269339648  (时间差超过 30 天)\n",
      "已删除节点及其所有边：1450290783236419584  (时间差超过 30 天)\n",
      "已删除节点及其所有边：1450281997306314752  (时间差超过 30 天)\n",
      "已删除节点及其所有边：1450303617047556096  (时间差超过 30 天)\n",
      "已删除节点及其所有边：1450303621824847872  (时间差超过 30 天)\n",
      "已删除节点及其所有边：1450342535566483712  (时间差超过 30 天)\n",
      "已删除节点及其所有边：1450372769951019008  (时间差超过 30 天)\n",
      "已删除节点及其所有边：1450372772794753024  (时间差超过 30 天)\n",
      "已删除节点及其所有边：1450373460690038784  (时间差超过 30 天)\n",
      "已删除节点及其所有边：1450478825213661184  (时间差超过 30 天)\n",
      "已删除节点及其所有边：1450419483760279552  (时间差超过 30 天)\n",
      "已删除节点及其所有边：1450517975828549632  (时间差超过 30 天)\n",
      "已删除节点及其所有边：1450538656398069760  (时间差超过 30 天)\n",
      "已删除节点及其所有边：1450397842498105088  (时间差超过 30 天)\n",
      "已删除节点及其所有边：1450388025721163776  (时间差超过 30 天)\n",
      "已删除节点及其所有边：1450439142320574464  (时间差超过 30 天)\n",
      "已删除节点及其所有边：1450443591298387968  (时间差超过 30 天)\n",
      "已删除节点及其所有边：1450448391666733056  (时间差超过 30 天)\n",
      "已删除节点及其所有边：1450391183507660800  (时间差超过 30 天)\n",
      "已删除节点及其所有边：1450448165191098368  (时间差超过 30 天)\n",
      "已删除节点及其所有边：1450448417704972288  (时间差超过 30 天)\n",
      "已删除节点及其所有边：1450480436765995008  (时间差超过 30 天)\n",
      "已删除节点及其所有边：1450488629869096960  (时间差超过 30 天)\n",
      "已删除节点及其所有边：1450390864119820288  (时间差超过 30 天)\n",
      "已删除节点及其所有边：1450431824187072512  (时间差超过 30 天)\n",
      "已删除节点及其所有边：1450437955525484288  (时间差超过 30 天)\n",
      "已删除节点及其所有边：1450478981304799232  (时间差超过 30 天)\n"
     ]
    },
    {
     "name": "stderr",
     "output_type": "stream",
     "text": [
      "\n"
     ]
    },
    {
     "name": "stdout",
     "output_type": "stream",
     "text": [
      "已批量写入 0 条数据到 index.csv\n",
      "emotion: 0.6393103301525116 volumn: 0\n",
      "emotion: -0.4544586539268493 volumn: 0\n",
      "emotion: -0.3801241815090179 volumn: 0\n",
      "emotion: -0.4825775027275085 volumn: 0\n",
      "emotion: -0.3859812915325165 volumn: 0\n",
      "emotion: -0.6294329464435577 volumn: 0\n",
      "emotion: 0.3732132315635681 volumn: 0\n",
      "emotion: -0.3654639422893524 volumn: 0\n",
      "emotion: -0.4038804471492767 volumn: 0\n",
      "emotion: 0.3674477934837341 volumn: 0\n",
      "emotion: -0.4200743436813354 volumn: 0\n",
      "emotion: 0.6274449825286865 volumn: 0\n",
      "emotion: 0.3944605588912964 volumn: 0\n",
      "emotion: -0.3907240629196167 volumn: 0\n",
      "emotion: -0.4169150590896606 volumn: 0\n",
      "emotion: 0.3879410922527313 volumn: 0\n",
      "emotion: 0.3638867735862732 volumn: 0\n",
      "emotion: 0.6139457523822784 volumn: 0\n",
      "emotion: -0.364328920841217 volumn: 0\n",
      "emotion: -0.3890327513217926 volumn: 0\n",
      "emotion: -0.3902480900287628 volumn: 0\n",
      "emotion: 0.340456485748291 volumn: 0\n",
      "emotion: -0.4628367125988006 volumn: 0\n",
      "emotion: -0.3919747173786163 volumn: 0\n",
      "emotion: -0.4360530078411102 volumn: 0\n",
      "emotion: -0.3969884216785431 volumn: 0\n",
      "emotion: -0.3601175248622894 volumn: 0\n",
      "emotion: -0.3548029661178589 volumn: 0\n",
      "emotion: -0.4705991148948669 volumn: 0\n",
      "emotion: -0.4030025005340576 volumn: 0\n",
      "emotion: -0.373618483543396 volumn: 0\n",
      "emotion: -0.3978628814220428 volumn: 0\n",
      "emotion: 0.3807063102722168 volumn: 0\n",
      "emotion: -0.6232284605503082 volumn: 0\n",
      "emotion: -0.3517742753028869 volumn: 0\n",
      "emotion: -0.3678019642829895 volumn: 0\n",
      "emotion: -0.4044474959373474 volumn: 0\n",
      "emotion: -0.4341549277305603 volumn: 0\n",
      "emotion: -0.6232284605503082 volumn: 0\n",
      "emotion: 0.3807063102722168 volumn: 0\n",
      "emotion: -0.369922012090683 volumn: 0\n",
      "emotion: -0.3807272613048553 volumn: 0\n"
     ]
    },
    {
     "name": "stderr",
     "output_type": "stream",
     "text": [
      "删除过期节点: 100%|████████████████████████████████████████████████████████████████████████████████████████████████████████████████████████████████████████████| 18/18 [00:00<00:00, 75271.66节点/s]"
     ]
    },
    {
     "name": "stdout",
     "output_type": "stream",
     "text": [
      "已删除节点及其所有边：1450623681336545280  (时间差超过 30 天)\n",
      "已删除节点及其所有边：1450660504842616832  (时间差超过 30 天)\n",
      "已删除节点及其所有边：1450660507564732416  (时间差超过 30 天)\n",
      "已删除节点及其所有边：1450665303667580928  (时间差超过 30 天)\n",
      "已删除节点及其所有边：1450664846840709120  (时间差超过 30 天)\n",
      "已删除节点及其所有边：1450667417324060672  (时间差超过 30 天)\n",
      "已删除节点及其所有边：1450668165310996480  (时间差超过 30 天)\n",
      "已删除节点及其所有边：1450702691915550720  (时间差超过 30 天)\n",
      "已删除节点及其所有边：1450712431215452160  (时间差超过 30 天)\n",
      "已删除节点及其所有边：1450758932402683904  (时间差超过 30 天)\n",
      "已删除节点及其所有边：1450765988421677056  (时间差超过 30 天)\n",
      "已删除节点及其所有边：1450790547786981376  (时间差超过 30 天)\n",
      "已删除节点及其所有边：1450844782939361280  (时间差超过 30 天)\n",
      "已删除节点及其所有边：1450789899041484800  (时间差超过 30 天)\n",
      "已删除节点及其所有边：1450767302283116288  (时间差超过 30 天)\n",
      "已删除节点及其所有边：1450781935568048128  (时间差超过 30 天)\n",
      "已删除节点及其所有边：1450782051200688128  (时间差超过 30 天)\n",
      "已删除节点及其所有边：1450862483623665664  (时间差超过 30 天)\n"
     ]
    },
    {
     "name": "stderr",
     "output_type": "stream",
     "text": [
      "\n"
     ]
    },
    {
     "name": "stdout",
     "output_type": "stream",
     "text": [
      "emotion: -0.3850986957550049 volumn: 0\n",
      "emotion: -0.3703942596912384 volumn: 0\n",
      "emotion: -0.353633850812912 volumn: 0\n",
      "emotion: -0.6579186916351318 volumn: 0\n",
      "emotion: 0.6166718304157257 volumn: 0\n",
      "emotion: -0.3826017081737518 volumn: 0\n",
      "emotion: 0.3861894309520721 volumn: 0\n",
      "emotion: -0.3598632514476776 volumn: 0\n",
      "emotion: -0.3548554480075836 volumn: 0\n",
      "emotion: -0.6458574831485748 volumn: 0\n",
      "emotion: -0.3690893650054931 volumn: 0\n",
      "emotion: 0.6337425708770752 volumn: 0\n",
      "emotion: -0.4484074413776397 volumn: 0\n",
      "emotion: -0.382647156715393 volumn: 0\n",
      "emotion: 0.3558752238750458 volumn: 0\n",
      "emotion: -0.3691119253635406 volumn: 0\n",
      "emotion: 0.6234868764877319 volumn: 0\n",
      "emotion: 0.3531059026718139 volumn: 0\n",
      "emotion: -0.6202175915241241 volumn: 0\n",
      "emotion: -0.3691177666187286 volumn: 0\n",
      "emotion: -0.4435910880565643 volumn: 0\n",
      "emotion: -0.3893198668956756 volumn: 0\n",
      "emotion: 0.4226108491420746 volumn: 0\n",
      "emotion: -0.3748437762260437 volumn: 0\n",
      "emotion: -0.4240683019161224 volumn: 0\n",
      "emotion: 0.4199541807174682 volumn: 0\n",
      "emotion: 0.3484070599079132 volumn: 0\n",
      "emotion: 0.3386540710926056 volumn: 0\n",
      "emotion: -0.49373459815979 volumn: 0\n",
      "emotion: -0.3675009906291961 volumn: 0\n",
      "emotion: -0.414771020412445 volumn: 0\n",
      "emotion: -0.3839788734912872 volumn: 0\n",
      "emotion: -0.6245000958442688 volumn: 0\n",
      "emotion: 0.3833667039871216 volumn: 0\n",
      "emotion: -0.368323802947998 volumn: 0\n",
      "emotion: 0.3821851909160614 volumn: 0\n",
      "emotion: -0.4029318988323211 volumn: 0\n",
      "emotion: -0.6452039480209351 volumn: 0\n",
      "emotion: 0.5942828357219696 volumn: 0\n",
      "emotion: 0.3640207648277282 volumn: 0\n",
      "emotion: 0.3855458498001098 volumn: 0\n",
      "emotion: -0.6346045434474945 volumn: 0\n",
      "emotion: 0.616729736328125 volumn: 0\n",
      "emotion: -0.3928898870944977 volumn: 0\n",
      "emotion: -0.386106789112091 volumn: 0\n",
      "emotion: -0.4007693827152252 volumn: 0\n",
      "emotion: 0.6243972480297089 volumn: 0\n",
      "emotion: -0.4247045814990997 volumn: 0\n",
      "emotion: -0.6427082717418671 volumn: 0\n",
      "emotion: 0.3476339280605316 volumn: 0\n",
      "emotion: 0.3695832192897796 volumn: 0\n",
      "emotion: -0.3907240629196167 volumn: 0\n",
      "emotion: -0.3654538989067077 volumn: 0\n",
      "emotion: -0.380673348903656 volumn: 0\n",
      "emotion: -0.3769072592258453 volumn: 0\n",
      "emotion: -0.3849051892757416 volumn: 0\n",
      "emotion: 0.6648308038711548 volumn: 0\n",
      "emotion: -0.5949104130268097 volumn: 0\n",
      "emotion: 0.6311694085597992 volumn: 0\n",
      "emotion: 0.4126065373420715 volumn: 0\n",
      "emotion: -0.3920094072818756 volumn: 0\n",
      "emotion: -0.6183343827724457 volumn: 0\n"
     ]
    },
    {
     "name": "stderr",
     "output_type": "stream",
     "text": [
      "删除过期节点: 100%|████████████████████████████████████████████████████████████████████████████████████████████████████████████████████████████████████████████| 25/25 [00:00<00:00, 99674.52节点/s]"
     ]
    },
    {
     "name": "stdout",
     "output_type": "stream",
     "text": [
      "已删除节点及其所有边：1450985641609547776  (时间差超过 30 天)\n",
      "已删除节点及其所有边：1450996064295669760  (时间差超过 30 天)\n",
      "已删除节点及其所有边：1451000056212041728  (时间差超过 30 天)\n",
      "已删除节点及其所有边：1451007069662896128  (时间差超过 30 天)\n",
      "已删除节点及其所有边：1451023211496411136  (时间差超过 30 天)\n",
      "已删除节点及其所有边：1451035241720680448  (时间差超过 30 天)\n",
      "已删除节点及其所有边：1451035313065771008  (时间差超过 30 天)\n",
      "已删除节点及其所有边：1451035366912258048  (时间差超过 30 天)\n",
      "已删除节点及其所有边：1451035966504779776  (时间差超过 30 天)\n",
      "已删除节点及其所有边：1451036215671607296  (时间差超过 30 天)\n",
      "已删除节点及其所有边：1451057981332721664  (时间差超过 30 天)\n",
      "已删除节点及其所有边：1451151753701904384  (时间差超过 30 天)\n",
      "已删除节点及其所有边：1451224058758975488  (时间差超过 30 天)\n",
      "已删除节点及其所有边：1451074213133967360  (时间差超过 30 天)\n",
      "已删除节点及其所有边：1451141260152954880  (时间差超过 30 天)\n",
      "已删除节点及其所有边：1451081383741300736  (时间差超过 30 天)\n",
      "已删除节点及其所有边：1451088946327265280  (时间差超过 30 天)\n",
      "已删除节点及其所有边：1451106033720565760  (时间差超过 30 天)\n",
      "已删除节点及其所有边：1451230807113154560  (时间差超过 30 天)\n",
      "已删除节点及其所有边：1451246453817430016  (时间差超过 30 天)\n",
      "已删除节点及其所有边：1451118561791930368  (时间差超过 30 天)\n",
      "已删除节点及其所有边：1451117330847735808  (时间差超过 30 天)\n",
      "已删除节点及其所有边：1451079589019758592  (时间差超过 30 天)\n",
      "已删除节点及其所有边：1451152041582243840  (时间差超过 30 天)\n",
      "已删除节点及其所有边：1451164154065309696  (时间差超过 30 天)\n"
     ]
    },
    {
     "name": "stderr",
     "output_type": "stream",
     "text": [
      "\n"
     ]
    },
    {
     "name": "stdout",
     "output_type": "stream",
     "text": [
      "emotion: 0.3892172276973724 volumn: 0\n",
      "emotion: -0.4292988777160644 volumn: 0\n",
      "emotion: 0.3948067128658294 volumn: 0\n",
      "emotion: -0.4682464003562927 volumn: 0\n",
      "emotion: 0.3363854587078094 volumn: 0\n",
      "emotion: 0.3717651963233948 volumn: 0\n",
      "emotion: 0.3766820132732391 volumn: 0\n",
      "emotion: 0.6557199358940125 volumn: 0\n",
      "emotion: 0.6195985674858093 volumn: 0\n",
      "emotion: -0.4020281732082367 volumn: 0\n",
      "emotion: 0.6464518308639526 volumn: 0\n",
      "emotion: -0.484119564294815 volumn: 0\n",
      "emotion: -0.3538366556167602 volumn: 0\n",
      "emotion: -0.4191373288631439 volumn: 0\n",
      "emotion: -0.378347635269165 volumn: 0\n",
      "emotion: -0.390070378780365 volumn: 0\n",
      "emotion: -0.4074628353118896 volumn: 0\n",
      "emotion: 0.3759227693080902 volumn: 0\n",
      "emotion: -0.4180733263492584 volumn: 0\n",
      "emotion: 0.4504823386669159 volumn: 0\n",
      "emotion: -0.651754230260849 volumn: 0\n",
      "emotion: 0.3769604861736297 volumn: 0\n",
      "emotion: 0.3682678639888763 volumn: 0\n",
      "emotion: -0.3625730276107788 volumn: 0\n",
      "emotion: 0.4084926843643188 volumn: 0\n",
      "emotion: -0.3724322021007538 volumn: 0\n",
      "emotion: 0.3724265694618225 volumn: 0\n",
      "emotion: -0.386961281299591 volumn: 0\n",
      "emotion: -0.4408989548683166 volumn: 0\n",
      "emotion: -0.4212408363819122 volumn: 0\n",
      "emotion: 0.3490801453590393 volumn: 0\n",
      "emotion: -0.3352771401405334 volumn: 0\n",
      "emotion: -0.617750883102417 volumn: 0\n",
      "emotion: -0.643506795167923 volumn: 0\n",
      "emotion: -0.4113542139530182 volumn: 0\n",
      "emotion: -0.3498149812221527 volumn: 0\n",
      "emotion: -0.4450248479843139 volumn: 0\n",
      "emotion: 0.3598400354385376 volumn: 0\n",
      "emotion: 0.3691613972187042 volumn: 0\n",
      "emotion: 0.3480393290519714 volumn: 0\n",
      "emotion: 0.3777524530887604 volumn: 0\n",
      "emotion: -0.5949104130268097 volumn: 0\n",
      "emotion: -0.4703574180603027 volumn: 0\n",
      "emotion: -0.3507949411869049 volumn: 0\n",
      "emotion: -0.3793045580387115 volumn: 0\n",
      "emotion: 0.3835450112819671 volumn: 0\n",
      "emotion: -0.3552252650260925 volumn: 0\n",
      "emotion: -0.3444631099700928 volumn: 0\n",
      "emotion: 0.5968801379203796 volumn: 0\n",
      "emotion: -0.3736335635185241 volumn: 0\n",
      "emotion: 0.6179240643978119 volumn: 0\n",
      "emotion: -0.4548962414264679 volumn: 0\n",
      "emotion: 0.3653140366077423 volumn: 0\n",
      "emotion: -0.3795994520187378 volumn: 0\n",
      "emotion: 0.3696926832199096 volumn: 0\n",
      "emotion: -0.3454777300357818 volumn: 0\n",
      "emotion: -0.6295948922634125 volumn: 0\n",
      "emotion: -0.6286749839782715 volumn: 0\n",
      "emotion: 0.3529799282550812 volumn: 0\n",
      "emotion: -0.3352771401405334 volumn: 0\n",
      "emotion: 0.3778809905052185 volumn: 0\n",
      "emotion: 0.5770553946495056 volumn: 0\n",
      "emotion: 0.3755805492401123 volumn: 0\n",
      "emotion: -0.3622705340385437 volumn: 0\n",
      "emotion: -0.3830722868442535 volumn: 0\n",
      "emotion: 0.4254302382469177 volumn: 0\n",
      "emotion: -0.6519831418991089 volumn: 0\n",
      "emotion: -0.3878355920314789 volumn: 0\n",
      "emotion: -0.3454777300357818 volumn: 0\n",
      "emotion: 0.6453776657581329 volumn: 0\n",
      "emotion: 0.6490102708339691 volumn: 0\n",
      "emotion: -0.3691317141056061 volumn: 0\n",
      "emotion: -0.3981243073940277 volumn: 0\n"
     ]
    },
    {
     "name": "stderr",
     "output_type": "stream",
     "text": [
      "删除过期节点: 100%|███████████████████████████████████████████████████████████████████████████████████████████████████████████████████████████████████████████| 32/32 [00:00<00:00, 107718.88节点/s]"
     ]
    },
    {
     "name": "stdout",
     "output_type": "stream",
     "text": [
      "已删除节点及其所有边：1451366646241763328  (时间差超过 30 天)\n",
      "已删除节点及其所有边：1451366793847746560  (时间差超过 30 天)\n",
      "已删除节点及其所有边：1451370919075594240  (时间差超过 30 天)\n",
      "已删除节点及其所有边：1451369375529902080  (时间差超过 30 天)\n",
      "已删除节点及其所有边：1451366905575612416  (时间差超过 30 天)\n",
      "已删除节点及其所有边：1451373204899975168  (时间差超过 30 天)\n",
      "已删除节点及其所有边：1451377789853003776  (时间差超过 30 天)\n",
      "已删除节点及其所有边：1451391558830346240  (时间差超过 30 天)\n",
      "已删除节点及其所有边：1451391637263986688  (时间差超过 30 天)\n",
      "已删除节点及其所有边：1451395295070150912  (时间差超过 30 天)\n",
      "已删除节点及其所有边：1451395582652653568  (时间差超过 30 天)\n",
      "已删除节点及其所有边：1451502209393364992  (时间差超过 30 天)\n",
      "已删除节点及其所有边：1451396596260818944  (时间差超过 30 天)\n",
      "已删除节点及其所有边：1451517395789565952  (时间差超过 30 天)\n",
      "已删除节点及其所有边：1451431108055162880  (时间差超过 30 天)\n",
      "已删除节点及其所有边：1451399141112745984  (时间差超过 30 天)\n",
      "已删除节点及其所有边：1451447411805589504  (时间差超过 30 天)\n",
      "已删除节点及其所有边：1451447589799268352  (时间差超过 30 天)\n",
      "已删除节点及其所有边：1451455216386121728  (时间差超过 30 天)\n",
      "已删除节点及其所有边：1451469159154524160  (时间差超过 30 天)\n",
      "已删除节点及其所有边：1451548953078607872  (时间差超过 30 天)\n",
      "已删除节点及其所有边：1451399081079685120  (时间差超过 30 天)\n",
      "已删除节点及其所有边：1451429124690493440  (时间差超过 30 天)\n",
      "已删除节点及其所有边：1451406615698034688  (时间差超过 30 天)\n",
      "已删除节点及其所有边：1451399324647124992  (时间差超过 30 天)\n",
      "已删除节点及其所有边：1451440936320331776  (时间差超过 30 天)\n",
      "已删除节点及其所有边：1451422434997927936  (时间差超过 30 天)\n",
      "已删除节点及其所有边：1451447323649736704  (时间差超过 30 天)\n",
      "已删除节点及其所有边：1451694254984626176  (时间差超过 30 天)\n",
      "已删除节点及其所有边：1451496384213913600  (时间差超过 30 天)\n",
      "已删除节点及其所有边：1451552771652694016  (时间差超过 30 天)\n",
      "已删除节点及其所有边：1451440627774725888  (时间差超过 30 天)\n"
     ]
    },
    {
     "name": "stderr",
     "output_type": "stream",
     "text": [
      "\n"
     ]
    },
    {
     "name": "stdout",
     "output_type": "stream",
     "text": [
      "emotion: -0.4621649980545044 volumn: 0\n",
      "emotion: 0.4205630123615265 volumn: 0\n",
      "emotion: -0.423855721950531 volumn: 0\n",
      "emotion: 0.3965437710285187 volumn: 0\n",
      "emotion: -0.3668957650661468 volumn: 0\n",
      "emotion: -0.6589744985103607 volumn: 0\n",
      "emotion: -0.6115199625492096 volumn: 0\n",
      "emotion: 0.3911688327789306 volumn: 0\n",
      "emotion: 0.6242167353630066 volumn: 0\n",
      "emotion: -0.3799864053726196 volumn: 0\n",
      "emotion: -0.6413833498954773 volumn: 0\n",
      "emotion: -0.3866805732250213 volumn: 0\n",
      "emotion: 0.3663680255413055 volumn: 0\n",
      "emotion: -0.6445179581642151 volumn: 0\n",
      "emotion: 0.6242167353630066 volumn: 0\n",
      "emotion: 0.4102179408073425 volumn: 0\n",
      "emotion: -0.6533908247947693 volumn: 0\n",
      "emotion: -0.3749318122863769 volumn: 0\n",
      "emotion: -0.3600301444530487 volumn: 0\n",
      "emotion: 0.3502007722854614 volumn: 0\n",
      "emotion: 0.3615869283676147 volumn: 0\n",
      "emotion: -0.6487605571746826 volumn: 0\n",
      "emotion: -0.3776570856571197 volumn: 0\n",
      "emotion: -0.395873099565506 volumn: 0\n",
      "emotion: -0.3849307298660278 volumn: 0\n",
      "emotion: -0.4183578193187713 volumn: 0\n",
      "emotion: -0.3926014006137848 volumn: 0\n",
      "emotion: -0.3796431124210357 volumn: 0\n",
      "emotion: -0.3403483927249908 volumn: 0\n",
      "emotion: 0.4111954271793365 volumn: 0\n",
      "emotion: -0.3348115384578705 volumn: 0\n",
      "emotion: 0.3509246110916137 volumn: 0\n",
      "emotion: 0.3630571961402893 volumn: 0\n",
      "emotion: -0.3921884000301361 volumn: 0\n",
      "emotion: -0.3915497958660126 volumn: 0\n",
      "emotion: -0.398969829082489 volumn: 0\n",
      "emotion: -0.3936403691768646 volumn: 0\n",
      "emotion: -0.3760553002357483 volumn: 0\n",
      "emotion: 0.3746476769447326 volumn: 0\n",
      "emotion: 0.3474140465259552 volumn: 0\n",
      "emotion: -0.3867816925048828 volumn: 0\n",
      "emotion: -0.4830558001995086 volumn: 0\n",
      "emotion: -0.6294329464435577 volumn: 0\n",
      "emotion: -0.6388610303401947 volumn: 0\n",
      "emotion: 0.428619235754013 volumn: 0\n",
      "emotion: -0.4324046075344085 volumn: 0\n",
      "emotion: -0.4244079291820526 volumn: 0\n",
      "emotion: -0.4182718694210052 volumn: 0\n",
      "emotion: -0.3639418482780456 volumn: 0\n",
      "emotion: -0.4452821314334869 volumn: 0\n",
      "emotion: -0.4056548476219177 volumn: 0\n",
      "emotion: -0.6040747463703156 volumn: 0\n",
      "emotion: -0.4353088438510895 volumn: 0\n",
      "emotion: 0.3605019450187683 volumn: 0\n",
      "emotion: 0.384695291519165 volumn: 0\n",
      "emotion: -0.6523411870002747 volumn: 0\n",
      "emotion: -0.6549491286277771 volumn: 0\n",
      "emotion: 0.3464008569717407 volumn: 0\n",
      "emotion: 0.3695424199104309 volumn: 0\n",
      "emotion: 0.6061835289001465 volumn: 0\n",
      "emotion: 0.368662029504776 volumn: 0\n",
      "emotion: -0.3888013362884521 volumn: 0\n",
      "emotion: -0.374897688627243 volumn: 0\n",
      "emotion: -0.3737384974956512 volumn: 0\n",
      "emotion: -0.4295811951160431 volumn: 0\n",
      "emotion: -0.3833281695842743 volumn: 0\n",
      "emotion: 0.3451775312423706 volumn: 0\n",
      "emotion: -0.4231214225292206 volumn: 0\n",
      "emotion: -0.4211806058883667 volumn: 0\n",
      "emotion: -0.3884085714817047 volumn: 0\n",
      "emotion: -0.4046854376792907 volumn: 0\n"
     ]
    },
    {
     "name": "stderr",
     "output_type": "stream",
     "text": [
      "删除过期节点: 100%|████████████████████████████████████████████████████████████████████████████████████████████████████████████████████████████████████████████| 10/10 [00:00<00:00, 70374.23节点/s]"
     ]
    },
    {
     "name": "stdout",
     "output_type": "stream",
     "text": [
      "已删除节点及其所有边：1451753218220888064  (时间差超过 30 天)\n",
      "已删除节点及其所有边：1451757919951736832  (时间差超过 30 天)\n",
      "已删除节点及其所有边：1451849406433607680  (时间差超过 30 天)\n",
      "已删除节点及其所有边：1451813689410084864  (时间差超过 30 天)\n",
      "已删除节点及其所有边：1451826536601067520  (时间差超过 30 天)\n",
      "已删除节点及其所有边：1451856187398443008  (时间差超过 30 天)\n",
      "已删除节点及其所有边：1451917001446678528  (时间差超过 30 天)\n",
      "已删除节点及其所有边：1451942609950318592  (时间差超过 30 天)\n",
      "已删除节点及其所有边：1451947127219830784  (时间差超过 30 天)\n",
      "已删除节点及其所有边：1451947526366458112  (时间差超过 30 天)\n"
     ]
    },
    {
     "name": "stderr",
     "output_type": "stream",
     "text": [
      "\n"
     ]
    },
    {
     "name": "stdout",
     "output_type": "stream",
     "text": [
      "emotion: -0.3569598495960235 volumn: 0\n",
      "emotion: 0.3888764083385467 volumn: 0\n",
      "emotion: 0.3796533644199371 volumn: 0\n",
      "emotion: 0.3898835480213165 volumn: 0\n",
      "emotion: 0.6409314572811127 volumn: 0\n",
      "emotion: -0.3730299174785614 volumn: 0\n",
      "emotion: -0.3588382303714752 volumn: 0\n",
      "emotion: -0.3975325226783752 volumn: 0\n",
      "emotion: -0.5080531239509583 volumn: 0\n",
      "emotion: -0.374361902475357 volumn: 0\n",
      "emotion: -0.3810073435306549 volumn: 0\n",
      "emotion: 0.3736263215541839 volumn: 0\n",
      "emotion: -0.6495790183544159 volumn: 0\n",
      "emotion: -0.6005198657512665 volumn: 0\n",
      "emotion: -0.4202777147293091 volumn: 0\n",
      "emotion: 0.3985856473445892 volumn: 0\n",
      "emotion: 0.4109348058700561 volumn: 0\n",
      "emotion: -0.3406122028827667 volumn: 0\n",
      "emotion: -0.6399056315422058 volumn: 0\n",
      "emotion: -0.367546409368515 volumn: 0\n",
      "emotion: 0.6586446762084961 volumn: 0\n",
      "emotion: 0.6363478004932404 volumn: 0\n",
      "emotion: -0.3551405668258667 volumn: 0\n",
      "emotion: 0.3658994436264038 volumn: 0\n",
      "emotion: 0.413432240486145 volumn: 0\n",
      "emotion: -0.3934144675731659 volumn: 0\n",
      "emotion: 0.3821459114551544 volumn: 0\n",
      "emotion: 0.6384684145450592 volumn: 0\n",
      "emotion: -0.6520586311817169 volumn: 0\n",
      "emotion: 0.6536068320274353 volumn: 0\n",
      "emotion: 0.3560391962528229 volumn: 0\n",
      "emotion: 0.6511408686637878 volumn: 0\n",
      "emotion: -0.3799206912517547 volumn: 0\n",
      "emotion: 0.644871324300766 volumn: 0\n",
      "emotion: -0.6518063545227051 volumn: 0\n",
      "emotion: 0.3522743582725525 volumn: 0\n",
      "emotion: 0.3485917448997497 volumn: 0\n",
      "emotion: -0.4780148565769195 volumn: 0\n",
      "emotion: -0.6270285546779633 volumn: 0\n",
      "emotion: -0.4176195561885834 volumn: 0\n",
      "emotion: 0.3896031975746155 volumn: 0\n",
      "emotion: -0.3807454109191894 volumn: 0\n",
      "emotion: -0.3429734408855438 volumn: 0\n",
      "emotion: 0.6494095623493195 volumn: 0\n",
      "emotion: -0.4148786962032318 volumn: 0\n",
      "emotion: 0.6511754989624023 volumn: 0\n",
      "emotion: -0.3749695420265198 volumn: 0\n",
      "emotion: -0.3524546921253204 volumn: 0\n",
      "emotion: -0.3954691886901855 volumn: 0\n",
      "emotion: 0.405990719795227 volumn: 0\n",
      "emotion: 0.3590139150619507 volumn: 0\n",
      "emotion: -0.4367387890815735 volumn: 0\n",
      "emotion: 0.3780406713485718 volumn: 0\n",
      "emotion: 0.6115373373031616 volumn: 0\n",
      "emotion: -0.6173994541168213 volumn: 0\n",
      "emotion: 0.3368343114852905 volumn: 0\n",
      "emotion: -0.6419126093387604 volumn: 0\n",
      "emotion: -0.3758967816829681 volumn: 0\n",
      "emotion: -0.337491512298584 volumn: 0\n",
      "emotion: 0.4034408330917358 volumn: 0\n",
      "emotion: -0.3666257262229919 volumn: 0\n",
      "emotion: -0.3613980114459991 volumn: 0\n",
      "emotion: -0.4130068123340606 volumn: 0\n",
      "emotion: -0.4762606918811798 volumn: 0\n",
      "emotion: -0.4126136898994446 volumn: 0\n",
      "emotion: 0.3533370196819305 volumn: 0\n",
      "emotion: -0.3753264844417572 volumn: 0\n",
      "emotion: -0.3879593014717102 volumn: 0\n",
      "emotion: -0.3691354990005493 volumn: 0\n",
      "emotion: 0.652524322271347 volumn: 0\n",
      "emotion: -0.4457387924194336 volumn: 0\n",
      "emotion: 0.3768799006938934 volumn: 0\n",
      "emotion: -0.3760733604431152 volumn: 0\n",
      "emotion: -0.3540599048137665 volumn: 0\n",
      "emotion: 0.6583365797996521 volumn: 0\n",
      "emotion: -0.3730677664279938 volumn: 0\n",
      "emotion: -0.6209617257118225 volumn: 0\n",
      "emotion: 0.3533724844455719 volumn: 0\n",
      "emotion: 0.3568893373012543 volumn: 0\n",
      "emotion: 0.6316302120685577 volumn: 0\n",
      "emotion: -0.3585832417011261 volumn: 0\n",
      "emotion: 0.3629288375377655 volumn: 0\n",
      "emotion: 0.6324228942394257 volumn: 0\n",
      "emotion: -0.4774235785007477 volumn: 0\n",
      "emotion: -0.6491917371749878 volumn: 0\n",
      "emotion: -0.4561958611011505 volumn: 0\n"
     ]
    },
    {
     "name": "stderr",
     "output_type": "stream",
     "text": [
      "删除过期节点: 100%|██████████████████████████████████████████████████████████████████████████████████████████████████████████████████████████████████████████████| 7/7 [00:00<00:00, 55501.19节点/s]"
     ]
    },
    {
     "name": "stdout",
     "output_type": "stream",
     "text": [
      "已删除节点及其所有边：1452091002911604736  (时间差超过 30 天)\n",
      "已删除节点及其所有边：1452098362061336576  (时间差超过 30 天)\n",
      "已删除节点及其所有边：1452165881367248896  (时间差超过 30 天)\n",
      "已删除节点及其所有边：1452117264132677632  (时间差超过 30 天)\n",
      "已删除节点及其所有边：1452129173426692096  (时间差超过 30 天)\n",
      "已删除节点及其所有边：1452302253189173248  (时间差超过 30 天)\n",
      "已删除节点及其所有边：1452312884441063424  (时间差超过 30 天)\n"
     ]
    },
    {
     "name": "stderr",
     "output_type": "stream",
     "text": [
      "\n"
     ]
    },
    {
     "name": "stdout",
     "output_type": "stream",
     "text": [
      "emotion: -0.6421830952167511 volumn: 0\n",
      "emotion: -0.6438592970371246 volumn: 0\n",
      "emotion: -0.344843327999115 volumn: 0\n",
      "emotion: -0.364717572927475 volumn: 0\n",
      "emotion: 0.4417958259582519 volumn: 0\n",
      "emotion: -0.3558605909347534 volumn: 0\n",
      "emotion: -0.379848450422287 volumn: 0\n",
      "emotion: 0.6164007484912872 volumn: 0\n",
      "emotion: 0.3981944918632507 volumn: 0\n",
      "emotion: -0.382370263338089 volumn: 0\n",
      "emotion: -0.4278062880039215 volumn: 0\n",
      "emotion: 0.3493627607822418 volumn: 0\n",
      "emotion: 0.4013532102108001 volumn: 0\n",
      "emotion: -0.3587999045848846 volumn: 0\n",
      "emotion: -0.348688930273056 volumn: 0\n",
      "emotion: 0.3787746131420135 volumn: 0\n",
      "emotion: 0.362184077501297 volumn: 0\n",
      "emotion: -0.3629439175128937 volumn: 0\n",
      "emotion: 0.6369714736938477 volumn: 0\n",
      "emotion: -0.3964928388595581 volumn: 0\n",
      "emotion: -0.4218316376209259 volumn: 0\n",
      "emotion: -0.4091360867023468 volumn: 0\n",
      "emotion: -0.4282073080539703 volumn: 0\n",
      "emotion: 0.3659765720367431 volumn: 0\n",
      "emotion: -0.3477813303470611 volumn: 0\n",
      "emotion: -0.4745032787322998 volumn: 0\n",
      "emotion: 0.6269430220127106 volumn: 0\n",
      "emotion: -0.6626733541488647 volumn: 0\n",
      "emotion: 0.4081130921840668 volumn: 0\n",
      "emotion: -0.6363776922225952 volumn: 0\n",
      "emotion: -0.3736172020435333 volumn: 0\n",
      "emotion: -0.4037885665893554 volumn: 0\n",
      "emotion: -0.3863258957862854 volumn: 0\n",
      "emotion: 0.3643556535243988 volumn: 0\n",
      "emotion: -0.4175769388675689 volumn: 0\n",
      "emotion: 0.3829399347305298 volumn: 0\n",
      "emotion: 0.3641309738159179 volumn: 0\n",
      "emotion: -0.4323341846466064 volumn: 0\n",
      "emotion: -0.3696610331535339 volumn: 0\n",
      "emotion: -0.4045563340187073 volumn: 0\n",
      "emotion: -0.4080636203289032 volumn: 0\n",
      "emotion: 0.6296845376491547 volumn: 0\n",
      "emotion: -0.3472602665424347 volumn: 0\n",
      "emotion: -0.3576966524124145 volumn: 0\n",
      "emotion: 0.4310287833213806 volumn: 0\n",
      "emotion: -0.4373992085456848 volumn: 0\n",
      "emotion: 0.4151993095874786 volumn: 0\n",
      "emotion: -0.4172146618366241 volumn: 0\n",
      "emotion: -0.3941414058208465 volumn: 0\n",
      "emotion: -0.3613715767860412 volumn: 0\n",
      "emotion: 0.6150428950786591 volumn: 0\n",
      "emotion: 0.3752212226390838 volumn: 0\n",
      "emotion: -0.3979793488979339 volumn: 0\n",
      "emotion: -0.3633722066879272 volumn: 0\n",
      "emotion: 0.6265016198158264 volumn: 0\n",
      "emotion: 0.3422744274139404 volumn: 0\n",
      "emotion: 0.3833991885185241 volumn: 0\n",
      "emotion: -0.6325783431529999 volumn: 0\n",
      "emotion: -0.4239190220832824 volumn: 0\n",
      "emotion: -0.3685666620731354 volumn: 0\n"
     ]
    },
    {
     "name": "stderr",
     "output_type": "stream",
     "text": [
      "删除过期节点: 100%|████████████████████████████████████████████████████████████████████████████████████████████████████████████████████████████████████████████| 19/19 [00:00<00:00, 87477.25节点/s]"
     ]
    },
    {
     "name": "stdout",
     "output_type": "stream",
     "text": [
      "已删除节点及其所有边：1452433012231184384  (时间差超过 30 天)\n",
      "已删除节点及其所有边：1452437759637929984  (时间差超过 30 天)\n",
      "已删除节点及其所有边：1452439441092579328  (时间差超过 30 天)\n",
      "已删除节点及其所有边：1452446623909310464  (时间差超过 30 天)\n",
      "已删除节点及其所有边：1452446405478416384  (时间差超过 30 天)\n",
      "已删除节点及其所有边：1452446791148789760  (时间差超过 30 天)\n",
      "已删除节点及其所有边：1452448659824545792  (时间差超过 30 天)\n",
      "已删除节点及其所有边：1452452859044241408  (时间差超过 30 天)\n",
      "已删除节点及其所有边：1452452867181146112  (时间差超过 30 天)\n",
      "已删除节点及其所有边：1452455815416147968  (时间差超过 30 天)\n",
      "已删除节点及其所有边：1452477330912284672  (时间差超过 30 天)\n",
      "已删除节点及其所有边：1452775312245149696  (时间差超过 30 天)\n",
      "已删除节点及其所有边：1452485244091658240  (时间差超过 30 天)\n",
      "已删除节点及其所有边：1452544919873200128  (时间差超过 30 天)\n",
      "已删除节点及其所有边：1452753990459006976  (时间差超过 30 天)\n",
      "已删除节点及其所有边：1452580366355611648  (时间差超过 30 天)\n",
      "已删除节点及其所有边：1452646401658142720  (时间差超过 30 天)\n",
      "已删除节点及其所有边：1452609922537979904  (时间差超过 30 天)\n",
      "已删除节点及其所有边：1452580352002719488  (时间差超过 30 天)\n"
     ]
    },
    {
     "name": "stderr",
     "output_type": "stream",
     "text": [
      "\n"
     ]
    },
    {
     "name": "stdout",
     "output_type": "stream",
     "text": [
      "emotion: -0.4477578103542328 volumn: 0\n",
      "emotion: -0.4356468319892883 volumn: 0\n",
      "emotion: -0.3895886242389679 volumn: 0\n",
      "emotion: -0.6419107019901276 volumn: 0\n",
      "emotion: -0.4398212134838104 volumn: 0\n",
      "emotion: 0.5898492932319641 volumn: 0\n",
      "emotion: -0.4031497240066528 volumn: 0\n",
      "emotion: -0.3882589638233185 volumn: 0\n",
      "emotion: 0.3627045154571533 volumn: 0\n",
      "emotion: -0.3815290927886963 volumn: 0\n",
      "emotion: -0.3509629964828491 volumn: 0\n",
      "emotion: -0.502685546875 volumn: 0\n",
      "emotion: -0.3792118728160858 volumn: 0\n",
      "emotion: -0.3673647940158844 volumn: 0\n",
      "emotion: -0.3370574712753296 volumn: 0\n",
      "emotion: 0.374794065952301 volumn: 0\n",
      "emotion: 0.346022367477417 volumn: 0\n",
      "emotion: -0.346580445766449 volumn: 0\n",
      "emotion: 0.6150428950786591 volumn: 0\n",
      "emotion: -0.3743911981582641 volumn: 0\n",
      "emotion: 0.3988693356513977 volumn: 0\n",
      "emotion: -0.6301422417163849 volumn: 0\n",
      "emotion: 0.3599437773227691 volumn: 0\n",
      "emotion: -0.434939295053482 volumn: 0\n",
      "emotion: -0.4270066618919372 volumn: 0\n"
     ]
    },
    {
     "name": "stderr",
     "output_type": "stream",
     "text": [
      "删除过期节点: 100%|████████████████████████████████████████████████████████████████████████████████████████████████████████████████████████████████████████████| 19/19 [00:00<00:00, 86715.75节点/s]"
     ]
    },
    {
     "name": "stdout",
     "output_type": "stream",
     "text": [
      "已删除节点及其所有边：1452815791850770432  (时间差超过 30 天)\n",
      "已删除节点及其所有边：1452816107291615232  (时间差超过 30 天)\n",
      "已删除节点及其所有边：1452821384858533888  (时间差超过 30 天)\n",
      "已删除节点及其所有边：1452816109174882304  (时间差超过 30 天)\n",
      "已删除节点及其所有边：1452821218420146176  (时间差超过 30 天)\n",
      "已删除节点及其所有边：1452828115198169088  (时间差超过 30 天)\n",
      "已删除节点及其所有边：1452844243626586112  (时间差超过 30 天)\n",
      "已删除节点及其所有边：1452865191251644416  (时间差超过 30 天)\n",
      "已删除节点及其所有边：1452865297619185664  (时间差超过 30 天)\n",
      "已删除节点及其所有边：1452865672157884416  (时间差超过 30 天)\n",
      "已删除节点及其所有边：1452865783340539904  (时间差超过 30 天)\n",
      "已删除节点及其所有边：1452951852425875712  (时间差超过 30 天)\n",
      "已删除节点及其所有边：1452936493610070016  (时间差超过 30 天)\n",
      "已删除节点及其所有边：1452938061176664064  (时间差超过 30 天)\n",
      "已删除节点及其所有边：1453142859125821440  (时间差超过 30 天)\n",
      "已删除节点及其所有边：1453040491440717824  (时间差超过 30 天)\n",
      "已删除节点及其所有边：1452924725588488192  (时间差超过 30 天)\n",
      "已删除节点及其所有边：1452866516458766336  (时间差超过 30 天)\n",
      "已删除节点及其所有边：1452921053005582336  (时间差超过 30 天)\n"
     ]
    },
    {
     "name": "stderr",
     "output_type": "stream",
     "text": [
      "\n"
     ]
    },
    {
     "name": "stdout",
     "output_type": "stream",
     "text": [
      "emotion: 0.6465846002101898 volumn: 0\n",
      "emotion: 0.3510072231292724 volumn: 0\n",
      "emotion: 0.3824777007102966 volumn: 0\n",
      "emotion: 0.6016283333301544 volumn: 0\n",
      "emotion: 0.374794065952301 volumn: 0\n",
      "emotion: -0.6049995720386505 volumn: 0\n",
      "emotion: 0.3718377649784088 volumn: 0\n",
      "emotion: 0.369844526052475 volumn: 0\n",
      "emotion: -0.3796208500862121 volumn: 0\n",
      "emotion: 0.3599354326725006 volumn: 0\n",
      "emotion: -0.3702405989170074 volumn: 0\n",
      "emotion: 0.3679742813110351 volumn: 0\n",
      "emotion: 0.341102659702301 volumn: 0\n",
      "emotion: -0.3839103281497955 volumn: 0\n",
      "emotion: 0.6349556148052216 volumn: 0\n",
      "emotion: -0.3382910490036011 volumn: 0\n",
      "emotion: -0.3660769462585449 volumn: 0\n",
      "emotion: 0.3638470768928528 volumn: 0\n",
      "emotion: -0.3755980432033539 volumn: 0\n",
      "emotion: -0.3684396147727966 volumn: 0\n",
      "emotion: -0.3413328826427459 volumn: 0\n",
      "emotion: 0.344820499420166 volumn: 0\n",
      "emotion: 0.3537528216838836 volumn: 0\n",
      "emotion: -0.4088574945926666 volumn: 0\n",
      "emotion: -0.3797620236873626 volumn: 0\n",
      "emotion: -0.3651511669158935 volumn: 0\n"
     ]
    },
    {
     "name": "stderr",
     "output_type": "stream",
     "text": [
      "删除过期节点: 100%|████████████████████████████████████████████████████████████████████████████████████████████████████████████████████████████████████████████| 25/25 [00:00<00:00, 82500.08节点/s]"
     ]
    },
    {
     "name": "stdout",
     "output_type": "stream",
     "text": [
      "已删除节点及其所有边：1453149734470889472  (时间差超过 30 天)\n",
      "已删除节点及其所有边：1453152673323274240  (时间差超过 30 天)\n",
      "已删除节点及其所有边：1453157537138814976  (时间差超过 30 天)\n",
      "已删除节点及其所有边：1453169119549800448  (时间差超过 30 天)\n",
      "已删除节点及其所有边：1453168491947720704  (时间差超过 30 天)\n",
      "已删除节点及其所有边：1453169192828424192  (时间差超过 30 天)\n",
      "已删除节点及其所有边：1453170552475033600  (时间差超过 30 天)\n",
      "已删除节点及其所有边：1453174016856903680  (时间差超过 30 天)\n",
      "已删除节点及其所有边：1453199503423524864  (时间差超过 30 天)\n",
      "已删除节点及其所有边：1453249144164921088  (时间差超过 30 天)\n",
      "已删除节点及其所有边：1453254577248251904  (时间差超过 30 天)\n",
      "已删除节点及其所有边：1453284357297291264  (时间差超过 30 天)\n",
      "已删除节点及其所有边：1453327152057831424  (时间差超过 30 天)\n",
      "已删除节点及其所有边：1453316461082992640  (时间差超过 30 天)\n",
      "已删除节点及其所有边：1453349138653798400  (时间差超过 30 天)\n",
      "已删除节点及其所有边：1453414238022561792  (时间差超过 30 天)\n",
      "已删除节点及其所有边：1453348796478464000  (时间差超过 30 天)\n",
      "已删除节点及其所有边：1453284359419670528  (时间差超过 30 天)\n",
      "已删除节点及其所有边：1453295433284005888  (时间差超过 30 天)\n",
      "已删除节点及其所有边：1453394414647197696  (时间差超过 30 天)\n",
      "已删除节点及其所有边：1453349052196683776  (时间差超过 30 天)\n",
      "已删除节点及其所有边：1453256541566640128  (时间差超过 30 天)\n",
      "已删除节点及其所有边：1453284546238197760  (时间差超过 30 天)\n",
      "已删除节点及其所有边：1453313089202532352  (时间差超过 30 天)\n",
      "已删除节点及其所有边：1453394562337029888  (时间差超过 30 天)\n"
     ]
    },
    {
     "name": "stderr",
     "output_type": "stream",
     "text": [
      "\n"
     ]
    },
    {
     "name": "stdout",
     "output_type": "stream",
     "text": [
      "emotion: -0.3759752810001373 volumn: 0\n",
      "emotion: -0.346197634935379 volumn: 0\n",
      "emotion: -0.5976843535900116 volumn: 0\n",
      "emotion: -0.3489759266376495 volumn: 0\n",
      "emotion: -0.4488156735897064 volumn: 0\n",
      "emotion: -0.5965235531330109 volumn: 0\n",
      "emotion: 0.3882107138633728 volumn: 0\n",
      "emotion: -0.3443359136581421 volumn: 0\n",
      "emotion: 0.3495221138000488 volumn: 0\n",
      "emotion: 0.3530071675777435 volumn: 0\n",
      "emotion: -0.4015910923480987 volumn: 0\n",
      "emotion: 0.6507547497749329 volumn: 0\n",
      "emotion: -0.4356249272823334 volumn: 0\n",
      "emotion: -0.4782648682594299 volumn: 0\n",
      "emotion: 0.3709233105182647 volumn: 0\n",
      "emotion: 0.6380236148834229 volumn: 0\n",
      "emotion: 0.3700376152992248 volumn: 0\n",
      "emotion: -0.3583605289459228 volumn: 0\n",
      "emotion: -0.3784521818161011 volumn: 0\n",
      "emotion: -0.3861847817897796 volumn: 0\n",
      "emotion: -0.3574851155281067 volumn: 0\n",
      "emotion: 0.346022367477417 volumn: 0\n",
      "emotion: 0.3939952850341797 volumn: 0\n",
      "emotion: -0.6594472229480743 volumn: 0\n",
      "emotion: 0.3988392353057861 volumn: 0\n",
      "emotion: 0.648419976234436 volumn: 0\n",
      "emotion: 0.3382534086704254 volumn: 0\n",
      "emotion: 0.6436030268669128 volumn: 0\n",
      "emotion: 0.3716685175895691 volumn: 0\n",
      "emotion: 0.6496707201004028 volumn: 0\n",
      "emotion: 0.3748735785484314 volumn: 0\n",
      "emotion: -0.4296397268772125 volumn: 0\n",
      "emotion: 0.3959839642047882 volumn: 0\n",
      "emotion: 0.3602316081523895 volumn: 0\n",
      "emotion: 0.6005029380321503 volumn: 0\n",
      "emotion: -0.3657055497169494 volumn: 0\n",
      "emotion: 0.3793290853500366 volumn: 0\n",
      "emotion: -0.4017771482467651 volumn: 0\n",
      "emotion: -0.4742940962314605 volumn: 0\n",
      "emotion: 0.4085311591625213 volumn: 0\n",
      "emotion: 0.3927344083786011 volumn: 0\n",
      "emotion: 0.3574846088886261 volumn: 0\n",
      "emotion: -0.3530994057655334 volumn: 0\n",
      "emotion: 0.3791682720184326 volumn: 0\n",
      "emotion: 0.4028902947902679 volumn: 0\n",
      "emotion: -0.4933055639266968 volumn: 0\n",
      "emotion: -0.3958680927753448 volumn: 0\n",
      "emotion: -0.3847904205322265 volumn: 0\n",
      "emotion: -0.4742943048477173 volumn: 0\n",
      "emotion: -0.4075832664966583 volumn: 0\n",
      "emotion: -0.3746214807033539 volumn: 0\n",
      "emotion: -0.3592448234558105 volumn: 0\n",
      "emotion: -0.3757816255092621 volumn: 0\n",
      "emotion: -0.3879061341285705 volumn: 0\n",
      "emotion: -0.3835757374763489 volumn: 0\n",
      "emotion: -0.6173403561115265 volumn: 0\n",
      "emotion: 0.3857317268848419 volumn: 0\n",
      "emotion: -0.3405565619468689 volumn: 0\n",
      "emotion: 0.3625174164772033 volumn: 0\n",
      "emotion: -0.6314221322536469 volumn: 0\n",
      "emotion: -0.4100286960601806 volumn: 0\n",
      "emotion: -0.4011141657829284 volumn: 0\n",
      "emotion: -0.3581267595291137 volumn: 0\n"
     ]
    },
    {
     "name": "stderr",
     "output_type": "stream",
     "text": [
      "删除过期节点: 100%|███████████████████████████████████████████████████████████████████████████████████████████████████████████████████████████████████████████| 28/28 [00:00<00:00, 103289.81节点/s]"
     ]
    },
    {
     "name": "stdout",
     "output_type": "stream",
     "text": [
      "已删除节点及其所有边：1453543902775062528  (时间差超过 30 天)\n",
      "已删除节点及其所有边：1453546265539530752  (时间差超过 30 天)\n",
      "已删除节点及其所有边：1453546267422846976  (时间差超过 30 天)\n",
      "已删除节点及其所有边：1453546269326987264  (时间差超过 30 天)\n",
      "已删除节点及其所有边：1453546274024611840  (时间差超过 30 天)\n",
      "已删除节点及其所有边：1453546271403229184  (时间差超过 30 天)\n",
      "已删除节点及其所有边：1453546279535996928  (时间差超过 30 天)\n",
      "已删除节点及其所有边：1453546285449940992  (时间差超过 30 天)\n",
      "已删除节点及其所有边：1453559206997479424  (时间差超过 30 天)\n",
      "已删除节点及其所有边：1453567686269566976  (时间差超过 30 天)\n",
      "已删除节点及其所有边：1453596747838722048  (时间差超过 30 天)\n",
      "已删除节点及其所有边：1453625546445709312  (时间差超过 30 天)\n",
      "已删除节点及其所有边：1453625550052810752  (时间差超过 30 天)\n",
      "已删除节点及其所有边：1453737713132134400  (时间差超过 30 天)\n",
      "已删除节点及其所有边：1453625541630652416  (时间差超过 30 天)\n",
      "已删除节点及其所有边：1453638639221501952  (时间差超过 30 天)\n",
      "已删除节点及其所有边：1453625544235356160  (时间差超过 30 天)\n",
      "已删除节点及其所有边：1453632085512626176  (时间差超过 30 天)\n",
      "已删除节点及其所有边：1453857954457923584  (时间差超过 30 天)\n",
      "已删除节点及其所有边：1453638817257189376  (时间差超过 30 天)\n",
      "已删除节点及其所有边：1453641565050597376  (时间差超过 30 天)\n",
      "已删除节点及其所有边：1453643146189959168  (时间差超过 30 天)\n",
      "已删除节点及其所有边：1453712370744782848  (时间差超过 30 天)\n",
      "已删除节点及其所有边：1453611001648091136  (时间差超过 30 天)\n",
      "已删除节点及其所有边：1453625548253532160  (时间差超过 30 天)\n",
      "已删除节点及其所有边：1453791231117598720  (时间差超过 30 天)\n",
      "已删除节点及其所有边：1453702398157983488  (时间差超过 30 天)\n",
      "已删除节点及其所有边：1453656799568187392  (时间差超过 30 天)\n"
     ]
    },
    {
     "name": "stderr",
     "output_type": "stream",
     "text": [
      "\n"
     ]
    },
    {
     "ename": "OSError",
     "evalue": "[Errno 28] No space left on device",
     "output_type": "error",
     "traceback": [
      "\u001b[0;31m---------------------------------------------------------------------------\u001b[0m",
      "\u001b[0;31mOSError\u001b[0m                                   Traceback (most recent call last)",
      "Cell \u001b[0;32mIn[7], line 335\u001b[0m, in \u001b[0;36mmain2\u001b[0;34m()\u001b[0m\n\u001b[1;32m    334\u001b[0m adjacency_matrix \u001b[38;5;241m=\u001b[39m nx\u001b[38;5;241m.\u001b[39madjacency_matrix(G)\u001b[38;5;241m.\u001b[39mtodense()\n\u001b[0;32m--> 335\u001b[0m \u001b[43mpd\u001b[49m\u001b[38;5;241;43m.\u001b[39;49m\u001b[43mDataFrame\u001b[49m\u001b[43m(\u001b[49m\u001b[43madjacency_matrix\u001b[49m\u001b[43m,\u001b[49m\u001b[43m \u001b[49m\u001b[43mindex\u001b[49m\u001b[38;5;241;43m=\u001b[39;49m\u001b[43mG\u001b[49m\u001b[38;5;241;43m.\u001b[39;49m\u001b[43mnodes\u001b[49m\u001b[43m,\u001b[49m\u001b[43m \u001b[49m\u001b[43mcolumns\u001b[49m\u001b[38;5;241;43m=\u001b[39;49m\u001b[43mG\u001b[49m\u001b[38;5;241;43m.\u001b[39;49m\u001b[43mnodes\u001b[49m\u001b[43m)\u001b[49m\u001b[38;5;241;43m.\u001b[39;49m\u001b[43mto_csv\u001b[49m\u001b[43m(\u001b[49m\u001b[38;5;124;43mf\u001b[39;49m\u001b[38;5;124;43m'\u001b[39;49m\u001b[38;5;124;43mG-\u001b[39;49m\u001b[38;5;132;43;01m{\u001b[39;49;00m\u001b[43mtimestamp_str\u001b[49m\u001b[38;5;132;43;01m}\u001b[39;49;00m\u001b[38;5;124;43m.csv\u001b[39;49m\u001b[38;5;124;43m'\u001b[39;49m\u001b[43m)\u001b[49m\n\u001b[1;32m    337\u001b[0m tweet_network_filename \u001b[38;5;241m=\u001b[39m \u001b[38;5;124mf\u001b[39m\u001b[38;5;124m'\u001b[39m\u001b[38;5;124mtweet_network-\u001b[39m\u001b[38;5;132;01m{\u001b[39;00mtimestamp_str\u001b[38;5;132;01m}\u001b[39;00m\u001b[38;5;124m.edgelist\u001b[39m\u001b[38;5;124m'\u001b[39m\n",
      "File \u001b[0;32m~/miniconda3/envs/network/lib/python3.9/site-packages/pandas/util/_decorators.py:333\u001b[0m, in \u001b[0;36mdeprecate_nonkeyword_arguments.<locals>.decorate.<locals>.wrapper\u001b[0;34m(*args, **kwargs)\u001b[0m\n\u001b[1;32m    328\u001b[0m     warnings\u001b[38;5;241m.\u001b[39mwarn(\n\u001b[1;32m    329\u001b[0m         msg\u001b[38;5;241m.\u001b[39mformat(arguments\u001b[38;5;241m=\u001b[39m_format_argument_list(allow_args)),\n\u001b[1;32m    330\u001b[0m         \u001b[38;5;167;01mFutureWarning\u001b[39;00m,\n\u001b[1;32m    331\u001b[0m         stacklevel\u001b[38;5;241m=\u001b[39mfind_stack_level(),\n\u001b[1;32m    332\u001b[0m     )\n\u001b[0;32m--> 333\u001b[0m \u001b[38;5;28;01mreturn\u001b[39;00m \u001b[43mfunc\u001b[49m\u001b[43m(\u001b[49m\u001b[38;5;241;43m*\u001b[39;49m\u001b[43margs\u001b[49m\u001b[43m,\u001b[49m\u001b[43m \u001b[49m\u001b[38;5;241;43m*\u001b[39;49m\u001b[38;5;241;43m*\u001b[39;49m\u001b[43mkwargs\u001b[49m\u001b[43m)\u001b[49m\n",
      "File \u001b[0;32m~/miniconda3/envs/network/lib/python3.9/site-packages/pandas/core/generic.py:3967\u001b[0m, in \u001b[0;36mNDFrame.to_csv\u001b[0;34m(self, path_or_buf, sep, na_rep, float_format, columns, header, index, index_label, mode, encoding, compression, quoting, quotechar, lineterminator, chunksize, date_format, doublequote, escapechar, decimal, errors, storage_options)\u001b[0m\n\u001b[1;32m   3958\u001b[0m formatter \u001b[38;5;241m=\u001b[39m DataFrameFormatter(\n\u001b[1;32m   3959\u001b[0m     frame\u001b[38;5;241m=\u001b[39mdf,\n\u001b[1;32m   3960\u001b[0m     header\u001b[38;5;241m=\u001b[39mheader,\n\u001b[0;32m   (...)\u001b[0m\n\u001b[1;32m   3964\u001b[0m     decimal\u001b[38;5;241m=\u001b[39mdecimal,\n\u001b[1;32m   3965\u001b[0m )\n\u001b[0;32m-> 3967\u001b[0m \u001b[38;5;28;01mreturn\u001b[39;00m \u001b[43mDataFrameRenderer\u001b[49m\u001b[43m(\u001b[49m\u001b[43mformatter\u001b[49m\u001b[43m)\u001b[49m\u001b[38;5;241;43m.\u001b[39;49m\u001b[43mto_csv\u001b[49m\u001b[43m(\u001b[49m\n\u001b[1;32m   3968\u001b[0m \u001b[43m    \u001b[49m\u001b[43mpath_or_buf\u001b[49m\u001b[43m,\u001b[49m\n\u001b[1;32m   3969\u001b[0m \u001b[43m    \u001b[49m\u001b[43mlineterminator\u001b[49m\u001b[38;5;241;43m=\u001b[39;49m\u001b[43mlineterminator\u001b[49m\u001b[43m,\u001b[49m\n\u001b[1;32m   3970\u001b[0m \u001b[43m    \u001b[49m\u001b[43msep\u001b[49m\u001b[38;5;241;43m=\u001b[39;49m\u001b[43msep\u001b[49m\u001b[43m,\u001b[49m\n\u001b[1;32m   3971\u001b[0m \u001b[43m    \u001b[49m\u001b[43mencoding\u001b[49m\u001b[38;5;241;43m=\u001b[39;49m\u001b[43mencoding\u001b[49m\u001b[43m,\u001b[49m\n\u001b[1;32m   3972\u001b[0m \u001b[43m    \u001b[49m\u001b[43merrors\u001b[49m\u001b[38;5;241;43m=\u001b[39;49m\u001b[43merrors\u001b[49m\u001b[43m,\u001b[49m\n\u001b[1;32m   3973\u001b[0m \u001b[43m    \u001b[49m\u001b[43mcompression\u001b[49m\u001b[38;5;241;43m=\u001b[39;49m\u001b[43mcompression\u001b[49m\u001b[43m,\u001b[49m\n\u001b[1;32m   3974\u001b[0m \u001b[43m    \u001b[49m\u001b[43mquoting\u001b[49m\u001b[38;5;241;43m=\u001b[39;49m\u001b[43mquoting\u001b[49m\u001b[43m,\u001b[49m\n\u001b[1;32m   3975\u001b[0m \u001b[43m    \u001b[49m\u001b[43mcolumns\u001b[49m\u001b[38;5;241;43m=\u001b[39;49m\u001b[43mcolumns\u001b[49m\u001b[43m,\u001b[49m\n\u001b[1;32m   3976\u001b[0m \u001b[43m    \u001b[49m\u001b[43mindex_label\u001b[49m\u001b[38;5;241;43m=\u001b[39;49m\u001b[43mindex_label\u001b[49m\u001b[43m,\u001b[49m\n\u001b[1;32m   3977\u001b[0m \u001b[43m    \u001b[49m\u001b[43mmode\u001b[49m\u001b[38;5;241;43m=\u001b[39;49m\u001b[43mmode\u001b[49m\u001b[43m,\u001b[49m\n\u001b[1;32m   3978\u001b[0m \u001b[43m    \u001b[49m\u001b[43mchunksize\u001b[49m\u001b[38;5;241;43m=\u001b[39;49m\u001b[43mchunksize\u001b[49m\u001b[43m,\u001b[49m\n\u001b[1;32m   3979\u001b[0m \u001b[43m    \u001b[49m\u001b[43mquotechar\u001b[49m\u001b[38;5;241;43m=\u001b[39;49m\u001b[43mquotechar\u001b[49m\u001b[43m,\u001b[49m\n\u001b[1;32m   3980\u001b[0m \u001b[43m    \u001b[49m\u001b[43mdate_format\u001b[49m\u001b[38;5;241;43m=\u001b[39;49m\u001b[43mdate_format\u001b[49m\u001b[43m,\u001b[49m\n\u001b[1;32m   3981\u001b[0m \u001b[43m    \u001b[49m\u001b[43mdoublequote\u001b[49m\u001b[38;5;241;43m=\u001b[39;49m\u001b[43mdoublequote\u001b[49m\u001b[43m,\u001b[49m\n\u001b[1;32m   3982\u001b[0m \u001b[43m    \u001b[49m\u001b[43mescapechar\u001b[49m\u001b[38;5;241;43m=\u001b[39;49m\u001b[43mescapechar\u001b[49m\u001b[43m,\u001b[49m\n\u001b[1;32m   3983\u001b[0m \u001b[43m    \u001b[49m\u001b[43mstorage_options\u001b[49m\u001b[38;5;241;43m=\u001b[39;49m\u001b[43mstorage_options\u001b[49m\u001b[43m,\u001b[49m\n\u001b[1;32m   3984\u001b[0m \u001b[43m\u001b[49m\u001b[43m)\u001b[49m\n",
      "File \u001b[0;32m~/miniconda3/envs/network/lib/python3.9/site-packages/pandas/io/formats/format.py:1014\u001b[0m, in \u001b[0;36mDataFrameRenderer.to_csv\u001b[0;34m(self, path_or_buf, encoding, sep, columns, index_label, mode, compression, quoting, quotechar, lineterminator, chunksize, date_format, doublequote, escapechar, errors, storage_options)\u001b[0m\n\u001b[1;32m    995\u001b[0m csv_formatter \u001b[38;5;241m=\u001b[39m CSVFormatter(\n\u001b[1;32m    996\u001b[0m     path_or_buf\u001b[38;5;241m=\u001b[39mpath_or_buf,\n\u001b[1;32m    997\u001b[0m     lineterminator\u001b[38;5;241m=\u001b[39mlineterminator,\n\u001b[0;32m   (...)\u001b[0m\n\u001b[1;32m   1012\u001b[0m     formatter\u001b[38;5;241m=\u001b[39m\u001b[38;5;28mself\u001b[39m\u001b[38;5;241m.\u001b[39mfmt,\n\u001b[1;32m   1013\u001b[0m )\n\u001b[0;32m-> 1014\u001b[0m \u001b[43mcsv_formatter\u001b[49m\u001b[38;5;241;43m.\u001b[39;49m\u001b[43msave\u001b[49m\u001b[43m(\u001b[49m\u001b[43m)\u001b[49m\n\u001b[1;32m   1016\u001b[0m \u001b[38;5;28;01mif\u001b[39;00m created_buffer:\n",
      "File \u001b[0;32m~/miniconda3/envs/network/lib/python3.9/site-packages/pandas/io/formats/csvs.py:270\u001b[0m, in \u001b[0;36mCSVFormatter.save\u001b[0;34m(self)\u001b[0m\n\u001b[1;32m    260\u001b[0m \u001b[38;5;28mself\u001b[39m\u001b[38;5;241m.\u001b[39mwriter \u001b[38;5;241m=\u001b[39m csvlib\u001b[38;5;241m.\u001b[39mwriter(\n\u001b[1;32m    261\u001b[0m     handles\u001b[38;5;241m.\u001b[39mhandle,\n\u001b[1;32m    262\u001b[0m     lineterminator\u001b[38;5;241m=\u001b[39m\u001b[38;5;28mself\u001b[39m\u001b[38;5;241m.\u001b[39mlineterminator,\n\u001b[0;32m   (...)\u001b[0m\n\u001b[1;32m    267\u001b[0m     quotechar\u001b[38;5;241m=\u001b[39m\u001b[38;5;28mself\u001b[39m\u001b[38;5;241m.\u001b[39mquotechar,\n\u001b[1;32m    268\u001b[0m )\n\u001b[0;32m--> 270\u001b[0m \u001b[38;5;28;43mself\u001b[39;49m\u001b[38;5;241;43m.\u001b[39;49m\u001b[43m_save\u001b[49m\u001b[43m(\u001b[49m\u001b[43m)\u001b[49m\n",
      "File \u001b[0;32m~/miniconda3/envs/network/lib/python3.9/site-packages/pandas/io/formats/csvs.py:275\u001b[0m, in \u001b[0;36mCSVFormatter._save\u001b[0;34m(self)\u001b[0m\n\u001b[1;32m    274\u001b[0m     \u001b[38;5;28mself\u001b[39m\u001b[38;5;241m.\u001b[39m_save_header()\n\u001b[0;32m--> 275\u001b[0m \u001b[38;5;28;43mself\u001b[39;49m\u001b[38;5;241;43m.\u001b[39;49m\u001b[43m_save_body\u001b[49m\u001b[43m(\u001b[49m\u001b[43m)\u001b[49m\n",
      "File \u001b[0;32m~/miniconda3/envs/network/lib/python3.9/site-packages/pandas/io/formats/csvs.py:313\u001b[0m, in \u001b[0;36mCSVFormatter._save_body\u001b[0;34m(self)\u001b[0m\n\u001b[1;32m    312\u001b[0m     \u001b[38;5;28;01mbreak\u001b[39;00m\n\u001b[0;32m--> 313\u001b[0m \u001b[38;5;28;43mself\u001b[39;49m\u001b[38;5;241;43m.\u001b[39;49m\u001b[43m_save_chunk\u001b[49m\u001b[43m(\u001b[49m\u001b[43mstart_i\u001b[49m\u001b[43m,\u001b[49m\u001b[43m \u001b[49m\u001b[43mend_i\u001b[49m\u001b[43m)\u001b[49m\n",
      "File \u001b[0;32m~/miniconda3/envs/network/lib/python3.9/site-packages/pandas/io/formats/csvs.py:324\u001b[0m, in \u001b[0;36mCSVFormatter._save_chunk\u001b[0;34m(self, start_i, end_i)\u001b[0m\n\u001b[1;32m    323\u001b[0m ix \u001b[38;5;241m=\u001b[39m \u001b[38;5;28mself\u001b[39m\u001b[38;5;241m.\u001b[39mdata_index[slicer]\u001b[38;5;241m.\u001b[39m_get_values_for_csv(\u001b[38;5;241m*\u001b[39m\u001b[38;5;241m*\u001b[39m\u001b[38;5;28mself\u001b[39m\u001b[38;5;241m.\u001b[39m_number_format)\n\u001b[0;32m--> 324\u001b[0m \u001b[43mlibwriters\u001b[49m\u001b[38;5;241;43m.\u001b[39;49m\u001b[43mwrite_csv_rows\u001b[49m\u001b[43m(\u001b[49m\n\u001b[1;32m    325\u001b[0m \u001b[43m    \u001b[49m\u001b[43mdata\u001b[49m\u001b[43m,\u001b[49m\n\u001b[1;32m    326\u001b[0m \u001b[43m    \u001b[49m\u001b[43mix\u001b[49m\u001b[43m,\u001b[49m\n\u001b[1;32m    327\u001b[0m \u001b[43m    \u001b[49m\u001b[38;5;28;43mself\u001b[39;49m\u001b[38;5;241;43m.\u001b[39;49m\u001b[43mnlevels\u001b[49m\u001b[43m,\u001b[49m\n\u001b[1;32m    328\u001b[0m \u001b[43m    \u001b[49m\u001b[38;5;28;43mself\u001b[39;49m\u001b[38;5;241;43m.\u001b[39;49m\u001b[43mcols\u001b[49m\u001b[43m,\u001b[49m\n\u001b[1;32m    329\u001b[0m \u001b[43m    \u001b[49m\u001b[38;5;28;43mself\u001b[39;49m\u001b[38;5;241;43m.\u001b[39;49m\u001b[43mwriter\u001b[49m\u001b[43m,\u001b[49m\n\u001b[1;32m    330\u001b[0m \u001b[43m\u001b[49m\u001b[43m)\u001b[49m\n",
      "File \u001b[0;32mwriters.pyx:76\u001b[0m, in \u001b[0;36mpandas._libs.writers.write_csv_rows\u001b[0;34m()\u001b[0m\n",
      "\u001b[0;31mOSError\u001b[0m: [Errno 28] No space left on device",
      "\nDuring handling of the above exception, another exception occurred:\n",
      "\u001b[0;31mOSError\u001b[0m                                   Traceback (most recent call last)",
      "\u001b[0;31mOSError\u001b[0m: [Errno 28] No space left on device",
      "\nDuring handling of the above exception, another exception occurred:\n",
      "\u001b[0;31mOSError\u001b[0m                                   Traceback (most recent call last)",
      "Cell \u001b[0;32mIn[7], line 353\u001b[0m\n\u001b[1;32m    351\u001b[0m \u001b[38;5;28;01mif\u001b[39;00m \u001b[38;5;18m__name__\u001b[39m \u001b[38;5;241m==\u001b[39m \u001b[38;5;124m'\u001b[39m\u001b[38;5;124m__main__\u001b[39m\u001b[38;5;124m'\u001b[39m:\n\u001b[1;32m    352\u001b[0m     \u001b[38;5;28mprint\u001b[39m(datetime\u001b[38;5;241m.\u001b[39mdatetime\u001b[38;5;241m.\u001b[39mnow())\n\u001b[0;32m--> 353\u001b[0m     \u001b[43mmain2\u001b[49m\u001b[43m(\u001b[49m\u001b[43m)\u001b[49m\n",
      "Cell \u001b[0;32mIn[7], line 341\u001b[0m, in \u001b[0;36mmain2\u001b[0;34m()\u001b[0m\n\u001b[1;32m    338\u001b[0m         nx\u001b[38;5;241m.\u001b[39mwrite_edgelist(G, tweet_network_filename)\n\u001b[1;32m    340\u001b[0m         \u001b[38;5;28;01mwith\u001b[39;00m \u001b[38;5;28mopen\u001b[39m(\u001b[38;5;124m\"\u001b[39m\u001b[38;5;124mfinal_emotions.csv\u001b[39m\u001b[38;5;124m\"\u001b[39m, \u001b[38;5;124m'\u001b[39m\u001b[38;5;124ma+\u001b[39m\u001b[38;5;124m'\u001b[39m) \u001b[38;5;28;01mas\u001b[39;00m f:\n\u001b[0;32m--> 341\u001b[0m             f\u001b[38;5;241m.\u001b[39mwrite(\u001b[38;5;124mf\u001b[39m\u001b[38;5;124m\"\u001b[39m\u001b[38;5;132;01m{\u001b[39;00mtimestamp_str\u001b[38;5;132;01m}\u001b[39;00m\u001b[38;5;124m,\u001b[39m\u001b[38;5;132;01m{\u001b[39;00memtions1\u001b[38;5;132;01m}\u001b[39;00m\u001b[38;5;130;01m\\n\u001b[39;00m\u001b[38;5;124m\"\u001b[39m)\n\u001b[1;32m    342\u001b[0m \u001b[38;5;66;03m# 保存映射关系和其他信息\u001b[39;00m\n\u001b[1;32m    343\u001b[0m \u001b[38;5;28;01mwith\u001b[39;00m \u001b[38;5;28mopen\u001b[39m(\u001b[38;5;124m\"\u001b[39m\u001b[38;5;124memotionall.csv\u001b[39m\u001b[38;5;124m\"\u001b[39m, \u001b[38;5;124m\"\u001b[39m\u001b[38;5;124mw+\u001b[39m\u001b[38;5;124m\"\u001b[39m, encoding\u001b[38;5;241m=\u001b[39m\u001b[38;5;124m'\u001b[39m\u001b[38;5;124mutf-8\u001b[39m\u001b[38;5;124m'\u001b[39m) \u001b[38;5;28;01mas\u001b[39;00m f:\n",
      "\u001b[0;31mOSError\u001b[0m: [Errno 28] No space left on device"
     ]
    }
   ],
   "source": [
    "import pandas as pd\n",
    "import os\n",
    "os.chdir(r'/home/root_gdut/KDD2025/old/embeddin')\n",
    "import json\n",
    "import networkx as nx\n",
    "import datetime\n",
    "import torch\n",
    "from networkx.algorithms.community import greedy_modularity_communities, modularity\n",
    "import sympy\n",
    "from collections import deque\n",
    "import numpy as np\n",
    "from tqdm import tqdm\n",
    "import scipy.integrate as integrate\n",
    "import csv \n",
    "def load_vectors(file_path):\n",
    "    vector_dict = {}\n",
    "    with open(file_path, 'r') as file:\n",
    "        for line in file:\n",
    "            parts = line.strip().split(',', 1)  # 按逗号分割，第一部分是推文ID，第二部分是向量\n",
    "            tweet_id = parts[0]  # 获取推文ID\n",
    "            try:\n",
    "                # 将向量部分按空格拆分并转换为浮动数值\n",
    "                vector = np.array([float(x) for x in parts[1].split()])  # 向量部分按空格拆分\n",
    "                vector_dict[tweet_id] = vector\n",
    "            except ValueError as e:\n",
    "                print(f\"无法将以下值转换为浮动数值: {parts[1]}. 错误信息: {e}\")\n",
    "    return vector_dict\n",
    "\n",
    "# 调用方法\n",
    "vector_dict = load_vectors(\"output_vectors.txt\")\n",
    "print(f\"已加载的推文ID数量: {len(vector_dict)}\")\n",
    "print(f\"部分推文ID: {list(vector_dict.keys())[:10]}\")  # 打印前10个ID\n",
    "\n",
    "\n",
    "scores = 0.90\n",
    "sentiment_df = pd.read_csv('final_with_sentiment.csv')\n",
    "\n",
    "# 创建一个字典，方便通过 `id_str` 查找情感概率\n",
    "sentiment_dict = {\n",
    "    row['raw_value.id_str']: {\n",
    "        'negative_probability': row['negative_probability'],\n",
    "        'neutral_probability': row['neutral_probability'],\n",
    "        'positive_probability': row['positive_probability']\n",
    "    }\n",
    "    for _, row in sentiment_df.iterrows()\n",
    "}\n",
    "\n",
    "\n",
    "\n",
    "\n",
    "def calculate_daw(time_diff_days):\n",
    "    \"\"\"根据时间差计算动态衰减指数DAW\"\"\"\n",
    "    # 计算衰减因子，时间差转化为月单位\n",
    "    time_diff_months = abs(time_diff_days) / 30\n",
    "\n",
    "    # 使用数值积分替代符号积分\n",
    "    result, error = integrate.quad(lambda x: np.exp(-x), 0, time_diff_months)\n",
    "    \n",
    "    # 计算DAW值，1减去积分结果\n",
    "    daw_value = 1 - result\n",
    "    \n",
    "    # 保证DAW的下限为0.01\n",
    "    return daw_value if daw_value >= 0.01 else 0.01\n",
    "\n",
    "\n",
    "\n",
    "# 更新vol函数，整合DAW计算\n",
    "def vol(parent_raws, emtions1, retweet_count, quote_count, favorite_count, reply_count,\n",
    "        max_retweet_count, max_quote_count, max_favorite_count, max_reply_count, current_time):\n",
    "    emtions = emtions1\n",
    "    vol1 = 0\n",
    "    if parent_raws:\n",
    "        for raw in parent_raws:  # 0:相似度，1：相差时间，2：情感得分\n",
    "            # 确保 raw[1] 是 pandas Timestamp 类型\n",
    "            raw_time = pd.to_datetime(raw[1])  # 将父节点时间转换为 Timestamp 类型\n",
    "            current_time = pd.to_datetime(current_time)  # 确保 current_time 是 Timestamp 类型\n",
    "            \n",
    "            # 计算时间差（天数）\n",
    "            time_diff = (current_time - raw_time).days  # 获取天数差\n",
    "            daw_value = calculate_daw(time_diff)  # 计算DAW\n",
    "            vol1 += daw_value * raw[0] * raw[2]  # 根据DAW、相似度、情感得分计算传播强度\n",
    "        vol1 /= len(parent_raws)\n",
    "    # 父节点的平均情感 + 子节点情感 * 子节点的相关指标\n",
    "    print('emotion:', emtions, 'volumn:', vol1)\n",
    "    emtions += vol1\n",
    "    if emtions < -1:\n",
    "        emtions = -1\n",
    "    elif emtions > 1:\n",
    "        emtions = 1\n",
    "    return emtions\n",
    "\n",
    "def emtions(tweet_id):\n",
    "    # 直接通过 tweet_id 获取情感概率\n",
    "    sentiment_probs = sentiment_dict.get(tweet_id)\n",
    "    if sentiment_probs:\n",
    "        negative_prob = sentiment_probs['negative_probability']\n",
    "        neutral_prob = sentiment_probs['neutral_probability']\n",
    "        positive_prob = sentiment_probs['positive_probability']\n",
    "\n",
    "        # 计算情感分数\n",
    "        if positive_prob > neutral_prob and positive_prob > negative_prob:\n",
    "            sentiment_score = positive_prob\n",
    "        elif negative_prob > neutral_prob and negative_prob > positive_prob:\n",
    "            sentiment_score = -negative_prob\n",
    "        elif neutral_prob > positive_prob and neutral_prob > negative_prob:\n",
    "            if positive_prob > negative_prob:\n",
    "                sentiment_score = 1 - neutral_prob\n",
    "            else:\n",
    "                sentiment_score = -(1 - neutral_prob)\n",
    "    else:\n",
    "        sentiment_score = 0  # 如果找不到情感概率，返回默认值（例如0）\n",
    "\n",
    "    return sentiment_score\n",
    "\n",
    "def bert_va(tweet_id, emtions1):\n",
    "    tweet_id = str(tweet_id)  # 确保tweet_id是字符串类型\n",
    "    if tweet_id not in vector_dict:\n",
    "        raise ValueError(f\"向量文件中找不到推文ID {tweet_id}\")\n",
    "    \n",
    "    tweet_vector = vector_dict[tweet_id]\n",
    "    embedding_with_emotion = np.concatenate((tweet_vector, np.array([emtions1])), axis=0)\n",
    "    \n",
    "    return embedding_with_emotion\n",
    "\n",
    "\n",
    "def cosine(x, y):\n",
    "    # 确保x和y是tensor类型\n",
    "    x = torch.tensor(x)\n",
    "    y = torch.tensor(y)\n",
    "    \n",
    "    # 计算余弦相似度\n",
    "    return torch.nn.functional.cosine_similarity(x.unsqueeze(0), y.unsqueeze(0))\n",
    "\n",
    "# 新增社区检测函数\n",
    "def detect_communities(G):\n",
    "    \"\"\"处理有向图的社区检测\"\"\"\n",
    "    from community import best_partition\n",
    "    undirected_G = nx.Graph()\n",
    "    # 聚合有向边到无向图\n",
    "    for u, v, data in G.edges(data=True):\n",
    "        if undirected_G.has_edge(u, v):\n",
    "            undirected_G[u][v]['weight'] += data.get('weight', 1.0)\n",
    "        else:\n",
    "            undirected_G.add_edge(u, v, weight=data.get('weight', 1.0))\n",
    "    partition = best_partition(undirected_G, weight='weight')\n",
    "    nx.set_node_attributes(G, partition, 'community')\n",
    "    return partition\n",
    "\n",
    "# Assuming these functions are already defined elsewhere in your code\n",
    "# emtions(), bert_va(), cosine(), calculate_daw(), vol(), etc.\n",
    "\n",
    "import csv\n",
    "from collections import deque\n",
    "\n",
    "def main2():\n",
    "    G = nx.DiGraph()\n",
    "\n",
    "    # 读取数据并进行初步处理\n",
    "    table = pd.read_csv(\"final.txt\")\n",
    "    table = table.iloc[:, 1:]  # 删除第一列，如果是索引列\n",
    "    table['raw_value.created_at'] = pd.to_datetime(table['raw_value.created_at'])\n",
    "\n",
    "    # 确保数据按创建时间排序\n",
    "    table = table.sort_values(by='raw_value.created_at')\n",
    "\n",
    "    table.index = table['raw_value.created_at']  # 将时间列设置为索引\n",
    "    # 初始化数据结构\n",
    "    users = {i: {} for i in set(table['raw_value.user_id_str'].values.tolist())}\n",
    "    makelist = {}\n",
    "    emotionlist = {}\n",
    "    date_diff = 30  # 删除节点的时间差上限为30天\n",
    "\n",
    "    # 获取最大转发、引用、点赞和评论数量\n",
    "    max_retweet_count, max_quote_count, max_favorite_count, max_reply_count = (\n",
    "        table['raw_value.retweet_count'].max(),\n",
    "        table['raw_value.quote_count'].max(),\n",
    "        table['raw_value.favorite_count'].max(),\n",
    "        table['raw_value.reply_count'].max()\n",
    "    )\n",
    "    tweet_to_user = {}\n",
    "    # 使用双端队列缓存边的时间戳和对应的边\n",
    "    edge_timestamps = deque()  # 用于存储边的时间戳和对应的边\n",
    "    # 用于缓存时间段的计算结果\n",
    "    data_buffer = []  # 存储每个时间点的指标数据\n",
    "    # 打开 edge_log.csv 文件，用于记录连边信息\n",
    "    with open(\"edge_log.csv\", \"a+\", newline='', encoding=\"utf-8\") as edge_file:\n",
    "        edge_writer = csv.writer(edge_file)\n",
    "        # 如果文件为空，写入表头\n",
    "        if edge_file.tell() == 0:\n",
    "            edge_writer.writerow(['Source_Node', 'Target_Node', 'Timestamp'])\n",
    "        # 按天分组数据进行处理\n",
    "        for w, w_t in table.resample('D'):  # 每天处理一次数据\n",
    "            if len(w_t) == 0:\n",
    "                continue  # 如果这一天没有数据，跳过该天的处理\n",
    "\n",
    "            current_time = w  # 使用当前时间作为当前时间\n",
    "            new_edges_added = False  # 标记这一天是否有新增边或节点\n",
    "\n",
    "            # 处理每一条推文数据\n",
    "            for index, row in w_t.iterrows():\n",
    "                strs = row['raw_value.full_text']\n",
    "                strs2 = row['Tags']\n",
    "                tweet_id = row['raw_value.id_str']  # 获取 tweet_id\n",
    "\n",
    "                # 获取情感分数\n",
    "                emtions1 = emtions(tweet_id)\n",
    "                bert_va1 = bert_va(tweet_id, emtions1)\n",
    "                this_data_datetime = row['raw_value.created_at']\n",
    "\n",
    "                G.add_node(row['raw_value.id_str'])\n",
    "                tweet_to_user[row['raw_value.id_str']] = row['raw_value.user_id_str']\n",
    "                parent = []  # 存储相关的父节点\n",
    "\n",
    "                # 遍历当前的 makelist，检查已有的边是否超过30天\n",
    "                for make_i in makelist.keys():\n",
    "                    diff = (this_data_datetime - makelist[make_i]['created_at']).days\n",
    "                    if diff < date_diff:  # 如果时间差小于30天，继续检查\n",
    "                        daw_value = calculate_daw(diff)\n",
    "                        score = float(cosine(bert_va1, makelist[make_i]['pooled']) * daw_value)\n",
    "\n",
    "                        if 1 > score > scores:  # 相似度阈值\n",
    "                            # 添加带有时间戳的边\n",
    "                            G.add_edge(makelist[make_i]['id'], row['raw_value.id_str'], weight=round(score, 2), timestamp=this_data_datetime)\n",
    "                            \n",
    "                            # 记录边的ID和时间戳到文件\n",
    "                            edge_writer.writerow([makelist[make_i]['id'], row['raw_value.id_str'], this_data_datetime])\n",
    "                            new_edges_added = True\n",
    "\n",
    "                # 更新情感值\n",
    "                emtions1 = vol(parent, emtions1, row['raw_value.retweet_count'], row['raw_value.quote_count'],\n",
    "                               row['raw_value.favorite_count'], row['raw_value.reply_count'],\n",
    "                               max_retweet_count, max_quote_count, max_favorite_count, max_reply_count, current_time)\n",
    "\n",
    "                if w not in users[row['raw_value.user_id_str']].keys():\n",
    "                    users[row['raw_value.user_id_str']][w] = [emtions1]\n",
    "                else:\n",
    "                    users[row['raw_value.user_id_str']][w].append(emtions1)\n",
    "\n",
    "                # 更新节点信息\n",
    "                makelist[row['raw_value.id_str']] = {\n",
    "                    'userid': row['raw_value.user_id_str'],\n",
    "                    'id': row['raw_value.id_str'],\n",
    "                    'text': row['raw_value.full_text'],\n",
    "                    'cleantext': strs,\n",
    "                    'emotion': emtions1,\n",
    "                    'pooled': bert_va1,\n",
    "                    'created_at': row['raw_value.created_at']\n",
    "                }\n",
    "            # 即使没有新节点或边，也要删除超过30天的节点和它们的边\n",
    "            to_remove_nodes = set()  # 用于存储需要删除的节点\n",
    "            # 检查每个节点是否存在超过30天\n",
    "            for node in list(G.nodes):  # 使用 list() 避免在遍历中修改节点集合\n",
    "                node_creation_time = makelist[node]['created_at']\n",
    "                node_age = (current_time - node_creation_time).days\n",
    "                if node_age > date_diff:  # 如果节点存在超过30天\n",
    "                    to_remove_nodes.add(node)\n",
    "            # 删除超过30天的节点及其所有边\n",
    "            for node in tqdm(to_remove_nodes, desc=\"删除过期节点\", unit=\"节点\"):\n",
    "                if G.has_node(node):\n",
    "                    # 删除与该节点相关的所有边\n",
    "                    G.remove_node(node)\n",
    "                    print(f\"已删除节点及其所有边：{node}  (时间差超过 {date_diff} 天)\")\n",
    "            # 删除节点和边后，及时更新数据结构\n",
    "            for node in to_remove_nodes:\n",
    "                if node in makelist:\n",
    "                    del makelist[node]\n",
    "                if node in tweet_to_user:\n",
    "                    del tweet_to_user[node]\n",
    "            # 计算网络指标并缓存到内存\n",
    "            if G.number_of_edges() > 0:\n",
    "                d = dict(nx.degree(G))\n",
    "                d_avg = sum(d.values()) / len(G.nodes)\n",
    "                x = list(range(max(d.values()) + 1))\n",
    "                d_list = nx.degree_histogram(G)\n",
    "                y = np.array(d_list) / len(G)\n",
    "                # 检测社区并计算模块化程度\n",
    "                communities = greedy_modularity_communities(G.to_undirected())\n",
    "                modularity_score = modularity(G.to_undirected(), communities, weight=None)\n",
    "                # 在每天处理前执行社区检测（示例每天检测，实际可按需调整频率）\n",
    "                for w, w_t in table.resample('D'):\n",
    "                    if len(w_t) == 0:\n",
    "                        continue\n",
    "                    \n",
    "                    # 当天新增边后的社区检测\n",
    "                    detect_communities(G)\n",
    "                    \n",
    "                    # 计算社区指标\n",
    "                    communities = {}  # 格式：{社区ID: 节点列表}\n",
    "                    for node in G.nodes():\n",
    "                        comm = G.nodes[node].get('community', -1)\n",
    "                        communities.setdefault(comm, []).append(node)\n",
    "                    \n",
    "                    # 统计社区内外交互\n",
    "                    intra_edges = 0\n",
    "                    inter_edges = 0\n",
    "                    node_communities = {}\n",
    "                    bridging_nodes = set()\n",
    "                    \n",
    "                    for u, v, data in G.edges(data=True):\n",
    "                        u_comm = G.nodes[u].get('community', -1)\n",
    "                        v_comm = G.nodes[v].get('community', -1)\n",
    "                        # 统计节点连接的社区\n",
    "                        node_communities.setdefault(u, set()).add(v_comm)\n",
    "                        node_communities.setdefault(v, set()).add(u_comm)\n",
    "                        if u_comm == v_comm:\n",
    "                            intra_edges += data.get('weight', 1)\n",
    "                        else:\n",
    "                            inter_edges += data.get('weight', 1)\n",
    "                    # 精确桥接节点：连接超过1个社区的节点\n",
    "                    bridging_nodes = {\n",
    "                        node for node, comms in node_communities.items()\n",
    "                        if len(comms) > 1\n",
    "                    }\n",
    "                q1 = G.number_of_nodes()  # 节点数\n",
    "                q2 = G.number_of_edges()  # 边数\n",
    "                q3 = nx.pagerank(G,alpha=0.85)\n",
    "                q6 = nx.degree_assortativity_coefficient(G)  # 度同配系数\n",
    "                # 将计算结果缓存到 data_buffer\n",
    "                data_buffer.append([w.strftime('%Y-%m-%d'), q1, q2, q3, q6, modularity_score,intra_edges,inter_edges,len(bridging_nodes),len(communities)])\n",
    "            # 批量写入文件\n",
    "            if len(data_buffer) >= 10:  # 如果缓存的记录达到10个（可以根据需要调整）\n",
    "                with open(\"index.csv\", 'a+', newline='', encoding='utf-8') as f:\n",
    "                    writer = csv.writer(f)\n",
    "                    if f.tell() == 0:  # 如果文件为空，先写入表头\n",
    "                        writer.writerow(['Time', 'Num_nodes', 'Num_edges', 'PageRank', 'Degree_assortativity', 'Modularity',\n",
    "                                         'Intra_edges','Inter_edges','Bridging_nodes','Community_count'])\n",
    "                    writer.writerows(data_buffer)  # 批量写入\n",
    "                data_buffer.clear()  # 清空缓存\n",
    "\n",
    "                # 可选：输出日志\n",
    "                print(f\"已批量写入 {len(data_buffer)} 条数据到 index.csv\")\n",
    "\n",
    "            timestamp_str = w.strftime(\"%Y-%m-%d\")\n",
    "            adjacency_matrix = nx.adjacency_matrix(G).todense()\n",
    "            pd.DataFrame(adjacency_matrix, index=G.nodes, columns=G.nodes).to_csv(f'G-{timestamp_str}.csv')\n",
    "\n",
    "            tweet_network_filename = f'tweet_network-{timestamp_str}.edgelist'\n",
    "            nx.write_edgelist(G, tweet_network_filename)\n",
    "\n",
    "            with open(\"final_emotions.csv\", 'a+') as f:\n",
    "                f.write(f\"{timestamp_str},{emtions1}\\n\")\n",
    "    # 保存映射关系和其他信息\n",
    "    with open(\"emotionall.csv\", \"w+\", encoding='utf-8') as f:\n",
    "        f.write(str(makelist))\n",
    "    # 保存tweet_to_user映射\n",
    "    with open(\"tweet_to_user_mapping.json\", \"w\") as f:\n",
    "        json.dump(tweet_to_user, f)\n",
    "    return users\n",
    "\n",
    "# 主函数执行\n",
    "if __name__ == '__main__':\n",
    "    print(datetime.datetime.now())\n",
    "    main2()\n"
   ]
  },
  {
   "cell_type": "code",
   "execution_count": 1,
   "id": "1d0bf50a-33a1-44c9-9830-15037ac22e48",
   "metadata": {},
   "outputs": [
    {
     "name": "stdout",
     "output_type": "stream",
     "text": [
      "2025-02-03 15:56:08.931429\n"
     ]
    },
    {
     "name": "stderr",
     "output_type": "stream",
     "text": [
      "/home/root_gdut/miniconda3/envs/network/lib/python3.9/site-packages/pandas/core/indexes/base.py:7631: FutureWarning: Dtype inference on a pandas object (Series, Index, ExtensionArray) is deprecated. The Index constructor will keep the original dtype in the future. Call `infer_objects` on the result to get the old behavior.\n",
      "  return Index(index_like, name=name, copy=copy)\n",
      "/home/root_gdut/miniconda3/envs/network/lib/python3.9/site-packages/networkx/algorithms/assortativity/mixing.py:212: RuntimeWarning: invalid value encountered in divide\n",
      "  a = a / a.sum()\n",
      "/home/root_gdut/miniconda3/envs/network/lib/python3.9/site-packages/networkx/algorithms/assortativity/correlation.py:302: RuntimeWarning: invalid value encountered in scalar divide\n",
      "  return (xy * (M - ab)).sum() / np.sqrt(vara * varb)\n"
     ]
    },
    {
     "ename": "OSError",
     "evalue": "[Errno 28] No space left on device",
     "output_type": "error",
     "traceback": [
      "\u001b[0;31m---------------------------------------------------------------------------\u001b[0m",
      "\u001b[0;31mOSError\u001b[0m                                   Traceback (most recent call last)",
      "Cell \u001b[0;32mIn[1], line 196\u001b[0m\n\u001b[1;32m    194\u001b[0m \u001b[38;5;28;01mif\u001b[39;00m \u001b[38;5;18m__name__\u001b[39m \u001b[38;5;241m==\u001b[39m \u001b[38;5;124m'\u001b[39m\u001b[38;5;124m__main__\u001b[39m\u001b[38;5;124m'\u001b[39m:\n\u001b[1;32m    195\u001b[0m     \u001b[38;5;28mprint\u001b[39m(datetime\u001b[38;5;241m.\u001b[39mdatetime\u001b[38;5;241m.\u001b[39mnow())\n\u001b[0;32m--> 196\u001b[0m     \u001b[43mmain2\u001b[49m\u001b[43m(\u001b[49m\u001b[43m)\u001b[49m\n",
      "Cell \u001b[0;32mIn[1], line 176\u001b[0m, in \u001b[0;36mmain2\u001b[0;34m()\u001b[0m\n\u001b[1;32m    173\u001b[0m \u001b[38;5;28;01mif\u001b[39;00m f\u001b[38;5;241m.\u001b[39mtell() \u001b[38;5;241m==\u001b[39m \u001b[38;5;241m0\u001b[39m:  \u001b[38;5;66;03m# Check if file is empty to write headers\u001b[39;00m\n\u001b[1;32m    174\u001b[0m     writer\u001b[38;5;241m.\u001b[39mwriterow([\u001b[38;5;124m'\u001b[39m\u001b[38;5;124mTime\u001b[39m\u001b[38;5;124m'\u001b[39m, \u001b[38;5;124m'\u001b[39m\u001b[38;5;124mNum_nodes\u001b[39m\u001b[38;5;124m'\u001b[39m, \u001b[38;5;124m'\u001b[39m\u001b[38;5;124mNum_edges\u001b[39m\u001b[38;5;124m'\u001b[39m, \u001b[38;5;124m'\u001b[39m\u001b[38;5;124mPagerank\u001b[39m\u001b[38;5;124m'\u001b[39m,\u001b[38;5;124m'\u001b[39m\u001b[38;5;124mDessity\u001b[39m\u001b[38;5;124m'\u001b[39m, \u001b[38;5;124m'\u001b[39m\u001b[38;5;124mModularity\u001b[39m\u001b[38;5;124m'\u001b[39m,\n\u001b[1;32m    175\u001b[0m                      \u001b[38;5;124m'\u001b[39m\u001b[38;5;124mintra_weight\u001b[39m\u001b[38;5;124m'\u001b[39m,\u001b[38;5;124m'\u001b[39m\u001b[38;5;124mstr(inter_weight)\u001b[39m\u001b[38;5;124m'\u001b[39m,\u001b[38;5;124m'\u001b[39m\u001b[38;5;124mstr(num_communities)\u001b[39m\u001b[38;5;124m'\u001b[39m])\n\u001b[0;32m--> 176\u001b[0m \u001b[43mwriter\u001b[49m\u001b[38;5;241;43m.\u001b[39;49m\u001b[43mwriterows\u001b[49m\u001b[43m(\u001b[49m\u001b[43mindex_buffer\u001b[49m\u001b[43m)\u001b[49m\n\u001b[1;32m    178\u001b[0m \u001b[38;5;66;03m# Save adjacency matrix for the current week\u001b[39;00m\n\u001b[1;32m    179\u001b[0m timestamp_str \u001b[38;5;241m=\u001b[39m w\u001b[38;5;241m.\u001b[39mstrftime(\u001b[38;5;124m\"\u001b[39m\u001b[38;5;124m%\u001b[39m\u001b[38;5;124mY-\u001b[39m\u001b[38;5;124m%\u001b[39m\u001b[38;5;124mm-\u001b[39m\u001b[38;5;132;01m%d\u001b[39;00m\u001b[38;5;124m\"\u001b[39m)\n",
      "\u001b[0;31mOSError\u001b[0m: [Errno 28] No space left on device"
     ]
    }
   ],
   "source": [
    "import os\n",
    "os.chdir(r'/home/root_gdut/KDD2025/old/old')\n",
    "import pandas as pd\n",
    "import matplotlib.pyplot as plt\n",
    "import networkx as nx\n",
    "import datetime\n",
    "from sklearn.metrics.pairwise import cosine_similarity\n",
    "import re\n",
    "import numpy as np\n",
    "from sympy.abc import x\n",
    "from networkx.algorithms.community import greedy_modularity_communities, modularity\n",
    "from tqdm import tqdm\n",
    "from collections import deque\n",
    "import csv\n",
    "import community  # 添加python-louvain包\n",
    "\n",
    "def is_valid_id(tweet_id):\n",
    "    if pd.isna(tweet_id) or tweet_id == \"\" or not isinstance(tweet_id, (int, float)):\n",
    "        return False\n",
    "    return True\n",
    "\n",
    "def main2():\n",
    "    G = nx.DiGraph()\n",
    "    table = pd.read_csv(\"final_without_quotes.txt\", encoding='utf-8')\n",
    "    table = table.iloc[:, 1:]\n",
    "    \n",
    "    to_drop = []\n",
    "    for i in range(len(table)):\n",
    "        try:\n",
    "            table.loc[i, 'raw_value.created_at'] = pd.to_datetime(table.loc[i, 'raw_value.created_at'])\n",
    "        except:\n",
    "            to_drop.append(i)\n",
    "        if not isinstance(table.loc[i, 'raw_value.created_at'], datetime.datetime) or table.loc[i, 'raw_value.created_at'].tzinfo is not None:\n",
    "            to_drop.append(i)\n",
    "    table.drop(to_drop, inplace=True)\n",
    "    table['raw_value.created_at'].sort_values(ascending=True)\n",
    "    table.to_csv(\"final_without_quotes.txt\", encoding='utf-8')\n",
    "    table.index = table['raw_value.created_at']\n",
    "\n",
    "    users = {i: {} for i in set(table['raw_value.user_id_str'].values.tolist())}\n",
    "    makelist = {}\n",
    "    date_diff = 30\n",
    "    output_dir = \"degree\"\n",
    "    edge_timestamps = deque()\n",
    "    edge_lifetime = 30\n",
    "    index_buffer = []\n",
    "\n",
    "    for w, w_t in table.resample('D'):\n",
    "        if len(w_t) > 0:\n",
    "            for index, row in w_t.iterrows():\n",
    "                tweet_id = row['raw_value.id_str']\n",
    "                if row['raw_value.in_reply_to_status_id_str'] or row['raw_value.quoted_status_id_str']:\n",
    "                    this_data_datetime = row['raw_value.created_at']\n",
    "                    user_id = row['raw_value.user_id_str']\n",
    "                    if pd.isna(user_id) or user_id == \"\":\n",
    "                        continue\n",
    "                    G.add_node(tweet_id)\n",
    "                    for make_i in makelist.keys():\n",
    "                        diff = (this_data_datetime - makelist[make_i]['created_at']).days\n",
    "                        if diff < date_diff:\n",
    "                            # 处理回复关系\n",
    "                            if is_valid_id(row['raw_value.in_reply_to_status_id_str']):\n",
    "                                u = makelist[make_i]['id']\n",
    "                                v = row['raw_value.in_reply_to_status_id_str']\n",
    "                                if G.has_edge(u, v):\n",
    "                                    G[u][v]['weight'] += 1  # 权重累加\n",
    "                                else:\n",
    "                                    G.add_edge(u, v, weight=1, timestamp=this_data_datetime)\n",
    "                                edge_timestamps.append((u, v, this_data_datetime))\n",
    "                            \n",
    "                            # 处理引用关系\n",
    "                            if is_valid_id(row['raw_value.quoted_status_id_str']):\n",
    "                                u = makelist[make_i]['id']\n",
    "                                v = row['raw_value.quoted_status_id_str']\n",
    "                                if G.has_edge(u, v):\n",
    "                                    G[u][v]['weight'] += 1  # 权重累加\n",
    "                                else:\n",
    "                                    G.add_edge(u, v, weight=1, timestamp=this_data_datetime)\n",
    "                                edge_timestamps.append((u, v, this_data_datetime))\n",
    "\n",
    "                    if row['raw_value.user_id_str'] not in makelist:\n",
    "                        makelist[row['raw_value.user_id_str']] = {\n",
    "                            'userid': row['raw_value.user_id_str'],\n",
    "                            'id': tweet_id,\n",
    "                            'text': row['raw_value.full_text'],\n",
    "                            'reply': row['raw_value.in_reply_to_status_id_str'],\n",
    "                            'quoted': row['raw_value.quoted_status_id_str'],\n",
    "                            'cleantext': row['raw_value.full_text'],\n",
    "                            'created_at': row['raw_value.created_at']\n",
    "                        }\n",
    "\n",
    "            # 删除过期边和节点\n",
    "            while edge_timestamps and (w - edge_timestamps[0][2]).days > edge_lifetime:\n",
    "                edge_start, edge_end, timestamp = edge_timestamps.popleft()\n",
    "                if G.has_edge(edge_start, edge_end):\n",
    "                    G.remove_edge(edge_start, edge_end)\n",
    "                    if G.in_degree(edge_start) == 0 and G.out_degree(edge_start) == 0:\n",
    "                        G.remove_node(edge_start)\n",
    "                    if G.in_degree(edge_end) == 0 and G.out_degree(edge_end) == 0:\n",
    "                        G.remove_node(edge_end)\n",
    "\n",
    "            # 计算网络指标\n",
    "            if G.number_of_nodes() > 0:\n",
    "                # 度分布绘图代码保持不变...\n",
    "                \n",
    "                # 社区检测和统计\n",
    "                intra_weight = 0\n",
    "                inter_weight = 0\n",
    "                num_communities = 0\n",
    "                if G.number_of_edges() > 0:\n",
    "                    # 构建无向加权图\n",
    "                    undirected_G = nx.Graph()\n",
    "                    for u, v, data in G.edges(data=True):\n",
    "                        we = data.get('weight', 1)\n",
    "                        if undirected_G.has_edge(u, v):\n",
    "                            undirected_G[u][v]['weight'] += we\n",
    "                        else:\n",
    "                            undirected_G.add_edge(u, v, weight=we)\n",
    "                    \n",
    "                    # Louvain社区检测\n",
    "                    try:\n",
    "                        partition = community.best_partition(undirected_G, weight='weight')\n",
    "                        communities_dict = {}\n",
    "                        for node, comm_id in partition.items():\n",
    "                            communities_dict.setdefault(comm_id, set()).add(node)\n",
    "                        communities = list(communities_dict.values())\n",
    "                        num_communities = len(communities_dict)\n",
    "                        \n",
    "                        # 计算模块化分数\n",
    "                        modularity_score = community.modularity(partition, undirected_G, weight='weight') if undirected_G.edges() else 0\n",
    "                        \n",
    "                        # 统计社区内外权重\n",
    "                        for u, v, data in G.edges(data=True):\n",
    "                            comm_u = partition.get(u, -1)\n",
    "                            comm_v = partition.get(v, -1)\n",
    "                            if comm_u == comm_v and comm_u != -1:\n",
    "                                intra_weight += data.get('weight', 1)\n",
    "                            else:\n",
    "                                inter_weight += data.get('weight', 1)\n",
    "                    except Exception as e:\n",
    "                        print(f\"Community detection error: {e}\")\n",
    "                        modularity_score = 0\n",
    "                else:\n",
    "                    modularity_score = 0\n",
    "\n",
    "                # 其他指标计算...\n",
    "                q1 = G.number_of_nodes()\n",
    "                q2 = G.number_of_edges()\n",
    "                q3 = nx.pagerank(G, alpha=0.85)\n",
    "                q6 = nx.degree_assortativity_coefficient(G)\n",
    "                q4 = modularity_score\n",
    "\n",
    "                # 将结果加入缓存\n",
    "                index_buffer.append([\n",
    "                    str(w), str(q1), str(q2), str(q3), str(q6), str(q4),\n",
    "                    str(intra_weight), str(inter_weight), str(num_communities)\n",
    "                ])\n",
    "\n",
    "                # Write to CSV when buffer reaches a certain size (e.g., every 100 days)\n",
    "                if len(index_buffer) >= 100:\n",
    "                    with open('index.csv', 'a', newline='', encoding='utf-8') as f:\n",
    "                        writer = csv.writer(f)\n",
    "                        if f.tell() == 0:  # Check if file is empty to write headers\n",
    "                            writer.writerow(['Time', 'Num_nodes', 'Num_edges', 'Pagerank','Dessity', 'Modularity',\n",
    "                                             'intra_weight','str(inter_weight)','str(num_communities)'])\n",
    "                        writer.writerows(index_buffer)\n",
    "                    index_buffer.clear()  # Clear the buffer after writing\n",
    "\n",
    "        # Write any remaining data to the CSV file\n",
    "        if index_buffer:\n",
    "            with open('index.csv', 'a', newline='', encoding='utf-8') as f:\n",
    "                writer = csv.writer(f)\n",
    "                if f.tell() == 0:  # Check if file is empty to write headers\n",
    "                    writer.writerow(['Time', 'Num_nodes', 'Num_edges', 'Pagerank','Dessity', 'Modularity',\n",
    "                                     'intra_weight','str(inter_weight)','str(num_communities)'])\n",
    "                writer.writerows(index_buffer)\n",
    "    \n",
    "                # Save adjacency matrix for the current week\n",
    "                timestamp_str = w.strftime(\"%Y-%m-%d\")\n",
    "                adjacency_matrix = nx.adjacency_matrix(G).todense()\n",
    "                #pd.DataFrame(adjacency_matrix, index=G.nodes, columns=G.nodes).to_csv(f'G-{timestamp_str}.csv')\n",
    "\n",
    "    # Save final data to a text file\n",
    "    with open(\"normaldata2.txt\", \"w+\", encoding='utf-8') as f:\n",
    "        f.write(str(makelist))\n",
    "    # Save the final adjacency matrix\n",
    "    d = nx.adjacency_matrix(G).todense()\n",
    "    pd.DataFrame(d, index=G.nodes, columns=G.nodes).to_csv('G.csv')\n",
    "\n",
    "    return makelist\n",
    "\n",
    "\n",
    "\n",
    "if __name__ == '__main__':\n",
    "    print(datetime.datetime.now())\n",
    "    main2()"
   ]
  },
  {
   "cell_type": "code",
   "execution_count": 1,
   "id": "cb2fb162-a587-449c-9ff6-576a06a1a5eb",
   "metadata": {},
   "outputs": [
    {
     "name": "stdout",
     "output_type": "stream",
     "text": [
      "2025-02-03 17:17:00.633355\n"
     ]
    },
    {
     "name": "stderr",
     "output_type": "stream",
     "text": [
      "/home/root_gdut/miniconda3/envs/network/lib/python3.9/site-packages/pandas/core/indexes/base.py:7631: FutureWarning: Dtype inference on a pandas object (Series, Index, ExtensionArray) is deprecated. The Index constructor will keep the original dtype in the future. Call `infer_objects` on the result to get the old behavior.\n",
      "  return Index(index_like, name=name, copy=copy)\n",
      "删除过期节点: 0节点 [00:00, ?节点/s]\n",
      "删除过期节点: 0节点 [00:00, ?节点/s]\n",
      "删除过期节点: 0节点 [00:00, ?节点/s]\n",
      "删除过期节点: 0节点 [00:00, ?节点/s]\n",
      "删除过期节点: 0节点 [00:00, ?节点/s]\n",
      "删除过期节点: 0节点 [00:00, ?节点/s]\n",
      "删除过期节点: 0节点 [00:00, ?节点/s]\n",
      "删除过期节点: 0节点 [00:00, ?节点/s]\n",
      "删除过期节点: 0节点 [00:00, ?节点/s]\n",
      "删除过期节点: 0节点 [00:00, ?节点/s]\n",
      "删除过期节点: 0节点 [00:00, ?节点/s]\n",
      "删除过期节点: 0节点 [00:00, ?节点/s]\n",
      "删除过期节点: 0节点 [00:00, ?节点/s]\n",
      "删除过期节点: 0节点 [00:00, ?节点/s]\n",
      "删除过期节点: 0节点 [00:00, ?节点/s]\n",
      "删除过期节点: 0节点 [00:00, ?节点/s]\n",
      "删除过期节点: 0节点 [00:00, ?节点/s]\n",
      "删除过期节点: 0节点 [00:00, ?节点/s]\n",
      "删除过期节点: 0节点 [00:00, ?节点/s]\n",
      "删除过期节点: 0节点 [00:00, ?节点/s]\n",
      "删除过期节点: 0节点 [00:00, ?节点/s]\n",
      "删除过期节点: 0节点 [00:00, ?节点/s]\n",
      "删除过期节点: 0节点 [00:00, ?节点/s]\n",
      "删除过期节点: 0节点 [00:00, ?节点/s]\n",
      "删除过期节点: 0节点 [00:00, ?节点/s]\n",
      "删除过期节点: 0节点 [00:00, ?节点/s]\n",
      "删除过期节点: 0节点 [00:00, ?节点/s]\n",
      "删除过期节点: 0节点 [00:00, ?节点/s]\n",
      "删除过期节点: 0节点 [00:00, ?节点/s]\n",
      "删除过期节点: 0节点 [00:00, ?节点/s]\n",
      "删除过期节点: 0节点 [00:00, ?节点/s]\n",
      "删除过期节点: 0节点 [00:00, ?节点/s]\n",
      "删除过期节点: 0节点 [00:00, ?节点/s]\n",
      "删除过期节点: 0节点 [00:00, ?节点/s]\n",
      "删除过期节点: 0节点 [00:00, ?节点/s]\n",
      "删除过期节点: 0节点 [00:00, ?节点/s]\n",
      "删除过期节点: 0节点 [00:00, ?节点/s]\n",
      "删除过期节点: 0节点 [00:00, ?节点/s]\n",
      "删除过期节点: 0节点 [00:00, ?节点/s]\n",
      "删除过期节点: 0节点 [00:00, ?节点/s]\n",
      "删除过期节点: 0节点 [00:00, ?节点/s]\n",
      "删除过期节点: 0节点 [00:00, ?节点/s]\n",
      "删除过期节点: 0节点 [00:00, ?节点/s]\n",
      "删除过期节点: 0节点 [00:00, ?节点/s]\n",
      "删除过期节点: 0节点 [00:00, ?节点/s]\n",
      "删除过期节点: 0节点 [00:00, ?节点/s]\n",
      "删除过期节点: 0节点 [00:00, ?节点/s]\n",
      "删除过期节点: 0节点 [00:00, ?节点/s]\n",
      "删除过期节点: 0节点 [00:00, ?节点/s]\n",
      "删除过期节点: 0节点 [00:00, ?节点/s]\n",
      "删除过期节点: 0节点 [00:00, ?节点/s]\n",
      "删除过期节点: 0节点 [00:00, ?节点/s]\n",
      "删除过期节点: 0节点 [00:00, ?节点/s]\n",
      "删除过期节点: 0节点 [00:00, ?节点/s]\n",
      "删除过期节点: 0节点 [00:00, ?节点/s]\n",
      "删除过期节点: 0节点 [00:00, ?节点/s]\n",
      "删除过期节点: 0节点 [00:00, ?节点/s]\n",
      "删除过期节点: 0节点 [00:00, ?节点/s]\n",
      "删除过期节点: 0节点 [00:00, ?节点/s]\n",
      "删除过期节点: 0节点 [00:00, ?节点/s]\n",
      "删除过期节点: 0节点 [00:00, ?节点/s]\n",
      "删除过期节点: 0节点 [00:00, ?节点/s]\n",
      "删除过期节点: 0节点 [00:00, ?节点/s]\n",
      "删除过期节点: 0节点 [00:00, ?节点/s]\n",
      "删除过期节点: 0节点 [00:00, ?节点/s]\n",
      "删除过期节点: 0节点 [00:00, ?节点/s]\n",
      "删除过期节点: 0节点 [00:00, ?节点/s]\n",
      "删除过期节点: 0节点 [00:00, ?节点/s]\n",
      "删除过期节点: 0节点 [00:00, ?节点/s]\n",
      "删除过期节点: 0节点 [00:00, ?节点/s]\n",
      "删除过期节点: 0节点 [00:00, ?节点/s]\n",
      "删除过期节点: 0节点 [00:00, ?节点/s]\n",
      "删除过期节点: 0节点 [00:00, ?节点/s]\n",
      "删除过期节点: 0节点 [00:00, ?节点/s]\n",
      "删除过期节点: 0节点 [00:00, ?节点/s]\n",
      "删除过期节点: 0节点 [00:00, ?节点/s]\n",
      "删除过期节点: 0节点 [00:00, ?节点/s]\n",
      "删除过期节点: 0节点 [00:00, ?节点/s]\n",
      "删除过期节点: 0节点 [00:00, ?节点/s]\n",
      "删除过期节点: 0节点 [00:00, ?节点/s]\n",
      "删除过期节点: 0节点 [00:00, ?节点/s]\n",
      "删除过期节点: 0节点 [00:00, ?节点/s]\n",
      "删除过期节点: 0节点 [00:00, ?节点/s]\n",
      "删除过期节点: 0节点 [00:00, ?节点/s]\n",
      "删除过期节点: 0节点 [00:00, ?节点/s]\n",
      "删除过期节点: 0节点 [00:00, ?节点/s]\n",
      "删除过期节点: 0节点 [00:00, ?节点/s]\n",
      "删除过期节点: 0节点 [00:00, ?节点/s]\n"
     ]
    },
    {
     "name": "stdout",
     "output_type": "stream",
     "text": [
      "已删除边：(1414494418569158912, 1.4234582977099407e+18)  (时间差超过 30 天)\n",
      "已删除边：(1418840135500697600, 1.4234582977099407e+18)  (时间差超过 30 天)\n",
      "已删除边：(1414494418569158912, 1.4234583792346276e+18)  (时间差超过 30 天)\n",
      "已删除边：(1418840135500697600, 1.4234583792346276e+18)  (时间差超过 30 天)\n",
      "已删除边：(1414494418569158912, 1.4234584834085396e+18)  (时间差超过 30 天)\n",
      "已删除边：(1418840135500697600, 1.4234584834085396e+18)  (时间差超过 30 天)\n"
     ]
    },
    {
     "name": "stderr",
     "output_type": "stream",
     "text": [
      "删除过期节点: 100%|██████████████████████████████████████████████████████████████████████████████████████████████████████████████████████████████████████████████| 5/5 [00:00<00:00, 21799.92节点/s]\n"
     ]
    },
    {
     "name": "stdout",
     "output_type": "stream",
     "text": [
      "已删除节点：1414494418569158912  (时间差超过 30 天)\n",
      "已删除节点：1.4234582977099407e+18  (时间差超过 30 天)\n",
      "已删除节点：1418840135500697600  (时间差超过 30 天)\n",
      "已删除节点：1.4234584834085396e+18  (时间差超过 30 天)\n",
      "已删除节点：1.4234583792346276e+18  (时间差超过 30 天)\n"
     ]
    },
    {
     "name": "stderr",
     "output_type": "stream",
     "text": [
      "删除过期节点: 0节点 [00:00, ?节点/s]\n",
      "删除过期节点: 0节点 [00:00, ?节点/s]\n",
      "删除过期节点: 0节点 [00:00, ?节点/s]\n",
      "删除过期节点: 0节点 [00:00, ?节点/s]\n",
      "删除过期节点: 0节点 [00:00, ?节点/s]\n",
      "删除过期节点: 0节点 [00:00, ?节点/s]\n",
      "删除过期节点: 0节点 [00:00, ?节点/s]\n",
      "删除过期节点: 0节点 [00:00, ?节点/s]\n",
      "删除过期节点: 0节点 [00:00, ?节点/s]\n",
      "删除过期节点: 0节点 [00:00, ?节点/s]\n",
      "删除过期节点: 0节点 [00:00, ?节点/s]\n",
      "删除过期节点: 0节点 [00:00, ?节点/s]\n",
      "删除过期节点: 0节点 [00:00, ?节点/s]\n",
      "删除过期节点: 0节点 [00:00, ?节点/s]\n",
      "删除过期节点: 0节点 [00:00, ?节点/s]\n",
      "删除过期节点: 0节点 [00:00, ?节点/s]\n",
      "删除过期节点: 0节点 [00:00, ?节点/s]\n",
      "删除过期节点: 0节点 [00:00, ?节点/s]\n",
      "删除过期节点: 0节点 [00:00, ?节点/s]\n",
      "删除过期节点: 0节点 [00:00, ?节点/s]\n"
     ]
    },
    {
     "name": "stdout",
     "output_type": "stream",
     "text": [
      "已删除边：(1424312683277426688, 1.4298618100233175e+18)  (时间差超过 30 天)\n",
      "已删除边：(1424816751091453952, 1.4298618100233175e+18)  (时间差超过 30 天)\n",
      "已删除边：(1427648315177508864, 1.4298618100233175e+18)  (时间差超过 30 天)\n"
     ]
    },
    {
     "name": "stderr",
     "output_type": "stream",
     "text": [
      "删除过期节点: 100%|██████████████████████████████████████████████████████████████████████████████████████████████████████████████████████████████████████████████| 4/4 [00:00<00:00, 26051.58节点/s]\n"
     ]
    },
    {
     "name": "stdout",
     "output_type": "stream",
     "text": [
      "已删除节点：1424312683277426688  (时间差超过 30 天)\n",
      "已删除节点：1.4298618100233175e+18  (时间差超过 30 天)\n",
      "已删除节点：1424816751091453952  (时间差超过 30 天)\n",
      "已删除节点：1427648315177508864  (时间差超过 30 天)\n"
     ]
    },
    {
     "name": "stderr",
     "output_type": "stream",
     "text": [
      "删除过期节点: 0节点 [00:00, ?节点/s]\n",
      "删除过期节点: 0节点 [00:00, ?节点/s]\n"
     ]
    },
    {
     "name": "stdout",
     "output_type": "stream",
     "text": [
      "已删除边：(1431666473773113088, 1.432067489546969e+18)  (时间差超过 30 天)\n"
     ]
    },
    {
     "name": "stderr",
     "output_type": "stream",
     "text": [
      "删除过期节点: 100%|██████████████████████████████████████████████████████████████████████████████████████████████████████████████████████████████████████████████| 2/2 [00:00<00:00, 16743.73节点/s]\n"
     ]
    },
    {
     "name": "stdout",
     "output_type": "stream",
     "text": [
      "已删除节点：1431666473773113088  (时间差超过 30 天)\n",
      "已删除节点：1.432067489546969e+18  (时间差超过 30 天)\n"
     ]
    },
    {
     "name": "stderr",
     "output_type": "stream",
     "text": [
      "删除过期节点: 0节点 [00:00, ?节点/s]\n"
     ]
    },
    {
     "name": "stdout",
     "output_type": "stream",
     "text": [
      "已删除边：(1432484665085005824, 1.4329996788328243e+18)  (时间差超过 30 天)\n",
      "已删除边：(1432484665085005824, 1.4329996826371318e+18)  (时间差超过 30 天)\n",
      "已删除边：(1432484665085005824, 1.43299968652945e+18)  (时间差超过 30 天)\n"
     ]
    },
    {
     "name": "stderr",
     "output_type": "stream",
     "text": [
      "删除过期节点: 100%|██████████████████████████████████████████████████████████████████████████████████████████████████████████████████████████████████████████████| 4/4 [00:00<00:00, 21024.08节点/s]\n"
     ]
    },
    {
     "name": "stdout",
     "output_type": "stream",
     "text": [
      "已删除节点：1432484665085005824  (时间差超过 30 天)\n",
      "已删除节点：1.4329996788328243e+18  (时间差超过 30 天)\n",
      "已删除节点：1.4329996826371318e+18  (时间差超过 30 天)\n",
      "已删除节点：1.43299968652945e+18  (时间差超过 30 天)\n"
     ]
    },
    {
     "name": "stderr",
     "output_type": "stream",
     "text": [
      "删除过期节点: 0节点 [00:00, ?节点/s]\n",
      "删除过期节点: 0节点 [00:00, ?节点/s]\n"
     ]
    },
    {
     "name": "stdout",
     "output_type": "stream",
     "text": [
      "已删除边：(1433867110376095488, 1.4235201045416796e+18)  (时间差超过 30 天)\n"
     ]
    },
    {
     "name": "stderr",
     "output_type": "stream",
     "text": [
      "删除过期节点: 100%|██████████████████████████████████████████████████████████████████████████████████████████████████████████████████████████████████████████████| 2/2 [00:00<00:00, 12710.01节点/s]\n"
     ]
    },
    {
     "name": "stdout",
     "output_type": "stream",
     "text": [
      "已删除节点：1433867110376095488  (时间差超过 30 天)\n",
      "已删除节点：1.4235201045416796e+18  (时间差超过 30 天)\n"
     ]
    },
    {
     "name": "stderr",
     "output_type": "stream",
     "text": [
      "删除过期节点: 0节点 [00:00, ?节点/s]\n",
      "删除过期节点: 0节点 [00:00, ?节点/s]\n",
      "删除过期节点: 0节点 [00:00, ?节点/s]\n"
     ]
    },
    {
     "name": "stdout",
     "output_type": "stream",
     "text": [
      "已删除边：(1435259201735970816, 1.435493075661439e+18)  (时间差超过 30 天)\n",
      "已删除边：(1435259201735970816, 1.435493078589055e+18)  (时间差超过 30 天)\n",
      "已删除边：(1435259201735970816, 1.4354930815754117e+18)  (时间差超过 30 天)\n"
     ]
    },
    {
     "name": "stderr",
     "output_type": "stream",
     "text": [
      "删除过期节点: 100%|██████████████████████████████████████████████████████████████████████████████████████████████████████████████████████████████████████████████| 4/4 [00:00<00:00, 25191.02节点/s]\n"
     ]
    },
    {
     "name": "stdout",
     "output_type": "stream",
     "text": [
      "已删除节点：1435259201735970816  (时间差超过 30 天)\n",
      "已删除节点：1.435493075661439e+18  (时间差超过 30 天)\n",
      "已删除节点：1.4354930815754117e+18  (时间差超过 30 天)\n",
      "已删除节点：1.435493078589055e+18  (时间差超过 30 天)\n"
     ]
    },
    {
     "name": "stderr",
     "output_type": "stream",
     "text": [
      "删除过期节点: 0节点 [00:00, ?节点/s]\n",
      "删除过期节点: 0节点 [00:00, ?节点/s]\n",
      "删除过期节点: 0节点 [00:00, ?节点/s]\n",
      "删除过期节点: 0节点 [00:00, ?节点/s]\n",
      "删除过期节点: 0节点 [00:00, ?节点/s]\n",
      "删除过期节点: 0节点 [00:00, ?节点/s]\n",
      "删除过期节点: 0节点 [00:00, ?节点/s]\n"
     ]
    },
    {
     "name": "stdout",
     "output_type": "stream",
     "text": [
      "已删除边：(1436472456743727104, 1.435521155637465e+18)  (时间差超过 30 天)\n"
     ]
    },
    {
     "name": "stderr",
     "output_type": "stream",
     "text": [
      "删除过期节点: 100%|██████████████████████████████████████████████████████████████████████████████████████████████████████████████████████████████████████████████| 2/2 [00:00<00:00, 17734.90节点/s]\n"
     ]
    },
    {
     "name": "stdout",
     "output_type": "stream",
     "text": [
      "已删除节点：1436472456743727104  (时间差超过 30 天)\n",
      "已删除节点：1.435521155637465e+18  (时间差超过 30 天)\n"
     ]
    },
    {
     "name": "stderr",
     "output_type": "stream",
     "text": [
      "删除过期节点: 0节点 [00:00, ?节点/s]\n",
      "删除过期节点: 0节点 [00:00, ?节点/s]\n",
      "删除过期节点: 0节点 [00:00, ?节点/s]\n",
      "删除过期节点: 0节点 [00:00, ?节点/s]\n",
      "删除过期节点: 0节点 [00:00, ?节点/s]\n",
      "删除过期节点: 0节点 [00:00, ?节点/s]\n",
      "删除过期节点: 0节点 [00:00, ?节点/s]\n",
      "删除过期节点: 0节点 [00:00, ?节点/s]\n",
      "删除过期节点: 0节点 [00:00, ?节点/s]\n",
      "删除过期节点: 0节点 [00:00, ?节点/s]\n"
     ]
    },
    {
     "name": "stdout",
     "output_type": "stream",
     "text": [
      "已删除边：(1438617161212170240, 1.4421976281926246e+18)  (时间差超过 30 天)\n",
      "已删除边：(1438863008734740480, 1.4421976281926246e+18)  (时间差超过 30 天)\n",
      "已删除边：(1439586722883379200, 1.4421976281926246e+18)  (时间差超过 30 天)\n"
     ]
    },
    {
     "name": "stderr",
     "output_type": "stream",
     "text": [
      "删除过期节点: 100%|██████████████████████████████████████████████████████████████████████████████████████████████████████████████████████████████████████████████| 4/4 [00:00<00:00, 33621.68节点/s]\n"
     ]
    },
    {
     "name": "stdout",
     "output_type": "stream",
     "text": [
      "已删除节点：1438617161212170240  (时间差超过 30 天)\n",
      "已删除节点：1.4421976281926246e+18  (时间差超过 30 天)\n",
      "已删除节点：1439586722883379200  (时间差超过 30 天)\n",
      "已删除节点：1438863008734740480  (时间差超过 30 天)\n"
     ]
    },
    {
     "name": "stderr",
     "output_type": "stream",
     "text": [
      "删除过期节点: 0节点 [00:00, ?节点/s]\n",
      "删除过期节点: 0节点 [00:00, ?节点/s]\n",
      "删除过期节点: 0节点 [00:00, ?节点/s]\n",
      "删除过期节点: 0节点 [00:00, ?节点/s]\n",
      "删除过期节点: 0节点 [00:00, ?节点/s]\n"
     ]
    },
    {
     "name": "stdout",
     "output_type": "stream",
     "text": [
      "已删除边：(1443228874280775680, 1.4443356077784023e+18)  (时间差超过 30 天)\n",
      "已删除边：(1443716303357820928, 1.4443356077784023e+18)  (时间差超过 30 天)\n"
     ]
    },
    {
     "name": "stderr",
     "output_type": "stream",
     "text": [
      "删除过期节点: 100%|██████████████████████████████████████████████████████████████████████████████████████████████████████████████████████████████████████████████| 3/3 [00:00<00:00, 22231.29节点/s]"
     ]
    },
    {
     "name": "stdout",
     "output_type": "stream",
     "text": [
      "已删除节点：1443228874280775680  (时间差超过 30 天)\n",
      "已删除节点：1.4443356077784023e+18  (时间差超过 30 天)\n",
      "已删除节点：1443716303357820928  (时间差超过 30 天)\n"
     ]
    },
    {
     "name": "stderr",
     "output_type": "stream",
     "text": [
      "\n",
      "删除过期节点: 0节点 [00:00, ?节点/s]\n",
      "删除过期节点: 0节点 [00:00, ?节点/s]\n",
      "删除过期节点: 0节点 [00:00, ?节点/s]\n",
      "删除过期节点: 0节点 [00:00, ?节点/s]\n",
      "删除过期节点: 0节点 [00:00, ?节点/s]\n"
     ]
    },
    {
     "name": "stdout",
     "output_type": "stream",
     "text": [
      "已删除边：(1444642253603938304, 1.446727148727767e+18)  (时间差超过 30 天)\n",
      "已删除边：(1444642253603938304, 1.4467271509465088e+18)  (时间差超过 30 天)\n"
     ]
    },
    {
     "name": "stderr",
     "output_type": "stream",
     "text": [
      "删除过期节点: 100%|██████████████████████████████████████████████████████████████████████████████████████████████████████████████████████████████████████████████| 3/3 [00:00<00:00, 23696.63节点/s]\n"
     ]
    },
    {
     "name": "stdout",
     "output_type": "stream",
     "text": [
      "已删除节点：1444642253603938304  (时间差超过 30 天)\n",
      "已删除节点：1.446727148727767e+18  (时间差超过 30 天)\n",
      "已删除节点：1.4467271509465088e+18  (时间差超过 30 天)\n"
     ]
    },
    {
     "name": "stderr",
     "output_type": "stream",
     "text": [
      "删除过期节点: 0节点 [00:00, ?节点/s]\n",
      "删除过期节点: 0节点 [00:00, ?节点/s]\n",
      "删除过期节点: 0节点 [00:00, ?节点/s]\n",
      "删除过期节点: 0节点 [00:00, ?节点/s]\n",
      "删除过期节点: 0节点 [00:00, ?节点/s]\n",
      "删除过期节点: 0节点 [00:00, ?节点/s]\n"
     ]
    },
    {
     "name": "stdout",
     "output_type": "stream",
     "text": [
      "已删除边：(1449033065360080896, 1.4492155599842386e+18)  (时间差超过 30 天)\n",
      "已删除边：(1449033065360080896, 1.4489670905311478e+18)  (时间差超过 30 天)\n",
      "已删除边：(1449033065360080896, 1.4492954374001992e+18)  (时间差超过 30 天)\n"
     ]
    },
    {
     "name": "stderr",
     "output_type": "stream",
     "text": [
      "删除过期节点: 100%|██████████████████████████████████████████████████████████████████████████████████████████████████████████████████████████████████████████████| 4/4 [00:00<00:00, 22857.24节点/s]\n"
     ]
    },
    {
     "name": "stdout",
     "output_type": "stream",
     "text": [
      "已删除节点：1449033065360080896  (时间差超过 30 天)\n",
      "已删除节点：1.4492155599842386e+18  (时间差超过 30 天)\n",
      "已删除节点：1.4492954374001992e+18  (时间差超过 30 天)\n",
      "已删除节点：1.4489670905311478e+18  (时间差超过 30 天)\n"
     ]
    },
    {
     "name": "stderr",
     "output_type": "stream",
     "text": [
      "删除过期节点: 0节点 [00:00, ?节点/s]\n",
      "删除过期节点: 0节点 [00:00, ?节点/s]\n"
     ]
    },
    {
     "name": "stdout",
     "output_type": "stream",
     "text": [
      "已删除边：(1450081075766522112, 1.450290764525699e+18)  (时间差超过 30 天)\n",
      "已删除边：(1450081075766522112, 1.450303619455017e+18)  (时间差超过 30 天)\n",
      "已删除边：(1450081075766522112, 1.450372769951019e+18)  (时间差超过 30 天)\n",
      "已删除边：(1450081075766522112, 1.450390861473223e+18)  (时间差超过 30 天)\n",
      "已删除边：(1450081075766522112, 1.450448391666733e+18)  (时间差超过 30 天)\n"
     ]
    },
    {
     "name": "stderr",
     "output_type": "stream",
     "text": [
      "删除过期节点: 100%|██████████████████████████████████████████████████████████████████████████████████████████████████████████████████████████████████████████████| 6/6 [00:00<00:00, 28728.11节点/s]"
     ]
    },
    {
     "name": "stdout",
     "output_type": "stream",
     "text": [
      "已删除节点：1450081075766522112  (时间差超过 30 天)\n",
      "已删除节点：1.450290764525699e+18  (时间差超过 30 天)\n",
      "已删除节点：1.450372769951019e+18  (时间差超过 30 天)\n",
      "已删除节点：1.450390861473223e+18  (时间差超过 30 天)\n",
      "已删除节点：1.450303619455017e+18  (时间差超过 30 天)\n",
      "已删除节点：1.450448391666733e+18  (时间差超过 30 天)\n"
     ]
    },
    {
     "name": "stderr",
     "output_type": "stream",
     "text": [
      "\n",
      "删除过期节点: 0节点 [00:00, ?节点/s]\n",
      "删除过期节点: 0节点 [00:00, ?节点/s]\n",
      "删除过期节点: 0节点 [00:00, ?节点/s]\n"
     ]
    },
    {
     "name": "stdout",
     "output_type": "stream",
     "text": [
      "已删除边：(1451694254984626176, 1.451916993410437e+18)  (时间差超过 30 天)\n"
     ]
    },
    {
     "name": "stderr",
     "output_type": "stream",
     "text": [
      "删除过期节点: 100%|██████████████████████████████████████████████████████████████████████████████████████████████████████████████████████████████████████████████| 2/2 [00:00<00:00, 10658.97节点/s]\n"
     ]
    },
    {
     "name": "stdout",
     "output_type": "stream",
     "text": [
      "已删除节点：1451694254984626176  (时间差超过 30 天)\n",
      "已删除节点：1.451916993410437e+18  (时间差超过 30 天)\n"
     ]
    },
    {
     "name": "stderr",
     "output_type": "stream",
     "text": [
      "删除过期节点: 0节点 [00:00, ?节点/s]\n",
      "删除过期节点: 0节点 [00:00, ?节点/s]\n",
      "删除过期节点: 0节点 [00:00, ?节点/s]\n",
      "删除过期节点: 0节点 [00:00, ?节点/s]\n",
      "删除过期节点: 0节点 [00:00, ?节点/s]\n",
      "删除过期节点: 0节点 [00:00, ?节点/s]\n",
      "删除过期节点: 0节点 [00:00, ?节点/s]\n"
     ]
    },
    {
     "name": "stdout",
     "output_type": "stream",
     "text": [
      "已删除边：(1454572547656216576, 1.454602251469656e+18)  (时间差超过 30 天)\n",
      "已删除边：(1454572547656216576, 1.454603881820803e+18)  (时间差超过 30 天)\n",
      "已删除边：(1454572547656216576, 1.4545715092052582e+18)  (时间差超过 30 天)\n",
      "已删除边：(1454572547656216576, 1.4546220322855035e+18)  (时间差超过 30 天)\n",
      "已删除边：(1454572547656216576, 1.4546220338835003e+18)  (时间差超过 30 天)\n",
      "已删除边：(1454572547656216576, 1.454622035598971e+18)  (时间差超过 30 天)\n",
      "已删除边：(1454572547656216576, 1.4545540685343007e+18)  (时间差超过 30 天)\n",
      "已删除边：(1454572547656216576, 1.4546458832748175e+18)  (时间差超过 30 天)\n",
      "已删除边：(1454572547656216576, 1.454687582546133e+18)  (时间差超过 30 天)\n",
      "已删除边：(1454572547656216576, 1.4546875863754547e+18)  (时间差超过 30 天)\n",
      "已删除边：(1454572547656216576, 1.4546875846599926e+18)  (时间差超过 30 天)\n",
      "已删除边：(1454572547656216576, 1.4547120460213207e+18)  (时间差超过 30 天)\n",
      "已删除边：(1454572547656216576, 1.454672204403077e+18)  (时间差超过 30 天)\n",
      "已删除边：(1454572547656216576, 1.4547681686190203e+18)  (时间差超过 30 天)\n",
      "已删除边：(1454572547656216576, 1.454833355602555e+18)  (时间差超过 30 天)\n"
     ]
    },
    {
     "name": "stderr",
     "output_type": "stream",
     "text": [
      "删除过期节点: 100%|████████████████████████████████████████████████████████████████████████████████████████████████████████████████████████████████████████████| 16/16 [00:00<00:00, 48037.84节点/s]"
     ]
    },
    {
     "name": "stdout",
     "output_type": "stream",
     "text": [
      "已删除节点：1454572547656216576  (时间差超过 30 天)\n",
      "已删除节点：1.454602251469656e+18  (时间差超过 30 天)\n",
      "已删除节点：1.454603881820803e+18  (时间差超过 30 天)\n",
      "已删除节点：1.4545715092052582e+18  (时间差超过 30 天)\n",
      "已删除节点：1.4546220322855035e+18  (时间差超过 30 天)\n",
      "已删除节点：1.4546220338835003e+18  (时间差超过 30 天)\n",
      "已删除节点：1.454622035598971e+18  (时间差超过 30 天)\n",
      "已删除节点：1.4545540685343007e+18  (时间差超过 30 天)\n",
      "已删除节点：1.4546458832748175e+18  (时间差超过 30 天)\n",
      "已删除节点：1.454687582546133e+18  (时间差超过 30 天)\n",
      "已删除节点：1.4546875863754547e+18  (时间差超过 30 天)\n",
      "已删除节点：1.4546875846599926e+18  (时间差超过 30 天)\n",
      "已删除节点：1.4547681686190203e+18  (时间差超过 30 天)\n",
      "已删除节点：1.4547120460213207e+18  (时间差超过 30 天)\n",
      "已删除节点：1.454672204403077e+18  (时间差超过 30 天)\n",
      "已删除节点：1.454833355602555e+18  (时间差超过 30 天)\n"
     ]
    },
    {
     "name": "stderr",
     "output_type": "stream",
     "text": [
      "\n",
      "删除过期节点: 0节点 [00:00, ?节点/s]\n",
      "删除过期节点: 0节点 [00:00, ?节点/s]\n",
      "删除过期节点: 0节点 [00:00, ?节点/s]\n"
     ]
    },
    {
     "name": "stdout",
     "output_type": "stream",
     "text": [
      "已删除边：(1456046958641090560, 1.456101220620198e+18)  (时间差超过 30 天)\n",
      "已删除边：(1456046958641090560, 1.456101225162625e+18)  (时间差超过 30 天)\n",
      "已删除边：(1456046958641090560, 1.4561022806969836e+18)  (时间差超过 30 天)\n",
      "已删除边：(1456046958641090560, 1.4561065340819415e+18)  (时间差超过 30 天)\n",
      "已删除边：(1456046958641090560, 1.4562481582588232e+18)  (时间差超过 30 天)\n"
     ]
    },
    {
     "name": "stderr",
     "output_type": "stream",
     "text": [
      "删除过期节点: 100%|██████████████████████████████████████████████████████████████████████████████████████████████████████████████████████████████████████████████| 6/6 [00:00<00:00, 25784.66节点/s]\n"
     ]
    },
    {
     "name": "stdout",
     "output_type": "stream",
     "text": [
      "已删除节点：1456046958641090560  (时间差超过 30 天)\n",
      "已删除节点：1.456101220620198e+18  (时间差超过 30 天)\n",
      "已删除节点：1.456101225162625e+18  (时间差超过 30 天)\n",
      "已删除节点：1.4561022806969836e+18  (时间差超过 30 天)\n",
      "已删除节点：1.4561065340819415e+18  (时间差超过 30 天)\n",
      "已删除节点：1.4562481582588232e+18  (时间差超过 30 天)\n"
     ]
    },
    {
     "name": "stderr",
     "output_type": "stream",
     "text": [
      "删除过期节点: 0节点 [00:00, ?节点/s]\n",
      "删除过期节点: 0节点 [00:00, ?节点/s]\n",
      "删除过期节点: 0节点 [00:00, ?节点/s]\n"
     ]
    },
    {
     "name": "stdout",
     "output_type": "stream",
     "text": [
      "已删除边：(1457493785059868672, 1.4575353535695135e+18)  (时间差超过 30 天)\n",
      "已删除边：(1457493785059868672, 1.457537223637672e+18)  (时间差超过 30 天)\n",
      "已删除边：(1457493785059868672, 1.4575372271189563e+18)  (时间差超过 30 天)\n",
      "已删除边：(1457493785059868672, 1.4575372289560617e+18)  (时间差超过 30 天)\n",
      "已删除边：(1457493785059868672, 1.4574622405760983e+18)  (时间差超过 30 天)\n",
      "已删除边：(1457493785059868672, 1.4576567003375985e+18)  (时间差超过 30 天)\n"
     ]
    },
    {
     "name": "stderr",
     "output_type": "stream",
     "text": [
      "删除过期节点: 100%|██████████████████████████████████████████████████████████████████████████████████████████████████████████████████████████████████████████████| 7/7 [00:00<00:00, 29928.77节点/s]\n"
     ]
    },
    {
     "name": "stdout",
     "output_type": "stream",
     "text": [
      "已删除节点：1457493785059868672  (时间差超过 30 天)\n",
      "已删除节点：1.4575353535695135e+18  (时间差超过 30 天)\n",
      "已删除节点：1.4575372289560617e+18  (时间差超过 30 天)\n",
      "已删除节点：1.4575372271189563e+18  (时间差超过 30 天)\n",
      "已删除节点：1.457537223637672e+18  (时间差超过 30 天)\n",
      "已删除节点：1.4574622405760983e+18  (时间差超过 30 天)\n",
      "已删除节点：1.4576567003375985e+18  (时间差超过 30 天)\n"
     ]
    },
    {
     "name": "stderr",
     "output_type": "stream",
     "text": [
      "删除过期节点: 0节点 [00:00, ?节点/s]\n",
      "删除过期节点: 0节点 [00:00, ?节点/s]\n",
      "删除过期节点: 0节点 [00:00, ?节点/s]\n",
      "删除过期节点: 0节点 [00:00, ?节点/s]\n"
     ]
    },
    {
     "name": "stdout",
     "output_type": "stream",
     "text": [
      "已删除边：(1459298204231794688, 1.459392284122751e+18)  (时间差超过 30 天)\n",
      "已删除边：(1459298204231794688, 1.459392397356331e+18)  (时间差超过 30 天)\n",
      "已删除边：(1459298204231794688, 1.4594044580230144e+18)  (时间差超过 30 天)\n",
      "已删除边：(1459298204231794688, 1.4569798350001684e+18)  (时间差超过 30 天)\n",
      "已删除边：(1459298204231794688, 1.4593999630545265e+18)  (时间差超过 30 天)\n",
      "已删除边：(1459298204231794688, 1.4594961356770222e+18)  (时间差超过 30 天)\n",
      "已删除边：(1459298204231794688, 1.4594961405507748e+18)  (时间差超过 30 天)\n",
      "已删除边：(1459298204231794688, 1.4596573287231242e+18)  (时间差超过 30 天)\n"
     ]
    },
    {
     "name": "stderr",
     "output_type": "stream",
     "text": [
      "删除过期节点: 100%|██████████████████████████████████████████████████████████████████████████████████████████████████████████████████████████████████████████████| 9/9 [00:00<00:00, 36472.21节点/s]"
     ]
    },
    {
     "name": "stdout",
     "output_type": "stream",
     "text": [
      "已删除节点：1459298204231794688  (时间差超过 30 天)\n",
      "已删除节点：1.459392284122751e+18  (时间差超过 30 天)\n",
      "已删除节点：1.459392397356331e+18  (时间差超过 30 天)\n",
      "已删除节点：1.4594044580230144e+18  (时间差超过 30 天)\n",
      "已删除节点：1.4569798350001684e+18  (时间差超过 30 天)\n",
      "已删除节点：1.4593999630545265e+18  (时间差超过 30 天)\n",
      "已删除节点：1.4594961356770222e+18  (时间差超过 30 天)\n",
      "已删除节点：1.4594961405507748e+18  (时间差超过 30 天)\n",
      "已删除节点：1.4596573287231242e+18  (时间差超过 30 天)\n"
     ]
    },
    {
     "name": "stderr",
     "output_type": "stream",
     "text": [
      "\n",
      "删除过期节点: 0节点 [00:00, ?节点/s]\n",
      "删除过期节点: 0节点 [00:00, ?节点/s]\n",
      "删除过期节点: 0节点 [00:00, ?节点/s]\n",
      "删除过期节点: 0节点 [00:00, ?节点/s]\n",
      "删除过期节点: 0节点 [00:00, ?节点/s]\n",
      "删除过期节点: 0节点 [00:00, ?节点/s]\n",
      "删除过期节点: 0节点 [00:00, ?节点/s]\n"
     ]
    },
    {
     "name": "stdout",
     "output_type": "stream",
     "text": [
      "已删除边：(1462147800146202624, 1.462259431589114e+18)  (时间差超过 30 天)\n",
      "已删除边：(1462147800146202624, 1.4622611006243144e+18)  (时间差超过 30 天)\n",
      "已删除边：(1462147800146202624, 1.4624696677090222e+18)  (时间差超过 30 天)\n",
      "已删除边：(1462147800146202624, 1.4624696833706107e+18)  (时间差超过 30 天)\n",
      "已删除边：(1462147800146202624, 1.462469688500228e+18)  (时间差超过 30 天)\n"
     ]
    },
    {
     "name": "stderr",
     "output_type": "stream",
     "text": [
      "删除过期节点: 100%|██████████████████████████████████████████████████████████████████████████████████████████████████████████████████████████████████████████████| 6/6 [00:00<00:00, 28959.52节点/s]\n"
     ]
    },
    {
     "name": "stdout",
     "output_type": "stream",
     "text": [
      "已删除节点：1462147800146202624  (时间差超过 30 天)\n",
      "已删除节点：1.462259431589114e+18  (时间差超过 30 天)\n",
      "已删除节点：1.4624696677090222e+18  (时间差超过 30 天)\n",
      "已删除节点：1.4624696833706107e+18  (时间差超过 30 天)\n",
      "已删除节点：1.4622611006243144e+18  (时间差超过 30 天)\n",
      "已删除节点：1.462469688500228e+18  (时间差超过 30 天)\n",
      "已删除边：(1462513061638524928, 1.4625971436680192e+18)  (时间差超过 30 天)\n",
      "已删除边：(1462513061638524928, 1.4626218708810752e+18)  (时间差超过 30 天)\n",
      "已删除边：(1462513061638524928, 1.4626301508649247e+18)  (时间差超过 30 天)\n",
      "已删除边：(1462513061638524928, 1.4625417419285545e+18)  (时间差超过 30 天)\n",
      "已删除边：(1462513061638524928, 1.4626389319130317e+18)  (时间差超过 30 天)\n",
      "已删除边：(1462513061638524928, 1.46262272990387e+18)  (时间差超过 30 天)\n",
      "已删除边：(1462513061638524928, 1.462663210452992e+18)  (时间差超过 30 天)\n",
      "已删除边：(1462513061638524928, 1.462676912061358e+18)  (时间差超过 30 天)\n",
      "已删除边：(1462513061638524928, 1.4627157745611858e+18)  (时间差超过 30 天)\n",
      "已删除边：(1462513061638524928, 1.4627664657030513e+18)  (时间差超过 30 天)\n",
      "已删除边：(1462513061638524928, 1.4628136223093842e+18)  (时间差超过 30 天)\n",
      "已删除边：(1462513061638524928, 1.4628373875627377e+18)  (时间差超过 30 天)\n",
      "已删除边：(1462513061638524928, 1.4563346712146125e+18)  (时间差超过 30 天)\n"
     ]
    },
    {
     "name": "stderr",
     "output_type": "stream",
     "text": [
      "删除过期节点: 100%|████████████████████████████████████████████████████████████████████████████████████████████████████████████████████████████████████████████| 14/14 [00:00<00:00, 52711.18节点/s]\n"
     ]
    },
    {
     "name": "stdout",
     "output_type": "stream",
     "text": [
      "已删除节点：1462513061638524928  (时间差超过 30 天)\n",
      "已删除节点：1.4625971436680192e+18  (时间差超过 30 天)\n",
      "已删除节点：1.4626218708810752e+18  (时间差超过 30 天)\n",
      "已删除节点：1.4626301508649247e+18  (时间差超过 30 天)\n",
      "已删除节点：1.4625417419285545e+18  (时间差超过 30 天)\n",
      "已删除节点：1.4626389319130317e+18  (时间差超过 30 天)\n",
      "已删除节点：1.46262272990387e+18  (时间差超过 30 天)\n",
      "已删除节点：1.462663210452992e+18  (时间差超过 30 天)\n",
      "已删除节点：1.462676912061358e+18  (时间差超过 30 天)\n",
      "已删除节点：1.4627157745611858e+18  (时间差超过 30 天)\n",
      "已删除节点：1.4627664657030513e+18  (时间差超过 30 天)\n",
      "已删除节点：1.4628136223093842e+18  (时间差超过 30 天)\n",
      "已删除节点：1.4563346712146125e+18  (时间差超过 30 天)\n",
      "已删除节点：1.4628373875627377e+18  (时间差超过 30 天)\n"
     ]
    },
    {
     "name": "stderr",
     "output_type": "stream",
     "text": [
      "删除过期节点: 0节点 [00:00, ?节点/s]\n"
     ]
    },
    {
     "name": "stdout",
     "output_type": "stream",
     "text": [
      "已删除边：(1463287376935985152, 1.4633234427661722e+18)  (时间差超过 30 天)\n",
      "已删除边：(1463287376935985152, 1.4633376884890993e+18)  (时间差超过 30 天)\n",
      "已删除边：(1463287376935985152, 1.4612136451201966e+18)  (时间差超过 30 天)\n",
      "已删除边：(1463287376935985152, 1.4633963716843725e+18)  (时间差超过 30 天)\n",
      "已删除边：(1463287376935985152, 1.4633967830825902e+18)  (时间差超过 30 天)\n",
      "已删除边：(1463287376935985152, 1.4634002140693422e+18)  (时间差超过 30 天)\n",
      "已删除边：(1463287376935985152, 1.4634012606278124e+18)  (时间差超过 30 天)\n",
      "已删除边：(1463287376935985152, 1.463145317340119e+18)  (时间差超过 30 天)\n",
      "已删除边：(1463287376935985152, 1.46343712679245e+18)  (时间差超过 30 天)\n",
      "已删除边：(1463287376935985152, 1.463461416405328e+18)  (时间差超过 30 天)\n",
      "已删除边：(1463287376935985152, 1.463561409279705e+18)  (时间差超过 30 天)\n"
     ]
    },
    {
     "name": "stderr",
     "output_type": "stream",
     "text": [
      "删除过期节点: 100%|████████████████████████████████████████████████████████████████████████████████████████████████████████████████████████████████████████████| 12/12 [00:00<00:00, 49636.73节点/s]\n"
     ]
    },
    {
     "name": "stdout",
     "output_type": "stream",
     "text": [
      "已删除节点：1463287376935985152  (时间差超过 30 天)\n",
      "已删除节点：1.4633234427661722e+18  (时间差超过 30 天)\n",
      "已删除节点：1.4612136451201966e+18  (时间差超过 30 天)\n",
      "已删除节点：1.4633376884890993e+18  (时间差超过 30 天)\n",
      "已删除节点：1.4633963716843725e+18  (时间差超过 30 天)\n",
      "已删除节点：1.4633967830825902e+18  (时间差超过 30 天)\n",
      "已删除节点：1.4634002140693422e+18  (时间差超过 30 天)\n",
      "已删除节点：1.4634012606278124e+18  (时间差超过 30 天)\n",
      "已删除节点：1.463145317340119e+18  (时间差超过 30 天)\n",
      "已删除节点：1.46343712679245e+18  (时间差超过 30 天)\n",
      "已删除节点：1.463461416405328e+18  (时间差超过 30 天)\n",
      "已删除节点：1.463561409279705e+18  (时间差超过 30 天)\n"
     ]
    },
    {
     "name": "stderr",
     "output_type": "stream",
     "text": [
      "删除过期节点: 0节点 [00:00, ?节点/s]\n",
      "删除过期节点: 0节点 [00:00, ?节点/s]\n",
      "删除过期节点: 0节点 [00:00, ?节点/s]\n",
      "删除过期节点: 0节点 [00:00, ?节点/s]\n",
      "删除过期节点: 0节点 [00:00, ?节点/s]\n"
     ]
    },
    {
     "name": "stdout",
     "output_type": "stream",
     "text": [
      "已删除边：(1465469320067178496, 1.465274110984876e+18)  (时间差超过 30 天)\n",
      "已删除边：(1465469320067178496, 1.4655170067744072e+18)  (时间差超过 30 天)\n",
      "已删除边：(1465469320067178496, 1.4655884248243937e+18)  (时间差超过 30 天)\n",
      "已删除边：(1465469320067178496, 1.4656712152683848e+18)  (时间差超过 30 天)\n"
     ]
    },
    {
     "name": "stderr",
     "output_type": "stream",
     "text": [
      "删除过期节点: 100%|██████████████████████████████████████████████████████████████████████████████████████████████████████████████████████████████████████████████| 5/5 [00:00<00:00, 27377.96节点/s]\n"
     ]
    },
    {
     "name": "stdout",
     "output_type": "stream",
     "text": [
      "已删除节点：1465469320067178496  (时间差超过 30 天)\n",
      "已删除节点：1.465274110984876e+18  (时间差超过 30 天)\n",
      "已删除节点：1.4655170067744072e+18  (时间差超过 30 天)\n",
      "已删除节点：1.4655884248243937e+18  (时间差超过 30 天)\n",
      "已删除节点：1.4656712152683848e+18  (时间差超过 30 天)\n"
     ]
    },
    {
     "name": "stderr",
     "output_type": "stream",
     "text": [
      "删除过期节点: 0节点 [00:00, ?节点/s]\n",
      "删除过期节点: 0节点 [00:00, ?节点/s]\n",
      "删除过期节点: 0节点 [00:00, ?节点/s]\n",
      "删除过期节点: 0节点 [00:00, ?节点/s]\n",
      "删除过期节点: 0节点 [00:00, ?节点/s]\n",
      "删除过期节点: 0节点 [00:00, ?节点/s]\n",
      "删除过期节点: 0节点 [00:00, ?节点/s]\n"
     ]
    },
    {
     "name": "stdout",
     "output_type": "stream",
     "text": [
      "已删除边：(1468299652911013888, 1.4684136779591885e+18)  (时间差超过 30 天)\n",
      "已删除边：(1468299652911013888, 1.4684859737179423e+18)  (时间差超过 30 天)\n"
     ]
    },
    {
     "name": "stderr",
     "output_type": "stream",
     "text": [
      "删除过期节点: 100%|██████████████████████████████████████████████████████████████████████████████████████████████████████████████████████████████████████████████| 3/3 [00:00<00:00, 18613.78节点/s]\n"
     ]
    },
    {
     "name": "stdout",
     "output_type": "stream",
     "text": [
      "已删除节点：1468299652911013888  (时间差超过 30 天)\n",
      "已删除节点：1.4684136779591885e+18  (时间差超过 30 天)\n",
      "已删除节点：1.4684859737179423e+18  (时间差超过 30 天)\n"
     ]
    },
    {
     "name": "stderr",
     "output_type": "stream",
     "text": [
      "删除过期节点: 0节点 [00:00, ?节点/s]\n",
      "删除过期节点: 0节点 [00:00, ?节点/s]\n",
      "删除过期节点: 0节点 [00:00, ?节点/s]\n",
      "删除过期节点: 0节点 [00:00, ?节点/s]\n"
     ]
    },
    {
     "name": "stdout",
     "output_type": "stream",
     "text": [
      "已删除边：(1470074158931316736, 1.4703143904866468e+18)  (时间差超过 30 天)\n",
      "已删除边：(1470074158931316736, 1.470305547500933e+18)  (时间差超过 30 天)\n"
     ]
    },
    {
     "name": "stderr",
     "output_type": "stream",
     "text": [
      "删除过期节点: 100%|██████████████████████████████████████████████████████████████████████████████████████████████████████████████████████████████████████████████| 3/3 [00:00<00:00, 17873.45节点/s]\n"
     ]
    },
    {
     "name": "stdout",
     "output_type": "stream",
     "text": [
      "已删除节点：1470074158931316736  (时间差超过 30 天)\n",
      "已删除节点：1.4703143904866468e+18  (时间差超过 30 天)\n",
      "已删除节点：1.470305547500933e+18  (时间差超过 30 天)\n"
     ]
    },
    {
     "name": "stderr",
     "output_type": "stream",
     "text": [
      "删除过期节点: 0节点 [00:00, ?节点/s]\n",
      "删除过期节点: 0节点 [00:00, ?节点/s]\n",
      "删除过期节点: 0节点 [00:00, ?节点/s]\n",
      "删除过期节点: 0节点 [00:00, ?节点/s]\n",
      "删除过期节点: 0节点 [00:00, ?节点/s]\n",
      "删除过期节点: 0节点 [00:00, ?节点/s]\n"
     ]
    },
    {
     "name": "stdout",
     "output_type": "stream",
     "text": [
      "已删除边：(1472565805871427584, 1.4727411366118031e+18)  (时间差超过 30 天)\n",
      "已删除边：(1472565805871427584, 1.472745665696768e+18)  (时间差超过 30 天)\n",
      "已删除边：(1472565805871427584, 1.4727470887105495e+18)  (时间差超过 30 天)\n",
      "已删除边：(1472565805871427584, 1.4727613744767672e+18)  (时间差超过 30 天)\n",
      "已删除边：(1472565805871427584, 1.4727613773582254e+18)  (时间差超过 30 天)\n",
      "已删除边：(1472565805871427584, 1.4727450652610191e+18)  (时间差超过 30 天)\n",
      "已删除边：(1472565805871427584, 1.472801085652091e+18)  (时间差超过 30 天)\n",
      "已删除边：(1472565805871427584, 1.4728011630789632e+18)  (时间差超过 30 天)\n",
      "已删除边：(1472565805871427584, 1.472841055532089e+18)  (时间差超过 30 天)\n"
     ]
    },
    {
     "name": "stderr",
     "output_type": "stream",
     "text": [
      "删除过期节点: 100%|████████████████████████████████████████████████████████████████████████████████████████████████████████████████████████████████████████████| 10/10 [00:00<00:00, 42495.48节点/s]\n"
     ]
    },
    {
     "name": "stdout",
     "output_type": "stream",
     "text": [
      "已删除节点：1472565805871427584  (时间差超过 30 天)\n",
      "已删除节点：1.4727411366118031e+18  (时间差超过 30 天)\n",
      "已删除节点：1.4727613744767672e+18  (时间差超过 30 天)\n",
      "已删除节点：1.472745665696768e+18  (时间差超过 30 天)\n",
      "已删除节点：1.4727470887105495e+18  (时间差超过 30 天)\n",
      "已删除节点：1.4727613773582254e+18  (时间差超过 30 天)\n",
      "已删除节点：1.4727450652610191e+18  (时间差超过 30 天)\n",
      "已删除节点：1.472801085652091e+18  (时间差超过 30 天)\n",
      "已删除节点：1.4728011630789632e+18  (时间差超过 30 天)\n",
      "已删除节点：1.472841055532089e+18  (时间差超过 30 天)\n"
     ]
    },
    {
     "name": "stderr",
     "output_type": "stream",
     "text": [
      "删除过期节点: 0节点 [00:00, ?节点/s]\n",
      "删除过期节点: 0节点 [00:00, ?节点/s]\n",
      "删除过期节点: 0节点 [00:00, ?节点/s]\n",
      "删除过期节点: 0节点 [00:00, ?节点/s]\n",
      "删除过期节点: 0节点 [00:00, ?节点/s]\n",
      "删除过期节点: 0节点 [00:00, ?节点/s]\n",
      "删除过期节点: 0节点 [00:00, ?节点/s]\n",
      "删除过期节点: 0节点 [00:00, ?节点/s]\n",
      "删除过期节点: 0节点 [00:00, ?节点/s]\n",
      "删除过期节点: 0节点 [00:00, ?节点/s]\n",
      "删除过期节点: 0节点 [00:00, ?节点/s]\n",
      "删除过期节点: 0节点 [00:00, ?节点/s]\n"
     ]
    },
    {
     "name": "stdout",
     "output_type": "stream",
     "text": [
      "已删除边：(1476481556231639040, 1.4768237859490898e+18)  (时间差超过 30 天)\n",
      "已删除边：(1476481556231639040, 1.4771751752211538e+18)  (时间差超过 30 天)\n",
      "已删除边：(1476481556231639040, 1.4735934627381084e+18)  (时间差超过 30 天)\n",
      "已删除边：(1476481556231639040, 1.4774954894155162e+18)  (时间差超过 30 天)\n",
      "已删除边：(1476481556231639040, 1.4776139161170903e+18)  (时间差超过 30 天)\n",
      "已删除边：(1476481556231639040, 1.477629557960106e+18)  (时间差超过 30 天)\n"
     ]
    },
    {
     "name": "stderr",
     "output_type": "stream",
     "text": [
      "删除过期节点: 100%|██████████████████████████████████████████████████████████████████████████████████████████████████████████████████████████████████████████████| 7/7 [00:00<00:00, 30330.71节点/s]\n"
     ]
    },
    {
     "name": "stdout",
     "output_type": "stream",
     "text": [
      "已删除节点：1476481556231639040  (时间差超过 30 天)\n",
      "已删除节点：1.4768237859490898e+18  (时间差超过 30 天)\n",
      "已删除节点：1.4771751752211538e+18  (时间差超过 30 天)\n",
      "已删除节点：1.4774954894155162e+18  (时间差超过 30 天)\n",
      "已删除节点：1.4735934627381084e+18  (时间差超过 30 天)\n",
      "已删除节点：1.4776139161170903e+18  (时间差超过 30 天)\n",
      "已删除节点：1.477629557960106e+18  (时间差超过 30 天)\n",
      "已删除边：(1477742960116740096, 1.4754328433585234e+18)  (时间差超过 30 天)\n",
      "已删除边：(1477742960116740096, 1.4780299376891208e+18)  (时间差超过 30 天)\n",
      "已删除边：(1477742960116740096, 1.478021523768234e+18)  (时间差超过 30 天)\n"
     ]
    },
    {
     "name": "stderr",
     "output_type": "stream",
     "text": [
      "删除过期节点: 100%|██████████████████████████████████████████████████████████████████████████████████████████████████████████████████████████████████████████████| 4/4 [00:00<00:00, 19000.24节点/s]\n"
     ]
    },
    {
     "name": "stdout",
     "output_type": "stream",
     "text": [
      "已删除节点：1477742960116740096  (时间差超过 30 天)\n",
      "已删除节点：1.4754328433585234e+18  (时间差超过 30 天)\n",
      "已删除节点：1.4780299376891208e+18  (时间差超过 30 天)\n",
      "已删除节点：1.478021523768234e+18  (时间差超过 30 天)\n"
     ]
    },
    {
     "name": "stderr",
     "output_type": "stream",
     "text": [
      "删除过期节点: 0节点 [00:00, ?节点/s]\n",
      "删除过期节点: 0节点 [00:00, ?节点/s]\n",
      "删除过期节点: 0节点 [00:00, ?节点/s]\n",
      "删除过期节点: 0节点 [00:00, ?节点/s]\n",
      "删除过期节点: 0节点 [00:00, ?节点/s]\n"
     ]
    },
    {
     "name": "stdout",
     "output_type": "stream",
     "text": [
      "已删除边：(1479834374946316288, 1.4795743165640335e+18)  (时间差超过 30 天)\n",
      "已删除边：(1479834374946316288, 1.4800639674942874e+18)  (时间差超过 30 天)\n",
      "已删除边：(1479834374946316288, 1.479105972597817e+18)  (时间差超过 30 天)\n",
      "已删除边：(1479834374946316288, 1.48019562820642e+18)  (时间差超过 30 天)\n"
     ]
    },
    {
     "name": "stderr",
     "output_type": "stream",
     "text": [
      "删除过期节点: 100%|██████████████████████████████████████████████████████████████████████████████████████████████████████████████████████████████████████████████| 5/5 [00:00<00:00, 22721.04节点/s]\n"
     ]
    },
    {
     "name": "stdout",
     "output_type": "stream",
     "text": [
      "已删除节点：1479834374946316288  (时间差超过 30 天)\n",
      "已删除节点：1.4795743165640335e+18  (时间差超过 30 天)\n",
      "已删除节点：1.4800639674942874e+18  (时间差超过 30 天)\n",
      "已删除节点：1.48019562820642e+18  (时间差超过 30 天)\n",
      "已删除节点：1.479105972597817e+18  (时间差超过 30 天)\n"
     ]
    },
    {
     "name": "stderr",
     "output_type": "stream",
     "text": [
      "删除过期节点: 0节点 [00:00, ?节点/s]\n",
      "删除过期节点: 0节点 [00:00, ?节点/s]\n"
     ]
    },
    {
     "name": "stdout",
     "output_type": "stream",
     "text": [
      "已删除边：(1481046588634054912, 1.480931337179705e+18)  (时间差超过 30 天)\n",
      "已删除边：(1481046588634054912, 1.4810670874183475e+18)  (时间差超过 30 天)\n",
      "已删除边：(1481046588634054912, 1.4810803285089157e+18)  (时间差超过 30 天)\n",
      "已删除边：(1481046588634054912, 1.4808198427267768e+18)  (时间差超过 30 天)\n",
      "已删除边：(1481046588634054912, 1.4810707569686774e+18)  (时间差超过 30 天)\n",
      "已删除边：(1481046588634054912, 1.4808098778995507e+18)  (时间差超过 30 天)\n",
      "已删除边：(1481046588634054912, 1.4810871837047237e+18)  (时间差超过 30 天)\n",
      "已删除边：(1481046588634054912, 1.4810871867455693e+18)  (时间差超过 30 天)\n",
      "已删除边：(1481046588634054912, 1.4810947712674245e+18)  (时间差超过 30 天)\n",
      "已删除边：(1481046588634054912, 1.4810155605194875e+18)  (时间差超过 30 天)\n",
      "已删除边：(1481046588634054912, 1.4810853183047967e+18)  (时间差超过 30 天)\n",
      "已删除边：(1481046588634054912, 1.481068929661694e+18)  (时间差超过 30 天)\n",
      "已删除边：(1481046588634054912, 1.4811881051935048e+18)  (时间差超过 30 天)\n",
      "已删除边：(1481046588634054912, 1.481219957379973e+18)  (时间差超过 30 天)\n",
      "已删除边：(1481046588634054912, 1.4812497488627753e+18)  (时间差超过 30 天)\n",
      "已删除边：(1481046588634054912, 1.4807954649541632e+18)  (时间差超过 30 天)\n",
      "已删除边：(1481046588634054912, 1.4813159258111468e+18)  (时间差超过 30 天)\n"
     ]
    },
    {
     "name": "stderr",
     "output_type": "stream",
     "text": [
      "删除过期节点: 100%|████████████████████████████████████████████████████████████████████████████████████████████████████████████████████████████████████████████| 18/18 [00:00<00:00, 55350.05节点/s]\n"
     ]
    },
    {
     "name": "stdout",
     "output_type": "stream",
     "text": [
      "已删除节点：1481046588634054912  (时间差超过 30 天)\n",
      "已删除节点：1.480931337179705e+18  (时间差超过 30 天)\n",
      "已删除节点：1.4810670874183475e+18  (时间差超过 30 天)\n",
      "已删除节点：1.4808198427267768e+18  (时间差超过 30 天)\n",
      "已删除节点：1.4810803285089157e+18  (时间差超过 30 天)\n",
      "已删除节点：1.4810707569686774e+18  (时间差超过 30 天)\n",
      "已删除节点：1.4808098778995507e+18  (时间差超过 30 天)\n",
      "已删除节点：1.4810871837047237e+18  (时间差超过 30 天)\n",
      "已删除节点：1.4810871867455693e+18  (时间差超过 30 天)\n",
      "已删除节点：1.4810947712674245e+18  (时间差超过 30 天)\n",
      "已删除节点：1.4810155605194875e+18  (时间差超过 30 天)\n",
      "已删除节点：1.4810853183047967e+18  (时间差超过 30 天)\n",
      "已删除节点：1.4812497488627753e+18  (时间差超过 30 天)\n",
      "已删除节点：1.4807954649541632e+18  (时间差超过 30 天)\n",
      "已删除节点：1.4813159258111468e+18  (时间差超过 30 天)\n",
      "已删除节点：1.4811881051935048e+18  (时间差超过 30 天)\n",
      "已删除节点：1.481219957379973e+18  (时间差超过 30 天)\n",
      "已删除节点：1.481068929661694e+18  (时间差超过 30 天)\n"
     ]
    },
    {
     "name": "stderr",
     "output_type": "stream",
     "text": [
      "删除过期节点: 0节点 [00:00, ?节点/s]\n",
      "删除过期节点: 0节点 [00:00, ?节点/s]\n"
     ]
    },
    {
     "name": "stdout",
     "output_type": "stream",
     "text": [
      "已删除边：(1482018467239034880, 1.4749352679751148e+18)  (时间差超过 30 天)\n",
      "已删除边：(1482018467239034880, 1.481999096776958e+18)  (时间差超过 30 天)\n",
      "已删除边：(1482018467239034880, 1.4819956477167903e+18)  (时间差超过 30 天)\n",
      "已删除边：(1482018467239034880, 1.4822290106753638e+18)  (时间差超过 30 天)\n",
      "已删除边：(1482018467239034880, 1.482230201371136e+18)  (时间差超过 30 天)\n",
      "已删除边：(1482018467239034880, 1.482230198770692e+18)  (时间差超过 30 天)\n",
      "已删除边：(1482018467239034880, 1.4823262458787348e+18)  (时间差超过 30 天)\n",
      "已删除边：(1482018467239034880, 1.482326335343276e+18)  (时间差超过 30 天)\n",
      "已删除边：(1482018467239034880, 1.4824332426411008e+18)  (时间差超过 30 天)\n"
     ]
    },
    {
     "name": "stderr",
     "output_type": "stream",
     "text": [
      "删除过期节点: 100%|████████████████████████████████████████████████████████████████████████████████████████████████████████████████████████████████████████████| 10/10 [00:00<00:00, 38269.20节点/s]\n"
     ]
    },
    {
     "name": "stdout",
     "output_type": "stream",
     "text": [
      "已删除节点：1482018467239034880  (时间差超过 30 天)\n",
      "已删除节点：1.4749352679751148e+18  (时间差超过 30 天)\n",
      "已删除节点：1.4819956477167903e+18  (时间差超过 30 天)\n",
      "已删除节点：1.4822290106753638e+18  (时间差超过 30 天)\n",
      "已删除节点：1.481999096776958e+18  (时间差超过 30 天)\n",
      "已删除节点：1.482230201371136e+18  (时间差超过 30 天)\n",
      "已删除节点：1.482230198770692e+18  (时间差超过 30 天)\n",
      "已删除节点：1.4823262458787348e+18  (时间差超过 30 天)\n",
      "已删除节点：1.482326335343276e+18  (时间差超过 30 天)\n",
      "已删除节点：1.4824332426411008e+18  (时间差超过 30 天)\n"
     ]
    },
    {
     "name": "stderr",
     "output_type": "stream",
     "text": [
      "删除过期节点: 0节点 [00:00, ?节点/s]\n",
      "删除过期节点: 0节点 [00:00, ?节点/s]\n"
     ]
    },
    {
     "name": "stdout",
     "output_type": "stream",
     "text": [
      "已删除边：(1483193630802079488, 1.4832605289488425e+18)  (时间差超过 30 天)\n",
      "已删除边：(1483193630802079488, 1.4832649806237204e+18)  (时间差超过 30 天)\n",
      "已删除边：(1483193630802079488, 1.483264982771204e+18)  (时间差超过 30 天)\n",
      "已删除边：(1483193630802079488, 1.483271930052776e+18)  (时间差超过 30 天)\n",
      "已删除边：(1483193630802079488, 1.4832720207584584e+18)  (时间差超过 30 天)\n",
      "已删除边：(1483193630802079488, 1.4833095233601208e+18)  (时间差超过 30 天)\n",
      "已删除边：(1483193630802079488, 1.4833101932199813e+18)  (时间差超过 30 天)\n",
      "已删除边：(1483193630802079488, 1.4833173751350108e+18)  (时间差超过 30 天)\n",
      "已删除边：(1483193630802079488, 1.482588130276528e+18)  (时间差超过 30 天)\n",
      "已删除边：(1483193630802079488, 1.483383725681709e+18)  (时间差超过 30 天)\n",
      "已删除边：(1483193630802079488, 1.483434198975545e+18)  (时间差超过 30 天)\n",
      "已删除边：(1483193630802079488, 1.483435731028779e+18)  (时间差超过 30 天)\n",
      "已删除边：(1483193630802079488, 1.4834441746368758e+18)  (时间差超过 30 天)\n",
      "已删除边：(1483193630802079488, 1.4834442526970511e+18)  (时间差超过 30 天)\n"
     ]
    },
    {
     "name": "stderr",
     "output_type": "stream",
     "text": [
      "删除过期节点: 100%|████████████████████████████████████████████████████████████████████████████████████████████████████████████████████████████████████████████| 15/15 [00:00<00:00, 48433.07节点/s]\n"
     ]
    },
    {
     "name": "stdout",
     "output_type": "stream",
     "text": [
      "已删除节点：1483193630802079488  (时间差超过 30 天)\n",
      "已删除节点：1.4832605289488425e+18  (时间差超过 30 天)\n",
      "已删除节点：1.483271930052776e+18  (时间差超过 30 天)\n",
      "已删除节点：1.483264982771204e+18  (时间差超过 30 天)\n",
      "已删除节点：1.4832649806237204e+18  (时间差超过 30 天)\n",
      "已删除节点：1.4832720207584584e+18  (时间差超过 30 天)\n",
      "已删除节点：1.4833095233601208e+18  (时间差超过 30 天)\n",
      "已删除节点：1.4833101932199813e+18  (时间差超过 30 天)\n",
      "已删除节点：1.4833173751350108e+18  (时间差超过 30 天)\n",
      "已删除节点：1.482588130276528e+18  (时间差超过 30 天)\n",
      "已删除节点：1.483383725681709e+18  (时间差超过 30 天)\n",
      "已删除节点：1.4834441746368758e+18  (时间差超过 30 天)\n",
      "已删除节点：1.483435731028779e+18  (时间差超过 30 天)\n",
      "已删除节点：1.4834442526970511e+18  (时间差超过 30 天)\n",
      "已删除节点：1.483434198975545e+18  (时间差超过 30 天)\n"
     ]
    },
    {
     "name": "stderr",
     "output_type": "stream",
     "text": [
      "删除过期节点: 0节点 [00:00, ?节点/s]\n",
      "删除过期节点: 0节点 [00:00, ?节点/s]\n",
      "删除过期节点: 0节点 [00:00, ?节点/s]\n"
     ]
    },
    {
     "name": "stdout",
     "output_type": "stream",
     "text": [
      "已删除边：(1484549647993507840, 1.484688499790041e+18)  (时间差超过 30 天)\n",
      "已删除边：(1484549647993507840, 1.4846885019920056e+18)  (时间差超过 30 天)\n",
      "已删除边：(1484549647993507840, 1.484691039579525e+18)  (时间差超过 30 天)\n",
      "已删除边：(1484549647993507840, 1.4843580785566802e+18)  (时间差超过 30 天)\n",
      "已删除边：(1484549647993507840, 1.4848278847997256e+18)  (时间差超过 30 天)\n",
      "已删除边：(1484549647993507840, 1.4848279685138555e+18)  (时间差超过 30 天)\n",
      "已删除边：(1484549647993507840, 1.4848114233772073e+18)  (时间差超过 30 天)\n",
      "已删除边：(1484549647993507840, 1.475431262357635e+18)  (时间差超过 30 天)\n",
      "已删除边：(1484549647993507840, 1.4841306029412966e+18)  (时间差超过 30 天)\n",
      "已删除边：(1484549647993507840, 1.4845090928574177e+18)  (时间差超过 30 天)\n",
      "已删除边：(1484549647993507840, 1.4848247906494054e+18)  (时间差超过 30 天)\n",
      "已删除边：(1484549647993507840, 1.4848225723911045e+18)  (时间差超过 30 天)\n",
      "已删除边：(1484549647993507840, 1.484753527029498e+18)  (时间差超过 30 天)\n"
     ]
    },
    {
     "name": "stderr",
     "output_type": "stream",
     "text": [
      "删除过期节点: 100%|████████████████████████████████████████████████████████████████████████████████████████████████████████████████████████████████████████████| 14/14 [00:00<00:00, 46382.51节点/s]"
     ]
    },
    {
     "name": "stdout",
     "output_type": "stream",
     "text": [
      "已删除节点：1484549647993507840  (时间差超过 30 天)\n",
      "已删除节点：1.484688499790041e+18  (时间差超过 30 天)\n",
      "已删除节点：1.484691039579525e+18  (时间差超过 30 天)\n",
      "已删除节点：1.4846885019920056e+18  (时间差超过 30 天)\n",
      "已删除节点：1.4843580785566802e+18  (时间差超过 30 天)\n",
      "已删除节点：1.4848278847997256e+18  (时间差超过 30 天)\n",
      "已删除节点：1.4848279685138555e+18  (时间差超过 30 天)\n",
      "已删除节点：1.4848114233772073e+18  (时间差超过 30 天)\n",
      "已删除节点：1.475431262357635e+18  (时间差超过 30 天)\n",
      "已删除节点：1.4841306029412966e+18  (时间差超过 30 天)\n",
      "已删除节点：1.4845090928574177e+18  (时间差超过 30 天)\n",
      "已删除节点：1.4848247906494054e+18  (时间差超过 30 天)\n",
      "已删除节点：1.4848225723911045e+18  (时间差超过 30 天)\n",
      "已删除节点：1.484753527029498e+18  (时间差超过 30 天)\n"
     ]
    },
    {
     "name": "stderr",
     "output_type": "stream",
     "text": [
      "\n"
     ]
    },
    {
     "name": "stdout",
     "output_type": "stream",
     "text": [
      "已删除边：(1484889835965845504, 1.485044343299707e+18)  (时间差超过 30 天)\n",
      "已删除边：(1484889835965845504, 1.4850443506145976e+18)  (时间差超过 30 天)\n",
      "已删除边：(1484889835965845504, 1.4850443626228982e+18)  (时间差超过 30 天)\n",
      "已删除边：(1484889835965845504, 1.4850443740229427e+18)  (时间差超过 30 天)\n",
      "已删除边：(1484889835965845504, 1.485044376258564e+18)  (时间差超过 30 天)\n",
      "已删除边：(1484889835965845504, 1.4850443782550528e+18)  (时间差超过 30 天)\n",
      "已删除边：(1484889835965845504, 1.4848901305865175e+18)  (时间差超过 30 天)\n",
      "已删除边：(1484889835965845504, 1.485051038595883e+18)  (时间差超过 30 天)\n",
      "已删除边：(1484889835965845504, 1.485107489557205e+18)  (时间差超过 30 天)\n",
      "已删除边：(1484889835965845504, 1.485108441412608e+18)  (时间差超过 30 天)\n",
      "已删除边：(1484889835965845504, 1.4851180713751552e+18)  (时间差超过 30 天)\n",
      "已删除边：(1484889835965845504, 1.4851843398475612e+18)  (时间差超过 30 天)\n",
      "已删除边：(1484889835965845504, 1.4852367719861617e+18)  (时间差超过 30 天)\n"
     ]
    },
    {
     "name": "stderr",
     "output_type": "stream",
     "text": [
      "删除过期节点: 100%|████████████████████████████████████████████████████████████████████████████████████████████████████████████████████████████████████████████| 14/14 [00:00<00:00, 45911.07节点/s]\n"
     ]
    },
    {
     "name": "stdout",
     "output_type": "stream",
     "text": [
      "已删除节点：1484889835965845504  (时间差超过 30 天)\n",
      "已删除节点：1.485044343299707e+18  (时间差超过 30 天)\n",
      "已删除节点：1.4850443506145976e+18  (时间差超过 30 天)\n",
      "已删除节点：1.4850443740229427e+18  (时间差超过 30 天)\n",
      "已删除节点：1.4850443626228982e+18  (时间差超过 30 天)\n",
      "已删除节点：1.485044376258564e+18  (时间差超过 30 天)\n",
      "已删除节点：1.4850443782550528e+18  (时间差超过 30 天)\n",
      "已删除节点：1.4848901305865175e+18  (时间差超过 30 天)\n",
      "已删除节点：1.485051038595883e+18  (时间差超过 30 天)\n",
      "已删除节点：1.485107489557205e+18  (时间差超过 30 天)\n",
      "已删除节点：1.485108441412608e+18  (时间差超过 30 天)\n",
      "已删除节点：1.4851843398475612e+18  (时间差超过 30 天)\n",
      "已删除节点：1.4852367719861617e+18  (时间差超过 30 天)\n",
      "已删除节点：1.4851180713751552e+18  (时间差超过 30 天)\n",
      "已删除边：(1485282615510724608, 1.485184821249065e+18)  (时间差超过 30 天)\n",
      "已删除边：(1485282615510724608, 1.4854455039491482e+18)  (时间差超过 30 天)\n",
      "已删除边：(1485282615510724608, 1.485445505148756e+18)  (时间差超过 30 天)\n",
      "已删除边：(1485282615510724608, 1.4854455061428183e+18)  (时间差超过 30 天)\n",
      "已删除边：(1485282615510724608, 1.4854509452028475e+18)  (时间差超过 30 天)\n",
      "已删除边：(1485282615510724608, 1.485484721807446e+18)  (时间差超过 30 天)\n",
      "已删除边：(1485282615510724608, 1.4854861216899482e+18)  (时间差超过 30 天)\n",
      "已删除边：(1485282615510724608, 1.4855057962095163e+18)  (时间差超过 30 天)\n",
      "已删除边：(1485282615510724608, 1.4854904534325985e+18)  (时间差超过 30 天)\n",
      "已删除边：(1485282615510724608, 1.4855363063192248e+18)  (时间差超过 30 天)\n",
      "已删除边：(1485282615510724608, 1.4855482082859418e+18)  (时间差超过 30 天)\n",
      "已删除边：(1485282615510724608, 1.4856233597485425e+18)  (时间差超过 30 天)\n",
      "已删除边：(1485282615510724608, 1.4855740068918518e+18)  (时间差超过 30 天)\n",
      "已删除边：(1485282615510724608, 1.485625948662014e+18)  (时间差超过 30 天)\n"
     ]
    },
    {
     "name": "stderr",
     "output_type": "stream",
     "text": [
      "删除过期节点: 100%|████████████████████████████████████████████████████████████████████████████████████████████████████████████████████████████████████████████| 15/15 [00:00<00:00, 48026.38节点/s]\n"
     ]
    },
    {
     "name": "stdout",
     "output_type": "stream",
     "text": [
      "已删除节点：1485282615510724608  (时间差超过 30 天)\n",
      "已删除节点：1.485184821249065e+18  (时间差超过 30 天)\n",
      "已删除节点：1.4854455039491482e+18  (时间差超过 30 天)\n",
      "已删除节点：1.4854455061428183e+18  (时间差超过 30 天)\n",
      "已删除节点：1.485445505148756e+18  (时间差超过 30 天)\n",
      "已删除节点：1.4854509452028475e+18  (时间差超过 30 天)\n",
      "已删除节点：1.485484721807446e+18  (时间差超过 30 天)\n",
      "已删除节点：1.4854861216899482e+18  (时间差超过 30 天)\n",
      "已删除节点：1.4855057962095163e+18  (时间差超过 30 天)\n",
      "已删除节点：1.4854904534325985e+18  (时间差超过 30 天)\n",
      "已删除节点：1.4855363063192248e+18  (时间差超过 30 天)\n",
      "已删除节点：1.4855482082859418e+18  (时间差超过 30 天)\n",
      "已删除节点：1.4856233597485425e+18  (时间差超过 30 天)\n",
      "已删除节点：1.485625948662014e+18  (时间差超过 30 天)\n",
      "已删除节点：1.4855740068918518e+18  (时间差超过 30 天)\n"
     ]
    },
    {
     "name": "stderr",
     "output_type": "stream",
     "text": [
      "删除过期节点: 0节点 [00:00, ?节点/s]\n",
      "删除过期节点: 0节点 [00:00, ?节点/s]\n",
      "删除过期节点: 0节点 [00:00, ?节点/s]\n",
      "删除过期节点: 0节点 [00:00, ?节点/s]\n",
      "删除过期节点: 0节点 [00:00, ?节点/s]\n",
      "删除过期节点: 0节点 [00:00, ?节点/s]\n",
      "删除过期节点: 0节点 [00:00, ?节点/s]\n",
      "删除过期节点: 0节点 [00:00, ?节点/s]\n",
      "删除过期节点: 0节点 [00:00, ?节点/s]\n",
      "删除过期节点: 0节点 [00:00, ?节点/s]\n",
      "删除过期节点: 0节点 [00:00, ?节点/s]\n",
      "删除过期节点: 0节点 [00:00, ?节点/s]\n"
     ]
    },
    {
     "name": "stdout",
     "output_type": "stream",
     "text": [
      "已删除边：(1490006237982826496, 1.4899427224673116e+18)  (时间差超过 30 天)\n",
      "已删除边：(1490006237982826496, 1.4901174121921495e+18)  (时间差超过 30 天)\n",
      "已删除边：(1490006237982826496, 1.4899822344175903e+18)  (时间差超过 30 天)\n",
      "已删除边：(1490006237982826496, 1.489919043213607e+18)  (时间差超过 30 天)\n",
      "已删除边：(1490006237982826496, 1.4901734803480248e+18)  (时间差超过 30 天)\n",
      "已删除边：(1490006237982826496, 1.4901618290704507e+18)  (时间差超过 30 天)\n",
      "已删除边：(1490006237982826496, 1.4901778170441564e+18)  (时间差超过 30 天)\n",
      "已删除边：(1490006237982826496, 1.490156212259897e+18)  (时间差超过 30 天)\n",
      "已删除边：(1490006237982826496, 1.4901008332324372e+18)  (时间差超过 30 天)\n",
      "已删除边：(1490006237982826496, 1.4902865839283446e+18)  (时间差超过 30 天)\n",
      "已删除边：(1490006237982826496, 1.4902888300788818e+18)  (时间差超过 30 天)\n",
      "已删除边：(1490006237982826496, 1.4902756717628908e+18)  (时间差超过 30 天)\n",
      "已删除边：(1490006237982826496, 1.4902959438826783e+18)  (时间差超过 30 天)\n",
      "已删除边：(1490006237982826496, 1.4902823741138166e+18)  (时间差超过 30 天)\n",
      "已删除边：(1490006237982826496, 1.4902043271219405e+18)  (时间差超过 30 天)\n"
     ]
    },
    {
     "name": "stderr",
     "output_type": "stream",
     "text": [
      "删除过期节点: 100%|████████████████████████████████████████████████████████████████████████████████████████████████████████████████████████████████████████████| 16/16 [00:00<00:00, 50043.90节点/s]\n"
     ]
    },
    {
     "name": "stdout",
     "output_type": "stream",
     "text": [
      "已删除节点：1490006237982826496  (时间差超过 30 天)\n",
      "已删除节点：1.4899427224673116e+18  (时间差超过 30 天)\n",
      "已删除节点：1.4899822344175903e+18  (时间差超过 30 天)\n",
      "已删除节点：1.489919043213607e+18  (时间差超过 30 天)\n",
      "已删除节点：1.4901174121921495e+18  (时间差超过 30 天)\n",
      "已删除节点：1.4901734803480248e+18  (时间差超过 30 天)\n",
      "已删除节点：1.4901618290704507e+18  (时间差超过 30 天)\n",
      "已删除节点：1.4901778170441564e+18  (时间差超过 30 天)\n",
      "已删除节点：1.490156212259897e+18  (时间差超过 30 天)\n",
      "已删除节点：1.4901008332324372e+18  (时间差超过 30 天)\n",
      "已删除节点：1.4902865839283446e+18  (时间差超过 30 天)\n",
      "已删除节点：1.4902888300788818e+18  (时间差超过 30 天)\n",
      "已删除节点：1.4902959438826783e+18  (时间差超过 30 天)\n",
      "已删除节点：1.4902823741138166e+18  (时间差超过 30 天)\n",
      "已删除节点：1.4902756717628908e+18  (时间差超过 30 天)\n",
      "已删除节点：1.4902043271219405e+18  (时间差超过 30 天)\n",
      "已删除边：(1490361007738290176, 1.4904905420646113e+18)  (时间差超过 30 天)\n",
      "已删除边：(1490361007738290176, 1.4904965120816824e+18)  (时间差超过 30 天)\n",
      "已删除边：(1490361007738290176, 1.4905273737285673e+18)  (时间差超过 30 天)\n",
      "已删除边：(1490361007738290176, 1.4905894312960532e+18)  (时间差超过 30 天)\n",
      "已删除边：(1490361007738290176, 1.490608055259525e+18)  (时间差超过 30 天)\n",
      "已删除边：(1490361007738290176, 1.490279654099325e+18)  (时间差超过 30 天)\n",
      "已删除边：(1490361007738290176, 1.4903128148918313e+18)  (时间差超过 30 天)\n",
      "已删除边：(1490361007738290176, 1.4891278126445568e+18)  (时间差超过 30 天)\n",
      "已删除边：(1490361007738290176, 1.4906798483603743e+18)  (时间差超过 30 天)\n",
      "已删除边：(1490361007738290176, 1.4902929900147466e+18)  (时间差超过 30 天)\n",
      "已删除边：(1490361007738290176, 1.486682367364272e+18)  (时间差超过 30 天)\n",
      "已删除边：(1490361007738290176, 1.4906900686164623e+18)  (时间差超过 30 天)\n",
      "已删除边：(1490361007738290176, 1.49069008290227e+18)  (时间差超过 30 天)\n",
      "已删除边：(1490361007738290176, 1.4906900917103084e+18)  (时间差超过 30 天)\n",
      "已删除边：(1490361007738290176, 1.4907053473630945e+18)  (时间差超过 30 天)\n"
     ]
    },
    {
     "name": "stderr",
     "output_type": "stream",
     "text": [
      "删除过期节点: 100%|████████████████████████████████████████████████████████████████████████████████████████████████████████████████████████████████████████████| 16/16 [00:00<00:00, 49784.02节点/s]\n"
     ]
    },
    {
     "name": "stdout",
     "output_type": "stream",
     "text": [
      "已删除节点：1490361007738290176  (时间差超过 30 天)\n",
      "已删除节点：1.4904905420646113e+18  (时间差超过 30 天)\n",
      "已删除节点：1.4905273737285673e+18  (时间差超过 30 天)\n",
      "已删除节点：1.4904965120816824e+18  (时间差超过 30 天)\n",
      "已删除节点：1.4905894312960532e+18  (时间差超过 30 天)\n",
      "已删除节点：1.490608055259525e+18  (时间差超过 30 天)\n",
      "已删除节点：1.490279654099325e+18  (时间差超过 30 天)\n",
      "已删除节点：1.4903128148918313e+18  (时间差超过 30 天)\n",
      "已删除节点：1.4891278126445568e+18  (时间差超过 30 天)\n",
      "已删除节点：1.4906798483603743e+18  (时间差超过 30 天)\n",
      "已删除节点：1.4902929900147466e+18  (时间差超过 30 天)\n",
      "已删除节点：1.486682367364272e+18  (时间差超过 30 天)\n",
      "已删除节点：1.4906900917103084e+18  (时间差超过 30 天)\n",
      "已删除节点：1.4906900686164623e+18  (时间差超过 30 天)\n",
      "已删除节点：1.4907053473630945e+18  (时间差超过 30 天)\n",
      "已删除节点：1.49069008290227e+18  (时间差超过 30 天)\n"
     ]
    },
    {
     "name": "stderr",
     "output_type": "stream",
     "text": [
      "删除过期节点: 0节点 [00:00, ?节点/s]\n",
      "删除过期节点: 0节点 [00:00, ?节点/s]\n",
      "删除过期节点: 0节点 [00:00, ?节点/s]\n",
      "删除过期节点: 0节点 [00:00, ?节点/s]\n",
      "删除过期节点: 0节点 [00:00, ?节点/s]\n",
      "删除过期节点: 0节点 [00:00, ?节点/s]\n",
      "删除过期节点: 0节点 [00:00, ?节点/s]\n",
      "删除过期节点: 0节点 [00:00, ?节点/s]\n",
      "删除过期节点: 0节点 [00:00, ?节点/s]\n",
      "删除过期节点: 0节点 [00:00, ?节点/s]\n",
      "删除过期节点: 0节点 [00:00, ?节点/s]\n",
      "删除过期节点: 0节点 [00:00, ?节点/s]\n",
      "删除过期节点: 0节点 [00:00, ?节点/s]\n",
      "删除过期节点: 0节点 [00:00, ?节点/s]\n",
      "删除过期节点: 0节点 [00:00, ?节点/s]\n",
      "删除过期节点: 0节点 [00:00, ?节点/s]\n",
      "删除过期节点: 0节点 [00:00, ?节点/s]\n",
      "删除过期节点: 0节点 [00:00, ?节点/s]\n",
      "删除过期节点: 0节点 [00:00, ?节点/s]\n"
     ]
    },
    {
     "name": "stdout",
     "output_type": "stream",
     "text": [
      "已删除边：(1497645581145030912, 1.497730941409796e+18)  (时间差超过 30 天)\n",
      "已删除边：(1497645581145030912, 1.497730943502725e+18)  (时间差超过 30 天)\n",
      "已删除边：(1497645581145030912, 1.4977309424457933e+18)  (时间差超过 30 天)\n",
      "已删除边：(1497645581145030912, 1.4976091384777114e+18)  (时间差超过 30 天)\n",
      "已删除边：(1497645581145030912, 1.4977530255150408e+18)  (时间差超过 30 天)\n",
      "已删除边：(1497645581145030912, 1.497436263707644e+18)  (时间差超过 30 天)\n",
      "已删除边：(1497645581145030912, 1.4978857139748332e+18)  (时间差超过 30 天)\n"
     ]
    },
    {
     "name": "stderr",
     "output_type": "stream",
     "text": [
      "删除过期节点: 100%|██████████████████████████████████████████████████████████████████████████████████████████████████████████████████████████████████████████████| 8/8 [00:00<00:00, 33189.35节点/s]\n"
     ]
    },
    {
     "name": "stdout",
     "output_type": "stream",
     "text": [
      "已删除节点：1497645581145030912  (时间差超过 30 天)\n",
      "已删除节点：1.497730941409796e+18  (时间差超过 30 天)\n",
      "已删除节点：1.497730943502725e+18  (时间差超过 30 天)\n",
      "已删除节点：1.4977309424457933e+18  (时间差超过 30 天)\n",
      "已删除节点：1.4976091384777114e+18  (时间差超过 30 天)\n",
      "已删除节点：1.4977530255150408e+18  (时间差超过 30 天)\n",
      "已删除节点：1.497436263707644e+18  (时间差超过 30 天)\n",
      "已删除节点：1.4978857139748332e+18  (时间差超过 30 天)\n"
     ]
    },
    {
     "name": "stderr",
     "output_type": "stream",
     "text": [
      "删除过期节点: 0节点 [00:00, ?节点/s]\n",
      "删除过期节点: 0节点 [00:00, ?节点/s]\n",
      "删除过期节点: 0节点 [00:00, ?节点/s]\n",
      "删除过期节点: 0节点 [00:00, ?节点/s]\n",
      "删除过期节点: 0节点 [00:00, ?节点/s]\n",
      "删除过期节点: 0节点 [00:00, ?节点/s]\n",
      "删除过期节点: 0节点 [00:00, ?节点/s]\n"
     ]
    },
    {
     "name": "stdout",
     "output_type": "stream",
     "text": [
      "已删除边：(1500621944882102272, 1.5006941849188598e+18)  (时间差超过 30 天)\n",
      "已删除边：(1500621944882102272, 1.5004421415162716e+18)  (时间差超过 30 天)\n",
      "已删除边：(1500621944882102272, 1.5007328608435118e+18)  (时间差超过 30 天)\n",
      "已删除边：(1500621944882102272, 1.5007342769621115e+18)  (时间差超过 30 天)\n",
      "已删除边：(1500621944882102272, 1.500736350395388e+18)  (时间差超过 30 天)\n",
      "已删除边：(1500621944882102272, 1.50073721591518e+18)  (时间差超过 30 天)\n",
      "已删除边：(1500621944882102272, 1.500738049176572e+18)  (时间差超过 30 天)\n",
      "已删除边：(1500621944882102272, 1.5007400116243333e+18)  (时间差超过 30 天)\n",
      "已删除边：(1500621944882102272, 1.5007415339721114e+18)  (时间差超过 30 天)\n",
      "已删除边：(1500621944882102272, 1.500743569241346e+18)  (时间差超过 30 天)\n",
      "已删除边：(1500621944882102272, 1.5007444596543693e+18)  (时间差超过 30 天)\n",
      "已删除边：(1500621944882102272, 1.5007693910799974e+18)  (时间差超过 30 天)\n",
      "已删除边：(1500621944882102272, 1.5007808193082327e+18)  (时间差超过 30 天)\n",
      "已删除边：(1500621944882102272, 1.500491755870896e+18)  (时间差超过 30 天)\n",
      "已删除边：(1500621944882102272, 1.5008042199887012e+18)  (时间差超过 30 天)\n",
      "已删除边：(1500621944882102272, 1.5008151976230953e+18)  (时间差超过 30 天)\n",
      "已删除边：(1500621944882102272, 1.500815199854424e+18)  (时间差超过 30 天)\n",
      "已删除边：(1500621944882102272, 1.5008154516720886e+18)  (时间差超过 30 天)\n",
      "已删除边：(1500621944882102272, 1.5008276239072338e+18)  (时间差超过 30 天)\n"
     ]
    },
    {
     "name": "stderr",
     "output_type": "stream",
     "text": [
      "删除过期节点: 100%|████████████████████████████████████████████████████████████████████████████████████████████████████████████████████████████████████████████| 20/20 [00:00<00:00, 60611.33节点/s]\n"
     ]
    },
    {
     "name": "stdout",
     "output_type": "stream",
     "text": [
      "已删除节点：1500621944882102272  (时间差超过 30 天)\n",
      "已删除节点：1.5006941849188598e+18  (时间差超过 30 天)\n",
      "已删除节点：1.5004421415162716e+18  (时间差超过 30 天)\n",
      "已删除节点：1.5007342769621115e+18  (时间差超过 30 天)\n",
      "已删除节点：1.5007328608435118e+18  (时间差超过 30 天)\n",
      "已删除节点：1.500736350395388e+18  (时间差超过 30 天)\n",
      "已删除节点：1.50073721591518e+18  (时间差超过 30 天)\n",
      "已删除节点：1.500738049176572e+18  (时间差超过 30 天)\n",
      "已删除节点：1.5007400116243333e+18  (时间差超过 30 天)\n",
      "已删除节点：1.5007415339721114e+18  (时间差超过 30 天)\n",
      "已删除节点：1.500743569241346e+18  (时间差超过 30 天)\n",
      "已删除节点：1.5007693910799974e+18  (时间差超过 30 天)\n",
      "已删除节点：1.5007808193082327e+18  (时间差超过 30 天)\n",
      "已删除节点：1.500491755870896e+18  (时间差超过 30 天)\n",
      "已删除节点：1.500815199854424e+18  (时间差超过 30 天)\n",
      "已删除节点：1.5008151976230953e+18  (时间差超过 30 天)\n",
      "已删除节点：1.5008154516720886e+18  (时间差超过 30 天)\n",
      "已删除节点：1.5008042199887012e+18  (时间差超过 30 天)\n",
      "已删除节点：1.5007444596543693e+18  (时间差超过 30 天)\n",
      "已删除节点：1.5008276239072338e+18  (时间差超过 30 天)\n"
     ]
    },
    {
     "name": "stderr",
     "output_type": "stream",
     "text": [
      "删除过期节点: 0节点 [00:00, ?节点/s]\n",
      "删除过期节点: 0节点 [00:00, ?节点/s]\n",
      "删除过期节点: 0节点 [00:00, ?节点/s]\n",
      "删除过期节点: 0节点 [00:00, ?节点/s]\n",
      "删除过期节点: 0节点 [00:00, ?节点/s]\n",
      "删除过期节点: 0节点 [00:00, ?节点/s]\n",
      "删除过期节点: 0节点 [00:00, ?节点/s]\n",
      "删除过期节点: 0节点 [00:00, ?节点/s]\n",
      "删除过期节点: 0节点 [00:00, ?节点/s]\n",
      "删除过期节点: 0节点 [00:00, ?节点/s]\n",
      "删除过期节点: 0节点 [00:00, ?节点/s]\n"
     ]
    },
    {
     "name": "stdout",
     "output_type": "stream",
     "text": [
      "已删除边：(1504956652730175488, 1.505110897714471e+18)  (时间差超过 30 天)\n",
      "已删除边：(1504956652730175488, 1.5051415758772347e+18)  (时间差超过 30 天)\n",
      "已删除边：(1504956652730175488, 1.5051416372902298e+18)  (时间差超过 30 天)\n",
      "已删除边：(1504956652730175488, 1.5052495671677297e+18)  (时间差超过 30 天)\n"
     ]
    },
    {
     "name": "stderr",
     "output_type": "stream",
     "text": [
      "删除过期节点: 100%|██████████████████████████████████████████████████████████████████████████████████████████████████████████████████████████████████████████████| 5/5 [00:00<00:00, 24877.25节点/s]\n"
     ]
    },
    {
     "name": "stdout",
     "output_type": "stream",
     "text": [
      "已删除节点：1504956652730175488  (时间差超过 30 天)\n",
      "已删除节点：1.505110897714471e+18  (时间差超过 30 天)\n",
      "已删除节点：1.5051415758772347e+18  (时间差超过 30 天)\n",
      "已删除节点：1.5052495671677297e+18  (时间差超过 30 天)\n",
      "已删除节点：1.5051416372902298e+18  (时间差超过 30 天)\n"
     ]
    },
    {
     "name": "stderr",
     "output_type": "stream",
     "text": [
      "删除过期节点: 0节点 [00:00, ?节点/s]\n",
      "删除过期节点: 0节点 [00:00, ?节点/s]\n",
      "删除过期节点: 0节点 [00:00, ?节点/s]\n",
      "删除过期节点: 0节点 [00:00, ?节点/s]\n",
      "删除过期节点: 0节点 [00:00, ?节点/s]\n",
      "删除过期节点: 0节点 [00:00, ?节点/s]\n",
      "删除过期节点: 0节点 [00:00, ?节点/s]\n",
      "删除过期节点: 0节点 [00:00, ?节点/s]\n",
      "删除过期节点: 0节点 [00:00, ?节点/s]\n"
     ]
    },
    {
     "name": "stdout",
     "output_type": "stream",
     "text": [
      "已删除边：(1508472256283828224, 1.508619493320249e+18)  (时间差超过 30 天)\n",
      "已删除边：(1508472256283828224, 1.4818967549119857e+18)  (时间差超过 30 天)\n",
      "已删除边：(1508472256283828224, 1.5087042947990364e+18)  (时间差超过 30 天)\n",
      "已删除边：(1508472256283828224, 1.5087042976763085e+18)  (时间差超过 30 天)\n",
      "已删除边：(1508472256283828224, 1.5087027028551393e+18)  (时间差超过 30 天)\n",
      "已删除边：(1508472256283828224, 1.5086289122046198e+18)  (时间差超过 30 天)\n",
      "已删除边：(1508472256283828224, 1.5087212457472983e+18)  (时间差超过 30 天)\n",
      "已删除边：(1508472256283828224, 1.5087212491488952e+18)  (时间差超过 30 天)\n",
      "已删除边：(1508472256283828224, 1.5087346798891213e+18)  (时间差超过 30 天)\n",
      "已删除边：(1508472256283828224, 1.5087346845783532e+18)  (时间差超过 30 天)\n"
     ]
    },
    {
     "name": "stderr",
     "output_type": "stream",
     "text": [
      "删除过期节点: 100%|████████████████████████████████████████████████████████████████████████████████████████████████████████████████████████████████████████████| 11/11 [00:00<00:00, 44235.23节点/s]\n"
     ]
    },
    {
     "name": "stdout",
     "output_type": "stream",
     "text": [
      "已删除节点：1508472256283828224  (时间差超过 30 天)\n",
      "已删除节点：1.508619493320249e+18  (时间差超过 30 天)\n",
      "已删除节点：1.5087042947990364e+18  (时间差超过 30 天)\n",
      "已删除节点：1.5087042976763085e+18  (时间差超过 30 天)\n",
      "已删除节点：1.4818967549119857e+18  (时间差超过 30 天)\n",
      "已删除节点：1.5087027028551393e+18  (时间差超过 30 天)\n",
      "已删除节点：1.5086289122046198e+18  (时间差超过 30 天)\n",
      "已删除节点：1.5087212457472983e+18  (时间差超过 30 天)\n",
      "已删除节点：1.5087212491488952e+18  (时间差超过 30 天)\n",
      "已删除节点：1.5087346798891213e+18  (时间差超过 30 天)\n",
      "已删除节点：1.5087346845783532e+18  (时间差超过 30 天)\n"
     ]
    },
    {
     "name": "stderr",
     "output_type": "stream",
     "text": [
      "删除过期节点: 0节点 [00:00, ?节点/s]\n",
      "删除过期节点: 0节点 [00:00, ?节点/s]\n",
      "删除过期节点: 0节点 [00:00, ?节点/s]\n",
      "删除过期节点: 0节点 [00:00, ?节点/s]\n",
      "删除过期节点: 0节点 [00:00, ?节点/s]\n"
     ]
    },
    {
     "name": "stdout",
     "output_type": "stream",
     "text": [
      "已删除边：(1510649551836762112, 1.5108101380214907e+18)  (时间差超过 30 天)\n",
      "已删除边：(1510649551836762112, 1.51078998526745e+18)  (时间差超过 30 天)\n",
      "已删除边：(1510649551836762112, 1.5108178556877332e+18)  (时间差超过 30 天)\n",
      "已删除边：(1510649551836762112, 1.5105578039324385e+18)  (时间差超过 30 天)\n",
      "已删除边：(1510649551836762112, 1.510786418024788e+18)  (时间差超过 30 天)\n",
      "已删除边：(1510649551836762112, 1.510543432392999e+18)  (时间差超过 30 天)\n"
     ]
    },
    {
     "name": "stderr",
     "output_type": "stream",
     "text": [
      "删除过期节点: 100%|██████████████████████████████████████████████████████████████████████████████████████████████████████████████████████████████████████████████| 7/7 [00:00<00:00, 10474.54节点/s]\n"
     ]
    },
    {
     "name": "stdout",
     "output_type": "stream",
     "text": [
      "已删除节点：1510649551836762112  (时间差超过 30 天)\n",
      "已删除节点：1.5108101380214907e+18  (时间差超过 30 天)\n",
      "已删除节点：1.5108178556877332e+18  (时间差超过 30 天)\n",
      "已删除节点：1.51078998526745e+18  (时间差超过 30 天)\n",
      "已删除节点：1.5105578039324385e+18  (时间差超过 30 天)\n",
      "已删除节点：1.510786418024788e+18  (时间差超过 30 天)\n",
      "已删除节点：1.510543432392999e+18  (时间差超过 30 天)\n"
     ]
    },
    {
     "name": "stderr",
     "output_type": "stream",
     "text": [
      "删除过期节点: 0节点 [00:00, ?节点/s]\n",
      "删除过期节点: 0节点 [00:00, ?节点/s]\n",
      "删除过期节点: 0节点 [00:00, ?节点/s]\n",
      "删除过期节点: 0节点 [00:00, ?节点/s]\n"
     ]
    },
    {
     "name": "stdout",
     "output_type": "stream",
     "text": [
      "已删除边：(1512578995610599424, 1.5126639388187238e+18)  (时间差超过 30 天)\n",
      "已删除边：(1512578995610599424, 1.5127218234186875e+18)  (时间差超过 30 天)\n",
      "已删除边：(1512578995610599424, 1.512781190297981e+18)  (时间差超过 30 天)\n",
      "已删除边：(1512578995610599424, 1.5124708054262948e+18)  (时间差超过 30 天)\n"
     ]
    },
    {
     "name": "stderr",
     "output_type": "stream",
     "text": [
      "删除过期节点: 100%|██████████████████████████████████████████████████████████████████████████████████████████████████████████████████████████████████████████████| 5/5 [00:00<00:00, 22944.77节点/s]\n"
     ]
    },
    {
     "name": "stdout",
     "output_type": "stream",
     "text": [
      "已删除节点：1512578995610599424  (时间差超过 30 天)\n",
      "已删除节点：1.5126639388187238e+18  (时间差超过 30 天)\n",
      "已删除节点：1.512781190297981e+18  (时间差超过 30 天)\n",
      "已删除节点：1.5124708054262948e+18  (时间差超过 30 天)\n",
      "已删除节点：1.5127218234186875e+18  (时间差超过 30 天)\n"
     ]
    },
    {
     "name": "stderr",
     "output_type": "stream",
     "text": [
      "删除过期节点: 0节点 [00:00, ?节点/s]\n"
     ]
    },
    {
     "name": "stdout",
     "output_type": "stream",
     "text": [
      "已删除边：(1513184417602170880, 1.5132050027806966e+18)  (时间差超过 30 天)\n",
      "已删除边：(1513184417602170880, 1.513360349348905e+18)  (时间差超过 30 天)\n",
      "已删除边：(1513184417602170880, 1.513370720868647e+18)  (时间差超过 30 天)\n",
      "已删除边：(1513184417602170880, 1.5133955255672586e+18)  (时间差超过 30 天)\n",
      "已删除边：(1513184417602170880, 1.513441832310829e+18)  (时间差超过 30 天)\n",
      "已删除边：(1513184417602170880, 1.513444006641877e+18)  (时间差超过 30 天)\n",
      "已删除边：(1513184417602170880, 1.5134440712550769e+18)  (时间差超过 30 天)\n",
      "已删除边：(1513184417602170880, 1.5134497609378775e+18)  (时间差超过 30 天)\n",
      "已删除边：(1513184417602170880, 1.513450411000496e+18)  (时间差超过 30 天)\n"
     ]
    },
    {
     "name": "stderr",
     "output_type": "stream",
     "text": [
      "删除过期节点: 100%|████████████████████████████████████████████████████████████████████████████████████████████████████████████████████████████████████████████| 10/10 [00:00<00:00, 38728.57节点/s]\n"
     ]
    },
    {
     "name": "stdout",
     "output_type": "stream",
     "text": [
      "已删除节点：1513184417602170880  (时间差超过 30 天)\n",
      "已删除节点：1.5132050027806966e+18  (时间差超过 30 天)\n",
      "已删除节点：1.513370720868647e+18  (时间差超过 30 天)\n",
      "已删除节点：1.513360349348905e+18  (时间差超过 30 天)\n",
      "已删除节点：1.5133955255672586e+18  (时间差超过 30 天)\n",
      "已删除节点：1.513441832310829e+18  (时间差超过 30 天)\n",
      "已删除节点：1.513444006641877e+18  (时间差超过 30 天)\n",
      "已删除节点：1.5134440712550769e+18  (时间差超过 30 天)\n",
      "已删除节点：1.5134497609378775e+18  (时间差超过 30 天)\n",
      "已删除节点：1.513450411000496e+18  (时间差超过 30 天)\n"
     ]
    },
    {
     "name": "stderr",
     "output_type": "stream",
     "text": [
      "删除过期节点: 0节点 [00:00, ?节点/s]\n",
      "删除过期节点: 0节点 [00:00, ?节点/s]\n"
     ]
    },
    {
     "name": "stdout",
     "output_type": "stream",
     "text": [
      "已删除边：(1514392340374253568, 1.5142540474734633e+18)  (时间差超过 30 天)\n",
      "已删除边：(1514392340374253568, 1.5144197708040438e+18)  (时间差超过 30 天)\n",
      "已删除边：(1514392340374253568, 1.5144209053716603e+18)  (时间差超过 30 天)\n",
      "已删除边：(1514392340374253568, 1.5144167686341468e+18)  (时间差超过 30 天)\n",
      "已删除边：(1514392340374253568, 1.5144535039466086e+18)  (时间差超过 30 天)\n",
      "已删除边：(1514392340374253568, 1.5144565520563896e+18)  (时间差超过 30 天)\n",
      "已删除边：(1514392340374253568, 1.5144819313662566e+18)  (时间差超过 30 天)\n",
      "已删除边：(1514392340374253568, 1.5144982184149445e+18)  (时间差超过 30 天)\n",
      "已删除边：(1514392340374253568, 1.5144982209817764e+18)  (时间差超过 30 天)\n",
      "已删除边：(1514392340374253568, 1.5144982237835717e+18)  (时间差超过 30 天)\n",
      "已删除边：(1514392340374253568, 1.5144387300182876e+18)  (时间差超过 30 天)\n",
      "已删除边：(1514392340374253568, 1.5144684911260017e+18)  (时间差超过 30 天)\n",
      "已删除边：(1514392340374253568, 1.5145244232186675e+18)  (时间差超过 30 天)\n",
      "已删除边：(1514392340374253568, 1.5145463149812204e+18)  (时间差超过 30 天)\n",
      "已删除边：(1514392340374253568, 1.5146019790450278e+18)  (时间差超过 30 天)\n"
     ]
    },
    {
     "name": "stderr",
     "output_type": "stream",
     "text": [
      "删除过期节点: 100%|████████████████████████████████████████████████████████████████████████████████████████████████████████████████████████████████████████████| 16/16 [00:00<00:00, 56394.00节点/s]\n"
     ]
    },
    {
     "name": "stdout",
     "output_type": "stream",
     "text": [
      "已删除节点：1514392340374253568  (时间差超过 30 天)\n",
      "已删除节点：1.5142540474734633e+18  (时间差超过 30 天)\n",
      "已删除节点：1.5144209053716603e+18  (时间差超过 30 天)\n",
      "已删除节点：1.5144167686341468e+18  (时间差超过 30 天)\n",
      "已删除节点：1.5144197708040438e+18  (时间差超过 30 天)\n",
      "已删除节点：1.5144535039466086e+18  (时间差超过 30 天)\n",
      "已删除节点：1.5144565520563896e+18  (时间差超过 30 天)\n",
      "已删除节点：1.5144819313662566e+18  (时间差超过 30 天)\n",
      "已删除节点：1.5144982184149445e+18  (时间差超过 30 天)\n",
      "已删除节点：1.5144982209817764e+18  (时间差超过 30 天)\n",
      "已删除节点：1.5144982237835717e+18  (时间差超过 30 天)\n",
      "已删除节点：1.5144387300182876e+18  (时间差超过 30 天)\n",
      "已删除节点：1.5145244232186675e+18  (时间差超过 30 天)\n",
      "已删除节点：1.5145463149812204e+18  (时间差超过 30 天)\n",
      "已删除节点：1.5146019790450278e+18  (时间差超过 30 天)\n",
      "已删除节点：1.5144684911260017e+18  (时间差超过 30 天)\n"
     ]
    },
    {
     "name": "stderr",
     "output_type": "stream",
     "text": [
      "删除过期节点: 0节点 [00:00, ?节点/s]\n",
      "删除过期节点: 0节点 [00:00, ?节点/s]\n",
      "删除过期节点: 0节点 [00:00, ?节点/s]\n",
      "删除过期节点: 0节点 [00:00, ?节点/s]\n",
      "删除过期节点: 0节点 [00:00, ?节点/s]\n",
      "删除过期节点: 0节点 [00:00, ?节点/s]\n"
     ]
    },
    {
     "name": "stdout",
     "output_type": "stream",
     "text": [
      "已删除边：(1516825409937059840, 1.5168254099370598e+18)  (时间差超过 30 天)\n",
      "已删除边：(1516825409937059840, 1.5169818782845215e+18)  (时间差超过 30 天)\n",
      "已删除边：(1516825409937059840, 1.5166744298618511e+18)  (时间差超过 30 天)\n",
      "已删除边：(1516825409937059840, 1.516734642094842e+18)  (时间差超过 30 天)\n",
      "已删除边：(1516825409937059840, 1.5169875643385487e+18)  (时间差超过 30 天)\n",
      "已删除边：(1516825409937059840, 1.5167293596290048e+18)  (时间差超过 30 天)\n",
      "已删除边：(1516825409937059840, 1.5170128551489208e+18)  (时间差超过 30 天)\n",
      "已删除边：(1516825409937059840, 1.5170659534643855e+18)  (时间差超过 30 天)\n",
      "已删除边：(1516825409937059840, 1.5169818879940155e+18)  (时间差超过 30 天)\n",
      "已删除边：(1516825409937059840, 1.5171013159143424e+18)  (时间差超过 30 天)\n"
     ]
    },
    {
     "name": "stderr",
     "output_type": "stream",
     "text": [
      "删除过期节点: 100%|████████████████████████████████████████████████████████████████████████████████████████████████████████████████████████████████████████████| 10/10 [00:00<00:00, 41734.37节点/s]\n"
     ]
    },
    {
     "name": "stdout",
     "output_type": "stream",
     "text": [
      "已删除节点：1516825409937059840  (时间差超过 30 天)\n",
      "已删除节点：1.5169818782845215e+18  (时间差超过 30 天)\n",
      "已删除节点：1.5166744298618511e+18  (时间差超过 30 天)\n",
      "已删除节点：1.5169875643385487e+18  (时间差超过 30 天)\n",
      "已删除节点：1.516734642094842e+18  (时间差超过 30 天)\n",
      "已删除节点：1.5167293596290048e+18  (时间差超过 30 天)\n",
      "已删除节点：1.5170128551489208e+18  (时间差超过 30 天)\n",
      "已删除节点：1.5170659534643855e+18  (时间差超过 30 天)\n",
      "已删除节点：1.5169818879940155e+18  (时间差超过 30 天)\n",
      "已删除节点：1.5171013159143424e+18  (时间差超过 30 天)\n",
      "已删除边：(1517178448716124160, 1.5173227234788352e+18)  (时间差超过 30 天)\n",
      "已删除边：(1517178448716124160, 1.5173227257353544e+18)  (时间差超过 30 天)\n",
      "已删除边：(1517178448716124160, 1.51735552436668e+18)  (时间差超过 30 天)\n",
      "已删除边：(1517178448716124160, 1.5173574423338148e+18)  (时间差超过 30 天)\n",
      "已删除边：(1517178448716124160, 1.5173847644285174e+18)  (时间差超过 30 天)\n",
      "已删除边：(1517178448716124160, 1.5171511549787054e+18)  (时间差超过 30 天)\n",
      "已删除边：(1517178448716124160, 1.517241408981287e+18)  (时间差超过 30 天)\n",
      "已删除边：(1517178448716124160, 1.51739189703544e+18)  (时间差超过 30 天)\n",
      "已删除边：(1517178448716124160, 1.5174238857421292e+18)  (时间差超过 30 天)\n",
      "已删除边：(1517178448716124160, 1.5174257499257285e+18)  (时间差超过 30 天)\n",
      "已删除边：(1517178448716124160, 1.517083253693313e+18)  (时间差超过 30 天)\n"
     ]
    },
    {
     "name": "stderr",
     "output_type": "stream",
     "text": [
      "删除过期节点: 100%|████████████████████████████████████████████████████████████████████████████████████████████████████████████████████████████████████████████| 12/12 [00:00<00:00, 49152.00节点/s]"
     ]
    },
    {
     "name": "stdout",
     "output_type": "stream",
     "text": [
      "已删除节点：1517178448716124160  (时间差超过 30 天)\n",
      "已删除节点：1.5173227234788352e+18  (时间差超过 30 天)\n",
      "已删除节点：1.5173227257353544e+18  (时间差超过 30 天)\n",
      "已删除节点：1.51735552436668e+18  (时间差超过 30 天)\n",
      "已删除节点：1.5173574423338148e+18  (时间差超过 30 天)\n",
      "已删除节点：1.5173847644285174e+18  (时间差超过 30 天)\n",
      "已删除节点：1.5171511549787054e+18  (时间差超过 30 天)\n",
      "已删除节点：1.517241408981287e+18  (时间差超过 30 天)\n",
      "已删除节点：1.51739189703544e+18  (时间差超过 30 天)\n",
      "已删除节点：1.5174238857421292e+18  (时间差超过 30 天)\n",
      "已删除节点：1.5174257499257285e+18  (时间差超过 30 天)\n",
      "已删除节点：1.517083253693313e+18  (时间差超过 30 天)\n"
     ]
    },
    {
     "name": "stderr",
     "output_type": "stream",
     "text": [
      "\n",
      "删除过期节点: 0节点 [00:00, ?节点/s]\n"
     ]
    },
    {
     "name": "stdout",
     "output_type": "stream",
     "text": [
      "已删除边：(1517641736159301632, 1.5180464597650432e+18)  (时间差超过 30 天)\n",
      "已删除边：(1517914439500001280, 1.5180464597650432e+18)  (时间差超过 30 天)\n",
      "已删除边：(1517641736159301632, 1.5180521374814167e+18)  (时间差超过 30 天)\n",
      "已删除边：(1517914439500001280, 1.5180521374814167e+18)  (时间差超过 30 天)\n",
      "已删除边：(1517641736159301632, 1.518052135224889e+18)  (时间差超过 30 天)\n",
      "已删除边：(1517914439500001280, 1.518052135224889e+18)  (时间差超过 30 天)\n",
      "已删除边：(1517641736159301632, 1.5180521398721946e+18)  (时间差超过 30 天)\n",
      "已删除边：(1517914439500001280, 1.5180521398721946e+18)  (时间差超过 30 天)\n",
      "已删除边：(1517641736159301632, 1.518126387944575e+18)  (时间差超过 30 天)\n",
      "已删除边：(1517914439500001280, 1.518126387944575e+18)  (时间差超过 30 天)\n",
      "已删除边：(1517641736159301632, 1.5181265289193513e+18)  (时间差超过 30 天)\n",
      "已删除边：(1517914439500001280, 1.5181265289193513e+18)  (时间差超过 30 天)\n",
      "已删除边：(1517641736159301632, 1.5182290787968164e+18)  (时间差超过 30 天)\n",
      "已删除边：(1517914439500001280, 1.5182290787968164e+18)  (时间差超过 30 天)\n"
     ]
    },
    {
     "name": "stderr",
     "output_type": "stream",
     "text": [
      "删除过期节点: 100%|██████████████████████████████████████████████████████████████████████████████████████████████████████████████████████████████████████████████| 9/9 [00:00<00:00, 32768.00节点/s]\n"
     ]
    },
    {
     "name": "stdout",
     "output_type": "stream",
     "text": [
      "已删除节点：1517641736159301632  (时间差超过 30 天)\n",
      "已删除节点：1.5180464597650432e+18  (时间差超过 30 天)\n",
      "已删除节点：1517914439500001280  (时间差超过 30 天)\n",
      "已删除节点：1.518052135224889e+18  (时间差超过 30 天)\n",
      "已删除节点：1.5180521374814167e+18  (时间差超过 30 天)\n",
      "已删除节点：1.5180521398721946e+18  (时间差超过 30 天)\n",
      "已删除节点：1.518126387944575e+18  (时间差超过 30 天)\n",
      "已删除节点：1.5181265289193513e+18  (时间差超过 30 天)\n",
      "已删除节点：1.5182290787968164e+18  (时间差超过 30 天)\n"
     ]
    },
    {
     "name": "stderr",
     "output_type": "stream",
     "text": [
      "删除过期节点: 0节点 [00:00, ?节点/s]\n",
      "删除过期节点: 0节点 [00:00, ?节点/s]\n",
      "删除过期节点: 0节点 [00:00, ?节点/s]\n"
     ]
    },
    {
     "name": "stdout",
     "output_type": "stream",
     "text": [
      "已删除边：(1519335952610906112, 1.5194875170907136e+18)  (时间差超过 30 天)\n",
      "已删除边：(1519335952610906112, 1.5194978934339297e+18)  (时间差超过 30 天)\n",
      "已删除边：(1519335952610906112, 1.5194978965209293e+18)  (时间差超过 30 天)\n",
      "已删除边：(1519335952610906112, 1.5195920367182277e+18)  (时间差超过 30 天)\n",
      "已删除边：(1519335952610906112, 1.519365960938963e+18)  (时间差超过 30 天)\n",
      "已删除边：(1519335952610906112, 1.4706041875661824e+18)  (时间差超过 30 天)\n"
     ]
    },
    {
     "name": "stderr",
     "output_type": "stream",
     "text": [
      "删除过期节点: 100%|██████████████████████████████████████████████████████████████████████████████████████████████████████████████████████████████████████████████| 7/7 [00:00<00:00, 33631.30节点/s]\n"
     ]
    },
    {
     "name": "stdout",
     "output_type": "stream",
     "text": [
      "已删除节点：1519335952610906112  (时间差超过 30 天)\n",
      "已删除节点：1.5194875170907136e+18  (时间差超过 30 天)\n",
      "已删除节点：1.5194978934339297e+18  (时间差超过 30 天)\n",
      "已删除节点：1.5194978965209293e+18  (时间差超过 30 天)\n",
      "已删除节点：1.5195920367182277e+18  (时间差超过 30 天)\n",
      "已删除节点：1.519365960938963e+18  (时间差超过 30 天)\n",
      "已删除节点：1.4706041875661824e+18  (时间差超过 30 天)\n"
     ]
    },
    {
     "name": "stderr",
     "output_type": "stream",
     "text": [
      "删除过期节点: 0节点 [00:00, ?节点/s]\n",
      "删除过期节点: 0节点 [00:00, ?节点/s]\n"
     ]
    },
    {
     "name": "stdout",
     "output_type": "stream",
     "text": [
      "已删除边：(1520540247343648768, 1.5205579169062134e+18)  (时间差超过 30 天)\n",
      "已删除边：(1520540247343648768, 1.5206332108831457e+18)  (时间差超过 30 天)\n",
      "已删除边：(1520540247343648768, 1.5207661688642396e+18)  (时间差超过 30 天)\n",
      "已删除边：(1520540247343648768, 1.5207661737924567e+18)  (时间差超过 30 天)\n",
      "已删除边：(1520540247343648768, 1.5207661774877204e+18)  (时间差超过 30 天)\n",
      "已删除边：(1520540247343648768, 1.520766187772154e+18)  (时间差超过 30 天)\n",
      "已删除边：(1520540247343648768, 1.5207661912868987e+18)  (时间差超过 30 天)\n",
      "已删除边：(1520540247343648768, 1.5207667270127698e+18)  (时间差超过 30 天)\n",
      "已删除边：(1520540247343648768, 1.520766731379118e+18)  (时间差超过 30 天)\n",
      "已删除边：(1520540247343648768, 1.5207667347806945e+18)  (时间差超过 30 天)\n",
      "已删除边：(1520540247343648768, 1.5207736490827817e+18)  (时间差超过 30 天)\n"
     ]
    },
    {
     "name": "stderr",
     "output_type": "stream",
     "text": [
      "删除过期节点: 100%|████████████████████████████████████████████████████████████████████████████████████████████████████████████████████████████████████████████| 12/12 [00:00<00:00, 48164.26节点/s]\n"
     ]
    },
    {
     "name": "stdout",
     "output_type": "stream",
     "text": [
      "已删除节点：1520540247343648768  (时间差超过 30 天)\n",
      "已删除节点：1.5205579169062134e+18  (时间差超过 30 天)\n",
      "已删除节点：1.5207661688642396e+18  (时间差超过 30 天)\n",
      "已删除节点：1.5207661737924567e+18  (时间差超过 30 天)\n",
      "已删除节点：1.5206332108831457e+18  (时间差超过 30 天)\n",
      "已删除节点：1.5207661774877204e+18  (时间差超过 30 天)\n",
      "已删除节点：1.520766187772154e+18  (时间差超过 30 天)\n",
      "已删除节点：1.5207661912868987e+18  (时间差超过 30 天)\n",
      "已删除节点：1.5207667270127698e+18  (时间差超过 30 天)\n",
      "已删除节点：1.520766731379118e+18  (时间差超过 30 天)\n",
      "已删除节点：1.5207667347806945e+18  (时间差超过 30 天)\n",
      "已删除节点：1.5207736490827817e+18  (时间差超过 30 天)\n"
     ]
    },
    {
     "name": "stderr",
     "output_type": "stream",
     "text": [
      "删除过期节点: 0节点 [00:00, ?节点/s]\n",
      "删除过期节点: 0节点 [00:00, ?节点/s]\n",
      "删除过期节点: 0节点 [00:00, ?节点/s]\n",
      "删除过期节点: 0节点 [00:00, ?节点/s]\n",
      "删除过期节点: 0节点 [00:00, ?节点/s]\n",
      "删除过期节点: 0节点 [00:00, ?节点/s]\n",
      "删除过期节点: 0节点 [00:00, ?节点/s]\n",
      "删除过期节点: 0节点 [00:00, ?节点/s]\n",
      "删除过期节点: 0节点 [00:00, ?节点/s]\n",
      "删除过期节点: 0节点 [00:00, ?节点/s]\n"
     ]
    },
    {
     "name": "stdout",
     "output_type": "stream",
     "text": [
      "已删除边：(1524512674091962368, 1.5243603807090565e+18)  (时间差超过 30 天)\n",
      "已删除边：(1524512674091962368, 1.5246311237996708e+18)  (时间差超过 30 天)\n",
      "已删除边：(1524512674091962368, 1.5246418299748557e+18)  (时间差超过 30 天)\n",
      "已删除边：(1524512674091962368, 1.5246455788773335e+18)  (时间差超过 30 天)\n",
      "已删除边：(1524512674091962368, 1.5246457139087442e+18)  (时间差超过 30 天)\n",
      "已删除边：(1524512674091962368, 1.524666479517479e+18)  (时间差超过 30 天)\n",
      "已删除边：(1524512674091962368, 1.524714194037506e+18)  (时间差超过 30 天)\n",
      "已删除边：(1524512674091962368, 1.5246504187306353e+18)  (时间差超过 30 天)\n"
     ]
    },
    {
     "name": "stderr",
     "output_type": "stream",
     "text": [
      "删除过期节点: 100%|██████████████████████████████████████████████████████████████████████████████████████████████████████████████████████████████████████████████| 9/9 [00:00<00:00, 38956.38节点/s]\n"
     ]
    },
    {
     "name": "stdout",
     "output_type": "stream",
     "text": [
      "已删除节点：1524512674091962368  (时间差超过 30 天)\n",
      "已删除节点：1.5243603807090565e+18  (时间差超过 30 天)\n",
      "已删除节点：1.5246418299748557e+18  (时间差超过 30 天)\n",
      "已删除节点：1.5246311237996708e+18  (时间差超过 30 天)\n",
      "已删除节点：1.5246455788773335e+18  (时间差超过 30 天)\n",
      "已删除节点：1.5246457139087442e+18  (时间差超过 30 天)\n",
      "已删除节点：1.524666479517479e+18  (时间差超过 30 天)\n",
      "已删除节点：1.524714194037506e+18  (时间差超过 30 天)\n",
      "已删除节点：1.5246504187306353e+18  (时间差超过 30 天)\n"
     ]
    },
    {
     "name": "stderr",
     "output_type": "stream",
     "text": [
      "删除过期节点: 0节点 [00:00, ?节点/s]\n",
      "删除过期节点: 0节点 [00:00, ?节点/s]\n",
      "删除过期节点: 0节点 [00:00, ?节点/s]\n",
      "删除过期节点: 0节点 [00:00, ?节点/s]\n",
      "删除过期节点: 0节点 [00:00, ?节点/s]\n",
      "删除过期节点: 0节点 [00:00, ?节点/s]\n"
     ]
    },
    {
     "name": "stdout",
     "output_type": "stream",
     "text": [
      "已删除边：(1527067213437587712, 1.5272091843951124e+18)  (时间差超过 30 天)\n",
      "已删除边：(1527067213437587712, 1.5272091904224584e+18)  (时间差超过 30 天)\n",
      "已删除边：(1527067213437587712, 1.527209193945432e+18)  (时间差超过 30 天)\n",
      "已删除边：(1527067213437587712, 1.5272091966802289e+18)  (时间差超过 30 天)\n",
      "已删除边：(1527067213437587712, 1.527209199234478e+18)  (时间差超过 30 天)\n",
      "已删除边：(1527067213437587712, 1.5272092126772224e+18)  (时间差超过 30 天)\n",
      "已删除边：(1527067213437587712, 1.527112524843438e+18)  (时间差超过 30 天)\n",
      "已删除边：(1527067213437587712, 1.5272321879131054e+18)  (时间差超过 30 天)\n",
      "已删除边：(1527067213437587712, 1.5272469654191596e+18)  (时间差超过 30 天)\n",
      "已删除边：(1527067213437587712, 1.5272568056967537e+18)  (时间差超过 30 天)\n",
      "已删除边：(1527067213437587712, 1.5272568504415887e+18)  (时间差超过 30 天)\n",
      "已删除边：(1527067213437587712, 1.5272569007690342e+18)  (时间差超过 30 天)\n"
     ]
    },
    {
     "name": "stderr",
     "output_type": "stream",
     "text": [
      "删除过期节点: 100%|████████████████████████████████████████████████████████████████████████████████████████████████████████████████████████████████████████████| 13/13 [00:00<00:00, 48082.85节点/s]\n"
     ]
    },
    {
     "name": "stdout",
     "output_type": "stream",
     "text": [
      "已删除节点：1527067213437587712  (时间差超过 30 天)\n",
      "已删除节点：1.5272091843951124e+18  (时间差超过 30 天)\n",
      "已删除节点：1.5272091904224584e+18  (时间差超过 30 天)\n",
      "已删除节点：1.5272091966802289e+18  (时间差超过 30 天)\n",
      "已删除节点：1.527209193945432e+18  (时间差超过 30 天)\n",
      "已删除节点：1.527209199234478e+18  (时间差超过 30 天)\n",
      "已删除节点：1.5272092126772224e+18  (时间差超过 30 天)\n",
      "已删除节点：1.527112524843438e+18  (时间差超过 30 天)\n",
      "已删除节点：1.5272321879131054e+18  (时间差超过 30 天)\n",
      "已删除节点：1.5272469654191596e+18  (时间差超过 30 天)\n",
      "已删除节点：1.5272568056967537e+18  (时间差超过 30 天)\n",
      "已删除节点：1.5272569007690342e+18  (时间差超过 30 天)\n",
      "已删除节点：1.5272568504415887e+18  (时间差超过 30 天)\n"
     ]
    },
    {
     "name": "stderr",
     "output_type": "stream",
     "text": [
      "删除过期节点: 0节点 [00:00, ?节点/s]\n"
     ]
    },
    {
     "name": "stdout",
     "output_type": "stream",
     "text": [
      "已删除边：(1527799510998474752, 1.5278838812609372e+18)  (时间差超过 30 天)\n"
     ]
    },
    {
     "name": "stderr",
     "output_type": "stream",
     "text": [
      "删除过期节点: 100%|██████████████████████████████████████████████████████████████████████████████████████████████████████████████████████████████████████████████| 2/2 [00:00<00:00, 11602.50节点/s]\n"
     ]
    },
    {
     "name": "stdout",
     "output_type": "stream",
     "text": [
      "已删除节点：1527799510998474752  (时间差超过 30 天)\n",
      "已删除节点：1.5278838812609372e+18  (时间差超过 30 天)\n"
     ]
    },
    {
     "name": "stderr",
     "output_type": "stream",
     "text": [
      "删除过期节点: 0节点 [00:00, ?节点/s]\n",
      "删除过期节点: 0节点 [00:00, ?节点/s]\n",
      "删除过期节点: 0节点 [00:00, ?节点/s]\n",
      "删除过期节点: 0节点 [00:00, ?节点/s]\n",
      "删除过期节点: 0节点 [00:00, ?节点/s]\n",
      "删除过期节点: 0节点 [00:00, ?节点/s]\n",
      "删除过期节点: 0节点 [00:00, ?节点/s]\n"
     ]
    },
    {
     "name": "stdout",
     "output_type": "stream",
     "text": [
      "已删除边：(1530682985481383936, 1.5303287933818634e+18)  (时间差超过 30 天)\n",
      "已删除边：(1530682985481383936, 1.5307836532648878e+18)  (时间差超过 30 天)\n",
      "已删除边：(1530682985481383936, 1.530818490264785e+18)  (时间差超过 30 天)\n",
      "已删除边：(1530682985481383936, 1.5308217596114616e+18)  (时间差超过 30 天)\n",
      "已删除边：(1530682985481383936, 1.531058473123074e+18)  (时间差超过 30 天)\n"
     ]
    },
    {
     "name": "stderr",
     "output_type": "stream",
     "text": [
      "删除过期节点: 100%|██████████████████████████████████████████████████████████████████████████████████████████████████████████████████████████████████████████████| 6/6 [00:00<00:00, 29194.69节点/s]\n"
     ]
    },
    {
     "name": "stdout",
     "output_type": "stream",
     "text": [
      "已删除节点：1530682985481383936  (时间差超过 30 天)\n",
      "已删除节点：1.5303287933818634e+18  (时间差超过 30 天)\n",
      "已删除节点：1.5307836532648878e+18  (时间差超过 30 天)\n",
      "已删除节点：1.530818490264785e+18  (时间差超过 30 天)\n",
      "已删除节点：1.5308217596114616e+18  (时间差超过 30 天)\n",
      "已删除节点：1.531058473123074e+18  (时间差超过 30 天)\n"
     ]
    },
    {
     "name": "stderr",
     "output_type": "stream",
     "text": [
      "删除过期节点: 0节点 [00:00, ?节点/s]"
     ]
    },
    {
     "name": "stdout",
     "output_type": "stream",
     "text": [
      "已删除边：(1533230623048888320, 1.533247920610644e+18)  (时间差超过 30 天)\n",
      "已删除边：(1533230623048888320, 1.5333373651622748e+18)  (时间差超过 30 天)\n",
      "已删除边：(1533230623048888320, 1.5334487497791406e+18)  (时间差超过 30 天)\n",
      "已删除边：(1533230623048888320, 1.533403339609854e+18)  (时间差超过 30 天)\n",
      "已删除边：(1533230623048888320, 1.5334505936203448e+18)  (时间差超过 30 天)\n",
      "已删除边：(1533230623048888320, 1.533579869828698e+18)  (时间差超过 30 天)\n",
      "已删除边：(1533230623048888320, 1.533645930532307e+18)  (时间差超过 30 天)\n",
      "已删除边：(1533230623048888320, 1.5336925695821906e+18)  (时间差超过 30 天)\n",
      "已删除边：(1533230623048888320, 1.533717646084313e+18)  (时间差超过 30 天)\n",
      "已删除边：(1533230623048888320, 1.5337481136717865e+18)  (时间差超过 30 天)\n",
      "已删除边：(1533230623048888320, 1.5337485048619786e+18)  (时间差超过 30 天)\n",
      "已删除边：(1533230623048888320, 1.5337497950339973e+18)  (时间差超过 30 天)\n",
      "已删除边：(1533230623048888320, 1.5337621990506043e+18)  (时间差超过 30 天)\n",
      "已删除边：(1533230623048888320, 1.5336239190765814e+18)  (时间差超过 30 天)\n",
      "已删除边：(1533230623048888320, 1.5337922649834824e+18)  (时间差超过 30 天)\n",
      "已删除边：(1533230623048888320, 1.533649467634864e+18)  (时间差超过 30 天)\n",
      "已删除边：(1533230623048888320, 1.533806300874031e+18)  (时间差超过 30 天)\n",
      "已删除边：(1533230623048888320, 1.5338099590998385e+18)  (时间差超过 30 天)\n",
      "已删除边：(1533230623048888320, 1.533811997300912e+18)  (时间差超过 30 天)\n",
      "已删除边：(1533230623048888320, 1.5338171513833103e+18)  (时间差超过 30 天)\n",
      "已删除边：(1533230623048888320, 1.5340479667467835e+18)  (时间差超过 30 天)\n",
      "已删除边：(1533230623048888320, 1.534080962593583e+18)  (时间差超过 30 天)\n",
      "已删除边：(1533230623048888320, 1.534119747725701e+18)  (时间差超过 30 天)\n",
      "已删除边：(1533230623048888320, 1.5341646978422129e+18)  (时间差超过 30 天)\n",
      "已删除边：(1533230623048888320, 1.5341611143508787e+18)  (时间差超过 30 天)\n",
      "已删除边：(1533230623048888320, 1.5275630452238623e+18)  (时间差超过 30 天)\n",
      "已删除边：(1533230623048888320, 1.5341935688807877e+18)  (时间差超过 30 天)\n",
      "已删除边：(1533230623048888320, 1.5342082657727488e+18)  (时间差超过 30 天)\n",
      "已删除边：(1533230623048888320, 1.534342451170644e+18)  (时间差超过 30 天)\n",
      "已删除边：(1533230623048888320, 1.5343501624073626e+18)  (时间差超过 30 天)\n",
      "已删除边：(1533230623048888320, 1.5343591162187694e+18)  (时间差超过 30 天)\n",
      "已删除边：(1533230623048888320, 1.5343713352327905e+18)  (时间差超过 30 天)\n",
      "已删除边：(1533230623048888320, 1.5343879439302085e+18)  (时间差超过 30 天)\n",
      "已删除边：(1533230623048888320, 1.534388405555327e+18)  (时间差超过 30 天)\n",
      "已删除边：(1533230623048888320, 1.5344202477546455e+18)  (时间差超过 30 天)\n",
      "已删除边：(1533230623048888320, 1.53445540399138e+18)  (时间差超过 30 天)\n",
      "已删除边：(1533230623048888320, 1.534460125494145e+18)  (时间差超过 30 天)\n",
      "已删除边：(1533230623048888320, 1.534163710754816e+18)  (时间差超过 30 天)\n",
      "已删除边：(1533230623048888320, 1.5344680588443648e+18)  (时间差超过 30 天)\n",
      "已删除边：(1533230623048888320, 1.534500937221296e+18)  (时间差超过 30 天)\n",
      "已删除边：(1533230623048888320, 1.5345536974765425e+18)  (时间差超过 30 天)\n",
      "已删除边：(1533230623048888320, 1.5302259296953344e+18)  (时间差超过 30 天)\n",
      "已删除边：(1533230623048888320, 1.5345691553696604e+18)  (时间差超过 30 天)\n",
      "已删除边：(1533230623048888320, 1.5345766699730043e+18)  (时间差超过 30 天)\n",
      "已删除边：(1533230623048888320, 1.534364832190845e+18)  (时间差超过 30 天)\n",
      "已删除边：(1533230623048888320, 1.5346663972966031e+18)  (时间差超过 30 天)\n",
      "已删除边：(1533230623048888320, 1.5347526478020403e+18)  (时间差超过 30 天)\n",
      "已删除边：(1533230623048888320, 1.5347975822284022e+18)  (时间差超过 30 天)\n",
      "已删除边：(1533230623048888320, 1.5333907403482767e+18)  (时间差超过 30 天)\n",
      "已删除边：(1533230623048888320, 1.5348218312820283e+18)  (时间差超过 30 天)\n",
      "已删除边：(1533230623048888320, 1.534915815723901e+18)  (时间差超过 30 天)\n",
      "已删除边：(1533230623048888320, 1.5350714287933563e+18)  (时间差超过 30 天)\n",
      "已删除边：(1533230623048888320, 1.5351006624169615e+18)  (时间差超过 30 天)\n",
      "已删除边：(1533230623048888320, 1.5351104693582602e+18)  (时间差超过 30 天)\n",
      "已删除边：(1533230623048888320, 1.5351104719838945e+18)  (时间差超过 30 天)\n",
      "已删除边：(1533230623048888320, 1.53514995939729e+18)  (时间差超过 30 天)\n",
      "已删除边：(1533230623048888320, 1.535192639095853e+18)  (时间差超过 30 天)\n",
      "已删除边：(1533230623048888320, 1.5356166407629332e+18)  (时间差超过 30 天)\n",
      "已删除边：(1533230623048888320, 1.535647431458599e+18)  (时间差超过 30 天)\n",
      "已删除边：(1533230623048888320, 1.5358115856203162e+18)  (时间差超过 30 天)\n",
      "已删除边：(1533230623048888320, 1.5360119319154117e+18)  (时间差超过 30 天)\n",
      "已删除边：(1533230623048888320, 1.536019389857747e+18)  (时间差超过 30 天)\n",
      "已删除边：(1533230623048888320, 1.5360193875550085e+18)  (时间差超过 30 天)\n",
      "已删除边：(1533230623048888320, 1.5361697126900165e+18)  (时间差超过 30 天)\n",
      "已删除边：(1536019389857746944, 1.5361697126900165e+18)  (时间差超过 30 天)\n",
      "已删除边：(1533230623048888320, 1.5362963918654136e+18)  (时间差超过 30 天)\n",
      "已删除边：(1536019389857746944, 1.5362963918654136e+18)  (时间差超过 30 天)\n",
      "已删除边：(1533230623048888320, 1.536296394851758e+18)  (时间差超过 30 天)\n",
      "已删除边：(1536019389857746944, 1.536296394851758e+18)  (时间差超过 30 天)\n",
      "已删除边：(1533230623048888320, 1.5361584246096118e+18)  (时间差超过 30 天)\n",
      "已删除边：(1536019389857746944, 1.5361584246096118e+18)  (时间差超过 30 天)\n",
      "已删除边：(1533230623048888320, 1.5363530688662075e+18)  (时间差超过 30 天)\n",
      "已删除边：(1536019389857746944, 1.5363530688662075e+18)  (时间差超过 30 天)\n",
      "已删除边：(1533230623048888320, 1.536364955024253e+18)  (时间差超过 30 天)\n",
      "已删除边：(1536019389857746944, 1.536364955024253e+18)  (时间差超过 30 天)\n",
      "已删除边：(1533230623048888320, 1.5363662483798385e+18)  (时间差超过 30 天)\n",
      "已删除边：(1536019389857746944, 1.5363662483798385e+18)  (时间差超过 30 天)\n",
      "已删除边：(1533230623048888320, 1.536263635932422e+18)  (时间差超过 30 天)\n",
      "已删除边：(1536019389857746944, 1.536263635932422e+18)  (时间差超过 30 天)\n",
      "已删除边：(1533230623048888320, 1.5366139406583276e+18)  (时间差超过 30 天)\n",
      "已删除边：(1536019389857746944, 1.5366139406583276e+18)  (时间差超过 30 天)\n",
      "已删除边：(1533230623048888320, 1.536631170766545e+18)  (时间差超过 30 天)\n",
      "已删除边：(1536019389857746944, 1.536631170766545e+18)  (时间差超过 30 天)\n",
      "已删除边：(1533230623048888320, 1.5367019183405998e+18)  (时间差超过 30 天)\n",
      "已删除边：(1536019389857746944, 1.5367019183405998e+18)  (时间差超过 30 天)\n",
      "已删除边：(1533230623048888320, 1.5367131581732004e+18)  (时间差超过 30 天)\n",
      "已删除边：(1536019389857746944, 1.5367131581732004e+18)  (时间差超过 30 天)\n",
      "已删除边：(1533230623048888320, 1.5367409273513165e+18)  (时间差超过 30 天)\n",
      "已删除边：(1536019389857746944, 1.5367409273513165e+18)  (时间差超过 30 天)\n",
      "已删除边：(1533230623048888320, 1.5368547589373747e+18)  (时间差超过 30 天)\n",
      "已删除边：(1536019389857746944, 1.5368547589373747e+18)  (时间差超过 30 天)\n",
      "已删除边：(1533230623048888320, 1.5368890527496315e+18)  (时间差超过 30 天)\n",
      "已删除边：(1536019389857746944, 1.5368890527496315e+18)  (时间差超过 30 天)\n",
      "已删除边：(1536854772858335232, 1.5368890527496315e+18)  (时间差超过 30 天)\n",
      "已删除边：(1533230623048888320, 1.5368913225895977e+18)  (时间差超过 30 天)\n",
      "已删除边：(1536019389857746944, 1.5368913225895977e+18)  (时间差超过 30 天)\n",
      "已删除边：(1536854772858335232, 1.5368913225895977e+18)  (时间差超过 30 天)\n",
      "已删除边：(1533230623048888320, 1.536902263674839e+18)  (时间差超过 30 天)\n",
      "已删除边：(1536019389857746944, 1.536902263674839e+18)  (时间差超过 30 天)\n",
      "已删除边：(1536854772858335232, 1.536902263674839e+18)  (时间差超过 30 天)\n",
      "已删除边：(1533230623048888320, 1.5369023924315382e+18)  (时间差超过 30 天)\n",
      "已删除边：(1536019389857746944, 1.5369023924315382e+18)  (时间差超过 30 天)\n",
      "已删除边：(1536854772858335232, 1.5369023924315382e+18)  (时间差超过 30 天)\n",
      "已删除边：(1533230623048888320, 1.536913928340394e+18)  (时间差超过 30 天)\n",
      "已删除边：(1536019389857746944, 1.536913928340394e+18)  (时间差超过 30 天)\n",
      "已删除边：(1536854772858335232, 1.536913928340394e+18)  (时间差超过 30 天)\n",
      "已删除边：(1533230623048888320, 1.5368705395451617e+18)  (时间差超过 30 天)\n",
      "已删除边：(1536019389857746944, 1.5368705395451617e+18)  (时间差超过 30 天)\n",
      "已删除边：(1536854772858335232, 1.5368705395451617e+18)  (时间差超过 30 天)\n",
      "已删除边：(1533230623048888320, 1.5369240999931658e+18)  (时间差超过 30 天)\n",
      "已删除边：(1536019389857746944, 1.5369240999931658e+18)  (时间差超过 30 天)\n",
      "已删除边：(1536854772858335232, 1.5369240999931658e+18)  (时间差超过 30 天)\n",
      "已删除边：(1533230623048888320, 1.5369710295492936e+18)  (时间差超过 30 天)\n",
      "已删除边：(1536019389857746944, 1.5369710295492936e+18)  (时间差超过 30 天)\n",
      "已删除边：(1536854772858335232, 1.5369710295492936e+18)  (时间差超过 30 天)\n",
      "已删除边：(1533230623048888320, 1.5370521498549043e+18)  (时间差超过 30 天)\n",
      "已删除边：(1536019389857746944, 1.5370521498549043e+18)  (时间差超过 30 天)\n",
      "已删除边：(1536854772858335232, 1.5370521498549043e+18)  (时间差超过 30 天)\n",
      "已删除边：(1533230623048888320, 1.53705215086993e+18)  (时间差超过 30 天)\n",
      "已删除边：(1536019389857746944, 1.53705215086993e+18)  (时间差超过 30 天)\n",
      "已删除边：(1536854772858335232, 1.53705215086993e+18)  (时间差超过 30 天)\n",
      "已删除边：(1533230623048888320, 1.537052173196206e+18)  (时间差超过 30 天)\n",
      "已删除边：(1536019389857746944, 1.537052173196206e+18)  (时间差超过 30 天)\n",
      "已删除边：(1536854772858335232, 1.537052173196206e+18)  (时间差超过 30 天)\n",
      "已删除边：(1533230623048888320, 1.5370521955099156e+18)  (时间差超过 30 天)\n",
      "已删除边：(1536019389857746944, 1.5370521955099156e+18)  (时间差超过 30 天)\n",
      "已删除边：(1536854772858335232, 1.5370521955099156e+18)  (时间差超过 30 天)\n",
      "已删除边：(1533230623048888320, 1.5370816409706865e+18)  (时间差超过 30 天)\n",
      "已删除边：(1536019389857746944, 1.5370816409706865e+18)  (时间差超过 30 天)\n",
      "已删除边：(1536854772858335232, 1.5370816409706865e+18)  (时间差超过 30 天)\n",
      "已删除边：(1533230623048888320, 1.537246629342085e+18)  (时间差超过 30 天)\n",
      "已删除边：(1536019389857746944, 1.537246629342085e+18)  (时间差超过 30 天)\n",
      "已删除边：(1536854772858335232, 1.537246629342085e+18)  (时间差超过 30 天)\n",
      "已删除边：(1537145637803675648, 1.537246629342085e+18)  (时间差超过 30 天)\n",
      "已删除边：(1533230623048888320, 1.537252199184892e+18)  (时间差超过 30 天)\n",
      "已删除边：(1536019389857746944, 1.537252199184892e+18)  (时间差超过 30 天)\n",
      "已删除边：(1536854772858335232, 1.537252199184892e+18)  (时间差超过 30 天)\n",
      "已删除边：(1537145637803675648, 1.537252199184892e+18)  (时间差超过 30 天)\n",
      "已删除边：(1533230623048888320, 1.5372659396364e+18)  (时间差超过 30 天)\n",
      "已删除边：(1536019389857746944, 1.5372659396364e+18)  (时间差超过 30 天)\n",
      "已删除边：(1536854772858335232, 1.5372659396364e+18)  (时间差超过 30 天)\n",
      "已删除边：(1537145637803675648, 1.5372659396364e+18)  (时间差超过 30 天)\n",
      "已删除边：(1533230623048888320, 1.5372756888894917e+18)  (时间差超过 30 天)\n",
      "已删除边：(1536019389857746944, 1.5372756888894917e+18)  (时间差超过 30 天)\n",
      "已删除边：(1536854772858335232, 1.5372756888894917e+18)  (时间差超过 30 天)\n",
      "已删除边：(1537145637803675648, 1.5372756888894917e+18)  (时间差超过 30 天)\n",
      "已删除边：(1533230623048888320, 1.53727836409208e+18)  (时间差超过 30 天)\n",
      "已删除边：(1536019389857746944, 1.53727836409208e+18)  (时间差超过 30 天)\n",
      "已删除边：(1536854772858335232, 1.53727836409208e+18)  (时间差超过 30 天)\n",
      "已删除边：(1537145637803675648, 1.53727836409208e+18)  (时间差超过 30 天)\n",
      "已删除边：(1533230623048888320, 1.5373049740107612e+18)  (时间差超过 30 天)\n",
      "已删除边：(1536019389857746944, 1.5373049740107612e+18)  (时间差超过 30 天)\n",
      "已删除边：(1536854772858335232, 1.5373049740107612e+18)  (时间差超过 30 天)\n",
      "已删除边：(1537145637803675648, 1.5373049740107612e+18)  (时间差超过 30 天)\n",
      "已删除边：(1533230623048888320, 1.5373154403550044e+18)  (时间差超过 30 天)\n",
      "已删除边：(1536019389857746944, 1.5373154403550044e+18)  (时间差超过 30 天)\n",
      "已删除边：(1536854772858335232, 1.5373154403550044e+18)  (时间差超过 30 天)\n",
      "已删除边：(1537145637803675648, 1.5373154403550044e+18)  (时间差超过 30 天)\n",
      "已删除边：(1533230623048888320, 1.537316109682344e+18)  (时间差超过 30 天)\n",
      "已删除边：(1536019389857746944, 1.537316109682344e+18)  (时间差超过 30 天)\n",
      "已删除边：(1536854772858335232, 1.537316109682344e+18)  (时间差超过 30 天)\n",
      "已删除边：(1537145637803675648, 1.537316109682344e+18)  (时间差超过 30 天)\n",
      "已删除边：(1533230623048888320, 1.5373307237951283e+18)  (时间差超过 30 天)\n",
      "已删除边：(1536019389857746944, 1.5373307237951283e+18)  (时间差超过 30 天)\n",
      "已删除边：(1536854772858335232, 1.5373307237951283e+18)  (时间差超过 30 天)\n",
      "已删除边：(1537145637803675648, 1.5373307237951283e+18)  (时间差超过 30 天)\n",
      "已删除边：(1533230623048888320, 1.537339617720279e+18)  (时间差超过 30 天)\n",
      "已删除边：(1536019389857746944, 1.537339617720279e+18)  (时间差超过 30 天)\n",
      "已删除边：(1536854772858335232, 1.537339617720279e+18)  (时间差超过 30 天)\n",
      "已删除边：(1537145637803675648, 1.537339617720279e+18)  (时间差超过 30 天)\n",
      "已删除边：(1533230623048888320, 1.5373480202617774e+18)  (时间差超过 30 天)\n",
      "已删除边：(1536019389857746944, 1.5373480202617774e+18)  (时间差超过 30 天)\n",
      "已删除边：(1536854772858335232, 1.5373480202617774e+18)  (时间差超过 30 天)\n",
      "已删除边：(1537145637803675648, 1.5373480202617774e+18)  (时间差超过 30 天)\n",
      "已删除边：(1533230623048888320, 1.5374149170491556e+18)  (时间差超过 30 天)\n",
      "已删除边：(1536019389857746944, 1.5374149170491556e+18)  (时间差超过 30 天)\n",
      "已删除边：(1536854772858335232, 1.5374149170491556e+18)  (时间差超过 30 天)\n",
      "已删除边：(1537145637803675648, 1.5374149170491556e+18)  (时间差超过 30 天)\n",
      "已删除边：(1533230623048888320, 1.53742804207915e+18)  (时间差超过 30 天)\n",
      "已删除边：(1536019389857746944, 1.53742804207915e+18)  (时间差超过 30 天)\n",
      "已删除边：(1536854772858335232, 1.53742804207915e+18)  (时间差超过 30 天)\n",
      "已删除边：(1537145637803675648, 1.53742804207915e+18)  (时间差超过 30 天)\n",
      "已删除边：(1533230623048888320, 1.5376492460016968e+18)  (时间差超过 30 天)\n",
      "已删除边：(1536019389857746944, 1.5376492460016968e+18)  (时间差超过 30 天)\n",
      "已删除边：(1536854772858335232, 1.5376492460016968e+18)  (时间差超过 30 天)\n",
      "已删除边：(1537145637803675648, 1.5376492460016968e+18)  (时间差超过 30 天)\n",
      "已删除边：(1533230623048888320, 1.537708188728193e+18)  (时间差超过 30 天)\n",
      "已删除边：(1536019389857746944, 1.537708188728193e+18)  (时间差超过 30 天)\n",
      "已删除边：(1536854772858335232, 1.537708188728193e+18)  (时间差超过 30 天)\n",
      "已删除边：(1537145637803675648, 1.537708188728193e+18)  (时间差超过 30 天)\n",
      "已删除边：(1533230623048888320, 1.5377187043135775e+18)  (时间差超过 30 天)\n",
      "已删除边：(1536019389857746944, 1.5377187043135775e+18)  (时间差超过 30 天)\n",
      "已删除边：(1536854772858335232, 1.5377187043135775e+18)  (时间差超过 30 天)\n",
      "已删除边：(1537145637803675648, 1.5377187043135775e+18)  (时间差超过 30 天)\n",
      "已删除边：(1533230623048888320, 1.537728582726058e+18)  (时间差超过 30 天)\n",
      "已删除边：(1536019389857746944, 1.537728582726058e+18)  (时间差超过 30 天)\n",
      "已删除边：(1536854772858335232, 1.537728582726058e+18)  (时间差超过 30 天)\n",
      "已删除边：(1537145637803675648, 1.537728582726058e+18)  (时间差超过 30 天)\n",
      "已删除边：(1533230623048888320, 1.5377285907367895e+18)  (时间差超过 30 天)\n",
      "已删除边：(1536019389857746944, 1.5377285907367895e+18)  (时间差超过 30 天)\n",
      "已删除边：(1536854772858335232, 1.5377285907367895e+18)  (时间差超过 30 天)\n",
      "已删除边：(1537145637803675648, 1.5377285907367895e+18)  (时间差超过 30 天)\n",
      "已删除边：(1533230623048888320, 1.5377285966805445e+18)  (时间差超过 30 天)\n",
      "已删除边：(1536019389857746944, 1.5377285966805445e+18)  (时间差超过 30 天)\n",
      "已删除边：(1536854772858335232, 1.5377285966805445e+18)  (时间差超过 30 天)\n",
      "已删除边：(1537145637803675648, 1.5377285966805445e+18)  (时间差超过 30 天)\n",
      "已删除边：(1533230623048888320, 1.537728603554992e+18)  (时间差超过 30 天)\n",
      "已删除边：(1536019389857746944, 1.537728603554992e+18)  (时间差超过 30 天)\n",
      "已删除边：(1536854772858335232, 1.537728603554992e+18)  (时间差超过 30 天)\n",
      "已删除边：(1537145637803675648, 1.537728603554992e+18)  (时间差超过 30 天)\n",
      "已删除边：(1533230623048888320, 1.5378063895186432e+18)  (时间差超过 30 天)\n",
      "已删除边：(1536019389857746944, 1.5378063895186432e+18)  (时间差超过 30 天)\n",
      "已删除边：(1536854772858335232, 1.5378063895186432e+18)  (时间差超过 30 天)\n",
      "已删除边：(1537145637803675648, 1.5378063895186432e+18)  (时间差超过 30 天)\n",
      "已删除边：(1533230623048888320, 1.5380731351775355e+18)  (时间差超过 30 天)\n",
      "已删除边：(1536019389857746944, 1.5380731351775355e+18)  (时间差超过 30 天)\n",
      "已删除边：(1536854772858335232, 1.5380731351775355e+18)  (时间差超过 30 天)\n",
      "已删除边：(1537145637803675648, 1.5380731351775355e+18)  (时间差超过 30 天)\n",
      "已删除边：(1537938401273446400, 1.5380731351775355e+18)  (时间差超过 30 天)\n",
      "已删除边：(1533230623048888320, 1.538079772953043e+18)  (时间差超过 30 天)\n",
      "已删除边：(1536019389857746944, 1.538079772953043e+18)  (时间差超过 30 天)\n",
      "已删除边：(1536854772858335232, 1.538079772953043e+18)  (时间差超过 30 天)\n",
      "已删除边：(1537145637803675648, 1.538079772953043e+18)  (时间差超过 30 天)\n",
      "已删除边：(1537938401273446400, 1.538079772953043e+18)  (时间差超过 30 天)\n",
      "已删除边：(1533230623048888320, 1.5381694325599887e+18)  (时间差超过 30 天)\n",
      "已删除边：(1536019389857746944, 1.5381694325599887e+18)  (时间差超过 30 天)\n",
      "已删除边：(1536854772858335232, 1.5381694325599887e+18)  (时间差超过 30 天)\n",
      "已删除边：(1537145637803675648, 1.5381694325599887e+18)  (时间差超过 30 天)\n",
      "已删除边：(1537938401273446400, 1.5381694325599887e+18)  (时间差超过 30 天)\n",
      "已删除边：(1533230623048888320, 1.538198302851707e+18)  (时间差超过 30 天)\n",
      "已删除边：(1536019389857746944, 1.538198302851707e+18)  (时间差超过 30 天)\n",
      "已删除边：(1536854772858335232, 1.538198302851707e+18)  (时间差超过 30 天)\n",
      "已删除边：(1537145637803675648, 1.538198302851707e+18)  (时间差超过 30 天)\n",
      "已删除边：(1537938401273446400, 1.538198302851707e+18)  (时间差超过 30 天)\n",
      "已删除边：(1533230623048888320, 1.5382081973156372e+18)  (时间差超过 30 天)\n",
      "已删除边：(1536019389857746944, 1.5382081973156372e+18)  (时间差超过 30 天)\n",
      "已删除边：(1536854772858335232, 1.5382081973156372e+18)  (时间差超过 30 天)\n",
      "已删除边：(1537145637803675648, 1.5382081973156372e+18)  (时间差超过 30 天)\n",
      "已删除边：(1537938401273446400, 1.5382081973156372e+18)  (时间差超过 30 天)\n",
      "已删除边：(1533230623048888320, 1.5359863953317642e+18)  (时间差超过 30 天)\n",
      "已删除边：(1536019389857746944, 1.5359863953317642e+18)  (时间差超过 30 天)\n",
      "已删除边：(1536854772858335232, 1.5359863953317642e+18)  (时间差超过 30 天)\n",
      "已删除边：(1537145637803675648, 1.5359863953317642e+18)  (时间差超过 30 天)\n",
      "已删除边：(1537938401273446400, 1.5359863953317642e+18)  (时间差超过 30 天)\n",
      "已删除边：(1533230623048888320, 1.5385160958117396e+18)  (时间差超过 30 天)\n",
      "已删除边：(1536019389857746944, 1.5385160958117396e+18)  (时间差超过 30 天)\n",
      "已删除边：(1536854772858335232, 1.5385160958117396e+18)  (时间差超过 30 天)\n",
      "已删除边：(1537145637803675648, 1.5385160958117396e+18)  (时间差超过 30 天)\n",
      "已删除边：(1537938401273446400, 1.5385160958117396e+18)  (时间差超过 30 天)\n",
      "已删除边：(1533230623048888320, 1.538230510127698e+18)  (时间差超过 30 天)\n",
      "已删除边：(1536019389857746944, 1.538230510127698e+18)  (时间差超过 30 天)\n",
      "已删除边：(1536854772858335232, 1.538230510127698e+18)  (时间差超过 30 天)\n",
      "已删除边：(1537145637803675648, 1.538230510127698e+18)  (时间差超过 30 天)\n",
      "已删除边：(1537938401273446400, 1.538230510127698e+18)  (时间差超过 30 天)\n",
      "已删除边：(1533230623048888320, 1.5385901628586803e+18)  (时间差超过 30 天)\n",
      "已删除边：(1536019389857746944, 1.5385901628586803e+18)  (时间差超过 30 天)\n",
      "已删除边：(1536854772858335232, 1.5385901628586803e+18)  (时间差超过 30 天)\n",
      "已删除边：(1537145637803675648, 1.5385901628586803e+18)  (时间差超过 30 天)\n",
      "已删除边：(1537938401273446400, 1.5385901628586803e+18)  (时间差超过 30 天)\n",
      "已删除边：(1533230623048888320, 1.5385768276727644e+18)  (时间差超过 30 天)\n",
      "已删除边：(1536019389857746944, 1.5385768276727644e+18)  (时间差超过 30 天)\n",
      "已删除边：(1536854772858335232, 1.5385768276727644e+18)  (时间差超过 30 天)\n",
      "已删除边：(1537145637803675648, 1.5385768276727644e+18)  (时间差超过 30 天)\n",
      "已删除边：(1537938401273446400, 1.5385768276727644e+18)  (时间差超过 30 天)\n",
      "已删除边：(1533230623048888320, 1.5387382694875136e+18)  (时间差超过 30 天)\n",
      "已删除边：(1536019389857746944, 1.5387382694875136e+18)  (时间差超过 30 天)\n",
      "已删除边：(1536854772858335232, 1.5387382694875136e+18)  (时间差超过 30 天)\n",
      "已删除边：(1537145637803675648, 1.5387382694875136e+18)  (时间差超过 30 天)\n",
      "已删除边：(1537938401273446400, 1.5387382694875136e+18)  (时间差超过 30 天)\n",
      "已删除边：(1533230623048888320, 1.538768626383483e+18)  (时间差超过 30 天)\n",
      "已删除边：(1536019389857746944, 1.538768626383483e+18)  (时间差超过 30 天)\n",
      "已删除边：(1536854772858335232, 1.538768626383483e+18)  (时间差超过 30 天)\n",
      "已删除边：(1537145637803675648, 1.538768626383483e+18)  (时间差超过 30 天)\n",
      "已删除边：(1537938401273446400, 1.538768626383483e+18)  (时间差超过 30 天)\n",
      "已删除边：(1533230623048888320, 1.5386745628790702e+18)  (时间差超过 30 天)\n",
      "已删除边：(1536019389857746944, 1.5386745628790702e+18)  (时间差超过 30 天)\n",
      "已删除边：(1536854772858335232, 1.5386745628790702e+18)  (时间差超过 30 天)\n",
      "已删除边：(1537145637803675648, 1.5386745628790702e+18)  (时间差超过 30 天)\n",
      "已删除边：(1537938401273446400, 1.5386745628790702e+18)  (时间差超过 30 天)\n",
      "已删除边：(1533230623048888320, 1.5388698754474107e+18)  (时间差超过 30 天)\n",
      "已删除边：(1536019389857746944, 1.5388698754474107e+18)  (时间差超过 30 天)\n",
      "已删除边：(1536854772858335232, 1.5388698754474107e+18)  (时间差超过 30 天)\n",
      "已删除边：(1537145637803675648, 1.5388698754474107e+18)  (时间差超过 30 天)\n",
      "已删除边：(1537938401273446400, 1.5388698754474107e+18)  (时间差超过 30 天)\n",
      "已删除边：(1533230623048888320, 1.5388806081178624e+18)  (时间差超过 30 天)\n",
      "已删除边：(1536019389857746944, 1.5388806081178624e+18)  (时间差超过 30 天)\n",
      "已删除边：(1536854772858335232, 1.5388806081178624e+18)  (时间差超过 30 天)\n",
      "已删除边：(1537145637803675648, 1.5388806081178624e+18)  (时间差超过 30 天)\n",
      "已删除边：(1537938401273446400, 1.5388806081178624e+18)  (时间差超过 30 天)\n",
      "已删除边：(1533230623048888320, 1.538881208842539e+18)  (时间差超过 30 天)\n",
      "已删除边：(1536019389857746944, 1.538881208842539e+18)  (时间差超过 30 天)\n",
      "已删除边：(1536854772858335232, 1.538881208842539e+18)  (时间差超过 30 天)\n",
      "已删除边：(1537145637803675648, 1.538881208842539e+18)  (时间差超过 30 天)\n",
      "已删除边：(1537938401273446400, 1.538881208842539e+18)  (时间差超过 30 天)\n",
      "已删除边：(1533230623048888320, 1.5389202476164137e+18)  (时间差超过 30 天)\n",
      "已删除边：(1536019389857746944, 1.5389202476164137e+18)  (时间差超过 30 天)\n",
      "已删除边：(1536854772858335232, 1.5389202476164137e+18)  (时间差超过 30 天)\n",
      "已删除边：(1537145637803675648, 1.5389202476164137e+18)  (时间差超过 30 天)\n",
      "已删除边：(1537938401273446400, 1.5389202476164137e+18)  (时间差超过 30 天)\n",
      "已删除边：(1533230623048888320, 1.5385392718666916e+18)  (时间差超过 30 天)\n",
      "已删除边：(1536019389857746944, 1.5385392718666916e+18)  (时间差超过 30 天)\n",
      "已删除边：(1536854772858335232, 1.5385392718666916e+18)  (时间差超过 30 天)\n",
      "已删除边：(1537145637803675648, 1.5385392718666916e+18)  (时间差超过 30 天)\n",
      "已删除边：(1537938401273446400, 1.5385392718666916e+18)  (时间差超过 30 天)\n",
      "已删除边：(1533230623048888320, 1.5390549822293934e+18)  (时间差超过 30 天)\n",
      "已删除边：(1536019389857746944, 1.5390549822293934e+18)  (时间差超过 30 天)\n",
      "已删除边：(1536854772858335232, 1.5390549822293934e+18)  (时间差超过 30 天)\n",
      "已删除边：(1537145637803675648, 1.5390549822293934e+18)  (时间差超过 30 天)\n",
      "已删除边：(1537938401273446400, 1.5390549822293934e+18)  (时间差超过 30 天)\n",
      "已删除边：(1533230623048888320, 1.5390629296470303e+18)  (时间差超过 30 天)\n",
      "已删除边：(1536019389857746944, 1.5390629296470303e+18)  (时间差超过 30 天)\n",
      "已删除边：(1536854772858335232, 1.5390629296470303e+18)  (时间差超过 30 天)\n",
      "已删除边：(1537145637803675648, 1.5390629296470303e+18)  (时间差超过 30 天)\n",
      "已删除边：(1537938401273446400, 1.5390629296470303e+18)  (时间差超过 30 天)\n",
      "已删除边：(1533230623048888320, 1.5390812498174484e+18)  (时间差超过 30 天)\n",
      "已删除边：(1536019389857746944, 1.5390812498174484e+18)  (时间差超过 30 天)\n",
      "已删除边：(1536854772858335232, 1.5390812498174484e+18)  (时间差超过 30 天)\n",
      "已删除边：(1537145637803675648, 1.5390812498174484e+18)  (时间差超过 30 天)\n",
      "已删除边：(1537938401273446400, 1.5390812498174484e+18)  (时间差超过 30 天)\n",
      "已删除边：(1533230623048888320, 1.539107156158726e+18)  (时间差超过 30 天)\n",
      "已删除边：(1536019389857746944, 1.539107156158726e+18)  (时间差超过 30 天)\n",
      "已删除边：(1536854772858335232, 1.539107156158726e+18)  (时间差超过 30 天)\n",
      "已删除边：(1537145637803675648, 1.539107156158726e+18)  (时间差超过 30 天)\n",
      "已删除边：(1537938401273446400, 1.539107156158726e+18)  (时间差超过 30 天)\n",
      "已删除边：(1533230623048888320, 1.5391426543360696e+18)  (时间差超过 30 天)\n",
      "已删除边：(1536019389857746944, 1.5391426543360696e+18)  (时间差超过 30 天)\n",
      "已删除边：(1536854772858335232, 1.5391426543360696e+18)  (时间差超过 30 天)\n",
      "已删除边：(1537145637803675648, 1.5391426543360696e+18)  (时间差超过 30 天)\n",
      "已删除边：(1537938401273446400, 1.5391426543360696e+18)  (时间差超过 30 天)\n",
      "已删除边：(1533230623048888320, 1.5391661662868808e+18)  (时间差超过 30 天)\n",
      "已删除边：(1536019389857746944, 1.5391661662868808e+18)  (时间差超过 30 天)\n",
      "已删除边：(1536854772858335232, 1.5391661662868808e+18)  (时间差超过 30 天)\n",
      "已删除边：(1537145637803675648, 1.5391661662868808e+18)  (时间差超过 30 天)\n",
      "已删除边：(1537938401273446400, 1.5391661662868808e+18)  (时间差超过 30 天)\n",
      "已删除边：(1533230623048888320, 1.5391669847088415e+18)  (时间差超过 30 天)\n",
      "已删除边：(1536019389857746944, 1.5391669847088415e+18)  (时间差超过 30 天)\n",
      "已删除边：(1536854772858335232, 1.5391669847088415e+18)  (时间差超过 30 天)\n",
      "已删除边：(1537145637803675648, 1.5391669847088415e+18)  (时间差超过 30 天)\n",
      "已删除边：(1537938401273446400, 1.5391669847088415e+18)  (时间差超过 30 天)\n",
      "已删除边：(1533230623048888320, 1.5391704875151073e+18)  (时间差超过 30 天)\n",
      "已删除边：(1536019389857746944, 1.5391704875151073e+18)  (时间差超过 30 天)\n",
      "已删除边：(1536854772858335232, 1.5391704875151073e+18)  (时间差超过 30 天)\n",
      "已删除边：(1537145637803675648, 1.5391704875151073e+18)  (时间差超过 30 天)\n",
      "已删除边：(1537938401273446400, 1.5391704875151073e+18)  (时间差超过 30 天)\n",
      "已删除边：(1533230623048888320, 1.5391871297961329e+18)  (时间差超过 30 天)\n",
      "已删除边：(1536019389857746944, 1.5391871297961329e+18)  (时间差超过 30 天)\n",
      "已删除边：(1536854772858335232, 1.5391871297961329e+18)  (时间差超过 30 天)\n",
      "已删除边：(1537145637803675648, 1.5391871297961329e+18)  (时间差超过 30 天)\n",
      "已删除边：(1537938401273446400, 1.5391871297961329e+18)  (时间差超过 30 天)\n",
      "已删除边：(1533230623048888320, 1.5389889545940705e+18)  (时间差超过 30 天)\n",
      "已删除边：(1536019389857746944, 1.5389889545940705e+18)  (时间差超过 30 天)\n",
      "已删除边：(1536854772858335232, 1.5389889545940705e+18)  (时间差超过 30 天)\n",
      "已删除边：(1537145637803675648, 1.5389889545940705e+18)  (时间差超过 30 天)\n",
      "已删除边：(1537938401273446400, 1.5389889545940705e+18)  (时间差超过 30 天)\n",
      "已删除边：(1533230623048888320, 1.5393524678966927e+18)  (时间差超过 30 天)\n",
      "已删除边：(1536019389857746944, 1.5393524678966927e+18)  (时间差超过 30 天)\n",
      "已删除边：(1536854772858335232, 1.5393524678966927e+18)  (时间差超过 30 天)\n",
      "已删除边：(1537145637803675648, 1.5393524678966927e+18)  (时间差超过 30 天)\n",
      "已删除边：(1537938401273446400, 1.5393524678966927e+18)  (时间差超过 30 天)\n",
      "已删除边：(1533230623048888320, 1.5394150591677317e+18)  (时间差超过 30 天)\n",
      "已删除边：(1536019389857746944, 1.5394150591677317e+18)  (时间差超过 30 天)\n",
      "已删除边：(1536854772858335232, 1.5394150591677317e+18)  (时间差超过 30 天)\n",
      "已删除边：(1537145637803675648, 1.5394150591677317e+18)  (时间差超过 30 天)\n",
      "已删除边：(1537938401273446400, 1.5394150591677317e+18)  (时间差超过 30 天)\n",
      "已删除边：(1533230623048888320, 1.5394291507540828e+18)  (时间差超过 30 天)\n",
      "已删除边：(1536019389857746944, 1.5394291507540828e+18)  (时间差超过 30 天)\n",
      "已删除边：(1536854772858335232, 1.5394291507540828e+18)  (时间差超过 30 天)\n",
      "已删除边：(1537145637803675648, 1.5394291507540828e+18)  (时间差超过 30 天)\n",
      "已删除边：(1537938401273446400, 1.5394291507540828e+18)  (时间差超过 30 天)\n",
      "已删除边：(1533230623048888320, 1.5394611869994394e+18)  (时间差超过 30 天)\n",
      "已删除边：(1536019389857746944, 1.5394611869994394e+18)  (时间差超过 30 天)\n",
      "已删除边：(1536854772858335232, 1.5394611869994394e+18)  (时间差超过 30 天)\n",
      "已删除边：(1537145637803675648, 1.5394611869994394e+18)  (时间差超过 30 天)\n",
      "已删除边：(1537938401273446400, 1.5394611869994394e+18)  (时间差超过 30 天)\n",
      "已删除边：(1533230623048888320, 1.5394728538498703e+18)  (时间差超过 30 天)\n",
      "已删除边：(1536019389857746944, 1.5394728538498703e+18)  (时间差超过 30 天)\n",
      "已删除边：(1536854772858335232, 1.5394728538498703e+18)  (时间差超过 30 天)\n",
      "已删除边：(1537145637803675648, 1.5394728538498703e+18)  (时间差超过 30 天)\n"
     ]
    },
    {
     "name": "stderr",
     "output_type": "stream",
     "text": [
      "\n"
     ]
    },
    {
     "name": "stdout",
     "output_type": "stream",
     "text": [
      "已删除边：(1537938401273446400, 1.5394728538498703e+18)  (时间差超过 30 天)\n",
      "已删除边：(1533230623048888320, 1.5394946666214195e+18)  (时间差超过 30 天)\n",
      "已删除边：(1536019389857746944, 1.5394946666214195e+18)  (时间差超过 30 天)\n",
      "已删除边：(1536854772858335232, 1.5394946666214195e+18)  (时间差超过 30 天)\n",
      "已删除边：(1537145637803675648, 1.5394946666214195e+18)  (时间差超过 30 天)\n",
      "已删除边：(1537938401273446400, 1.5394946666214195e+18)  (时间差超过 30 天)\n",
      "已删除边：(1533230623048888320, 1.5395053797337375e+18)  (时间差超过 30 天)\n",
      "已删除边：(1536019389857746944, 1.5395053797337375e+18)  (时间差超过 30 天)\n",
      "已删除边：(1536854772858335232, 1.5395053797337375e+18)  (时间差超过 30 天)\n",
      "已删除边：(1537145637803675648, 1.5395053797337375e+18)  (时间差超过 30 天)\n",
      "已删除边：(1537938401273446400, 1.5395053797337375e+18)  (时间差超过 30 天)\n",
      "已删除边：(1533230623048888320, 1.5395361128293376e+18)  (时间差超过 30 天)\n",
      "已删除边：(1536019389857746944, 1.5395361128293376e+18)  (时间差超过 30 天)\n",
      "已删除边：(1536854772858335232, 1.5395361128293376e+18)  (时间差超过 30 天)\n",
      "已删除边：(1537145637803675648, 1.5395361128293376e+18)  (时间差超过 30 天)\n",
      "已删除边：(1537938401273446400, 1.5395361128293376e+18)  (时间差超过 30 天)\n",
      "已删除边：(1533230623048888320, 1.5395881627286036e+18)  (时间差超过 30 天)\n",
      "已删除边：(1536019389857746944, 1.5395881627286036e+18)  (时间差超过 30 天)\n",
      "已删除边：(1536854772858335232, 1.5395881627286036e+18)  (时间差超过 30 天)\n",
      "已删除边：(1537145637803675648, 1.5395881627286036e+18)  (时间差超过 30 天)\n",
      "已删除边：(1537938401273446400, 1.5395881627286036e+18)  (时间差超过 30 天)\n",
      "已删除边：(1533230623048888320, 1.5397504524382413e+18)  (时间差超过 30 天)\n",
      "已删除边：(1536019389857746944, 1.5397504524382413e+18)  (时间差超过 30 天)\n",
      "已删除边：(1536854772858335232, 1.5397504524382413e+18)  (时间差超过 30 天)\n",
      "已删除边：(1537145637803675648, 1.5397504524382413e+18)  (时间差超过 30 天)\n",
      "已删除边：(1537938401273446400, 1.5397504524382413e+18)  (时间差超过 30 天)\n",
      "已删除边：(1533230623048888320, 1.5397853122551276e+18)  (时间差超过 30 天)\n",
      "已删除边：(1536019389857746944, 1.5397853122551276e+18)  (时间差超过 30 天)\n",
      "已删除边：(1536854772858335232, 1.5397853122551276e+18)  (时间差超过 30 天)\n",
      "已删除边：(1537145637803675648, 1.5397853122551276e+18)  (时间差超过 30 天)\n",
      "已删除边：(1537938401273446400, 1.5397853122551276e+18)  (时间差超过 30 天)\n",
      "已删除边：(1533230623048888320, 1.539785315006554e+18)  (时间差超过 30 天)\n",
      "已删除边：(1536019389857746944, 1.539785315006554e+18)  (时间差超过 30 天)\n",
      "已删除边：(1536854772858335232, 1.539785315006554e+18)  (时间差超过 30 天)\n",
      "已删除边：(1537145637803675648, 1.539785315006554e+18)  (时间差超过 30 天)\n",
      "已删除边：(1537938401273446400, 1.539785315006554e+18)  (时间差超过 30 天)\n",
      "已删除边：(1533230623048888320, 1.5397853197252485e+18)  (时间差超过 30 天)\n",
      "已删除边：(1536019389857746944, 1.5397853197252485e+18)  (时间差超过 30 天)\n",
      "已删除边：(1536854772858335232, 1.5397853197252485e+18)  (时间差超过 30 天)\n",
      "已删除边：(1537145637803675648, 1.5397853197252485e+18)  (时间差超过 30 天)\n",
      "已删除边：(1537938401273446400, 1.5397853197252485e+18)  (时间差超过 30 天)\n",
      "已删除边：(1533230623048888320, 1.539811984472154e+18)  (时间差超过 30 天)\n",
      "已删除边：(1536019389857746944, 1.539811984472154e+18)  (时间差超过 30 天)\n",
      "已删除边：(1536854772858335232, 1.539811984472154e+18)  (时间差超过 30 天)\n",
      "已删除边：(1537145637803675648, 1.539811984472154e+18)  (时间差超过 30 天)\n",
      "已删除边：(1537938401273446400, 1.539811984472154e+18)  (时间差超过 30 天)\n",
      "已删除边：(1533230623048888320, 1.5398137581296927e+18)  (时间差超过 30 天)\n",
      "已删除边：(1536019389857746944, 1.5398137581296927e+18)  (时间差超过 30 天)\n",
      "已删除边：(1536854772858335232, 1.5398137581296927e+18)  (时间差超过 30 天)\n",
      "已删除边：(1537145637803675648, 1.5398137581296927e+18)  (时间差超过 30 天)\n",
      "已删除边：(1537938401273446400, 1.5398137581296927e+18)  (时间差超过 30 天)\n",
      "已删除边：(1533230623048888320, 1.5398595759348165e+18)  (时间差超过 30 天)\n",
      "已删除边：(1536019389857746944, 1.5398595759348165e+18)  (时间差超过 30 天)\n",
      "已删除边：(1536854772858335232, 1.5398595759348165e+18)  (时间差超过 30 天)\n",
      "已删除边：(1537145637803675648, 1.5398595759348165e+18)  (时间差超过 30 天)\n",
      "已删除边：(1537938401273446400, 1.5398595759348165e+18)  (时间差超过 30 天)\n",
      "已删除边：(1533230623048888320, 1.5398854693745132e+18)  (时间差超过 30 天)\n",
      "已删除边：(1536019389857746944, 1.5398854693745132e+18)  (时间差超过 30 天)\n",
      "已删除边：(1536854772858335232, 1.5398854693745132e+18)  (时间差超过 30 天)\n",
      "已删除边：(1537145637803675648, 1.5398854693745132e+18)  (时间差超过 30 天)\n",
      "已删除边：(1537938401273446400, 1.5398854693745132e+18)  (时间差超过 30 天)\n",
      "已删除边：(1533230623048888320, 1.5402381152308716e+18)  (时间差超过 30 天)\n",
      "已删除边：(1536019389857746944, 1.5402381152308716e+18)  (时间差超过 30 天)\n",
      "已删除边：(1536854772858335232, 1.5402381152308716e+18)  (时间差超过 30 天)\n",
      "已删除边：(1537145637803675648, 1.5402381152308716e+18)  (时间差超过 30 天)\n",
      "已删除边：(1537938401273446400, 1.5402381152308716e+18)  (时间差超过 30 天)\n",
      "已删除边：(1533230623048888320, 1.5402381179277967e+18)  (时间差超过 30 天)\n",
      "已删除边：(1536019389857746944, 1.5402381179277967e+18)  (时间差超过 30 天)\n",
      "已删除边：(1536854772858335232, 1.5402381179277967e+18)  (时间差超过 30 天)\n",
      "已删除边：(1537145637803675648, 1.5402381179277967e+18)  (时间差超过 30 天)\n",
      "已删除边：(1537938401273446400, 1.5402381179277967e+18)  (时间差超过 30 天)\n",
      "已删除边：(1533230623048888320, 1.5402447058076795e+18)  (时间差超过 30 天)\n",
      "已删除边：(1536019389857746944, 1.5402447058076795e+18)  (时间差超过 30 天)\n",
      "已删除边：(1536854772858335232, 1.5402447058076795e+18)  (时间差超过 30 天)\n",
      "已删除边：(1537145637803675648, 1.5402447058076795e+18)  (时间差超过 30 天)\n",
      "已删除边：(1537938401273446400, 1.5402447058076795e+18)  (时间差超过 30 天)\n",
      "已删除边：(1533230623048888320, 1.5403185181423493e+18)  (时间差超过 30 天)\n",
      "已删除边：(1536019389857746944, 1.5403185181423493e+18)  (时间差超过 30 天)\n",
      "已删除边：(1536854772858335232, 1.5403185181423493e+18)  (时间差超过 30 天)\n",
      "已删除边：(1537145637803675648, 1.5403185181423493e+18)  (时间差超过 30 天)\n",
      "已删除边：(1537938401273446400, 1.5403185181423493e+18)  (时间差超过 30 天)\n",
      "已删除边：(1533230623048888320, 1.5405212945671987e+18)  (时间差超过 30 天)\n",
      "已删除边：(1536019389857746944, 1.5405212945671987e+18)  (时间差超过 30 天)\n",
      "已删除边：(1536854772858335232, 1.5405212945671987e+18)  (时间差超过 30 天)\n",
      "已删除边：(1537145637803675648, 1.5405212945671987e+18)  (时间差超过 30 天)\n",
      "已删除边：(1537938401273446400, 1.5405212945671987e+18)  (时间差超过 30 天)\n",
      "已删除边：(1533230623048888320, 1.5405741415309107e+18)  (时间差超过 30 天)\n",
      "已删除边：(1536019389857746944, 1.5405741415309107e+18)  (时间差超过 30 天)\n",
      "已删除边：(1536854772858335232, 1.5405741415309107e+18)  (时间差超过 30 天)\n",
      "已删除边：(1537145637803675648, 1.5405741415309107e+18)  (时间差超过 30 天)\n",
      "已删除边：(1537938401273446400, 1.5405741415309107e+18)  (时间差超过 30 天)\n",
      "已删除边：(1533230623048888320, 1.540630490280956e+18)  (时间差超过 30 天)\n",
      "已删除边：(1536019389857746944, 1.540630490280956e+18)  (时间差超过 30 天)\n",
      "已删除边：(1536854772858335232, 1.540630490280956e+18)  (时间差超过 30 天)\n",
      "已删除边：(1537145637803675648, 1.540630490280956e+18)  (时间差超过 30 天)\n",
      "已删除边：(1537938401273446400, 1.540630490280956e+18)  (时间差超过 30 天)\n",
      "已删除边：(1533230623048888320, 1.54063049437875e+18)  (时间差超过 30 天)\n",
      "已删除边：(1536019389857746944, 1.54063049437875e+18)  (时间差超过 30 天)\n",
      "已删除边：(1536854772858335232, 1.54063049437875e+18)  (时间差超过 30 天)\n",
      "已删除边：(1537145637803675648, 1.54063049437875e+18)  (时间差超过 30 天)\n",
      "已删除边：(1537938401273446400, 1.54063049437875e+18)  (时间差超过 30 天)\n",
      "已删除边：(1533230623048888320, 1.5406688944859423e+18)  (时间差超过 30 天)\n",
      "已删除边：(1536019389857746944, 1.5406688944859423e+18)  (时间差超过 30 天)\n",
      "已删除边：(1536854772858335232, 1.5406688944859423e+18)  (时间差超过 30 天)\n",
      "已删除边：(1537145637803675648, 1.5406688944859423e+18)  (时间差超过 30 天)\n",
      "已删除边：(1537938401273446400, 1.5406688944859423e+18)  (时间差超过 30 天)\n",
      "已删除边：(1533230623048888320, 1.5406758638215823e+18)  (时间差超过 30 天)\n",
      "已删除边：(1536019389857746944, 1.5406758638215823e+18)  (时间差超过 30 天)\n",
      "已删除边：(1536854772858335232, 1.5406758638215823e+18)  (时间差超过 30 天)\n",
      "已删除边：(1537145637803675648, 1.5406758638215823e+18)  (时间差超过 30 天)\n",
      "已删除边：(1537938401273446400, 1.5406758638215823e+18)  (时间差超过 30 天)\n",
      "已删除边：(1533230623048888320, 1.5408602928541942e+18)  (时间差超过 30 天)\n",
      "已删除边：(1536019389857746944, 1.5408602928541942e+18)  (时间差超过 30 天)\n",
      "已删除边：(1536854772858335232, 1.5408602928541942e+18)  (时间差超过 30 天)\n",
      "已删除边：(1537145637803675648, 1.5408602928541942e+18)  (时间差超过 30 天)\n",
      "已删除边：(1537938401273446400, 1.5408602928541942e+18)  (时间差超过 30 天)\n",
      "已删除边：(1533230623048888320, 1.5408798157500662e+18)  (时间差超过 30 天)\n",
      "已删除边：(1536019389857746944, 1.5408798157500662e+18)  (时间差超过 30 天)\n",
      "已删除边：(1536854772858335232, 1.5408798157500662e+18)  (时间差超过 30 天)\n",
      "已删除边：(1537145637803675648, 1.5408798157500662e+18)  (时间差超过 30 天)\n",
      "已删除边：(1537938401273446400, 1.5408798157500662e+18)  (时间差超过 30 天)\n",
      "已删除边：(1533230623048888320, 1.5408839015474258e+18)  (时间差超过 30 天)\n",
      "已删除边：(1536019389857746944, 1.5408839015474258e+18)  (时间差超过 30 天)\n",
      "已删除边：(1536854772858335232, 1.5408839015474258e+18)  (时间差超过 30 天)\n",
      "已删除边：(1537145637803675648, 1.5408839015474258e+18)  (时间差超过 30 天)\n",
      "已删除边：(1537938401273446400, 1.5408839015474258e+18)  (时间差超过 30 天)\n",
      "已删除边：(1533230623048888320, 1.5408371498507592e+18)  (时间差超过 30 天)\n",
      "已删除边：(1536019389857746944, 1.5408371498507592e+18)  (时间差超过 30 天)\n",
      "已删除边：(1536854772858335232, 1.5408371498507592e+18)  (时间差超过 30 天)\n",
      "已删除边：(1537145637803675648, 1.5408371498507592e+18)  (时间差超过 30 天)\n",
      "已删除边：(1537938401273446400, 1.5408371498507592e+18)  (时间差超过 30 天)\n",
      "已删除边：(1533230623048888320, 1.5409871124171323e+18)  (时间差超过 30 天)\n",
      "已删除边：(1536019389857746944, 1.5409871124171323e+18)  (时间差超过 30 天)\n",
      "已删除边：(1536854772858335232, 1.5409871124171323e+18)  (时间差超过 30 天)\n",
      "已删除边：(1537145637803675648, 1.5409871124171323e+18)  (时间差超过 30 天)\n",
      "已删除边：(1537938401273446400, 1.5409871124171323e+18)  (时间差超过 30 天)\n",
      "已删除边：(1533230623048888320, 1.5413042712111557e+18)  (时间差超过 30 天)\n",
      "已删除边：(1536019389857746944, 1.5413042712111557e+18)  (时间差超过 30 天)\n",
      "已删除边：(1536854772858335232, 1.5413042712111557e+18)  (时间差超过 30 天)\n",
      "已删除边：(1537145637803675648, 1.5413042712111557e+18)  (时间差超过 30 天)\n",
      "已删除边：(1537938401273446400, 1.5413042712111557e+18)  (时间差超过 30 天)\n",
      "已删除边：(1533230623048888320, 1.5413042739625574e+18)  (时间差超过 30 天)\n",
      "已删除边：(1536019389857746944, 1.5413042739625574e+18)  (时间差超过 30 天)\n",
      "已删除边：(1536854772858335232, 1.5413042739625574e+18)  (时间差超过 30 天)\n",
      "已删除边：(1537145637803675648, 1.5413042739625574e+18)  (时间差超过 30 天)\n",
      "已删除边：(1537938401273446400, 1.5413042739625574e+18)  (时间差超过 30 天)\n",
      "已删除边：(1533230623048888320, 1.5413042770159862e+18)  (时间差超过 30 天)\n",
      "已删除边：(1536019389857746944, 1.5413042770159862e+18)  (时间差超过 30 天)\n",
      "已删除边：(1536854772858335232, 1.5413042770159862e+18)  (时间差超过 30 天)\n",
      "已删除边：(1537145637803675648, 1.5413042770159862e+18)  (时间差超过 30 天)\n",
      "已删除边：(1537938401273446400, 1.5413042770159862e+18)  (时间差超过 30 天)\n",
      "已删除边：(1533230623048888320, 1.5416052585388237e+18)  (时间差超过 30 天)\n",
      "已删除边：(1536019389857746944, 1.5416052585388237e+18)  (时间差超过 30 天)\n",
      "已删除边：(1536854772858335232, 1.5416052585388237e+18)  (时间差超过 30 天)\n",
      "已删除边：(1537145637803675648, 1.5416052585388237e+18)  (时间差超过 30 天)\n",
      "已删除边：(1537938401273446400, 1.5416052585388237e+18)  (时间差超过 30 天)\n",
      "已删除边：(1533230623048888320, 1.5416634427547484e+18)  (时间差超过 30 天)\n",
      "已删除边：(1536019389857746944, 1.5416634427547484e+18)  (时间差超过 30 天)\n",
      "已删除边：(1536854772858335232, 1.5416634427547484e+18)  (时间差超过 30 天)\n",
      "已删除边：(1537145637803675648, 1.5416634427547484e+18)  (时间差超过 30 天)\n",
      "已删除边：(1537938401273446400, 1.5416634427547484e+18)  (时间差超过 30 天)\n",
      "已删除边：(1533230623048888320, 1.541612639385559e+18)  (时间差超过 30 天)\n",
      "已删除边：(1536019389857746944, 1.541612639385559e+18)  (时间差超过 30 天)\n",
      "已删除边：(1536854772858335232, 1.541612639385559e+18)  (时间差超过 30 天)\n",
      "已删除边：(1537145637803675648, 1.541612639385559e+18)  (时间差超过 30 天)\n",
      "已删除边：(1537938401273446400, 1.541612639385559e+18)  (时间差超过 30 天)\n",
      "已删除边：(1533230623048888320, 1.5416758058723123e+18)  (时间差超过 30 天)\n",
      "已删除边：(1536019389857746944, 1.5416758058723123e+18)  (时间差超过 30 天)\n",
      "已删除边：(1536854772858335232, 1.5416758058723123e+18)  (时间差超过 30 天)\n",
      "已删除边：(1537145637803675648, 1.5416758058723123e+18)  (时间差超过 30 天)\n",
      "已删除边：(1537938401273446400, 1.5416758058723123e+18)  (时间差超过 30 天)\n",
      "已删除边：(1533230623048888320, 1.541719681328767e+18)  (时间差超过 30 天)\n",
      "已删除边：(1536019389857746944, 1.541719681328767e+18)  (时间差超过 30 天)\n",
      "已删除边：(1536854772858335232, 1.541719681328767e+18)  (时间差超过 30 天)\n",
      "已删除边：(1537145637803675648, 1.541719681328767e+18)  (时间差超过 30 天)\n",
      "已删除边：(1537938401273446400, 1.541719681328767e+18)  (时间差超过 30 天)\n",
      "已删除边：(1533230623048888320, 1.5417210484667187e+18)  (时间差超过 30 天)\n",
      "已删除边：(1536019389857746944, 1.5417210484667187e+18)  (时间差超过 30 天)\n",
      "已删除边：(1536854772858335232, 1.5417210484667187e+18)  (时间差超过 30 天)\n",
      "已删除边：(1537145637803675648, 1.5417210484667187e+18)  (时间差超过 30 天)\n",
      "已删除边：(1537938401273446400, 1.5417210484667187e+18)  (时间差超过 30 天)\n",
      "已删除边：(1533230623048888320, 1.5417411155559956e+18)  (时间差超过 30 天)\n",
      "已删除边：(1536019389857746944, 1.5417411155559956e+18)  (时间差超过 30 天)\n",
      "已删除边：(1536854772858335232, 1.5417411155559956e+18)  (时间差超过 30 天)\n",
      "已删除边：(1537145637803675648, 1.5417411155559956e+18)  (时间差超过 30 天)\n",
      "已删除边：(1537938401273446400, 1.5417411155559956e+18)  (时间差超过 30 天)\n",
      "已删除边：(1533230623048888320, 1.5419318742468076e+18)  (时间差超过 30 天)\n",
      "已删除边：(1536019389857746944, 1.5419318742468076e+18)  (时间差超过 30 天)\n",
      "已删除边：(1536854772858335232, 1.5419318742468076e+18)  (时间差超过 30 天)\n",
      "已删除边：(1537145637803675648, 1.5419318742468076e+18)  (时间差超过 30 天)\n",
      "已删除边：(1537938401273446400, 1.5419318742468076e+18)  (时间差超过 30 天)\n",
      "已删除边：(1533230623048888320, 1.5419495832361697e+18)  (时间差超过 30 天)\n",
      "已删除边：(1536019389857746944, 1.5419495832361697e+18)  (时间差超过 30 天)\n",
      "已删除边：(1536854772858335232, 1.5419495832361697e+18)  (时间差超过 30 天)\n",
      "已删除边：(1537145637803675648, 1.5419495832361697e+18)  (时间差超过 30 天)\n",
      "已删除边：(1537938401273446400, 1.5419495832361697e+18)  (时间差超过 30 天)\n",
      "已删除边：(1533230623048888320, 1.5419469658562314e+18)  (时间差超过 30 天)\n",
      "已删除边：(1536019389857746944, 1.5419469658562314e+18)  (时间差超过 30 天)\n",
      "已删除边：(1536854772858335232, 1.5419469658562314e+18)  (时间差超过 30 天)\n",
      "已删除边：(1537145637803675648, 1.5419469658562314e+18)  (时间差超过 30 天)\n",
      "已删除边：(1537938401273446400, 1.5419469658562314e+18)  (时间差超过 30 天)\n",
      "已删除边：(1533230623048888320, 1.5419743789673513e+18)  (时间差超过 30 天)\n",
      "已删除边：(1536019389857746944, 1.5419743789673513e+18)  (时间差超过 30 天)\n",
      "已删除边：(1536854772858335232, 1.5419743789673513e+18)  (时间差超过 30 天)\n",
      "已删除边：(1537145637803675648, 1.5419743789673513e+18)  (时间差超过 30 天)\n",
      "已删除边：(1537938401273446400, 1.5419743789673513e+18)  (时间差超过 30 天)\n",
      "已删除边：(1533230623048888320, 1.541975117374554e+18)  (时间差超过 30 天)\n",
      "已删除边：(1536019389857746944, 1.541975117374554e+18)  (时间差超过 30 天)\n",
      "已删除边：(1536854772858335232, 1.541975117374554e+18)  (时间差超过 30 天)\n",
      "已删除边：(1537145637803675648, 1.541975117374554e+18)  (时间差超过 30 天)\n",
      "已删除边：(1537938401273446400, 1.541975117374554e+18)  (时间差超过 30 天)\n",
      "已删除边：(1533230623048888320, 1.5419848384580198e+18)  (时间差超过 30 天)\n",
      "已删除边：(1536019389857746944, 1.5419848384580198e+18)  (时间差超过 30 天)\n",
      "已删除边：(1536854772858335232, 1.5419848384580198e+18)  (时间差超过 30 天)\n",
      "已删除边：(1537145637803675648, 1.5419848384580198e+18)  (时间差超过 30 天)\n",
      "已删除边：(1537938401273446400, 1.5419848384580198e+18)  (时间差超过 30 天)\n",
      "已删除边：(1533230623048888320, 1.542025106288812e+18)  (时间差超过 30 天)\n",
      "已删除边：(1536019389857746944, 1.542025106288812e+18)  (时间差超过 30 天)\n",
      "已删除边：(1536854772858335232, 1.542025106288812e+18)  (时间差超过 30 天)\n",
      "已删除边：(1537145637803675648, 1.542025106288812e+18)  (时间差超过 30 天)\n",
      "已删除边：(1537938401273446400, 1.542025106288812e+18)  (时间差超过 30 天)\n",
      "已删除边：(1533230623048888320, 1.5420256382695834e+18)  (时间差超过 30 天)\n",
      "已删除边：(1536019389857746944, 1.5420256382695834e+18)  (时间差超过 30 天)\n",
      "已删除边：(1536854772858335232, 1.5420256382695834e+18)  (时间差超过 30 天)\n",
      "已删除边：(1537145637803675648, 1.5420256382695834e+18)  (时间差超过 30 天)\n",
      "已删除边：(1537938401273446400, 1.5420256382695834e+18)  (时间差超过 30 天)\n",
      "已删除边：(1533230623048888320, 1.542105718827782e+18)  (时间差超过 30 天)\n",
      "已删除边：(1536019389857746944, 1.542105718827782e+18)  (时间差超过 30 天)\n",
      "已删除边：(1536854772858335232, 1.542105718827782e+18)  (时间差超过 30 天)\n",
      "已删除边：(1537145637803675648, 1.542105718827782e+18)  (时间差超过 30 天)\n",
      "已删除边：(1537938401273446400, 1.542105718827782e+18)  (时间差超过 30 天)\n",
      "已删除边：(1533230623048888320, 1.5421596195643802e+18)  (时间差超过 30 天)\n",
      "已删除边：(1536019389857746944, 1.5421596195643802e+18)  (时间差超过 30 天)\n",
      "已删除边：(1536854772858335232, 1.5421596195643802e+18)  (时间差超过 30 天)\n",
      "已删除边：(1537145637803675648, 1.5421596195643802e+18)  (时间差超过 30 天)\n",
      "已删除边：(1537938401273446400, 1.5421596195643802e+18)  (时间差超过 30 天)\n",
      "已删除边：(1533230623048888320, 1.5423800227026862e+18)  (时间差超过 30 天)\n",
      "已删除边：(1536019389857746944, 1.5423800227026862e+18)  (时间差超过 30 天)\n",
      "已删除边：(1536854772858335232, 1.5423800227026862e+18)  (时间差超过 30 天)\n",
      "已删除边：(1537145637803675648, 1.5423800227026862e+18)  (时间差超过 30 天)\n",
      "已删除边：(1537938401273446400, 1.5423800227026862e+18)  (时间差超过 30 天)\n",
      "已删除边：(1533230623048888320, 1.54242111764147e+18)  (时间差超过 30 天)\n",
      "已删除边：(1536019389857746944, 1.54242111764147e+18)  (时间差超过 30 天)\n",
      "已删除边：(1536854772858335232, 1.54242111764147e+18)  (时间差超过 30 天)\n",
      "已删除边：(1537145637803675648, 1.54242111764147e+18)  (时间差超过 30 天)\n",
      "已删除边：(1537938401273446400, 1.54242111764147e+18)  (时间差超过 30 天)\n",
      "已删除边：(1533230623048888320, 1.5424400095629883e+18)  (时间差超过 30 天)\n",
      "已删除边：(1536019389857746944, 1.5424400095629883e+18)  (时间差超过 30 天)\n",
      "已删除边：(1536854772858335232, 1.5424400095629883e+18)  (时间差超过 30 天)\n",
      "已删除边：(1537145637803675648, 1.5424400095629883e+18)  (时间差超过 30 天)\n",
      "已删除边：(1537938401273446400, 1.5424400095629883e+18)  (时间差超过 30 天)\n",
      "已删除边：(1533230623048888320, 1.5424400116769382e+18)  (时间差超过 30 天)\n",
      "已删除边：(1536019389857746944, 1.5424400116769382e+18)  (时间差超过 30 天)\n",
      "已删除边：(1536854772858335232, 1.5424400116769382e+18)  (时间差超过 30 天)\n",
      "已删除边：(1537145637803675648, 1.5424400116769382e+18)  (时间差超过 30 天)\n",
      "已删除边：(1537938401273446400, 1.5424400116769382e+18)  (时间差超过 30 天)\n",
      "已删除边：(1533230623048888320, 1.5424478620085166e+18)  (时间差超过 30 天)\n",
      "已删除边：(1536019389857746944, 1.5424478620085166e+18)  (时间差超过 30 天)\n",
      "已删除边：(1536854772858335232, 1.5424478620085166e+18)  (时间差超过 30 天)\n",
      "已删除边：(1537145637803675648, 1.5424478620085166e+18)  (时间差超过 30 天)\n",
      "已删除边：(1537938401273446400, 1.5424478620085166e+18)  (时间差超过 30 天)\n",
      "已删除边：(1533230623048888320, 1.5424478630110618e+18)  (时间差超过 30 天)\n",
      "已删除边：(1536019389857746944, 1.5424478630110618e+18)  (时间差超过 30 天)\n",
      "已删除边：(1536854772858335232, 1.5424478630110618e+18)  (时间差超过 30 天)\n",
      "已删除边：(1537145637803675648, 1.5424478630110618e+18)  (时间差超过 30 天)\n",
      "已删除边：(1537938401273446400, 1.5424478630110618e+18)  (时间差超过 30 天)\n",
      "已删除边：(1533230623048888320, 1.5424591874388828e+18)  (时间差超过 30 天)\n",
      "已删除边：(1536019389857746944, 1.5424591874388828e+18)  (时间差超过 30 天)\n",
      "已删除边：(1536854772858335232, 1.5424591874388828e+18)  (时间差超过 30 天)\n",
      "已删除边：(1537145637803675648, 1.5424591874388828e+18)  (时间差超过 30 天)\n",
      "已删除边：(1537938401273446400, 1.5424591874388828e+18)  (时间差超过 30 天)\n",
      "已删除边：(1533230623048888320, 1.54245694992905e+18)  (时间差超过 30 天)\n",
      "已删除边：(1536019389857746944, 1.54245694992905e+18)  (时间差超过 30 天)\n",
      "已删除边：(1536854772858335232, 1.54245694992905e+18)  (时间差超过 30 天)\n",
      "已删除边：(1537145637803675648, 1.54245694992905e+18)  (时间差超过 30 天)\n",
      "已删除边：(1537938401273446400, 1.54245694992905e+18)  (时间差超过 30 天)\n",
      "已删除边：(1533230623048888320, 1.542434166847193e+18)  (时间差超过 30 天)\n",
      "已删除边：(1536019389857746944, 1.542434166847193e+18)  (时间差超过 30 天)\n",
      "已删除边：(1536854772858335232, 1.542434166847193e+18)  (时间差超过 30 天)\n",
      "已删除边：(1537145637803675648, 1.542434166847193e+18)  (时间差超过 30 天)\n",
      "已删除边：(1537938401273446400, 1.542434166847193e+18)  (时间差超过 30 天)\n",
      "已删除边：(1533230623048888320, 1.5426714033793352e+18)  (时间差超过 30 天)\n",
      "已删除边：(1536019389857746944, 1.5426714033793352e+18)  (时间差超过 30 天)\n",
      "已删除边：(1536854772858335232, 1.5426714033793352e+18)  (时间差超过 30 天)\n",
      "已删除边：(1537145637803675648, 1.5426714033793352e+18)  (时间差超过 30 天)\n",
      "已删除边：(1537938401273446400, 1.5426714033793352e+18)  (时间差超过 30 天)\n",
      "已删除边：(1533230623048888320, 1.5426821440775987e+18)  (时间差超过 30 天)\n",
      "已删除边：(1536019389857746944, 1.5426821440775987e+18)  (时间差超过 30 天)\n",
      "已删除边：(1536854772858335232, 1.5426821440775987e+18)  (时间差超过 30 天)\n",
      "已删除边：(1537145637803675648, 1.5426821440775987e+18)  (时间差超过 30 天)\n",
      "已删除边：(1537938401273446400, 1.5426821440775987e+18)  (时间差超过 30 天)\n",
      "已删除边：(1533230623048888320, 1.5426821418419569e+18)  (时间差超过 30 天)\n",
      "已删除边：(1536019389857746944, 1.5426821418419569e+18)  (时间差超过 30 天)\n",
      "已删除边：(1536854772858335232, 1.5426821418419569e+18)  (时间差超过 30 天)\n",
      "已删除边：(1537145637803675648, 1.5426821418419569e+18)  (时间差超过 30 天)\n",
      "已删除边：(1537938401273446400, 1.5426821418419569e+18)  (时间差超过 30 天)\n",
      "已删除边：(1533230623048888320, 1.542682485137351e+18)  (时间差超过 30 天)\n",
      "已删除边：(1536019389857746944, 1.542682485137351e+18)  (时间差超过 30 天)\n",
      "已删除边：(1536854772858335232, 1.542682485137351e+18)  (时间差超过 30 天)\n",
      "已删除边：(1537145637803675648, 1.542682485137351e+18)  (时间差超过 30 天)\n",
      "已删除边：(1537938401273446400, 1.542682485137351e+18)  (时间差超过 30 天)\n",
      "已删除边：(1533230623048888320, 1.5426911623847854e+18)  (时间差超过 30 天)\n",
      "已删除边：(1536019389857746944, 1.5426911623847854e+18)  (时间差超过 30 天)\n",
      "已删除边：(1536854772858335232, 1.5426911623847854e+18)  (时间差超过 30 天)\n",
      "已删除边：(1537145637803675648, 1.5426911623847854e+18)  (时间差超过 30 天)\n",
      "已删除边：(1537938401273446400, 1.5426911623847854e+18)  (时间差超过 30 天)\n",
      "已删除边：(1533230623048888320, 1.54281564180301e+18)  (时间差超过 30 天)\n",
      "已删除边：(1536019389857746944, 1.54281564180301e+18)  (时间差超过 30 天)\n",
      "已删除边：(1536854772858335232, 1.54281564180301e+18)  (时间差超过 30 天)\n",
      "已删除边：(1537145637803675648, 1.54281564180301e+18)  (时间差超过 30 天)\n",
      "已删除边：(1537938401273446400, 1.54281564180301e+18)  (时间差超过 30 天)\n",
      "已删除边：(1533230623048888320, 1.542815644168532e+18)  (时间差超过 30 天)\n",
      "已删除边：(1536019389857746944, 1.542815644168532e+18)  (时间差超过 30 天)\n",
      "已删除边：(1536854772858335232, 1.542815644168532e+18)  (时间差超过 30 天)\n",
      "已删除边：(1537145637803675648, 1.542815644168532e+18)  (时间差超过 30 天)\n",
      "已删除边：(1537938401273446400, 1.542815644168532e+18)  (时间差超过 30 天)\n",
      "已删除边：(1533230623048888320, 1.542774610814718e+18)  (时间差超过 30 天)\n",
      "已删除边：(1536019389857746944, 1.542774610814718e+18)  (时间差超过 30 天)\n",
      "已删除边：(1536854772858335232, 1.542774610814718e+18)  (时间差超过 30 天)\n",
      "已删除边：(1537145637803675648, 1.542774610814718e+18)  (时间差超过 30 天)\n",
      "已删除边：(1537938401273446400, 1.542774610814718e+18)  (时间差超过 30 天)\n"
     ]
    },
    {
     "name": "stderr",
     "output_type": "stream",
     "text": [
      "删除过期节点: 100%|█████████████████████████████████████████████████████████████████████████████████████████████████████████████████████████████████████████| 212/212 [00:00<00:00, 120307.46节点/s]\n"
     ]
    },
    {
     "name": "stdout",
     "output_type": "stream",
     "text": [
      "已删除节点：1533230623048888320  (时间差超过 30 天)\n",
      "已删除节点：1.533247920610644e+18  (时间差超过 30 天)\n",
      "已删除节点：1.5333373651622748e+18  (时间差超过 30 天)\n",
      "已删除节点：1.533403339609854e+18  (时间差超过 30 天)\n",
      "已删除节点：1.5334487497791406e+18  (时间差超过 30 天)\n",
      "已删除节点：1.5334505936203448e+18  (时间差超过 30 天)\n",
      "已删除节点：1.533579869828698e+18  (时间差超过 30 天)\n",
      "已删除节点：1.533645930532307e+18  (时间差超过 30 天)\n",
      "已删除节点：1.5336925695821906e+18  (时间差超过 30 天)\n",
      "已删除节点：1.533717646084313e+18  (时间差超过 30 天)\n",
      "已删除节点：1.5341611143508787e+18  (时间差超过 30 天)\n",
      "已删除节点：1.5360119319154117e+18  (时间差超过 30 天)\n",
      "已删除节点：1.5372756888894917e+18  (时间差超过 30 天)\n",
      "已删除节点：1.542682485137351e+18  (时间差超过 30 天)\n",
      "已删除节点：1.539785315006554e+18  (时间差超过 30 天)\n",
      "已删除节点：1.5408602928541942e+18  (时间差超过 30 天)\n",
      "已删除节点：1.541612639385559e+18  (时间差超过 30 天)\n",
      "已删除节点：1.542025106288812e+18  (时间差超过 30 天)\n",
      "已删除节点：1.5368705395451617e+18  (时间差超过 30 天)\n",
      "已删除节点：1.53705215086993e+18  (时间差超过 30 天)\n",
      "已删除节点：1.5381694325599887e+18  (时间差超过 30 天)\n",
      "已删除节点：1.5388806081178624e+18  (时间差超过 30 天)\n",
      "已删除节点：1.5385392718666916e+18  (时间差超过 30 天)\n",
      "已删除节点：1.5405741415309107e+18  (时间差超过 30 天)\n",
      "已删除节点：1.5408839015474258e+18  (时间差超过 30 天)\n",
      "已删除节点：1.5367409273513165e+18  (时间差超过 30 天)\n",
      "已删除节点：1.5369240999931658e+18  (时间差超过 30 天)\n",
      "已删除节点：1.538079772953043e+18  (时间差超过 30 天)\n",
      "已删除节点：1.5385160958117396e+18  (时间差超过 30 天)\n",
      "已删除节点：1.5356166407629332e+18  (时间差超过 30 天)\n",
      "已删除节点：1.5373480202617774e+18  (时间差超过 30 天)\n",
      "已删除节点：1.537708188728193e+18  (时间差超过 30 天)\n",
      "已删除节点：1.538768626383483e+18  (时间差超过 30 天)\n",
      "已删除节点：1.5391426543360696e+18  (时间差超过 30 天)\n",
      "已删除节点：1.5391669847088415e+18  (时间差超过 30 天)\n",
      "已删除节点：1.5393524678966927e+18  (时间差超过 30 天)\n",
      "已删除节点：1.5402381152308716e+18  (时间差超过 30 天)\n",
      "已删除节点：1.5424400116769382e+18  (时间差超过 30 天)\n",
      "已删除节点：1.541719681328767e+18  (时间差超过 30 天)\n",
      "已删除节点：1537938401273446400  (时间差超过 30 天)\n",
      "已删除节点：1.5344202477546455e+18  (时间差超过 30 天)\n",
      "已删除节点：1.536631170766545e+18  (时间差超过 30 天)\n",
      "已删除节点：1.536902263674839e+18  (时间差超过 30 天)\n",
      "已删除节点：1.5359863953317642e+18  (时间差超过 30 天)\n",
      "已删除节点：1.5377285966805445e+18  (时间差超过 30 天)\n",
      "已删除节点：1.5385768276727644e+18  (时间差超过 30 天)\n",
      "已删除节点：1.5389202476164137e+18  (时间差超过 30 天)\n",
      "已删除节点：1.5397504524382413e+18  (时间差超过 30 天)\n",
      "已删除节点：1.5406688944859423e+18  (时间差超过 30 天)\n",
      "已删除节点：1.5419848384580198e+18  (时间差超过 30 天)\n",
      "已删除节点：1.5424400095629883e+18  (时间差超过 30 天)\n",
      "已删除节点：1.5340479667467835e+18  (时间差超过 30 天)\n",
      "已删除节点：1.533649467634864e+18  (时间差超过 30 天)\n",
      "已删除节点：1.5337481136717865e+18  (时间差超过 30 天)\n",
      "已删除节点：1.534342451170644e+18  (时间差超过 30 天)\n",
      "已删除节点：1.5342082657727488e+18  (时间差超过 30 天)\n",
      "已删除节点：1.534500937221296e+18  (时间差超过 30 天)\n",
      "已删除节点：1.534364832190845e+18  (时间差超过 30 天)\n",
      "已删除节点：1.5350714287933563e+18  (时间差超过 30 天)\n",
      "已删除节点：1.535192639095853e+18  (时间差超过 30 天)\n",
      "已删除节点：1.5360193875550085e+18  (时间差超过 30 天)\n",
      "已删除节点：1.5338171513833103e+18  (时间差超过 30 天)\n",
      "已删除节点：1.5343501624073626e+18  (时间差超过 30 天)\n",
      "已删除节点：1.5344680588443648e+18  (时间差超过 30 天)\n",
      "已删除节点：1.5345536974765425e+18  (时间差超过 30 天)\n",
      "已删除节点：1.537246629342085e+18  (时间差超过 30 天)\n",
      "已删除节点：1.537316109682344e+18  (时间差超过 30 天)\n",
      "已删除节点：1.5374149170491556e+18  (时间差超过 30 天)\n",
      "已删除节点：1.5386745628790702e+18  (时间差超过 30 天)\n",
      "已删除节点：1.5421596195643802e+18  (时间差超过 30 天)\n",
      "已删除节点：1.533806300874031e+18  (时间差超过 30 天)\n",
      "已删除节点：1.5373049740107612e+18  (时间差超过 30 天)\n",
      "已删除节点：1.5387382694875136e+18  (时间差超过 30 天)\n",
      "已删除节点：1.5402381179277967e+18  (时间差超过 30 天)\n",
      "已删除节点：1.5416634427547484e+18  (时间差超过 30 天)\n",
      "已删除节点：1.5419743789673513e+18  (时间差超过 30 天)\n",
      "已删除节点：1.5423800227026862e+18  (时间差超过 30 天)\n",
      "已删除节点：1.5424591874388828e+18  (时间差超过 30 天)\n",
      "已删除节点：1.542434166847193e+18  (时间差超过 30 天)\n",
      "已删除节点：1.5351006624169615e+18  (时间差超过 30 天)\n",
      "已删除节点：1.5363662483798385e+18  (时间差超过 30 天)\n",
      "已删除节点：1.5369023924315382e+18  (时间差超过 30 天)\n",
      "已删除节点：1.54063049437875e+18  (时间差超过 30 天)\n",
      "已删除节点：1.537252199184892e+18  (时间差超过 30 天)\n",
      "已删除节点：1.5398854693745132e+18  (时间差超过 30 天)\n",
      "已删除节点：1.5406758638215823e+18  (时间差超过 30 天)\n",
      "已删除节点：1.5408371498507592e+18  (时间差超过 30 天)\n",
      "已删除节点：1.5419495832361697e+18  (时间差超过 30 天)\n",
      "已删除节点：1.5420256382695834e+18  (时间差超过 30 天)\n",
      "已删除节点：1.54245694992905e+18  (时间差超过 30 天)\n",
      "已删除节点：1.5347526478020403e+18  (时间差超过 30 天)\n",
      "已删除节点：1.53514995939729e+18  (时间差超过 30 天)\n",
      "已删除节点：1.535647431458599e+18  (时间差超过 30 天)\n",
      "已删除节点：1.5368547589373747e+18  (时间差超过 30 天)\n",
      "已删除节点：1.5397853122551276e+18  (时间差超过 30 天)\n",
      "已删除节点：1.5398595759348165e+18  (时间差超过 30 天)\n",
      "已删除节点：1.5403185181423493e+18  (时间差超过 30 天)\n",
      "已删除节点：1.5416052585388237e+18  (时间差超过 30 天)\n",
      "已删除节点：1.54242111764147e+18  (时间差超过 30 天)\n",
      "已删除节点：1.542815644168532e+18  (时间差超过 30 天)\n",
      "已删除节点：1.5426911623847854e+18  (时间差超过 30 天)\n",
      "已删除节点：1.5394291507540828e+18  (时间差超过 30 天)\n",
      "已删除节点：1.5424478620085166e+18  (时间差超过 30 天)\n",
      "已删除节点：1.5343713352327905e+18  (时间差超过 30 天)\n",
      "已删除节点：1.5337485048619786e+18  (时间差超过 30 天)\n",
      "已删除节点：1.53445540399138e+18  (时间差超过 30 天)\n",
      "已删除节点：1536854772858335232  (时间差超过 30 天)\n",
      "已删除节点：1.5372659396364e+18  (时间差超过 30 天)\n",
      "已删除节点：1.5377187043135775e+18  (时间差超过 30 天)\n",
      "已删除节点：1.5378063895186432e+18  (时间差超过 30 天)\n",
      "已删除节点：1.538198302851707e+18  (时间差超过 30 天)\n",
      "已删除节点：1.5363530688662075e+18  (时间差超过 30 天)\n",
      "已删除节点：1.539107156158726e+18  (时间差超过 30 天)\n",
      "已删除节点：1.5395881627286036e+18  (时间差超过 30 天)\n",
      "已删除节点：1.5409871124171323e+18  (时间差超过 30 天)\n",
      "已删除节点：1.5341935688807877e+18  (时间差超过 30 天)\n",
      "已删除节点：1.5336239190765814e+18  (时间差超过 30 天)\n",
      "已删除节点：1.5343591162187694e+18  (时间差超过 30 天)\n",
      "已删除节点：1.5343879439302085e+18  (时间差超过 30 天)\n",
      "已删除节点：1.5348218312820283e+18  (时间差超过 30 天)\n",
      "已删除节点：1.534915815723901e+18  (时间差超过 30 天)\n",
      "已删除节点：1.5337497950339973e+18  (时间差超过 30 天)\n",
      "已删除节点：1.5341646978422129e+18  (时间差超过 30 天)\n",
      "已删除节点：1.5361697126900165e+18  (时间差超过 30 天)\n",
      "已删除节点：1.5361584246096118e+18  (时间差超过 30 天)\n",
      "已删除节点：1.536364955024253e+18  (时间差超过 30 天)\n",
      "已删除节点：1.5390549822293934e+18  (时间差超过 30 天)\n",
      "已删除节点：1.5394946666214195e+18  (时间差超过 30 天)\n",
      "已删除节点：1.5413042770159862e+18  (时间差超过 30 天)\n",
      "已删除节点：1.5366139406583276e+18  (时间差超过 30 天)\n",
      "已删除节点：1.5367019183405998e+18  (时间差超过 30 天)\n",
      "已删除节点：1.5370521955099156e+18  (时间差超过 30 天)\n",
      "已删除节点：1.5373307237951283e+18  (时间差超过 30 天)\n",
      "已删除节点：1.537728603554992e+18  (时间差超过 30 天)\n",
      "已删除节点：1.5391704875151073e+18  (时间差超过 30 天)\n",
      "已删除节点：1.5394611869994394e+18  (时间差超过 30 天)\n",
      "已删除节点：1.5405212945671987e+18  (时间差超过 30 天)\n",
      "已删除节点：1.542774610814718e+18  (时间差超过 30 天)\n",
      "已删除节点：1.5413042739625574e+18  (时间差超过 30 天)\n",
      "已删除节点：1.5417411155559956e+18  (时间差超过 30 天)\n",
      "已删除节点：1.537728582726058e+18  (时间差超过 30 天)\n",
      "已删除节点：1.5391871297961329e+18  (时间差超过 30 天)\n",
      "已删除节点：1.5377285907367895e+18  (时间差超过 30 天)\n",
      "已删除节点：1.5380731351775355e+18  (时间差超过 30 天)\n",
      "已删除节点：1.5424478630110618e+18  (时间差超过 30 天)\n",
      "已删除节点：1.5426821440775987e+18  (时间差超过 30 天)\n",
      "已删除节点：1.5426714033793352e+18  (时间差超过 30 天)\n",
      "已删除节点：1.5346663972966031e+18  (时间差超过 30 天)\n",
      "已删除节点：1.5382081973156372e+18  (时间差超过 30 天)\n",
      "已删除节点：1.5388698754474107e+18  (时间差超过 30 天)\n",
      "已删除节点：1.5337621990506043e+18  (时间差超过 30 天)\n",
      "已删除节点：1.542105718827782e+18  (时间差超过 30 天)\n",
      "已删除节点：1.5338099590998385e+18  (时间差超过 30 天)\n",
      "已删除节点：1.534119747725701e+18  (时间差超过 30 天)\n",
      "已删除节点：1.5347975822284022e+18  (时间差超过 30 天)\n",
      "已删除节点：1.5362963918654136e+18  (时间差超过 30 天)\n",
      "已删除节点：1.536296394851758e+18  (时间差超过 30 天)\n",
      "已删除节点：1.533811997300912e+18  (时间差超过 30 天)\n",
      "已删除节点：1.534080962593583e+18  (时间差超过 30 天)\n",
      "已删除节点：1.534388405555327e+18  (时间差超过 30 天)\n",
      "已删除节点：1.534460125494145e+18  (时间差超过 30 天)\n",
      "已删除节点：1.5345691553696604e+18  (时间差超过 30 天)\n",
      "已删除节点：1.534163710754816e+18  (时间差超过 30 天)\n",
      "已删除节点：1.5358115856203162e+18  (时间差超过 30 天)\n",
      "已删除节点：1.5368890527496315e+18  (时间差超过 30 天)\n",
      "已删除节点：1.5369710295492936e+18  (时间差超过 30 天)\n",
      "已删除节点：1.5370521498549043e+18  (时间差超过 30 天)\n",
      "已删除节点：1.537052173196206e+18  (时间差超过 30 天)\n",
      "已删除节点：1.53727836409208e+18  (时间差超过 30 天)\n",
      "已删除节点：1.537339617720279e+18  (时间差超过 30 天)\n",
      "已删除节点：1.53742804207915e+18  (时间差超过 30 天)\n",
      "已删除节点：1.5385901628586803e+18  (时间差超过 30 天)\n",
      "已删除节点：1.539811984472154e+18  (时间差超过 30 天)\n",
      "已删除节点：1.5408798157500662e+18  (时间差超过 30 天)\n",
      "已删除节点：1.5419469658562314e+18  (时间差超过 30 天)\n",
      "已删除节点：1.536913928340394e+18  (时间差超过 30 天)\n",
      "已删除节点：1537145637803675648  (时间差超过 30 天)\n",
      "已删除节点：1.538230510127698e+18  (时间差超过 30 天)\n",
      "已删除节点：1.5391661662868808e+18  (时间差超过 30 天)\n",
      "已删除节点：1.5389889545940705e+18  (时间差超过 30 天)\n",
      "已删除节点：1.5413042712111557e+18  (时间差超过 30 天)\n",
      "已删除节点：1.5394150591677317e+18  (时间差超过 30 天)\n",
      "已删除节点：1.5398137581296927e+18  (时间差超过 30 天)\n",
      "已删除节点：1.5367131581732004e+18  (时间差超过 30 天)\n",
      "已删除节点：1.5337922649834824e+18  (时间差超过 30 天)\n",
      "已删除节点：1.5275630452238623e+18  (时间差超过 30 天)\n",
      "已删除节点：1.5302259296953344e+18  (时间差超过 30 天)\n",
      "已删除节点：1.5333907403482767e+18  (时间差超过 30 天)\n",
      "已删除节点：1.5351104693582602e+18  (时间差超过 30 天)\n",
      "已删除节点：1.5351104719838945e+18  (时间差超过 30 天)\n",
      "已删除节点：1.5370816409706865e+18  (时间差超过 30 天)\n",
      "已删除节点：1.5395053797337375e+18  (时间差超过 30 天)\n",
      "已删除节点：1.540630490280956e+18  (时间差超过 30 天)\n",
      "已删除节点：1.5417210484667187e+18  (时间差超过 30 天)\n",
      "已删除节点：1.541975117374554e+18  (时间差超过 30 天)\n",
      "已删除节点：1.536019389857747e+18  (时间差超过 30 天)\n",
      "已删除节点：1.5368913225895977e+18  (时间差超过 30 天)\n",
      "已删除节点：1.5373154403550044e+18  (时间差超过 30 天)\n",
      "已删除节点：1.5376492460016968e+18  (时间差超过 30 天)\n",
      "已删除节点：1.538881208842539e+18  (时间差超过 30 天)\n",
      "已删除节点：1.5390629296470303e+18  (时间差超过 30 天)\n",
      "已删除节点：1.5390812498174484e+18  (时间差超过 30 天)\n",
      "已删除节点：1.5394728538498703e+18  (时间差超过 30 天)\n",
      "已删除节点：1.5395361128293376e+18  (时间差超过 30 天)\n",
      "已删除节点：1.5416758058723123e+18  (时间差超过 30 天)\n",
      "已删除节点：1.5397853197252485e+18  (时间差超过 30 天)\n",
      "已删除节点：1.54281564180301e+18  (时间差超过 30 天)\n",
      "已删除节点：1.5419318742468076e+18  (时间差超过 30 天)\n",
      "已删除节点：1.5426821418419569e+18  (时间差超过 30 天)\n",
      "已删除节点：1.5345766699730043e+18  (时间差超过 30 天)\n",
      "已删除节点：1.5402447058076795e+18  (时间差超过 30 天)\n",
      "已删除节点：1.536263635932422e+18  (时间差超过 30 天)\n"
     ]
    },
    {
     "name": "stderr",
     "output_type": "stream",
     "text": [
      "删除过期节点: 0节点 [00:00, ?节点/s]\n",
      "删除过期节点: 0节点 [00:00, ?节点/s]\n",
      "删除过期节点: 0节点 [00:00, ?节点/s]\n",
      "删除过期节点: 0节点 [00:00, ?节点/s]\n",
      "删除过期节点: 0节点 [00:00, ?节点/s]\n",
      "删除过期节点: 0节点 [00:00, ?节点/s]\n",
      "删除过期节点: 0节点 [00:00, ?节点/s]\n"
     ]
    }
   ],
   "source": [
    "import os\n",
    "import pandas as pd\n",
    "import matplotlib.pyplot as plt\n",
    "import networkx as nx\n",
    "import datetime\n",
    "from sklearn.metrics.pairwise import cosine_similarity\n",
    "import matplotlib.pyplot as plt\n",
    "import re\n",
    "import numpy as np\n",
    "from sympy.abc import x\n",
    "from networkx.algorithms.community import greedy_modularity_communities, modularity\n",
    "from tqdm import tqdm\n",
    "from collections import deque\n",
    "\n",
    "import csv \n",
    "def is_valid_id(tweet_id):\n",
    "    # 检查推文ID是否是有效的（例如不为空，且是数字，或者是合理的ID范围）\n",
    "    if pd.isna(tweet_id) or tweet_id == \"\" or not isinstance(tweet_id, (int, float)):\n",
    "        return False\n",
    "    return True\n",
    "def main2():\n",
    "    # 创建有向图\n",
    "    G = nx.DiGraph()\n",
    "\n",
    "    # 读取数据并预处理\n",
    "    table = pd.read_csv(\"final_without_quotes.txt\", encoding='utf-8')\n",
    "    table = table.iloc[:, 1:]  # 移除第一列（索引列）\n",
    "\n",
    "    # 处理时间字段，删除无效或格式错误的记录\n",
    "    to_drop = []  # 用于存储需要删除的行索引\n",
    "    for i in range(len(table)):\n",
    "        try:\n",
    "            table.loc[i, 'raw_value.created_at'] = pd.to_datetime(table.loc[i, 'raw_value.created_at'])\n",
    "        except:\n",
    "            to_drop.append(i)\n",
    "        if isinstance(table.loc[i, 'raw_value.created_at'], datetime.datetime):\n",
    "            pass\n",
    "        else:\n",
    "            to_drop.append(i)\n",
    "\n",
    "        if table.loc[i, 'raw_value.created_at'].tzinfo is not None:\n",
    "            to_drop.append(i)\n",
    "\n",
    "    # 删除无效的行\n",
    "    table.drop(to_drop, inplace=True)\n",
    "    \n",
    "    table['raw_value.created_at'].sort_values(ascending=True)\n",
    "    table.to_csv(\"final_without_quotes.txt\", encoding='utf-8')\n",
    "    table.index = table['raw_value.created_at']\n",
    "\n",
    "    # 定义数据存储结构\n",
    "    users = {i: {} for i in set(table['raw_value.user_id_str'].values.tolist())}\n",
    "    makelist = {}\n",
    "    date_diff = 30  # 时间差阈值（30天）\n",
    "    output_dir = \"degree\"\n",
    "    edge_timestamps = deque()  # 双端队列缓存边的时间戳和对应的边\n",
    "    edge_lifetime = 30  # 边的生命周期 (天)\n",
    "    \n",
    "    # 用于批量存储index.csv中的数据\n",
    "    index_buffer = []  # 用于存储一段时间内的写入数据\n",
    "\n",
    "    # 按天处理数据\n",
    "    for w, w_t in table.resample('D'):  # 按天分组\n",
    "        if len(w_t) > 0:  # 如果本天有数据\n",
    "            for index, row in w_t.iterrows():\n",
    "                tweet_id = row['raw_value.id_str']  # 获取推文ID\n",
    "                # 判断推文是否存在交互关系\n",
    "                if row['raw_value.in_reply_to_status_id_str'] or row['raw_value.quoted_status_id_str']:\n",
    "                    this_data_datetime = row['raw_value.created_at']\n",
    "                    \n",
    "                    # 检查用户ID是否为空\n",
    "                    user_id = row['raw_value.user_id_str']\n",
    "                    if pd.isna(user_id) or user_id == \"\":\n",
    "                        continue  # 跳过没有有效用户ID的记录\n",
    "\n",
    "                    # 添加节点到图中\n",
    "                    G.add_node(tweet_id)  # 添加节点到图中\n",
    "\n",
    "                    # 遍历缓存中的推文，寻找交互关系\n",
    "                    for make_i in makelist.keys():\n",
    "                        diff = (this_data_datetime - makelist[make_i]['created_at']).days\n",
    "                        if diff < date_diff:  # 如果时间差在范围内\n",
    "                            # 回复关系\n",
    "                            if is_valid_id(row['raw_value.in_reply_to_status_id_str']):\n",
    "                                edge_timestamps.append((makelist[make_i]['id'], row['raw_value.in_reply_to_status_id_str'], this_data_datetime))\n",
    "                                G.add_edge(makelist[make_i]['id'], row['raw_value.in_reply_to_status_id_str'], weight=1, timestamp=this_data_datetime)\n",
    "\n",
    "                            if is_valid_id(row['raw_value.quoted_status_id_str']):\n",
    "                                edge_timestamps.append((makelist[make_i]['id'], row['raw_value.quoted_status_id_str'], this_data_datetime))\n",
    "                                G.add_edge(makelist[make_i]['id'], row['raw_value.quoted_status_id_str'], weight=1, timestamp=this_data_datetime)\n",
    "\n",
    "            if row['raw_value.user_id_str'] not in makelist:\n",
    "                makelist[row['raw_value.user_id_str']] = {\n",
    "                    'userid': row['raw_value.user_id_str'],\n",
    "                    'id': tweet_id,\n",
    "                    'text': row['raw_value.full_text'],\n",
    "                    'reply': row['raw_value.in_reply_to_status_id_str'],\n",
    "                    'quoted': row['raw_value.quoted_status_id_str'],\n",
    "                    'cleantext': row['raw_value.full_text'],\n",
    "                    'created_at': row['raw_value.created_at']\n",
    "                }\n",
    "\n",
    "            # 删除超过30天的边和节点\n",
    "            to_remove_edges = []\n",
    "            to_remove_nodes = set()  # 用于存储需要删除的节点\n",
    "\n",
    "            # 从双端队列中删除过期的边\n",
    "            while edge_timestamps and (w - edge_timestamps[0][2]).days > edge_lifetime:\n",
    "                edge_start, edge_end, timestamp = edge_timestamps.popleft()\n",
    "                if G.has_edge(edge_start, edge_end):\n",
    "                    G.remove_edge(edge_start, edge_end)\n",
    "                    to_remove_nodes.add(edge_start)\n",
    "                    to_remove_nodes.add(edge_end)\n",
    "                    print(f\"已删除边：{(edge_start, edge_end)}  (时间差超过 {date_diff} 天)\")\n",
    "\n",
    "            # 删除节点\n",
    "            for node in tqdm(to_remove_nodes, desc=\"删除过期节点\", unit=\"节点\"):\n",
    "                if G.has_node(node):\n",
    "                    G.remove_node(node)\n",
    "                    print(f\"已删除节点：{node}  (时间差超过 {date_diff} 天)\")\n",
    "\n",
    "            # Save edge information to a text file\n",
    "            with open(\"edge_info.txt\", \"w+\", encoding='utf-8') as f:\n",
    "                f.write(\"Source,Target,Timestamp\\n\")  # 写入表头\n",
    "                for edge in edge_timestamps:\n",
    "                    source, target, timestamp = edge\n",
    "                    f.write(f\"{source},{target},{timestamp}\\n\")\n",
    "    return edge_lifetime\n",
    "\n",
    "\n",
    "if __name__ == '__main__':\n",
    "    print(datetime.datetime.now())\n",
    "    main2()\n",
    "\n"
   ]
  },
  {
   "cell_type": "code",
   "execution_count": 2,
   "id": "4bceb1f9-488a-4874-b73b-771d9f728311",
   "metadata": {},
   "outputs": [
    {
     "name": "stdout",
     "output_type": "stream",
     "text": [
      "ok\n"
     ]
    }
   ],
   "source": [
    "print('ok')"
   ]
  },
  {
   "cell_type": "code",
   "execution_count": null,
   "id": "41975afc-33fe-44a6-a77f-399426e877c1",
   "metadata": {},
   "outputs": [],
   "source": []
  }
 ],
 "metadata": {
  "kernelspec": {
   "display_name": "Python [conda env:network] *",
   "language": "python",
   "name": "conda-env-network-py"
  },
  "language_info": {
   "codemirror_mode": {
    "name": "ipython",
    "version": 3
   },
   "file_extension": ".py",
   "mimetype": "text/x-python",
   "name": "python",
   "nbconvert_exporter": "python",
   "pygments_lexer": "ipython3",
   "version": "3.9.20"
  }
 },
 "nbformat": 4,
 "nbformat_minor": 5
}
