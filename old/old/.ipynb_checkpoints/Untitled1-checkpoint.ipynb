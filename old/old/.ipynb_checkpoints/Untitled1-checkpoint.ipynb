{
 "cells": [
  {
   "cell_type": "code",
   "execution_count": null,
   "id": "db0bfcdb-4d60-4399-b15b-20a2f5652a73",
   "metadata": {},
   "outputs": [
    {
     "name": "stdout",
     "output_type": "stream",
     "text": [
      "2025-02-10 07:48:26.036239\n"
     ]
    },
    {
     "name": "stderr",
     "output_type": "stream",
     "text": [
      "/home/root_gdut/miniconda3/envs/network/lib/python3.9/site-packages/pandas/core/indexes/base.py:7631: FutureWarning: Dtype inference on a pandas object (Series, Index, ExtensionArray) is deprecated. The Index constructor will keep the original dtype in the future. Call `infer_objects` on the result to get the old behavior.\n",
      "  return Index(index_like, name=name, copy=copy)\n",
      "删除过期节点: 0节点 [00:00, ?节点/s]\n",
      "/home/root_gdut/miniconda3/envs/network/lib/python3.9/site-packages/networkx/algorithms/assortativity/mixing.py:212: RuntimeWarning: invalid value encountered in divide\n",
      "  a = a / a.sum()\n"
     ]
    },
    {
     "name": "stdout",
     "output_type": "stream",
     "text": [
      "Graph has no edges. Setting modularity to 0.\n"
     ]
    },
    {
     "name": "stderr",
     "output_type": "stream",
     "text": [
      "删除过期节点: 0节点 [00:00, ?节点/s]\n"
     ]
    },
    {
     "name": "stdout",
     "output_type": "stream",
     "text": [
      "Graph has no edges. Setting modularity to 0.\n"
     ]
    },
    {
     "name": "stderr",
     "output_type": "stream",
     "text": [
      "删除过期节点: 0节点 [00:00, ?节点/s]\n"
     ]
    },
    {
     "name": "stdout",
     "output_type": "stream",
     "text": [
      "Graph has no edges. Setting modularity to 0.\n"
     ]
    },
    {
     "name": "stderr",
     "output_type": "stream",
     "text": [
      "删除过期节点: 0节点 [00:00, ?节点/s]\n"
     ]
    },
    {
     "name": "stdout",
     "output_type": "stream",
     "text": [
      "Graph has no edges. Setting modularity to 0.\n"
     ]
    },
    {
     "name": "stderr",
     "output_type": "stream",
     "text": [
      "删除过期节点: 0节点 [00:00, ?节点/s]\n"
     ]
    },
    {
     "name": "stdout",
     "output_type": "stream",
     "text": [
      "Graph has no edges. Setting modularity to 0.\n"
     ]
    },
    {
     "name": "stderr",
     "output_type": "stream",
     "text": [
      "删除过期节点: 0节点 [00:00, ?节点/s]\n"
     ]
    },
    {
     "name": "stdout",
     "output_type": "stream",
     "text": [
      "Graph has no edges. Setting modularity to 0.\n"
     ]
    },
    {
     "name": "stderr",
     "output_type": "stream",
     "text": [
      "删除过期节点: 0节点 [00:00, ?节点/s]\n"
     ]
    },
    {
     "name": "stdout",
     "output_type": "stream",
     "text": [
      "Graph has no edges. Setting modularity to 0.\n"
     ]
    },
    {
     "name": "stderr",
     "output_type": "stream",
     "text": [
      "删除过期节点: 0节点 [00:00, ?节点/s]\n"
     ]
    },
    {
     "name": "stdout",
     "output_type": "stream",
     "text": [
      "Graph has no edges. Setting modularity to 0.\n"
     ]
    },
    {
     "name": "stderr",
     "output_type": "stream",
     "text": [
      "删除过期节点: 0节点 [00:00, ?节点/s]\n"
     ]
    },
    {
     "name": "stdout",
     "output_type": "stream",
     "text": [
      "Graph has no edges. Setting modularity to 0.\n"
     ]
    },
    {
     "name": "stderr",
     "output_type": "stream",
     "text": [
      "删除过期节点: 0节点 [00:00, ?节点/s]\n"
     ]
    },
    {
     "name": "stdout",
     "output_type": "stream",
     "text": [
      "Graph has no edges. Setting modularity to 0.\n"
     ]
    },
    {
     "name": "stderr",
     "output_type": "stream",
     "text": [
      "删除过期节点: 0节点 [00:00, ?节点/s]\n"
     ]
    },
    {
     "name": "stdout",
     "output_type": "stream",
     "text": [
      "Graph has no edges. Setting modularity to 0.\n"
     ]
    },
    {
     "name": "stderr",
     "output_type": "stream",
     "text": [
      "删除过期节点: 0节点 [00:00, ?节点/s]\n"
     ]
    },
    {
     "name": "stdout",
     "output_type": "stream",
     "text": [
      "Graph has no edges. Setting modularity to 0.\n"
     ]
    },
    {
     "name": "stderr",
     "output_type": "stream",
     "text": [
      "删除过期节点: 0节点 [00:00, ?节点/s]\n"
     ]
    },
    {
     "name": "stdout",
     "output_type": "stream",
     "text": [
      "Graph has no edges. Setting modularity to 0.\n"
     ]
    },
    {
     "name": "stderr",
     "output_type": "stream",
     "text": [
      "删除过期节点: 0节点 [00:00, ?节点/s]\n"
     ]
    },
    {
     "name": "stdout",
     "output_type": "stream",
     "text": [
      "Graph has no edges. Setting modularity to 0.\n"
     ]
    },
    {
     "name": "stderr",
     "output_type": "stream",
     "text": [
      "删除过期节点: 0节点 [00:00, ?节点/s]\n"
     ]
    },
    {
     "name": "stdout",
     "output_type": "stream",
     "text": [
      "Graph has no edges. Setting modularity to 0.\n"
     ]
    },
    {
     "name": "stderr",
     "output_type": "stream",
     "text": [
      "删除过期节点: 0节点 [00:00, ?节点/s]\n"
     ]
    },
    {
     "name": "stdout",
     "output_type": "stream",
     "text": [
      "Graph has no edges. Setting modularity to 0.\n"
     ]
    },
    {
     "name": "stderr",
     "output_type": "stream",
     "text": [
      "删除过期节点: 0节点 [00:00, ?节点/s]\n"
     ]
    },
    {
     "name": "stdout",
     "output_type": "stream",
     "text": [
      "Graph has no edges. Setting modularity to 0.\n"
     ]
    },
    {
     "name": "stderr",
     "output_type": "stream",
     "text": [
      "删除过期节点: 0节点 [00:00, ?节点/s]\n"
     ]
    },
    {
     "name": "stdout",
     "output_type": "stream",
     "text": [
      "Graph has no edges. Setting modularity to 0.\n"
     ]
    },
    {
     "name": "stderr",
     "output_type": "stream",
     "text": [
      "删除过期节点: 0节点 [00:00, ?节点/s]\n"
     ]
    },
    {
     "name": "stdout",
     "output_type": "stream",
     "text": [
      "Graph has no edges. Setting modularity to 0.\n"
     ]
    },
    {
     "name": "stderr",
     "output_type": "stream",
     "text": [
      "删除过期节点: 0节点 [00:00, ?节点/s]\n"
     ]
    },
    {
     "name": "stdout",
     "output_type": "stream",
     "text": [
      "Graph has no edges. Setting modularity to 0.\n"
     ]
    },
    {
     "name": "stderr",
     "output_type": "stream",
     "text": [
      "删除过期节点: 0节点 [00:00, ?节点/s]\n",
      "/tmp/ipykernel_2325113/4251834191.py:135: RuntimeWarning: More than 20 figures have been opened. Figures created through the pyplot interface (`matplotlib.pyplot.figure`) are retained until explicitly closed and may consume too much memory. (To control this warning, see the rcParam `figure.max_open_warning`). Consider using `matplotlib.pyplot.close()`.\n",
      "  plt.figure(figsize=(8, 6))\n"
     ]
    },
    {
     "name": "stdout",
     "output_type": "stream",
     "text": [
      "Graph has no edges. Setting modularity to 0.\n"
     ]
    },
    {
     "name": "stderr",
     "output_type": "stream",
     "text": [
      "删除过期节点: 0节点 [00:00, ?节点/s]\n"
     ]
    },
    {
     "name": "stdout",
     "output_type": "stream",
     "text": [
      "Graph has no edges. Setting modularity to 0.\n"
     ]
    },
    {
     "name": "stderr",
     "output_type": "stream",
     "text": [
      "删除过期节点: 0节点 [00:00, ?节点/s]\n"
     ]
    },
    {
     "name": "stdout",
     "output_type": "stream",
     "text": [
      "Graph has no edges. Setting modularity to 0.\n"
     ]
    },
    {
     "name": "stderr",
     "output_type": "stream",
     "text": [
      "删除过期节点: 0节点 [00:00, ?节点/s]\n"
     ]
    },
    {
     "name": "stdout",
     "output_type": "stream",
     "text": [
      "Graph has no edges. Setting modularity to 0.\n"
     ]
    },
    {
     "name": "stderr",
     "output_type": "stream",
     "text": [
      "删除过期节点: 0节点 [00:00, ?节点/s]\n"
     ]
    },
    {
     "name": "stdout",
     "output_type": "stream",
     "text": [
      "Graph has no edges. Setting modularity to 0.\n"
     ]
    },
    {
     "name": "stderr",
     "output_type": "stream",
     "text": [
      "删除过期节点: 0节点 [00:00, ?节点/s]\n"
     ]
    },
    {
     "name": "stdout",
     "output_type": "stream",
     "text": [
      "Graph has no edges. Setting modularity to 0.\n"
     ]
    },
    {
     "name": "stderr",
     "output_type": "stream",
     "text": [
      "删除过期节点: 0节点 [00:00, ?节点/s]\n"
     ]
    },
    {
     "name": "stdout",
     "output_type": "stream",
     "text": [
      "Graph has no edges. Setting modularity to 0.\n"
     ]
    },
    {
     "name": "stderr",
     "output_type": "stream",
     "text": [
      "删除过期节点: 0节点 [00:00, ?节点/s]\n"
     ]
    },
    {
     "name": "stdout",
     "output_type": "stream",
     "text": [
      "Graph has no edges. Setting modularity to 0.\n"
     ]
    },
    {
     "name": "stderr",
     "output_type": "stream",
     "text": [
      "删除过期节点: 0节点 [00:00, ?节点/s]\n"
     ]
    },
    {
     "name": "stdout",
     "output_type": "stream",
     "text": [
      "Graph has no edges. Setting modularity to 0.\n"
     ]
    },
    {
     "name": "stderr",
     "output_type": "stream",
     "text": [
      "删除过期节点: 0节点 [00:00, ?节点/s]\n"
     ]
    },
    {
     "name": "stdout",
     "output_type": "stream",
     "text": [
      "Graph has no edges. Setting modularity to 0.\n"
     ]
    },
    {
     "name": "stderr",
     "output_type": "stream",
     "text": [
      "删除过期节点: 0节点 [00:00, ?节点/s]\n"
     ]
    },
    {
     "name": "stdout",
     "output_type": "stream",
     "text": [
      "Graph has no edges. Setting modularity to 0.\n"
     ]
    },
    {
     "name": "stderr",
     "output_type": "stream",
     "text": [
      "删除过期节点: 0节点 [00:00, ?节点/s]\n"
     ]
    },
    {
     "name": "stdout",
     "output_type": "stream",
     "text": [
      "Graph has no edges. Setting modularity to 0.\n"
     ]
    },
    {
     "name": "stderr",
     "output_type": "stream",
     "text": [
      "删除过期节点: 0节点 [00:00, ?节点/s]\n"
     ]
    },
    {
     "name": "stdout",
     "output_type": "stream",
     "text": [
      "Graph has no edges. Setting modularity to 0.\n"
     ]
    },
    {
     "name": "stderr",
     "output_type": "stream",
     "text": [
      "删除过期节点: 0节点 [00:00, ?节点/s]\n"
     ]
    },
    {
     "name": "stdout",
     "output_type": "stream",
     "text": [
      "Graph has no edges. Setting modularity to 0.\n"
     ]
    },
    {
     "name": "stderr",
     "output_type": "stream",
     "text": [
      "删除过期节点: 0节点 [00:00, ?节点/s]\n"
     ]
    },
    {
     "name": "stdout",
     "output_type": "stream",
     "text": [
      "Graph has no edges. Setting modularity to 0.\n"
     ]
    },
    {
     "name": "stderr",
     "output_type": "stream",
     "text": [
      "删除过期节点: 0节点 [00:00, ?节点/s]\n"
     ]
    },
    {
     "name": "stdout",
     "output_type": "stream",
     "text": [
      "Graph has no edges. Setting modularity to 0.\n"
     ]
    },
    {
     "name": "stderr",
     "output_type": "stream",
     "text": [
      "删除过期节点: 0节点 [00:00, ?节点/s]\n"
     ]
    },
    {
     "name": "stdout",
     "output_type": "stream",
     "text": [
      "Graph has no edges. Setting modularity to 0.\n"
     ]
    },
    {
     "name": "stderr",
     "output_type": "stream",
     "text": [
      "删除过期节点: 0节点 [00:00, ?节点/s]\n"
     ]
    },
    {
     "name": "stdout",
     "output_type": "stream",
     "text": [
      "Graph has no edges. Setting modularity to 0.\n"
     ]
    },
    {
     "name": "stderr",
     "output_type": "stream",
     "text": [
      "删除过期节点: 0节点 [00:00, ?节点/s]\n"
     ]
    },
    {
     "name": "stdout",
     "output_type": "stream",
     "text": [
      "Graph has no edges. Setting modularity to 0.\n"
     ]
    },
    {
     "name": "stderr",
     "output_type": "stream",
     "text": [
      "删除过期节点: 0节点 [00:00, ?节点/s]\n"
     ]
    },
    {
     "name": "stdout",
     "output_type": "stream",
     "text": [
      "Graph has no edges. Setting modularity to 0.\n"
     ]
    },
    {
     "name": "stderr",
     "output_type": "stream",
     "text": [
      "删除过期节点: 0节点 [00:00, ?节点/s]\n"
     ]
    },
    {
     "name": "stdout",
     "output_type": "stream",
     "text": [
      "Graph has no edges. Setting modularity to 0.\n"
     ]
    },
    {
     "name": "stderr",
     "output_type": "stream",
     "text": [
      "删除过期节点: 0节点 [00:00, ?节点/s]\n"
     ]
    },
    {
     "name": "stdout",
     "output_type": "stream",
     "text": [
      "Graph has no edges. Setting modularity to 0.\n"
     ]
    },
    {
     "name": "stderr",
     "output_type": "stream",
     "text": [
      "删除过期节点: 0节点 [00:00, ?节点/s]\n"
     ]
    },
    {
     "name": "stdout",
     "output_type": "stream",
     "text": [
      "Graph has no edges. Setting modularity to 0.\n"
     ]
    },
    {
     "name": "stderr",
     "output_type": "stream",
     "text": [
      "删除过期节点: 0节点 [00:00, ?节点/s]\n"
     ]
    },
    {
     "name": "stdout",
     "output_type": "stream",
     "text": [
      "Graph has no edges. Setting modularity to 0.\n"
     ]
    },
    {
     "name": "stderr",
     "output_type": "stream",
     "text": [
      "删除过期节点: 0节点 [00:00, ?节点/s]\n"
     ]
    },
    {
     "name": "stdout",
     "output_type": "stream",
     "text": [
      "Graph has no edges. Setting modularity to 0.\n"
     ]
    },
    {
     "name": "stderr",
     "output_type": "stream",
     "text": [
      "删除过期节点: 0节点 [00:00, ?节点/s]\n"
     ]
    },
    {
     "name": "stdout",
     "output_type": "stream",
     "text": [
      "Graph has no edges. Setting modularity to 0.\n"
     ]
    },
    {
     "name": "stderr",
     "output_type": "stream",
     "text": [
      "删除过期节点: 0节点 [00:00, ?节点/s]\n"
     ]
    },
    {
     "name": "stdout",
     "output_type": "stream",
     "text": [
      "Graph has no edges. Setting modularity to 0.\n"
     ]
    },
    {
     "name": "stderr",
     "output_type": "stream",
     "text": [
      "删除过期节点: 0节点 [00:00, ?节点/s]\n"
     ]
    },
    {
     "name": "stdout",
     "output_type": "stream",
     "text": [
      "Graph has no edges. Setting modularity to 0.\n"
     ]
    },
    {
     "name": "stderr",
     "output_type": "stream",
     "text": [
      "删除过期节点: 0节点 [00:00, ?节点/s]\n"
     ]
    },
    {
     "name": "stdout",
     "output_type": "stream",
     "text": [
      "Graph has no edges. Setting modularity to 0.\n"
     ]
    },
    {
     "name": "stderr",
     "output_type": "stream",
     "text": [
      "删除过期节点: 0节点 [00:00, ?节点/s]\n"
     ]
    },
    {
     "name": "stdout",
     "output_type": "stream",
     "text": [
      "Graph has no edges. Setting modularity to 0.\n"
     ]
    },
    {
     "name": "stderr",
     "output_type": "stream",
     "text": [
      "删除过期节点: 0节点 [00:00, ?节点/s]\n"
     ]
    },
    {
     "name": "stdout",
     "output_type": "stream",
     "text": [
      "Graph has no edges. Setting modularity to 0.\n"
     ]
    },
    {
     "name": "stderr",
     "output_type": "stream",
     "text": [
      "删除过期节点: 0节点 [00:00, ?节点/s]\n"
     ]
    },
    {
     "name": "stdout",
     "output_type": "stream",
     "text": [
      "Graph has no edges. Setting modularity to 0.\n"
     ]
    },
    {
     "name": "stderr",
     "output_type": "stream",
     "text": [
      "删除过期节点: 0节点 [00:00, ?节点/s]\n"
     ]
    },
    {
     "name": "stdout",
     "output_type": "stream",
     "text": [
      "Graph has no edges. Setting modularity to 0.\n"
     ]
    },
    {
     "name": "stderr",
     "output_type": "stream",
     "text": [
      "删除过期节点: 0节点 [00:00, ?节点/s]\n"
     ]
    },
    {
     "name": "stdout",
     "output_type": "stream",
     "text": [
      "Graph has no edges. Setting modularity to 0.\n"
     ]
    },
    {
     "name": "stderr",
     "output_type": "stream",
     "text": [
      "删除过期节点: 0节点 [00:00, ?节点/s]\n"
     ]
    },
    {
     "name": "stdout",
     "output_type": "stream",
     "text": [
      "Graph has no edges. Setting modularity to 0.\n"
     ]
    },
    {
     "name": "stderr",
     "output_type": "stream",
     "text": [
      "删除过期节点: 0节点 [00:00, ?节点/s]\n"
     ]
    },
    {
     "name": "stdout",
     "output_type": "stream",
     "text": [
      "Graph has no edges. Setting modularity to 0.\n"
     ]
    },
    {
     "name": "stderr",
     "output_type": "stream",
     "text": [
      "删除过期节点: 0节点 [00:00, ?节点/s]\n",
      "/home/root_gdut/miniconda3/envs/network/lib/python3.9/site-packages/networkx/algorithms/assortativity/correlation.py:302: RuntimeWarning: invalid value encountered in scalar divide\n",
      "  return (xy * (M - ab)).sum() / np.sqrt(vara * varb)\n"
     ]
    },
    {
     "name": "stdout",
     "output_type": "stream",
     "text": [
      "Modularity score: 0.0\n"
     ]
    },
    {
     "name": "stderr",
     "output_type": "stream",
     "text": [
      "删除过期节点: 0节点 [00:00, ?节点/s]\n"
     ]
    },
    {
     "name": "stdout",
     "output_type": "stream",
     "text": [
      "Modularity score: 0.0\n"
     ]
    },
    {
     "name": "stderr",
     "output_type": "stream",
     "text": [
      "删除过期节点: 0节点 [00:00, ?节点/s]\n"
     ]
    },
    {
     "name": "stdout",
     "output_type": "stream",
     "text": [
      "Modularity score: 0.0\n"
     ]
    },
    {
     "name": "stderr",
     "output_type": "stream",
     "text": [
      "删除过期节点: 0节点 [00:00, ?节点/s]\n"
     ]
    },
    {
     "name": "stdout",
     "output_type": "stream",
     "text": [
      "Modularity score: 0.0\n"
     ]
    },
    {
     "name": "stderr",
     "output_type": "stream",
     "text": [
      "删除过期节点: 0节点 [00:00, ?节点/s]\n"
     ]
    },
    {
     "name": "stdout",
     "output_type": "stream",
     "text": [
      "Modularity score: 0.0\n"
     ]
    },
    {
     "name": "stderr",
     "output_type": "stream",
     "text": [
      "删除过期节点: 0节点 [00:00, ?节点/s]\n"
     ]
    },
    {
     "name": "stdout",
     "output_type": "stream",
     "text": [
      "Modularity score: 0.0\n"
     ]
    },
    {
     "name": "stderr",
     "output_type": "stream",
     "text": [
      "删除过期节点: 0节点 [00:00, ?节点/s]\n"
     ]
    },
    {
     "name": "stdout",
     "output_type": "stream",
     "text": [
      "Modularity score: 0.0\n"
     ]
    },
    {
     "name": "stderr",
     "output_type": "stream",
     "text": [
      "删除过期节点: 0节点 [00:00, ?节点/s]\n"
     ]
    },
    {
     "name": "stdout",
     "output_type": "stream",
     "text": [
      "Modularity score: 0.0\n"
     ]
    },
    {
     "name": "stderr",
     "output_type": "stream",
     "text": [
      "删除过期节点: 0节点 [00:00, ?节点/s]\n"
     ]
    },
    {
     "name": "stdout",
     "output_type": "stream",
     "text": [
      "Modularity score: 0.0\n"
     ]
    },
    {
     "name": "stderr",
     "output_type": "stream",
     "text": [
      "删除过期节点: 0节点 [00:00, ?节点/s]\n"
     ]
    },
    {
     "name": "stdout",
     "output_type": "stream",
     "text": [
      "Modularity score: 0.0\n"
     ]
    },
    {
     "name": "stderr",
     "output_type": "stream",
     "text": [
      "删除过期节点: 0节点 [00:00, ?节点/s]\n"
     ]
    },
    {
     "name": "stdout",
     "output_type": "stream",
     "text": [
      "Modularity score: 0.0\n"
     ]
    },
    {
     "name": "stderr",
     "output_type": "stream",
     "text": [
      "删除过期节点: 0节点 [00:00, ?节点/s]\n"
     ]
    },
    {
     "name": "stdout",
     "output_type": "stream",
     "text": [
      "Modularity score: 0.0\n"
     ]
    },
    {
     "name": "stderr",
     "output_type": "stream",
     "text": [
      "删除过期节点: 0节点 [00:00, ?节点/s]\n"
     ]
    },
    {
     "name": "stdout",
     "output_type": "stream",
     "text": [
      "Modularity score: 0.0\n"
     ]
    },
    {
     "name": "stderr",
     "output_type": "stream",
     "text": [
      "删除过期节点: 0节点 [00:00, ?节点/s]\n"
     ]
    },
    {
     "name": "stdout",
     "output_type": "stream",
     "text": [
      "Modularity score: 0.0\n"
     ]
    },
    {
     "name": "stderr",
     "output_type": "stream",
     "text": [
      "删除过期节点: 0节点 [00:00, ?节点/s]\n"
     ]
    },
    {
     "name": "stdout",
     "output_type": "stream",
     "text": [
      "Modularity score: 0.0\n"
     ]
    },
    {
     "name": "stderr",
     "output_type": "stream",
     "text": [
      "删除过期节点: 0节点 [00:00, ?节点/s]\n"
     ]
    },
    {
     "name": "stdout",
     "output_type": "stream",
     "text": [
      "Modularity score: 0.0\n"
     ]
    },
    {
     "name": "stderr",
     "output_type": "stream",
     "text": [
      "删除过期节点: 0节点 [00:00, ?节点/s]\n"
     ]
    },
    {
     "name": "stdout",
     "output_type": "stream",
     "text": [
      "Modularity score: 0.0\n"
     ]
    },
    {
     "name": "stderr",
     "output_type": "stream",
     "text": [
      "删除过期节点: 0节点 [00:00, ?节点/s]\n"
     ]
    },
    {
     "name": "stdout",
     "output_type": "stream",
     "text": [
      "Modularity score: 0.0\n"
     ]
    },
    {
     "name": "stderr",
     "output_type": "stream",
     "text": [
      "删除过期节点: 0节点 [00:00, ?节点/s]\n"
     ]
    },
    {
     "name": "stdout",
     "output_type": "stream",
     "text": [
      "Modularity score: 0.0\n"
     ]
    },
    {
     "name": "stderr",
     "output_type": "stream",
     "text": [
      "删除过期节点: 0节点 [00:00, ?节点/s]\n"
     ]
    },
    {
     "name": "stdout",
     "output_type": "stream",
     "text": [
      "Modularity score: 0.0\n"
     ]
    },
    {
     "name": "stderr",
     "output_type": "stream",
     "text": [
      "删除过期节点: 0节点 [00:00, ?节点/s]\n"
     ]
    },
    {
     "name": "stdout",
     "output_type": "stream",
     "text": [
      "Modularity score: 0.0\n"
     ]
    },
    {
     "name": "stderr",
     "output_type": "stream",
     "text": [
      "删除过期节点: 0节点 [00:00, ?节点/s]\n"
     ]
    },
    {
     "name": "stdout",
     "output_type": "stream",
     "text": [
      "Modularity score: 0.4444444444444444\n"
     ]
    },
    {
     "name": "stderr",
     "output_type": "stream",
     "text": [
      "删除过期节点: 0节点 [00:00, ?节点/s]\n"
     ]
    },
    {
     "name": "stdout",
     "output_type": "stream",
     "text": [
      "Modularity score: 0.4444444444444444\n"
     ]
    },
    {
     "name": "stderr",
     "output_type": "stream",
     "text": [
      "删除过期节点: 0节点 [00:00, ?节点/s]\n"
     ]
    },
    {
     "name": "stdout",
     "output_type": "stream",
     "text": [
      "Modularity score: 0.4444444444444444\n"
     ]
    },
    {
     "name": "stderr",
     "output_type": "stream",
     "text": [
      "删除过期节点: 0节点 [00:00, ?节点/s]\n"
     ]
    },
    {
     "name": "stdout",
     "output_type": "stream",
     "text": [
      "Modularity score: 0.4970414201183432\n"
     ]
    },
    {
     "name": "stderr",
     "output_type": "stream",
     "text": [
      "删除过期节点: 0节点 [00:00, ?节点/s]\n"
     ]
    },
    {
     "name": "stdout",
     "output_type": "stream",
     "text": [
      "Modularity score: 0.4970414201183432\n"
     ]
    },
    {
     "name": "stderr",
     "output_type": "stream",
     "text": [
      "删除过期节点: 0节点 [00:00, ?节点/s]\n"
     ]
    },
    {
     "name": "stdout",
     "output_type": "stream",
     "text": [
      "Modularity score: 0.33673469387755106\n"
     ]
    },
    {
     "name": "stderr",
     "output_type": "stream",
     "text": [
      "删除过期节点: 0节点 [00:00, ?节点/s]\n"
     ]
    },
    {
     "name": "stdout",
     "output_type": "stream",
     "text": [
      "Modularity score: 0.33673469387755106\n"
     ]
    },
    {
     "name": "stderr",
     "output_type": "stream",
     "text": [
      "删除过期节点: 0节点 [00:00, ?节点/s]\n"
     ]
    },
    {
     "name": "stdout",
     "output_type": "stream",
     "text": [
      "Modularity score: 0.33673469387755106\n"
     ]
    },
    {
     "name": "stderr",
     "output_type": "stream",
     "text": [
      "删除过期节点: 0节点 [00:00, ?节点/s]\n"
     ]
    },
    {
     "name": "stdout",
     "output_type": "stream",
     "text": [
      "Modularity score: 0.2919550173010381\n"
     ]
    },
    {
     "name": "stderr",
     "output_type": "stream",
     "text": [
      "删除过期节点: 0节点 [00:00, ?节点/s]\n"
     ]
    },
    {
     "name": "stdout",
     "output_type": "stream",
     "text": [
      "Modularity score: 0.2919550173010381\n"
     ]
    },
    {
     "name": "stderr",
     "output_type": "stream",
     "text": [
      "删除过期节点: 0节点 [00:00, ?节点/s]\n"
     ]
    },
    {
     "name": "stdout",
     "output_type": "stream",
     "text": [
      "Modularity score: 0.20414201183431957\n",
      "已删除边：(1414494418569158912, 1.4234582977099407e+18)  (时间差超过 30 天)\n",
      "已删除边：(1418840135500697600, 1.4234582977099407e+18)  (时间差超过 30 天)\n",
      "已删除边：(1414494418569158912, 1.4234583792346276e+18)  (时间差超过 30 天)\n",
      "已删除边：(1418840135500697600, 1.4234583792346276e+18)  (时间差超过 30 天)\n",
      "已删除边：(1414494418569158912, 1.4234584834085396e+18)  (时间差超过 30 天)\n",
      "已删除边：(1418840135500697600, 1.4234584834085396e+18)  (时间差超过 30 天)\n"
     ]
    },
    {
     "name": "stderr",
     "output_type": "stream",
     "text": [
      "删除过期节点: 100%|██████████████████████████████████████████████████████████████████████████████████████████████████████████████████████████████████████████████| 5/5 [00:00<00:00, 46500.04节点/s]"
     ]
    },
    {
     "name": "stdout",
     "output_type": "stream",
     "text": [
      "已删除节点：1414494418569158912  (时间差超过 30 天)\n",
      "已删除节点：1.4234582977099407e+18  (时间差超过 30 天)\n",
      "已删除节点：1418840135500697600  (时间差超过 30 天)\n",
      "已删除节点：1.4234584834085396e+18  (时间差超过 30 天)\n",
      "已删除节点：1.4234583792346276e+18  (时间差超过 30 天)\n"
     ]
    },
    {
     "name": "stderr",
     "output_type": "stream",
     "text": [
      "\n"
     ]
    },
    {
     "name": "stdout",
     "output_type": "stream",
     "text": [
      "Modularity score: 0.03686200378071833\n"
     ]
    },
    {
     "name": "stderr",
     "output_type": "stream",
     "text": [
      "删除过期节点: 0节点 [00:00, ?节点/s]\n"
     ]
    },
    {
     "name": "stdout",
     "output_type": "stream",
     "text": [
      "Modularity score: 0.0855712890625\n"
     ]
    },
    {
     "name": "stderr",
     "output_type": "stream",
     "text": [
      "删除过期节点: 0节点 [00:00, ?节点/s]\n"
     ]
    },
    {
     "name": "stdout",
     "output_type": "stream",
     "text": [
      "Modularity score: 0.12308338584331027\n"
     ]
    },
    {
     "name": "stderr",
     "output_type": "stream",
     "text": [
      "删除过期节点: 0节点 [00:00, ?节点/s]\n"
     ]
    },
    {
     "name": "stdout",
     "output_type": "stream",
     "text": [
      "Modularity score: 0.16814610754004689\n"
     ]
    },
    {
     "name": "stderr",
     "output_type": "stream",
     "text": [
      "删除过期节点: 0节点 [00:00, ?节点/s]\n"
     ]
    },
    {
     "name": "stdout",
     "output_type": "stream",
     "text": [
      "Modularity score: 0.16814610754004689\n"
     ]
    },
    {
     "name": "stderr",
     "output_type": "stream",
     "text": [
      "删除过期节点: 0节点 [00:00, ?节点/s]\n"
     ]
    },
    {
     "name": "stdout",
     "output_type": "stream",
     "text": [
      "Modularity score: 0.16814610754004689\n"
     ]
    },
    {
     "name": "stderr",
     "output_type": "stream",
     "text": [
      "删除过期节点: 0节点 [00:00, ?节点/s]\n"
     ]
    },
    {
     "name": "stdout",
     "output_type": "stream",
     "text": [
      "Modularity score: 0.16814610754004689\n"
     ]
    },
    {
     "name": "stderr",
     "output_type": "stream",
     "text": [
      "删除过期节点: 0节点 [00:00, ?节点/s]\n"
     ]
    },
    {
     "name": "stdout",
     "output_type": "stream",
     "text": [
      "Modularity score: 0.16814610754004689\n"
     ]
    },
    {
     "name": "stderr",
     "output_type": "stream",
     "text": [
      "删除过期节点: 0节点 [00:00, ?节点/s]\n"
     ]
    },
    {
     "name": "stdout",
     "output_type": "stream",
     "text": [
      "Modularity score: 0.16814610754004689\n"
     ]
    },
    {
     "name": "stderr",
     "output_type": "stream",
     "text": [
      "删除过期节点: 0节点 [00:00, ?节点/s]\n"
     ]
    },
    {
     "name": "stdout",
     "output_type": "stream",
     "text": [
      "Modularity score: 0.17732988165680477\n"
     ]
    },
    {
     "name": "stderr",
     "output_type": "stream",
     "text": [
      "删除过期节点: 0节点 [00:00, ?节点/s]\n"
     ]
    },
    {
     "name": "stdout",
     "output_type": "stream",
     "text": [
      "Modularity score: 0.17732988165680477\n"
     ]
    },
    {
     "name": "stderr",
     "output_type": "stream",
     "text": [
      "删除过期节点: 0节点 [00:00, ?节点/s]\n"
     ]
    },
    {
     "name": "stdout",
     "output_type": "stream",
     "text": [
      "Modularity score: 0.17732988165680477\n"
     ]
    },
    {
     "name": "stderr",
     "output_type": "stream",
     "text": [
      "删除过期节点: 0节点 [00:00, ?节点/s]\n"
     ]
    },
    {
     "name": "stdout",
     "output_type": "stream",
     "text": [
      "Modularity score: 0.17732988165680477\n"
     ]
    },
    {
     "name": "stderr",
     "output_type": "stream",
     "text": [
      "删除过期节点: 0节点 [00:00, ?节点/s]\n"
     ]
    },
    {
     "name": "stdout",
     "output_type": "stream",
     "text": [
      "Modularity score: 0.17732988165680477\n"
     ]
    },
    {
     "name": "stderr",
     "output_type": "stream",
     "text": [
      "删除过期节点: 0节点 [00:00, ?节点/s]\n"
     ]
    },
    {
     "name": "stdout",
     "output_type": "stream",
     "text": [
      "Modularity score: 0.17732988165680477\n"
     ]
    },
    {
     "name": "stderr",
     "output_type": "stream",
     "text": [
      "删除过期节点: 0节点 [00:00, ?节点/s]\n"
     ]
    },
    {
     "name": "stdout",
     "output_type": "stream",
     "text": [
      "Modularity score: 0.17732988165680477\n"
     ]
    },
    {
     "name": "stderr",
     "output_type": "stream",
     "text": [
      "删除过期节点: 0节点 [00:00, ?节点/s]\n"
     ]
    },
    {
     "name": "stdout",
     "output_type": "stream",
     "text": [
      "Modularity score: 0.17732988165680477\n"
     ]
    },
    {
     "name": "stderr",
     "output_type": "stream",
     "text": [
      "删除过期节点: 0节点 [00:00, ?节点/s]\n"
     ]
    },
    {
     "name": "stdout",
     "output_type": "stream",
     "text": [
      "Modularity score: 0.17732988165680477\n"
     ]
    },
    {
     "name": "stderr",
     "output_type": "stream",
     "text": [
      "删除过期节点: 0节点 [00:00, ?节点/s]\n"
     ]
    },
    {
     "name": "stdout",
     "output_type": "stream",
     "text": [
      "Modularity score: 0.17732988165680477\n"
     ]
    },
    {
     "name": "stderr",
     "output_type": "stream",
     "text": [
      "删除过期节点: 0节点 [00:00, ?节点/s]\n"
     ]
    },
    {
     "name": "stdout",
     "output_type": "stream",
     "text": [
      "Modularity score: 0.17732988165680477\n"
     ]
    },
    {
     "name": "stderr",
     "output_type": "stream",
     "text": [
      "删除过期节点: 0节点 [00:00, ?节点/s]\n"
     ]
    },
    {
     "name": "stdout",
     "output_type": "stream",
     "text": [
      "Modularity score: 0.18734056122448983\n",
      "已删除边：(1424312683277426688, 1.4298618100233175e+18)  (时间差超过 30 天)\n",
      "已删除边：(1424816751091453952, 1.4298618100233175e+18)  (时间差超过 30 天)\n",
      "已删除边：(1427648315177508864, 1.4298618100233175e+18)  (时间差超过 30 天)\n"
     ]
    },
    {
     "name": "stderr",
     "output_type": "stream",
     "text": [
      "删除过期节点: 100%|██████████████████████████████████████████████████████████████████████████████████████████████████████████████████████████████████████████████| 4/4 [00:00<00:00, 33689.19节点/s]"
     ]
    },
    {
     "name": "stdout",
     "output_type": "stream",
     "text": [
      "已删除节点：1424312683277426688  (时间差超过 30 天)\n",
      "已删除节点：1.4298618100233175e+18  (时间差超过 30 天)\n",
      "已删除节点：1424816751091453952  (时间差超过 30 天)\n",
      "已删除节点：1427648315177508864  (时间差超过 30 天)\n"
     ]
    },
    {
     "name": "stderr",
     "output_type": "stream",
     "text": [
      "\n"
     ]
    },
    {
     "name": "stdout",
     "output_type": "stream",
     "text": [
      "Modularity score: 0.16495753885595257\n"
     ]
    },
    {
     "name": "stderr",
     "output_type": "stream",
     "text": [
      "删除过期节点: 0节点 [00:00, ?节点/s]\n"
     ]
    },
    {
     "name": "stdout",
     "output_type": "stream",
     "text": [
      "Modularity score: 0.22129725979882067\n"
     ]
    },
    {
     "name": "stderr",
     "output_type": "stream",
     "text": [
      "删除过期节点: 0节点 [00:00, ?节点/s]\n"
     ]
    },
    {
     "name": "stdout",
     "output_type": "stream",
     "text": [
      "Modularity score: 0.22129725979882067\n",
      "已删除边：(1431666473773113088, 1.432067489546969e+18)  (时间差超过 30 天)\n"
     ]
    },
    {
     "name": "stderr",
     "output_type": "stream",
     "text": [
      "删除过期节点: 100%|██████████████████████████████████████████████████████████████████████████████████████████████████████████████████████████████████████████████| 2/2 [00:00<00:00, 21454.24节点/s]"
     ]
    },
    {
     "name": "stdout",
     "output_type": "stream",
     "text": [
      "已删除节点：1431666473773113088  (时间差超过 30 天)\n",
      "已删除节点：1.432067489546969e+18  (时间差超过 30 天)\n"
     ]
    },
    {
     "name": "stderr",
     "output_type": "stream",
     "text": [
      "\n"
     ]
    },
    {
     "name": "stdout",
     "output_type": "stream",
     "text": [
      "Modularity score: 0.24047663726778007\n"
     ]
    },
    {
     "name": "stderr",
     "output_type": "stream",
     "text": [
      "删除过期节点: 0节点 [00:00, ?节点/s]\n"
     ]
    },
    {
     "name": "stdout",
     "output_type": "stream",
     "text": [
      "Modularity score: 0.24047663726778007\n",
      "已删除边：(1432484665085005824, 1.4329996788328243e+18)  (时间差超过 30 天)\n",
      "已删除边：(1432484665085005824, 1.4329996826371318e+18)  (时间差超过 30 天)\n",
      "已删除边：(1432484665085005824, 1.43299968652945e+18)  (时间差超过 30 天)\n"
     ]
    },
    {
     "name": "stderr",
     "output_type": "stream",
     "text": [
      "删除过期节点: 100%|██████████████████████████████████████████████████████████████████████████████████████████████████████████████████████████████████████████████| 4/4 [00:00<00:00, 35469.80节点/s]"
     ]
    },
    {
     "name": "stdout",
     "output_type": "stream",
     "text": [
      "已删除节点：1432484665085005824  (时间差超过 30 天)\n",
      "已删除节点：1.4329996788328243e+18  (时间差超过 30 天)\n",
      "已删除节点：1.4329996826371318e+18  (时间差超过 30 天)\n",
      "已删除节点：1.43299968652945e+18  (时间差超过 30 天)\n"
     ]
    },
    {
     "name": "stderr",
     "output_type": "stream",
     "text": [
      "\n"
     ]
    },
    {
     "name": "stdout",
     "output_type": "stream",
     "text": [
      "Modularity score: 0.2976156276931916\n"
     ]
    },
    {
     "name": "stderr",
     "output_type": "stream",
     "text": [
      "删除过期节点: 0节点 [00:00, ?节点/s]\n"
     ]
    },
    {
     "name": "stdout",
     "output_type": "stream",
     "text": [
      "Modularity score: 0.2976156276931916\n"
     ]
    },
    {
     "name": "stderr",
     "output_type": "stream",
     "text": [
      "删除过期节点: 0节点 [00:00, ?节点/s]\n"
     ]
    },
    {
     "name": "stdout",
     "output_type": "stream",
     "text": [
      "Modularity score: 0.2976156276931916\n",
      "已删除边：(1433867110376095488, 1.4235201045416796e+18)  (时间差超过 30 天)\n"
     ]
    },
    {
     "name": "stderr",
     "output_type": "stream",
     "text": [
      "删除过期节点: 100%|██████████████████████████████████████████████████████████████████████████████████████████████████████████████████████████████████████████████| 2/2 [00:00<00:00, 19645.45节点/s]"
     ]
    },
    {
     "name": "stdout",
     "output_type": "stream",
     "text": [
      "已删除节点：1433867110376095488  (时间差超过 30 天)\n",
      "已删除节点：1.4235201045416796e+18  (时间差超过 30 天)\n"
     ]
    },
    {
     "name": "stderr",
     "output_type": "stream",
     "text": [
      "\n"
     ]
    },
    {
     "name": "stdout",
     "output_type": "stream",
     "text": [
      "Modularity score: 0.3152531229454306\n"
     ]
    },
    {
     "name": "stderr",
     "output_type": "stream",
     "text": [
      "删除过期节点: 0节点 [00:00, ?节点/s]\n"
     ]
    },
    {
     "name": "stdout",
     "output_type": "stream",
     "text": [
      "Modularity score: 0.3152531229454306\n"
     ]
    },
    {
     "name": "stderr",
     "output_type": "stream",
     "text": [
      "删除过期节点: 0节点 [00:00, ?节点/s]\n"
     ]
    },
    {
     "name": "stdout",
     "output_type": "stream",
     "text": [
      "Modularity score: 0.3152531229454306\n"
     ]
    },
    {
     "name": "stderr",
     "output_type": "stream",
     "text": [
      "删除过期节点: 0节点 [00:00, ?节点/s]\n"
     ]
    },
    {
     "name": "stdout",
     "output_type": "stream",
     "text": [
      "Modularity score: 0.29369882520469914\n",
      "已删除边：(1435259201735970816, 1.435493075661439e+18)  (时间差超过 30 天)\n",
      "已删除边：(1435259201735970816, 1.435493078589055e+18)  (时间差超过 30 天)\n",
      "已删除边：(1435259201735970816, 1.4354930815754117e+18)  (时间差超过 30 天)\n"
     ]
    },
    {
     "name": "stderr",
     "output_type": "stream",
     "text": [
      "删除过期节点: 100%|██████████████████████████████████████████████████████████████████████████████████████████████████████████████████████████████████████████████| 4/4 [00:00<00:00, 36472.21节点/s]"
     ]
    },
    {
     "name": "stdout",
     "output_type": "stream",
     "text": [
      "已删除节点：1435259201735970816  (时间差超过 30 天)\n",
      "已删除节点：1.435493075661439e+18  (时间差超过 30 天)\n",
      "已删除节点：1.4354930815754117e+18  (时间差超过 30 天)\n",
      "已删除节点：1.435493078589055e+18  (时间差超过 30 天)\n"
     ]
    },
    {
     "name": "stderr",
     "output_type": "stream",
     "text": [
      "\n"
     ]
    },
    {
     "name": "stdout",
     "output_type": "stream",
     "text": [
      "Modularity score: 0.1460920379839299\n"
     ]
    },
    {
     "name": "stderr",
     "output_type": "stream",
     "text": [
      "删除过期节点: 0节点 [00:00, ?节点/s]\n"
     ]
    },
    {
     "name": "stdout",
     "output_type": "stream",
     "text": [
      "Modularity score: 0.1414277988101676\n"
     ]
    },
    {
     "name": "stderr",
     "output_type": "stream",
     "text": [
      "删除过期节点: 0节点 [00:00, ?节点/s]\n"
     ]
    },
    {
     "name": "stdout",
     "output_type": "stream",
     "text": [
      "Modularity score: 0.13223656809662634\n"
     ]
    },
    {
     "name": "stderr",
     "output_type": "stream",
     "text": [
      "删除过期节点: 0节点 [00:00, ?节点/s]\n"
     ]
    },
    {
     "name": "stdout",
     "output_type": "stream",
     "text": [
      "Modularity score: 0.13223656809662634\n"
     ]
    },
    {
     "name": "stderr",
     "output_type": "stream",
     "text": [
      "删除过期节点: 0节点 [00:00, ?节点/s]\n"
     ]
    },
    {
     "name": "stdout",
     "output_type": "stream",
     "text": [
      "Modularity score: 0.1282644628099173\n"
     ]
    },
    {
     "name": "stderr",
     "output_type": "stream",
     "text": [
      "删除过期节点: 0节点 [00:00, ?节点/s]\n"
     ]
    },
    {
     "name": "stdout",
     "output_type": "stream",
     "text": [
      "Modularity score: 0.12308519215264721\n"
     ]
    },
    {
     "name": "stderr",
     "output_type": "stream",
     "text": [
      "删除过期节点: 0节点 [00:00, ?节点/s]\n"
     ]
    },
    {
     "name": "stdout",
     "output_type": "stream",
     "text": [
      "Modularity score: 0.1395002974419988\n"
     ]
    },
    {
     "name": "stderr",
     "output_type": "stream",
     "text": [
      "删除过期节点: 0节点 [00:00, ?节点/s]\n"
     ]
    },
    {
     "name": "stdout",
     "output_type": "stream",
     "text": [
      "Modularity score: 0.1395002974419988\n",
      "已删除边：(1436472456743727104, 1.435521155637465e+18)  (时间差超过 30 天)\n"
     ]
    },
    {
     "name": "stderr",
     "output_type": "stream",
     "text": [
      "删除过期节点: 100%|██████████████████████████████████████████████████████████████████████████████████████████████████████████████████████████████████████████████| 2/2 [00:00<00:00, 23563.51节点/s]"
     ]
    },
    {
     "name": "stdout",
     "output_type": "stream",
     "text": [
      "已删除节点：1436472456743727104  (时间差超过 30 天)\n",
      "已删除节点：1.435521155637465e+18  (时间差超过 30 天)\n"
     ]
    },
    {
     "name": "stderr",
     "output_type": "stream",
     "text": [
      "\n"
     ]
    },
    {
     "name": "stdout",
     "output_type": "stream",
     "text": [
      "Modularity score: 0.139881328115137\n"
     ]
    },
    {
     "name": "stderr",
     "output_type": "stream",
     "text": [
      "删除过期节点: 0节点 [00:00, ?节点/s]\n"
     ]
    },
    {
     "name": "stdout",
     "output_type": "stream",
     "text": [
      "Modularity score: 0.1800367205705812\n"
     ]
    },
    {
     "name": "stderr",
     "output_type": "stream",
     "text": [
      "删除过期节点: 0节点 [00:00, ?节点/s]\n"
     ]
    },
    {
     "name": "stdout",
     "output_type": "stream",
     "text": [
      "Modularity score: 0.18727237252861595\n"
     ]
    },
    {
     "name": "stderr",
     "output_type": "stream",
     "text": [
      "删除过期节点: 0节点 [00:00, ?节点/s]\n"
     ]
    },
    {
     "name": "stdout",
     "output_type": "stream",
     "text": [
      "Modularity score: 0.19457965266510424\n"
     ]
    },
    {
     "name": "stderr",
     "output_type": "stream",
     "text": [
      "删除过期节点: 0节点 [00:00, ?节点/s]\n"
     ]
    },
    {
     "name": "stdout",
     "output_type": "stream",
     "text": [
      "Modularity score: 0.22128520829819529\n"
     ]
    },
    {
     "name": "stderr",
     "output_type": "stream",
     "text": [
      "删除过期节点: 0节点 [00:00, ?节点/s]\n"
     ]
    },
    {
     "name": "stdout",
     "output_type": "stream",
     "text": [
      "Modularity score: 0.22468749999999998\n"
     ]
    },
    {
     "name": "stderr",
     "output_type": "stream",
     "text": [
      "删除过期节点: 0节点 [00:00, ?节点/s]\n"
     ]
    },
    {
     "name": "stdout",
     "output_type": "stream",
     "text": [
      "Modularity score: 0.22468749999999998\n"
     ]
    },
    {
     "name": "stderr",
     "output_type": "stream",
     "text": [
      "删除过期节点: 0节点 [00:00, ?节点/s]\n"
     ]
    },
    {
     "name": "stdout",
     "output_type": "stream",
     "text": [
      "Modularity score: 0.22914127423822717\n"
     ]
    },
    {
     "name": "stderr",
     "output_type": "stream",
     "text": [
      "删除过期节点: 0节点 [00:00, ?节点/s]\n"
     ]
    },
    {
     "name": "stdout",
     "output_type": "stream",
     "text": [
      "Modularity score: 0.22464844091186992\n"
     ]
    },
    {
     "name": "stderr",
     "output_type": "stream",
     "text": [
      "删除过期节点: 0节点 [00:00, ?节点/s]\n"
     ]
    },
    {
     "name": "stdout",
     "output_type": "stream",
     "text": [
      "Modularity score: 0.21513034130610054\n"
     ]
    },
    {
     "name": "stderr",
     "output_type": "stream",
     "text": [
      "删除过期节点: 0节点 [00:00, ?节点/s]\n"
     ]
    },
    {
     "name": "stdout",
     "output_type": "stream",
     "text": [
      "Modularity score: 0.188831917961865\n",
      "已删除边：(1438617161212170240, 1.4421976281926246e+18)  (时间差超过 30 天)\n",
      "已删除边：(1438863008734740480, 1.4421976281926246e+18)  (时间差超过 30 天)\n",
      "已删除边：(1439586722883379200, 1.4421976281926246e+18)  (时间差超过 30 天)\n"
     ]
    },
    {
     "name": "stderr",
     "output_type": "stream",
     "text": [
      "删除过期节点: 100%|██████████████████████████████████████████████████████████████████████████████████████████████████████████████████████████████████████████████| 4/4 [00:00<00:00, 32201.95节点/s]\n"
     ]
    },
    {
     "name": "stdout",
     "output_type": "stream",
     "text": [
      "已删除节点：1438617161212170240  (时间差超过 30 天)\n",
      "已删除节点：1.4421976281926246e+18  (时间差超过 30 天)\n",
      "已删除节点：1439586722883379200  (时间差超过 30 天)\n",
      "已删除节点：1438863008734740480  (时间差超过 30 天)\n",
      "Modularity score: 0.03019042968750002\n"
     ]
    },
    {
     "name": "stderr",
     "output_type": "stream",
     "text": [
      "删除过期节点: 0节点 [00:00, ?节点/s]\n"
     ]
    },
    {
     "name": "stdout",
     "output_type": "stream",
     "text": [
      "Modularity score: 0.03516975308641975\n"
     ]
    },
    {
     "name": "stderr",
     "output_type": "stream",
     "text": [
      "删除过期节点: 0节点 [00:00, ?节点/s]\n"
     ]
    },
    {
     "name": "stdout",
     "output_type": "stream",
     "text": [
      "Modularity score: 0.1114836834456335\n"
     ]
    },
    {
     "name": "stderr",
     "output_type": "stream",
     "text": [
      "删除过期节点: 0节点 [00:00, ?节点/s]\n"
     ]
    },
    {
     "name": "stdout",
     "output_type": "stream",
     "text": [
      "Modularity score: 0.1343352719110295\n"
     ]
    },
    {
     "name": "stderr",
     "output_type": "stream",
     "text": [
      "删除过期节点: 0节点 [00:00, ?节点/s]\n"
     ]
    },
    {
     "name": "stdout",
     "output_type": "stream",
     "text": [
      "Modularity score: 0.1559075551444612\n"
     ]
    },
    {
     "name": "stderr",
     "output_type": "stream",
     "text": [
      "删除过期节点: 0节点 [00:00, ?节点/s]\n"
     ]
    },
    {
     "name": "stdout",
     "output_type": "stream",
     "text": [
      "Modularity score: 0.17814372909791276\n",
      "已删除边：(1443228874280775680, 1.4443356077784023e+18)  (时间差超过 30 天)\n",
      "已删除边：(1443716303357820928, 1.4443356077784023e+18)  (时间差超过 30 天)\n"
     ]
    },
    {
     "name": "stderr",
     "output_type": "stream",
     "text": [
      "删除过期节点: 100%|██████████████████████████████████████████████████████████████████████████████████████████████████████████████████████████████████████████████| 3/3 [00:00<00:00, 20068.44节点/s]"
     ]
    },
    {
     "name": "stdout",
     "output_type": "stream",
     "text": [
      "已删除节点：1443228874280775680  (时间差超过 30 天)\n",
      "已删除节点：1.4443356077784023e+18  (时间差超过 30 天)\n",
      "已删除节点：1443716303357820928  (时间差超过 30 天)\n"
     ]
    },
    {
     "name": "stderr",
     "output_type": "stream",
     "text": [
      "\n"
     ]
    },
    {
     "name": "stdout",
     "output_type": "stream",
     "text": [
      "Modularity score: 0.07017355642911793\n"
     ]
    },
    {
     "name": "stderr",
     "output_type": "stream",
     "text": [
      "删除过期节点: 0节点 [00:00, ?节点/s]\n"
     ]
    },
    {
     "name": "stdout",
     "output_type": "stream",
     "text": [
      "Modularity score: 0.08716148244203885\n"
     ]
    },
    {
     "name": "stderr",
     "output_type": "stream",
     "text": [
      "删除过期节点: 0节点 [00:00, ?节点/s]\n"
     ]
    },
    {
     "name": "stdout",
     "output_type": "stream",
     "text": [
      "Modularity score: 0.119999755489266\n"
     ]
    },
    {
     "name": "stderr",
     "output_type": "stream",
     "text": [
      "删除过期节点: 0节点 [00:00, ?节点/s]\n"
     ]
    },
    {
     "name": "stdout",
     "output_type": "stream",
     "text": [
      "Modularity score: 0.13223780032481536\n"
     ]
    },
    {
     "name": "stderr",
     "output_type": "stream",
     "text": [
      "删除过期节点: 0节点 [00:00, ?节点/s]\n"
     ]
    },
    {
     "name": "stdout",
     "output_type": "stream",
     "text": [
      "Modularity score: 0.14228609782107127\n"
     ]
    },
    {
     "name": "stderr",
     "output_type": "stream",
     "text": [
      "删除过期节点: 0节点 [00:00, ?节点/s]\n"
     ]
    },
    {
     "name": "stdout",
     "output_type": "stream",
     "text": [
      "Modularity score: 0.1497787373358235\n",
      "已删除边：(1444642253603938304, 1.446727148727767e+18)  (时间差超过 30 天)\n",
      "已删除边：(1444642253603938304, 1.4467271509465088e+18)  (时间差超过 30 天)\n"
     ]
    },
    {
     "name": "stderr",
     "output_type": "stream",
     "text": [
      "删除过期节点: 100%|██████████████████████████████████████████████████████████████████████████████████████████████████████████████████████████████████████████████| 3/3 [00:00<00:00, 13559.17节点/s]"
     ]
    },
    {
     "name": "stdout",
     "output_type": "stream",
     "text": [
      "已删除节点：1444642253603938304  (时间差超过 30 天)\n",
      "已删除节点：1.446727148727767e+18  (时间差超过 30 天)\n",
      "已删除节点：1.4467271509465088e+18  (时间差超过 30 天)\n"
     ]
    },
    {
     "name": "stderr",
     "output_type": "stream",
     "text": [
      "\n"
     ]
    },
    {
     "name": "stdout",
     "output_type": "stream",
     "text": [
      "Modularity score: 0.13741881269585612\n"
     ]
    },
    {
     "name": "stderr",
     "output_type": "stream",
     "text": [
      "删除过期节点: 0节点 [00:00, ?节点/s]\n"
     ]
    },
    {
     "name": "stdout",
     "output_type": "stream",
     "text": [
      "Modularity score: 0.13672798844462786\n"
     ]
    },
    {
     "name": "stderr",
     "output_type": "stream",
     "text": [
      "删除过期节点: 0节点 [00:00, ?节点/s]\n"
     ]
    },
    {
     "name": "stdout",
     "output_type": "stream",
     "text": [
      "Modularity score: 0.13515895047649662\n"
     ]
    },
    {
     "name": "stderr",
     "output_type": "stream",
     "text": [
      "删除过期节点: 0节点 [00:00, ?节点/s]\n"
     ]
    },
    {
     "name": "stdout",
     "output_type": "stream",
     "text": [
      "Modularity score: 0.13961658377490727\n"
     ]
    },
    {
     "name": "stderr",
     "output_type": "stream",
     "text": [
      "删除过期节点: 0节点 [00:00, ?节点/s]\n"
     ]
    },
    {
     "name": "stdout",
     "output_type": "stream",
     "text": [
      "Modularity score: 0.14347589792060497\n"
     ]
    },
    {
     "name": "stderr",
     "output_type": "stream",
     "text": [
      "删除过期节点: 0节点 [00:00, ?节点/s]\n"
     ]
    },
    {
     "name": "stdout",
     "output_type": "stream",
     "text": [
      "Modularity score: 0.14058425021350252\n"
     ]
    },
    {
     "name": "stderr",
     "output_type": "stream",
     "text": [
      "删除过期节点: 0节点 [00:00, ?节点/s]\n"
     ]
    },
    {
     "name": "stdout",
     "output_type": "stream",
     "text": [
      "Modularity score: 0.14960403931699914\n",
      "已删除边：(1449033065360080896, 1.4492155599842386e+18)  (时间差超过 30 天)\n",
      "已删除边：(1449033065360080896, 1.4489670905311478e+18)  (时间差超过 30 天)\n",
      "已删除边：(1449033065360080896, 1.4492954374001992e+18)  (时间差超过 30 天)\n"
     ]
    },
    {
     "name": "stderr",
     "output_type": "stream",
     "text": [
      "删除过期节点: 100%|██████████████████████████████████████████████████████████████████████████████████████████████████████████████████████████████████████████████| 4/4 [00:00<00:00, 18872.01节点/s]"
     ]
    },
    {
     "name": "stdout",
     "output_type": "stream",
     "text": [
      "已删除节点：1449033065360080896  (时间差超过 30 天)\n",
      "已删除节点：1.4492155599842386e+18  (时间差超过 30 天)\n",
      "已删除节点：1.4492954374001992e+18  (时间差超过 30 天)\n",
      "已删除节点：1.4489670905311478e+18  (时间差超过 30 天)\n"
     ]
    },
    {
     "name": "stderr",
     "output_type": "stream",
     "text": [
      "\n"
     ]
    },
    {
     "name": "stdout",
     "output_type": "stream",
     "text": [
      "Modularity score: 0.14013562930410914\n"
     ]
    },
    {
     "name": "stderr",
     "output_type": "stream",
     "text": [
      "删除过期节点: 0节点 [00:00, ?节点/s]\n"
     ]
    },
    {
     "name": "stdout",
     "output_type": "stream",
     "text": [
      "Modularity score: 0.14961504772711437\n"
     ]
    },
    {
     "name": "stderr",
     "output_type": "stream",
     "text": [
      "删除过期节点: 0节点 [00:00, ?节点/s]\n"
     ]
    },
    {
     "name": "stdout",
     "output_type": "stream",
     "text": [
      "Modularity score: 0.15422444800475335\n",
      "已删除边：(1450081075766522112, 1.450290764525699e+18)  (时间差超过 30 天)\n",
      "已删除边：(1450081075766522112, 1.450303619455017e+18)  (时间差超过 30 天)\n",
      "已删除边：(1450081075766522112, 1.450372769951019e+18)  (时间差超过 30 天)\n",
      "已删除边：(1450081075766522112, 1.450390861473223e+18)  (时间差超过 30 天)\n",
      "已删除边：(1450081075766522112, 1.450448391666733e+18)  (时间差超过 30 天)\n"
     ]
    },
    {
     "name": "stderr",
     "output_type": "stream",
     "text": [
      "删除过期节点: 100%|██████████████████████████████████████████████████████████████████████████████████████████████████████████████████████████████████████████████| 6/6 [00:00<00:00, 23607.71节点/s]"
     ]
    },
    {
     "name": "stdout",
     "output_type": "stream",
     "text": [
      "已删除节点：1450081075766522112  (时间差超过 30 天)\n",
      "已删除节点：1.450290764525699e+18  (时间差超过 30 天)\n",
      "已删除节点：1.450372769951019e+18  (时间差超过 30 天)\n",
      "已删除节点：1.450390861473223e+18  (时间差超过 30 天)\n",
      "已删除节点：1.450303619455017e+18  (时间差超过 30 天)\n",
      "已删除节点：1.450448391666733e+18  (时间差超过 30 天)\n"
     ]
    },
    {
     "name": "stderr",
     "output_type": "stream",
     "text": [
      "\n"
     ]
    },
    {
     "name": "stdout",
     "output_type": "stream",
     "text": [
      "Modularity score: 0.08989541883481279\n"
     ]
    },
    {
     "name": "stderr",
     "output_type": "stream",
     "text": [
      "删除过期节点: 0节点 [00:00, ?节点/s]\n"
     ]
    },
    {
     "name": "stdout",
     "output_type": "stream",
     "text": [
      "Modularity score: 0.09117550941945404\n"
     ]
    },
    {
     "name": "stderr",
     "output_type": "stream",
     "text": [
      "删除过期节点: 0节点 [00:00, ?节点/s]\n"
     ]
    },
    {
     "name": "stdout",
     "output_type": "stream",
     "text": [
      "Modularity score: 0.1065917996290656\n"
     ]
    },
    {
     "name": "stderr",
     "output_type": "stream",
     "text": [
      "删除过期节点: 0节点 [00:00, ?节点/s]\n"
     ]
    },
    {
     "name": "stdout",
     "output_type": "stream",
     "text": [
      "Modularity score: 0.12498157784353069\n",
      "已删除边：(1451694254984626176, 1.451916993410437e+18)  (时间差超过 30 天)\n"
     ]
    },
    {
     "name": "stderr",
     "output_type": "stream",
     "text": [
      "删除过期节点: 100%|███████████████████████████████████████████████████████████████████████████████████████████████████████████████████████████████████████████████| 2/2 [00:00<00:00, 7163.63节点/s]"
     ]
    },
    {
     "name": "stdout",
     "output_type": "stream",
     "text": [
      "已删除节点：1451694254984626176  (时间差超过 30 天)\n",
      "已删除节点：1.451916993410437e+18  (时间差超过 30 天)\n"
     ]
    },
    {
     "name": "stderr",
     "output_type": "stream",
     "text": [
      "\n"
     ]
    },
    {
     "name": "stdout",
     "output_type": "stream",
     "text": [
      "Modularity score: 0.14929668363385928\n"
     ]
    },
    {
     "name": "stderr",
     "output_type": "stream",
     "text": [
      "删除过期节点: 0节点 [00:00, ?节点/s]\n"
     ]
    },
    {
     "name": "stdout",
     "output_type": "stream",
     "text": [
      "Modularity score: 0.17249664788188918\n"
     ]
    },
    {
     "name": "stderr",
     "output_type": "stream",
     "text": [
      "删除过期节点: 0节点 [00:00, ?节点/s]\n"
     ]
    },
    {
     "name": "stdout",
     "output_type": "stream",
     "text": [
      "Modularity score: 0.17986815187543456\n"
     ]
    },
    {
     "name": "stderr",
     "output_type": "stream",
     "text": [
      "删除过期节点: 0节点 [00:00, ?节点/s]\n"
     ]
    },
    {
     "name": "stdout",
     "output_type": "stream",
     "text": [
      "Modularity score: 0.1830357142857143\n"
     ]
    },
    {
     "name": "stderr",
     "output_type": "stream",
     "text": [
      "删除过期节点: 0节点 [00:00, ?节点/s]\n"
     ]
    },
    {
     "name": "stdout",
     "output_type": "stream",
     "text": [
      "Modularity score: 0.18369536932308583\n"
     ]
    },
    {
     "name": "stderr",
     "output_type": "stream",
     "text": [
      "删除过期节点: 0节点 [00:00, ?节点/s]\n"
     ]
    },
    {
     "name": "stdout",
     "output_type": "stream",
     "text": [
      "Modularity score: 0.18593031856168973\n"
     ]
    },
    {
     "name": "stderr",
     "output_type": "stream",
     "text": [
      "删除过期节点: 0节点 [00:00, ?节点/s]\n"
     ]
    },
    {
     "name": "stdout",
     "output_type": "stream",
     "text": [
      "Modularity score: 0.1891550008433125\n"
     ]
    },
    {
     "name": "stderr",
     "output_type": "stream",
     "text": [
      "删除过期节点: 0节点 [00:00, ?节点/s]\n"
     ]
    },
    {
     "name": "stdout",
     "output_type": "stream",
     "text": [
      "Modularity score: 0.1949226043778605\n",
      "已删除边：(1454572547656216576, 1.454602251469656e+18)  (时间差超过 30 天)\n",
      "已删除边：(1454572547656216576, 1.454603881820803e+18)  (时间差超过 30 天)\n",
      "已删除边：(1454572547656216576, 1.4545715092052582e+18)  (时间差超过 30 天)\n",
      "已删除边：(1454572547656216576, 1.4546220322855035e+18)  (时间差超过 30 天)\n",
      "已删除边：(1454572547656216576, 1.4546220338835003e+18)  (时间差超过 30 天)\n",
      "已删除边：(1454572547656216576, 1.454622035598971e+18)  (时间差超过 30 天)\n",
      "已删除边：(1454572547656216576, 1.4545540685343007e+18)  (时间差超过 30 天)\n",
      "已删除边：(1454572547656216576, 1.4546458832748175e+18)  (时间差超过 30 天)\n",
      "已删除边：(1454572547656216576, 1.454687582546133e+18)  (时间差超过 30 天)\n",
      "已删除边：(1454572547656216576, 1.4546875863754547e+18)  (时间差超过 30 天)\n",
      "已删除边：(1454572547656216576, 1.4546875846599926e+18)  (时间差超过 30 天)\n",
      "已删除边：(1454572547656216576, 1.4547120460213207e+18)  (时间差超过 30 天)\n",
      "已删除边：(1454572547656216576, 1.454672204403077e+18)  (时间差超过 30 天)\n",
      "已删除边：(1454572547656216576, 1.4547681686190203e+18)  (时间差超过 30 天)\n",
      "已删除边：(1454572547656216576, 1.454833355602555e+18)  (时间差超过 30 天)\n"
     ]
    },
    {
     "name": "stderr",
     "output_type": "stream",
     "text": [
      "删除过期节点: 100%|████████████████████████████████████████████████████████████████████████████████████████████████████████████████████████████████████████████| 16/16 [00:00<00:00, 39827.22节点/s]"
     ]
    },
    {
     "name": "stdout",
     "output_type": "stream",
     "text": [
      "已删除节点：1454572547656216576  (时间差超过 30 天)\n",
      "已删除节点：1.454602251469656e+18  (时间差超过 30 天)\n",
      "已删除节点：1.454603881820803e+18  (时间差超过 30 天)\n",
      "已删除节点：1.4545715092052582e+18  (时间差超过 30 天)\n",
      "已删除节点：1.4546220322855035e+18  (时间差超过 30 天)\n",
      "已删除节点：1.4546220338835003e+18  (时间差超过 30 天)\n",
      "已删除节点：1.454622035598971e+18  (时间差超过 30 天)\n",
      "已删除节点：1.4545540685343007e+18  (时间差超过 30 天)\n",
      "已删除节点：1.4546458832748175e+18  (时间差超过 30 天)\n",
      "已删除节点：1.454687582546133e+18  (时间差超过 30 天)\n",
      "已删除节点：1.4546875863754547e+18  (时间差超过 30 天)\n",
      "已删除节点：1.4546875846599926e+18  (时间差超过 30 天)\n",
      "已删除节点：1.4547681686190203e+18  (时间差超过 30 天)\n",
      "已删除节点：1.4547120460213207e+18  (时间差超过 30 天)\n",
      "已删除节点：1.454672204403077e+18  (时间差超过 30 天)\n",
      "已删除节点：1.454833355602555e+18  (时间差超过 30 天)\n"
     ]
    },
    {
     "name": "stderr",
     "output_type": "stream",
     "text": [
      "\n"
     ]
    },
    {
     "name": "stdout",
     "output_type": "stream",
     "text": [
      "Modularity score: 0.19517653475680297\n"
     ]
    },
    {
     "name": "stderr",
     "output_type": "stream",
     "text": [
      "删除过期节点: 0节点 [00:00, ?节点/s]\n"
     ]
    },
    {
     "name": "stdout",
     "output_type": "stream",
     "text": [
      "Modularity score: 0.1963934426229508\n"
     ]
    },
    {
     "name": "stderr",
     "output_type": "stream",
     "text": [
      "删除过期节点: 0节点 [00:00, ?节点/s]\n"
     ]
    },
    {
     "name": "stdout",
     "output_type": "stream",
     "text": [
      "Modularity score: 0.19698937379081297\n"
     ]
    },
    {
     "name": "stderr",
     "output_type": "stream",
     "text": [
      "删除过期节点: 0节点 [00:00, ?节点/s]\n"
     ]
    },
    {
     "name": "stdout",
     "output_type": "stream",
     "text": [
      "Modularity score: 0.19811123783474835\n",
      "已删除边：(1456046958641090560, 1.456101220620198e+18)  (时间差超过 30 天)\n",
      "已删除边：(1456046958641090560, 1.456101225162625e+18)  (时间差超过 30 天)\n",
      "已删除边：(1456046958641090560, 1.4561022806969836e+18)  (时间差超过 30 天)\n",
      "已删除边：(1456046958641090560, 1.4561065340819415e+18)  (时间差超过 30 天)\n",
      "已删除边：(1456046958641090560, 1.4562481582588232e+18)  (时间差超过 30 天)\n"
     ]
    },
    {
     "name": "stderr",
     "output_type": "stream",
     "text": [
      "删除过期节点: 100%|██████████████████████████████████████████████████████████████████████████████████████████████████████████████████████████████████████████████| 6/6 [00:00<00:00, 19036.18节点/s]"
     ]
    },
    {
     "name": "stdout",
     "output_type": "stream",
     "text": [
      "已删除节点：1456046958641090560  (时间差超过 30 天)\n",
      "已删除节点：1.456101220620198e+18  (时间差超过 30 天)\n",
      "已删除节点：1.456101225162625e+18  (时间差超过 30 天)\n",
      "已删除节点：1.4561022806969836e+18  (时间差超过 30 天)\n",
      "已删除节点：1.4561065340819415e+18  (时间差超过 30 天)\n",
      "已删除节点：1.4562481582588232e+18  (时间差超过 30 天)\n"
     ]
    },
    {
     "name": "stderr",
     "output_type": "stream",
     "text": [
      "\n"
     ]
    },
    {
     "name": "stdout",
     "output_type": "stream",
     "text": [
      "Modularity score: 0.21705641929109395\n"
     ]
    },
    {
     "name": "stderr",
     "output_type": "stream",
     "text": [
      "删除过期节点: 0节点 [00:00, ?节点/s]\n"
     ]
    },
    {
     "name": "stdout",
     "output_type": "stream",
     "text": [
      "Modularity score: 0.21089955816909098\n"
     ]
    },
    {
     "name": "stderr",
     "output_type": "stream",
     "text": [
      "删除过期节点: 0节点 [00:00, ?节点/s]\n"
     ]
    },
    {
     "name": "stdout",
     "output_type": "stream",
     "text": [
      "Modularity score: 0.20936864177647066\n"
     ]
    },
    {
     "name": "stderr",
     "output_type": "stream",
     "text": [
      "删除过期节点: 0节点 [00:00, ?节点/s]\n"
     ]
    },
    {
     "name": "stdout",
     "output_type": "stream",
     "text": [
      "Modularity score: 0.21736009070294784\n",
      "已删除边：(1457493785059868672, 1.4575353535695135e+18)  (时间差超过 30 天)\n",
      "已删除边：(1457493785059868672, 1.457537223637672e+18)  (时间差超过 30 天)\n",
      "已删除边：(1457493785059868672, 1.4575372271189563e+18)  (时间差超过 30 天)\n",
      "已删除边：(1457493785059868672, 1.4575372289560617e+18)  (时间差超过 30 天)\n",
      "已删除边：(1457493785059868672, 1.4574622405760983e+18)  (时间差超过 30 天)\n",
      "已删除边：(1457493785059868672, 1.4576567003375985e+18)  (时间差超过 30 天)\n"
     ]
    },
    {
     "name": "stderr",
     "output_type": "stream",
     "text": [
      "删除过期节点: 100%|██████████████████████████████████████████████████████████████████████████████████████████████████████████████████████████████████████████████| 7/7 [00:00<00:00, 22742.16节点/s]"
     ]
    },
    {
     "name": "stdout",
     "output_type": "stream",
     "text": [
      "已删除节点：1457493785059868672  (时间差超过 30 天)\n",
      "已删除节点：1.4575353535695135e+18  (时间差超过 30 天)\n",
      "已删除节点：1.4575372289560617e+18  (时间差超过 30 天)\n",
      "已删除节点：1.4575372271189563e+18  (时间差超过 30 天)\n",
      "已删除节点：1.457537223637672e+18  (时间差超过 30 天)\n",
      "已删除节点：1.4574622405760983e+18  (时间差超过 30 天)\n",
      "已删除节点：1.4576567003375985e+18  (时间差超过 30 天)\n"
     ]
    },
    {
     "name": "stderr",
     "output_type": "stream",
     "text": [
      "\n"
     ]
    },
    {
     "name": "stdout",
     "output_type": "stream",
     "text": [
      "Modularity score: 0.20526841830668058\n"
     ]
    },
    {
     "name": "stderr",
     "output_type": "stream",
     "text": [
      "删除过期节点: 0节点 [00:00, ?节点/s]\n"
     ]
    },
    {
     "name": "stdout",
     "output_type": "stream",
     "text": [
      "Modularity score: 0.20348163389116547\n"
     ]
    },
    {
     "name": "stderr",
     "output_type": "stream",
     "text": [
      "删除过期节点: 0节点 [00:00, ?节点/s]\n"
     ]
    },
    {
     "name": "stdout",
     "output_type": "stream",
     "text": [
      "Modularity score: 0.20248183851014595\n"
     ]
    },
    {
     "name": "stderr",
     "output_type": "stream",
     "text": [
      "删除过期节点: 0节点 [00:00, ?节点/s]\n"
     ]
    },
    {
     "name": "stdout",
     "output_type": "stream",
     "text": [
      "Modularity score: 0.2034092752839373\n"
     ]
    },
    {
     "name": "stderr",
     "output_type": "stream",
     "text": [
      "删除过期节点: 0节点 [00:00, ?节点/s]\n"
     ]
    },
    {
     "name": "stdout",
     "output_type": "stream",
     "text": [
      "Modularity score: 0.2064662040192304\n",
      "已删除边：(1459298204231794688, 1.459392284122751e+18)  (时间差超过 30 天)\n",
      "已删除边：(1459298204231794688, 1.459392397356331e+18)  (时间差超过 30 天)\n",
      "已删除边：(1459298204231794688, 1.4594044580230144e+18)  (时间差超过 30 天)\n",
      "已删除边：(1459298204231794688, 1.4569798350001684e+18)  (时间差超过 30 天)\n",
      "已删除边：(1459298204231794688, 1.4593999630545265e+18)  (时间差超过 30 天)\n",
      "已删除边：(1459298204231794688, 1.4594961356770222e+18)  (时间差超过 30 天)\n",
      "已删除边：(1459298204231794688, 1.4594961405507748e+18)  (时间差超过 30 天)\n",
      "已删除边：(1459298204231794688, 1.4596573287231242e+18)  (时间差超过 30 天)\n"
     ]
    },
    {
     "name": "stderr",
     "output_type": "stream",
     "text": [
      "删除过期节点: 100%|██████████████████████████████████████████████████████████████████████████████████████████████████████████████████████████████████████████████| 9/9 [00:00<00:00, 28233.91节点/s]"
     ]
    },
    {
     "name": "stdout",
     "output_type": "stream",
     "text": [
      "已删除节点：1459298204231794688  (时间差超过 30 天)\n",
      "已删除节点：1.459392284122751e+18  (时间差超过 30 天)\n",
      "已删除节点：1.459392397356331e+18  (时间差超过 30 天)\n",
      "已删除节点：1.4594044580230144e+18  (时间差超过 30 天)\n",
      "已删除节点：1.4569798350001684e+18  (时间差超过 30 天)\n",
      "已删除节点：1.4593999630545265e+18  (时间差超过 30 天)\n",
      "已删除节点：1.4594961356770222e+18  (时间差超过 30 天)\n",
      "已删除节点：1.4594961405507748e+18  (时间差超过 30 天)\n",
      "已删除节点：1.4596573287231242e+18  (时间差超过 30 天)\n"
     ]
    },
    {
     "name": "stderr",
     "output_type": "stream",
     "text": [
      "\n"
     ]
    },
    {
     "name": "stdout",
     "output_type": "stream",
     "text": [
      "Modularity score: 0.15748149167918063\n"
     ]
    },
    {
     "name": "stderr",
     "output_type": "stream",
     "text": [
      "删除过期节点: 0节点 [00:00, ?节点/s]\n"
     ]
    },
    {
     "name": "stdout",
     "output_type": "stream",
     "text": [
      "Modularity score: 0.16176938962860055\n"
     ]
    },
    {
     "name": "stderr",
     "output_type": "stream",
     "text": [
      "删除过期节点: 0节点 [00:00, ?节点/s]\n"
     ]
    },
    {
     "name": "stdout",
     "output_type": "stream",
     "text": [
      "Modularity score: 0.1614426755141527\n"
     ]
    },
    {
     "name": "stderr",
     "output_type": "stream",
     "text": [
      "删除过期节点: 0节点 [00:00, ?节点/s]\n"
     ]
    },
    {
     "name": "stdout",
     "output_type": "stream",
     "text": [
      "Modularity score: 0.15626248915801888\n"
     ]
    },
    {
     "name": "stderr",
     "output_type": "stream",
     "text": [
      "删除过期节点: 0节点 [00:00, ?节点/s]\n"
     ]
    },
    {
     "name": "stdout",
     "output_type": "stream",
     "text": [
      "Modularity score: 0.15578289981817547\n"
     ]
    },
    {
     "name": "stderr",
     "output_type": "stream",
     "text": [
      "删除过期节点: 0节点 [00:00, ?节点/s]\n"
     ]
    },
    {
     "name": "stdout",
     "output_type": "stream",
     "text": [
      "Modularity score: 0.16271045119724756\n"
     ]
    },
    {
     "name": "stderr",
     "output_type": "stream",
     "text": [
      "删除过期节点: 0节点 [00:00, ?节点/s]\n"
     ]
    },
    {
     "name": "stdout",
     "output_type": "stream",
     "text": [
      "Modularity score: 0.16741004111045854\n"
     ]
    },
    {
     "name": "stderr",
     "output_type": "stream",
     "text": [
      "删除过期节点: 0节点 [00:00, ?节点/s]\n"
     ]
    },
    {
     "name": "stdout",
     "output_type": "stream",
     "text": [
      "Modularity score: 0.17351531982421875\n",
      "已删除边：(1462147800146202624, 1.462259431589114e+18)  (时间差超过 30 天)\n",
      "已删除边：(1462147800146202624, 1.4622611006243144e+18)  (时间差超过 30 天)\n",
      "已删除边：(1462147800146202624, 1.4624696677090222e+18)  (时间差超过 30 天)\n",
      "已删除边：(1462147800146202624, 1.4624696833706107e+18)  (时间差超过 30 天)\n",
      "已删除边：(1462147800146202624, 1.462469688500228e+18)  (时间差超过 30 天)\n"
     ]
    },
    {
     "name": "stderr",
     "output_type": "stream",
     "text": [
      "删除过期节点: 100%|██████████████████████████████████████████████████████████████████████████████████████████████████████████████████████████████████████████████| 6/6 [00:00<00:00, 22570.25节点/s]"
     ]
    },
    {
     "name": "stdout",
     "output_type": "stream",
     "text": [
      "已删除节点：1462147800146202624  (时间差超过 30 天)\n",
      "已删除节点：1.462259431589114e+18  (时间差超过 30 天)\n",
      "已删除节点：1.4624696677090222e+18  (时间差超过 30 天)\n",
      "已删除节点：1.4624696833706107e+18  (时间差超过 30 天)\n",
      "已删除节点：1.4622611006243144e+18  (时间差超过 30 天)\n",
      "已删除节点：1.462469688500228e+18  (时间差超过 30 天)\n"
     ]
    },
    {
     "name": "stderr",
     "output_type": "stream",
     "text": [
      "\n"
     ]
    },
    {
     "name": "stdout",
     "output_type": "stream",
     "text": [
      "Modularity score: 0.17985469322504608\n",
      "已删除边：(1462513061638524928, 1.4625971436680192e+18)  (时间差超过 30 天)\n",
      "已删除边：(1462513061638524928, 1.4626218708810752e+18)  (时间差超过 30 天)\n",
      "已删除边：(1462513061638524928, 1.4626301508649247e+18)  (时间差超过 30 天)\n",
      "已删除边：(1462513061638524928, 1.4625417419285545e+18)  (时间差超过 30 天)\n",
      "已删除边：(1462513061638524928, 1.4626389319130317e+18)  (时间差超过 30 天)\n",
      "已删除边：(1462513061638524928, 1.46262272990387e+18)  (时间差超过 30 天)\n",
      "已删除边：(1462513061638524928, 1.462663210452992e+18)  (时间差超过 30 天)\n",
      "已删除边：(1462513061638524928, 1.462676912061358e+18)  (时间差超过 30 天)\n",
      "已删除边：(1462513061638524928, 1.4627157745611858e+18)  (时间差超过 30 天)\n",
      "已删除边：(1462513061638524928, 1.4627664657030513e+18)  (时间差超过 30 天)\n",
      "已删除边：(1462513061638524928, 1.4628136223093842e+18)  (时间差超过 30 天)\n",
      "已删除边：(1462513061638524928, 1.4628373875627377e+18)  (时间差超过 30 天)\n",
      "已删除边：(1462513061638524928, 1.4563346712146125e+18)  (时间差超过 30 天)\n"
     ]
    },
    {
     "name": "stderr",
     "output_type": "stream",
     "text": [
      "删除过期节点: 100%|████████████████████████████████████████████████████████████████████████████████████████████████████████████████████████████████████████████| 14/14 [00:00<00:00, 41764.05节点/s]"
     ]
    },
    {
     "name": "stdout",
     "output_type": "stream",
     "text": [
      "已删除节点：1462513061638524928  (时间差超过 30 天)\n",
      "已删除节点：1.4625971436680192e+18  (时间差超过 30 天)\n",
      "已删除节点：1.4626218708810752e+18  (时间差超过 30 天)\n",
      "已删除节点：1.4626301508649247e+18  (时间差超过 30 天)\n",
      "已删除节点：1.4625417419285545e+18  (时间差超过 30 天)\n",
      "已删除节点：1.4626389319130317e+18  (时间差超过 30 天)\n",
      "已删除节点：1.46262272990387e+18  (时间差超过 30 天)\n",
      "已删除节点：1.462663210452992e+18  (时间差超过 30 天)\n",
      "已删除节点：1.462676912061358e+18  (时间差超过 30 天)\n",
      "已删除节点：1.4627157745611858e+18  (时间差超过 30 天)\n",
      "已删除节点：1.4627664657030513e+18  (时间差超过 30 天)\n",
      "已删除节点：1.4628136223093842e+18  (时间差超过 30 天)\n",
      "已删除节点：1.4563346712146125e+18  (时间差超过 30 天)\n",
      "已删除节点：1.4628373875627377e+18  (时间差超过 30 天)\n"
     ]
    },
    {
     "name": "stderr",
     "output_type": "stream",
     "text": [
      "\n"
     ]
    },
    {
     "name": "stdout",
     "output_type": "stream",
     "text": [
      "Modularity score: 0.1878854851973684\n"
     ]
    },
    {
     "name": "stderr",
     "output_type": "stream",
     "text": [
      "删除过期节点: 0节点 [00:00, ?节点/s]\n"
     ]
    },
    {
     "name": "stdout",
     "output_type": "stream",
     "text": [
      "Modularity score: 0.18790315690546372\n",
      "已删除边：(1463287376935985152, 1.4633234427661722e+18)  (时间差超过 30 天)\n",
      "已删除边：(1463287376935985152, 1.4633376884890993e+18)  (时间差超过 30 天)\n",
      "已删除边：(1463287376935985152, 1.4612136451201966e+18)  (时间差超过 30 天)\n",
      "已删除边：(1463287376935985152, 1.4633963716843725e+18)  (时间差超过 30 天)\n",
      "已删除边：(1463287376935985152, 1.4633967830825902e+18)  (时间差超过 30 天)\n",
      "已删除边：(1463287376935985152, 1.4634002140693422e+18)  (时间差超过 30 天)\n",
      "已删除边：(1463287376935985152, 1.4634012606278124e+18)  (时间差超过 30 天)\n",
      "已删除边：(1463287376935985152, 1.463145317340119e+18)  (时间差超过 30 天)\n",
      "已删除边：(1463287376935985152, 1.46343712679245e+18)  (时间差超过 30 天)\n",
      "已删除边：(1463287376935985152, 1.463461416405328e+18)  (时间差超过 30 天)\n",
      "已删除边：(1463287376935985152, 1.463561409279705e+18)  (时间差超过 30 天)\n"
     ]
    },
    {
     "name": "stderr",
     "output_type": "stream",
     "text": [
      "删除过期节点: 100%|████████████████████████████████████████████████████████████████████████████████████████████████████████████████████████████████████████████| 12/12 [00:00<00:00, 39693.73节点/s]"
     ]
    },
    {
     "name": "stdout",
     "output_type": "stream",
     "text": [
      "已删除节点：1463287376935985152  (时间差超过 30 天)\n",
      "已删除节点：1.4633234427661722e+18  (时间差超过 30 天)\n",
      "已删除节点：1.4612136451201966e+18  (时间差超过 30 天)\n",
      "已删除节点：1.4633376884890993e+18  (时间差超过 30 天)\n",
      "已删除节点：1.4633963716843725e+18  (时间差超过 30 天)\n",
      "已删除节点：1.4633967830825902e+18  (时间差超过 30 天)\n",
      "已删除节点：1.4634002140693422e+18  (时间差超过 30 天)\n",
      "已删除节点：1.4634012606278124e+18  (时间差超过 30 天)\n",
      "已删除节点：1.463145317340119e+18  (时间差超过 30 天)\n",
      "已删除节点：1.46343712679245e+18  (时间差超过 30 天)\n",
      "已删除节点：1.463461416405328e+18  (时间差超过 30 天)\n",
      "已删除节点：1.463561409279705e+18  (时间差超过 30 天)\n"
     ]
    },
    {
     "name": "stderr",
     "output_type": "stream",
     "text": [
      "\n"
     ]
    },
    {
     "name": "stdout",
     "output_type": "stream",
     "text": [
      "Modularity score: 0.15440876105344098\n"
     ]
    },
    {
     "name": "stderr",
     "output_type": "stream",
     "text": [
      "删除过期节点: 0节点 [00:00, ?节点/s]\n"
     ]
    },
    {
     "name": "stdout",
     "output_type": "stream",
     "text": [
      "Modularity score: 0.1341571603745541\n"
     ]
    },
    {
     "name": "stderr",
     "output_type": "stream",
     "text": [
      "删除过期节点: 0节点 [00:00, ?节点/s]\n"
     ]
    },
    {
     "name": "stdout",
     "output_type": "stream",
     "text": [
      "Modularity score: 0.12449800000000001\n"
     ]
    },
    {
     "name": "stderr",
     "output_type": "stream",
     "text": [
      "删除过期节点: 0节点 [00:00, ?节点/s]\n"
     ]
    },
    {
     "name": "stdout",
     "output_type": "stream",
     "text": [
      "Modularity score: 0.115272633744856\n"
     ]
    },
    {
     "name": "stderr",
     "output_type": "stream",
     "text": [
      "删除过期节点: 0节点 [00:00, ?节点/s]\n"
     ]
    },
    {
     "name": "stdout",
     "output_type": "stream",
     "text": [
      "Modularity score: 0.11331180849111477\n"
     ]
    },
    {
     "name": "stderr",
     "output_type": "stream",
     "text": [
      "删除过期节点: 0节点 [00:00, ?节点/s]\n"
     ]
    },
    {
     "name": "stdout",
     "output_type": "stream",
     "text": [
      "Modularity score: 0.11331180849111477\n",
      "已删除边：(1465469320067178496, 1.465274110984876e+18)  (时间差超过 30 天)\n",
      "已删除边：(1465469320067178496, 1.4655170067744072e+18)  (时间差超过 30 天)\n",
      "已删除边：(1465469320067178496, 1.4655884248243937e+18)  (时间差超过 30 天)\n",
      "已删除边：(1465469320067178496, 1.4656712152683848e+18)  (时间差超过 30 天)\n"
     ]
    },
    {
     "name": "stderr",
     "output_type": "stream",
     "text": [
      "删除过期节点: 100%|██████████████████████████████████████████████████████████████████████████████████████████████████████████████████████████████████████████████| 5/5 [00:00<00:00, 20722.85节点/s]"
     ]
    },
    {
     "name": "stdout",
     "output_type": "stream",
     "text": [
      "已删除节点：1465469320067178496  (时间差超过 30 天)\n",
      "已删除节点：1.465274110984876e+18  (时间差超过 30 天)\n",
      "已删除节点：1.4655170067744072e+18  (时间差超过 30 天)\n",
      "已删除节点：1.4655884248243937e+18  (时间差超过 30 天)\n",
      "已删除节点：1.4656712152683848e+18  (时间差超过 30 天)\n"
     ]
    },
    {
     "name": "stderr",
     "output_type": "stream",
     "text": [
      "\n"
     ]
    },
    {
     "name": "stdout",
     "output_type": "stream",
     "text": [
      "Modularity score: 0.09639152666179697\n"
     ]
    },
    {
     "name": "stderr",
     "output_type": "stream",
     "text": [
      "删除过期节点: 0节点 [00:00, ?节点/s]\n"
     ]
    },
    {
     "name": "stdout",
     "output_type": "stream",
     "text": [
      "Modularity score: 0.10066930351207194\n"
     ]
    },
    {
     "name": "stderr",
     "output_type": "stream",
     "text": [
      "删除过期节点: 0节点 [00:00, ?节点/s]\n"
     ]
    },
    {
     "name": "stdout",
     "output_type": "stream",
     "text": [
      "Modularity score: 0.10676346985013242\n"
     ]
    },
    {
     "name": "stderr",
     "output_type": "stream",
     "text": [
      "删除过期节点: 0节点 [00:00, ?节点/s]\n"
     ]
    },
    {
     "name": "stdout",
     "output_type": "stream",
     "text": [
      "Modularity score: 0.12161908530151781\n"
     ]
    },
    {
     "name": "stderr",
     "output_type": "stream",
     "text": [
      "删除过期节点: 0节点 [00:00, ?节点/s]\n"
     ]
    },
    {
     "name": "stdout",
     "output_type": "stream",
     "text": [
      "Modularity score: 0.1431471932619887\n"
     ]
    },
    {
     "name": "stderr",
     "output_type": "stream",
     "text": [
      "删除过期节点: 0节点 [00:00, ?节点/s]\n"
     ]
    },
    {
     "name": "stdout",
     "output_type": "stream",
     "text": [
      "Modularity score: 0.17126747900005018\n"
     ]
    },
    {
     "name": "stderr",
     "output_type": "stream",
     "text": [
      "删除过期节点: 0节点 [00:00, ?节点/s]\n"
     ]
    },
    {
     "name": "stdout",
     "output_type": "stream",
     "text": [
      "Modularity score: 0.19485262292243766\n"
     ]
    },
    {
     "name": "stderr",
     "output_type": "stream",
     "text": [
      "删除过期节点: 0节点 [00:00, ?节点/s]\n"
     ]
    },
    {
     "name": "stdout",
     "output_type": "stream",
     "text": [
      "Modularity score: 0.2068310546875\n",
      "已删除边：(1468299652911013888, 1.4684136779591885e+18)  (时间差超过 30 天)\n",
      "已删除边：(1468299652911013888, 1.4684859737179423e+18)  (时间差超过 30 天)\n"
     ]
    },
    {
     "name": "stderr",
     "output_type": "stream",
     "text": [
      "删除过期节点: 100%|██████████████████████████████████████████████████████████████████████████████████████████████████████████████████████████████████████████████| 3/3 [00:00<00:00, 13273.11节点/s]"
     ]
    },
    {
     "name": "stdout",
     "output_type": "stream",
     "text": [
      "已删除节点：1468299652911013888  (时间差超过 30 天)\n",
      "已删除节点：1.4684136779591885e+18  (时间差超过 30 天)\n",
      "已删除节点：1.4684859737179423e+18  (时间差超过 30 天)\n"
     ]
    },
    {
     "name": "stderr",
     "output_type": "stream",
     "text": [
      "\n"
     ]
    },
    {
     "name": "stdout",
     "output_type": "stream",
     "text": [
      "Modularity score: 0.21847723283816656\n"
     ]
    },
    {
     "name": "stderr",
     "output_type": "stream",
     "text": [
      "删除过期节点: 0节点 [00:00, ?节点/s]\n"
     ]
    },
    {
     "name": "stdout",
     "output_type": "stream",
     "text": [
      "Modularity score: 0.21786779984064744\n"
     ]
    },
    {
     "name": "stderr",
     "output_type": "stream",
     "text": [
      "删除过期节点: 0节点 [00:00, ?节点/s]\n"
     ]
    },
    {
     "name": "stdout",
     "output_type": "stream",
     "text": [
      "Modularity score: 0.21102773164854102\n"
     ]
    },
    {
     "name": "stderr",
     "output_type": "stream",
     "text": [
      "删除过期节点: 0节点 [00:00, ?节点/s]\n"
     ]
    },
    {
     "name": "stdout",
     "output_type": "stream",
     "text": [
      "Modularity score: 0.22503368326171946\n"
     ]
    },
    {
     "name": "stderr",
     "output_type": "stream",
     "text": [
      "删除过期节点: 0节点 [00:00, ?节点/s]\n"
     ]
    },
    {
     "name": "stdout",
     "output_type": "stream",
     "text": [
      "Modularity score: 0.22726828520725564\n",
      "已删除边：(1470074158931316736, 1.4703143904866468e+18)  (时间差超过 30 天)\n",
      "已删除边：(1470074158931316736, 1.470305547500933e+18)  (时间差超过 30 天)\n"
     ]
    },
    {
     "name": "stderr",
     "output_type": "stream",
     "text": [
      "删除过期节点: 100%|██████████████████████████████████████████████████████████████████████████████████████████████████████████████████████████████████████████████| 3/3 [00:00<00:00, 13039.29节点/s]"
     ]
    },
    {
     "name": "stdout",
     "output_type": "stream",
     "text": [
      "已删除节点：1470074158931316736  (时间差超过 30 天)\n",
      "已删除节点：1.4703143904866468e+18  (时间差超过 30 天)\n",
      "已删除节点：1.470305547500933e+18  (时间差超过 30 天)\n"
     ]
    },
    {
     "name": "stderr",
     "output_type": "stream",
     "text": [
      "\n"
     ]
    },
    {
     "name": "stdout",
     "output_type": "stream",
     "text": [
      "Modularity score: 0.1974951934113866\n"
     ]
    },
    {
     "name": "stderr",
     "output_type": "stream",
     "text": [
      "删除过期节点: 0节点 [00:00, ?节点/s]\n"
     ]
    },
    {
     "name": "stdout",
     "output_type": "stream",
     "text": [
      "Modularity score: 0.19243838641489824\n"
     ]
    },
    {
     "name": "stderr",
     "output_type": "stream",
     "text": [
      "删除过期节点: 0节点 [00:00, ?节点/s]\n"
     ]
    },
    {
     "name": "stdout",
     "output_type": "stream",
     "text": [
      "Modularity score: 0.2223775990302433\n"
     ]
    },
    {
     "name": "stderr",
     "output_type": "stream",
     "text": [
      "删除过期节点: 0节点 [00:00, ?节点/s]\n"
     ]
    },
    {
     "name": "stdout",
     "output_type": "stream",
     "text": [
      "Modularity score: 0.21447069943289226\n"
     ]
    },
    {
     "name": "stderr",
     "output_type": "stream",
     "text": [
      "删除过期节点: 0节点 [00:00, ?节点/s]\n"
     ]
    },
    {
     "name": "stdout",
     "output_type": "stream",
     "text": [
      "Modularity score: 0.21018540305894762\n"
     ]
    },
    {
     "name": "stderr",
     "output_type": "stream",
     "text": [
      "删除过期节点: 0节点 [00:00, ?节点/s]\n"
     ]
    },
    {
     "name": "stdout",
     "output_type": "stream",
     "text": [
      "Modularity score: 0.2112502681408851\n"
     ]
    },
    {
     "name": "stderr",
     "output_type": "stream",
     "text": [
      "删除过期节点: 0节点 [00:00, ?节点/s]\n"
     ]
    },
    {
     "name": "stdout",
     "output_type": "stream",
     "text": [
      "Modularity score: 0.2122770201967085\n",
      "已删除边：(1472565805871427584, 1.4727411366118031e+18)  (时间差超过 30 天)\n",
      "已删除边：(1472565805871427584, 1.472745665696768e+18)  (时间差超过 30 天)\n",
      "已删除边：(1472565805871427584, 1.4727470887105495e+18)  (时间差超过 30 天)\n",
      "已删除边：(1472565805871427584, 1.4727613744767672e+18)  (时间差超过 30 天)\n",
      "已删除边：(1472565805871427584, 1.4727613773582254e+18)  (时间差超过 30 天)\n",
      "已删除边：(1472565805871427584, 1.4727450652610191e+18)  (时间差超过 30 天)\n",
      "已删除边：(1472565805871427584, 1.472801085652091e+18)  (时间差超过 30 天)\n",
      "已删除边：(1472565805871427584, 1.4728011630789632e+18)  (时间差超过 30 天)\n",
      "已删除边：(1472565805871427584, 1.472841055532089e+18)  (时间差超过 30 天)\n"
     ]
    },
    {
     "name": "stderr",
     "output_type": "stream",
     "text": [
      "删除过期节点: 100%|████████████████████████████████████████████████████████████████████████████████████████████████████████████████████████████████████████████| 10/10 [00:00<00:00, 32870.72节点/s]"
     ]
    },
    {
     "name": "stdout",
     "output_type": "stream",
     "text": [
      "已删除节点：1472565805871427584  (时间差超过 30 天)\n",
      "已删除节点：1.4727411366118031e+18  (时间差超过 30 天)\n",
      "已删除节点：1.4727613744767672e+18  (时间差超过 30 天)\n",
      "已删除节点：1.472745665696768e+18  (时间差超过 30 天)\n",
      "已删除节点：1.4727470887105495e+18  (时间差超过 30 天)\n",
      "已删除节点：1.4727613773582254e+18  (时间差超过 30 天)\n",
      "已删除节点：1.4727450652610191e+18  (时间差超过 30 天)\n",
      "已删除节点：1.472801085652091e+18  (时间差超过 30 天)\n",
      "已删除节点：1.4728011630789632e+18  (时间差超过 30 天)\n",
      "已删除节点：1.472841055532089e+18  (时间差超过 30 天)\n"
     ]
    },
    {
     "name": "stderr",
     "output_type": "stream",
     "text": [
      "\n"
     ]
    },
    {
     "name": "stdout",
     "output_type": "stream",
     "text": [
      "Modularity score: 0.16433987492629284\n"
     ]
    },
    {
     "name": "stderr",
     "output_type": "stream",
     "text": [
      "删除过期节点: 0节点 [00:00, ?节点/s]\n"
     ]
    },
    {
     "name": "stdout",
     "output_type": "stream",
     "text": [
      "Modularity score: 0.16585743843563633\n"
     ]
    },
    {
     "name": "stderr",
     "output_type": "stream",
     "text": [
      "删除过期节点: 0节点 [00:00, ?节点/s]\n"
     ]
    },
    {
     "name": "stdout",
     "output_type": "stream",
     "text": [
      "Modularity score: 0.17327959145714208\n"
     ]
    },
    {
     "name": "stderr",
     "output_type": "stream",
     "text": [
      "删除过期节点: 0节点 [00:00, ?节点/s]\n"
     ]
    },
    {
     "name": "stdout",
     "output_type": "stream",
     "text": [
      "Modularity score: 0.18178407629401347\n"
     ]
    },
    {
     "name": "stderr",
     "output_type": "stream",
     "text": [
      "删除过期节点: 0节点 [00:00, ?节点/s]\n"
     ]
    },
    {
     "name": "stdout",
     "output_type": "stream",
     "text": [
      "Modularity score: 0.1861186298396839\n"
     ]
    },
    {
     "name": "stderr",
     "output_type": "stream",
     "text": [
      "删除过期节点: 0节点 [00:00, ?节点/s]\n"
     ]
    },
    {
     "name": "stdout",
     "output_type": "stream",
     "text": [
      "Modularity score: 0.1877912259850953\n"
     ]
    },
    {
     "name": "stderr",
     "output_type": "stream",
     "text": [
      "删除过期节点: 0节点 [00:00, ?节点/s]\n"
     ]
    },
    {
     "name": "stdout",
     "output_type": "stream",
     "text": [
      "Modularity score: 0.1779450962981638\n"
     ]
    },
    {
     "name": "stderr",
     "output_type": "stream",
     "text": [
      "删除过期节点: 0节点 [00:00, ?节点/s]\n"
     ]
    },
    {
     "name": "stdout",
     "output_type": "stream",
     "text": [
      "Modularity score: 0.1739941005411059\n"
     ]
    },
    {
     "name": "stderr",
     "output_type": "stream",
     "text": [
      "删除过期节点: 0节点 [00:00, ?节点/s]\n"
     ]
    },
    {
     "name": "stdout",
     "output_type": "stream",
     "text": [
      "Modularity score: 0.17848150867664853\n"
     ]
    },
    {
     "name": "stderr",
     "output_type": "stream",
     "text": [
      "删除过期节点: 0节点 [00:00, ?节点/s]\n"
     ]
    },
    {
     "name": "stdout",
     "output_type": "stream",
     "text": [
      "Modularity score: 0.17873251173194155\n"
     ]
    },
    {
     "name": "stderr",
     "output_type": "stream",
     "text": [
      "删除过期节点: 0节点 [00:00, ?节点/s]\n"
     ]
    },
    {
     "name": "stdout",
     "output_type": "stream",
     "text": [
      "Modularity score: 0.17605316245401686\n"
     ]
    },
    {
     "name": "stderr",
     "output_type": "stream",
     "text": [
      "删除过期节点: 0节点 [00:00, ?节点/s]\n"
     ]
    },
    {
     "name": "stdout",
     "output_type": "stream",
     "text": [
      "Modularity score: 0.15968537819601095\n"
     ]
    },
    {
     "name": "stderr",
     "output_type": "stream",
     "text": [
      "删除过期节点: 0节点 [00:00, ?节点/s]\n"
     ]
    },
    {
     "name": "stdout",
     "output_type": "stream",
     "text": [
      "Modularity score: 0.18420067209447882\n",
      "已删除边：(1476481556231639040, 1.4768237859490898e+18)  (时间差超过 30 天)\n",
      "已删除边：(1476481556231639040, 1.4771751752211538e+18)  (时间差超过 30 天)\n",
      "已删除边：(1476481556231639040, 1.4735934627381084e+18)  (时间差超过 30 天)\n",
      "已删除边：(1476481556231639040, 1.4774954894155162e+18)  (时间差超过 30 天)\n",
      "已删除边：(1476481556231639040, 1.4776139161170903e+18)  (时间差超过 30 天)\n",
      "已删除边：(1476481556231639040, 1.477629557960106e+18)  (时间差超过 30 天)\n"
     ]
    },
    {
     "name": "stderr",
     "output_type": "stream",
     "text": [
      "删除过期节点: 100%|██████████████████████████████████████████████████████████████████████████████████████████████████████████████████████████████████████████████| 7/7 [00:00<00:00, 23601.39节点/s]"
     ]
    },
    {
     "name": "stdout",
     "output_type": "stream",
     "text": [
      "已删除节点：1476481556231639040  (时间差超过 30 天)\n",
      "已删除节点：1.4768237859490898e+18  (时间差超过 30 天)\n",
      "已删除节点：1.4771751752211538e+18  (时间差超过 30 天)\n",
      "已删除节点：1.4774954894155162e+18  (时间差超过 30 天)\n",
      "已删除节点：1.4735934627381084e+18  (时间差超过 30 天)\n",
      "已删除节点：1.4776139161170903e+18  (时间差超过 30 天)\n",
      "已删除节点：1.477629557960106e+18  (时间差超过 30 天)\n"
     ]
    },
    {
     "name": "stderr",
     "output_type": "stream",
     "text": [
      "\n"
     ]
    },
    {
     "name": "stdout",
     "output_type": "stream",
     "text": [
      "Modularity score: 0.139713168531568\n",
      "已删除边：(1477742960116740096, 1.4754328433585234e+18)  (时间差超过 30 天)\n",
      "已删除边：(1477742960116740096, 1.4780299376891208e+18)  (时间差超过 30 天)\n",
      "已删除边：(1477742960116740096, 1.478021523768234e+18)  (时间差超过 30 天)\n"
     ]
    },
    {
     "name": "stderr",
     "output_type": "stream",
     "text": [
      "删除过期节点: 100%|██████████████████████████████████████████████████████████████████████████████████████████████████████████████████████████████████████████████| 4/4 [00:00<00:00, 13283.62节点/s]"
     ]
    },
    {
     "name": "stdout",
     "output_type": "stream",
     "text": [
      "已删除节点：1477742960116740096  (时间差超过 30 天)\n",
      "已删除节点：1.4754328433585234e+18  (时间差超过 30 天)\n",
      "已删除节点：1.4780299376891208e+18  (时间差超过 30 天)\n",
      "已删除节点：1.478021523768234e+18  (时间差超过 30 天)\n"
     ]
    },
    {
     "name": "stderr",
     "output_type": "stream",
     "text": [
      "\n"
     ]
    },
    {
     "name": "stdout",
     "output_type": "stream",
     "text": [
      "Modularity score: 0.07883008128974275\n"
     ]
    },
    {
     "name": "stderr",
     "output_type": "stream",
     "text": [
      "删除过期节点: 0节点 [00:00, ?节点/s]\n"
     ]
    },
    {
     "name": "stdout",
     "output_type": "stream",
     "text": [
      "Modularity score: 0.07645819423870252\n"
     ]
    },
    {
     "name": "stderr",
     "output_type": "stream",
     "text": [
      "删除过期节点: 0节点 [00:00, ?节点/s]\n"
     ]
    },
    {
     "name": "stdout",
     "output_type": "stream",
     "text": [
      "Modularity score: 0.07525369477714444\n"
     ]
    },
    {
     "name": "stderr",
     "output_type": "stream",
     "text": [
      "删除过期节点: 0节点 [00:00, ?节点/s]\n"
     ]
    },
    {
     "name": "stdout",
     "output_type": "stream",
     "text": [
      "Modularity score: 0.0826694402265359\n"
     ]
    },
    {
     "name": "stderr",
     "output_type": "stream",
     "text": [
      "删除过期节点: 0节点 [00:00, ?节点/s]\n"
     ]
    },
    {
     "name": "stdout",
     "output_type": "stream",
     "text": [
      "Modularity score: 0.08823373702422149\n"
     ]
    },
    {
     "name": "stderr",
     "output_type": "stream",
     "text": [
      "删除过期节点: 0节点 [00:00, ?节点/s]\n"
     ]
    },
    {
     "name": "stdout",
     "output_type": "stream",
     "text": [
      "Modularity score: 0.11634741010521443\n",
      "已删除边：(1479834374946316288, 1.4795743165640335e+18)  (时间差超过 30 天)\n",
      "已删除边：(1479834374946316288, 1.4800639674942874e+18)  (时间差超过 30 天)\n",
      "已删除边：(1479834374946316288, 1.479105972597817e+18)  (时间差超过 30 天)\n",
      "已删除边：(1479834374946316288, 1.48019562820642e+18)  (时间差超过 30 天)\n"
     ]
    },
    {
     "name": "stderr",
     "output_type": "stream",
     "text": [
      "删除过期节点: 100%|██████████████████████████████████████████████████████████████████████████████████████████████████████████████████████████████████████████████| 5/5 [00:00<00:00, 15779.92节点/s]"
     ]
    },
    {
     "name": "stdout",
     "output_type": "stream",
     "text": [
      "已删除节点：1479834374946316288  (时间差超过 30 天)\n",
      "已删除节点：1.4795743165640335e+18  (时间差超过 30 天)\n",
      "已删除节点：1.4800639674942874e+18  (时间差超过 30 天)\n",
      "已删除节点：1.48019562820642e+18  (时间差超过 30 天)\n",
      "已删除节点：1.479105972597817e+18  (时间差超过 30 天)\n"
     ]
    },
    {
     "name": "stderr",
     "output_type": "stream",
     "text": [
      "\n"
     ]
    },
    {
     "name": "stdout",
     "output_type": "stream",
     "text": [
      "Modularity score: 0.10537546351073439\n"
     ]
    },
    {
     "name": "stderr",
     "output_type": "stream",
     "text": [
      "删除过期节点: 0节点 [00:00, ?节点/s]\n"
     ]
    },
    {
     "name": "stdout",
     "output_type": "stream",
     "text": [
      "Modularity score: 0.11806824690660578\n"
     ]
    },
    {
     "name": "stderr",
     "output_type": "stream",
     "text": [
      "删除过期节点: 0节点 [00:00, ?节点/s]\n"
     ]
    },
    {
     "name": "stdout",
     "output_type": "stream",
     "text": [
      "Modularity score: 0.11978881150441067\n",
      "已删除边：(1481046588634054912, 1.480931337179705e+18)  (时间差超过 30 天)\n",
      "已删除边：(1481046588634054912, 1.4810670874183475e+18)  (时间差超过 30 天)\n",
      "已删除边：(1481046588634054912, 1.4810803285089157e+18)  (时间差超过 30 天)\n",
      "已删除边：(1481046588634054912, 1.4808198427267768e+18)  (时间差超过 30 天)\n",
      "已删除边：(1481046588634054912, 1.4810707569686774e+18)  (时间差超过 30 天)\n",
      "已删除边：(1481046588634054912, 1.4808098778995507e+18)  (时间差超过 30 天)\n",
      "已删除边：(1481046588634054912, 1.4810871837047237e+18)  (时间差超过 30 天)\n",
      "已删除边：(1481046588634054912, 1.4810871867455693e+18)  (时间差超过 30 天)\n",
      "已删除边：(1481046588634054912, 1.4810947712674245e+18)  (时间差超过 30 天)\n",
      "已删除边：(1481046588634054912, 1.4810155605194875e+18)  (时间差超过 30 天)\n",
      "已删除边：(1481046588634054912, 1.4810853183047967e+18)  (时间差超过 30 天)\n",
      "已删除边：(1481046588634054912, 1.481068929661694e+18)  (时间差超过 30 天)\n",
      "已删除边：(1481046588634054912, 1.4811881051935048e+18)  (时间差超过 30 天)\n",
      "已删除边：(1481046588634054912, 1.481219957379973e+18)  (时间差超过 30 天)\n",
      "已删除边：(1481046588634054912, 1.4812497488627753e+18)  (时间差超过 30 天)\n",
      "已删除边：(1481046588634054912, 1.4807954649541632e+18)  (时间差超过 30 天)\n",
      "已删除边：(1481046588634054912, 1.4813159258111468e+18)  (时间差超过 30 天)\n"
     ]
    },
    {
     "name": "stderr",
     "output_type": "stream",
     "text": [
      "删除过期节点: 100%|████████████████████████████████████████████████████████████████████████████████████████████████████████████████████████████████████████████| 18/18 [00:00<00:00, 41391.16节点/s]"
     ]
    },
    {
     "name": "stdout",
     "output_type": "stream",
     "text": [
      "已删除节点：1481046588634054912  (时间差超过 30 天)\n",
      "已删除节点：1.480931337179705e+18  (时间差超过 30 天)\n",
      "已删除节点：1.4810670874183475e+18  (时间差超过 30 天)\n",
      "已删除节点：1.4808198427267768e+18  (时间差超过 30 天)\n",
      "已删除节点：1.4810803285089157e+18  (时间差超过 30 天)\n",
      "已删除节点：1.4810707569686774e+18  (时间差超过 30 天)\n",
      "已删除节点：1.4808098778995507e+18  (时间差超过 30 天)\n",
      "已删除节点：1.4810871837047237e+18  (时间差超过 30 天)\n",
      "已删除节点：1.4810871867455693e+18  (时间差超过 30 天)\n",
      "已删除节点：1.4810947712674245e+18  (时间差超过 30 天)\n",
      "已删除节点：1.4810155605194875e+18  (时间差超过 30 天)\n",
      "已删除节点：1.4810853183047967e+18  (时间差超过 30 天)\n",
      "已删除节点：1.4812497488627753e+18  (时间差超过 30 天)\n",
      "已删除节点：1.4807954649541632e+18  (时间差超过 30 天)\n",
      "已删除节点：1.4813159258111468e+18  (时间差超过 30 天)\n",
      "已删除节点：1.4811881051935048e+18  (时间差超过 30 天)\n",
      "已删除节点：1.481219957379973e+18  (时间差超过 30 天)\n",
      "已删除节点：1.481068929661694e+18  (时间差超过 30 天)\n"
     ]
    },
    {
     "name": "stderr",
     "output_type": "stream",
     "text": [
      "\n"
     ]
    },
    {
     "name": "stdout",
     "output_type": "stream",
     "text": [
      "Modularity score: 0.1159452276924463\n"
     ]
    },
    {
     "name": "stderr",
     "output_type": "stream",
     "text": [
      "删除过期节点: 0节点 [00:00, ?节点/s]\n"
     ]
    },
    {
     "name": "stdout",
     "output_type": "stream",
     "text": [
      "Modularity score: 0.12213770725808046\n"
     ]
    },
    {
     "name": "stderr",
     "output_type": "stream",
     "text": [
      "删除过期节点: 0节点 [00:00, ?节点/s]\n"
     ]
    },
    {
     "name": "stdout",
     "output_type": "stream",
     "text": [
      "Modularity score: 0.1298953315584612\n",
      "已删除边：(1482018467239034880, 1.4749352679751148e+18)  (时间差超过 30 天)\n",
      "已删除边：(1482018467239034880, 1.481999096776958e+18)  (时间差超过 30 天)\n",
      "已删除边：(1482018467239034880, 1.4819956477167903e+18)  (时间差超过 30 天)\n",
      "已删除边：(1482018467239034880, 1.4822290106753638e+18)  (时间差超过 30 天)\n",
      "已删除边：(1482018467239034880, 1.482230201371136e+18)  (时间差超过 30 天)\n",
      "已删除边：(1482018467239034880, 1.482230198770692e+18)  (时间差超过 30 天)\n",
      "已删除边：(1482018467239034880, 1.4823262458787348e+18)  (时间差超过 30 天)\n",
      "已删除边：(1482018467239034880, 1.482326335343276e+18)  (时间差超过 30 天)\n",
      "已删除边：(1482018467239034880, 1.4824332426411008e+18)  (时间差超过 30 天)\n"
     ]
    },
    {
     "name": "stderr",
     "output_type": "stream",
     "text": [
      "删除过期节点: 100%|████████████████████████████████████████████████████████████████████████████████████████████████████████████████████████████████████████████| 10/10 [00:00<00:00, 27200.42节点/s]"
     ]
    },
    {
     "name": "stdout",
     "output_type": "stream",
     "text": [
      "已删除节点：1482018467239034880  (时间差超过 30 天)\n",
      "已删除节点：1.4749352679751148e+18  (时间差超过 30 天)\n",
      "已删除节点：1.4819956477167903e+18  (时间差超过 30 天)\n",
      "已删除节点：1.4822290106753638e+18  (时间差超过 30 天)\n",
      "已删除节点：1.481999096776958e+18  (时间差超过 30 天)\n",
      "已删除节点：1.482230201371136e+18  (时间差超过 30 天)\n",
      "已删除节点：1.482230198770692e+18  (时间差超过 30 天)\n",
      "已删除节点：1.4823262458787348e+18  (时间差超过 30 天)\n",
      "已删除节点：1.482326335343276e+18  (时间差超过 30 天)\n",
      "已删除节点：1.4824332426411008e+18  (时间差超过 30 天)\n"
     ]
    },
    {
     "name": "stderr",
     "output_type": "stream",
     "text": [
      "\n"
     ]
    },
    {
     "name": "stdout",
     "output_type": "stream",
     "text": [
      "Modularity score: 0.0982262863960785\n"
     ]
    },
    {
     "name": "stderr",
     "output_type": "stream",
     "text": [
      "删除过期节点: 0节点 [00:00, ?节点/s]\n"
     ]
    },
    {
     "name": "stdout",
     "output_type": "stream",
     "text": [
      "Modularity score: 0.09246162373360252\n"
     ]
    },
    {
     "name": "stderr",
     "output_type": "stream",
     "text": [
      "删除过期节点: 0节点 [00:00, ?节点/s]\n"
     ]
    },
    {
     "name": "stdout",
     "output_type": "stream",
     "text": [
      "Modularity score: 0.11131167268351383\n",
      "已删除边：(1483193630802079488, 1.4832605289488425e+18)  (时间差超过 30 天)\n",
      "已删除边：(1483193630802079488, 1.4832649806237204e+18)  (时间差超过 30 天)\n",
      "已删除边：(1483193630802079488, 1.483264982771204e+18)  (时间差超过 30 天)\n",
      "已删除边：(1483193630802079488, 1.483271930052776e+18)  (时间差超过 30 天)\n",
      "已删除边：(1483193630802079488, 1.4832720207584584e+18)  (时间差超过 30 天)\n",
      "已删除边：(1483193630802079488, 1.4833095233601208e+18)  (时间差超过 30 天)\n",
      "已删除边：(1483193630802079488, 1.4833101932199813e+18)  (时间差超过 30 天)\n",
      "已删除边：(1483193630802079488, 1.4833173751350108e+18)  (时间差超过 30 天)\n",
      "已删除边：(1483193630802079488, 1.482588130276528e+18)  (时间差超过 30 天)\n",
      "已删除边：(1483193630802079488, 1.483383725681709e+18)  (时间差超过 30 天)\n",
      "已删除边：(1483193630802079488, 1.483434198975545e+18)  (时间差超过 30 天)\n",
      "已删除边：(1483193630802079488, 1.483435731028779e+18)  (时间差超过 30 天)\n",
      "已删除边：(1483193630802079488, 1.4834441746368758e+18)  (时间差超过 30 天)\n",
      "已删除边：(1483193630802079488, 1.4834442526970511e+18)  (时间差超过 30 天)\n"
     ]
    },
    {
     "name": "stderr",
     "output_type": "stream",
     "text": [
      "删除过期节点: 100%|████████████████████████████████████████████████████████████████████████████████████████████████████████████████████████████████████████████| 15/15 [00:00<00:00, 35746.91节点/s]"
     ]
    },
    {
     "name": "stdout",
     "output_type": "stream",
     "text": [
      "已删除节点：1483193630802079488  (时间差超过 30 天)\n",
      "已删除节点：1.4832605289488425e+18  (时间差超过 30 天)\n",
      "已删除节点：1.483271930052776e+18  (时间差超过 30 天)\n",
      "已删除节点：1.483264982771204e+18  (时间差超过 30 天)\n",
      "已删除节点：1.4832649806237204e+18  (时间差超过 30 天)\n",
      "已删除节点：1.4832720207584584e+18  (时间差超过 30 天)\n",
      "已删除节点：1.4833095233601208e+18  (时间差超过 30 天)\n",
      "已删除节点：1.4833101932199813e+18  (时间差超过 30 天)\n",
      "已删除节点：1.4833173751350108e+18  (时间差超过 30 天)\n",
      "已删除节点：1.482588130276528e+18  (时间差超过 30 天)\n",
      "已删除节点：1.483383725681709e+18  (时间差超过 30 天)\n",
      "已删除节点：1.4834441746368758e+18  (时间差超过 30 天)\n",
      "已删除节点：1.483435731028779e+18  (时间差超过 30 天)\n",
      "已删除节点：1.4834442526970511e+18  (时间差超过 30 天)\n",
      "已删除节点：1.483434198975545e+18  (时间差超过 30 天)\n"
     ]
    },
    {
     "name": "stderr",
     "output_type": "stream",
     "text": [
      "\n"
     ]
    },
    {
     "name": "stdout",
     "output_type": "stream",
     "text": [
      "Modularity score: 0.09406566571401734\n"
     ]
    },
    {
     "name": "stderr",
     "output_type": "stream",
     "text": [
      "删除过期节点: 0节点 [00:00, ?节点/s]\n"
     ]
    },
    {
     "name": "stdout",
     "output_type": "stream",
     "text": [
      "Modularity score: 0.09304347826086956\n"
     ]
    },
    {
     "name": "stderr",
     "output_type": "stream",
     "text": [
      "删除过期节点: 0节点 [00:00, ?节点/s]\n"
     ]
    },
    {
     "name": "stdout",
     "output_type": "stream",
     "text": [
      "Modularity score: 0.09427960190209139\n"
     ]
    },
    {
     "name": "stderr",
     "output_type": "stream",
     "text": [
      "删除过期节点: 0节点 [00:00, ?节点/s]\n"
     ]
    },
    {
     "name": "stdout",
     "output_type": "stream",
     "text": [
      "Modularity score: 0.11960044591119307\n",
      "已删除边：(1484549647993507840, 1.484688499790041e+18)  (时间差超过 30 天)\n",
      "已删除边：(1484549647993507840, 1.4846885019920056e+18)  (时间差超过 30 天)\n",
      "已删除边：(1484549647993507840, 1.484691039579525e+18)  (时间差超过 30 天)\n",
      "已删除边：(1484549647993507840, 1.4843580785566802e+18)  (时间差超过 30 天)\n",
      "已删除边：(1484549647993507840, 1.4848278847997256e+18)  (时间差超过 30 天)\n",
      "已删除边：(1484549647993507840, 1.4848279685138555e+18)  (时间差超过 30 天)\n",
      "已删除边：(1484549647993507840, 1.4848114233772073e+18)  (时间差超过 30 天)\n",
      "已删除边：(1484549647993507840, 1.475431262357635e+18)  (时间差超过 30 天)\n",
      "已删除边：(1484549647993507840, 1.4841306029412966e+18)  (时间差超过 30 天)\n",
      "已删除边：(1484549647993507840, 1.4845090928574177e+18)  (时间差超过 30 天)\n",
      "已删除边：(1484549647993507840, 1.4848247906494054e+18)  (时间差超过 30 天)\n",
      "已删除边：(1484549647993507840, 1.4848225723911045e+18)  (时间差超过 30 天)\n",
      "已删除边：(1484549647993507840, 1.484753527029498e+18)  (时间差超过 30 天)\n"
     ]
    },
    {
     "name": "stderr",
     "output_type": "stream",
     "text": [
      "删除过期节点: 100%|████████████████████████████████████████████████████████████████████████████████████████████████████████████████████████████████████████████| 14/14 [00:00<00:00, 33344.84节点/s]"
     ]
    },
    {
     "name": "stdout",
     "output_type": "stream",
     "text": [
      "已删除节点：1484549647993507840  (时间差超过 30 天)\n",
      "已删除节点：1.484688499790041e+18  (时间差超过 30 天)\n",
      "已删除节点：1.484691039579525e+18  (时间差超过 30 天)\n",
      "已删除节点：1.4846885019920056e+18  (时间差超过 30 天)\n",
      "已删除节点：1.4843580785566802e+18  (时间差超过 30 天)\n",
      "已删除节点：1.4848278847997256e+18  (时间差超过 30 天)\n",
      "已删除节点：1.4848279685138555e+18  (时间差超过 30 天)\n",
      "已删除节点：1.4848114233772073e+18  (时间差超过 30 天)\n",
      "已删除节点：1.475431262357635e+18  (时间差超过 30 天)\n",
      "已删除节点：1.4841306029412966e+18  (时间差超过 30 天)\n",
      "已删除节点：1.4845090928574177e+18  (时间差超过 30 天)\n",
      "已删除节点：1.4848247906494054e+18  (时间差超过 30 天)\n",
      "已删除节点：1.4848225723911045e+18  (时间差超过 30 天)\n",
      "已删除节点：1.484753527029498e+18  (时间差超过 30 天)\n"
     ]
    },
    {
     "name": "stderr",
     "output_type": "stream",
     "text": [
      "\n"
     ]
    },
    {
     "name": "stdout",
     "output_type": "stream",
     "text": [
      "Modularity score: 0.13193705555770285\n",
      "已删除边：(1484889835965845504, 1.485044343299707e+18)  (时间差超过 30 天)\n",
      "已删除边：(1484889835965845504, 1.4850443506145976e+18)  (时间差超过 30 天)\n",
      "已删除边：(1484889835965845504, 1.4850443626228982e+18)  (时间差超过 30 天)\n",
      "已删除边：(1484889835965845504, 1.4850443740229427e+18)  (时间差超过 30 天)\n",
      "已删除边：(1484889835965845504, 1.485044376258564e+18)  (时间差超过 30 天)\n",
      "已删除边：(1484889835965845504, 1.4850443782550528e+18)  (时间差超过 30 天)\n",
      "已删除边：(1484889835965845504, 1.4848901305865175e+18)  (时间差超过 30 天)\n",
      "已删除边：(1484889835965845504, 1.485051038595883e+18)  (时间差超过 30 天)\n",
      "已删除边：(1484889835965845504, 1.485107489557205e+18)  (时间差超过 30 天)\n",
      "已删除边：(1484889835965845504, 1.485108441412608e+18)  (时间差超过 30 天)\n",
      "已删除边：(1484889835965845504, 1.4851180713751552e+18)  (时间差超过 30 天)\n",
      "已删除边：(1484889835965845504, 1.4851843398475612e+18)  (时间差超过 30 天)\n",
      "已删除边：(1484889835965845504, 1.4852367719861617e+18)  (时间差超过 30 天)\n"
     ]
    },
    {
     "name": "stderr",
     "output_type": "stream",
     "text": [
      "删除过期节点: 100%|████████████████████████████████████████████████████████████████████████████████████████████████████████████████████████████████████████████| 14/14 [00:00<00:00, 33903.15节点/s]"
     ]
    },
    {
     "name": "stdout",
     "output_type": "stream",
     "text": [
      "已删除节点：1484889835965845504  (时间差超过 30 天)\n",
      "已删除节点：1.485044343299707e+18  (时间差超过 30 天)\n",
      "已删除节点：1.4850443506145976e+18  (时间差超过 30 天)\n",
      "已删除节点：1.4850443740229427e+18  (时间差超过 30 天)\n",
      "已删除节点：1.4850443626228982e+18  (时间差超过 30 天)\n",
      "已删除节点：1.485044376258564e+18  (时间差超过 30 天)\n",
      "已删除节点：1.4850443782550528e+18  (时间差超过 30 天)\n",
      "已删除节点：1.4848901305865175e+18  (时间差超过 30 天)\n",
      "已删除节点：1.485051038595883e+18  (时间差超过 30 天)\n",
      "已删除节点：1.485107489557205e+18  (时间差超过 30 天)\n",
      "已删除节点：1.485108441412608e+18  (时间差超过 30 天)\n",
      "已删除节点：1.4851843398475612e+18  (时间差超过 30 天)\n",
      "已删除节点：1.4852367719861617e+18  (时间差超过 30 天)\n",
      "已删除节点：1.4851180713751552e+18  (时间差超过 30 天)\n"
     ]
    },
    {
     "name": "stderr",
     "output_type": "stream",
     "text": [
      "\n"
     ]
    },
    {
     "name": "stdout",
     "output_type": "stream",
     "text": [
      "Modularity score: 0.1452373866213152\n",
      "已删除边：(1485282615510724608, 1.485184821249065e+18)  (时间差超过 30 天)\n",
      "已删除边：(1485282615510724608, 1.4854455039491482e+18)  (时间差超过 30 天)\n",
      "已删除边：(1485282615510724608, 1.485445505148756e+18)  (时间差超过 30 天)\n",
      "已删除边：(1485282615510724608, 1.4854455061428183e+18)  (时间差超过 30 天)\n",
      "已删除边：(1485282615510724608, 1.4854509452028475e+18)  (时间差超过 30 天)\n",
      "已删除边：(1485282615510724608, 1.485484721807446e+18)  (时间差超过 30 天)\n",
      "已删除边：(1485282615510724608, 1.4854861216899482e+18)  (时间差超过 30 天)\n",
      "已删除边：(1485282615510724608, 1.4855057962095163e+18)  (时间差超过 30 天)\n",
      "已删除边：(1485282615510724608, 1.4854904534325985e+18)  (时间差超过 30 天)\n",
      "已删除边：(1485282615510724608, 1.4855363063192248e+18)  (时间差超过 30 天)\n",
      "已删除边：(1485282615510724608, 1.4855482082859418e+18)  (时间差超过 30 天)\n",
      "已删除边：(1485282615510724608, 1.4856233597485425e+18)  (时间差超过 30 天)\n",
      "已删除边：(1485282615510724608, 1.4855740068918518e+18)  (时间差超过 30 天)\n",
      "已删除边：(1485282615510724608, 1.485625948662014e+18)  (时间差超过 30 天)\n"
     ]
    },
    {
     "name": "stderr",
     "output_type": "stream",
     "text": [
      "删除过期节点: 100%|████████████████████████████████████████████████████████████████████████████████████████████████████████████████████████████████████████████| 15/15 [00:00<00:00, 35147.80节点/s]"
     ]
    },
    {
     "name": "stdout",
     "output_type": "stream",
     "text": [
      "已删除节点：1485282615510724608  (时间差超过 30 天)\n",
      "已删除节点：1.485184821249065e+18  (时间差超过 30 天)\n",
      "已删除节点：1.4854455039491482e+18  (时间差超过 30 天)\n",
      "已删除节点：1.4854455061428183e+18  (时间差超过 30 天)\n",
      "已删除节点：1.485445505148756e+18  (时间差超过 30 天)\n",
      "已删除节点：1.4854509452028475e+18  (时间差超过 30 天)\n",
      "已删除节点：1.485484721807446e+18  (时间差超过 30 天)\n",
      "已删除节点：1.4854861216899482e+18  (时间差超过 30 天)\n",
      "已删除节点：1.4855057962095163e+18  (时间差超过 30 天)\n",
      "已删除节点：1.4854904534325985e+18  (时间差超过 30 天)\n",
      "已删除节点：1.4855363063192248e+18  (时间差超过 30 天)\n",
      "已删除节点：1.4855482082859418e+18  (时间差超过 30 天)\n",
      "已删除节点：1.4856233597485425e+18  (时间差超过 30 天)\n",
      "已删除节点：1.485625948662014e+18  (时间差超过 30 天)\n",
      "已删除节点：1.4855740068918518e+18  (时间差超过 30 天)\n"
     ]
    },
    {
     "name": "stderr",
     "output_type": "stream",
     "text": [
      "\n"
     ]
    },
    {
     "name": "stdout",
     "output_type": "stream",
     "text": [
      "Modularity score: 0.015028052096176275\n"
     ]
    },
    {
     "name": "stderr",
     "output_type": "stream",
     "text": [
      "删除过期节点: 0节点 [00:00, ?节点/s]\n"
     ]
    },
    {
     "name": "stdout",
     "output_type": "stream",
     "text": [
      "Modularity score: 0.014619883040935644\n"
     ]
    },
    {
     "name": "stderr",
     "output_type": "stream",
     "text": [
      "删除过期节点: 0节点 [00:00, ?节点/s]\n"
     ]
    },
    {
     "name": "stdout",
     "output_type": "stream",
     "text": [
      "Modularity score: 0.03267685056600595\n"
     ]
    },
    {
     "name": "stderr",
     "output_type": "stream",
     "text": [
      "删除过期节点: 0节点 [00:00, ?节点/s]\n"
     ]
    },
    {
     "name": "stdout",
     "output_type": "stream",
     "text": [
      "Modularity score: 0.028368794326241176\n"
     ]
    },
    {
     "name": "stderr",
     "output_type": "stream",
     "text": [
      "删除过期节点: 0节点 [00:00, ?节点/s]\n"
     ]
    },
    {
     "name": "stdout",
     "output_type": "stream",
     "text": [
      "Modularity score: 0.04226475279106856\n"
     ]
    },
    {
     "name": "stderr",
     "output_type": "stream",
     "text": [
      "删除过期节点: 0节点 [00:00, ?节点/s]\n"
     ]
    },
    {
     "name": "stdout",
     "output_type": "stream",
     "text": [
      "Modularity score: 0.04517133956386288\n"
     ]
    },
    {
     "name": "stderr",
     "output_type": "stream",
     "text": [
      "删除过期节点: 0节点 [00:00, ?节点/s]\n"
     ]
    },
    {
     "name": "stdout",
     "output_type": "stream",
     "text": [
      "Modularity score: 0.05162241887905605\n"
     ]
    },
    {
     "name": "stderr",
     "output_type": "stream",
     "text": [
      "删除过期节点: 0节点 [00:00, ?节点/s]\n"
     ]
    },
    {
     "name": "stdout",
     "output_type": "stream",
     "text": [
      "Modularity score: 0.05878284923928079\n"
     ]
    },
    {
     "name": "stderr",
     "output_type": "stream",
     "text": [
      "删除过期节点: 0节点 [00:00, ?节点/s]\n"
     ]
    },
    {
     "name": "stdout",
     "output_type": "stream",
     "text": [
      "Modularity score: 0.12062925507303855\n"
     ]
    },
    {
     "name": "stderr",
     "output_type": "stream",
     "text": [
      "删除过期节点: 0节点 [00:00, ?节点/s]\n"
     ]
    },
    {
     "name": "stdout",
     "output_type": "stream",
     "text": [
      "Modularity score: 0.12244897959183668\n"
     ]
    },
    {
     "name": "stderr",
     "output_type": "stream",
     "text": [
      "删除过期节点: 0节点 [00:00, ?节点/s]\n"
     ]
    },
    {
     "name": "stdout",
     "output_type": "stream",
     "text": [
      "Modularity score: 0.1474869406434911\n"
     ]
    },
    {
     "name": "stderr",
     "output_type": "stream",
     "text": [
      "删除过期节点: 0节点 [00:00, ?节点/s]\n"
     ]
    },
    {
     "name": "stdout",
     "output_type": "stream",
     "text": [
      "Modularity score: 0.15875377460380435\n"
     ]
    },
    {
     "name": "stderr",
     "output_type": "stream",
     "text": [
      "删除过期节点: 0节点 [00:00, ?节点/s]\n"
     ]
    },
    {
     "name": "stdout",
     "output_type": "stream",
     "text": [
      "Modularity score: 0.17665213370326321\n",
      "已删除边：(1490006237982826496, 1.4899427224673116e+18)  (时间差超过 30 天)\n",
      "已删除边：(1490006237982826496, 1.4901174121921495e+18)  (时间差超过 30 天)\n",
      "已删除边：(1490006237982826496, 1.4899822344175903e+18)  (时间差超过 30 天)\n",
      "已删除边：(1490006237982826496, 1.489919043213607e+18)  (时间差超过 30 天)\n",
      "已删除边：(1490006237982826496, 1.4901734803480248e+18)  (时间差超过 30 天)\n",
      "已删除边：(1490006237982826496, 1.4901618290704507e+18)  (时间差超过 30 天)\n",
      "已删除边：(1490006237982826496, 1.4901778170441564e+18)  (时间差超过 30 天)\n",
      "已删除边：(1490006237982826496, 1.490156212259897e+18)  (时间差超过 30 天)\n",
      "已删除边：(1490006237982826496, 1.4901008332324372e+18)  (时间差超过 30 天)\n",
      "已删除边：(1490006237982826496, 1.4902865839283446e+18)  (时间差超过 30 天)\n",
      "已删除边：(1490006237982826496, 1.4902888300788818e+18)  (时间差超过 30 天)\n",
      "已删除边：(1490006237982826496, 1.4902756717628908e+18)  (时间差超过 30 天)\n",
      "已删除边：(1490006237982826496, 1.4902959438826783e+18)  (时间差超过 30 天)\n",
      "已删除边：(1490006237982826496, 1.4902823741138166e+18)  (时间差超过 30 天)\n",
      "已删除边：(1490006237982826496, 1.4902043271219405e+18)  (时间差超过 30 天)\n"
     ]
    },
    {
     "name": "stderr",
     "output_type": "stream",
     "text": [
      "删除过期节点: 100%|████████████████████████████████████████████████████████████████████████████████████████████████████████████████████████████████████████████| 16/16 [00:00<00:00, 35469.80节点/s]"
     ]
    },
    {
     "name": "stdout",
     "output_type": "stream",
     "text": [
      "已删除节点：1490006237982826496  (时间差超过 30 天)\n",
      "已删除节点：1.4899427224673116e+18  (时间差超过 30 天)\n",
      "已删除节点：1.4899822344175903e+18  (时间差超过 30 天)\n",
      "已删除节点：1.489919043213607e+18  (时间差超过 30 天)\n",
      "已删除节点：1.4901174121921495e+18  (时间差超过 30 天)\n",
      "已删除节点：1.4901734803480248e+18  (时间差超过 30 天)\n",
      "已删除节点：1.4901618290704507e+18  (时间差超过 30 天)\n",
      "已删除节点：1.4901778170441564e+18  (时间差超过 30 天)\n",
      "已删除节点：1.490156212259897e+18  (时间差超过 30 天)\n",
      "已删除节点：1.4901008332324372e+18  (时间差超过 30 天)\n",
      "已删除节点：1.4902865839283446e+18  (时间差超过 30 天)\n",
      "已删除节点：1.4902888300788818e+18  (时间差超过 30 天)\n",
      "已删除节点：1.4902959438826783e+18  (时间差超过 30 天)\n",
      "已删除节点：1.4902823741138166e+18  (时间差超过 30 天)\n",
      "已删除节点：1.4902756717628908e+18  (时间差超过 30 天)\n",
      "已删除节点：1.4902043271219405e+18  (时间差超过 30 天)\n"
     ]
    },
    {
     "name": "stderr",
     "output_type": "stream",
     "text": [
      "\n"
     ]
    },
    {
     "name": "stdout",
     "output_type": "stream",
     "text": [
      "Modularity score: 0.2929063389863793\n",
      "已删除边：(1490361007738290176, 1.4904905420646113e+18)  (时间差超过 30 天)\n",
      "已删除边：(1490361007738290176, 1.4904965120816824e+18)  (时间差超过 30 天)\n",
      "已删除边：(1490361007738290176, 1.4905273737285673e+18)  (时间差超过 30 天)\n",
      "已删除边：(1490361007738290176, 1.4905894312960532e+18)  (时间差超过 30 天)\n",
      "已删除边：(1490361007738290176, 1.490608055259525e+18)  (时间差超过 30 天)\n",
      "已删除边：(1490361007738290176, 1.490279654099325e+18)  (时间差超过 30 天)\n",
      "已删除边：(1490361007738290176, 1.4903128148918313e+18)  (时间差超过 30 天)\n",
      "已删除边：(1490361007738290176, 1.4891278126445568e+18)  (时间差超过 30 天)\n",
      "已删除边：(1490361007738290176, 1.4906798483603743e+18)  (时间差超过 30 天)\n",
      "已删除边：(1490361007738290176, 1.4902929900147466e+18)  (时间差超过 30 天)\n",
      "已删除边：(1490361007738290176, 1.486682367364272e+18)  (时间差超过 30 天)\n",
      "已删除边：(1490361007738290176, 1.4906900686164623e+18)  (时间差超过 30 天)\n",
      "已删除边：(1490361007738290176, 1.49069008290227e+18)  (时间差超过 30 天)\n",
      "已删除边：(1490361007738290176, 1.4906900917103084e+18)  (时间差超过 30 天)\n",
      "已删除边：(1490361007738290176, 1.4907053473630945e+18)  (时间差超过 30 天)\n"
     ]
    },
    {
     "name": "stderr",
     "output_type": "stream",
     "text": [
      "删除过期节点: 100%|████████████████████████████████████████████████████████████████████████████████████████████████████████████████████████████████████████████| 16/16 [00:00<00:00, 35062.10节点/s]"
     ]
    },
    {
     "name": "stdout",
     "output_type": "stream",
     "text": [
      "已删除节点：1490361007738290176  (时间差超过 30 天)\n",
      "已删除节点：1.4904905420646113e+18  (时间差超过 30 天)\n",
      "已删除节点：1.4905273737285673e+18  (时间差超过 30 天)\n",
      "已删除节点：1.4904965120816824e+18  (时间差超过 30 天)\n",
      "已删除节点：1.4905894312960532e+18  (时间差超过 30 天)\n",
      "已删除节点：1.490608055259525e+18  (时间差超过 30 天)\n",
      "已删除节点：1.490279654099325e+18  (时间差超过 30 天)\n",
      "已删除节点：1.4903128148918313e+18  (时间差超过 30 天)\n",
      "已删除节点：1.4891278126445568e+18  (时间差超过 30 天)\n",
      "已删除节点：1.4906798483603743e+18  (时间差超过 30 天)\n",
      "已删除节点：1.4902929900147466e+18  (时间差超过 30 天)\n",
      "已删除节点：1.486682367364272e+18  (时间差超过 30 天)\n",
      "已删除节点：1.4906900917103084e+18  (时间差超过 30 天)\n",
      "已删除节点：1.4906900686164623e+18  (时间差超过 30 天)\n",
      "已删除节点：1.4907053473630945e+18  (时间差超过 30 天)\n",
      "已删除节点：1.49069008290227e+18  (时间差超过 30 天)\n"
     ]
    },
    {
     "name": "stderr",
     "output_type": "stream",
     "text": [
      "\n"
     ]
    },
    {
     "name": "stdout",
     "output_type": "stream",
     "text": [
      "Modularity score: 0.2001183431952663\n"
     ]
    },
    {
     "name": "stderr",
     "output_type": "stream",
     "text": [
      "删除过期节点: 0节点 [00:00, ?节点/s]\n"
     ]
    },
    {
     "name": "stdout",
     "output_type": "stream",
     "text": [
      "Modularity score: 0.18906808023180074\n"
     ]
    },
    {
     "name": "stderr",
     "output_type": "stream",
     "text": [
      "删除过期节点: 0节点 [00:00, ?节点/s]\n"
     ]
    },
    {
     "name": "stdout",
     "output_type": "stream",
     "text": [
      "Modularity score: 0.180608900239297\n"
     ]
    },
    {
     "name": "stderr",
     "output_type": "stream",
     "text": [
      "删除过期节点: 0节点 [00:00, ?节点/s]\n"
     ]
    },
    {
     "name": "stdout",
     "output_type": "stream",
     "text": [
      "Modularity score: 0.16942105355298395\n"
     ]
    },
    {
     "name": "stderr",
     "output_type": "stream",
     "text": [
      "删除过期节点: 0节点 [00:00, ?节点/s]\n"
     ]
    },
    {
     "name": "stdout",
     "output_type": "stream",
     "text": [
      "Modularity score: 0.15757997850081\n"
     ]
    },
    {
     "name": "stderr",
     "output_type": "stream",
     "text": [
      "删除过期节点: 0节点 [00:00, ?节点/s]\n"
     ]
    },
    {
     "name": "stdout",
     "output_type": "stream",
     "text": [
      "Modularity score: 0.13821943179303198\n"
     ]
    },
    {
     "name": "stderr",
     "output_type": "stream",
     "text": [
      "删除过期节点: 0节点 [00:00, ?节点/s]\n"
     ]
    },
    {
     "name": "stdout",
     "output_type": "stream",
     "text": [
      "Modularity score: 0.12695924764890287\n"
     ]
    },
    {
     "name": "stderr",
     "output_type": "stream",
     "text": [
      "删除过期节点: 0节点 [00:00, ?节点/s]\n"
     ]
    },
    {
     "name": "stdout",
     "output_type": "stream",
     "text": [
      "Modularity score: 0.1216171126081036\n"
     ]
    },
    {
     "name": "stderr",
     "output_type": "stream",
     "text": [
      "删除过期节点: 0节点 [00:00, ?节点/s]\n"
     ]
    },
    {
     "name": "stdout",
     "output_type": "stream",
     "text": [
      "Modularity score: 0.12318420499894989\n"
     ]
    },
    {
     "name": "stderr",
     "output_type": "stream",
     "text": [
      "删除过期节点: 0节点 [00:00, ?节点/s]\n"
     ]
    },
    {
     "name": "stdout",
     "output_type": "stream",
     "text": [
      "Modularity score: 0.12534055809788344\n"
     ]
    },
    {
     "name": "stderr",
     "output_type": "stream",
     "text": [
      "删除过期节点: 0节点 [00:00, ?节点/s]\n"
     ]
    },
    {
     "name": "stdout",
     "output_type": "stream",
     "text": [
      "Modularity score: 0.13218126568899455\n"
     ]
    },
    {
     "name": "stderr",
     "output_type": "stream",
     "text": [
      "删除过期节点: 0节点 [00:00, ?节点/s]\n"
     ]
    },
    {
     "name": "stdout",
     "output_type": "stream",
     "text": [
      "Modularity score: 0.13580035224982645\n"
     ]
    },
    {
     "name": "stderr",
     "output_type": "stream",
     "text": [
      "删除过期节点: 0节点 [00:00, ?节点/s]\n"
     ]
    },
    {
     "name": "stdout",
     "output_type": "stream",
     "text": [
      "Modularity score: 0.17043122991276402\n"
     ]
    },
    {
     "name": "stderr",
     "output_type": "stream",
     "text": [
      "删除过期节点: 0节点 [00:00, ?节点/s]\n"
     ]
    },
    {
     "name": "stdout",
     "output_type": "stream",
     "text": [
      "Modularity score: 0.16476000955686332\n"
     ]
    },
    {
     "name": "stderr",
     "output_type": "stream",
     "text": [
      "删除过期节点: 0节点 [00:00, ?节点/s]\n"
     ]
    },
    {
     "name": "stdout",
     "output_type": "stream",
     "text": [
      "Modularity score: 0.15738334309656798\n"
     ]
    },
    {
     "name": "stderr",
     "output_type": "stream",
     "text": [
      "删除过期节点: 0节点 [00:00, ?节点/s]\n"
     ]
    },
    {
     "name": "stdout",
     "output_type": "stream",
     "text": [
      "Modularity score: 0.156780653312856\n"
     ]
    },
    {
     "name": "stderr",
     "output_type": "stream",
     "text": [
      "删除过期节点: 0节点 [00:00, ?节点/s]\n"
     ]
    },
    {
     "name": "stdout",
     "output_type": "stream",
     "text": [
      "Modularity score: 0.15617408279205458\n"
     ]
    },
    {
     "name": "stderr",
     "output_type": "stream",
     "text": [
      "删除过期节点: 0节点 [00:00, ?节点/s]\n"
     ]
    },
    {
     "name": "stdout",
     "output_type": "stream",
     "text": [
      "Modularity score: 0.14993595724932102\n"
     ]
    },
    {
     "name": "stderr",
     "output_type": "stream",
     "text": [
      "删除过期节点: 0节点 [00:00, ?节点/s]\n"
     ]
    },
    {
     "name": "stdout",
     "output_type": "stream",
     "text": [
      "Modularity score: 0.15844544095665172\n"
     ]
    },
    {
     "name": "stderr",
     "output_type": "stream",
     "text": [
      "删除过期节点: 0节点 [00:00, ?节点/s]\n"
     ]
    },
    {
     "name": "stdout",
     "output_type": "stream",
     "text": [
      "Modularity score: 0.16376706574249109\n",
      "已删除边：(1497645581145030912, 1.497730941409796e+18)  (时间差超过 30 天)\n",
      "已删除边：(1497645581145030912, 1.497730943502725e+18)  (时间差超过 30 天)\n",
      "已删除边：(1497645581145030912, 1.4977309424457933e+18)  (时间差超过 30 天)\n",
      "已删除边：(1497645581145030912, 1.4976091384777114e+18)  (时间差超过 30 天)\n",
      "已删除边：(1497645581145030912, 1.4977530255150408e+18)  (时间差超过 30 天)\n",
      "已删除边：(1497645581145030912, 1.497436263707644e+18)  (时间差超过 30 天)\n",
      "已删除边：(1497645581145030912, 1.4978857139748332e+18)  (时间差超过 30 天)\n"
     ]
    },
    {
     "name": "stderr",
     "output_type": "stream",
     "text": [
      "删除过期节点: 100%|██████████████████████████████████████████████████████████████████████████████████████████████████████████████████████████████████████████████| 8/8 [00:00<00:00, 23253.24节点/s]"
     ]
    },
    {
     "name": "stdout",
     "output_type": "stream",
     "text": [
      "已删除节点：1497645581145030912  (时间差超过 30 天)\n",
      "已删除节点：1.497730941409796e+18  (时间差超过 30 天)\n",
      "已删除节点：1.497730943502725e+18  (时间差超过 30 天)\n",
      "已删除节点：1.4977309424457933e+18  (时间差超过 30 天)\n",
      "已删除节点：1.4976091384777114e+18  (时间差超过 30 天)\n",
      "已删除节点：1.4977530255150408e+18  (时间差超过 30 天)\n",
      "已删除节点：1.497436263707644e+18  (时间差超过 30 天)\n",
      "已删除节点：1.4978857139748332e+18  (时间差超过 30 天)\n"
     ]
    },
    {
     "name": "stderr",
     "output_type": "stream",
     "text": [
      "\n"
     ]
    },
    {
     "name": "stdout",
     "output_type": "stream",
     "text": [
      "Modularity score: 0.18627450980392157\n"
     ]
    },
    {
     "name": "stderr",
     "output_type": "stream",
     "text": [
      "删除过期节点: 0节点 [00:00, ?节点/s]\n"
     ]
    },
    {
     "name": "stdout",
     "output_type": "stream",
     "text": [
      "Modularity score: 0.1853146853146853\n"
     ]
    },
    {
     "name": "stderr",
     "output_type": "stream",
     "text": [
      "删除过期节点: 0节点 [00:00, ?节点/s]\n"
     ]
    },
    {
     "name": "stdout",
     "output_type": "stream",
     "text": [
      "Modularity score: 0.1842105263157895\n"
     ]
    },
    {
     "name": "stderr",
     "output_type": "stream",
     "text": [
      "删除过期节点: 0节点 [00:00, ?节点/s]\n"
     ]
    },
    {
     "name": "stdout",
     "output_type": "stream",
     "text": [
      "Modularity score: 0.18409586056644878\n"
     ]
    },
    {
     "name": "stderr",
     "output_type": "stream",
     "text": [
      "删除过期节点: 0节点 [00:00, ?节点/s]\n"
     ]
    },
    {
     "name": "stdout",
     "output_type": "stream",
     "text": [
      "Modularity score: 0.23046307369828842\n"
     ]
    },
    {
     "name": "stderr",
     "output_type": "stream",
     "text": [
      "删除过期节点: 0节点 [00:00, ?节点/s]\n"
     ]
    },
    {
     "name": "stdout",
     "output_type": "stream",
     "text": [
      "Modularity score: 0.23277624732170182\n"
     ]
    },
    {
     "name": "stderr",
     "output_type": "stream",
     "text": [
      "删除过期节点: 0节点 [00:00, ?节点/s]\n"
     ]
    }
   ],
   "source": [
    "import os\n",
    "import pandas as pd\n",
    "import matplotlib.pyplot as plt\n",
    "import networkx as nx\n",
    "import datetime\n",
    "from sklearn.metrics.pairwise import cosine_similarity\n",
    "import matplotlib.pyplot as plt\n",
    "import re\n",
    "import numpy as np\n",
    "from sympy.abc import x\n",
    "from networkx.algorithms.community import greedy_modularity_communities, modularity\n",
    "from tqdm import tqdm\n",
    "from collections import deque\n",
    "\n",
    "import csv \n",
    "def is_valid_id(tweet_id):\n",
    "    # 检查推文ID是否是有效的（例如不为空，且是数字，或者是合理的ID范围）\n",
    "    if pd.isna(tweet_id) or tweet_id == \"\" or not isinstance(tweet_id, (int, float)):\n",
    "        return False\n",
    "    return True\n",
    "def main2():\n",
    "    # 创建有向图\n",
    "    G = nx.DiGraph()\n",
    "\n",
    "    # 读取数据并预处理\n",
    "    table = pd.read_csv(\"final_without_quotes.txt\", encoding='utf-8')\n",
    "    table = table.iloc[:, 1:]  # 移除第一列（索引列）\n",
    "\n",
    "    # 处理时间字段，删除无效或格式错误的记录\n",
    "    to_drop = []  # 用于存储需要删除的行索引\n",
    "    for i in range(len(table)):\n",
    "        try:\n",
    "            table.loc[i, 'raw_value.created_at'] = pd.to_datetime(table.loc[i, 'raw_value.created_at'])\n",
    "        except:\n",
    "            to_drop.append(i)\n",
    "        if isinstance(table.loc[i, 'raw_value.created_at'], datetime.datetime):\n",
    "            pass\n",
    "        else:\n",
    "            to_drop.append(i)\n",
    "\n",
    "        if table.loc[i, 'raw_value.created_at'].tzinfo is not None:\n",
    "            to_drop.append(i)\n",
    "\n",
    "    # 删除无效的行\n",
    "    table.drop(to_drop, inplace=True)\n",
    "    \n",
    "    table['raw_value.created_at'].sort_values(ascending=True)\n",
    "    table.to_csv(\"final_without_quotes.txt\", encoding='utf-8')\n",
    "    table.index = table['raw_value.created_at']\n",
    "\n",
    "    # 定义数据存储结构\n",
    "    users = {i: {} for i in set(table['raw_value.user_id_str'].values.tolist())}\n",
    "    makelist = {}\n",
    "    date_diff = 30  # 时间差阈值（30天）\n",
    "    output_dir = \"degree\"\n",
    "    edge_timestamps = deque()  # 双端队列缓存边的时间戳和对应的边\n",
    "    edge_lifetime = 30  # 边的生命周期 (天)\n",
    "    \n",
    "    # 用于批量存储index.csv中的数据\n",
    "    index_buffer = []  # 用于存储一段时间内的写入数据\n",
    "\n",
    "    # 按天处理数据\n",
    "    for w, w_t in table.resample('D'):  # 按天分组\n",
    "        if len(w_t) > 0:  # 如果本天有数据\n",
    "            for index, row in w_t.iterrows():\n",
    "                tweet_id = row['raw_value.id_str']  # 获取推文ID\n",
    "                # 判断推文是否存在交互关系\n",
    "                if row['raw_value.in_reply_to_status_id_str'] or row['raw_value.quoted_status_id_str']:\n",
    "                    this_data_datetime = row['raw_value.created_at']\n",
    "                    \n",
    "                    # 检查用户ID是否为空\n",
    "                    user_id = row['raw_value.user_id_str']\n",
    "                    if pd.isna(user_id) or user_id == \"\":\n",
    "                        continue  # 跳过没有有效用户ID的记录\n",
    "\n",
    "                    # 添加节点到图中\n",
    "                    G.add_node(tweet_id)  # 添加节点到图中\n",
    "\n",
    "                    # 遍历缓存中的推文，寻找交互关系\n",
    "                    for make_i in makelist.keys():\n",
    "                        diff = (this_data_datetime - makelist[make_i]['created_at']).days\n",
    "                        if diff < date_diff:  # 如果时间差在范围内\n",
    "                            # 回复关系\n",
    "                            if is_valid_id(row['raw_value.in_reply_to_status_id_str']):\n",
    "                                edge_timestamps.append((makelist[make_i]['id'], row['raw_value.in_reply_to_status_id_str'], this_data_datetime))\n",
    "                                G.add_edge(makelist[make_i]['id'], row['raw_value.in_reply_to_status_id_str'], weight=1, timestamp=this_data_datetime)\n",
    "\n",
    "                            if is_valid_id(row['raw_value.quoted_status_id_str']):\n",
    "                                edge_timestamps.append((makelist[make_i]['id'], row['raw_value.quoted_status_id_str'], this_data_datetime))\n",
    "                                G.add_edge(makelist[make_i]['id'], row['raw_value.quoted_status_id_str'], weight=1, timestamp=this_data_datetime)\n",
    "\n",
    "            if row['raw_value.user_id_str'] not in makelist:\n",
    "                makelist[row['raw_value.user_id_str']] = {\n",
    "                    'userid': row['raw_value.user_id_str'],\n",
    "                    'id': tweet_id,\n",
    "                    'text': row['raw_value.full_text'],\n",
    "                    'reply': row['raw_value.in_reply_to_status_id_str'],\n",
    "                    'quoted': row['raw_value.quoted_status_id_str'],\n",
    "                    'cleantext': row['raw_value.full_text'],\n",
    "                    'created_at': row['raw_value.created_at']\n",
    "                }\n",
    "\n",
    "            # 删除超过30天的边和节点\n",
    "            to_remove_edges = []\n",
    "            to_remove_nodes = set()  # 用于存储需要删除的节点\n",
    "\n",
    "            # 从双端队列中删除过期的边\n",
    "            while edge_timestamps and (w - edge_timestamps[0][2]).days > edge_lifetime:\n",
    "                edge_start, edge_end, timestamp = edge_timestamps.popleft()\n",
    "                if G.has_edge(edge_start, edge_end):\n",
    "                    G.remove_edge(edge_start, edge_end)\n",
    "                    to_remove_nodes.add(edge_start)\n",
    "                    to_remove_nodes.add(edge_end)\n",
    "                    print(f\"已删除边：{(edge_start, edge_end)}  (时间差超过 {date_diff} 天)\")\n",
    "\n",
    "            # 删除节点\n",
    "            for node in tqdm(to_remove_nodes, desc=\"删除过期节点\", unit=\"节点\"):\n",
    "                if G.has_node(node):\n",
    "                    G.remove_node(node)\n",
    "                    print(f\"已删除节点：{node}  (时间差超过 {date_diff} 天)\")\n",
    "\n",
    "\n",
    "\n",
    "            # 计算度分布并保存图片\n",
    "            if G.number_of_nodes() > 0:  # 确保图中有节点\n",
    "                d = dict(nx.degree(G))  # 计算每个节点的度\n",
    "                d_avg = sum(d.values()) / len(G.nodes)  # 计算平均度\n",
    "\n",
    "                # 获取所有的度值及其对应的概率\n",
    "                x = list(range(max(d.values()) + 1))\n",
    "                d_list = nx.degree_histogram(G)  # 获取每个度值出现的次数\n",
    "                y = np.array(d_list) / len(G)  # 计算每个度值的出现概率\n",
    "\n",
    "                # 绘制度分布图\n",
    "                plt.figure(figsize=(8, 6))\n",
    "                plt.plot(x, y, 'o-', label=f'Avg Degree: {d_avg:.2f}')\n",
    "                plt.xlabel('Degree')\n",
    "                plt.ylabel('Probability')\n",
    "                plt.title(f'Degree Distribution for Day {w.strftime(\"%Y-%m-%d\")}')\n",
    "                plt.legend()\n",
    "                plt.grid()\n",
    "\n",
    "                # 保存图片到文件夹\n",
    "                output_path = os.path.join(output_dir, f\"degree_{w.strftime('%Y-%m-%d')}.png\")\n",
    "                plt.savefig(output_path)\n",
    "\n",
    "            # After processing each day, output network metrics\n",
    "            if G.number_of_edges() > 0:\n",
    "                d = dict(nx.degree(G))\n",
    "                d = {node: (degree if not np.isnan(degree) else 0) for node, degree in d.items()}\n",
    "                d_avg = sum(d.values()) / len(G.nodes)\n",
    "\n",
    "                x = list(range(max(d.values()) + 1))\n",
    "                d_list = nx.degree_histogram(G)\n",
    "                y = np.array(d_list) / len(G)\n",
    "\n",
    "                # 检测社区并计算模块化程度\n",
    "                # 转换为无向图\n",
    "                undirected_G = G.to_undirected()\n",
    "\n",
    "                # 初始化模块化得分\n",
    "                modularity_score = 0  # 初始化确保modularity_score有值\n",
    "\n",
    "                # 检查图是否为空或没有边\n",
    "                if undirected_G.number_of_edges() == 0:\n",
    "                    print(\"Graph has no edges. Setting modularity to 0.\")\n",
    "                    modularity_score = 0\n",
    "                else:\n",
    "                    # 进行社区检测\n",
    "                    try:\n",
    "                        communities = list(greedy_modularity_communities(undirected_G))\n",
    "                        if communities:\n",
    "                            modularity_score = modularity(undirected_G, communities)\n",
    "                            print(f\"Modularity score: {modularity_score}\")\n",
    "                        else:\n",
    "                            print(\"No communities detected. Setting modularity to 0.\")\n",
    "                            modularity_score = 0\n",
    "                    except Exception as e:\n",
    "                        print(f\"Error during community detection: {e}\")\n",
    "                        modularity_score = 0\n",
    "            else:\n",
    "                print(\"Graph has no edges. Setting modularity to 0.\")\n",
    "                modularity_score = 0\n",
    "\n",
    "            q1 = G.number_of_nodes()\n",
    "            q2 = G.number_of_edges()\n",
    "            pagerank = nx.pagerank(G,alpha=0.85)\n",
    "            q3 = {node: round(pr, 5) for node, pr in pagerank.items()}\n",
    "\n",
    "            q6 = nx.degree_assortativity_coefficient(G)\n",
    "            q4 = modularity_score\n",
    "\t\t\t\n",
    "            # Store the current index information\n",
    "            index_buffer.append([str(w), str(q1), str(q2), q3])\n",
    "\n",
    "            # Write to CSV when buffer reaches a certain size (e.g., every 100 days)\n",
    "            if len(index_buffer) >= 100:\n",
    "                with open('index.csv', 'a', newline='', encoding='utf-8') as f:\n",
    "                    writer = csv.writer(f)\n",
    "                    if f.tell() == 0:  # Check if file is empty to write headers\n",
    "                        writer.writerow(['Time', 'Num_nodes', 'Num_edges', 'pagerank'])\n",
    "                    writer.writerows(index_buffer)\n",
    "                index_buffer.clear()  # Clear the buffer after writing\n",
    "\n",
    "    # Write any remaining data to the CSV file\n",
    "    if index_buffer:\n",
    "        with open('index.csv', 'a', newline='', encoding='utf-8') as f:\n",
    "            writer = csv.writer(f)\n",
    "            if f.tell() == 0:  # Check if file is empty to write headers\n",
    "                writer.writerow(['Time', 'Num_nodes', 'Num_edges', 'Pagerank'])\n",
    "            writer.writerows(index_buffer)\n",
    "\n",
    "            # Save adjacency matrix for the current week\n",
    "            timestamp_str = w.strftime(\"%Y-%m-%d\")\n",
    "            adjacency_matrix = nx.adjacency_matrix(G).todense()\n",
    "            pd.DataFrame(adjacency_matrix, index=G.nodes, columns=G.nodes).to_csv(f'G-{timestamp_str}.csv')\n",
    "\n",
    "    # Save final data to a text file\n",
    "    with open(\"normaldata2.txt\", \"w+\", encoding='utf-8') as f:\n",
    "        f.write(str(makelist))\n",
    "    # Save the final adjacency matrix\n",
    "    d = nx.adjacency_matrix(G).todense()\n",
    "    pd.DataFrame(d, index=G.nodes, columns=G.nodes).to_csv('G.csv')\n",
    "\n",
    "    return makelist\n",
    "\n",
    "\n",
    "if __name__ == '__main__':\n",
    "    print(datetime.datetime.now())\n",
    "    main2()\n",
    "\n"
   ]
  },
  {
   "cell_type": "code",
   "execution_count": null,
   "id": "42ce7089-4edf-430a-a435-6f4b1594b596",
   "metadata": {},
   "outputs": [],
   "source": []
  },
  {
   "cell_type": "code",
   "execution_count": 2,
   "id": "66e9b207-8bd9-4145-b7a9-e412ec616575",
   "metadata": {},
   "outputs": [
    {
     "name": "stdout",
     "output_type": "stream",
     "text": [
      "Node 2: PageRank = 0.13841678663093437\n",
      "Node 7: PageRank = 0.08294739946607776\n",
      "Node 1: PageRank = 0.05705564689443098\n",
      "Node 0: PageRank = 0.05300013764069898\n",
      "Node 8: PageRank = 0.04088849810394289\n",
      "Node 3: PageRank = 0.02975447096247579\n",
      "Node 16: PageRank = 0.017643495648369794\n",
      "Node 15: PageRank = 0.014240118374288983\n",
      "Node 230: PageRank = 0.008966013202718046\n",
      "Node 18: PageRank = 0.008804262938738408\n"
     ]
    },
    {
     "data": {
      "image/png": "[encoded data removed]",
      "text/plain": [
       "<Figure size 640x480 with 1 Axes>"
      ]
     },
     "metadata": {},
     "output_type": "display_data"
    }
   ],
   "source": [
    "import networkx as nx\n",
    "import matplotlib.pyplot as plt\n",
    "\n",
    "# 生成一个大规模的无标度图\n",
    "n = 1000  # 节点数量\n",
    "G = nx.scale_free_graph(n)\n",
    "\n",
    "# 计算 PageRank\n",
    "pagerank = nx.pagerank(G)\n",
    "\n",
    "# 输出前 10 个节点的 PageRank 值\n",
    "top_10_nodes = sorted(pagerank.items(), key=lambda item: item[1], reverse=True)[:10]\n",
    "for node, pr in top_10_nodes:\n",
    "    print(f\"Node {node}: PageRank = {pr}\")\n",
    "\n",
    "# 可视化 PageRank 值的分布\n",
    "plt.hist(pagerank.values(), bins=50)\n",
    "plt.xlabel('PageRank Value')\n",
    "plt.ylabel('Number of Nodes')\n",
    "plt.title('PageRank Distribution')\n",
    "plt.show()"
   ]
  },
  {
   "cell_type": "code",
   "execution_count": 5,
   "id": "72e8f3d9-12e7-4069-b54d-a9fea72aeb4d",
   "metadata": {},
   "outputs": [
    {
     "data": {
      "text/plain": [
       "{0: 0.0530001376,\n",
       " 1: 0.0570556469,\n",
       " 2: 0.1384167866,\n",
       " 3: 0.029754471,\n",
       " 4: 0.0003780005,\n",
       " 5: 0.0038455394,\n",
       " 6: 0.0046636158,\n",
       " 7: 0.0829473995,\n",
       " 8: 0.0408884981,\n",
       " 9: 0.0003780005,\n",
       " 10: 0.0060521324,\n",
       " 11: 0.0003780005,\n",
       " 12: 0.000859981,\n",
       " 13: 0.0013702203,\n",
       " 14: 0.0003780005,\n",
       " 15: 0.0142401184,\n",
       " 16: 0.0176434956,\n",
       " 17: 0.0017692033,\n",
       " 18: 0.0088042629,\n",
       " 19: 0.0003780005,\n",
       " 20: 0.0003780005,\n",
       " 21: 0.0003780005,\n",
       " 22: 0.005958222,\n",
       " 23: 0.0017057243,\n",
       " 24: 0.0003780005,\n",
       " 25: 0.0027174457,\n",
       " 26: 0.0013546015,\n",
       " 27: 0.0034557033,\n",
       " 28: 0.0003780005,\n",
       " 29: 0.0020944442,\n",
       " 30: 0.0003780005,\n",
       " 31: 0.0003780005,\n",
       " 32: 0.0012946759,\n",
       " 33: 0.0003780005,\n",
       " 34: 0.0003780005,\n",
       " 35: 0.0003780005,\n",
       " 36: 0.0028271717,\n",
       " 37: 0.0010170722,\n",
       " 38: 0.0003780005,\n",
       " 39: 0.0003780005,\n",
       " 40: 0.0003780005,\n",
       " 41: 0.0003780005,\n",
       " 42: 0.0013768198,\n",
       " 43: 0.0003780005,\n",
       " 44: 0.0003780005,\n",
       " 45: 0.0046869757,\n",
       " 46: 0.0011162048,\n",
       " 47: 0.0059228797,\n",
       " 48: 0.0003780005,\n",
       " 49: 0.0003780005,\n",
       " 50: 0.0037806747,\n",
       " 51: 0.0003780005,\n",
       " 52: 0.0013461397,\n",
       " 53: 0.0003780005,\n",
       " 54: 0.0003780005,\n",
       " 55: 0.0017976329,\n",
       " 56: 0.0048124596,\n",
       " 57: 0.0017865087,\n",
       " 58: 0.0003780005,\n",
       " 59: 0.0003780005,\n",
       " 60: 0.0003780005,\n",
       " 61: 0.0003780005,\n",
       " 62: 0.0003780005,\n",
       " 63: 0.0003780005,\n",
       " 64: 0.0019380338,\n",
       " 65: 0.0042670624,\n",
       " 66: 0.0005841053,\n",
       " 67: 0.0003780005,\n",
       " 68: 0.0003780005,\n",
       " 69: 0.0003780005,\n",
       " 70: 0.0004315539,\n",
       " 71: 0.0003780005,\n",
       " 72: 0.0007865169,\n",
       " 73: 0.0006993208,\n",
       " 74: 0.0003780005,\n",
       " 75: 0.0010579247,\n",
       " 76: 0.000560082,\n",
       " 77: 0.0003908533,\n",
       " 78: 0.0003780005,\n",
       " 79: 0.0016269923,\n",
       " 80: 0.0003780005,\n",
       " 81: 0.0010836301,\n",
       " 82: 0.0003780005,\n",
       " 83: 0.0003780005,\n",
       " 84: 0.0035068078,\n",
       " 85: 0.0029298427,\n",
       " 86: 0.0008244506,\n",
       " 87: 0.0003780005,\n",
       " 88: 0.0003780005,\n",
       " 89: 0.0008411236,\n",
       " 90: 0.0003780005,\n",
       " 91: 0.0003780005,\n",
       " 92: 0.0058860629,\n",
       " 93: 0.0016191684,\n",
       " 94: 0.0003780005,\n",
       " 95: 0.0006993208,\n",
       " 96: 0.0003780005,\n",
       " 97: 0.0003780005,\n",
       " 98: 0.0084644479,\n",
       " 99: 0.0003780005,\n",
       " 100: 0.0008016565,\n",
       " 101: 0.0003780005,\n",
       " 102: 0.0003780005,\n",
       " 103: 0.0003780005,\n",
       " 104: 0.0003780005,\n",
       " 105: 0.0003780005,\n",
       " 106: 0.0003780005,\n",
       " 107: 0.0003780005,\n",
       " 108: 0.0021558837,\n",
       " 109: 0.0003780005,\n",
       " 110: 0.0003780005,\n",
       " 111: 0.0003780005,\n",
       " 112: 0.0003780005,\n",
       " 113: 0.0022858738,\n",
       " 114: 0.0003780005,\n",
       " 115: 0.0003780005,\n",
       " 116: 0.0010206411,\n",
       " 117: 0.0004583306,\n",
       " 118: 0.0003780005,\n",
       " 119: 0.0003780005,\n",
       " 120: 0.0003969017,\n",
       " 121: 0.0004851073,\n",
       " 122: 0.0003780005,\n",
       " 123: 0.0004169492,\n",
       " 124: 0.0003780005,\n",
       " 125: 0.0008818863,\n",
       " 126: 0.0006993208,\n",
       " 127: 0.0018971487,\n",
       " 128: 0.0003780005,\n",
       " 129: 0.0003780005,\n",
       " 130: 0.0003780005,\n",
       " 131: 0.0009191919,\n",
       " 132: 0.0003780005,\n",
       " 133: 0.0003780005,\n",
       " 134: 0.0003780005,\n",
       " 135: 0.0015187418,\n",
       " 136: 0.0006189907,\n",
       " 137: 0.0012348546,\n",
       " 138: 0.0003780005,\n",
       " 139: 0.0003780005,\n",
       " 140: 0.0003780005,\n",
       " 141: 0.0003780005,\n",
       " 142: 0.0010212805,\n",
       " 143: 0.0003780005,\n",
       " 144: 0.0003780005,\n",
       " 145: 0.0003780005,\n",
       " 146: 0.0003780005,\n",
       " 147: 0.0003780005,\n",
       " 148: 0.0003780005,\n",
       " 149: 0.0003780005,\n",
       " 150: 0.0023954028,\n",
       " 151: 0.0011160777,\n",
       " 152: 0.0015133322,\n",
       " 153: 0.0003780005,\n",
       " 154: 0.0003780005,\n",
       " 155: 0.0003780005,\n",
       " 156: 0.0007796509,\n",
       " 157: 0.0003780005,\n",
       " 158: 0.0003780005,\n",
       " 159: 0.0003780005,\n",
       " 160: 0.0003780005,\n",
       " 161: 0.0003780005,\n",
       " 162: 0.0003780005,\n",
       " 163: 0.0004027175,\n",
       " 164: 0.0003780005,\n",
       " 165: 0.0003780005,\n",
       " 166: 0.0003780005,\n",
       " 167: 0.0003780005,\n",
       " 168: 0.0005386607,\n",
       " 169: 0.0006993208,\n",
       " 170: 0.0013363056,\n",
       " 171: 0.0068154559,\n",
       " 172: 0.0003780005,\n",
       " 173: 0.0006993208,\n",
       " 174: 0.0025469667,\n",
       " 175: 0.0006993208,\n",
       " 176: 0.0003780005,\n",
       " 177: 0.0003780005,\n",
       " 178: 0.0004583306,\n",
       " 179: 0.0003780005,\n",
       " 180: 0.0003780005,\n",
       " 181: 0.0005841053,\n",
       " 182: 0.0003780005,\n",
       " 183: 0.0004301664,\n",
       " 184: 0.0003780005,\n",
       " 185: 0.0004851073,\n",
       " 186: 0.0003780005,\n",
       " 187: 0.0004583306,\n",
       " 188: 0.0003780005,\n",
       " 189: 0.0003780005,\n",
       " 190: 0.0049440319,\n",
       " 191: 0.0017329553,\n",
       " 192: 0.0008272973,\n",
       " 193: 0.0003780005,\n",
       " 194: 0.0003780005,\n",
       " 195: 0.0003780005,\n",
       " 196: 0.0003780005,\n",
       " 197: 0.0003780005,\n",
       " 198: 0.0003780005,\n",
       " 199: 0.0011974215,\n",
       " 200: 0.0003780005,\n",
       " 201: 0.0003780005,\n",
       " 202: 0.000804093,\n",
       " 203: 0.0003780005,\n",
       " 204: 0.0003780005,\n",
       " 205: 0.0003780005,\n",
       " 206: 0.0003780005,\n",
       " 207: 0.0003780005,\n",
       " 208: 0.0003780005,\n",
       " 209: 0.0003780005,\n",
       " 210: 0.0003780005,\n",
       " 211: 0.0003780005,\n",
       " 212: 0.0006993208,\n",
       " 213: 0.0010808887,\n",
       " 214: 0.0005666902,\n",
       " 215: 0.0003780005,\n",
       " 216: 0.0003780005,\n",
       " 217: 0.0003780005,\n",
       " 218: 0.0003780005,\n",
       " 219: 0.0003780005,\n",
       " 220: 0.0003780005,\n",
       " 221: 0.001312393,\n",
       " 222: 0.0003780005,\n",
       " 223: 0.0003780005,\n",
       " 224: 0.0006323449,\n",
       " 225: 0.0003780005,\n",
       " 226: 0.0003780005,\n",
       " 227: 0.000859981,\n",
       " 228: 0.0003780005,\n",
       " 229: 0.0019153886,\n",
       " 230: 0.0089660132,\n",
       " 231: 0.0005032148,\n",
       " 232: 0.0003780005,\n",
       " 233: 0.0003780005,\n",
       " 234: 0.0008064276,\n",
       " 235: 0.0010813966,\n",
       " 236: 0.0003780005,\n",
       " 237: 0.0003780005,\n",
       " 238: 0.0003780005,\n",
       " 239: 0.0003780005,\n",
       " 240: 0.0006029247,\n",
       " 241: 0.0003780005,\n",
       " 242: 0.0003780005,\n",
       " 243: 0.0003780005,\n",
       " 244: 0.0003780005,\n",
       " 245: 0.0003780005,\n",
       " 246: 0.0003780005,\n",
       " 247: 0.0012339026,\n",
       " 248: 0.0007382695,\n",
       " 249: 0.001170967,\n",
       " 250: 0.0003780005,\n",
       " 251: 0.0003780005,\n",
       " 252: 0.0003780005,\n",
       " 253: 0.0003780005,\n",
       " 254: 0.0003780005,\n",
       " 255: 0.0003780005,\n",
       " 256: 0.0003780005,\n",
       " 257: 0.0003780005,\n",
       " 258: 0.0006993208,\n",
       " 259: 0.0003780005,\n",
       " 260: 0.0003780005,\n",
       " 261: 0.0003780005,\n",
       " 262: 0.0003780005,\n",
       " 263: 0.0003780005,\n",
       " 264: 0.0003780005,\n",
       " 265: 0.0003780005,\n",
       " 266: 0.0014643944,\n",
       " 267: 0.0003780005,\n",
       " 268: 0.0003780005,\n",
       " 269: 0.0007207422,\n",
       " 270: 0.0003780005,\n",
       " 271: 0.0003780005,\n",
       " 272: 0.0003780005,\n",
       " 273: 0.0005040085,\n",
       " 274: 0.0049387973,\n",
       " 275: 0.0003780005,\n",
       " 276: 0.0003780005,\n",
       " 277: 0.0003780005,\n",
       " 278: 0.0004047772,\n",
       " 279: 0.0003780005,\n",
       " 280: 0.0003780005,\n",
       " 281: 0.0003780005,\n",
       " 282: 0.0004583306,\n",
       " 283: 0.0003780005,\n",
       " 284: 0.0007609307,\n",
       " 285: 0.0003780005,\n",
       " 286: 0.0003780005,\n",
       " 287: 0.0003780005,\n",
       " 288: 0.0003780005,\n",
       " 289: 0.0003780005,\n",
       " 290: 0.0003780005,\n",
       " 291: 0.0003780005,\n",
       " 292: 0.0004851073,\n",
       " 293: 0.0003780005,\n",
       " 294: 0.000436019,\n",
       " 295: 0.0007796509,\n",
       " 296: 0.0003780005,\n",
       " 297: 0.0003780005,\n",
       " 298: 0.0003780005,\n",
       " 299: 0.0003780005,\n",
       " 300: 0.0003780005,\n",
       " 301: 0.0003780005,\n",
       " 302: 0.0003780005,\n",
       " 303: 0.0003780005,\n",
       " 304: 0.0003780005,\n",
       " 305: 0.0003780005,\n",
       " 306: 0.0005654374,\n",
       " 307: 0.0003780005,\n",
       " 308: 0.0003780005,\n",
       " 309: 0.0011277479,\n",
       " 310: 0.0003780005,\n",
       " 311: 0.0003780005,\n",
       " 312: 0.0003780005,\n",
       " 313: 0.0003780005,\n",
       " 314: 0.0003780005,\n",
       " 315: 0.0003780005,\n",
       " 316: 0.0003780005,\n",
       " 317: 0.0006901209,\n",
       " 318: 0.0003780005,\n",
       " 319: 0.0003780005,\n",
       " 320: 0.0003780005,\n",
       " 321: 0.0003780005,\n",
       " 322: 0.0003780005,\n",
       " 323: 0.0003780005,\n",
       " 324: 0.0004651966,\n",
       " 325: 0.0003780005,\n",
       " 326: 0.0003780005,\n",
       " 327: 0.0020282903,\n",
       " 328: 0.0004422646,\n",
       " 329: 0.0003780005,\n",
       " 330: 0.0003780005,\n",
       " 331: 0.0003780005,\n",
       " 332: 0.0003780005,\n",
       " 333: 0.0003780005,\n",
       " 334: 0.0003780005,\n",
       " 335: 0.0003780005,\n",
       " 336: 0.0003780005,\n",
       " 337: 0.0003780005,\n",
       " 338: 0.0006993208,\n",
       " 339: 0.0003780005,\n",
       " 340: 0.0003780005,\n",
       " 341: 0.0003780005,\n",
       " 342: 0.0003780005,\n",
       " 343: 0.0003780005,\n",
       " 344: 0.0003780005,\n",
       " 345: 0.0011361239,\n",
       " 346: 0.0003780005,\n",
       " 347: 0.0003780005,\n",
       " 348: 0.0003780005,\n",
       " 349: 0.0003780005,\n",
       " 350: 0.0003780005,\n",
       " 351: 0.0003780005,\n",
       " 352: 0.0004728874,\n",
       " 353: 0.0003780005,\n",
       " 354: 0.0003780005,\n",
       " 355: 0.0003780005,\n",
       " 356: 0.0003780005,\n",
       " 357: 0.0003780005,\n",
       " 358: 0.0003780005,\n",
       " 359: 0.0004851073,\n",
       " 360: 0.0003780005,\n",
       " 361: 0.0003780005,\n",
       " 362: 0.0003780005,\n",
       " 363: 0.0008641061,\n",
       " 364: 0.0003780005,\n",
       " 365: 0.0003780005,\n",
       " 366: 0.0003780005,\n",
       " 367: 0.0003780005,\n",
       " 368: 0.0003780005,\n",
       " 369: 0.0003780005,\n",
       " 370: 0.0003780005,\n",
       " 371: 0.0003780005,\n",
       " 372: 0.0003780005,\n",
       " 373: 0.0003780005,\n",
       " 374: 0.0009918047,\n",
       " 375: 0.0003780005,\n",
       " 376: 0.0003780005,\n",
       " 377: 0.0007335867,\n",
       " 378: 0.0003780005,\n",
       " 379: 0.0003780005,\n",
       " 380: 0.0003780005,\n",
       " 381: 0.0003780005,\n",
       " 382: 0.0013807016,\n",
       " 383: 0.0003780005,\n",
       " 384: 0.0003780005,\n",
       " 385: 0.0003780005,\n",
       " 386: 0.0003780005,\n",
       " 387: 0.0003780005,\n",
       " 388: 0.0003849857,\n",
       " 389: 0.0003780005,\n",
       " 390: 0.0003780005,\n",
       " 391: 0.0004583306,\n",
       " 392: 0.0003780005,\n",
       " 393: 0.0003780005,\n",
       " 394: 0.0003780005,\n",
       " 395: 0.0003780005,\n",
       " 396: 0.0003780005,\n",
       " 397: 0.0003780005,\n",
       " 398: 0.0003780005,\n",
       " 399: 0.0003780005,\n",
       " 400: 0.0003780005,\n",
       " 401: 0.0003780005,\n",
       " 402: 0.0003780005,\n",
       " 403: 0.0003780005,\n",
       " 404: 0.0007978492,\n",
       " 405: 0.0003780005,\n",
       " 406: 0.0003780005,\n",
       " 407: 0.0003780005,\n",
       " 408: 0.0003780005,\n",
       " 409: 0.0003780005,\n",
       " 410: 0.0003780005,\n",
       " 411: 0.0003780005,\n",
       " 412: 0.0014315766,\n",
       " 413: 0.0003780005,\n",
       " 414: 0.0003780005,\n",
       " 415: 0.0003780005,\n",
       " 416: 0.0003780005,\n",
       " 417: 0.0003813131,\n",
       " 418: 0.0003780005,\n",
       " 419: 0.0003780005,\n",
       " 420: 0.0003780005,\n",
       " 421: 0.0003780005,\n",
       " 422: 0.0003780005,\n",
       " 423: 0.0006993208,\n",
       " 424: 0.0003780005,\n",
       " 425: 0.0003780005,\n",
       " 426: 0.0003780005,\n",
       " 427: 0.0003780005,\n",
       " 428: 0.0003780005,\n",
       " 429: 0.0003780005,\n",
       " 430: 0.0003780005,\n",
       " 431: 0.0003780005,\n",
       " 432: 0.0003780005,\n",
       " 433: 0.0003780005,\n",
       " 434: 0.0003780005,\n",
       " 435: 0.0003780005,\n",
       " 436: 0.0003780005,\n",
       " 437: 0.0003780005,\n",
       " 438: 0.0003780005,\n",
       " 439: 0.0003780005,\n",
       " 440: 0.0003780005,\n",
       " 441: 0.0004651966,\n",
       " 442: 0.0004422646,\n",
       " 443: 0.0003780005,\n",
       " 444: 0.0003780005,\n",
       " 445: 0.0010206411,\n",
       " 446: 0.0003780005,\n",
       " 447: 0.0003780005,\n",
       " 448: 0.0003780005,\n",
       " 449: 0.0003780005,\n",
       " 450: 0.0003780005,\n",
       " 451: 0.0003780005,\n",
       " 452: 0.0003780005,\n",
       " 453: 0.0003780005,\n",
       " 454: 0.0003780005,\n",
       " 455: 0.0003780005,\n",
       " 456: 0.0003780005,\n",
       " 457: 0.0003780005,\n",
       " 458: 0.0004422646,\n",
       " 459: 0.0003780005,\n",
       " 460: 0.0003780005,\n",
       " 461: 0.0003780005,\n",
       " 462: 0.0009326648,\n",
       " 463: 0.0003780005,\n",
       " 464: 0.0005386607,\n",
       " 465: 0.0017175036,\n",
       " 466: 0.0003780005,\n",
       " 467: 0.0003780005,\n",
       " 468: 0.0003780005,\n",
       " 469: 0.0003780005,\n",
       " 470: 0.0003780005,\n",
       " 471: 0.0003780005,\n",
       " 472: 0.0011974215,\n",
       " 473: 0.0003780005,\n",
       " 474: 0.0009135343,\n",
       " 475: 0.0003780005,\n",
       " 476: 0.0004851073,\n",
       " 477: 0.0020057525,\n",
       " 478: 0.0004301664,\n",
       " 479: 0.0008064276,\n",
       " 480: 0.0003780005,\n",
       " 481: 0.0003780005,\n",
       " 482: 0.0003780005,\n",
       " 483: 0.0003780005,\n",
       " 484: 0.0003780005,\n",
       " 485: 0.0003780005,\n",
       " 486: 0.0003780005,\n",
       " 487: 0.000592214,\n",
       " 488: 0.0003780005,\n",
       " 489: 0.0003780005,\n",
       " 490: 0.0003849857,\n",
       " 491: 0.0003780005,\n",
       " 492: 0.0003780005,\n",
       " 493: 0.0009719885,\n",
       " 494: 0.0003780005,\n",
       " 495: 0.0003780005,\n",
       " 496: 0.0003780005,\n",
       " 497: 0.0003780005,\n",
       " 498: 0.0021170257,\n",
       " 499: 0.0003780005,\n",
       " 500: 0.0003780005,\n",
       " 501: 0.0003780005,\n",
       " 502: 0.0003780005,\n",
       " 503: 0.0003780005,\n",
       " 504: 0.0003780005,\n",
       " 505: 0.0003780005,\n",
       " 506: 0.0003780005,\n",
       " 507: 0.0008766649,\n",
       " 508: 0.0003780005,\n",
       " 509: 0.0003780005,\n",
       " 510: 0.0003780005,\n",
       " 511: 0.0003780005,\n",
       " 512: 0.0003780005,\n",
       " 513: 0.0003780005,\n",
       " 514: 0.0003780005,\n",
       " 515: 0.0004315539,\n",
       " 516: 0.0003780005,\n",
       " 517: 0.0003780005,\n",
       " 518: 0.0003780005,\n",
       " 519: 0.0003780005,\n",
       " 520: 0.0003780005,\n",
       " 521: 0.0003780005,\n",
       " 522: 0.0003780005,\n",
       " 523: 0.0003780005,\n",
       " 524: 0.0003780005,\n",
       " 525: 0.0003780005,\n",
       " 526: 0.0009452853,\n",
       " 527: 0.0003780005,\n",
       " 528: 0.0003780005,\n",
       " 529: 0.0005427858,\n",
       " 530: 0.0003780005,\n",
       " 531: 0.0003780005,\n",
       " 532: 0.0003780005,\n",
       " 533: 0.0006993208,\n",
       " 534: 0.0003780005,\n",
       " 535: 0.000940311,\n",
       " 536: 0.0025328744,\n",
       " 537: 0.0003780005,\n",
       " 538: 0.0003780005,\n",
       " 539: 0.0003780005,\n",
       " 540: 0.0004851073,\n",
       " 541: 0.0003780005,\n",
       " 542: 0.0003780005,\n",
       " 543: 0.0003780005,\n",
       " 544: 0.0003780005,\n",
       " 545: 0.0003780005,\n",
       " 546: 0.0003780005,\n",
       " 547: 0.0003780005,\n",
       " 548: 0.0011298597,\n",
       " 549: 0.0003780005,\n",
       " 550: 0.0003780005,\n",
       " 551: 0.0003780005,\n",
       " 552: 0.0003780005,\n",
       " 553: 0.0003780005,\n",
       " 554: 0.0003780005,\n",
       " 555: 0.0008234187,\n",
       " 556: 0.0006993208,\n",
       " 557: 0.0003780005,\n",
       " 558: 0.0003780005,\n",
       " 559: 0.0003780005,\n",
       " 560: 0.0003780005,\n",
       " 561: 0.0003780005,\n",
       " 562: 0.0003780005,\n",
       " 563: 0.0003780005,\n",
       " 564: 0.0003780005,\n",
       " 565: 0.0003780005,\n",
       " 566: 0.0003780005,\n",
       " 567: 0.0003780005,\n",
       " 568: 0.0003780005,\n",
       " 569: 0.0003780005,\n",
       " 570: 0.0003780005,\n",
       " 571: 0.0003780005,\n",
       " 572: 0.0003780005,\n",
       " 573: 0.0003780005,\n",
       " 574: 0.0003780005,\n",
       " 575: 0.0003780005,\n",
       " 576: 0.0005386607,\n",
       " 577: 0.0003780005,\n",
       " 578: 0.0003780005,\n",
       " 579: 0.0003780005,\n",
       " 580: 0.0003780005,\n",
       " 581: 0.0003780005,\n",
       " 582: 0.0003780005,\n",
       " 583: 0.0003780005,\n",
       " 584: 0.0003780005,\n",
       " 585: 0.0004583306,\n",
       " 586: 0.0003780005,\n",
       " 587: 0.0003780005,\n",
       " 588: 0.000398083,\n",
       " 589: 0.0003780005,\n",
       " 590: 0.0003780005,\n",
       " 591: 0.0003780005,\n",
       " 592: 0.0003780005,\n",
       " 593: 0.0003780005,\n",
       " 594: 0.0003780005,\n",
       " 595: 0.0003780005,\n",
       " 596: 0.0004651966,\n",
       " 597: 0.0003780005,\n",
       " 598: 0.0006993208,\n",
       " 599: 0.0003780005,\n",
       " 600: 0.0003780005,\n",
       " 601: 0.0003780005,\n",
       " 602: 0.0003780005,\n",
       " 603: 0.0003780005,\n",
       " 604: 0.0003780005,\n",
       " 605: 0.0003780005,\n",
       " 606: 0.0003780005,\n",
       " 607: 0.0003780005,\n",
       " 608: 0.0003780005,\n",
       " 609: 0.0003780005,\n",
       " 610: 0.0003780005,\n",
       " 611: 0.0003780005,\n",
       " 612: 0.0003780005,\n",
       " 613: 0.0003780005,\n",
       " 614: 0.0003780005,\n",
       " 615: 0.0003780005,\n",
       " 616: 0.0003780005,\n",
       " 617: 0.0003780005,\n",
       " 618: 0.0003780005,\n",
       " 619: 0.0003780005,\n",
       " 620: 0.0003780005,\n",
       " 621: 0.0003780005,\n",
       " 622: 0.0003780005,\n",
       " 623: 0.0003780005,\n",
       " 624: 0.0003780005,\n",
       " 625: 0.0003780005,\n",
       " 626: 0.0003780005,\n",
       " 627: 0.0003780005,\n",
       " 628: 0.0003780005,\n",
       " 629: 0.0008245351,\n",
       " 630: 0.0003780005,\n",
       " 631: 0.0003780005,\n",
       " 632: 0.0007382695,\n",
       " 633: 0.0003780005,\n",
       " 634: 0.0003780005,\n",
       " 635: 0.0003780005,\n",
       " 636: 0.0003780005,\n",
       " 637: 0.0003780005,\n",
       " 638: 0.0003780005,\n",
       " 639: 0.0003780005,\n",
       " 640: 0.0003780005,\n",
       " 641: 0.0003780005,\n",
       " 642: 0.0003780005,\n",
       " 643: 0.0003780005,\n",
       " 644: 0.0003780005,\n",
       " 645: 0.0003780005,\n",
       " 646: 0.0003780005,\n",
       " 647: 0.0003780005,\n",
       " 648: 0.0003780005,\n",
       " 649: 0.0003780005,\n",
       " 650: 0.0003780005,\n",
       " 651: 0.0003780005,\n",
       " 652: 0.0007635849,\n",
       " 653: 0.0003780005,\n",
       " 654: 0.0003780005,\n",
       " 655: 0.0003780005,\n",
       " 656: 0.0006993208,\n",
       " 657: 0.0003780005,\n",
       " 658: 0.0003780005,\n",
       " 659: 0.0003780005,\n",
       " 660: 0.0003780005,\n",
       " 661: 0.0003780005,\n",
       " 662: 0.0003780005,\n",
       " 663: 0.0003780005,\n",
       " 664: 0.0005386607,\n",
       " 665: 0.0003780005,\n",
       " 666: 0.0003780005,\n",
       " 667: 0.0003780005,\n",
       " 668: 0.0003780005,\n",
       " 669: 0.0011974215,\n",
       " 670: 0.0011458554,\n",
       " 671: 0.0003780005,\n",
       " 672: 0.0003780005,\n",
       " 673: 0.0004851073,\n",
       " 674: 0.0003780005,\n",
       " 675: 0.0003780005,\n",
       " 676: 0.0003780005,\n",
       " 677: 0.0003780005,\n",
       " 678: 0.0003780005,\n",
       " 679: 0.0003780005,\n",
       " 680: 0.0004583306,\n",
       " 681: 0.0005386607,\n",
       " 682: 0.0003780005,\n",
       " 683: 0.0003780005,\n",
       " 684: 0.0003780005,\n",
       " 685: 0.0003780005,\n",
       " 686: 0.0003780005,\n",
       " 687: 0.0004422646,\n",
       " 688: 0.0004851073,\n",
       " 689: 0.0003780005,\n",
       " 690: 0.0003780005,\n",
       " 691: 0.0003780005,\n",
       " 692: 0.0003780005,\n",
       " 693: 0.0003780005,\n",
       " 694: 0.0005386607,\n",
       " 695: 0.0004851073,\n",
       " 696: 0.0003780005,\n",
       " 697: 0.0003780005,\n",
       " 698: 0.0005386607,\n",
       " 699: 0.0004780335,\n",
       " 700: 0.0003780005,\n",
       " 701: 0.0003780005,\n",
       " 702: 0.0003780005,\n",
       " 703: 0.0003780005,\n",
       " 704: 0.0003780005,\n",
       " 705: 0.0003780005,\n",
       " 706: 0.0003780005,\n",
       " 707: 0.0006993208,\n",
       " 708: 0.0003780005,\n",
       " 709: 0.0003780005,\n",
       " 710: 0.0003780005,\n",
       " 711: 0.0003780005,\n",
       " 712: 0.0003780005,\n",
       " 713: 0.0003780005,\n",
       " 714: 0.0003780005,\n",
       " 715: 0.0009125823,\n",
       " 716: 0.0004027175,\n",
       " 717: 0.0003780005,\n",
       " 718: 0.0003780005,\n",
       " 719: 0.0003780005,\n",
       " 720: 0.0003780005,\n",
       " 721: 0.0003780005,\n",
       " 722: 0.0003780005,\n",
       " 723: 0.0003780005,\n",
       " 724: 0.0003780005,\n",
       " 725: 0.0004851073,\n",
       " 726: 0.0005633776,\n",
       " 727: 0.0004072115,\n",
       " 728: 0.0004651966,\n",
       " 729: 0.0003780005,\n",
       " 730: 0.0003780005,\n",
       " 731: 0.0003780005,\n",
       " 732: 0.0003780005,\n",
       " 733: 0.0003780005,\n",
       " 734: 0.0003780005,\n",
       " 735: 0.0003780005,\n",
       " 736: 0.0003780005,\n",
       " 737: 0.0003780005,\n",
       " 738: 0.0003780005,\n",
       " 739: 0.000859981,\n",
       " 740: 0.0003780005,\n",
       " 741: 0.0006993208,\n",
       " 742: 0.0003780005,\n",
       " 743: 0.0003780005,\n",
       " 744: 0.0003780005,\n",
       " 745: 0.0006993208,\n",
       " 746: 0.0003780005,\n",
       " 747: 0.0003780005,\n",
       " 748: 0.0003780005,\n",
       " 749: 0.0003780005,\n",
       " 750: 0.0003780005,\n",
       " 751: 0.0004851073,\n",
       " 752: 0.0003780005,\n",
       " 753: 0.0006993208,\n",
       " 754: 0.0003780005,\n",
       " 755: 0.0003780005,\n",
       " 756: 0.0003780005,\n",
       " 757: 0.0003780005,\n",
       " 758: 0.0003780005,\n",
       " 759: 0.0003780005,\n",
       " 760: 0.0004851073,\n",
       " 761: 0.0003780005,\n",
       " 762: 0.0003908533,\n",
       " 763: 0.0003780005,\n",
       " 764: 0.0004422646,\n",
       " 765: 0.0003780005,\n",
       " 766: 0.0003780005,\n",
       " 767: 0.0003780005,\n",
       " 768: 0.0004315539,\n",
       " 769: 0.0003780005,\n",
       " 770: 0.0003780005,\n",
       " 771: 0.0003780005,\n",
       " 772: 0.0003780005,\n",
       " 773: 0.0003780005,\n",
       " 774: 0.0003780005,\n",
       " 775: 0.0003780005,\n",
       " 776: 0.0003780005,\n",
       " 777: 0.0003780005,\n",
       " 778: 0.0003780005,\n",
       " 779: 0.0003780005,\n",
       " 780: 0.0003780005,\n",
       " 781: 0.0003780005,\n",
       " 782: 0.0003780005,\n",
       " 783: 0.0003780005,\n",
       " 784: 0.0003780005,\n",
       " 785: 0.0003780005,\n",
       " 786: 0.0003780005,\n",
       " 787: 0.0003780005,\n",
       " 788: 0.0005386607,\n",
       " 789: 0.0003780005,\n",
       " 790: 0.0003780005,\n",
       " 791: 0.0004239034,\n",
       " 792: 0.0003780005,\n",
       " 793: 0.0003780005,\n",
       " 794: 0.0003780005,\n",
       " 795: 0.0003780005,\n",
       " 796: 0.0005386607,\n",
       " 797: 0.0003780005,\n",
       " 798: 0.0005386607,\n",
       " 799: 0.0003780005,\n",
       " 800: 0.0003780005,\n",
       " 801: 0.0003780005,\n",
       " 802: 0.0003780005,\n",
       " 803: 0.0003780005,\n",
       " 804: 0.0003780005,\n",
       " 805: 0.0003780005,\n",
       " 806: 0.0003780005,\n",
       " 807: 0.0003780005,\n",
       " 808: 0.0003780005,\n",
       " 809: 0.0003780005,\n",
       " 810: 0.0003780005,\n",
       " 811: 0.0003780005,\n",
       " 812: 0.0003780005,\n",
       " 813: 0.0003780005,\n",
       " 814: 0.0011974215,\n",
       " 815: 0.0003780005,\n",
       " 816: 0.0003780005,\n",
       " 817: 0.0003849857,\n",
       " 818: 0.0003780005,\n",
       " 819: 0.0003780005,\n",
       " 820: 0.0003780005,\n",
       " 821: 0.0003780005,\n",
       " 822: 0.0003780005,\n",
       " 823: 0.0003780005,\n",
       " 824: 0.0003780005,\n",
       " 825: 0.0004851073,\n",
       " 826: 0.0003780005,\n",
       " 827: 0.0003780005,\n",
       " 828: 0.0003780005,\n",
       " 829: 0.0003780005,\n",
       " 830: 0.0003780005,\n",
       " 831: 0.0003780005,\n",
       " 832: 0.0003780005,\n",
       " 833: 0.0003780005,\n",
       " 834: 0.0003780005,\n",
       " 835: 0.0003780005,\n",
       " 836: 0.0003780005,\n",
       " 837: 0.0003780005,\n",
       " 838: 0.0003780005,\n",
       " 839: 0.0004651966,\n",
       " 840: 0.0003780005,\n",
       " 841: 0.0003780005,\n",
       " 842: 0.0003780005,\n",
       " 843: 0.0004851073,\n",
       " 844: 0.0003780005,\n",
       " 845: 0.0003780005,\n",
       " 846: 0.0003780005,\n",
       " 847: 0.0003780005,\n",
       " 848: 0.0003780005,\n",
       " 849: 0.0003780005,\n",
       " 850: 0.0003780005,\n",
       " 851: 0.0005386607,\n",
       " 852: 0.0003780005,\n",
       " 853: 0.0003780005,\n",
       " 854: 0.0003780005,\n",
       " 855: 0.0003780005,\n",
       " 856: 0.0003780005,\n",
       " 857: 0.0004851073,\n",
       " 858: 0.0003780005,\n",
       " 859: 0.0003780005,\n",
       " 860: 0.0003780005,\n",
       " 861: 0.0003780005,\n",
       " 862: 0.0003780005,\n",
       " 863: 0.0003780005,\n",
       " 864: 0.0003780005,\n",
       " 865: 0.0003780005,\n",
       " 866: 0.0003780005,\n",
       " 867: 0.0003780005,\n",
       " 868: 0.0004851073,\n",
       " 869: 0.0003780005,\n",
       " 870: 0.0003780005,\n",
       " 871: 0.0003780005,\n",
       " 872: 0.0003780005,\n",
       " 873: 0.0003780005,\n",
       " 874: 0.0003780005,\n",
       " 875: 0.0003780005,\n",
       " 876: 0.0003780005,\n",
       " 877: 0.0003780005,\n",
       " 878: 0.0003780005,\n",
       " 879: 0.0003780005,\n",
       " 880: 0.0003780005,\n",
       " 881: 0.0003780005,\n",
       " 882: 0.0003780005,\n",
       " 883: 0.0003908533,\n",
       " 884: 0.0004422646,\n",
       " 885: 0.0003780005,\n",
       " 886: 0.0003780005,\n",
       " 887: 0.0005386607,\n",
       " 888: 0.0004728874,\n",
       " 889: 0.0003780005,\n",
       " 890: 0.0003780005,\n",
       " 891: 0.0003780005,\n",
       " 892: 0.0003780005,\n",
       " 893: 0.0003780005,\n",
       " 894: 0.0004422646,\n",
       " 895: 0.0003780005,\n",
       " 896: 0.0003780005,\n",
       " 897: 0.0003780005,\n",
       " 898: 0.0003780005,\n",
       " 899: 0.0003780005,\n",
       " 900: 0.0003780005,\n",
       " 901: 0.0003780005,\n",
       " 902: 0.0003780005,\n",
       " 903: 0.0003780005,\n",
       " 904: 0.0003780005,\n",
       " 905: 0.0003780005,\n",
       " 906: 0.0003780005,\n",
       " 907: 0.0003780005,\n",
       " 908: 0.0003780005,\n",
       " 909: 0.0003780005,\n",
       " 910: 0.0003780005,\n",
       " 911: 0.0003780005,\n",
       " 912: 0.0003780005,\n",
       " 913: 0.0003780005,\n",
       " 914: 0.0003780005,\n",
       " 915: 0.0003780005,\n",
       " 916: 0.0003849857,\n",
       " 917: 0.0003780005,\n",
       " 918: 0.0003780005,\n",
       " 919: 0.0003780005,\n",
       " 920: 0.0003780005,\n",
       " 921: 0.0003780005,\n",
       " 922: 0.0003780005,\n",
       " 923: 0.0003780005,\n",
       " 924: 0.0003780005,\n",
       " 925: 0.0003780005,\n",
       " 926: 0.0003780005,\n",
       " 927: 0.0003780005,\n",
       " 928: 0.0003780005,\n",
       " 929: 0.0003780005,\n",
       " 930: 0.0003780005,\n",
       " 931: 0.0003780005,\n",
       " 932: 0.0003780005,\n",
       " 933: 0.0003780005,\n",
       " 934: 0.0003780005,\n",
       " 935: 0.0003780005,\n",
       " 936: 0.0003780005,\n",
       " 937: 0.0004967981,\n",
       " 938: 0.0003780005,\n",
       " 939: 0.0003780005,\n",
       " 940: 0.0003780005,\n",
       " 941: 0.0003780005,\n",
       " 942: 0.0003780005,\n",
       " 943: 0.0003780005,\n",
       " 944: 0.0003780005,\n",
       " 945: 0.0003780005,\n",
       " 946: 0.0003780005,\n",
       " 947: 0.0003780005,\n",
       " 948: 0.0003780005,\n",
       " 949: 0.0003780005,\n",
       " 950: 0.0003780005,\n",
       " 951: 0.0003780005,\n",
       " 952: 0.0003780005,\n",
       " 953: 0.0003780005,\n",
       " 954: 0.0003780005,\n",
       " 955: 0.0003780005,\n",
       " 956: 0.0003780005,\n",
       " 957: 0.0003780005,\n",
       " 958: 0.0003780005,\n",
       " 959: 0.0004422646,\n",
       " 960: 0.0003780005,\n",
       " 961: 0.0003780005,\n",
       " 962: 0.0003780005,\n",
       " 963: 0.0003780005,\n",
       " 964: 0.0003780005,\n",
       " 965: 0.0004072115,\n",
       " 966: 0.0003780005,\n",
       " 967: 0.0003780005,\n",
       " 968: 0.0003780005,\n",
       " 969: 0.0003780005,\n",
       " 970: 0.0003780005,\n",
       " 971: 0.0003780005,\n",
       " 972: 0.0003780005,\n",
       " 973: 0.0003780005,\n",
       " 974: 0.0003780005,\n",
       " 975: 0.0003780005,\n",
       " 976: 0.0003780005,\n",
       " 977: 0.0003780005,\n",
       " 978: 0.0003780005,\n",
       " 979: 0.0003780005,\n",
       " 980: 0.0003780005,\n",
       " 981: 0.0003780005,\n",
       " 982: 0.0003780005,\n",
       " 983: 0.0003780005,\n",
       " 984: 0.0003780005,\n",
       " 985: 0.0003780005,\n",
       " 986: 0.0003780005,\n",
       " 987: 0.0003780005,\n",
       " 988: 0.0003780005,\n",
       " 989: 0.0003780005,\n",
       " 990: 0.0003780005,\n",
       " 991: 0.0003780005,\n",
       " 992: 0.0003780005,\n",
       " 993: 0.0003780005,\n",
       " 994: 0.0003780005,\n",
       " 995: 0.0003780005,\n",
       " 996: 0.0011974215,\n",
       " 997: 0.0003780005,\n",
       " 998: 0.0003780005,\n",
       " 999: 0.0003780005}"
      ]
     },
     "execution_count": 5,
     "metadata": {},
     "output_type": "execute_result"
    }
   ],
   "source": [
    "pagerank = {node: round(pr, 10) for node, pr in pagerank.items()}\n",
    "pagerank"
   ]
  },
  {
   "cell_type": "code",
   "execution_count": null,
   "id": "275b248e-4498-42df-90d5-2fa02db6c67d",
   "metadata": {},
   "outputs": [],
   "source": []
  }
 ],
 "metadata": {
  "kernelspec": {
   "display_name": "Python [conda env:network] *",
   "language": "python",
   "name": "conda-env-network-py"
  },
  "language_info": {
   "codemirror_mode": {
    "name": "ipython",
    "version": 3
   },
   "file_extension": ".py",
   "mimetype": "text/x-python",
   "name": "python",
   "nbconvert_exporter": "python",
   "pygments_lexer": "ipython3",
   "version": "3.9.20"
  }
 },
 "nbformat": 4,
 "nbformat_minor": 5
}
